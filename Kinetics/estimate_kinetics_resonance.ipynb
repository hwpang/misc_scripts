{
 "cells": [
  {
   "cell_type": "code",
   "execution_count": null,
   "metadata": {},
   "outputs": [],
   "source": [
    "import rmgpy\n",
    "from rmgpy.rmg.model import CoreEdgeReactionModel\n",
    "from rmgpy.data.rmg import RMGDatabase\n",
    "from rmgpy.rmg.react import *\n",
    "from rmgpy.reaction import Reaction\n",
    "from rmgpy.molecule.molecule import Molecule\n",
    "from rmgpy.molecule.resonance import *\n",
    "from rmgpy.species import Species\n",
    "from rmgpy.thermo.thermoengine import submit\n",
    "from rmgpy.kinetics.kineticsdata import KineticsData\n",
    "from rmgpy.data.kinetics.family import TemplateReaction\n",
    "from rmgpy.data.kinetics.depository import DepositoryReaction\n",
    "from rmgpy.kinetics.arrhenius import Arrhenius\n",
    "\n",
    "from IPython.display import display"
   ]
  },
  {
   "cell_type": "code",
   "execution_count": null,
   "metadata": {},
   "outputs": [],
   "source": [
    "%matplotlib inline\n",
    "import matplotlib as mpl\n",
    "import matplotlib.pyplot as plt\n",
    "import numpy as np"
   ]
  },
  {
   "cell_type": "markdown",
   "metadata": {},
   "source": [
    "## Load Database"
   ]
  },
  {
   "cell_type": "code",
   "execution_count": null,
   "metadata": {},
   "outputs": [],
   "source": [
    "families = ['R_Addition_MultipleBond']"
   ]
  },
  {
   "cell_type": "code",
   "execution_count": null,
   "metadata": {},
   "outputs": [],
   "source": [
    "databasePath = rmgpy.settings['database.directory']\n",
    "\n",
    "database = RMGDatabase()\n",
    "database.load(\n",
    "    path = databasePath,\n",
    "    thermoLibraries = ['primaryThermoLibrary', 'C10H11'],\n",
    "    reactionLibraries = [],\n",
    "    seedMechanisms = [],\n",
    "    kineticsFamilies = families,\n",
    ")\n",
    "\n",
    "for family in database.kinetics.families.itervalues():\n",
    "    family.addKineticsRulesFromTrainingSet(thermoDatabase=database.thermo)\n",
    "    family.fillKineticsRulesByAveragingUp(verbose=True)"
   ]
  },
  {
   "cell_type": "markdown",
   "metadata": {},
   "source": [
    "## Generate species combos to react"
   ]
  },
  {
   "cell_type": "code",
   "execution_count": null,
   "metadata": {},
   "outputs": [],
   "source": [
    "benz = Species().fromSMILES('c12ccccc1cccc2')\n",
    "benz.generate_resonance_structures()\n",
    "arom = benz.molecule[1]\n",
    "display(arom)\n",
    "keku = benz.molecule[0]\n",
    "display(keku)\n",
    "\n",
    "combos = [\n",
    "    (Species(molecule=[keku]), Species().fromSMILES('[H]')),\n",
    "    (Species(molecule=[arom]), Species().fromSMILES('[H]')),\n",
    "    (Species(molecule=[keku]), Species().fromSMILES('[CH3]')),\n",
    "    (Species(molecule=[arom]), Species().fromSMILES('[CH3]')),\n",
    "    (Species(molecule=[keku]), Species().fromSMILES('[OH]')),\n",
    "    (Species(molecule=[arom]), Species().fromSMILES('[OH]')),\n",
    "    (Species(molecule=[keku]), Species().fromSMILES('[c]1ccccc1')),\n",
    "    (Species(molecule=[arom]), Species().fromSMILES('[c]1ccccc1')),\n",
    "]\n",
    "\n",
    "for c in combos:\n",
    "    submit(c[1])"
   ]
  },
  {
   "cell_type": "markdown",
   "metadata": {},
   "source": [
    "## Generate reactions and apply kinetics"
   ]
  },
  {
   "cell_type": "code",
   "execution_count": null,
   "metadata": {},
   "outputs": [],
   "source": [
    "cerm = CoreEdgeReactionModel()\n",
    "\n",
    "for reactants in combos:\n",
    "    result = reactSpecies(reactants)\n",
    "    print len(result)\n",
    "\n",
    "    for rxn0 in result:\n",
    "        rxn1 = cerm.makeNewReaction(rxn0, checkExisting=False)\n",
    "    for rxn0 in cerm.newReactionList:\n",
    "        cerm.applyKineticsToReaction(rxn0)\n",
    "        if isinstance(rxn0.kinetics, KineticsData):\n",
    "            rxn0.kinetics = reaction.kinetics.toArrhenius()\n",
    "        if isinstance(rxn0,TemplateReaction) or isinstance(rxn0,DepositoryReaction):\n",
    "            rxn0.fixBarrierHeight()"
   ]
  },
  {
   "cell_type": "markdown",
   "metadata": {},
   "source": [
    "## View all generated reactions"
   ]
  },
  {
   "cell_type": "code",
   "execution_count": null,
   "metadata": {
    "scrolled": false
   },
   "outputs": [],
   "source": [
    "for i, rxn0 in enumerate(cerm.newReactionList):\n",
    "    print i\n",
    "    display(rxn0)\n",
    "    print rxn0.template\n",
    "    print rxn0.kinetics"
   ]
  },
  {
   "cell_type": "markdown",
   "metadata": {},
   "source": [
    "## Select reactions to plot"
   ]
  },
  {
   "cell_type": "code",
   "execution_count": null,
   "metadata": {},
   "outputs": [],
   "source": [
    "# Aromatics\n",
    "selected = [\n",
    "    [8, 12],\n",
    "#    [15, 19],\n",
    "    [22, 26],\n",
    "]\n",
    "\n",
    "literature = [\n",
    "    [Arrhenius(A=(2.195e-3,'m^3/(mol*s)'), n=2.88, Ea=(45655.81,'J/mol'), T0=(1,'K'))],\n",
    "#    [Arrhenius(A=(2.29e12,'cm^3/(mol*s)'), n=0, Ea=(0.68,'kcal/mol'), T0=(1,'K'))],\n",
    "    [Arrhenius(A=(9.5499e11,'cm^3/(mol*s)'), n=0, Ea=(4.308,'kcal/mol'), T0=(1,'K'))],\n",
    "]\n",
    "\n",
    "labels = [\n",
    "    'Double',\n",
    "    'Aromatic',\n",
    "    'Literature',\n",
    "]\n",
    "\n",
    "filename = 'aromatic_bonds.png'"
   ]
  },
  {
   "cell_type": "code",
   "execution_count": null,
   "metadata": {
    "scrolled": false
   },
   "outputs": [],
   "source": [
    "for rxns in selected:\n",
    "    for rxn in rxns:\n",
    "        rxn0 = cerm.newReactionList[rxn]\n",
    "        display(rxn0)\n",
    "        print rxn0.template\n",
    "        print rxn0.kinetics"
   ]
  },
  {
   "cell_type": "markdown",
   "metadata": {},
   "source": [
    "## Plot reaction kinetics"
   ]
  },
  {
   "cell_type": "code",
   "execution_count": null,
   "metadata": {},
   "outputs": [],
   "source": [
    "# plt.rcParams['font.sans-serif'] = ['Source Sans Pro']\n",
    "\n",
    "fs = 16  # font size\n",
    "\n",
    "pressure = 1e5 # Pa\n",
    "temperature = np.linspace(298, 2000, 20)\n",
    "\n",
    "plt.style.use('seaborn-talk')\n",
    "\n",
    "fig, axarr = plt.subplots(1, 2, figsize=(8,3), squeeze=False)\n",
    "\n",
    "colormap = mpl.cm.Set1\n",
    "\n",
    "for i, indices in enumerate(selected):\n",
    "    if i < 3:\n",
    "        ax = axarr[0, i]\n",
    "    else:\n",
    "        ax = axarr[1, i - 3]\n",
    "    \n",
    "    for j, index in enumerate(indices + literature[i]):\n",
    "        if isinstance(index, int):\n",
    "            rate = cerm.newReactionList[index].kinetics\n",
    "        else:\n",
    "            rate = index\n",
    "        kunits = rate.A.units\n",
    "        print kunits\n",
    "        # Evaluate kinetics\n",
    "        k = []\n",
    "        for t in temperature:\n",
    "            if 'm^3' in kunits:\n",
    "                k.append(1e6 * rate.getRateCoefficient(t, pressure))\n",
    "            else:\n",
    "                k.append(rate.getRateCoefficient(t, pressure))\n",
    "\n",
    "        x = 1000 / temperature\n",
    "\n",
    "        ax.semilogy(x, k, color=colormap(j))\n",
    "    \n",
    "    ax.set_xlabel('1000/T (K)', fontsize=fs)\n",
    "    ax.set_ylabel('k (' + kunits + ')', fontsize=fs)\n",
    "    ax.legend(labels, loc=3)\n",
    "\n",
    "fig.tight_layout()\n",
    "plt.savefig(filename, dpi=300)"
   ]
  },
  {
   "cell_type": "code",
   "execution_count": null,
   "metadata": {},
   "outputs": [],
   "source": []
  }
 ],
 "metadata": {
  "anaconda-cloud": {},
  "kernelspec": {
   "display_name": "Python 2",
   "language": "python",
   "name": "python2"
  },
  "language_info": {
   "codemirror_mode": {
    "name": "ipython",
    "version": 2
   },
   "file_extension": ".py",
   "mimetype": "text/x-python",
   "name": "python",
   "nbconvert_exporter": "python",
   "pygments_lexer": "ipython2",
   "version": "2.7.15"
  }
 },
 "nbformat": 4,
 "nbformat_minor": 1
}
