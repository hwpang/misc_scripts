{
 "cells": [
  {
   "cell_type": "code",
   "execution_count": 5,
   "metadata": {
    "collapsed": true
   },
   "outputs": [],
   "source": [
    "from rmgpy.molecule import Molecule\n",
    "from rmgpy.molecule.resonance import *\n",
    "\n",
    "import time"
   ]
  },
  {
   "cell_type": "code",
   "execution_count": 47,
   "metadata": {
    "collapsed": false
   },
   "outputs": [],
   "source": [
    "mol = Molecule(SMILES='C1CC2CCC1CC2')\n",
    "#res = generateAromaticResonanceStructures(mol)\n",
    "#res[0]"
   ]
  },
  {
   "cell_type": "code",
   "execution_count": 51,
   "metadata": {
    "collapsed": false
   },
   "outputs": [
    {
     "data": {
      "text/plain": [
       "[[<Atom 'C'>, <Atom 'C'>, <Atom 'C'>, <Atom 'C'>, <Atom 'C'>, <Atom 'C'>],\n",
       " [<Atom 'C'>, <Atom 'C'>, <Atom 'C'>, <Atom 'C'>, <Atom 'C'>, <Atom 'C'>],\n",
       " [<Atom 'C'>, <Atom 'C'>, <Atom 'C'>, <Atom 'C'>, <Atom 'C'>, <Atom 'C'>]]"
      ]
     },
     "execution_count": 51,
     "metadata": {},
     "output_type": "execute_result"
    }
   ],
   "source": [
    "mol.getAllCyclesOfSize(6)"
   ]
  },
  {
   "cell_type": "code",
   "execution_count": 42,
   "metadata": {
    "collapsed": true
   },
   "outputs": [],
   "source": [
    "molecule = res[0]\n",
    "\n",
    "aromaticAtomTypes = ['Cb', 'Cbf']\n",
    "\n",
    "aromaticAtoms = [atom for atom in molecule.atoms if atom.atomType.label in aromaticAtomTypes]\n",
    "\n",
    "aromaticRings = set()\n",
    "for atom in aromaticAtoms:\n",
    "    cycles = molecule.getAllCycles(atom)\n",
    "    aromaticRings.update([frozenset(cycle) for cycle in cycles])"
   ]
  },
  {
   "cell_type": "code",
   "execution_count": 43,
   "metadata": {
    "collapsed": false
   },
   "outputs": [
    {
     "data": {
      "text/plain": [
       "[<Atom 'C'>,\n",
       " <Atom 'C'>,\n",
       " <Atom 'C'>,\n",
       " <Atom 'C'>,\n",
       " <Atom 'C'>,\n",
       " <Atom 'C'>,\n",
       " <Atom 'C'>,\n",
       " <Atom 'C'>,\n",
       " <Atom 'C'>,\n",
       " <Atom 'C'>,\n",
       " <Atom 'C'>,\n",
       " <Atom 'C'>,\n",
       " <Atom 'C'>,\n",
       " <Atom 'C'>]"
      ]
     },
     "execution_count": 43,
     "metadata": {},
     "output_type": "execute_result"
    }
   ],
   "source": [
    "aromaticAtoms"
   ]
  },
  {
   "cell_type": "code",
   "execution_count": 44,
   "metadata": {
    "collapsed": false
   },
   "outputs": [
    {
     "data": {
      "text/plain": [
       "{frozenset({<Atom 'C'>,\n",
       "            <Atom 'C'>,\n",
       "            <Atom 'C'>,\n",
       "            <Atom 'C'>,\n",
       "            <Atom 'C'>,\n",
       "            <Atom 'C'>}),\n",
       " frozenset({<Atom 'C'>,\n",
       "            <Atom 'C'>,\n",
       "            <Atom 'C'>,\n",
       "            <Atom 'C'>,\n",
       "            <Atom 'C'>,\n",
       "            <Atom 'C'>,\n",
       "            <Atom 'C'>,\n",
       "            <Atom 'C'>,\n",
       "            <Atom 'C'>,\n",
       "            <Atom 'C'>}),\n",
       " frozenset({<Atom 'C'>,\n",
       "            <Atom 'C'>,\n",
       "            <Atom 'C'>,\n",
       "            <Atom 'C'>,\n",
       "            <Atom 'C'>,\n",
       "            <Atom 'C'>}),\n",
       " frozenset({<Atom 'C'>,\n",
       "            <Atom 'C'>,\n",
       "            <Atom 'C'>,\n",
       "            <Atom 'C'>,\n",
       "            <Atom 'C'>,\n",
       "            <Atom 'C'>,\n",
       "            <Atom 'C'>,\n",
       "            <Atom 'C'>,\n",
       "            <Atom 'C'>,\n",
       "            <Atom 'C'>}),\n",
       " frozenset({<Atom 'C'>,\n",
       "            <Atom 'C'>,\n",
       "            <Atom 'C'>,\n",
       "            <Atom 'C'>,\n",
       "            <Atom 'C'>,\n",
       "            <Atom 'C'>}),\n",
       " frozenset({<Atom 'C'>,\n",
       "            <Atom 'C'>,\n",
       "            <Atom 'C'>,\n",
       "            <Atom 'C'>,\n",
       "            <Atom 'C'>,\n",
       "            <Atom 'C'>,\n",
       "            <Atom 'C'>,\n",
       "            <Atom 'C'>,\n",
       "            <Atom 'C'>,\n",
       "            <Atom 'C'>,\n",
       "            <Atom 'C'>,\n",
       "            <Atom 'C'>,\n",
       "            <Atom 'C'>,\n",
       "            <Atom 'C'>})}"
      ]
     },
     "execution_count": 44,
     "metadata": {},
     "output_type": "execute_result"
    }
   ],
   "source": [
    "aromaticRings"
   ]
  },
  {
   "cell_type": "code",
   "execution_count": null,
   "metadata": {
    "collapsed": true
   },
   "outputs": [],
   "source": []
  }
 ],
 "metadata": {
  "kernelspec": {
   "display_name": "Python [conda env:rmg_env]",
   "language": "python",
   "name": "conda-env-rmg_env-py"
  },
  "language_info": {
   "codemirror_mode": {
    "name": "ipython",
    "version": 2
   },
   "file_extension": ".py",
   "mimetype": "text/x-python",
   "name": "python",
   "nbconvert_exporter": "python",
   "pygments_lexer": "ipython2",
   "version": "2.7.12"
  }
 },
 "nbformat": 4,
 "nbformat_minor": 1
}
