{
 "cells": [
  {
   "cell_type": "code",
   "execution_count": 1,
   "metadata": {
    "collapsed": true
   },
   "outputs": [],
   "source": [
    "import timeit\n",
    "import numpy as np"
   ]
  },
  {
   "cell_type": "code",
   "execution_count": 2,
   "metadata": {
    "collapsed": false
   },
   "outputs": [
    {
     "data": {
      "text/plain": [
       "[Molecule(SMILES=\"[CH2]C1C=CC=CC=1\"),\n",
       " Molecule(SMILES=\"C=C1[CH]C=CC=C1\"),\n",
       " Molecule(SMILES=\"[CH2]c1ccccc1\"),\n",
       " Molecule(SMILES=\"C=C1C=C[CH]C=C1\")]"
      ]
     },
     "execution_count": 2,
     "metadata": {},
     "output_type": "execute_result"
    }
   ],
   "source": [
    "from rmgpy.molecule import Molecule\n",
    "from rmgpy.molecule.resonance import generateResonanceIsomers\n",
    "mol = Molecule(SMILES='[CH2]c1ccccc1')\n",
    "out = generateResonanceIsomers(mol)\n",
    "molList = [mol]\n",
    "\n",
    "#for mol in out:\n",
    "#    if mol not in molList:\n",
    "#        molList.append(mol)\n",
    "\n",
    "\n",
    "molList.extend([mol for mol in out if mol not in molList])\n",
    "\n",
    "\n",
    "molList"
   ]
  },
  {
   "cell_type": "code",
   "execution_count": null,
   "metadata": {
    "collapsed": true
   },
   "outputs": [],
   "source": []
  },
  {
   "cell_type": "code",
   "execution_count": 15,
   "metadata": {
    "collapsed": true
   },
   "outputs": [],
   "source": [
    "setup = \"\"\"\\\n",
    "from rmgpy.molecule import Molecule\n",
    "from rmgpy.molecule.resonance import generateResonanceIsomers\n",
    "mol = Molecule(SMILES='[CH2]c1ccccc1')\n",
    "out = generateResonanceIsomers(mol)\n",
    "molList = [mol]\n",
    "\"\"\"\n",
    "\n",
    "test1 = \"\"\"\\\n",
    "for mol in out:\n",
    "    if mol not in molList:\n",
    "        molList.append(mol)\n",
    "\"\"\"\n",
    "\n",
    "test2 = \"\"\"\\\n",
    "molList.extend([mol for mol in out if mol not in molList])\n",
    "\"\"\"\n",
    "\n",
    "test3 = \"\"\"\\\n",
    "pass\n",
    "\"\"\""
   ]
  },
  {
   "cell_type": "code",
   "execution_count": 19,
   "metadata": {
    "collapsed": false
   },
   "outputs": [
    {
     "name": "stdout",
     "output_type": "stream",
     "text": [
      "0.00369839668274 0.00262101306929\n",
      "0.00231518745422 0.000204371655036\n",
      "6.49213790894e-05 0.000133566380074\n"
     ]
    }
   ],
   "source": [
    "result = timeit.repeat(test1, setup, repeat=10, number=100)\n",
    "result = np.array(result)\n",
    "print np.mean(result), np.std(result)\n",
    "\n",
    "result = timeit.repeat(test2, setup, repeat=10, number=100)\n",
    "result = np.array(result)\n",
    "print np.mean(result), np.std(result)\n",
    "\n",
    "result = timeit.repeat(test3, setup, repeat=10, number=100)\n",
    "result = np.array(result)\n",
    "print np.mean(result), np.std(result)"
   ]
  },
  {
   "cell_type": "code",
   "execution_count": null,
   "metadata": {
    "collapsed": true
   },
   "outputs": [],
   "source": []
  }
 ],
 "metadata": {
  "anaconda-cloud": {},
  "kernelspec": {
   "display_name": "Python [conda env:rmg_env]",
   "language": "python",
   "name": "conda-env-rmg_env-py"
  },
  "language_info": {
   "codemirror_mode": {
    "name": "ipython",
    "version": 2
   },
   "file_extension": ".py",
   "mimetype": "text/x-python",
   "name": "python",
   "nbconvert_exporter": "python",
   "pygments_lexer": "ipython2",
   "version": "2.7.12"
  }
 },
 "nbformat": 4,
 "nbformat_minor": 1
}
