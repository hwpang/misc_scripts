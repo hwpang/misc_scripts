{
 "cells": [
  {
   "cell_type": "code",
   "execution_count": null,
   "metadata": {
    "collapsed": false
   },
   "outputs": [],
   "source": [
    "import numpy as np\n",
    "import pandas as pd\n",
    "import re\n",
    "\n",
    "%matplotlib inline\n",
    "import matplotlib as mpl\n",
    "import matplotlib.pyplot as plt"
   ]
  },
  {
   "cell_type": "code",
   "execution_count": null,
   "metadata": {
    "collapsed": false,
    "scrolled": true
   },
   "outputs": [],
   "source": [
    "def get_data(filepath, i=-1):\n",
    "    data = pd.read_csv(filepath)\n",
    "\n",
    "    reactions = []\n",
    "    species = []\n",
    "    for column in data.columns:\n",
    "        if 'dln[k' in column:\n",
    "            reactions.append((column, data[column].iloc[-1]))\n",
    "        elif 'dG[' in column:\n",
    "            species.append((column, data[column].iloc[-1]))\n",
    "\n",
    "    reactions.sort(key=lambda x: abs(x[1]), reverse=True)\n",
    "    species.sort(key=lambda x: abs(x[1]), reverse=True)\n",
    "    \n",
    "    return reactions, species"
   ]
  },
  {
   "cell_type": "code",
   "execution_count": null,
   "metadata": {
    "collapsed": false
   },
   "outputs": [],
   "source": [
    "def plot_sens(data, n, xlab, ylab=None):\n",
    "    plt.style.use('seaborn-paper')\n",
    "    plt.rcParams['axes.labelsize'] = 16\n",
    "    plt.rcParams['xtick.labelsize'] = 12\n",
    "    plt.rcParams['ytick.labelsize'] = 12\n",
    "\n",
    "    fig, ax = plt.subplots(figsize=(3, 3))\n",
    "\n",
    "    selected = data[:n]\n",
    "\n",
    "    labels, values = zip(*selected)\n",
    "    pos = np.arange(len(labels))\n",
    "\n",
    "    ax.barh(pos, values, color='k')\n",
    "    \n",
    "    #ax.set_aspect('equal', adjustable='box')\n",
    "\n",
    "    ax.invert_yaxis()\n",
    "    ax.set_yticks(pos)\n",
    "    if ylab is not None:\n",
    "        ax.set_yticklabels(ylab)\n",
    "    else:\n",
    "        ax.set_yticklabels(labels)\n",
    "\n",
    "    ax.set_xlabel(xlab)"
   ]
  },
  {
   "cell_type": "code",
   "execution_count": null,
   "metadata": {
    "collapsed": false
   },
   "outputs": [],
   "source": [
    "filepath = '/home/mjliu/Documents/Models/Naphthalene/acetylene/run10/sensitivity/sensitivity_1_SPC_1.csv'\n",
    "\n",
    "reactions, species = get_data(filepath)\n",
    "\n",
    "ylab_rxn = [\n",
    "    '1-iodonaphthalene + H = naphthalene + I',\n",
    "    '1-naphthyl + C2H2 = 1-vinylnaphthalene',\n",
    "    '1-naphthyl + H = naphthalene',\n",
    "    'H + C2H3 = H2 + H2CC',\n",
    "    'H + C2H2 (+M) = C2H3 (+M)',\n",
    "]\n",
    "\n",
    "ylab_spc = [\n",
    "    'C2H2',\n",
    "    'naphthalene',\n",
    "    'H',\n",
    "    'C2H3',\n",
    "    'C1=CC2CC=C1c1ccccc12',\n",
    "]\n",
    "\n",
    "plot_sens(reactions, 5, 'dln(c)/dln(k)')#, ylab_rxn)\n",
    "plot_sens(species, 5, 'dln(c)/dG (mol/kcal)')#, ylab_spc)"
   ]
  },
  {
   "cell_type": "code",
   "execution_count": null,
   "metadata": {
    "collapsed": false
   },
   "outputs": [],
   "source": [
    "filepath = '/home/mjliu/Documents/Models/Naphthalene/acetylene/run10/sensitivity/sensitivity_1_SPC_5.csv'\n",
    "\n",
    "reactions, species = get_data(filepath)\n",
    "\n",
    "ylab_rxn = [\n",
    "    '1-naphthyl + C2H2 = 1-vinylnaphthalene',\n",
    "    '1-iodonaphthalene + H = naphthalene + I',\n",
    "    '2-naphthyl = 1-naphthyl',\n",
    "    '1-naphthyl + H = naphthalene',\n",
    "    '1-vinylnaphthalene = [CH]1C=CC2C=Cc3cccc1c32',\n",
    "]\n",
    "\n",
    "ylab_spc = [\n",
    "    '1-naphthyl',\n",
    "    '2-naphthyl',\n",
    "    '1-vinylnaphthalene',\n",
    "    '[CH]1C=C2C=CC1c1ccccc12',\n",
    "    'H',\n",
    "]\n",
    "\n",
    "plot_sens(reactions, 5, 'dln(c)/dln(k)')#, ylab_rxn)\n",
    "plot_sens(species, 5, 'dln(c)/dG (mol/kcal)')#, ylab_spc)"
   ]
  },
  {
   "cell_type": "code",
   "execution_count": null,
   "metadata": {
    "collapsed": true
   },
   "outputs": [],
   "source": []
  }
 ],
 "metadata": {
  "anaconda-cloud": {},
  "kernelspec": {
   "display_name": "Python [conda env:rmg_env]",
   "language": "python",
   "name": "conda-env-rmg_env-py"
  },
  "language_info": {
   "codemirror_mode": {
    "name": "ipython",
    "version": 2
   },
   "file_extension": ".py",
   "mimetype": "text/x-python",
   "name": "python",
   "nbconvert_exporter": "python",
   "pygments_lexer": "ipython2",
   "version": "2.7.13"
  }
 },
 "nbformat": 4,
 "nbformat_minor": 1
}
