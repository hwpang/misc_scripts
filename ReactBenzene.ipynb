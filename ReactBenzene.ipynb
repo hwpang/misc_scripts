{
 "cells": [
  {
   "cell_type": "code",
   "execution_count": 1,
   "metadata": {
    "collapsed": false
   },
   "outputs": [],
   "source": [
    "import rmgpy\n",
    "from rmgpy.data.rmg import RMGDatabase\n",
    "from rmgpy.reaction import Reaction\n",
    "from rmgpy.molecule import Molecule, Bond, PeriodicSystem\n",
    "from rmgpy.molecule.resonance import *\n",
    "\n",
    "import numpy as np\n",
    "import time"
   ]
  },
  {
   "cell_type": "code",
   "execution_count": 2,
   "metadata": {
    "collapsed": false
   },
   "outputs": [
    {
     "name": "stdout",
     "output_type": "stream",
     "text": [
      "> /home/mjliu/Code/RMG-Py/rmgpy/data/kinetics/family.py(1095)applyRecipe()\n",
      "-> if isinstance(reactantStructure, Molecule) and not reactantStructure.props['valid']:\n",
      "(Pdb) c\n",
      "> /home/mjliu/Code/RMG-Py/rmgpy/data/kinetics/family.py(1095)applyRecipe()\n",
      "-> if isinstance(reactantStructure, Molecule) and not reactantStructure.props['valid']:\n",
      "(Pdb) c\n",
      "> /home/mjliu/Code/RMG-Py/rmgpy/data/kinetics/family.py(1095)applyRecipe()\n",
      "-> if isinstance(reactantStructure, Molecule) and not reactantStructure.props['valid']:\n",
      "(Pdb) c\n",
      "> /home/mjliu/Code/RMG-Py/rmgpy/data/kinetics/family.py(1095)applyRecipe()\n",
      "-> if isinstance(reactantStructure, Molecule) and not reactantStructure.props['valid']:\n",
      "(Pdb) c\n",
      "> /home/mjliu/Code/RMG-Py/rmgpy/data/kinetics/family.py(1095)applyRecipe()\n",
      "-> if isinstance(reactantStructure, Molecule) and not reactantStructure.props['valid']:\n",
      "(Pdb) c\n",
      "> /home/mjliu/Code/RMG-Py/rmgpy/data/kinetics/family.py(1095)applyRecipe()\n",
      "-> if isinstance(reactantStructure, Molecule) and not reactantStructure.props['valid']:\n",
      "(Pdb) c\n",
      "> /home/mjliu/Code/RMG-Py/rmgpy/data/kinetics/family.py(1095)applyRecipe()\n",
      "-> if isinstance(reactantStructure, Molecule) and not reactantStructure.props['valid']:\n",
      "(Pdb) c\n",
      "> /home/mjliu/Code/RMG-Py/rmgpy/data/kinetics/family.py(1095)applyRecipe()\n",
      "-> if isinstance(reactantStructure, Molecule) and not reactantStructure.props['valid']:\n",
      "(Pdb) c\n",
      "> /home/mjliu/Code/RMG-Py/rmgpy/data/kinetics/family.py(1095)applyRecipe()\n",
      "-> if isinstance(reactantStructure, Molecule) and not reactantStructure.props['valid']:\n",
      "(Pdb) c\n",
      "> /home/mjliu/Code/RMG-Py/rmgpy/data/kinetics/family.py(1095)applyRecipe()\n",
      "-> if isinstance(reactantStructure, Molecule) and not reactantStructure.props['valid']:\n",
      "(Pdb) c\n",
      "> /home/mjliu/Code/RMG-Py/rmgpy/data/kinetics/family.py(1095)applyRecipe()\n",
      "-> if isinstance(reactantStructure, Molecule) and not reactantStructure.props['valid']:\n",
      "(Pdb) c\n",
      "> /home/mjliu/Code/RMG-Py/rmgpy/data/kinetics/family.py(1095)applyRecipe()\n",
      "-> if isinstance(reactantStructure, Molecule) and not reactantStructure.props['valid']:\n",
      "(Pdb) c\n",
      "> /home/mjliu/Code/RMG-Py/rmgpy/data/kinetics/family.py(1095)applyRecipe()\n",
      "-> if isinstance(reactantStructure, Molecule) and not reactantStructure.props['valid']:\n",
      "(Pdb) c\n",
      "> /home/mjliu/Code/RMG-Py/rmgpy/data/kinetics/family.py(1095)applyRecipe()\n",
      "-> if isinstance(reactantStructure, Molecule) and not reactantStructure.props['valid']:\n",
      "(Pdb) c\n",
      "> /home/mjliu/Code/RMG-Py/rmgpy/data/kinetics/family.py(1095)applyRecipe()\n",
      "-> if isinstance(reactantStructure, Molecule) and not reactantStructure.props['valid']:\n",
      "(Pdb) c\n",
      "> /home/mjliu/Code/RMG-Py/rmgpy/data/kinetics/family.py(1095)applyRecipe()\n",
      "-> if isinstance(reactantStructure, Molecule) and not reactantStructure.props['valid']:\n",
      "(Pdb) c\n",
      "> /home/mjliu/Code/RMG-Py/rmgpy/data/kinetics/family.py(1095)applyRecipe()\n",
      "-> if isinstance(reactantStructure, Molecule) and not reactantStructure.props['valid']:\n",
      "(Pdb) c\n",
      "> /home/mjliu/Code/RMG-Py/rmgpy/data/kinetics/family.py(1095)applyRecipe()\n",
      "-> if isinstance(reactantStructure, Molecule) and not reactantStructure.props['valid']:\n",
      "(Pdb) c\n",
      "> /home/mjliu/Code/RMG-Py/rmgpy/data/kinetics/family.py(1095)applyRecipe()\n",
      "-> if isinstance(reactantStructure, Molecule) and not reactantStructure.props['valid']:\n",
      "(Pdb) c\n",
      "> /home/mjliu/Code/RMG-Py/rmgpy/data/kinetics/family.py(1095)applyRecipe()\n",
      "-> if isinstance(reactantStructure, Molecule) and not reactantStructure.props['valid']:\n",
      "(Pdb) c\n",
      "> /home/mjliu/Code/RMG-Py/rmgpy/data/kinetics/family.py(1095)applyRecipe()\n",
      "-> if isinstance(reactantStructure, Molecule) and not reactantStructure.props['valid']:\n",
      "(Pdb) c\n",
      "> /home/mjliu/Code/RMG-Py/rmgpy/data/kinetics/family.py(1095)applyRecipe()\n",
      "-> if isinstance(reactantStructure, Molecule) and not reactantStructure.props['valid']:\n",
      "(Pdb) c\n",
      "> /home/mjliu/Code/RMG-Py/rmgpy/data/kinetics/family.py(1095)applyRecipe()\n",
      "-> if isinstance(reactantStructure, Molecule) and not reactantStructure.props['valid']:\n",
      "(Pdb) c\n",
      "> /home/mjliu/Code/RMG-Py/rmgpy/data/kinetics/family.py(1095)applyRecipe()\n",
      "-> if isinstance(reactantStructure, Molecule) and not reactantStructure.props['valid']:\n",
      "(Pdb) c\n",
      "> /home/mjliu/Code/RMG-Py/rmgpy/data/kinetics/family.py(1095)applyRecipe()\n",
      "-> if isinstance(reactantStructure, Molecule) and not reactantStructure.props['valid']:\n",
      "(Pdb) c\n",
      "> /home/mjliu/Code/RMG-Py/rmgpy/data/kinetics/family.py(1095)applyRecipe()\n",
      "-> if isinstance(reactantStructure, Molecule) and not reactantStructure.props['valid']:\n",
      "(Pdb) c\n",
      "> /home/mjliu/Code/RMG-Py/rmgpy/data/kinetics/family.py(1095)applyRecipe()\n",
      "-> if isinstance(reactantStructure, Molecule) and not reactantStructure.props['valid']:\n",
      "(Pdb) c\n",
      "> /home/mjliu/Code/RMG-Py/rmgpy/data/kinetics/family.py(1095)applyRecipe()\n",
      "-> if isinstance(reactantStructure, Molecule) and not reactantStructure.props['valid']:\n",
      "(Pdb) c\n",
      "> /home/mjliu/Code/RMG-Py/rmgpy/data/kinetics/family.py(1095)applyRecipe()\n",
      "-> if isinstance(reactantStructure, Molecule) and not reactantStructure.props['valid']:\n",
      "(Pdb) c\n",
      "> /home/mjliu/Code/RMG-Py/rmgpy/data/kinetics/family.py(1095)applyRecipe()\n",
      "-> if isinstance(reactantStructure, Molecule) and not reactantStructure.props['valid']:\n",
      "(Pdb) c\n",
      "> /home/mjliu/Code/RMG-Py/rmgpy/data/kinetics/family.py(1095)applyRecipe()\n",
      "-> if isinstance(reactantStructure, Molecule) and not reactantStructure.props['valid']:\n",
      "(Pdb) c\n",
      "> /home/mjliu/Code/RMG-Py/rmgpy/data/kinetics/family.py(1095)applyRecipe()\n",
      "-> if isinstance(reactantStructure, Molecule) and not reactantStructure.props['valid']:\n",
      "(Pdb) c\n",
      "> /home/mjliu/Code/RMG-Py/rmgpy/data/kinetics/family.py(1095)applyRecipe()\n",
      "-> if isinstance(reactantStructure, Molecule) and not reactantStructure.props['valid']:\n",
      "(Pdb) c\n",
      "> /home/mjliu/Code/RMG-Py/rmgpy/data/kinetics/family.py(1095)applyRecipe()\n",
      "-> if isinstance(reactantStructure, Molecule) and not reactantStructure.props['valid']:\n",
      "(Pdb) c\n",
      "> /home/mjliu/Code/RMG-Py/rmgpy/data/kinetics/family.py(1095)applyRecipe()\n",
      "-> if isinstance(reactantStructure, Molecule) and not reactantStructure.props['valid']:\n",
      "(Pdb) c\n",
      "> /home/mjliu/Code/RMG-Py/rmgpy/data/kinetics/family.py(1095)applyRecipe()\n",
      "-> if isinstance(reactantStructure, Molecule) and not reactantStructure.props['valid']:\n",
      "(Pdb) c\n",
      "> /home/mjliu/Code/RMG-Py/rmgpy/data/kinetics/family.py(1095)applyRecipe()\n",
      "-> if isinstance(reactantStructure, Molecule) and not reactantStructure.props['valid']:\n",
      "(Pdb) c\n",
      "> /home/mjliu/Code/RMG-Py/rmgpy/data/kinetics/family.py(1095)applyRecipe()\n",
      "-> if isinstance(reactantStructure, Molecule) and not reactantStructure.props['valid']:\n",
      "(Pdb) c\n",
      "> /home/mjliu/Code/RMG-Py/rmgpy/data/kinetics/family.py(1095)applyRecipe()\n",
      "-> if isinstance(reactantStructure, Molecule) and not reactantStructure.props['valid']:\n",
      "(Pdb) c\n",
      "> /home/mjliu/Code/RMG-Py/rmgpy/data/kinetics/family.py(1095)applyRecipe()\n",
      "-> if isinstance(reactantStructure, Molecule) and not reactantStructure.props['valid']:\n",
      "(Pdb) c\n",
      "> /home/mjliu/Code/RMG-Py/rmgpy/data/kinetics/family.py(1095)applyRecipe()\n",
      "-> if isinstance(reactantStructure, Molecule) and not reactantStructure.props['valid']:\n",
      "(Pdb) c\n",
      "> /home/mjliu/Code/RMG-Py/rmgpy/data/kinetics/family.py(1095)applyRecipe()\n",
      "-> if isinstance(reactantStructure, Molecule) and not reactantStructure.props['valid']:\n",
      "(Pdb) c\n",
      "> /home/mjliu/Code/RMG-Py/rmgpy/data/kinetics/family.py(1095)applyRecipe()\n",
      "-> if isinstance(reactantStructure, Molecule) and not reactantStructure.props['valid']:\n",
      "(Pdb) c\n",
      "> /home/mjliu/Code/RMG-Py/rmgpy/data/kinetics/family.py(1095)applyRecipe()\n",
      "-> if isinstance(reactantStructure, Molecule) and not reactantStructure.props['valid']:\n",
      "(Pdb) c\n",
      "> /home/mjliu/Code/RMG-Py/rmgpy/data/kinetics/family.py(1095)applyRecipe()\n",
      "-> if isinstance(reactantStructure, Molecule) and not reactantStructure.props['valid']:\n",
      "(Pdb) c\n",
      "> /home/mjliu/Code/RMG-Py/rmgpy/data/kinetics/family.py(1095)applyRecipe()\n",
      "-> if isinstance(reactantStructure, Molecule) and not reactantStructure.props['valid']:\n",
      "(Pdb) c\n",
      "> /home/mjliu/Code/RMG-Py/rmgpy/data/kinetics/family.py(1095)applyRecipe()\n",
      "-> if isinstance(reactantStructure, Molecule) and not reactantStructure.props['valid']:\n",
      "(Pdb) c\n",
      "> /home/mjliu/Code/RMG-Py/rmgpy/data/kinetics/family.py(1095)applyRecipe()\n",
      "-> if isinstance(reactantStructure, Molecule) and not reactantStructure.props['valid']:\n",
      "(Pdb) c\n",
      "> /home/mjliu/Code/RMG-Py/rmgpy/data/kinetics/family.py(1095)applyRecipe()\n",
      "-> if isinstance(reactantStructure, Molecule) and not reactantStructure.props['valid']:\n",
      "(Pdb) c\n",
      "> /home/mjliu/Code/RMG-Py/rmgpy/data/kinetics/family.py(1095)applyRecipe()\n",
      "-> if isinstance(reactantStructure, Molecule) and not reactantStructure.props['valid']:\n",
      "(Pdb) c\n",
      "> /home/mjliu/Code/RMG-Py/rmgpy/data/kinetics/family.py(1095)applyRecipe()\n",
      "-> if isinstance(reactantStructure, Molecule) and not reactantStructure.props['valid']:\n",
      "(Pdb) c\n",
      "> /home/mjliu/Code/RMG-Py/rmgpy/data/kinetics/family.py(1095)applyRecipe()\n",
      "-> if isinstance(reactantStructure, Molecule) and not reactantStructure.props['valid']:\n",
      "(Pdb) c\n",
      "> /home/mjliu/Code/RMG-Py/rmgpy/data/kinetics/family.py(1095)applyRecipe()\n",
      "-> if isinstance(reactantStructure, Molecule) and not reactantStructure.props['valid']:\n",
      "(Pdb) c\n",
      "> /home/mjliu/Code/RMG-Py/rmgpy/data/kinetics/family.py(1095)applyRecipe()\n",
      "-> if isinstance(reactantStructure, Molecule) and not reactantStructure.props['valid']:\n",
      "(Pdb) c\n",
      "> /home/mjliu/Code/RMG-Py/rmgpy/data/kinetics/family.py(1095)applyRecipe()\n",
      "-> if isinstance(reactantStructure, Molecule) and not reactantStructure.props['valid']:\n",
      "(Pdb) c\n",
      "> /home/mjliu/Code/RMG-Py/rmgpy/data/kinetics/family.py(1095)applyRecipe()\n",
      "-> if isinstance(reactantStructure, Molecule) and not reactantStructure.props['valid']:\n",
      "(Pdb) c\n",
      "> /home/mjliu/Code/RMG-Py/rmgpy/data/kinetics/family.py(1095)applyRecipe()\n",
      "-> if isinstance(reactantStructure, Molecule) and not reactantStructure.props['valid']:\n",
      "(Pdb) c\n",
      "> /home/mjliu/Code/RMG-Py/rmgpy/data/kinetics/family.py(1095)applyRecipe()\n",
      "-> if isinstance(reactantStructure, Molecule) and not reactantStructure.props['valid']:\n",
      "(Pdb) c\n",
      "> /home/mjliu/Code/RMG-Py/rmgpy/data/kinetics/family.py(1095)applyRecipe()\n",
      "-> if isinstance(reactantStructure, Molecule) and not reactantStructure.props['valid']:\n",
      "(Pdb) c\n",
      "> /home/mjliu/Code/RMG-Py/rmgpy/data/kinetics/family.py(1095)applyRecipe()\n",
      "-> if isinstance(reactantStructure, Molecule) and not reactantStructure.props['valid']:\n",
      "(Pdb) c\n",
      "> /home/mjliu/Code/RMG-Py/rmgpy/data/kinetics/family.py(1095)applyRecipe()\n",
      "-> if isinstance(reactantStructure, Molecule) and not reactantStructure.props['valid']:\n",
      "(Pdb) c\n",
      "> /home/mjliu/Code/RMG-Py/rmgpy/data/kinetics/family.py(1095)applyRecipe()\n",
      "-> if isinstance(reactantStructure, Molecule) and not reactantStructure.props['valid']:\n",
      "(Pdb) c\n",
      "> /home/mjliu/Code/RMG-Py/rmgpy/data/kinetics/family.py(1095)applyRecipe()\n",
      "-> if isinstance(reactantStructure, Molecule) and not reactantStructure.props['valid']:\n",
      "(Pdb) c\n",
      "> /home/mjliu/Code/RMG-Py/rmgpy/data/kinetics/family.py(1095)applyRecipe()\n",
      "-> if isinstance(reactantStructure, Molecule) and not reactantStructure.props['valid']:\n",
      "(Pdb) c\n",
      "> /home/mjliu/Code/RMG-Py/rmgpy/data/kinetics/family.py(1095)applyRecipe()\n",
      "-> if isinstance(reactantStructure, Molecule) and not reactantStructure.props['valid']:\n",
      "(Pdb) c\n",
      "> /home/mjliu/Code/RMG-Py/rmgpy/data/kinetics/family.py(1095)applyRecipe()\n",
      "-> if isinstance(reactantStructure, Molecule) and not reactantStructure.props['valid']:\n",
      "(Pdb) c\n",
      "> /home/mjliu/Code/RMG-Py/rmgpy/data/kinetics/family.py(1095)applyRecipe()\n",
      "-> if isinstance(reactantStructure, Molecule) and not reactantStructure.props['valid']:\n",
      "(Pdb) c\n",
      "> /home/mjliu/Code/RMG-Py/rmgpy/data/kinetics/family.py(1095)applyRecipe()\n",
      "-> if isinstance(reactantStructure, Molecule) and not reactantStructure.props['valid']:\n",
      "(Pdb) c\n",
      "> /home/mjliu/Code/RMG-Py/rmgpy/data/kinetics/family.py(1095)applyRecipe()\n",
      "-> if isinstance(reactantStructure, Molecule) and not reactantStructure.props['valid']:\n",
      "(Pdb) c\n",
      "> /home/mjliu/Code/RMG-Py/rmgpy/data/kinetics/family.py(1095)applyRecipe()\n",
      "-> if isinstance(reactantStructure, Molecule) and not reactantStructure.props['valid']:\n",
      "(Pdb) c\n",
      "> /home/mjliu/Code/RMG-Py/rmgpy/data/kinetics/family.py(1095)applyRecipe()\n",
      "-> if isinstance(reactantStructure, Molecule) and not reactantStructure.props['valid']:\n",
      "(Pdb) c\n",
      "> /home/mjliu/Code/RMG-Py/rmgpy/data/kinetics/family.py(1095)applyRecipe()\n",
      "-> if isinstance(reactantStructure, Molecule) and not reactantStructure.props['valid']:\n",
      "(Pdb) c\n",
      "> /home/mjliu/Code/RMG-Py/rmgpy/data/kinetics/family.py(1095)applyRecipe()\n",
      "-> if isinstance(reactantStructure, Molecule) and not reactantStructure.props['valid']:\n",
      "(Pdb) c\n",
      "> /home/mjliu/Code/RMG-Py/rmgpy/data/kinetics/family.py(1095)applyRecipe()\n",
      "-> if isinstance(reactantStructure, Molecule) and not reactantStructure.props['valid']:\n",
      "(Pdb) c\n",
      "> /home/mjliu/Code/RMG-Py/rmgpy/data/kinetics/family.py(1095)applyRecipe()\n",
      "-> if isinstance(reactantStructure, Molecule) and not reactantStructure.props['valid']:\n",
      "(Pdb) c\n",
      "> /home/mjliu/Code/RMG-Py/rmgpy/data/kinetics/family.py(1095)applyRecipe()\n",
      "-> if isinstance(reactantStructure, Molecule) and not reactantStructure.props['valid']:\n",
      "(Pdb) c\n",
      "> /home/mjliu/Code/RMG-Py/rmgpy/data/kinetics/family.py(1095)applyRecipe()\n",
      "-> if isinstance(reactantStructure, Molecule) and not reactantStructure.props['valid']:\n",
      "(Pdb) c\n",
      "> /home/mjliu/Code/RMG-Py/rmgpy/data/kinetics/family.py(1095)applyRecipe()\n",
      "-> if isinstance(reactantStructure, Molecule) and not reactantStructure.props['valid']:\n",
      "(Pdb) c\n",
      "> /home/mjliu/Code/RMG-Py/rmgpy/data/kinetics/family.py(1095)applyRecipe()\n",
      "-> if isinstance(reactantStructure, Molecule) and not reactantStructure.props['valid']:\n",
      "(Pdb) c\n",
      "> /home/mjliu/Code/RMG-Py/rmgpy/data/kinetics/family.py(1095)applyRecipe()\n",
      "-> if isinstance(reactantStructure, Molecule) and not reactantStructure.props['valid']:\n",
      "(Pdb) c\n",
      "> /home/mjliu/Code/RMG-Py/rmgpy/data/kinetics/family.py(1095)applyRecipe()\n",
      "-> if isinstance(reactantStructure, Molecule) and not reactantStructure.props['valid']:\n",
      "(Pdb) c\n",
      "> /home/mjliu/Code/RMG-Py/rmgpy/data/kinetics/family.py(1095)applyRecipe()\n",
      "-> if isinstance(reactantStructure, Molecule) and not reactantStructure.props['valid']:\n",
      "(Pdb) c\n",
      "> /home/mjliu/Code/RMG-Py/rmgpy/data/kinetics/family.py(1095)applyRecipe()\n",
      "-> if isinstance(reactantStructure, Molecule) and not reactantStructure.props['valid']:\n",
      "(Pdb) c\n",
      "> /home/mjliu/Code/RMG-Py/rmgpy/data/kinetics/family.py(1095)applyRecipe()\n",
      "-> if isinstance(reactantStructure, Molecule) and not reactantStructure.props['valid']:\n",
      "(Pdb) c\n",
      "> /home/mjliu/Code/RMG-Py/rmgpy/data/kinetics/family.py(1095)applyRecipe()\n",
      "-> if isinstance(reactantStructure, Molecule) and not reactantStructure.props['valid']:\n",
      "(Pdb) c\n",
      "> /home/mjliu/Code/RMG-Py/rmgpy/data/kinetics/family.py(1095)applyRecipe()\n",
      "-> if isinstance(reactantStructure, Molecule) and not reactantStructure.props['valid']:\n",
      "(Pdb) c\n",
      "> /home/mjliu/Code/RMG-Py/rmgpy/data/kinetics/family.py(1095)applyRecipe()\n",
      "-> if isinstance(reactantStructure, Molecule) and not reactantStructure.props['valid']:\n",
      "(Pdb) c\n",
      "> /home/mjliu/Code/RMG-Py/rmgpy/data/kinetics/family.py(1095)applyRecipe()\n",
      "-> if isinstance(reactantStructure, Molecule) and not reactantStructure.props['valid']:\n",
      "(Pdb) c\n",
      "> /home/mjliu/Code/RMG-Py/rmgpy/data/kinetics/family.py(1095)applyRecipe()\n",
      "-> if isinstance(reactantStructure, Molecule) and not reactantStructure.props['valid']:\n",
      "(Pdb) c\n",
      "> /home/mjliu/Code/RMG-Py/rmgpy/data/kinetics/family.py(1095)applyRecipe()\n",
      "-> if isinstance(reactantStructure, Molecule) and not reactantStructure.props['valid']:\n",
      "(Pdb) c\n",
      "> /home/mjliu/Code/RMG-Py/rmgpy/data/kinetics/family.py(1095)applyRecipe()\n",
      "-> if isinstance(reactantStructure, Molecule) and not reactantStructure.props['valid']:\n",
      "(Pdb) c\n",
      "> /home/mjliu/Code/RMG-Py/rmgpy/data/kinetics/family.py(1095)applyRecipe()\n",
      "-> if isinstance(reactantStructure, Molecule) and not reactantStructure.props['valid']:\n",
      "(Pdb) c\n",
      "> /home/mjliu/Code/RMG-Py/rmgpy/data/kinetics/family.py(1095)applyRecipe()\n",
      "-> if isinstance(reactantStructure, Molecule) and not reactantStructure.props['valid']:\n",
      "(Pdb) c\n",
      "> /home/mjliu/Code/RMG-Py/rmgpy/data/kinetics/family.py(1095)applyRecipe()\n",
      "-> if isinstance(reactantStructure, Molecule) and not reactantStructure.props['valid']:\n",
      "(Pdb) c\n",
      "> /home/mjliu/Code/RMG-Py/rmgpy/data/kinetics/family.py(1095)applyRecipe()\n",
      "-> if isinstance(reactantStructure, Molecule) and not reactantStructure.props['valid']:\n",
      "(Pdb) c\n",
      "> /home/mjliu/Code/RMG-Py/rmgpy/data/kinetics/family.py(1095)applyRecipe()\n",
      "-> if isinstance(reactantStructure, Molecule) and not reactantStructure.props['valid']:\n",
      "(Pdb) c\n",
      "> /home/mjliu/Code/RMG-Py/rmgpy/data/kinetics/family.py(1095)applyRecipe()\n",
      "-> if isinstance(reactantStructure, Molecule) and not reactantStructure.props['valid']:\n",
      "(Pdb) c\n",
      "> /home/mjliu/Code/RMG-Py/rmgpy/data/kinetics/family.py(1095)applyRecipe()\n",
      "-> if isinstance(reactantStructure, Molecule) and not reactantStructure.props['valid']:\n",
      "(Pdb) c\n",
      "> /home/mjliu/Code/RMG-Py/rmgpy/data/kinetics/family.py(1095)applyRecipe()\n",
      "-> if isinstance(reactantStructure, Molecule) and not reactantStructure.props['valid']:\n",
      "(Pdb) c\n",
      "> /home/mjliu/Code/RMG-Py/rmgpy/data/kinetics/family.py(1095)applyRecipe()\n",
      "-> if isinstance(reactantStructure, Molecule) and not reactantStructure.props['valid']:\n",
      "(Pdb) c\n",
      "> /home/mjliu/Code/RMG-Py/rmgpy/data/kinetics/family.py(1095)applyRecipe()\n",
      "-> if isinstance(reactantStructure, Molecule) and not reactantStructure.props['valid']:\n",
      "(Pdb) c\n",
      "> /home/mjliu/Code/RMG-Py/rmgpy/data/kinetics/family.py(1095)applyRecipe()\n",
      "-> if isinstance(reactantStructure, Molecule) and not reactantStructure.props['valid']:\n",
      "(Pdb) c\n",
      "> /home/mjliu/Code/RMG-Py/rmgpy/data/kinetics/family.py(1095)applyRecipe()\n",
      "-> if isinstance(reactantStructure, Molecule) and not reactantStructure.props['valid']:\n",
      "(Pdb) c\n",
      "> /home/mjliu/Code/RMG-Py/rmgpy/data/kinetics/family.py(1095)applyRecipe()\n",
      "-> if isinstance(reactantStructure, Molecule) and not reactantStructure.props['valid']:\n",
      "(Pdb) c\n",
      "> /home/mjliu/Code/RMG-Py/rmgpy/data/kinetics/family.py(1095)applyRecipe()\n",
      "-> if isinstance(reactantStructure, Molecule) and not reactantStructure.props['valid']:\n",
      "(Pdb) c\n",
      "> /home/mjliu/Code/RMG-Py/rmgpy/data/kinetics/family.py(1095)applyRecipe()\n",
      "-> if isinstance(reactantStructure, Molecule) and not reactantStructure.props['valid']:\n",
      "(Pdb) c\n",
      "> /home/mjliu/Code/RMG-Py/rmgpy/data/kinetics/family.py(1095)applyRecipe()\n",
      "-> if isinstance(reactantStructure, Molecule) and not reactantStructure.props['valid']:\n",
      "(Pdb) c\n",
      "> /home/mjliu/Code/RMG-Py/rmgpy/data/kinetics/family.py(1095)applyRecipe()\n",
      "-> if isinstance(reactantStructure, Molecule) and not reactantStructure.props['valid']:\n",
      "(Pdb) c\n",
      "> /home/mjliu/Code/RMG-Py/rmgpy/data/kinetics/family.py(1095)applyRecipe()\n",
      "-> if isinstance(reactantStructure, Molecule) and not reactantStructure.props['valid']:\n",
      "(Pdb) c\n",
      "> /home/mjliu/Code/RMG-Py/rmgpy/data/kinetics/family.py(1095)applyRecipe()\n",
      "-> if isinstance(reactantStructure, Molecule) and not reactantStructure.props['valid']:\n",
      "(Pdb) c\n",
      "> /home/mjliu/Code/RMG-Py/rmgpy/data/kinetics/family.py(1095)applyRecipe()\n",
      "-> if isinstance(reactantStructure, Molecule) and not reactantStructure.props['valid']:\n",
      "(Pdb) c\n",
      "> /home/mjliu/Code/RMG-Py/rmgpy/data/kinetics/family.py(1095)applyRecipe()\n",
      "-> if isinstance(reactantStructure, Molecule) and not reactantStructure.props['valid']:\n",
      "(Pdb) c\n",
      "> /home/mjliu/Code/RMG-Py/rmgpy/data/kinetics/family.py(1095)applyRecipe()\n",
      "-> if isinstance(reactantStructure, Molecule) and not reactantStructure.props['valid']:\n",
      "(Pdb) c\n",
      "> /home/mjliu/Code/RMG-Py/rmgpy/data/kinetics/family.py(1095)applyRecipe()\n",
      "-> if isinstance(reactantStructure, Molecule) and not reactantStructure.props['valid']:\n",
      "(Pdb) c\n",
      "> /home/mjliu/Code/RMG-Py/rmgpy/data/kinetics/family.py(1095)applyRecipe()\n",
      "-> if isinstance(reactantStructure, Molecule) and not reactantStructure.props['valid']:\n",
      "(Pdb) c\n",
      "> /home/mjliu/Code/RMG-Py/rmgpy/data/kinetics/family.py(1095)applyRecipe()\n",
      "-> if isinstance(reactantStructure, Molecule) and not reactantStructure.props['valid']:\n",
      "(Pdb) c\n",
      "> /home/mjliu/Code/RMG-Py/rmgpy/data/kinetics/family.py(1095)applyRecipe()\n",
      "-> if isinstance(reactantStructure, Molecule) and not reactantStructure.props['valid']:\n",
      "(Pdb) c\n",
      "> /home/mjliu/Code/RMG-Py/rmgpy/data/kinetics/family.py(1095)applyRecipe()\n",
      "-> if isinstance(reactantStructure, Molecule) and not reactantStructure.props['valid']:\n",
      "(Pdb) c\n",
      "> /home/mjliu/Code/RMG-Py/rmgpy/data/kinetics/family.py(1095)applyRecipe()\n",
      "-> if isinstance(reactantStructure, Molecule) and not reactantStructure.props['valid']:\n",
      "(Pdb) c\n",
      "> /home/mjliu/Code/RMG-Py/rmgpy/data/kinetics/family.py(1095)applyRecipe()\n",
      "-> if isinstance(reactantStructure, Molecule) and not reactantStructure.props['valid']:\n",
      "(Pdb) c\n",
      "> /home/mjliu/Code/RMG-Py/rmgpy/data/kinetics/family.py(1095)applyRecipe()\n",
      "-> if isinstance(reactantStructure, Molecule) and not reactantStructure.props['valid']:\n",
      "(Pdb) c\n",
      "> /home/mjliu/Code/RMG-Py/rmgpy/data/kinetics/family.py(1095)applyRecipe()\n",
      "-> if isinstance(reactantStructure, Molecule) and not reactantStructure.props['valid']:\n",
      "(Pdb) c\n",
      "> /home/mjliu/Code/RMG-Py/rmgpy/data/kinetics/family.py(1095)applyRecipe()\n",
      "-> if isinstance(reactantStructure, Molecule) and not reactantStructure.props['valid']:\n",
      "(Pdb) c\n",
      "> /home/mjliu/Code/RMG-Py/rmgpy/data/kinetics/family.py(1095)applyRecipe()\n",
      "-> if isinstance(reactantStructure, Molecule) and not reactantStructure.props['valid']:\n",
      "(Pdb) c\n",
      "> /home/mjliu/Code/RMG-Py/rmgpy/data/kinetics/family.py(1095)applyRecipe()\n",
      "-> if isinstance(reactantStructure, Molecule) and not reactantStructure.props['valid']:\n",
      "(Pdb) c\n",
      "> /home/mjliu/Code/RMG-Py/rmgpy/data/kinetics/family.py(1095)applyRecipe()\n",
      "-> if isinstance(reactantStructure, Molecule) and not reactantStructure.props['valid']:\n",
      "(Pdb) c\n"
     ]
    }
   ],
   "source": [
    "databasePath = rmgpy.settings['database.directory']\n",
    "\n",
    "database = RMGDatabase()\n",
    "database.load(\n",
    "    path = databasePath,\n",
    "    thermoLibraries = [],\n",
    "    reactionLibraries = [],\n",
    "    seedMechanisms = [],\n",
    "    kineticsFamilies = ['R_Addition_MultipleBond'],\n",
    "    )"
   ]
  },
  {
   "cell_type": "code",
   "execution_count": 3,
   "metadata": {
    "collapsed": true
   },
   "outputs": [],
   "source": [
    "reactants = [\n",
    "    Molecule().fromAdjacencyList(\"\"\"1  C u0 p0 c0 {2,B} {6,B} {7,S}\n",
    "2  C u0 p0 c0 {1,B} {3,B} {8,S}\n",
    "3  C u0 p0 c0 {2,B} {4,B} {9,S}\n",
    "4  C u0 p0 c0 {3,B} {5,B} {10,S}\n",
    "5  C u0 p0 c0 {4,B} {6,B} {11,S}\n",
    "6  C u0 p0 c0 {1,B} {5,B} {12,S}\n",
    "7  H u0 p0 c0 {1,S}\n",
    "8  H u0 p0 c0 {2,S}\n",
    "9  H u0 p0 c0 {3,S}\n",
    "10 H u0 p0 c0 {4,S}\n",
    "11 H u0 p0 c0 {5,S}\n",
    "12 H u0 p0 c0 {6,S}\n",
    "\"\"\"), \n",
    "    Molecule(SMILES='[H]')\n",
    "]"
   ]
  },
  {
   "cell_type": "code",
   "execution_count": 4,
   "metadata": {
    "collapsed": false
   },
   "outputs": [
    {
     "name": "stdout",
     "output_type": "stream",
     "text": [
      "> /home/mjliu/Code/RMG-Py/rmgpy/data/kinetics/family.py(1095)applyRecipe()\n",
      "-> if isinstance(reactantStructure, Molecule) and not reactantStructure.props['valid']:\n",
      "(Pdb) print reactantStructure.toAdjacencyList()\n",
      "multiplicity -187\n",
      "1  *1 C u0 p0 c0 {2,B-} {6,B} {7,S} {13,S}\n",
      "2  *2 C u1 p0 c0 {1,B-} {3,B} {8,S}\n",
      "3     C u0 p0 c0 {2,B} {4,B} {9,S}\n",
      "4     C u0 p0 c0 {3,B} {5,B} {10,S}\n",
      "5     C u0 p0 c0 {4,B} {6,B} {11,S}\n",
      "6     C u0 p0 c0 {1,B} {5,B} {12,S}\n",
      "7     H u0 p0 c0 {1,S}\n",
      "8     H u0 p0 c0 {2,S}\n",
      "9     H u0 p0 c0 {3,S}\n",
      "10    H u0 p0 c0 {4,S}\n",
      "11    H u0 p0 c0 {5,S}\n",
      "12    H u0 p0 c0 {6,S}\n",
      "13 *3 H u0 p0 c0 {1,S}\n",
      "\n",
      "(Pdb) reactantStructure.atoms[0].atomType\n",
      "(Pdb) reactantStructure.atoms[0].atomType.label\n",
      "*** AttributeError: 'NoneType' object has no attribute 'label'\n",
      "(Pdb) reactantStructure.atoms[3].atomType\n",
      "<AtomType \"Cb\">\n",
      "(Pdb) reactantStructure.atoms[1].atomType\n",
      "(Pdb) q\n"
     ]
    },
    {
     "ename": "BdbQuit",
     "evalue": "",
     "output_type": "error",
     "traceback": [
      "\u001b[0;31m---------------------------------------------------------------------------\u001b[0m",
      "\u001b[0;31mBdbQuit\u001b[0m                                   Traceback (most recent call last)",
      "\u001b[0;32m<ipython-input-4-6ca1c2efb9fe>\u001b[0m in \u001b[0;36m<module>\u001b[0;34m()\u001b[0m\n\u001b[0;32m----> 1\u001b[0;31m \u001b[0mrxns\u001b[0m \u001b[0;34m=\u001b[0m \u001b[0mdatabase\u001b[0m\u001b[0;34m.\u001b[0m\u001b[0mkinetics\u001b[0m\u001b[0;34m.\u001b[0m\u001b[0mfamilies\u001b[0m\u001b[0;34m[\u001b[0m\u001b[0;34m'R_Addition_MultipleBond'\u001b[0m\u001b[0;34m]\u001b[0m\u001b[0;34m.\u001b[0m\u001b[0mgenerateReactions\u001b[0m\u001b[0;34m(\u001b[0m\u001b[0mreactants\u001b[0m\u001b[0;34m)\u001b[0m\u001b[0;34m\u001b[0m\u001b[0m\n\u001b[0m",
      "\u001b[0;32m/home/mjliu/Code/RMG-Py/rmgpy/data/kinetics/family.py\u001b[0m in \u001b[0;36mgenerateReactions\u001b[0;34m(self, reactants)\u001b[0m\n\u001b[1;32m   1319\u001b[0m \u001b[0;34m\u001b[0m\u001b[0m\n\u001b[1;32m   1320\u001b[0m         \u001b[0;31m# Forward direction (the direction in which kinetics is defined)\u001b[0m\u001b[0;34m\u001b[0m\u001b[0;34m\u001b[0m\u001b[0m\n\u001b[0;32m-> 1321\u001b[0;31m         \u001b[0mreactionList\u001b[0m\u001b[0;34m.\u001b[0m\u001b[0mextend\u001b[0m\u001b[0;34m(\u001b[0m\u001b[0mself\u001b[0m\u001b[0;34m.\u001b[0m\u001b[0m__generateReactions\u001b[0m\u001b[0;34m(\u001b[0m\u001b[0mreactants\u001b[0m\u001b[0;34m,\u001b[0m \u001b[0mforward\u001b[0m\u001b[0;34m=\u001b[0m\u001b[0mTrue\u001b[0m\u001b[0;34m)\u001b[0m\u001b[0;34m)\u001b[0m\u001b[0;34m\u001b[0m\u001b[0m\n\u001b[0m\u001b[1;32m   1322\u001b[0m \u001b[0;34m\u001b[0m\u001b[0m\n\u001b[1;32m   1323\u001b[0m         \u001b[0;32mif\u001b[0m \u001b[0mself\u001b[0m\u001b[0;34m.\u001b[0m\u001b[0mownReverse\u001b[0m\u001b[0;34m:\u001b[0m\u001b[0;34m\u001b[0m\u001b[0m\n",
      "\u001b[0;32m/home/mjliu/Code/RMG-Py/rmgpy/data/kinetics/family.py\u001b[0m in \u001b[0;36m__generateReactions\u001b[0;34m(self, reactants, products, forward)\u001b[0m\n\u001b[1;32m   1462\u001b[0m                             \u001b[0mreactantStructures\u001b[0m \u001b[0;34m=\u001b[0m \u001b[0;34m[\u001b[0m\u001b[0mmoleculeA\u001b[0m\u001b[0;34m,\u001b[0m \u001b[0mmoleculeB\u001b[0m\u001b[0;34m]\u001b[0m\u001b[0;34m\u001b[0m\u001b[0m\n\u001b[1;32m   1463\u001b[0m                             \u001b[0;32mtry\u001b[0m\u001b[0;34m:\u001b[0m\u001b[0;34m\u001b[0m\u001b[0m\n\u001b[0;32m-> 1464\u001b[0;31m                                 \u001b[0mproductStructures\u001b[0m \u001b[0;34m=\u001b[0m \u001b[0mself\u001b[0m\u001b[0;34m.\u001b[0m\u001b[0m__generateProductStructures\u001b[0m\u001b[0;34m(\u001b[0m\u001b[0mreactantStructures\u001b[0m\u001b[0;34m,\u001b[0m \u001b[0;34m[\u001b[0m\u001b[0mmapA\u001b[0m\u001b[0;34m,\u001b[0m \u001b[0mmapB\u001b[0m\u001b[0;34m]\u001b[0m\u001b[0;34m,\u001b[0m \u001b[0mforward\u001b[0m\u001b[0;34m)\u001b[0m\u001b[0;34m\u001b[0m\u001b[0m\n\u001b[0m\u001b[1;32m   1465\u001b[0m                             \u001b[0;32mexcept\u001b[0m \u001b[0mForbiddenStructureException\u001b[0m\u001b[0;34m:\u001b[0m\u001b[0;34m\u001b[0m\u001b[0m\n\u001b[1;32m   1466\u001b[0m                                 \u001b[0;32mpass\u001b[0m\u001b[0;34m\u001b[0m\u001b[0m\n",
      "\u001b[0;32m/home/mjliu/Code/RMG-Py/rmgpy/data/kinetics/family.py\u001b[0m in \u001b[0;36m__generateProductStructures\u001b[0;34m(self, reactantStructures, maps, forward)\u001b[0m\n\u001b[1;32m   1203\u001b[0m         \u001b[0;31m# Generate the product structures by applying the forward reaction recipe\u001b[0m\u001b[0;34m\u001b[0m\u001b[0;34m\u001b[0m\u001b[0m\n\u001b[1;32m   1204\u001b[0m         \u001b[0;32mtry\u001b[0m\u001b[0;34m:\u001b[0m\u001b[0;34m\u001b[0m\u001b[0m\n\u001b[0;32m-> 1205\u001b[0;31m             \u001b[0mproductStructures\u001b[0m \u001b[0;34m=\u001b[0m \u001b[0mself\u001b[0m\u001b[0;34m.\u001b[0m\u001b[0mapplyRecipe\u001b[0m\u001b[0;34m(\u001b[0m\u001b[0mreactantStructures\u001b[0m\u001b[0;34m,\u001b[0m \u001b[0mforward\u001b[0m\u001b[0;34m=\u001b[0m\u001b[0mforward\u001b[0m\u001b[0;34m)\u001b[0m\u001b[0;34m\u001b[0m\u001b[0m\n\u001b[0m\u001b[1;32m   1206\u001b[0m             \u001b[0;32mif\u001b[0m \u001b[0;32mnot\u001b[0m \u001b[0mproductStructures\u001b[0m\u001b[0;34m:\u001b[0m \u001b[0;32mreturn\u001b[0m \u001b[0mNone\u001b[0m\u001b[0;34m\u001b[0m\u001b[0m\n\u001b[1;32m   1207\u001b[0m         \u001b[0;32mexcept\u001b[0m \u001b[0mInvalidActionError\u001b[0m\u001b[0;34m:\u001b[0m\u001b[0;34m\u001b[0m\u001b[0m\n",
      "\u001b[0;32m/home/mjliu/Code/RMG-Py/rmgpy/data/kinetics/family.py\u001b[0m in \u001b[0;36mapplyRecipe\u001b[0;34m(self, reactantStructures, forward, unique)\u001b[0m\n\u001b[1;32m   1093\u001b[0m             \u001b[0mself\u001b[0m\u001b[0;34m.\u001b[0m\u001b[0mreverseRecipe\u001b[0m\u001b[0;34m.\u001b[0m\u001b[0mapplyForward\u001b[0m\u001b[0;34m(\u001b[0m\u001b[0mreactantStructure\u001b[0m\u001b[0;34m,\u001b[0m \u001b[0munique\u001b[0m\u001b[0;34m)\u001b[0m\u001b[0;34m\u001b[0m\u001b[0m\n\u001b[1;32m   1094\u001b[0m         \u001b[0;32mimport\u001b[0m \u001b[0mpdb\u001b[0m\u001b[0;34m;\u001b[0m \u001b[0mpdb\u001b[0m\u001b[0;34m.\u001b[0m\u001b[0mset_trace\u001b[0m\u001b[0;34m(\u001b[0m\u001b[0;34m)\u001b[0m\u001b[0;34m\u001b[0m\u001b[0m\n\u001b[0;32m-> 1095\u001b[0;31m         \u001b[0;32mif\u001b[0m \u001b[0misinstance\u001b[0m\u001b[0;34m(\u001b[0m\u001b[0mreactantStructure\u001b[0m\u001b[0;34m,\u001b[0m \u001b[0mMolecule\u001b[0m\u001b[0;34m)\u001b[0m \u001b[0;32mand\u001b[0m \u001b[0;32mnot\u001b[0m \u001b[0mreactantStructure\u001b[0m\u001b[0;34m.\u001b[0m\u001b[0mprops\u001b[0m\u001b[0;34m[\u001b[0m\u001b[0;34m'valid'\u001b[0m\u001b[0;34m]\u001b[0m\u001b[0;34m:\u001b[0m\u001b[0;34m\u001b[0m\u001b[0m\n\u001b[0m\u001b[1;32m   1096\u001b[0m             \u001b[0mreactantStructure\u001b[0m\u001b[0;34m.\u001b[0m\u001b[0mredistributeAromaticElectrons\u001b[0m\u001b[0;34m(\u001b[0m\u001b[0;34m)\u001b[0m\u001b[0;34m\u001b[0m\u001b[0m\n\u001b[1;32m   1097\u001b[0m         \u001b[0mproductStructure\u001b[0m \u001b[0;34m=\u001b[0m \u001b[0mreactantStructure\u001b[0m\u001b[0;34m\u001b[0m\u001b[0m\n",
      "\u001b[0;32m/home/mjliu/Code/RMG-Py/rmgpy/data/kinetics/family.py\u001b[0m in \u001b[0;36mapplyRecipe\u001b[0;34m(self, reactantStructures, forward, unique)\u001b[0m\n\u001b[1;32m   1093\u001b[0m             \u001b[0mself\u001b[0m\u001b[0;34m.\u001b[0m\u001b[0mreverseRecipe\u001b[0m\u001b[0;34m.\u001b[0m\u001b[0mapplyForward\u001b[0m\u001b[0;34m(\u001b[0m\u001b[0mreactantStructure\u001b[0m\u001b[0;34m,\u001b[0m \u001b[0munique\u001b[0m\u001b[0;34m)\u001b[0m\u001b[0;34m\u001b[0m\u001b[0m\n\u001b[1;32m   1094\u001b[0m         \u001b[0;32mimport\u001b[0m \u001b[0mpdb\u001b[0m\u001b[0;34m;\u001b[0m \u001b[0mpdb\u001b[0m\u001b[0;34m.\u001b[0m\u001b[0mset_trace\u001b[0m\u001b[0;34m(\u001b[0m\u001b[0;34m)\u001b[0m\u001b[0;34m\u001b[0m\u001b[0m\n\u001b[0;32m-> 1095\u001b[0;31m         \u001b[0;32mif\u001b[0m \u001b[0misinstance\u001b[0m\u001b[0;34m(\u001b[0m\u001b[0mreactantStructure\u001b[0m\u001b[0;34m,\u001b[0m \u001b[0mMolecule\u001b[0m\u001b[0;34m)\u001b[0m \u001b[0;32mand\u001b[0m \u001b[0;32mnot\u001b[0m \u001b[0mreactantStructure\u001b[0m\u001b[0;34m.\u001b[0m\u001b[0mprops\u001b[0m\u001b[0;34m[\u001b[0m\u001b[0;34m'valid'\u001b[0m\u001b[0;34m]\u001b[0m\u001b[0;34m:\u001b[0m\u001b[0;34m\u001b[0m\u001b[0m\n\u001b[0m\u001b[1;32m   1096\u001b[0m             \u001b[0mreactantStructure\u001b[0m\u001b[0;34m.\u001b[0m\u001b[0mredistributeAromaticElectrons\u001b[0m\u001b[0;34m(\u001b[0m\u001b[0;34m)\u001b[0m\u001b[0;34m\u001b[0m\u001b[0m\n\u001b[1;32m   1097\u001b[0m         \u001b[0mproductStructure\u001b[0m \u001b[0;34m=\u001b[0m \u001b[0mreactantStructure\u001b[0m\u001b[0;34m\u001b[0m\u001b[0m\n",
      "\u001b[0;32m/home/mjliu/anaconda/envs/rmg_env/lib/python2.7/bdb.pyc\u001b[0m in \u001b[0;36mtrace_dispatch\u001b[0;34m(self, frame, event, arg)\u001b[0m\n\u001b[1;32m     47\u001b[0m             \u001b[0;32mreturn\u001b[0m \u001b[0;31m# None\u001b[0m\u001b[0;34m\u001b[0m\u001b[0m\n\u001b[1;32m     48\u001b[0m         \u001b[0;32mif\u001b[0m \u001b[0mevent\u001b[0m \u001b[0;34m==\u001b[0m \u001b[0;34m'line'\u001b[0m\u001b[0;34m:\u001b[0m\u001b[0;34m\u001b[0m\u001b[0m\n\u001b[0;32m---> 49\u001b[0;31m             \u001b[0;32mreturn\u001b[0m \u001b[0mself\u001b[0m\u001b[0;34m.\u001b[0m\u001b[0mdispatch_line\u001b[0m\u001b[0;34m(\u001b[0m\u001b[0mframe\u001b[0m\u001b[0;34m)\u001b[0m\u001b[0;34m\u001b[0m\u001b[0m\n\u001b[0m\u001b[1;32m     50\u001b[0m         \u001b[0;32mif\u001b[0m \u001b[0mevent\u001b[0m \u001b[0;34m==\u001b[0m \u001b[0;34m'call'\u001b[0m\u001b[0;34m:\u001b[0m\u001b[0;34m\u001b[0m\u001b[0m\n\u001b[1;32m     51\u001b[0m             \u001b[0;32mreturn\u001b[0m \u001b[0mself\u001b[0m\u001b[0;34m.\u001b[0m\u001b[0mdispatch_call\u001b[0m\u001b[0;34m(\u001b[0m\u001b[0mframe\u001b[0m\u001b[0;34m,\u001b[0m \u001b[0marg\u001b[0m\u001b[0;34m)\u001b[0m\u001b[0;34m\u001b[0m\u001b[0m\n",
      "\u001b[0;32m/home/mjliu/anaconda/envs/rmg_env/lib/python2.7/bdb.pyc\u001b[0m in \u001b[0;36mdispatch_line\u001b[0;34m(self, frame)\u001b[0m\n\u001b[1;32m     66\u001b[0m         \u001b[0;32mif\u001b[0m \u001b[0mself\u001b[0m\u001b[0;34m.\u001b[0m\u001b[0mstop_here\u001b[0m\u001b[0;34m(\u001b[0m\u001b[0mframe\u001b[0m\u001b[0;34m)\u001b[0m \u001b[0;32mor\u001b[0m \u001b[0mself\u001b[0m\u001b[0;34m.\u001b[0m\u001b[0mbreak_here\u001b[0m\u001b[0;34m(\u001b[0m\u001b[0mframe\u001b[0m\u001b[0;34m)\u001b[0m\u001b[0;34m:\u001b[0m\u001b[0;34m\u001b[0m\u001b[0m\n\u001b[1;32m     67\u001b[0m             \u001b[0mself\u001b[0m\u001b[0;34m.\u001b[0m\u001b[0muser_line\u001b[0m\u001b[0;34m(\u001b[0m\u001b[0mframe\u001b[0m\u001b[0;34m)\u001b[0m\u001b[0;34m\u001b[0m\u001b[0m\n\u001b[0;32m---> 68\u001b[0;31m             \u001b[0;32mif\u001b[0m \u001b[0mself\u001b[0m\u001b[0;34m.\u001b[0m\u001b[0mquitting\u001b[0m\u001b[0;34m:\u001b[0m \u001b[0;32mraise\u001b[0m \u001b[0mBdbQuit\u001b[0m\u001b[0;34m\u001b[0m\u001b[0m\n\u001b[0m\u001b[1;32m     69\u001b[0m         \u001b[0;32mreturn\u001b[0m \u001b[0mself\u001b[0m\u001b[0;34m.\u001b[0m\u001b[0mtrace_dispatch\u001b[0m\u001b[0;34m\u001b[0m\u001b[0m\n\u001b[1;32m     70\u001b[0m \u001b[0;34m\u001b[0m\u001b[0m\n",
      "\u001b[0;31mBdbQuit\u001b[0m: "
     ]
    }
   ],
   "source": [
    "rxns = database.kinetics.families['R_Addition_MultipleBond'].generateReactions(reactants)"
   ]
  },
  {
   "cell_type": "code",
   "execution_count": 6,
   "metadata": {
    "collapsed": false
   },
   "outputs": [
    {
     "data": {
      "image/png": "[encoded data removed]",
      "text/plain": [
       "Reaction(reactants=[Molecule(SMILES=\"c1ccccc1\"), Molecule(SMILES=\"[H]\")], products=[Molecule(SMILES=\"[CH]1C=CC=CC1\")], degeneracy=12, pairs=[[Molecule(SMILES=\"c1ccccc1\"), Molecule(SMILES=\"[CH]1C=CC=CC1\")], [Molecule(SMILES=\"[H]\"), Molecule(SMILES=\"[CH]1C=CC=CC1\")]])"
      ]
     },
     "execution_count": 6,
     "metadata": {},
     "output_type": "execute_result"
    }
   ],
   "source": [
    "rxns[0]"
   ]
  },
  {
   "cell_type": "code",
   "execution_count": 9,
   "metadata": {
    "collapsed": true
   },
   "outputs": [],
   "source": [
    "out = Molecule(SMILES='c1ccccc1').generateResonanceIsomers()"
   ]
  },
  {
   "cell_type": "code",
   "execution_count": 13,
   "metadata": {
    "collapsed": false
   },
   "outputs": [
    {
     "name": "stdout",
     "output_type": "stream",
     "text": [
      "1  C u0 p0 c0 {2,B} {6,B} {7,S}\n",
      "2  C u0 p0 c0 {1,B} {3,B} {8,S}\n",
      "3  C u0 p0 c0 {2,B} {4,B} {9,S}\n",
      "4  C u0 p0 c0 {3,B} {5,B} {10,S}\n",
      "5  C u0 p0 c0 {4,B} {6,B} {11,S}\n",
      "6  C u0 p0 c0 {1,B} {5,B} {12,S}\n",
      "7  H u0 p0 c0 {1,S}\n",
      "8  H u0 p0 c0 {2,S}\n",
      "9  H u0 p0 c0 {3,S}\n",
      "10 H u0 p0 c0 {4,S}\n",
      "11 H u0 p0 c0 {5,S}\n",
      "12 H u0 p0 c0 {6,S}\n",
      "\n"
     ]
    }
   ],
   "source": [
    "print out[0].toAdjacencyList()"
   ]
  },
  {
   "cell_type": "code",
   "execution_count": 9,
   "metadata": {
    "collapsed": false
   },
   "outputs": [
    {
     "name": "stdout",
     "output_type": "stream",
     "text": [
      "1  C u0 p0 c0 {2,B-} {6,B} {7,S} {13,S}\n",
      "2  C u0 p0 c0 {1,B-} {3,B+} {8,S}\n",
      "3  C u0 p0 c0 {2,B+} {4,B-} {9,S}\n",
      "4  C u0 p0 c0 {3,B-} {5,B} {10,S} {14,S}\n",
      "5  C u0 p0 c0 {4,B} {6,B} {11,S}\n",
      "6  C u0 p0 c0 {1,B} {5,B} {12,S}\n",
      "7  H u0 p0 c0 {1,S}\n",
      "8  H u0 p0 c0 {2,S}\n",
      "9  H u0 p0 c0 {3,S}\n",
      "10 H u0 p0 c0 {4,S}\n",
      "11 H u0 p0 c0 {5,S}\n",
      "12 H u0 p0 c0 {6,S}\n",
      "13 C u0 p0 c0 {1,S} {14,S} {15,S} {16,S}\n",
      "14 C u0 p0 c0 {4,S} {13,S} {17,S} {18,S}\n",
      "15 H u0 p0 c0 {13,S}\n",
      "16 H u0 p0 c0 {13,S}\n",
      "17 H u0 p0 c0 {14,S}\n",
      "18 H u0 p0 c0 {14,S}\n",
      "\n",
      "> <ipython-input-7-d26ea9575003>(59)redistributeAromaticElectrons()\n",
      "-> for index, bond in enumerate(endo):\n",
      "(Pdb) c\n"
     ]
    },
    {
     "data": {
      "image/png": "[encoded data removed]",
      "text/plain": [
       "Molecule(SMILES=\"C1=CC2C=CC1CC2\")"
      ]
     },
     "execution_count": 9,
     "metadata": {},
     "output_type": "execute_result"
    }
   ],
   "source": [
    "mol = Molecule().fromAdjacencyList(\"\"\"1  C u0 p0 c0 {2,B} {6,B} {7,S}\n",
    "2  C u0 p0 c0 {1,B} {3,B} {8,S}\n",
    "3  C u0 p0 c0 {2,B} {4,B} {9,S}\n",
    "4  C u0 p0 c0 {3,B} {5,B} {10,S}\n",
    "5  C u0 p0 c0 {4,B} {6,B} {11,S}\n",
    "6  C u0 p0 c0 {1,B} {5,B} {12,S}\n",
    "7  H u0 p0 c0 {1,S}\n",
    "8  H u0 p0 c0 {2,S}\n",
    "9  H u0 p0 c0 {3,S}\n",
    "10 H u0 p0 c0 {4,S}\n",
    "11 H u0 p0 c0 {5,S}\n",
    "12 H u0 p0 c0 {6,S}\n",
    "13 C u0 p0 c0 {14,D} {15,S} {16,S}\n",
    "14 C u0 p0 c0 {13,D} {17,S} {18,S}\n",
    "15 H u0 p0 c0 {13,S}\n",
    "16 H u0 p0 c0 {13,S}\n",
    "17 H u0 p0 c0 {14,S}\n",
    "18 H u0 p0 c0 {14,S}\n",
    "\"\"\")\n",
    "mol.addBond(Bond(mol.atoms[0], mol.atoms[12], order='S'))\n",
    "mol.addBond(Bond(mol.atoms[3], mol.atoms[13], order='S'))\n",
    "bond = mol.getBond(mol.atoms[12], mol.atoms[13])\n",
    "bond.order = 'S'\n",
    "bond = mol.getBond(mol.atoms[0], mol.atoms[1])\n",
    "bond.order = 'B-'\n",
    "bond = mol.getBond(mol.atoms[1], mol.atoms[2])\n",
    "bond.order = 'B+'\n",
    "bond = mol.getBond(mol.atoms[2], mol.atoms[3])\n",
    "bond.order = 'B-'\n",
    "print mol.toAdjacencyList()\n",
    "\n",
    "#t0 = time.time()\n",
    "redistributeAromaticElectrons(mol)\n",
    "#t1 = time.time()\n",
    "#print t1 - t0\n",
    "\n",
    "mol"
   ]
  },
  {
   "cell_type": "code",
   "execution_count": 10,
   "metadata": {
    "collapsed": false
   },
   "outputs": [
    {
     "name": "stdout",
     "output_type": "stream",
     "text": [
      "multiplicity 2\n",
      "1  C u0 p0 c0 {2,B-} {6,B} {7,S} {13,S}\n",
      "2  C u1 p0 c0 {1,B-} {3,B} {8,S}\n",
      "3  C u0 p0 c0 {2,B} {4,B} {9,S}\n",
      "4  C u0 p0 c0 {3,B} {5,B} {10,S}\n",
      "5  C u0 p0 c0 {4,B} {6,B} {11,S}\n",
      "6  C u0 p0 c0 {1,B} {5,B} {12,S}\n",
      "7  H u0 p0 c0 {1,S}\n",
      "8  H u0 p0 c0 {2,S}\n",
      "9  H u0 p0 c0 {3,S}\n",
      "10 H u0 p0 c0 {4,S}\n",
      "11 H u0 p0 c0 {5,S}\n",
      "12 H u0 p0 c0 {6,S}\n",
      "13 H u0 p0 c0 {1,S}\n",
      "\n"
     ]
    },
    {
     "data": {
      "image/png": "[encoded data removed]",
      "text/plain": [
       "Molecule(SMILES=\"[CH]1C=CC=CC1\")"
      ]
     },
     "execution_count": 10,
     "metadata": {},
     "output_type": "execute_result"
    }
   ],
   "source": [
    "mol = Molecule().fromAdjacencyList(\"\"\"1  C u0 p0 c0 {2,B} {6,B} {7,S}\n",
    "2  C u0 p0 c0 {1,B} {3,B} {8,S}\n",
    "3  C u0 p0 c0 {2,B} {4,B} {9,S}\n",
    "4  C u0 p0 c0 {3,B} {5,B} {10,S}\n",
    "5  C u0 p0 c0 {4,B} {6,B} {11,S}\n",
    "6  C u0 p0 c0 {1,B} {5,B} {12,S}\n",
    "7  H u0 p0 c0 {1,S}\n",
    "8  H u0 p0 c0 {2,S}\n",
    "9  H u0 p0 c0 {3,S}\n",
    "10 H u0 p0 c0 {4,S}\n",
    "11 H u0 p0 c0 {5,S}\n",
    "12 H u0 p0 c0 {6,S}\n",
    "13 H u1 p0 c0\n",
    "\"\"\")\n",
    "mol.addBond(Bond(mol.atoms[0], mol.atoms[12], order='S'))\n",
    "bond = mol.getBond(mol.atoms[0], mol.atoms[1])\n",
    "bond.order = 'B-'\n",
    "mol.atoms[1].radicalElectrons += 1\n",
    "mol.atoms[12].radicalElectrons -= 1\n",
    "print mol.toAdjacencyList()\n",
    "\n",
    "#t0 = time.time()\n",
    "mol.redistributeAromaticElectrons()\n",
    "#t1 = time.time()\n",
    "#print t1 - t0\n",
    "\n",
    "mol"
   ]
  },
  {
   "cell_type": "code",
   "execution_count": 6,
   "metadata": {
    "collapsed": false
   },
   "outputs": [],
   "source": [
    "def redistributeAromaticElectrons(mol):\n",
    "    \"\"\"\n",
    "    Redistributes pi-electrons around aromatic rings after incrementing or decrementing a benzene bond.\n",
    "    \"\"\"\n",
    "\n",
    "    from rmgpy.molecule import PeriodicSystem\n",
    "    import numpy as np\n",
    "\n",
    "    aromaticRings = mol.getAromaticRings()\n",
    "    if aromaticRings == []:\n",
    "        return\n",
    "\n",
    "    rings = [ring for ring in aromaticRings if len(ring) == 6]\n",
    "\n",
    "    invalidRings = []\n",
    "\n",
    "    for ring in rings:\n",
    "        endoBonds = set()\n",
    "        exoBonds = set()\n",
    "        valid = True\n",
    "        for atom1 in ring:\n",
    "            for atom2, bond in atom1.bonds.iteritems():\n",
    "                if atom2 in ring:\n",
    "                    endoBonds.add(bond)\n",
    "                    if bond.order == 'B+' or bond.order == 'B-':\n",
    "                        valid = False\n",
    "                else:\n",
    "                    exoBonds.add(bond)\n",
    "        if not valid:\n",
    "            invalidRings.append((ring, list(endoBonds), list(exoBonds)))\n",
    "\n",
    "    bondOrders = {'S': 1, 'D': 2, 'T': 3, 'B': 1.5}\n",
    "    bondOrdersInv = {1: 'S', 2: 'D', 3: 'T'}\n",
    "    valences = PeriodicSystem.valences\n",
    "\n",
    "    for ring, endo, exo in invalidRings:\n",
    "        a = []\n",
    "        b = []\n",
    "        for atom in ring:\n",
    "            a.append([1 if atom in [bond.atom1, bond.atom2] else 0 for bond in endo])\n",
    "            v = valences[atom.element.symbol]\n",
    "            for bond in atom.bonds.itervalues():\n",
    "                if bond in exo:\n",
    "                    v -= bondOrders[bond.order]\n",
    "            v -= atom.radicalElectrons\n",
    "            b.append(v)\n",
    "        for index, bond in enumerate(endo):\n",
    "            if bond.order == 'B-':\n",
    "                # Must become single bond\n",
    "                new_a = [0] * len(endo)\n",
    "                new_a[index] = 1\n",
    "                a.append(new_a)\n",
    "                b.append(1)\n",
    "            elif bond.order == 'B+':\n",
    "                # Must become double bond\n",
    "                new_a = [0] * len(endo)\n",
    "                new_a[index] = 1\n",
    "                a.append(new_a)\n",
    "                b.append(2)\n",
    "\n",
    "        a = np.array(a)\n",
    "        b = np.array(b)\n",
    "\n",
    "        x = np.rint(np.dot(np.linalg.pinv(a), b)).tolist()\n",
    "\n",
    "        for index, bond in enumerate(endo):\n",
    "            bond.order = bondOrdersInv[x[index]]"
   ]
  },
  {
   "cell_type": "code",
   "execution_count": 7,
   "metadata": {
    "collapsed": false
   },
   "outputs": [],
   "source": [
    "def redistributeAromaticElectrons(mol):\n",
    "    sssr = mol.getAromaticRings()\n",
    "    if sssr == []:\n",
    "        return\n",
    "    \n",
    "    rings = [ring for ring in sssr if len(ring) == 6]\n",
    "    \n",
    "    invalidRings = []\n",
    "    \n",
    "    for ring in rings:\n",
    "        endoBonds = set()\n",
    "        exoBonds = set()\n",
    "        valid = True\n",
    "        for atom1 in ring:\n",
    "            for atom2, bond in atom1.bonds.iteritems():\n",
    "                if atom2 in ring:\n",
    "                    endoBonds.add(bond)\n",
    "                    if bond.order == 'B+' or bond.order == 'B-':\n",
    "                        valid = False\n",
    "                else:\n",
    "                    exoBonds.add(bond)\n",
    "        if not valid:\n",
    "            invalidRings.append((ring, list(endoBonds), list(exoBonds)))\n",
    "    \n",
    "    bondOrders = {'S': 1, 'D': 2, 'T': 3, 'B': 1.5}\n",
    "    bondOrdersInv = {1: 'S', 2: 'D', 3: 'T'}\n",
    "    valences = PeriodicSystem.valences\n",
    "    \n",
    "    for ring, endo, exo in invalidRings:\n",
    "        a = []\n",
    "        b = []\n",
    "        for atom in ring:\n",
    "            a.append([1 if atom in [bond.atom1, bond.atom2] else 0 for bond in endo])\n",
    "            v = valences[atom.element.symbol]\n",
    "            for bond in atom.bonds.itervalues():\n",
    "                if bond in exo:\n",
    "                    v -= bondOrders[bond.order]\n",
    "            v -= atom.radicalElectrons\n",
    "            b.append(v)\n",
    "        for index, bond in enumerate(endo):\n",
    "            if bond.order == 'B-':\n",
    "                # Must become single bond\n",
    "                new_a = [0] * len(endo)\n",
    "                new_a[index] = 1\n",
    "                a.append(new_a)\n",
    "                b.append(1)\n",
    "            elif bond.order == 'B+':\n",
    "                # Must become double bond\n",
    "                new_a = [0] * len(endo)\n",
    "                new_a[index] = 1\n",
    "                a.append(new_a)\n",
    "                b.append(2)\n",
    "\n",
    "        a = np.array(a)\n",
    "        b = np.array(b)\n",
    "        \n",
    "        x = np.rint(np.dot(np.linalg.pinv(a), b)).tolist()\n",
    "        import pdb; pdb.set_trace()\n",
    "        for index, bond in enumerate(endo):\n",
    "            bond.order = bondOrdersInv[x[index]]\n"
   ]
  },
  {
   "cell_type": "code",
   "execution_count": 24,
   "metadata": {
    "collapsed": false
   },
   "outputs": [
    {
     "data": {
      "text/plain": [
       "array([2, 2, 3, 3, 3, 3])"
      ]
     },
     "execution_count": 24,
     "metadata": {},
     "output_type": "execute_result"
    }
   ],
   "source": [
    "valence - np.dot(b, y) - radicals"
   ]
  },
  {
   "cell_type": "code",
   "execution_count": 70,
   "metadata": {
    "collapsed": false
   },
   "outputs": [
    {
     "data": {
      "text/plain": [
       "array([[0, 1, 0, 0, 1, 0],\n",
       "       [0, 1, 1, 0, 0, 0],\n",
       "       [0, 0, 1, 1, 0, 0],\n",
       "       [0, 0, 0, 1, 0, 1],\n",
       "       [1, 0, 0, 0, 0, 1],\n",
       "       [1, 0, 0, 0, 1, 0]])"
      ]
     },
     "execution_count": 70,
     "metadata": {},
     "output_type": "execute_result"
    }
   ],
   "source": [
    "a"
   ]
  },
  {
   "cell_type": "code",
   "execution_count": 71,
   "metadata": {
    "collapsed": false
   },
   "outputs": [
    {
     "data": {
      "text/plain": [
       "array([2, 2, 3, 3, 3, 3])"
      ]
     },
     "execution_count": 71,
     "metadata": {},
     "output_type": "execute_result"
    }
   ],
   "source": [
    "b"
   ]
  },
  {
   "cell_type": "code",
   "execution_count": 69,
   "metadata": {
    "collapsed": false
   },
   "outputs": [
    {
     "data": {
      "text/plain": [
       "array([ 1.66666667,  0.66666667,  1.33333333,  1.66666667,  1.33333333,\n",
       "        1.33333333])"
      ]
     },
     "execution_count": 69,
     "metadata": {},
     "output_type": "execute_result"
    }
   ],
   "source": [
    "x"
   ]
  },
  {
   "cell_type": "code",
   "execution_count": 54,
   "metadata": {
    "collapsed": false
   },
   "outputs": [
    {
     "data": {
      "text/plain": [
       "array([ 2.,  1.,  1.,  2.,  1.,  1.])"
      ]
     },
     "execution_count": 54,
     "metadata": {},
     "output_type": "execute_result"
    }
   ],
   "source": [
    "np.dot(np.linalg.pinv(a), b)"
   ]
  },
  {
   "cell_type": "code",
   "execution_count": 70,
   "metadata": {
    "collapsed": false
   },
   "outputs": [],
   "source": [
    "u, s, v = np.linalg.svd(a)\n",
    "rank = (s > 1e-5*s[0]).sum()\n",
    "nullspace = v[rank:]/np.min(v[rank:])"
   ]
  },
  {
   "cell_type": "code",
   "execution_count": 57,
   "metadata": {
    "collapsed": false
   },
   "outputs": [
    {
     "data": {
      "text/plain": [
       "array([[-0., -0.,  1.,  1.,  0., -0.],\n",
       "       [ 0., -0.,  1., -0., -0.,  1.],\n",
       "       [ 0.,  1., -0., -0., -0.,  1.],\n",
       "       [ 1.,  1.,  0., -0., -0.,  0.],\n",
       "       [ 1., -0., -0.,  0.,  1.,  0.],\n",
       "       [-0., -0.,  0.,  1.,  1., -0.]])"
      ]
     },
     "execution_count": 57,
     "metadata": {},
     "output_type": "execute_result"
    }
   ],
   "source": [
    "np.round(np.dot(u, np.dot(np.diag(s), v)), 4)"
   ]
  },
  {
   "cell_type": "code",
   "execution_count": 67,
   "metadata": {
    "collapsed": false
   },
   "outputs": [
    {
     "data": {
      "text/plain": [
       "array([[ 1., -1., -1.,  1., -1.,  1.]])"
      ]
     },
     "execution_count": 67,
     "metadata": {},
     "output_type": "execute_result"
    }
   ],
   "source": [
    "v[rank:]/np.min(v[rank:])"
   ]
  },
  {
   "cell_type": "code",
   "execution_count": 76,
   "metadata": {
    "collapsed": false
   },
   "outputs": [
    {
     "data": {
      "text/plain": [
       "array([[ 1.,  2.,  1.,  1.,  2.,  1.]])"
      ]
     },
     "execution_count": 76,
     "metadata": {},
     "output_type": "execute_result"
    }
   ],
   "source": [
    "x - (1./3)*nullspace"
   ]
  },
  {
   "cell_type": "code",
   "execution_count": null,
   "metadata": {
    "collapsed": false
   },
   "outputs": [],
   "source": []
  },
  {
   "cell_type": "code",
   "execution_count": null,
   "metadata": {
    "collapsed": false
   },
   "outputs": [],
   "source": []
  },
  {
   "cell_type": "code",
   "execution_count": null,
   "metadata": {
    "collapsed": true
   },
   "outputs": [],
   "source": []
  }
 ],
 "metadata": {
  "anaconda-cloud": {},
  "kernelspec": {
   "display_name": "Python [conda env:rmg_env]",
   "language": "python",
   "name": "conda-env-rmg_env-py"
  },
  "language_info": {
   "codemirror_mode": {
    "name": "ipython",
    "version": 2
   },
   "file_extension": ".py",
   "mimetype": "text/x-python",
   "name": "python",
   "nbconvert_exporter": "python",
   "pygments_lexer": "ipython2",
   "version": "2.7.12"
  }
 },
 "nbformat": 4,
 "nbformat_minor": 1
}
