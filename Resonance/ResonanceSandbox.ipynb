{
 "cells": [
  {
   "cell_type": "code",
   "execution_count": 1,
   "metadata": {
    "collapsed": false
   },
   "outputs": [],
   "source": [
    "from rmgpy.molecule.molecule import Molecule\n",
    "from rmgpy.molecule.resonance import *\n",
    "\n",
    "from IPython.display import display\n",
    "import time"
   ]
  },
  {
   "cell_type": "code",
   "execution_count": null,
   "metadata": {
    "collapsed": false
   },
   "outputs": [],
   "source": [
    "struct1 = Molecule().fromAdjacencyList(\"\"\"\n",
    "multiplicity 2\n",
    "1  C u0 p0 c0 {2,S} {3,D} {7,S}\n",
    "2  C u0 p0 c0 {1,S} {4,S} {8,D}\n",
    "3  C u0 p0 c0 {1,D} {5,S} {11,S}\n",
    "4  C u0 p0 c0 {2,S} {9,D} {10,S}\n",
    "5  C u0 p0 c0 {3,S} {6,D} {15,S}\n",
    "6  C u0 p0 c0 {5,D} {12,S} {16,S}\n",
    "7  C u0 p0 c0 {1,S} {12,D} {18,S}\n",
    "8  C u0 p0 c0 {2,D} {13,S} {19,S}\n",
    "9  C u0 p0 c0 {4,D} {14,S} {22,S}\n",
    "10 C u0 p0 c0 {4,S} {11,D} {23,S}\n",
    "11 C u0 p0 c0 {3,S} {10,D} {24,S}\n",
    "12 C u0 p0 c0 {6,S} {7,D} {17,S}\n",
    "13 C u0 p0 c0 {8,S} {14,D} {20,S}\n",
    "14 C u0 p0 c0 {9,S} {13,D} {21,S}\n",
    "15 C u1 p0 c0 {5,S} {25,S} {26,S}\n",
    "16 H u0 p0 c0 {6,S}\n",
    "17 H u0 p0 c0 {12,S}\n",
    "18 H u0 p0 c0 {7,S}\n",
    "19 H u0 p0 c0 {8,S}\n",
    "20 H u0 p0 c0 {13,S}\n",
    "21 H u0 p0 c0 {14,S}\n",
    "22 H u0 p0 c0 {9,S}\n",
    "23 H u0 p0 c0 {10,S}\n",
    "24 H u0 p0 c0 {11,S}\n",
    "25 H u0 p0 c0 {15,S}\n",
    "26 H u0 p0 c0 {15,S}\n",
    "\"\"\")\n",
    "# Kekulized form, radical on ring\n",
    "struct2 = Molecule().fromAdjacencyList(\"\"\"\n",
    "multiplicity 2\n",
    "1  C u0 p0 c0 {2,S} {3,S} {7,D}\n",
    "2  C u0 p0 c0 {1,S} {4,S} {8,D}\n",
    "3  C u0 p0 c0 {1,S} {5,S} {11,D}\n",
    "4  C u0 p0 c0 {2,S} {9,S} {10,D}\n",
    "5  C u0 p0 c0 {3,S} {6,S} {15,D}\n",
    "6  C u0 p0 c0 {5,S} {12,D} {16,S}\n",
    "7  C u0 p0 c0 {1,D} {12,S} {17,S}\n",
    "8  C u0 p0 c0 {2,D} {13,S} {18,S}\n",
    "9  C u0 p0 c0 {4,S} {14,D} {19,S}\n",
    "10 C u0 p0 c0 {4,D} {11,S} {20,S}\n",
    "11 C u0 p0 c0 {3,D} {10,S} {21,S}\n",
    "12 C u0 p0 c0 {6,D} {7,S} {22,S}\n",
    "13 C u1 p0 c0 {8,S} {14,S} {23,S}\n",
    "14 C u0 p0 c0 {9,D} {13,S} {24,S}\n",
    "15 C u0 p0 c0 {5,D} {25,S} {26,S}\n",
    "16 H u0 p0 c0 {6,S}\n",
    "17 H u0 p0 c0 {7,S}\n",
    "18 H u0 p0 c0 {8,S}\n",
    "19 H u0 p0 c0 {9,S}\n",
    "20 H u0 p0 c0 {10,S}\n",
    "21 H u0 p0 c0 {11,S}\n",
    "22 H u0 p0 c0 {12,S}\n",
    "23 H u0 p0 c0 {13,S}\n",
    "24 H u0 p0 c0 {14,S}\n",
    "25 H u0 p0 c0 {15,S}\n",
    "26 H u0 p0 c0 {15,S}\n",
    "\"\"\")\n",
    "# Aromatic form\n",
    "struct3 = Molecule().fromAdjacencyList(\"\"\"\n",
    "multiplicity 2\n",
    "1  C u0 p0 c0 {2,B} {3,B} {7,B}\n",
    "2  C u0 p0 c0 {1,B} {4,B} {8,B}\n",
    "3  C u0 p0 c0 {1,B} {5,B} {11,B}\n",
    "4  C u0 p0 c0 {2,B} {9,B} {10,B}\n",
    "5  C u0 p0 c0 {3,B} {6,B} {15,S}\n",
    "6  C u0 p0 c0 {5,B} {12,B} {16,S}\n",
    "7  C u0 p0 c0 {1,B} {12,B} {18,S}\n",
    "8  C u0 p0 c0 {2,B} {13,B} {19,S}\n",
    "9  C u0 p0 c0 {4,B} {14,B} {22,S}\n",
    "10 C u0 p0 c0 {4,B} {11,B} {23,S}\n",
    "11 C u0 p0 c0 {3,B} {10,B} {24,S}\n",
    "12 C u0 p0 c0 {6,B} {7,B} {17,S}\n",
    "13 C u0 p0 c0 {8,B} {14,B} {20,S}\n",
    "14 C u0 p0 c0 {9,B} {13,B} {21,S}\n",
    "15 C u1 p0 c0 {5,S} {25,S} {26,S}\n",
    "16 H u0 p0 c0 {6,S}\n",
    "17 H u0 p0 c0 {12,S}\n",
    "18 H u0 p0 c0 {7,S}\n",
    "19 H u0 p0 c0 {8,S}\n",
    "20 H u0 p0 c0 {13,S}\n",
    "21 H u0 p0 c0 {14,S}\n",
    "22 H u0 p0 c0 {9,S}\n",
    "23 H u0 p0 c0 {10,S}\n",
    "24 H u0 p0 c0 {11,S}\n",
    "25 H u0 p0 c0 {15,S}\n",
    "26 H u0 p0 c0 {15,S}\n",
    "\"\"\")\n",
    "\n",
    "t0 = time.time()\n",
    "out1 = generateAromaticResonanceStructures(struct1)\n",
    "t1 = time.time()\n",
    "print t1 - t0\n",
    "\n",
    "t0 = time.time()\n",
    "out2 = generateAromaticResonanceStructures(struct2)\n",
    "t1 = time.time()\n",
    "print t1 - t0\n",
    "\n",
    "t0 = time.time()\n",
    "out3 = generateAromaticResonanceStructures(struct3)\n",
    "t1 = time.time()\n",
    "print t1 - t0\n"
   ]
  },
  {
   "cell_type": "code",
   "execution_count": null,
   "metadata": {
    "collapsed": false
   },
   "outputs": [],
   "source": [
    "for o in out1:\n",
    "    display(o)"
   ]
  },
  {
   "cell_type": "code",
   "execution_count": null,
   "metadata": {
    "collapsed": false
   },
   "outputs": [],
   "source": [
    "for o in out2:\n",
    "    display(o)"
   ]
  },
  {
   "cell_type": "code",
   "execution_count": null,
   "metadata": {
    "collapsed": false
   },
   "outputs": [],
   "source": [
    "for o in out3:\n",
    "    display(o)"
   ]
  },
  {
   "cell_type": "code",
   "execution_count": null,
   "metadata": {
    "collapsed": false
   },
   "outputs": [],
   "source": [
    "mol = Molecule(SMILES='c12ccccc1c(C=[CH])ccc2')\n",
    "display(mol)\n",
    "print '===================='\n",
    "out = generateResonanceStructures(mol)\n",
    "for o in out:\n",
    "    display(o)"
   ]
  },
  {
   "cell_type": "code",
   "execution_count": null,
   "metadata": {
    "collapsed": false
   },
   "outputs": [],
   "source": [
    "print out[1].toAdjacencyList()"
   ]
  },
  {
   "cell_type": "code",
   "execution_count": null,
   "metadata": {
    "collapsed": false
   },
   "outputs": [],
   "source": [
    "for mol in out:\n",
    "    print mol.toAdjacencyList()\n",
    "    print '\\n'"
   ]
  },
  {
   "cell_type": "code",
   "execution_count": 2,
   "metadata": {
    "collapsed": false,
    "scrolled": true
   },
   "outputs": [
    {
     "data": {
      "image/png": "[encoded data removed]",
      "text/plain": [
       "Molecule(SMILES=\"C1=CC2C3=C4C=CC(=C14)C=23\")"
      ]
     },
     "metadata": {},
     "output_type": "display_data"
    },
    {
     "name": "stdout",
     "output_type": "stream",
     "text": [
      "====================\n"
     ]
    },
    {
     "data": {
      "image/png": "[encoded data removed]",
      "text/plain": [
       "Molecule(SMILES=\"C1=CC2C3=C4C=CC(=C14)C=23\")"
      ]
     },
     "metadata": {},
     "output_type": "display_data"
    }
   ],
   "source": [
    "mol = Molecule(SMILES=\"c1cc2c3c4ccc(c14)c23\")\n",
    "display(mol)\n",
    "print '===================='\n",
    "out = generateResonanceStructures(mol)\n",
    "for o in out:\n",
    "    display(o)"
   ]
  },
  {
   "cell_type": "code",
   "execution_count": 4,
   "metadata": {
    "collapsed": false
   },
   "outputs": [
    {
     "data": {
      "text/plain": [
       "([[<Atom 'C'>, <Atom 'C'>, <Atom 'C'>, <Atom 'C'>, <Atom 'C'>, <Atom 'C'>]],\n",
       " [[<Bond \"2.0\">,\n",
       "   <Bond \"1.0\">,\n",
       "   <Bond \"1.0\">,\n",
       "   <Bond \"2.0\">,\n",
       "   <Bond \"1.0\">,\n",
       "   <Bond \"1.0\">]])"
      ]
     },
     "execution_count": 4,
     "metadata": {},
     "output_type": "execute_result"
    }
   ],
   "source": [
    "mol.getAromaticRings()"
   ]
  },
  {
   "cell_type": "code",
   "execution_count": null,
   "metadata": {
    "collapsed": false
   },
   "outputs": [],
   "source": [
    "print out[1].toAdjacencyList()"
   ]
  },
  {
   "cell_type": "code",
   "execution_count": 15,
   "metadata": {
    "collapsed": false
   },
   "outputs": [
    {
     "data": {
      "image/png": "[encoded data removed]",
      "text/plain": [
       "Molecule(SMILES=\"CC1=C[C]=C2C3=C=CC2=C31\")"
      ]
     },
     "metadata": {},
     "output_type": "display_data"
    },
    {
     "name": "stdout",
     "output_type": "stream",
     "text": [
      "====================\n"
     ]
    },
    {
     "data": {
      "image/png": "[encoded data removed]",
      "text/plain": [
       "Molecule(SMILES=\"CC1=C[C]=C2C3=C=CC2=C31\")"
      ]
     },
     "metadata": {},
     "output_type": "display_data"
    },
    {
     "data": {
      "image/png": "[encoded data removed]",
      "text/plain": [
       "Molecule(SMILES=\"CC1:C:[C]:C2C3=C=CC:2:C:13\")"
      ]
     },
     "metadata": {},
     "output_type": "display_data"
    },
    {
     "data": {
      "image/png": "[encoded data removed]",
      "text/plain": [
       "Molecule(SMILES=\"CC1C=[C]C2C3=C=CC=2C=13\")"
      ]
     },
     "metadata": {},
     "output_type": "display_data"
    }
   ],
   "source": [
    "mol = Molecule(SMILES=\"Cc1c[c]c2C3=C=Cc2c13\")\n",
    "display(mol)\n",
    "print '===================='\n",
    "out = generateResonanceStructures(mol)\n",
    "for o in out:\n",
    "    display(o)"
   ]
  },
  {
   "cell_type": "code",
   "execution_count": null,
   "metadata": {
    "collapsed": false
   },
   "outputs": [],
   "source": [
    "toRDKitMol(mol, removeHs=False, returnMapping=True)"
   ]
  },
  {
   "cell_type": "code",
   "execution_count": null,
   "metadata": {
    "collapsed": false
   },
   "outputs": [],
   "source": [
    "mol = Molecule(SMILES=\"C=C(C1=CC2=C(C=C1C=C3)C4=CC5=CC=CC=C5C=C4C=C2)C3=C\")\n",
    "display(mol)\n",
    "print '===================='\n",
    "out = generateResonanceStructures(mol)\n",
    "for o in out:\n",
    "    display(o)"
   ]
  },
  {
   "cell_type": "code",
   "execution_count": null,
   "metadata": {
    "collapsed": false
   },
   "outputs": [],
   "source": [
    "mol = Molecule(SMILES='C12CC1CC3C2CCCC3')\n",
    "display(mol)\n",
    "mol.getAllCyclesOfSize(6)"
   ]
  },
  {
   "cell_type": "code",
   "execution_count": null,
   "metadata": {
    "collapsed": false
   },
   "outputs": [],
   "source": [
    "def getAllSimpleCyclesOfSize(self, size):\n",
    "    \"\"\"\n",
    "    Return a list of all non-duplicate monocyclic rings with length 'size'.\n",
    "\n",
    "    Naive approach by eliminating polycyclic rings that are returned by\n",
    "    ``getAllCyclicsOfSize``.\n",
    "    \"\"\"\n",
    "    cycleList = self.getAllCyclesOfSize(size)\n",
    "\n",
    "    i = 0\n",
    "    #import pdb; pdb.set_trace()\n",
    "    while i < len(cycleList):\n",
    "        for vertex in cycleList[i]:\n",
    "            internalConnectivity = sum([1 if vertex2 in cycleList[i] else 0 for vertex2 in vertex.edges.iterkeys()])\n",
    "            if internalConnectivity > 2:\n",
    "                del cycleList[i]\n",
    "                break\n",
    "        else:\n",
    "            i += 1\n",
    "\n",
    "    return cycleList"
   ]
  },
  {
   "cell_type": "code",
   "execution_count": null,
   "metadata": {
    "collapsed": false
   },
   "outputs": [],
   "source": [
    "from unittest import *\n",
    "import sys\n",
    "import rmgpy.molecule.resonanceTest\n",
    "tests = TestLoader().loadTestsFromModule(rmgpy.molecule.resonanceTest)\n",
    "TextTestRunner(verbosity=2, stream=sys.stdout).run(tests)"
   ]
  },
  {
   "cell_type": "code",
   "execution_count": null,
   "metadata": {
    "collapsed": true
   },
   "outputs": [],
   "source": [
    "from rdkit import Chem\n",
    "\n",
    "def toRDKitMol(mol, removeHs=True, returnMapping=False, sanitize=True):\n",
    "    \"\"\"\n",
    "    Convert a molecular structure to a RDKit rdmol object. Uses\n",
    "    `RDKit <http://rdkit.org/>`_ to perform the conversion.\n",
    "    Perceives aromaticity and, unless removeHs==False, removes Hydrogen atoms.\n",
    "    \n",
    "    If returnMapping==True then it also returns a dictionary mapping the \n",
    "    atoms to RDKit's atom indices.\n",
    "    \"\"\"\n",
    "    \n",
    "    # Sort the atoms before converting to ensure output is consistent\n",
    "    # between different runs\n",
    "    mol.sortAtoms()           \n",
    "    atoms = mol.vertices\n",
    "    rdAtomIndices = {} # dictionary of RDKit atom indices\n",
    "    rdkitmol = Chem.rdchem.EditableMol(Chem.rdchem.Mol())\n",
    "    for index, atom in enumerate(mol.vertices):\n",
    "        rdAtom = Chem.rdchem.Atom(atom.element.symbol)\n",
    "        rdAtom.SetNumRadicalElectrons(atom.radicalElectrons)\n",
    "        if atom.element.symbol == 'C' and atom.lonePairs == 1 and mol.multiplicity == 1: rdAtom.SetNumRadicalElectrons(2)\n",
    "        rdkitmol.AddAtom(rdAtom)\n",
    "        if removeHs and atom.symbol == 'H':\n",
    "            pass\n",
    "        else:\n",
    "            rdAtomIndices[atom] = index\n",
    "    \n",
    "    rdBonds = Chem.rdchem.BondType\n",
    "    orders = {1: rdBonds.SINGLE, 2: rdBonds.DOUBLE, 3: rdBonds.TRIPLE, 1.5: rdBonds.AROMATIC}\n",
    "    # Add the bonds\n",
    "    for atom1 in mol.vertices:\n",
    "        for atom2, bond in atom1.edges.iteritems():\n",
    "            index1 = atoms.index(atom1)\n",
    "            index2 = atoms.index(atom2)\n",
    "            if index1 < index2:\n",
    "                order = orders[bond.order]\n",
    "                rdkitmol.AddBond(index1, index2, order)\n",
    "    \n",
    "    # Make editable mol into a mol and rectify the molecule\n",
    "    rdkitmol = rdkitmol.GetMol()\n",
    "    if sanitize:\n",
    "        Chem.SanitizeMol(rdkitmol)\n",
    "    if removeHs:\n",
    "        rdkitmol = Chem.RemoveHs(rdkitmol, sanitize=sanitize)\n",
    "    if returnMapping:\n",
    "        return rdkitmol, rdAtomIndices\n",
    "    return rdkitmol"
   ]
  },
  {
   "cell_type": "code",
   "execution_count": null,
   "metadata": {
    "collapsed": true
   },
   "outputs": [],
   "source": []
  }
 ],
 "metadata": {
  "anaconda-cloud": {},
  "kernelspec": {
   "display_name": "Python [conda env:rmg_env]",
   "language": "python",
   "name": "conda-env-rmg_env-py"
  },
  "language_info": {
   "codemirror_mode": {
    "name": "ipython",
    "version": 2
   },
   "file_extension": ".py",
   "mimetype": "text/x-python",
   "name": "python",
   "nbconvert_exporter": "python",
   "pygments_lexer": "ipython2",
   "version": "2.7.12"
  }
 },
 "nbformat": 4,
 "nbformat_minor": 1
}
