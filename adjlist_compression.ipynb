{
 "cells": [
  {
   "cell_type": "code",
   "execution_count": 28,
   "metadata": {
    "collapsed": true
   },
   "outputs": [],
   "source": [
    "import urllib2\n",
    "from IPython.display import display\n",
    "\n",
    "from rmgpy.molecule import Molecule"
   ]
  },
  {
   "cell_type": "code",
   "execution_count": 65,
   "metadata": {
    "collapsed": true
   },
   "outputs": [],
   "source": [
    "def compress_adjacency_list(adjlist):\n",
    "    mult = None\n",
    "    atom_list = []\n",
    "    bond_set = set()\n",
    "    lines = adjlist.splitlines()\n",
    "    for line in lines:\n",
    "        if 'multiplicity' in line:\n",
    "            mult = line.split()[1]\n",
    "            continue\n",
    "        # split into atom section and bond section\n",
    "        index = line.find('{')\n",
    "        atom_info = line[0:index].strip().split()\n",
    "        bond_info = line[index:].strip().split()\n",
    "        # replace spaces in atom section with periods\n",
    "        atom_list.append('.'.join(atom_info[1:]))\n",
    "        current_index = atom_info[0]\n",
    "        # bonds should be pairs of indices\n",
    "        for bond in bond_info:\n",
    "            parts = bond[1:-1].split(',')\n",
    "            indices = [current_index, parts[0]]\n",
    "            indices.sort()\n",
    "            entry = '.'.join(indices + [parts[1]])\n",
    "            bond_set.add(entry)\n",
    "    # combine into string\n",
    "    bond_list = sorted(list(bond_set))\n",
    "    if mult is not None:\n",
    "        compressed = 'mult{0}'.format(mult) + '_' + '-'.join(atom_list) + '_' + '-'.join(bond_list)\n",
    "    else:\n",
    "        compressed = '-'.join(atom_list) + '_' + '-'.join(bond_list)\n",
    "    \n",
    "    return compressed\n",
    "    \n",
    "    \n",
    "def decompress_adjacency_list(comp_adjlist):\n",
    "    parts = comp_adjlist.split('_')\n",
    "    if len(parts) == 3:\n",
    "        mult = parts[0][4:]\n",
    "        atom_info = parts[1].split('-')\n",
    "        bond_info = parts[2].split('-')\n",
    "\n",
    "    elif len(parts) == 2:\n",
    "        mult = None\n",
    "        atom_info = parts[0].split('-')\n",
    "        bond_info = parts[1].split('-')\n",
    "\n",
    "    atom_list = []\n",
    "    for i, atom in enumerate(atom_info):\n",
    "        atom_list.append(str(i+1) + ' ' + ' '.join(atom.split('.')))\n",
    "    bond_dict = {}\n",
    "    for bond in bond_info:\n",
    "        parts = bond.split('.')\n",
    "        ind1 = int(parts[0])\n",
    "        ind2 = int(parts[1])\n",
    "        order = parts[2]\n",
    "        if ind1 in bond_dict:\n",
    "            bond_dict[ind1].append((ind2, order))\n",
    "        else:\n",
    "            bond_dict[ind1] = [(ind2, order)]\n",
    "        if ind2 in bond_dict:\n",
    "            bond_dict[ind2].append((ind1, order))\n",
    "        else:\n",
    "            bond_dict[ind2] = [(ind1, order)]\n",
    "            \n",
    "    bond_list = []\n",
    "    for i in range(len(atom_list)):\n",
    "        bonds = sorted(bond_dict[i+1], key=lambda x: x[0])\n",
    "        bond_list.append(' '.join(['{{{0},{1}}}'.format(a, b) for a, b in bonds]))\n",
    "    \n",
    "    lines = [atom + ' ' + bond for atom, bond in zip(atom_list, bond_list)]\n",
    "    if mult is not None:\n",
    "        adjlist = 'multiplicity {0}\\n'.format(mult)\n",
    "    else:\n",
    "        adjlist = ''\n",
    "    adjlist += '\\n'.join(lines)\n",
    "    \n",
    "    return adjlist\n",
    "        "
   ]
  },
  {
   "cell_type": "code",
   "execution_count": 71,
   "metadata": {},
   "outputs": [
    {
     "data": {
      "image/png": "[encoded data removed]",
      "text/plain": [
       "Molecule(SMILES=\"[C]1C=CC=C2C=CC=CC=12\")"
      ]
     },
     "metadata": {},
     "output_type": "display_data"
    },
    {
     "name": "stdout",
     "output_type": "stream",
     "text": [
      "478 958 309 309\n",
      "multiplicity 2\n",
      "1  C u0 p0 c0 {2,S} {3,D} {4,S}\n",
      "2  C u0 p0 c0 {1,S} {5,S} {10,D}\n",
      "3  C u0 p0 c0 {1,D} {8,S} {12,S}\n",
      "4  C u0 p0 c0 {1,S} {6,D} {13,S}\n",
      "5  C u0 p0 c0 {2,S} {7,D} {16,S}\n",
      "6  C u0 p0 c0 {4,D} {7,S} {14,S}\n",
      "7  C u0 p0 c0 {5,D} {6,S} {15,S}\n",
      "8  C u0 p0 c0 {3,S} {9,D} {11,S}\n",
      "9  C u0 p0 c0 {8,D} {10,S} {17,S}\n",
      "10 C u1 p0 c0 {2,D} {9,S}\n",
      "11 H u0 p0 c0 {8,S}\n",
      "12 H u0 p0 c0 {3,S}\n",
      "13 H u0 p0 c0 {4,S}\n",
      "14 H u0 p0 c0 {6,S}\n",
      "15 H u0 p0 c0 {7,S}\n",
      "16 H u0 p0 c0 {5,S}\n",
      "17 H u0 p0 c0 {9,S}\n",
      "\n",
      "multiplicity 2\n",
      "1 C u0 p0 c0 {2,S} {3,D} {4,S}\n",
      "2 C u0 p0 c0 {1,S} {5,S} {10,D}\n",
      "3 C u0 p0 c0 {1,D} {8,S} {12,S}\n",
      "4 C u0 p0 c0 {1,S} {6,D} {13,S}\n",
      "5 C u0 p0 c0 {2,S} {7,D} {16,S}\n",
      "6 C u0 p0 c0 {4,D} {7,S} {14,S}\n",
      "7 C u0 p0 c0 {5,D} {6,S} {15,S}\n",
      "8 C u0 p0 c0 {3,S} {9,D} {11,S}\n",
      "9 C u0 p0 c0 {8,D} {10,S} {17,S}\n",
      "10 C u1 p0 c0 {2,D} {9,S}\n",
      "11 H u0 p0 c0 {8,S}\n",
      "12 H u0 p0 c0 {3,S}\n",
      "13 H u0 p0 c0 {4,S}\n",
      "14 H u0 p0 c0 {6,S}\n",
      "15 H u0 p0 c0 {7,S}\n",
      "16 H u0 p0 c0 {5,S}\n",
      "17 H u0 p0 c0 {9,S}\n"
     ]
    }
   ],
   "source": [
    "mol = Molecule().fromSMILES('c12[c]cccc1cccc2')\n",
    "display(mol)\n",
    "\n",
    "adjlist = mol.toAdjacencyList()\n",
    "\n",
    "comp = compress_adjacency_list(mol.toAdjacencyList())\n",
    "\n",
    "decomp = decompress_adjacency_list(comp)\n",
    "\n",
    "quoted = urllib2.quote(adjlist)\n",
    "quoted2 = urllib2.quote(comp)\n",
    "\n",
    "print len(adjlist), len(quoted), len(comp), len(quoted2)\n",
    "\n",
    "print adjlist\n",
    "print decompress_adjacency_list(comp)"
   ]
  },
  {
   "cell_type": "code",
   "execution_count": null,
   "metadata": {
    "collapsed": true
   },
   "outputs": [],
   "source": []
  }
 ],
 "metadata": {
  "kernelspec": {
   "display_name": "Python 2",
   "language": "python",
   "name": "python2"
  },
  "language_info": {
   "codemirror_mode": {
    "name": "ipython",
    "version": 2
   },
   "file_extension": ".py",
   "mimetype": "text/x-python",
   "name": "python",
   "nbconvert_exporter": "python",
   "pygments_lexer": "ipython2",
   "version": "2.7.14"
  }
 },
 "nbformat": 4,
 "nbformat_minor": 2
}
