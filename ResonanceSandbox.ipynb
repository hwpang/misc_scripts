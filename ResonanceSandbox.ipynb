{
 "cells": [
  {
   "cell_type": "code",
   "execution_count": null,
   "metadata": {
    "collapsed": false
   },
   "outputs": [],
   "source": [
    "from rmgpy.molecule.molecule import Molecule\n",
    "from rmgpy.molecule.resonance import *\n",
    "\n",
    "from IPython.display import display\n",
    "import time"
   ]
  },
  {
   "cell_type": "code",
   "execution_count": null,
   "metadata": {
    "collapsed": false
   },
   "outputs": [],
   "source": [
    "struct1 = Molecule().fromAdjacencyList(\"\"\"\n",
    "multiplicity 2\n",
    "1  C u0 p0 c0 {2,S} {3,D} {7,S}\n",
    "2  C u0 p0 c0 {1,S} {4,S} {8,D}\n",
    "3  C u0 p0 c0 {1,D} {5,S} {11,S}\n",
    "4  C u0 p0 c0 {2,S} {9,D} {10,S}\n",
    "5  C u0 p0 c0 {3,S} {6,D} {15,S}\n",
    "6  C u0 p0 c0 {5,D} {12,S} {16,S}\n",
    "7  C u0 p0 c0 {1,S} {12,D} {18,S}\n",
    "8  C u0 p0 c0 {2,D} {13,S} {19,S}\n",
    "9  C u0 p0 c0 {4,D} {14,S} {22,S}\n",
    "10 C u0 p0 c0 {4,S} {11,D} {23,S}\n",
    "11 C u0 p0 c0 {3,S} {10,D} {24,S}\n",
    "12 C u0 p0 c0 {6,S} {7,D} {17,S}\n",
    "13 C u0 p0 c0 {8,S} {14,D} {20,S}\n",
    "14 C u0 p0 c0 {9,S} {13,D} {21,S}\n",
    "15 C u1 p0 c0 {5,S} {25,S} {26,S}\n",
    "16 H u0 p0 c0 {6,S}\n",
    "17 H u0 p0 c0 {12,S}\n",
    "18 H u0 p0 c0 {7,S}\n",
    "19 H u0 p0 c0 {8,S}\n",
    "20 H u0 p0 c0 {13,S}\n",
    "21 H u0 p0 c0 {14,S}\n",
    "22 H u0 p0 c0 {9,S}\n",
    "23 H u0 p0 c0 {10,S}\n",
    "24 H u0 p0 c0 {11,S}\n",
    "25 H u0 p0 c0 {15,S}\n",
    "26 H u0 p0 c0 {15,S}\n",
    "\"\"\")\n",
    "# Kekulized form, radical on ring\n",
    "struct2 = Molecule().fromAdjacencyList(\"\"\"\n",
    "multiplicity 2\n",
    "1  C u0 p0 c0 {2,S} {3,S} {7,D}\n",
    "2  C u0 p0 c0 {1,S} {4,S} {8,D}\n",
    "3  C u0 p0 c0 {1,S} {5,S} {11,D}\n",
    "4  C u0 p0 c0 {2,S} {9,S} {10,D}\n",
    "5  C u0 p0 c0 {3,S} {6,S} {15,D}\n",
    "6  C u0 p0 c0 {5,S} {12,D} {16,S}\n",
    "7  C u0 p0 c0 {1,D} {12,S} {17,S}\n",
    "8  C u0 p0 c0 {2,D} {13,S} {18,S}\n",
    "9  C u0 p0 c0 {4,S} {14,D} {19,S}\n",
    "10 C u0 p0 c0 {4,D} {11,S} {20,S}\n",
    "11 C u0 p0 c0 {3,D} {10,S} {21,S}\n",
    "12 C u0 p0 c0 {6,D} {7,S} {22,S}\n",
    "13 C u1 p0 c0 {8,S} {14,S} {23,S}\n",
    "14 C u0 p0 c0 {9,D} {13,S} {24,S}\n",
    "15 C u0 p0 c0 {5,D} {25,S} {26,S}\n",
    "16 H u0 p0 c0 {6,S}\n",
    "17 H u0 p0 c0 {7,S}\n",
    "18 H u0 p0 c0 {8,S}\n",
    "19 H u0 p0 c0 {9,S}\n",
    "20 H u0 p0 c0 {10,S}\n",
    "21 H u0 p0 c0 {11,S}\n",
    "22 H u0 p0 c0 {12,S}\n",
    "23 H u0 p0 c0 {13,S}\n",
    "24 H u0 p0 c0 {14,S}\n",
    "25 H u0 p0 c0 {15,S}\n",
    "26 H u0 p0 c0 {15,S}\n",
    "\"\"\")\n",
    "# Aromatic form\n",
    "struct3 = Molecule().fromAdjacencyList(\"\"\"\n",
    "multiplicity 2\n",
    "1  C u0 p0 c0 {2,B} {3,B} {7,B}\n",
    "2  C u0 p0 c0 {1,B} {4,B} {8,B}\n",
    "3  C u0 p0 c0 {1,B} {5,B} {11,B}\n",
    "4  C u0 p0 c0 {2,B} {9,B} {10,B}\n",
    "5  C u0 p0 c0 {3,B} {6,B} {15,S}\n",
    "6  C u0 p0 c0 {5,B} {12,B} {16,S}\n",
    "7  C u0 p0 c0 {1,B} {12,B} {18,S}\n",
    "8  C u0 p0 c0 {2,B} {13,B} {19,S}\n",
    "9  C u0 p0 c0 {4,B} {14,B} {22,S}\n",
    "10 C u0 p0 c0 {4,B} {11,B} {23,S}\n",
    "11 C u0 p0 c0 {3,B} {10,B} {24,S}\n",
    "12 C u0 p0 c0 {6,B} {7,B} {17,S}\n",
    "13 C u0 p0 c0 {8,B} {14,B} {20,S}\n",
    "14 C u0 p0 c0 {9,B} {13,B} {21,S}\n",
    "15 C u1 p0 c0 {5,S} {25,S} {26,S}\n",
    "16 H u0 p0 c0 {6,S}\n",
    "17 H u0 p0 c0 {12,S}\n",
    "18 H u0 p0 c0 {7,S}\n",
    "19 H u0 p0 c0 {8,S}\n",
    "20 H u0 p0 c0 {13,S}\n",
    "21 H u0 p0 c0 {14,S}\n",
    "22 H u0 p0 c0 {9,S}\n",
    "23 H u0 p0 c0 {10,S}\n",
    "24 H u0 p0 c0 {11,S}\n",
    "25 H u0 p0 c0 {15,S}\n",
    "26 H u0 p0 c0 {15,S}\n",
    "\"\"\")\n",
    "\n",
    "t0 = time.time()\n",
    "out1 = generateResonanceIsomers(struct1)\n",
    "t1 = time.time()\n",
    "print t1 - t0\n",
    "\n",
    "t0 = time.time()\n",
    "out2 = generateResonanceIsomers(struct2)\n",
    "t1 = time.time()\n",
    "print t1 - t0\n",
    "\n",
    "t0 = time.time()\n",
    "out3 = generateResonanceIsomers(struct3)\n",
    "t1 = time.time()\n",
    "print t1 - t0\n"
   ]
  },
  {
   "cell_type": "code",
   "execution_count": null,
   "metadata": {
    "collapsed": false
   },
   "outputs": [],
   "source": [
    "out1"
   ]
  },
  {
   "cell_type": "code",
   "execution_count": null,
   "metadata": {
    "collapsed": false
   },
   "outputs": [],
   "source": [
    "out2"
   ]
  },
  {
   "cell_type": "code",
   "execution_count": null,
   "metadata": {
    "collapsed": false
   },
   "outputs": [],
   "source": [
    "out3"
   ]
  },
  {
   "cell_type": "code",
   "execution_count": null,
   "metadata": {
    "collapsed": false
   },
   "outputs": [],
   "source": [
    "mol = Molecule(SMILES='[c]1cc2C3=CC=Cc2c3c1')\n",
    "display(mol)\n",
    "print '===================='\n",
    "out = generateResonanceStructures(mol)\n",
    "for o in out:\n",
    "    display(o)"
   ]
  },
  {
   "cell_type": "code",
   "execution_count": null,
   "metadata": {
    "collapsed": false
   },
   "outputs": [],
   "source": [
    "out = mol.getAllCyclesOfSize(6)\n",
    "print out\n",
    "out = mol.getAromaticSSSR()[0]\n",
    "print out"
   ]
  },
  {
   "cell_type": "code",
   "execution_count": null,
   "metadata": {
    "collapsed": false
   },
   "outputs": [],
   "source": [
    "for mol in out:\n",
    "    print mol.toAdjacencyList()\n",
    "    print '\\n'"
   ]
  },
  {
   "cell_type": "code",
   "execution_count": null,
   "metadata": {
    "collapsed": false
   },
   "outputs": [],
   "source": [
    "mol = Molecule(SMILES=\"c12[c]cccc1cccc2\")\n",
    "out = generateAromaticResonanceIsomers(Molecule(SMILES=\"c12[c]cccc1cccc2\"))\n",
    "analyzeMolecule(mol)"
   ]
  },
  {
   "cell_type": "code",
   "execution_count": null,
   "metadata": {
    "collapsed": false
   },
   "outputs": [],
   "source": [
    "mol1 = Molecule(SMILES=\"C1=C([CH2])C2=CC=C3C=CC=C4C=CC(=C1)C2=C43\")\n",
    "\n",
    "t0 = time.time()\n",
    "out1 = generateResonanceIsomers(mol1)\n",
    "t1 = time.time()\n",
    "\n",
    "print t1 - t0, len(out1)"
   ]
  },
  {
   "cell_type": "code",
   "execution_count": null,
   "metadata": {
    "collapsed": false
   },
   "outputs": [],
   "source": [
    "n = 0\n",
    "print out1[n].toAdjacencyList()\n",
    "out1[n]"
   ]
  },
  {
   "cell_type": "code",
   "execution_count": null,
   "metadata": {
    "collapsed": false
   },
   "outputs": [],
   "source": [
    "mol2 = Molecule(SMILES=\"[CH2]C1=CC=CC2C3=CC=CC=C3C=CC=21\")\n",
    "\n",
    "t0 = time.time()\n",
    "out2 = generateResonanceIsomers(mol2)\n",
    "t1 = time.time()\n",
    "\n",
    "print t1 - t0, len(out2)"
   ]
  },
  {
   "cell_type": "code",
   "execution_count": null,
   "metadata": {
    "collapsed": false
   },
   "outputs": [],
   "source": [
    "n = 1\n",
    "print out2[n].toAdjacencyList()\n",
    "out2[n]"
   ]
  },
  {
   "cell_type": "code",
   "execution_count": null,
   "metadata": {
    "collapsed": false
   },
   "outputs": [],
   "source": [
    "mol3 = Molecule().fromAdjacencyList(\"\"\"\n",
    "multiplicity 2\n",
    "1  C u0 p0 c0 {2,S} {3,S} {7,D}\n",
    "2  C u0 p0 c0 {1,S} {4,S} {8,D}\n",
    "3  C u0 p0 c0 {1,S} {5,S} {11,D}\n",
    "4  C u0 p0 c0 {2,S} {9,S} {10,D}\n",
    "5  C u0 p0 c0 {3,S} {6,S} {15,D}\n",
    "6  C u0 p0 c0 {5,S} {12,D} {16,S}\n",
    "7  C u0 p0 c0 {1,D} {12,S} {17,S}\n",
    "8  C u0 p0 c0 {2,D} {13,S} {18,S}\n",
    "9  C u0 p0 c0 {4,S} {14,D} {19,S}\n",
    "10 C u0 p0 c0 {4,D} {11,S} {20,S}\n",
    "11 C u0 p0 c0 {3,D} {10,S} {21,S}\n",
    "12 C u0 p0 c0 {6,D} {7,S} {22,S}\n",
    "13 C u1 p0 c0 {8,S} {14,S} {23,S}\n",
    "14 C u0 p0 c0 {9,D} {13,S} {24,S}\n",
    "15 C u0 p0 c0 {5,D} {25,S} {26,S}\n",
    "16 H u0 p0 c0 {6,S}\n",
    "17 H u0 p0 c0 {7,S}\n",
    "18 H u0 p0 c0 {8,S}\n",
    "19 H u0 p0 c0 {9,S}\n",
    "20 H u0 p0 c0 {10,S}\n",
    "21 H u0 p0 c0 {11,S}\n",
    "22 H u0 p0 c0 {12,S}\n",
    "23 H u0 p0 c0 {13,S}\n",
    "24 H u0 p0 c0 {14,S}\n",
    "25 H u0 p0 c0 {15,S}\n",
    "26 H u0 p0 c0 {15,S}\n",
    "\"\"\")\n",
    "t0 = time.time()\n",
    "out3 = generateResonanceIsomers(mol3)\n",
    "t1 = time.time()\n",
    "\n",
    "print t1 - t0, len(out3)"
   ]
  },
  {
   "cell_type": "code",
   "execution_count": null,
   "metadata": {
    "collapsed": false
   },
   "outputs": [],
   "source": [
    "from unittest import *\n",
    "import sys\n",
    "import rmgpy.molecule.resonanceTest\n",
    "tests = TestLoader().loadTestsFromModule(rmgpy.molecule.resonanceTest)\n",
    "TextTestRunner(verbosity=2, stream=sys.stdout).run(tests)"
   ]
  },
  {
   "cell_type": "code",
   "execution_count": null,
   "metadata": {
    "collapsed": true
   },
   "outputs": [],
   "source": []
  }
 ],
 "metadata": {
  "anaconda-cloud": {},
  "kernelspec": {
   "display_name": "Python [conda env:rmg_env]",
   "language": "python",
   "name": "conda-env-rmg_env-py"
  },
  "language_info": {
   "codemirror_mode": {
    "name": "ipython",
    "version": 2
   },
   "file_extension": ".py",
   "mimetype": "text/x-python",
   "name": "python",
   "nbconvert_exporter": "python",
   "pygments_lexer": "ipython2",
   "version": "2.7.12"
  }
 },
 "nbformat": 4,
 "nbformat_minor": 1
}
