{
 "cells": [
  {
   "cell_type": "code",
   "execution_count": 20,
   "metadata": {
    "collapsed": true
   },
   "outputs": [],
   "source": [
    "from rmgpy.chemkin import loadChemkinFile\n",
    "from rmgpy.kinetics import KineticsData, ArrheniusEP, ThirdBody, Lindemann, Troe, Chebyshev, PDepArrhenius, MultiArrhenius, MultiPDepArrhenius, getRateCoefficientUnitsFromReactionOrder\n",
    "from rmgpy.reaction import Reaction\n",
    "import numpy"
   ]
  },
  {
   "cell_type": "code",
   "execution_count": 2,
   "metadata": {
    "collapsed": false
   },
   "outputs": [],
   "source": [
    "path = '/home/mjliu/Documents/ReverseReactions/kinetics.inp'\n",
    "dict = '/home/mjliu/Documents/ReverseReactions/dictionary.txt'\n",
    "speciesList, reactionList = loadChemkinFile(path)"
   ]
  },
  {
   "cell_type": "code",
   "execution_count": 17,
   "metadata": {
    "collapsed": false
   },
   "outputs": [
    {
     "data": {
      "text/plain": [
       "PDepArrhenius(pressures=([0.03947,1,10,100],'atm'), arrhenius=[MultiArrhenius(arrhenius=[Arrhenius(A=(3.62e+84,'cm^3/(mol*s)'), n=-21.48, Ea=(42190,'cal/mol'), T0=(1,'K')), Arrhenius(A=(2.16e+43,'cm^3/(mol*s)'), n=-10.07, Ea=(12890,'cal/mol'), T0=(1,'K'))]), MultiArrhenius(arrhenius=[Arrhenius(A=(2.63e+69,'cm^3/(mol*s)'), n=-16.52, Ea=(40770,'cal/mol'), T0=(1,'K')), Arrhenius(A=(2.89e+26,'cm^3/(mol*s)'), n=-4.68, Ea=(7584,'cal/mol'), T0=(1,'K'))]), MultiArrhenius(arrhenius=[Arrhenius(A=(7.59e+49,'cm^3/(mol*s)'), n=-10.65, Ea=(32900,'cal/mol'), T0=(1,'K')), Arrhenius(A=(1.04e+17,'cm^3/(mol*s)'), n=-1.72, Ea=(4254,'cal/mol'), T0=(1,'K'))]), MultiArrhenius(arrhenius=[Arrhenius(A=(1.35e+27,'cm^3/(mol*s)'), n=-4.11, Ea=(18320,'cal/mol'), T0=(1,'K')), Arrhenius(A=(1.27e+20,'cm^3/(mol*s)'), n=-2.72, Ea=(5193,'cal/mol'), T0=(1,'K'))])])"
      ]
     },
     "execution_count": 17,
     "metadata": {},
     "output_type": "execute_result"
    }
   ],
   "source": [
    "reactionList[0].kinetics"
   ]
  },
  {
   "cell_type": "code",
   "execution_count": 4,
   "metadata": {
    "collapsed": false
   },
   "outputs": [
    {
     "data": {
      "text/plain": [
       "4"
      ]
     },
     "execution_count": 4,
     "metadata": {},
     "output_type": "execute_result"
    }
   ],
   "source": [
    "len(reactionList)"
   ]
  },
  {
   "cell_type": "code",
   "execution_count": 5,
   "metadata": {
    "collapsed": false
   },
   "outputs": [],
   "source": [
    "def writePLOG(kinetics):\n",
    "    string = \"\"\n",
    "    numReactants = 1\n",
    "    \n",
    "    if hasattr(kinetics,'highPlimit') and kinetics.highPlimit is not None:\n",
    "        arrhenius = kinetics.highPlimit\n",
    "        string += '{0:<9.3e} {1:<9.3f} {2:<9.3f}'.format(\n",
    "            arrhenius.A.value_si / (arrhenius.T0.value_si ** arrhenius.n.value_si) * 1.0e6 ** (numReactants - 1),\n",
    "            arrhenius.n.value_si,\n",
    "            arrhenius.Ea.value_si / 4184.\n",
    "            )\n",
    "    else:\n",
    "        # Print dummy values that Chemkin parses but ignores\n",
    "        string += '{0:<9.3e} {1:<9.3f} {2:<9.3f}'.format(1, 0, 0)\n",
    "        \n",
    "    string += '\\n'\n",
    "    \n",
    "    for P, arrhenius in zip(kinetics.pressures.value_si, kinetics.arrhenius):\n",
    "        if isinstance(arrhenius, MultiArrhenius):\n",
    "            for arrh in arrhenius.arrhenius:\n",
    "                string += '    PLOG/ {0:<9.3f} {1:<9.3e} {2:<9.3f} {3:<9.3f}/\\n'.format(P / 101325.,\n",
    "                arrh.A.value_si / (arrh.T0.value_si ** arrh.n.value_si) * 1.0e6 ** (numReactants - 1),\n",
    "                arrh.n.value_si,\n",
    "                arrh.Ea.value_si / 4184.\n",
    "                )\n",
    "        else:\n",
    "            string += '    PLOG/ {0:<9.3f} {1:<9.3e} {2:<9.3f} {3:<9.3f}/\\n'.format(P / 101325.,\n",
    "                arrhenius.A.value_si / (arrhenius.T0.value_si ** arrhenius.n.value_si) * 1.0e6 ** (numReactants - 1),\n",
    "                arrhenius.n.value_si,\n",
    "                arrhenius.Ea.value_si / 4184.\n",
    "            )\n",
    "            \n",
    "    return string"
   ]
  },
  {
   "cell_type": "code",
   "execution_count": 26,
   "metadata": {
    "collapsed": true
   },
   "outputs": [],
   "source": [
    "def reverseRateOld(reaction):\n",
    "    kunits = getRateCoefficientUnitsFromReactionOrder(len(reaction.products))\n",
    "            \n",
    "    kf = reaction.kinetics\n",
    "\n",
    "    if isinstance(kf, PDepArrhenius):\n",
    "        if kf.Tmin is not None and kf.Tmax is not None:\n",
    "            Tlist = 1.0/numpy.linspace(1.0/kf.Tmax.value, 1.0/kf.Tmin.value, 50)\n",
    "        else:\n",
    "            Tlist = 1.0/numpy.arange(0.0005, 0.0034, 0.0001)\n",
    "        Plist = kf.pressures.value_si\n",
    "        K = numpy.zeros((len(Tlist), len(Plist)), numpy.float64)\n",
    "        for Tindex, T in enumerate(Tlist):\n",
    "            for Pindex, P in enumerate(Plist):\n",
    "                K[Tindex, Pindex] = kf.getRateCoefficient(T, P) / reaction.getEquilibriumConstant(T)\n",
    "        kr = PDepArrhenius()\n",
    "        kr.fitToData(Tlist, Plist, K, kunits, kf.arrhenius[0].T0.value)\n",
    "        return kr"
   ]
  },
  {
   "cell_type": "code",
   "execution_count": 33,
   "metadata": {
    "collapsed": false
   },
   "outputs": [],
   "source": [
    "string1 =  writePLOG(reverseRateOld(reactionList[2]))"
   ]
  },
  {
   "cell_type": "code",
   "execution_count": 29,
   "metadata": {
    "collapsed": true
   },
   "outputs": [],
   "source": [
    "def reverseRateNew(reaction):\n",
    "    kunits = getRateCoefficientUnitsFromReactionOrder(len(reaction.products))\n",
    "            \n",
    "    kf = reaction.kinetics\n",
    "\n",
    "    if isinstance(kf, PDepArrhenius):\n",
    "        kr = PDepArrhenius()\n",
    "        kr.pressures = kf.pressures\n",
    "        kr.arrhenius = []\n",
    "        rxn = Reaction(reactants = reaction.reactants, products = reaction.products)            \n",
    "        \n",
    "        for kinetics in kf.arrhenius:\n",
    "            rxn.kinetics = kinetics\n",
    "            kr.arrhenius.append(rxn.generateReverseRateCoefficient())\n",
    "            \n",
    "        return kr"
   ]
  },
  {
   "cell_type": "code",
   "execution_count": 30,
   "metadata": {
    "collapsed": false
   },
   "outputs": [],
   "source": [
    "string2 =  writePLOG(reverseRateNew(reactionList[2]))"
   ]
  },
  {
   "cell_type": "code",
   "execution_count": 34,
   "metadata": {
    "collapsed": false
   },
   "outputs": [
    {
     "name": "stdout",
     "output_type": "stream",
     "text": [
      "1.000e+00 0.000     0.000    \n",
      "    PLOG/ 0.005     2.416e+11 -0.639    65.688   /\n",
      "    PLOG/ 0.022     9.317e+11 -0.624    65.688   /\n",
      "    PLOG/ 0.099     2.046e+12 -0.555    65.689   /\n",
      "\n",
      "1.000e+00 0.000     0.000    \n",
      "    PLOG/ 0.005     2.416e+11 -0.639    65.688   /\n",
      "    PLOG/ 0.022     9.317e+11 -0.624    65.688   /\n",
      "    PLOG/ 0.099     2.046e+12 -0.555    65.689   /\n",
      "\n",
      "True\n"
     ]
    }
   ],
   "source": [
    "print string1\n",
    "print string2\n",
    "print string1 == string2"
   ]
  },
  {
   "cell_type": "code",
   "execution_count": 35,
   "metadata": {
    "collapsed": false
   },
   "outputs": [
    {
     "name": "stdout",
     "output_type": "stream",
     "text": [
      "1.000e+00 0.000     0.000    \n",
      "    PLOG/ 0.039     1.199e+92 -23.015   92.578   /\n",
      "    PLOG/ 0.039     7.152e+50 -11.605   63.278   /\n",
      "    PLOG/ 1.000     8.708e+76 -18.055   91.158   /\n",
      "    PLOG/ 1.000     9.569e+33 -6.215    57.972   /\n",
      "    PLOG/ 10.000    2.513e+57 -12.185   83.288   /\n",
      "    PLOG/ 10.000    3.443e+24 -3.255    54.642   /\n",
      "    PLOG/ 100.000   4.470e+34 -5.645    68.708   /\n",
      "    PLOG/ 100.000   4.205e+27 -4.255    55.581   /\n",
      "\n"
     ]
    }
   ],
   "source": [
    "print writePLOG(reverseRateNew(reactionList[0]))"
   ]
  },
  {
   "cell_type": "code",
   "execution_count": null,
   "metadata": {
    "collapsed": true
   },
   "outputs": [],
   "source": []
  }
 ],
 "metadata": {
  "anaconda-cloud": {},
  "kernelspec": {
   "display_name": "Python [conda env:rmg_env]",
   "language": "python",
   "name": "conda-env-rmg_env-py"
  },
  "language_info": {
   "codemirror_mode": {
    "name": "ipython",
    "version": 2
   },
   "file_extension": ".py",
   "mimetype": "text/x-python",
   "name": "python",
   "nbconvert_exporter": "python",
   "pygments_lexer": "ipython2",
   "version": "2.7.12"
  }
 },
 "nbformat": 4,
 "nbformat_minor": 1
}
