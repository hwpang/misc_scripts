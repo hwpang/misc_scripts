{
 "cells": [
  {
   "cell_type": "code",
   "execution_count": 1,
   "metadata": {
    "collapsed": true
   },
   "outputs": [],
   "source": [
    "import rmgpy\n",
    "from rmgpy.data.rmg import RMGDatabase\n",
    "from rmgpy.reaction import Reaction\n",
    "from rmgpy.molecule.molecule import Molecule"
   ]
  },
  {
   "cell_type": "code",
   "execution_count": 2,
   "metadata": {
    "collapsed": false
   },
   "outputs": [],
   "source": [
    "databasePath = rmgpy.settings['database.directory']\n",
    "\n",
    "database = RMGDatabase()\n",
    "database.load(\n",
    "    path = databasePath,\n",
    "    thermoLibraries = [],\n",
    "    reactionLibraries = [],\n",
    "    seedMechanisms = [],\n",
    "    kineticsFamilies = ['Intra_R_Add_Endocyclic', 'Intra_R_Add_Exocyclic'],\n",
    "    )"
   ]
  },
  {
   "cell_type": "code",
   "execution_count": 3,
   "metadata": {
    "collapsed": true
   },
   "outputs": [],
   "source": [
    "reactants = [\n",
    "    'c1ccccc1[CH2]',\n",
    "    'c1ccccc1C[CH2]',\n",
    "    'c1ccccc1CC[CH2]',\n",
    "    'c1ccccc1CCCC[CH2]',\n",
    "    'C1CCC=CC1[CH2]',\n",
    "    'C1CCC=CC1C[CH2]',\n",
    "    'C1CCC=CC1CC[CH2]',\n",
    "    'C1CCC=CC1CCC[CH2]',\n",
    "]"
   ]
  },
  {
   "cell_type": "code",
   "execution_count": 4,
   "metadata": {
    "collapsed": false
   },
   "outputs": [
    {
     "name": "stdout",
     "output_type": "stream",
     "text": [
      "7\n"
     ]
    }
   ],
   "source": [
    "i = 1\n",
    "mol = Molecule(SMILES=reactants[i])\n",
    "rxns = database.kinetics.generateReactionsFromFamilies([mol], [])\n",
    "print len(rxns)"
   ]
  },
  {
   "cell_type": "code",
   "execution_count": 5,
   "metadata": {
    "collapsed": false
   },
   "outputs": [
    {
     "name": "stdout",
     "output_type": "stream",
     "text": [
      "Intra_R_Add_Exocyclic 1\n"
     ]
    },
    {
     "data": {
      "image/png": "[encoded data removed]",
      "text/plain": [
       "Reaction(reactants=[Molecule(SMILES=\"[CH2]CC1C=CC=CC=1\")], products=[Molecule(SMILES=\"[CH]1C=CC=CC12CC2\")], pairs=[[Molecule(SMILES=\"[CH2]CC1C=CC=CC=1\"), Molecule(SMILES=\"[CH]1C=CC=CC12CC2\")]])"
      ]
     },
     "execution_count": 5,
     "metadata": {},
     "output_type": "execute_result"
    }
   ],
   "source": [
    "n = 0\n",
    "print rxns[n].family, rxns[n].degeneracy\n",
    "rxns[n]"
   ]
  },
  {
   "cell_type": "code",
   "execution_count": 6,
   "metadata": {
    "collapsed": false
   },
   "outputs": [
    {
     "name": "stdout",
     "output_type": "stream",
     "text": [
      "Intra_R_Add_Exocyclic 1\n"
     ]
    },
    {
     "data": {
      "image/png": "[encoded data removed]",
      "text/plain": [
       "Reaction(reactants=[Molecule(SMILES=\"[CH2]CC1C=CC=CC=1\")], products=[Molecule(SMILES=\"[CH]1C=CC=C2CCC12\")], pairs=[[Molecule(SMILES=\"[CH2]CC1C=CC=CC=1\"), Molecule(SMILES=\"[CH]1C=CC=C2CCC12\")]])"
      ]
     },
     "execution_count": 6,
     "metadata": {},
     "output_type": "execute_result"
    }
   ],
   "source": [
    "n = 1\n",
    "print rxns[n].family, rxns[n].degeneracy\n",
    "rxns[n]"
   ]
  },
  {
   "cell_type": "code",
   "execution_count": 7,
   "metadata": {
    "collapsed": false
   },
   "outputs": [
    {
     "name": "stdout",
     "output_type": "stream",
     "text": [
      "Intra_R_Add_Exocyclic 2\n"
     ]
    },
    {
     "data": {
      "image/png": "[encoded data removed]",
      "text/plain": [
       "Reaction(reactants=[Molecule(SMILES=\"[CH2]CC1C=CC=CC=1\")], products=[Molecule(SMILES=\"[CH]1C=CC2=CC1CC2\")], degeneracy=2, pairs=[[Molecule(SMILES=\"[CH2]CC1C=CC=CC=1\"), Molecule(SMILES=\"[CH]1C=CC2=CC1CC2\")]])"
      ]
     },
     "execution_count": 7,
     "metadata": {},
     "output_type": "execute_result"
    }
   ],
   "source": [
    "n = 2\n",
    "print rxns[n].family, rxns[n].degeneracy\n",
    "rxns[n]"
   ]
  },
  {
   "cell_type": "code",
   "execution_count": 8,
   "metadata": {
    "collapsed": false
   },
   "outputs": [
    {
     "name": "stdout",
     "output_type": "stream",
     "text": [
      "Intra_R_Add_Exocyclic 1\n"
     ]
    },
    {
     "data": {
      "image/png": "[encoded data removed]",
      "text/plain": [
       "Reaction(reactants=[Molecule(SMILES=\"[CH2]CC1C=CC=CC=1\")], products=[Molecule(SMILES=\"[CH]1C=C2C=CC1CC2\")], pairs=[[Molecule(SMILES=\"[CH2]CC1C=CC=CC=1\"), Molecule(SMILES=\"[CH]1C=C2C=CC1CC2\")]])"
      ]
     },
     "execution_count": 8,
     "metadata": {},
     "output_type": "execute_result"
    }
   ],
   "source": [
    "n = 3\n",
    "print rxns[n].family, rxns[n].degeneracy\n",
    "rxns[n]"
   ]
  },
  {
   "cell_type": "code",
   "execution_count": 9,
   "metadata": {
    "collapsed": false
   },
   "outputs": [
    {
     "name": "stdout",
     "output_type": "stream",
     "text": [
      "Intra_R_Add_Endocyclic 2\n"
     ]
    },
    {
     "data": {
      "image/png": "[encoded data removed]",
      "text/plain": [
       "Reaction(reactants=[Molecule(SMILES=\"[CH2]CC1C=CC=CC=1\")], products=[Molecule(SMILES=\"C1C=CC2CC[C]2C=1\")], degeneracy=2, pairs=[[Molecule(SMILES=\"[CH2]CC1C=CC=CC=1\"), Molecule(SMILES=\"C1C=CC2CC[C]2C=1\")]])"
      ]
     },
     "execution_count": 9,
     "metadata": {},
     "output_type": "execute_result"
    }
   ],
   "source": [
    "n = 4\n",
    "print rxns[n].family, rxns[n].degeneracy\n",
    "rxns[n]"
   ]
  },
  {
   "cell_type": "code",
   "execution_count": 10,
   "metadata": {
    "collapsed": false
   },
   "outputs": [
    {
     "name": "stdout",
     "output_type": "stream",
     "text": [
      "Intra_R_Add_Endocyclic 2\n"
     ]
    },
    {
     "data": {
      "image/png": "[encoded data removed]",
      "text/plain": [
       "Reaction(reactants=[Molecule(SMILES=\"[CH2]CC1C=CC=CC=1\")], products=[Molecule(SMILES=\"[CH]1C2=CC=CC1CC2\")], degeneracy=2, pairs=[[Molecule(SMILES=\"[CH2]CC1C=CC=CC=1\"), Molecule(SMILES=\"[CH]1C2=CC=CC1CC2\")]])"
      ]
     },
     "execution_count": 10,
     "metadata": {},
     "output_type": "execute_result"
    }
   ],
   "source": [
    "n = 5\n",
    "print rxns[n].family, rxns[n].degeneracy\n",
    "rxns[n]"
   ]
  },
  {
   "cell_type": "code",
   "execution_count": 11,
   "metadata": {
    "collapsed": false
   },
   "outputs": [
    {
     "name": "stdout",
     "output_type": "stream",
     "text": [
      "Intra_R_Add_Endocyclic 1\n"
     ]
    },
    {
     "data": {
      "image/png": "[encoded data removed]",
      "text/plain": [
       "Reaction(reactants=[Molecule(SMILES=\"[CH2]CC1C=CC=CC=1\")], products=[Molecule(SMILES=\"[CH]1C=C2C=CC1CC2\")], pairs=[[Molecule(SMILES=\"[CH2]CC1C=CC=CC=1\"), Molecule(SMILES=\"[CH]1C=C2C=CC1CC2\")]])"
      ]
     },
     "execution_count": 11,
     "metadata": {},
     "output_type": "execute_result"
    }
   ],
   "source": [
    "n = 6\n",
    "print rxns[n].family, rxns[n].degeneracy\n",
    "rxns[n]"
   ]
  },
  {
   "cell_type": "code",
   "execution_count": null,
   "metadata": {
    "collapsed": true
   },
   "outputs": [],
   "source": []
  },
  {
   "cell_type": "code",
   "execution_count": 24,
   "metadata": {
    "collapsed": false
   },
   "outputs": [
    {
     "name": "stdout",
     "output_type": "stream",
     "text": [
      "3\n"
     ]
    }
   ],
   "source": [
    "i = 0\n",
    "mol = Molecule(SMILES=reactants[i])\n",
    "rxns2 = database.kinetics.families['Intra_R_Add_Exocyclic'].generateReactions([mol])\n",
    "print len(rxns)"
   ]
  },
  {
   "cell_type": "code",
   "execution_count": 25,
   "metadata": {
    "collapsed": false
   },
   "outputs": [
    {
     "name": "stdout",
     "output_type": "stream",
     "text": [
      "Intra_R_Add_Exocyclic 2\n"
     ]
    },
    {
     "data": {
      "image/png": "[encoded data removed]",
      "text/plain": [
       "Reaction(reactants=[Molecule(SMILES=\"[CH2]C1C=CC=CC=1\")], products=[Molecule(SMILES=\"[CH]1C=CC=C2CC12\")], degeneracy=2, pairs=[[Molecule(SMILES=\"[CH2]C1C=CC=CC=1\"), Molecule(SMILES=\"[CH]1C=CC=C2CC12\")]])"
      ]
     },
     "execution_count": 25,
     "metadata": {},
     "output_type": "execute_result"
    }
   ],
   "source": [
    "n = 0\n",
    "print rxns[n].family, rxns[n].degeneracy\n",
    "rxns[n]"
   ]
  },
  {
   "cell_type": "code",
   "execution_count": 26,
   "metadata": {
    "collapsed": false
   },
   "outputs": [
    {
     "name": "stdout",
     "output_type": "stream",
     "text": [
      "Intra_R_Add_Exocyclic 4\n"
     ]
    },
    {
     "data": {
      "image/png": "[encoded data removed]",
      "text/plain": [
       "Reaction(reactants=[Molecule(SMILES=\"[CH2]C1C=CC=CC=1\")], products=[Molecule(SMILES=\"[CH]1C2=CC=CC1C2\")], degeneracy=4, pairs=[[Molecule(SMILES=\"[CH2]C1C=CC=CC=1\"), Molecule(SMILES=\"[CH]1C2=CC=CC1C2\")]])"
      ]
     },
     "execution_count": 26,
     "metadata": {},
     "output_type": "execute_result"
    }
   ],
   "source": [
    "n = 1\n",
    "print rxns[n].family, rxns[n].degeneracy\n",
    "rxns[n]"
   ]
  },
  {
   "cell_type": "code",
   "execution_count": 27,
   "metadata": {
    "collapsed": false
   },
   "outputs": [
    {
     "name": "stdout",
     "output_type": "stream",
     "text": [
      "Intra_R_Add_Exocyclic 2\n"
     ]
    },
    {
     "data": {
      "image/png": "[encoded data removed]",
      "text/plain": [
       "Reaction(reactants=[Molecule(SMILES=\"[CH2]C1C=CC=CC=1\")], products=[Molecule(SMILES=\"[CH]1C=C2C=CC1C2\")], degeneracy=2, pairs=[[Molecule(SMILES=\"[CH2]C1C=CC=CC=1\"), Molecule(SMILES=\"[CH]1C=C2C=CC1C2\")]])"
      ]
     },
     "execution_count": 27,
     "metadata": {},
     "output_type": "execute_result"
    }
   ],
   "source": [
    "n = 2\n",
    "print rxns[n].family, rxns[n].degeneracy\n",
    "rxns[n]"
   ]
  },
  {
   "cell_type": "code",
   "execution_count": null,
   "metadata": {
    "collapsed": true
   },
   "outputs": [],
   "source": []
  }
 ],
 "metadata": {
  "anaconda-cloud": {},
  "kernelspec": {
   "display_name": "Python [conda env:rmg_env]",
   "language": "python",
   "name": "conda-env-rmg_env-py"
  },
  "language_info": {
   "codemirror_mode": {
    "name": "ipython",
    "version": 2
   },
   "file_extension": ".py",
   "mimetype": "text/x-python",
   "name": "python",
   "nbconvert_exporter": "python",
   "pygments_lexer": "ipython2",
   "version": "2.7.12"
  }
 },
 "nbformat": 4,
 "nbformat_minor": 1
}
