{
 "cells": [
  {
   "cell_type": "code",
   "execution_count": null,
   "metadata": {
    "collapsed": false
   },
   "outputs": [],
   "source": [
    "import rmgpy\n",
    "from rmgpy.data.rmg import RMGDatabase\n",
    "from rmgpy.rmg.react import *\n",
    "from rmgpy.reaction import Reaction\n",
    "from rmgpy.molecule.molecule import Molecule\n",
    "from rmgpy.molecule.resonance import *\n",
    "from rmgpy.species import Species\n",
    "from rmgpy.data.kinetics.common import filter_reactions\n",
    "\n",
    "from copy import deepcopy\n",
    "from IPython.display import display"
   ]
  },
  {
   "cell_type": "code",
   "execution_count": null,
   "metadata": {
    "collapsed": true
   },
   "outputs": [],
   "source": [
    "family = 'Birad_R_Recombination'"
   ]
  },
  {
   "cell_type": "code",
   "execution_count": null,
   "metadata": {
    "collapsed": false
   },
   "outputs": [],
   "source": [
    "databasePath = rmgpy.settings['database.directory']\n",
    "\n",
    "database = RMGDatabase()\n",
    "database.load(\n",
    "    path = databasePath,\n",
    "    thermoLibraries = [],\n",
    "    reactionLibraries = [],\n",
    "    seedMechanisms = [],\n",
    "    kineticsFamilies = [family],\n",
    "    )"
   ]
  },
  {
   "cell_type": "code",
   "execution_count": null,
   "metadata": {
    "collapsed": false
   },
   "outputs": [],
   "source": [
    "reactants = [\n",
    "    Molecule().fromAdjacencyList(\"\"\"\n",
    "multiplicity 2\n",
    "1  C u0 p0 c0 {2,S} {3,S} {4,S} {11,S}\n",
    "2  C u1 p0 c0 {1,S} {5,S} {6,S}\n",
    "3  C u0 p0 c0 {1,S} {7,D} {12,S}\n",
    "4  C u0 p0 c0 {1,S} {8,D} {13,S}\n",
    "5  C u0 p0 c0 {2,S} {9,D} {14,S}\n",
    "6  C u0 p0 c0 {2,S} {10,D} {15,S}\n",
    "7  C u0 p0 c0 {3,D} {9,S} {18,S}\n",
    "8  C u0 p0 c0 {4,D} {10,S} {19,S}\n",
    "9  C u0 p0 c0 {5,D} {7,S} {16,S}\n",
    "10 C u0 p0 c0 {6,D} {8,S} {17,S}\n",
    "11 H u0 p0 c0 {1,S}\n",
    "12 H u0 p0 c0 {3,S}\n",
    "13 H u0 p0 c0 {4,S}\n",
    "14 H u0 p0 c0 {5,S}\n",
    "15 H u0 p0 c0 {6,S}\n",
    "16 H u0 p0 c0 {9,S}\n",
    "17 H u0 p0 c0 {10,S}\n",
    "18 H u0 p0 c0 {7,S}\n",
    "19 H u0 p0 c0 {8,S}\n",
    "\"\"\"),\n",
    "]\n",
    "products = [\n",
    "    Molecule().fromAdjacencyList(\"\"\"\n",
    "1  C u0 p0 c0 {2,B} {3,B} {4,B}\n",
    "2  C u0 p0 c0 {1,B} {5,B} {6,B}\n",
    "3  C u0 p0 c0 {1,B} {7,B} {11,S}\n",
    "4  C u0 p0 c0 {1,B} {8,B} {12,S}\n",
    "5  C u0 p0 c0 {2,B} {9,B} {13,S}\n",
    "6  C u0 p0 c0 {2,B} {10,B} {14,S}\n",
    "7  C u0 p0 c0 {3,B} {9,B} {15,S}\n",
    "8  C u0 p0 c0 {4,B} {10,B} {16,S}\n",
    "9  C u0 p0 c0 {5,B} {7,B} {17,S}\n",
    "10 C u0 p0 c0 {6,B} {8,B} {18,S}\n",
    "11 H u0 p0 c0 {3,S}\n",
    "12 H u0 p0 c0 {4,S}\n",
    "13 H u0 p0 c0 {5,S}\n",
    "14 H u0 p0 c0 {6,S}\n",
    "15 H u0 p0 c0 {7,S}\n",
    "16 H u0 p0 c0 {8,S}\n",
    "17 H u0 p0 c0 {9,S}\n",
    "18 H u0 p0 c0 {10,S}\n",
    "\"\"\"),\n",
    "    Molecule(SMILES=\"[H]\"),\n",
    "]\n",
    "for r in reactants:\n",
    "    display(r)\n",
    "for p in products:\n",
    "    display(p)"
   ]
  },
  {
   "cell_type": "code",
   "execution_count": null,
   "metadata": {
    "collapsed": false
   },
   "outputs": [],
   "source": [
    "reactants = [Molecule(SMILES='[NH]'), Molecule(SMILES='[O-][N+]=O')]\n",
    "for r in reactants:\n",
    "    display(r)\n",
    "products = [Molecule(SMILES='[N+](=O)([NH])[O-]')]\n",
    "for p in products:\n",
    "    display(p)"
   ]
  },
  {
   "cell_type": "code",
   "execution_count": null,
   "metadata": {
    "collapsed": false
   },
   "outputs": [],
   "source": [
    "result = database.kinetics.generate_reactions_from_families(reactants, products)\n",
    "result"
   ]
  },
  {
   "cell_type": "code",
   "execution_count": null,
   "metadata": {
    "collapsed": false
   },
   "outputs": [],
   "source": [
    "for r in result:\n",
    "    display(r)"
   ]
  },
  {
   "cell_type": "code",
   "execution_count": null,
   "metadata": {
    "collapsed": false
   },
   "outputs": [],
   "source": [
    "result = database.kinetics.families[family].addReverseAttribute(rxn)\n",
    "result"
   ]
  },
  {
   "cell_type": "code",
   "execution_count": null,
   "metadata": {
    "collapsed": false
   },
   "outputs": [],
   "source": [
    "for r in result:\n",
    "    display(r)"
   ]
  },
  {
   "cell_type": "code",
   "execution_count": null,
   "metadata": {
    "collapsed": true
   },
   "outputs": [],
   "source": []
  }
 ],
 "metadata": {
  "anaconda-cloud": {},
  "kernelspec": {
   "display_name": "Python [conda env:rmg_env]",
   "language": "python",
   "name": "conda-env-rmg_env-py"
  },
  "language_info": {
   "codemirror_mode": {
    "name": "ipython",
    "version": 2
   },
   "file_extension": ".py",
   "mimetype": "text/x-python",
   "name": "python",
   "nbconvert_exporter": "python",
   "pygments_lexer": "ipython2",
   "version": "2.7.13"
  }
 },
 "nbformat": 4,
 "nbformat_minor": 1
}
