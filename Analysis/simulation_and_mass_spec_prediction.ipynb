{
 "cells": [
  {
   "cell_type": "code",
   "execution_count": null,
   "metadata": {
    "collapsed": true
   },
   "outputs": [],
   "source": [
    "import os\n",
    "from collections import OrderedDict\n",
    "import cantera as ct\n",
    "import numpy as np\n",
    "import pandas as pd\n",
    "\n",
    "%matplotlib inline\n",
    "import matplotlib as mpl\n",
    "import matplotlib.pyplot as plt\n",
    "\n",
    "from rmgpy.species import Species"
   ]
  },
  {
   "cell_type": "code",
   "execution_count": null,
   "metadata": {
    "collapsed": true
   },
   "outputs": [],
   "source": [
    "def simulate(model, T, P, mol_frac, time):\n",
    "\n",
    "    model.TPX = T, P, mol_frac\n",
    "\n",
    "    reactor = ct.IdealGasReactor(model)\n",
    "    \n",
    "    simulation = ct.ReactorNet([reactor])\n",
    "\n",
    "    simulation.advance(time)\n",
    "\n",
    "    conditions = pd.Series()\n",
    "    conditions['time'] = simulation.time\n",
    "    conditions['temperature0'] = T\n",
    "    conditions['temperature'] = model.T\n",
    "    conditions['pressure0'] = P\n",
    "    conditions['pressure'] = model.P\n",
    "        \n",
    "    species = pd.Series()\n",
    "    for key, value in model.mole_fraction_dict().iteritems():\n",
    "        species[key] = value\n",
    "        \n",
    "    return conditions, species"
   ]
  },
  {
   "cell_type": "code",
   "execution_count": null,
   "metadata": {
    "collapsed": true
   },
   "outputs": [],
   "source": [
    "def loadSpeciesDictionary(path):\n",
    "    speciesDict = OrderedDict()\n",
    "    with open(path, 'r') as f:\n",
    "        adjlist = ''\n",
    "        for line in f:\n",
    "            if line.strip() == '' and adjlist.strip() != '':\n",
    "                # Finish this adjacency list\n",
    "                species = Species().fromAdjacencyList(adjlist)\n",
    "                #species.generateResonanceIsomers()\n",
    "                label = species.label\n",
    "                speciesDict[label] = species\n",
    "                adjlist = ''\n",
    "            else:\n",
    "                if \"InChI\" in line:\n",
    "                    line = line.split()[0] + '\\n'\n",
    "                if '//' in line:\n",
    "                    index = line.index('//')\n",
    "                    line = line[0:index]\n",
    "                adjlist += line\n",
    "        else: #reach end of file\n",
    "            if adjlist.strip() != '':\n",
    "                species = Species().fromAdjacencyList(adjlist)\n",
    "                #species.generateResonanceIsomers()\n",
    "                label = species.label\n",
    "                speciesDict[label] = species\n",
    "\n",
    "    return speciesDict"
   ]
  },
  {
   "cell_type": "code",
   "execution_count": null,
   "metadata": {
    "collapsed": true
   },
   "outputs": [],
   "source": [
    "directory = '/Users/mjliu/Dropbox (MIT)/Research/Models/Naphthalene/RMG_sim/acetylene/run10'\n",
    "filename = 'chem_mod'\n",
    "chemkin_file = os.path.join(directory, filename + '.inp')\n",
    "cantera_file = os.path.join(directory, filename + '.cti')"
   ]
  },
  {
   "cell_type": "code",
   "execution_count": null,
   "metadata": {
    "collapsed": true
   },
   "outputs": [],
   "source": [
    "species_dict = loadSpeciesDictionary(os.path.join(directory, 'species_dictionary.txt'))"
   ]
  },
  {
   "cell_type": "code",
   "execution_count": null,
   "metadata": {
    "collapsed": true
   },
   "outputs": [],
   "source": [
    "# Convert chemkin to cantera\n",
    "from cantera import ck2cti\n",
    "if os.path.exists(cantera_file):\n",
    "    raise Exception('File already exists')\n",
    "ck2cti.Parser().convertMech(chemkin_file, outName=cantera_file)"
   ]
  },
  {
   "cell_type": "code",
   "execution_count": null,
   "metadata": {
    "collapsed": true
   },
   "outputs": [],
   "source": [
    "model = ct.Solution(cantera_file)"
   ]
  },
  {
   "cell_type": "code",
   "execution_count": null,
   "metadata": {
    "collapsed": true
   },
   "outputs": [],
   "source": [
    "conditions_df = pd.DataFrame()\n",
    "species_df = pd.DataFrame()\n",
    "\n",
    "T = 1200\n",
    "P = 0.5 * 101325\n",
    "mol_frac = {'C2H2(2)':0.8, 'A2I1':0.2}\n",
    "\n",
    "conditions, species = simulate(model, T, P, mol_frac, 0.0001)"
   ]
  },
  {
   "cell_type": "code",
   "execution_count": null,
   "metadata": {},
   "outputs": [],
   "source": [
    "weights = []\n",
    "for label, _ in species.iteritems():\n",
    "    try:\n",
    "        weights.append(1000*species_dict[label].molecule[0].getMolecularWeight())\n",
    "    except KeyError:\n",
    "        weights.append(0)\n",
    "        print label"
   ]
  },
  {
   "cell_type": "code",
   "execution_count": null,
   "metadata": {},
   "outputs": [],
   "source": [
    "species.sort_values(ascending=False)[0:10]"
   ]
  },
  {
   "cell_type": "code",
   "execution_count": null,
   "metadata": {},
   "outputs": [],
   "source": [
    "plt.style.use('seaborn-poster')\n",
    "#plt.rcParams['axes.labelsize'] = 24\n",
    "#plt.rcParams['xtick.labelsize'] = 20\n",
    "#plt.rcParams['ytick.labelsize'] = 20\n",
    "\n",
    "fig = plt.figure()\n",
    "\n",
    "plt.stem(weights, species, markerfmt=' ')\n",
    "\n",
    "plt.xlabel('Mass')\n",
    "plt.ylabel('Abundance')"
   ]
  },
  {
   "cell_type": "code",
   "execution_count": null,
   "metadata": {
    "collapsed": true
   },
   "outputs": [],
   "source": []
  }
 ],
 "metadata": {
  "anaconda-cloud": {},
  "kernelspec": {
   "display_name": "Python 2",
   "language": "python",
   "name": "python2"
  },
  "language_info": {
   "codemirror_mode": {
    "name": "ipython",
    "version": 2
   },
   "file_extension": ".py",
   "mimetype": "text/x-python",
   "name": "python",
   "nbconvert_exporter": "python",
   "pygments_lexer": "ipython2",
   "version": "2.7.14"
  }
 },
 "nbformat": 4,
 "nbformat_minor": 1
}
