{
 "cells": [
  {
   "cell_type": "markdown",
   "metadata": {},
   "source": [
    "This script aims to extract model sources in a clear and informative format.  The script first shows what all the kinetic and thermo sources are in a model. Then it goes through each reaction and species to show their source and what the assigned uncertainties are.  This can be used with any RMG-generated CHEMKIN file that is annotated."
   ]
  },
  {
   "cell_type": "code",
   "execution_count": 1,
   "metadata": {
    "collapsed": true
   },
   "outputs": [],
   "source": [
    "from rmgpy.tools.uncertainty import Uncertainty\n",
    "from IPython.display import display\n",
    "import copy"
   ]
  },
  {
   "cell_type": "code",
   "execution_count": 2,
   "metadata": {
    "collapsed": true
   },
   "outputs": [],
   "source": [
    "chemFile = '/home/mjliu/Documents/DTBS/new_runs/pyro/chem_annotated.inp'\n",
    "dictFile = '/home/mjliu/Documents/DTBS/new_runs/pyro/species_dictionary.txt'"
   ]
  },
  {
   "cell_type": "code",
   "execution_count": 3,
   "metadata": {
    "collapsed": true
   },
   "outputs": [],
   "source": [
    "uncertainty = Uncertainty(outputDirectory='testUncertainty')"
   ]
  },
  {
   "cell_type": "code",
   "execution_count": 4,
   "metadata": {
    "collapsed": false
   },
   "outputs": [],
   "source": [
    "uncertainty.loadModel(chemFile, dictFile)"
   ]
  },
  {
   "cell_type": "code",
   "execution_count": 5,
   "metadata": {
    "collapsed": false
   },
   "outputs": [
    {
     "name": "stdout",
     "output_type": "stream",
     "text": [
      "Averaging thermo data over 4 value(s).\n",
      "Averaging thermo data over 14 value(s).\n",
      "Averaging thermo data over 5 value(s).\n",
      "Averaging thermo data over 5 value(s).\n",
      "Averaging thermo data over 2 value(s).\n",
      "Averaging thermo data over 8 value(s).\n"
     ]
    }
   ],
   "source": [
    "uncertainty.loadDatabase()"
   ]
  },
  {
   "cell_type": "code",
   "execution_count": 6,
   "metadata": {
    "collapsed": false
   },
   "outputs": [],
   "source": [
    "uncertainty.extractSourcesFromModel()"
   ]
  },
  {
   "cell_type": "code",
   "execution_count": 7,
   "metadata": {
    "collapsed": false
   },
   "outputs": [
    {
     "name": "stdout",
     "output_type": "stream",
     "text": [
      "All Kinetic Sources\n",
      "============\n",
      "Rate rule kinetics\n",
      "\n",
      "\tSubstitutionS\n",
      "\t\tS-Cs(HHH)Cs(CdHH);HJ\n",
      "\t\tS-Cs(HHH)Cs(CdCsH);HJ\n",
      "\t\tS-Cs(HHH)Cs(CdCsCs);HJ\n",
      "\t\tS-Cs(HHH)Cs(CtHH);HJ\n",
      "\t\tS-Cs(HHH)Cs(CtCsH);HJ\n",
      "\t\tS-Cs(HHH)Cs(CtCsCs);HJ\n",
      "============\n",
      "Training reaction kinetics\n",
      "\n",
      "============\n",
      "Library kinetics\n",
      "\n",
      "\tReactions:  []\n",
      "============\n",
      "PDep kinetics\n",
      "\n",
      "\tReactions:  []\n"
     ]
    }
   ],
   "source": [
    "print 'All Kinetic Sources'\n",
    "for sourceType in uncertainty.allKineticSources.keys():\n",
    "    if sourceType == 'Library':\n",
    "        print '============'\n",
    "        print 'Library kinetics'\n",
    "        print ''\n",
    "        print '\\tReactions: ', uncertainty.allKineticSources['Library']\n",
    "    elif sourceType == 'PDep':\n",
    "        print '============'\n",
    "        print 'PDep kinetics'\n",
    "        print ''\n",
    "        print '\\tReactions: ', uncertainty.allKineticSources['PDep']\n",
    "    elif sourceType == 'Rate Rules':\n",
    "        print '============'\n",
    "        print 'Rate rule kinetics'\n",
    "        print ''\n",
    "        for familyLabel, entries in uncertainty.allKineticSources['Rate Rules'].iteritems():\n",
    "            print '\\t', familyLabel\n",
    "            for entry in entries:\n",
    "                print '\\t\\t', entry\n",
    "    elif sourceType == 'Training':\n",
    "        print '============'\n",
    "        print 'Training reaction kinetics'\n",
    "        print ''\n",
    "        for familyLabel, entries in uncertainty.allKineticSources['Training'].iteritems():\n",
    "            print '\\t', familyLabel\n",
    "            for entry in entries:\n",
    "                print '\\t\\t', entry\n",
    "    else:\n",
    "        print sourceType\n",
    "        raise Exception('Kinetics source mut be Library, PDep, Rate Rules, or Training')"
   ]
  },
  {
   "cell_type": "code",
   "execution_count": 8,
   "metadata": {
    "collapsed": false
   },
   "outputs": [
    {
     "name": "stdout",
     "output_type": "stream",
     "text": [
      "All Thermo Sources\n",
      "============\n",
      "Group additivity thermo\n",
      "\n",
      "\tint15\n",
      "\t\tSs(Cs(CsCsCs)Cs(CsCsCs))\n",
      "\tgauche\n",
      "\t\tSs(RR)\n",
      "\t\tSs(CsH)\n",
      "\t\tCs(CsRRR)\n",
      "\t\tSs(CsCs)\n",
      "\t\tSs(CsR)\n",
      "\t\tCsOsCdSs\n",
      "\t\tCs(Cs(CsCsR)RRR)\n",
      "\t\tSs(Cs(CsHH)H)\n",
      "\t\tCs(RRRR)\n",
      "\t\tCs(CsCsCsR)\n",
      "\t\tCs(CsCsCsCs)\n",
      "\t\tCd(CsCs)\n",
      "\t\tCs(Cs(CsCsCs)RRR)\n",
      "\tgroup\n",
      "\t\tCs-CsCsCsSs\n",
      "\t\tCs-(Cds-Cds)(Cds-Cds)HH\n",
      "\t\tSs-C=SCd\n",
      "\t\tCs-CsCsSsH\n",
      "\t\tCds-CdsCsCs\n",
      "\t\tCs-CsCsCsH\n",
      "\t\tSs-SsCd\n",
      "\t\tSs-SsCs\n",
      "\t\tCds-CdsCsH\n",
      "\t\tCs-CsCsHH\n",
      "\t\tCs-C=SCsCsCs\n",
      "\t\tCs-(Cds-Cds)CsCsH\n",
      "\t\tC=S-CsSs\n",
      "\t\tCs-(Cds-Cds)CsHH\n",
      "\t\tCds-CdsSsH\n",
      "\t\tCds-CdsHH\n",
      "\t\tCs-CsCsCsCs\n",
      "\t\tCs-CdsCsSsH\n",
      "\t\tSs-CsH\n",
      "\t\tCs-C=SCsCsH\n",
      "\t\tCs-(Cds-Cds)HHH\n",
      "\t\tSs-CdH\n",
      "\t\tCs-CsHHH\n",
      "\t\tCs-(Cds-Cds)(Cds-Cds)CsCs\n",
      "\t\tSs-CdCd\n",
      "\t\tCs-C=SCsHH\n",
      "\t\tSd-Cd\n",
      "\t\tC=S-CsCs\n",
      "\t\tCds-CdsC=SCs\n",
      "\t\tSs-SsH\n",
      "\t\tC=S-CdsCs\n",
      "\t\tSs-SsSs\n",
      "\t\tSs-C=SH\n",
      "\t\tCds-CdsCsSs\n",
      "\t\tCs-CsSsHH\n",
      "\t\tCs-CdsSsHH\n",
      "\t\tC=S-CdsH\n",
      "\t\tCdd-CdSd\n",
      "\t\tCds-Cds(Cds-Cds)Cs\n",
      "\t\tC=S-CsH\n",
      "\t\tCs-(Cds-Cds)(Cds-Cds)CsH\n",
      "\t\tCds-CdsC=SH\n",
      "\t\tSs-CsCs\n",
      "\t\tCs-(Cds-Cds)CsCsCs\n",
      "\t\tSs-CsCd\n",
      "\t\tCds-Cds(Cds-Cds)H\n",
      "\t\tSs-C=SCs\n",
      "\t\tCs-CsCsSsSs\n",
      "\t\tCs-CsSsSsH\n",
      "\tradical\n",
      "\t\tSJ-Cd\n",
      "\t\tSJ-C=S\n",
      "\t\tcyclopropane\n",
      "\t\tC=CC=CCJ\n",
      "\t\tCs_P\n",
      "\t\tSJ-Ss-Ss\n",
      "\t\tCsJ-SsHH\n",
      "\t\tTertalkyl\n",
      "\t\tAllyl_T\n",
      "\t\tCsJ-CdSsH\n",
      "\t\tCsJ-CsCsSs\n",
      "\t\tC=SJ-Cs\n",
      "\t\tC=SJ-Cd\n",
      "\t\tCsJ-CsCdSs\n",
      "\t\tC=CCJC=C\n",
      "\t\tIsobutyl\n",
      "\t\tNeopentyl\n",
      "\t\tCds_S\n",
      "\t\tRCCJ\n",
      "\t\tAllyl_P\n",
      "\t\tCsJ-CsSsSs\n",
      "\t\tC=CJC=C\n",
      "\t\tSJ-Cs\n",
      "\t\tAllyl_S\n",
      "\t\tCs_S\n",
      "\t\tSJ-Ss-Cs\n",
      "\tpolycyclic\n",
      "\t\tPolycyclicRing\n",
      "\tother\n",
      "\t\tR\n",
      "\tring\n",
      "\t\tthiophene\n",
      "\t\tthiirane\n",
      "\t\t1,2-dithietane\n",
      "\t\tdithiirane\n",
      "\t\tCyclohexane\n",
      "\t\t2,5-dihydrothiophene\n",
      "\t\tmethylenecyclobutane\n",
      "\t\tCyclopentane\n",
      "\t\tthiolane\n",
      "\t\t1,3-dithiolane\n",
      "\t\t2,3-dihydrothiophene\n",
      "\t\t1,4-Cyclohexadiene\n",
      "\t\t12methylenecyclobutane\n",
      "============\n",
      "QM thermo\n",
      "\n",
      "\tSpecies:  []\n",
      "============\n",
      "Library thermo\n",
      "\n",
      "\tSpecies:  [0, 1, 2, 3, 5, 7, 9, 12, 77, 14, 15, 16, 49, 18, 19, 20, 28, 29]\n"
     ]
    }
   ],
   "source": [
    "print 'All Thermo Sources'\n",
    "for sourceType in uncertainty.allThermoSources.keys():\n",
    "    if sourceType == 'Library':\n",
    "        print '============'\n",
    "        print 'Library thermo'\n",
    "        print ''\n",
    "        print '\\tSpecies: ', uncertainty.allThermoSources['Library']\n",
    "    elif sourceType == 'QM':\n",
    "        print '============'\n",
    "        print 'QM thermo'\n",
    "        print ''\n",
    "        print '\\tSpecies: ', uncertainty.allThermoSources['QM']\n",
    "    elif sourceType == 'GAV':\n",
    "        print '============'\n",
    "        print 'Group additivity thermo'\n",
    "        print ''\n",
    "        for groupType, entries in uncertainty.allThermoSources['GAV'].iteritems():\n",
    "            print '\\t', groupType\n",
    "            for entry in entries:\n",
    "                print '\\t\\t', entry\n",
    "    else:\n",
    "        raise Exception('Thermo source must be GAV, QM, or Library')"
   ]
  },
  {
   "cell_type": "code",
   "execution_count": 9,
   "metadata": {
    "collapsed": true
   },
   "outputs": [],
   "source": [
    "# Assign all the uncertainties using the Uncertainty() class function\n",
    "# ThermoParameterUncertainty and KineticParameterUncertainty classes may be customized and passed into this function\n",
    "# if non-default constants for constructing the uncertainties are desired\n",
    "uncertainty.assignParameterUncertainties()"
   ]
  },
  {
   "cell_type": "code",
   "execution_count": 10,
   "metadata": {
    "collapsed": true
   },
   "outputs": [],
   "source": [
    "T = 623 # temperature in Kelvin for which to evaluate kinetics\n",
    "P = 1e5  # Pa "
   ]
  },
  {
   "cell_type": "code",
   "execution_count": 11,
   "metadata": {
    "collapsed": false
   },
   "outputs": [
    {
     "name": "stdout",
     "output_type": "stream",
     "text": [
      "======\n",
      "C[C](C)C(22) + C=C(C)CSC(C)(C)C(106) <=> DTBS(1) + [CH2]C(=C)C(39)\n"
     ]
    },
    {
     "data": {
      "image/png": "[encoded data removed]",
      "text/plain": [
       "Reaction(index=1, reactants=[Species(index=22, label=\"C[C](C)C\", thermo=NASA(polynomials=[NASAPolynomial(coeffs=[2.58814,0.03094,-7.08927e-06,-2.52738e-09,9.7191e-13,3908.8,13.7543], Tmin=(100,'K'), Tmax=(1673.56,'K')), NASAPolynomial(coeffs=[7.5809,0.0271243,-1.09451e-05,1.90691e-09,-1.23455e-13,1100.88,-16.3003], Tmin=(1673.56,'K'), Tmax=(5000,'K'))], Tmin=(100,'K'), Tmax=(5000,'K'), comment=\"\"\"Thermo group additivity estimation: group(Cs-CsCsCsH) + gauche(Cs(CsCsCsR)) + other(R) + group(Cs-CsHHH) + gauche(Cs(Cs(CsCsR)RRR)) + other(R) + group\n",
       "(Cs-CsHHH) + gauche(Cs(Cs(CsCsR)RRR)) + other(R) + group(Cs-CsHHH) + gauche(Cs(Cs(CsCsR)RRR)) + other(R) + radical(Tertalkyl)\"\"\"), molecule=[Molecule(SMILES=\"C[C](C)C\")]), Species(index=106, label=\"C=C(C)CSC(C)(C)C\", thermo=NASA(polynomials=[NASAPolynomial(coeffs=[-1.70016,0.129384,-0.000139122,8.46094e-08,-2.12062e-11,-13402,32.7938], Tmin=(100,'K'), Tmax=(959.39,'K')), NASAPolynomial(coeffs=[16.0078,0.055553,-2.3686e-05,4.39377e-09,-3.0317e-13,-16799.7,-51.9028], Tmin=(959.39,'K'), Tmax=(5000,'K'))], Tmin=(100,'K'), Tmax=(5000,'K'), comment=\"\"\"Thermo group additivity estimation: group(Cs-CsCsCsSs) + gauche(Cs(RRRR)) + other(R) + group(Cs-CdsSsHH) + gauche(Cs(RRRR)) + other(R) + group(Cs-\n",
       "CsHHH) + gauche(Cs(CsRRR)) + other(R) + group(Cs-CsHHH) + gauche(Cs(CsRRR)) + other(R) + group(Cs-CsHHH) + gauche(Cs(CsRRR)) + other(R) + group(Cs\n",
       "-(Cds-Cds)HHH) + gauche(Cs(RRRR)) + other(R) + group(Cds-CdsCsCs) + gauche(Cd(CsCs)) + other(R) + group(Cds-CdsHH) + gauche(CsOsCdSs) + other(R) +\n",
       "group(Ss-CsCs) + gauche(Ss(CsCs)) + other(R)\"\"\"), molecule=[Molecule(SMILES=\"C=C(C)CSC(C)(C)C\")])], products=[Species(index=1, label=\"DTBS\", thermo=NASA(polynomials=[NASAPolynomial(coeffs=[-2.08012,0.120104,-9.45018e-05,3.87417e-08,-6.42847e-12,-26632.8,33.6491], Tmin=(100,'K'), Tmax=(1427.4,'K')), NASAPolynomial(coeffs=[23.6869,0.0478973,-1.86236e-05,3.30312e-09,-2.21675e-13,-33988.8,-99.8312], Tmin=(1427.4,'K'), Tmax=(5000,'K'))], Tmin=(100,'K'), Tmax=(5000,'K'), comment=\"\"\"Thermo group additivity estimation: group(Cs-CsCsCsSs) + gauche(Cs(RRRR)) + other(R) + group(Cs-CsCsCsSs) + gauche(Cs(RRRR)) + other(R) + group(Cs-\n",
       "CsHHH) + gauche(Cs(CsRRR)) + other(R) + group(Cs-CsHHH) + gauche(Cs(CsRRR)) + other(R) + group(Cs-CsHHH) + gauche(Cs(CsRRR)) + other(R) + group(Cs-\n",
       "CsHHH) + gauche(Cs(CsRRR)) + other(R) + group(Cs-CsHHH) + gauche(Cs(CsRRR)) + other(R) + group(Cs-CsHHH) + gauche(Cs(CsRRR)) + other(R) + group(Ss-\n",
       "CsCs) + gauche(Ss(CsCs)) + int15(Ss(Cs(CsCsCs)Cs(CsCsCs))) + other(R)\"\"\"), molecule=[Molecule(SMILES=\"CC(C)(C)SC(C)(C)C\")]), Species(index=39, label=\"[CH2]C(=C)C\", thermo=NASA(polynomials=[NASAPolynomial(coeffs=[2.47226,0.0257024,1.2092e-05,-3.07169e-08,1.27402e-11,14322.4,12.9937], Tmin=(100,'K'), Tmax=(994.05,'K')), NASAPolynomial(coeffs=[8.5564,0.01995,-7.49038e-06,1.3708e-09,-9.67441e-14,12187.4,-20.977], Tmin=(994.05,'K'), Tmax=(5000,'K'))], Tmin=(100,'K'), Tmax=(5000,'K'), comment=\"\"\"Thermo group additivity estimation: group(Cs-(Cds-Cds)HHH) + gauche(Cs(RRRR)) + other(R) + group(Cs-(Cds-Cds)HHH) + gauche(Cs(RRRR)) + other(R) +\n",
       "group(Cds-CdsCsCs) + gauche(Cd(CsCs)) + other(R) + group(Cds-CdsHH) + gauche(CsOsCdSs) + other(R) + radical(Allyl_P)\"\"\"), molecule=[Molecule(SMILES=\"[CH2]C(=C)C\")])], kinetics=Arrhenius(A=(2.013e+08,'cm^3/(mol*s)'), n=1.578, Ea=(2.033,'kcal/mol'), T0=(1,'K'), comment=\"\"\"Estimated using template (S-Cs(NonDe)Cs(OneDe);YJ) for rate rule (S-Cs(NonDe)Cs(OneDe);CsJ-CsCsCs)\"\"\"), pairs=[(Species(index=106, label=\"C=C(C)CSC(C)(C)C\", thermo=NASA(polynomials=[NASAPolynomial(coeffs=[-1.70016,0.129384,-0.000139122,8.46094e-08,-2.12062e-11,-13402,32.7938], Tmin=(100,'K'), Tmax=(959.39,'K')), NASAPolynomial(coeffs=[16.0078,0.055553,-2.3686e-05,4.39377e-09,-3.0317e-13,-16799.7,-51.9028], Tmin=(959.39,'K'), Tmax=(5000,'K'))], Tmin=(100,'K'), Tmax=(5000,'K'), comment=\"\"\"Thermo group additivity estimation: group(Cs-CsCsCsSs) + gauche(Cs(RRRR)) + other(R) + group(Cs-CdsSsHH) + gauche(Cs(RRRR)) + other(R) + group(Cs-\n",
       "CsHHH) + gauche(Cs(CsRRR)) + other(R) + group(Cs-CsHHH) + gauche(Cs(CsRRR)) + other(R) + group(Cs-CsHHH) + gauche(Cs(CsRRR)) + other(R) + group(Cs\n",
       "-(Cds-Cds)HHH) + gauche(Cs(RRRR)) + other(R) + group(Cds-CdsCsCs) + gauche(Cd(CsCs)) + other(R) + group(Cds-CdsHH) + gauche(CsOsCdSs) + other(R) +\n",
       "group(Ss-CsCs) + gauche(Ss(CsCs)) + other(R)\"\"\"), molecule=[Molecule(SMILES=\"C=C(C)CSC(C)(C)C\")]), Species(index=1, label=\"DTBS\", thermo=NASA(polynomials=[NASAPolynomial(coeffs=[-2.08012,0.120104,-9.45018e-05,3.87417e-08,-6.42847e-12,-26632.8,33.6491], Tmin=(100,'K'), Tmax=(1427.4,'K')), NASAPolynomial(coeffs=[23.6869,0.0478973,-1.86236e-05,3.30312e-09,-2.21675e-13,-33988.8,-99.8312], Tmin=(1427.4,'K'), Tmax=(5000,'K'))], Tmin=(100,'K'), Tmax=(5000,'K'), comment=\"\"\"Thermo group additivity estimation: group(Cs-CsCsCsSs) + gauche(Cs(RRRR)) + other(R) + group(Cs-CsCsCsSs) + gauche(Cs(RRRR)) + other(R) + group(Cs-\n",
       "CsHHH) + gauche(Cs(CsRRR)) + other(R) + group(Cs-CsHHH) + gauche(Cs(CsRRR)) + other(R) + group(Cs-CsHHH) + gauche(Cs(CsRRR)) + other(R) + group(Cs-\n",
       "CsHHH) + gauche(Cs(CsRRR)) + other(R) + group(Cs-CsHHH) + gauche(Cs(CsRRR)) + other(R) + group(Cs-CsHHH) + gauche(Cs(CsRRR)) + other(R) + group(Ss-\n",
       "CsCs) + gauche(Ss(CsCs)) + int15(Ss(Cs(CsCsCs)Cs(CsCsCs))) + other(R)\"\"\"), molecule=[Molecule(SMILES=\"CC(C)(C)SC(C)(C)C\")])), (Species(index=22, label=\"C[C](C)C\", thermo=NASA(polynomials=[NASAPolynomial(coeffs=[2.58814,0.03094,-7.08927e-06,-2.52738e-09,9.7191e-13,3908.8,13.7543], Tmin=(100,'K'), Tmax=(1673.56,'K')), NASAPolynomial(coeffs=[7.5809,0.0271243,-1.09451e-05,1.90691e-09,-1.23455e-13,1100.88,-16.3003], Tmin=(1673.56,'K'), Tmax=(5000,'K'))], Tmin=(100,'K'), Tmax=(5000,'K'), comment=\"\"\"Thermo group additivity estimation: group(Cs-CsCsCsH) + gauche(Cs(CsCsCsR)) + other(R) + group(Cs-CsHHH) + gauche(Cs(Cs(CsCsR)RRR)) + other(R) + group\n",
       "(Cs-CsHHH) + gauche(Cs(Cs(CsCsR)RRR)) + other(R) + group(Cs-CsHHH) + gauche(Cs(Cs(CsCsR)RRR)) + other(R) + radical(Tertalkyl)\"\"\"), molecule=[Molecule(SMILES=\"C[C](C)C\")]), Species(index=39, label=\"[CH2]C(=C)C\", thermo=NASA(polynomials=[NASAPolynomial(coeffs=[2.47226,0.0257024,1.2092e-05,-3.07169e-08,1.27402e-11,14322.4,12.9937], Tmin=(100,'K'), Tmax=(994.05,'K')), NASAPolynomial(coeffs=[8.5564,0.01995,-7.49038e-06,1.3708e-09,-9.67441e-14,12187.4,-20.977], Tmin=(994.05,'K'), Tmax=(5000,'K'))], Tmin=(100,'K'), Tmax=(5000,'K'), comment=\"\"\"Thermo group additivity estimation: group(Cs-(Cds-Cds)HHH) + gauche(Cs(RRRR)) + other(R) + group(Cs-(Cds-Cds)HHH) + gauche(Cs(RRRR)) + other(R) +\n",
       "group(Cds-CdsCsCs) + gauche(Cd(CsCs)) + other(R) + group(Cds-CdsHH) + gauche(CsOsCdSs) + other(R) + radical(Allyl_P)\"\"\"), molecule=[Molecule(SMILES=\"[CH2]C(=C)C\")]))])"
      ]
     },
     "metadata": {},
     "output_type": "display_data"
    },
    {
     "name": "stdout",
     "output_type": "stream",
     "text": [
      "Rate rule estimate\n",
      "\tFamily =  SubstitutionS\n",
      "\tOriginal Template =  ['S-Cs(NonDe)Cs(OneDe)', 'CsJ-CsCsCs']\n",
      "\tExact =  False\n",
      "\tRate rule sources:\n",
      "\t\tS-Cs(HHH)Cs(CdHH);HJ = 0.166666666667\n",
      "\t\tS-Cs(HHH)Cs(CdCsH);HJ = 0.166666666667\n",
      "\t\tS-Cs(HHH)Cs(CdCsCs);HJ = 0.166666666667\n",
      "\t\tS-Cs(HHH)Cs(CtHH);HJ = 0.166666666667\n",
      "\t\tS-Cs(HHH)Cs(CtCsH);HJ = 0.166666666667\n",
      "\t\tS-Cs(HHH)Cs(CtCsCs);HJ = 0.166666666667\n",
      "\n",
      "Rate coefficient at 623 K = 1.00e+06\n",
      "Uncertainty dln(k) =  3.54876285802\n"
     ]
    }
   ],
   "source": [
    "for rxn, source in uncertainty.reactionSourcesDict.iteritems():\n",
    "    print '======'\n",
    "    print rxn\n",
    "    display(rxn)\n",
    "    if 'Library' in source:\n",
    "        print 'Library reaction'\n",
    "    elif 'PDep' in source:\n",
    "        print 'PDep reaction'\n",
    "    elif 'Rate Rules' in source:\n",
    "        print 'Rate rule estimate'\n",
    "        family = source['Rate Rules'][0]\n",
    "        sourceDict = source['Rate Rules'][1]\n",
    "        originalTemplate = sourceDict['template']\n",
    "        print '\\tFamily = ', family\n",
    "        print '\\tOriginal Template = ', [group.label for group in originalTemplate]\n",
    "        print '\\tExact = ', sourceDict['exact']\n",
    "        rules = sourceDict['rules']\n",
    "        training = sourceDict['training']\n",
    "        if rules:\n",
    "            print '\\tRate rule sources:'\n",
    "            for ruleEntry, weight in rules:\n",
    "                print '\\t\\t', ruleEntry, '=', weight\n",
    "        if training:\n",
    "            print '\\tTraining sources:'\n",
    "            for ruleEntry, trainingEntry, weight in training:\n",
    "                print '\\t\\t', ruleEntry , 'mapped to', trainingEntry , '=', weight\n",
    "    elif 'Training' in source:\n",
    "        print 'Training reaction'\n",
    "        family = source['Training'][0]\n",
    "        training = source['Training'][1]\n",
    "        print '\\t Family = ', family\n",
    "        print '\\t\\t', trainingEntry, '=', weight\n",
    "\n",
    "\n",
    "\n",
    "    print ''\n",
    "    print 'Rate coefficient at {} K = {:.2e}'.format(T, rxn.kinetics.getRateCoefficient(T,P))\n",
    "\n",
    "    # Uncomment the following lines if you want to verify that the parsing has been performed correctly by\n",
    "    # checking the values for both the original and reconstructed kinetics\n",
    "\n",
    "#     print '---------'\n",
    "#     print 'Original kinetics:'\n",
    "#     print rxn.kinetics\n",
    "#     print ''\n",
    "#     print 'Reconstructed kinetics from parsing:'\n",
    "#     reconstructedKinetics=uncertainty.database.kinetics.reconstructKineticsFromSource(rxn,source,fixBarrierHeight=True)\n",
    "#     print reconstructedKinetics\n",
    "\n",
    "    rxnIndex = uncertainty.reactionList.index(rxn)\n",
    "    print 'Uncertainty dln(k) = ', uncertainty.kineticInputUncertainties[rxnIndex]"
   ]
  },
  {
   "cell_type": "code",
   "execution_count": 12,
   "metadata": {
    "collapsed": false
   },
   "outputs": [
    {
     "name": "stdout",
     "output_type": "stream",
     "text": [
      "==========\n",
      "C=C1CC[C]1CSS(1889)\n"
     ]
    },
    {
     "data": {
      "image/png": "[encoded data removed]",
      "text/plain": [
       "Species(index=1889, label=\"C=C1CC[C]1CSS\", thermo=NASA(polynomials=[NASAPolynomial(coeffs=[10.8116,-0.00136204,0.000115319,-1.15883e-07,2.66015e-11,30078.6,-14.755], Tmin=(100,'K'), Tmax=(1752.36,'K')), NASAPolynomial(coeffs=[83.247,0.0246123,-7.06806e-05,1.71817e-08,-1.27044e-12,-24682.7,-488.662], Tmin=(1752.36,'K'), Tmax=(5000,'K'))], Tmin=(100,'K'), Tmax=(5000,'K'), comment=\"\"\"Thermo group additivity estimation: group(Cs-(Cds-Cds)CsCsH) + other(R) + group(Cs-CsCsHH) + other(R) + group(Cs-(Cds-Cds)CsHH) + other(R) + group(Cs-\n",
       "CsSsHH) + other(R) + group(Cds-CdsCsCs) + other(R) + group(Cds-CdsHH) + other(R) + group(Ss-SsCs) + other(R) + group(Ss-SsH) + other(R) +\n",
       "ring(methylenecyclobutane) + radical(Allyl_T)\"\"\"), molecule=[Molecule(SMILES=\"C=C1CC[C]1CSS\"), Molecule(SMILES=\"[CH2]C1CCC=1CSS\")])"
      ]
     },
     "metadata": {},
     "output_type": "display_data"
    },
    {
     "name": "stdout",
     "output_type": "stream",
     "text": [
      "Group additivity:\n",
      "\tradical\n",
      "\t\tAllyl_T = 1\n",
      "\tring\n",
      "\t\tmethylenecyclobutane = 1\n",
      "\tother\n",
      "\t\tR = 8\n",
      "\tgroup\n",
      "\t\tCs-(Cds-Cds)CsCsH = 1\n",
      "\t\tCs-(Cds-Cds)CsHH = 1\n",
      "\t\tCds-CdsHH = 1\n",
      "\t\tSs-SsH = 1\n",
      "\t\tSs-SsCs = 1\n",
      "\t\tCds-CdsCsCs = 1\n",
      "\t\tCs-CsCsHH = 1\n",
      "\n",
      "Uncertainty dG =  2.61007662723  kcal/mol\n",
      "==========\n",
      "CC1C[C](S)C2CC=1S2(4121)\n"
     ]
    },
    {
     "data": {
      "image/png": "[encoded data removed]",
      "text/plain": [
       "Species(index=4121, label=\"CC1C[C](S)C2CC=1S2\", thermo=NASA(polynomials=[NASAPolynomial(coeffs=[-1.13482,0.120544,-0.000160657,1.17049e-07,-3.45265e-11,22550.6,0.437256], Tmin=(100,'K'), Tmax=(825.3,'K')), NASAPolynomial(coeffs=[14.7532,0.0435395,-2.06997e-05,3.99362e-09,-2.79982e-13,19928.1,-73.1629], Tmin=(825.3,'K'), Tmax=(5000,'K'))], Tmin=(100,'K'), Tmax=(5000,'K'), comment=\"\"\"Thermo group additivity estimation: group(Cs-CsCsSsH) + other(R) + group(Cs-CsCsSsH) + other(R) + group(Cs-(Cds-Cds)CsHH) + other(R) + group(Cs-(Cds-\n",
       "Cds)CsHH) + other(R) + group(Cs-(Cds-Cds)HHH) + other(R) + group(Cds-CdsCsCs) + other(R) + group(Cds-CdsCsSs) + other(R) + group(Ss-CsCd) + other(R) +\n",
       "group(Ss-CsH) + other(R) + polycyclic(PolycyclicRing) + radical(CsJ-CsCsSs)\"\"\"), molecule=[Molecule(SMILES=\"CC1C[C](S)C2CC=1S2\")])"
      ]
     },
     "metadata": {},
     "output_type": "display_data"
    },
    {
     "name": "stdout",
     "output_type": "stream",
     "text": [
      "Group additivity:\n",
      "\tradical\n",
      "\t\tCsJ-CsCsSs = 1\n",
      "\tother\n",
      "\t\tR = 9\n",
      "\tgroup\n",
      "\t\tCs-(Cds-Cds)CsHH = 1\n",
      "\t\tCs-CsCsSsH = 2\n",
      "\t\tSs-CsCd = 1\n",
      "\t\tCds-CdsCsSs = 1\n",
      "\t\tCds-CdsCsCs = 1\n",
      "\t\tCs-(Cds-Cds)HHH = 1\n",
      "\t\tSs-CsH = 1\n",
      "\tpolycyclic\n",
      "\t\tPolycyclicRing = 1\n",
      "\n",
      "Uncertainty dG =  2.8394541729  kcal/mol\n",
      "==========\n",
      "[CH2]C1(C)CS1(649)\n"
     ]
    },
    {
     "data": {
      "image/png": "[encoded data removed]",
      "text/plain": [
       "Species(index=649, label=\"[CH2]C1(C)CS1\", thermo=NASA(polynomials=[NASAPolynomial(coeffs=[1.82762,0.0361852,8.07259e-06,-3.84265e-08,1.78338e-11,24212,17.8197], Tmin=(100,'K'), Tmax=(968.24,'K')), NASAPolynomial(coeffs=[13.1871,0.0172496,-5.95853e-06,1.09315e-09,-7.96726e-14,20700.1,-43.3926], Tmin=(968.24,'K'), Tmax=(5000,'K'))], Tmin=(100,'K'), Tmax=(5000,'K'), comment=\"\"\"Thermo group additivity estimation: group(Cs-CsCsCsSs) + other(R) + group(Cs-CsSsHH) + other(R) + group(Cs-CsHHH) + other(R) + group(Cs-CsHHH) +\n",
       "other(R) + group(Ss-CsCs) + other(R) + ring(thiirane) + radical(Cs_P)\"\"\"), molecule=[Molecule(SMILES=\"[CH2]C1(C)CS1\")])"
      ]
     },
     "metadata": {},
     "output_type": "display_data"
    },
    {
     "name": "stdout",
     "output_type": "stream",
     "text": [
      "Group additivity:\n",
      "\tradical\n",
      "\t\tCs_P = 1\n",
      "\tring\n",
      "\t\tthiirane = 1\n",
      "\tother\n",
      "\t\tR = 5\n",
      "\tgroup\n",
      "\t\tCs-CsCsCsSs = 1\n",
      "\t\tSs-CsCs = 1\n",
      "\t\tCs-CsSsHH = 1\n",
      "\t\tCs-CsHHH = 2\n",
      "\n",
      "Uncertainty dG =  2.09165006634  kcal/mol\n",
      "==========\n",
      "[CH2]C1CC(=S)CCC=1S(3712)\n"
     ]
    },
    {
     "data": {
      "image/png": "[encoded data removed]",
      "text/plain": [
       "Species(index=3712, label=\"[CH2]C1CC(=S)CCC=1S\", thermo=NASA(polynomials=[NASAPolynomial(coeffs=[0.32756,0.0648372,-6.13526e-06,-3.26707e-08,1.48777e-11,29218.8,28.8706], Tmin=(100,'K'), Tmax=(1079.53,'K')), NASAPolynomial(coeffs=[16.6644,0.0384528,-1.69237e-05,3.29434e-09,-2.37164e-13,23701.7,-60.4113], Tmin=(1079.53,'K'), Tmax=(5000,'K'))], Tmin=(100,'K'), Tmax=(5000,'K'), comment=\"\"\"Thermo group additivity estimation: group(Cs-(Cds-Cds)CsHH) + other(R) + group(Cs-C=SCsHH) + other(R) + group(Cs-CsCsHH) + other(R) + group(Cs-(Cds-\n",
       "Cds)HHH) + other(R) + group(Cds-CdsCsCs) + other(R) + group(Cds-CdsCsSs) + other(R) + group(C=S-CsCs) + other(R) + group(Ss-CdH) + other(R) + group\n",
       "(Sd-Cd) + other(R) + ring(Cyclohexane) + radical(Allyl_P)\"\"\"), molecule=[Molecule(SMILES=\"[CH2]C1CC(=S)CCC=1S\"), Molecule(SMILES=\"C=C1CC(=S)CC[C]1S\")])"
      ]
     },
     "metadata": {},
     "output_type": "display_data"
    },
    {
     "name": "stdout",
     "output_type": "stream",
     "text": [
      "Group additivity:\n",
      "\tradical\n",
      "\t\tAllyl_P = 1\n",
      "\tring\n",
      "\t\tCyclohexane = 1\n",
      "\tother\n",
      "\t\tR = 9\n",
      "\tgroup\n",
      "\t\tCs-C=SCsHH = 1\n",
      "\t\tCs-(Cds-Cds)CsHH = 1\n",
      "\t\tCds-CdsCsSs = 1\n",
      "\t\tC=S-CsCs = 1\n",
      "\t\tCds-CdsCsCs = 1\n",
      "\t\tCs-CsCsHH = 1\n",
      "\t\tSs-CdH = 1\n",
      "\n",
      "Uncertainty dG =  2.80624304008  kcal/mol\n",
      "==========\n",
      "C=C(C)[C](SC(C)(C)C)SC(C)(C)C(484)\n"
     ]
    },
    {
     "data": {
      "image/png": "[encoded data removed]",
      "text/plain": [
       "Species(index=484, label=\"C=C(C)[C](SC(C)(C)C)SC(C)(C)C\", thermo=NASA(polynomials=[NASAPolynomial(coeffs=[-5.4505,0.211957,-0.000232851,1.38878e-07,-3.3574e-11,-9082.35,51.2606], Tmin=(100,'K'), Tmax=(999.95,'K')), NASAPolynomial(coeffs=[27.6761,0.0794432,-3.40687e-05,6.34929e-09,-4.3986e-13,-15707.3,-108.554], Tmin=(999.95,'K'), Tmax=(5000,'K'))], Tmin=(100,'K'), Tmax=(5000,'K'), comment=\"\"\"Thermo group additivity estimation: group(Cs-CsCsCsSs) + gauche(Cs(RRRR)) + other(R) + group(Cs-CsCsCsSs) + gauche(Cs(RRRR)) + other(R) + group(Cs-\n",
       "CsHHH) + gauche(Cs(CsRRR)) + other(R) + group(Cs-CsHHH) + gauche(Cs(CsRRR)) + other(R) + group(Cs-CsHHH) + gauche(Cs(CsRRR)) + other(R) + group(Cs-\n",
       "CsHHH) + gauche(Cs(CsRRR)) + other(R) + group(Cs-CsHHH) + gauche(Cs(CsRRR)) + other(R) + group(Cs-CsHHH) + gauche(Cs(CsRRR)) + other(R) + group(Cs\n",
       "-(Cds-Cds)HHH) + gauche(Cs(RRRR)) + other(R) + group(Cs-(Cds-Cds)HHH) + gauche(Cs(RRRR)) + other(R) + group(Cds-CdsCsCs) + gauche(Cd(CsCs)) + other(R)\n",
       "+ group(Cds-CdsCsCs) + gauche(CsOsCdSs) + other(R) + group(Ss-CsCd) + gauche(Ss(CsR)) + other(R) + group(Ss-CsCd) + gauche(Ss(CsR)) + other(R) +\n",
       "radical(Allyl_P)\"\"\"), molecule=[Molecule(SMILES=\"[CH2]C(C)=C(SC(C)(C)C)SC(C)(C)C\"), Molecule(SMILES=\"C=C(C)[C](SC(C)(C)C)SC(C)(C)C\")])"
      ]
     },
     "metadata": {},
     "output_type": "display_data"
    },
    {
     "name": "stdout",
     "output_type": "stream",
     "text": [
      "Group additivity:\n",
      "\tradical\n",
      "\t\tAllyl_P = 1\n",
      "\tgauche\n",
      "\t\tSs(CsR) = 2\n",
      "\t\tCs(RRRR) = 4\n",
      "\t\tCsOsCdSs = 1\n",
      "\t\tCd(CsCs) = 1\n",
      "\t\tCs(CsRRR) = 6\n",
      "\tgroup\n",
      "\t\tCs-CsCsCsSs = 2\n",
      "\t\tCds-CdsCsCs = 2\n",
      "\t\tSs-CsCd = 2\n",
      "\t\tCs-CsHHH = 4\n",
      "\t\tCs-(Cds-Cds)HHH = 1\n",
      "\tother\n",
      "\t\tR = 14\n",
      "\n",
      "Uncertainty dG =  4.472135955  kcal/mol\n",
      "==========\n",
      "C=C1C=C(CC)SC1=S(4867)\n"
     ]
    },
    {
     "data": {
      "image/png": "[encoded data removed]",
      "text/plain": [
       "Species(index=4867, label=\"C=C1C=C(CC)SC1=S\", thermo=NASA(polynomials=[NASAPolynomial(coeffs=[0.245771,0.0639498,-1.57806e-06,-4.83675e-08,2.39376e-11,23126.2,27.3802], Tmin=(100,'K'), Tmax=(986.25,'K')), NASAPolynomial(coeffs=[20.4093,0.0257104,-9.63886e-06,1.84307e-09,-1.36462e-13,17031.5,-80.3534], Tmin=(986.25,'K'), Tmax=(5000,'K'))], Tmin=(100,'K'), Tmax=(5000,'K'), comment=\"\"\"Thermo group additivity estimation: group(Cs-(Cds-Cds)CsHH) + other(R) + group(Cs-CsHHH) + other(R) + group(Cds-CdsCsSs) + other(R) + group(Cds-\n",
       "CdsCsCs) + other(R) + group(Cds-Cds(Cds-Cds)H) + other(R) + group(C=S-CsSs) + other(R) + group(Cds-CdsHH) + other(R) + group(Ss-C=SCd) + other(R) +\n",
       "group(Sd-Cd) + other(R) + ring(2,3-dihydrothiophene)\"\"\"), molecule=[Molecule(SMILES=\"C=C1C=C(CC)SC1=S\")])"
      ]
     },
     "metadata": {},
     "output_type": "display_data"
    },
    {
     "name": "stdout",
     "output_type": "stream",
     "text": [
      "Group additivity:\n",
      "\tring\n",
      "\t\t2,3-dihydrothiophene = 1\n",
      "\tother\n",
      "\t\tR = 9\n",
      "\tgroup\n",
      "\t\tSd-Cd = 1\n",
      "\t\tC=S-CsSs = 1\n",
      "\t\tCds-Cds(Cds-Cds)H = 1\n",
      "\t\tCds-CdsHH = 1\n",
      "\t\tSs-C=SCd = 1\n",
      "\t\tCs-(Cds-Cds)CsHH = 1\n",
      "\t\tCds-CdsCsSs = 1\n",
      "\t\tCs-CsHHH = 1\n",
      "\n",
      "Uncertainty dG =  2.80624304008  kcal/mol\n",
      "==========\n",
      "C=C1S[C]2SC1CC2C(3340)\n"
     ]
    },
    {
     "data": {
      "image/png": "[encoded data removed]",
      "text/plain": [
       "Species(index=3340, label=\"C=C1S[C]2SC1CC2C\", thermo=NASA(polynomials=[NASAPolynomial(coeffs=[-2.00795,0.13249,-0.000172348,1.12104e-07,-2.83552e-11,22964,-1.48131], Tmin=(100,'K'), Tmax=(975,'K')), NASAPolynomial(coeffs=[23.4859,0.0278969,-1.14314e-05,2.07216e-09,-1.41137e-13,17992.8,-123.829], Tmin=(975,'K'), Tmax=(5000,'K'))], Tmin=(100,'K'), Tmax=(5000,'K'), comment=\"\"\"Thermo group additivity estimation: group(Cs-CsCsCsH) + other(R) + group(Cs-CsCsHH) + other(R) + group(Cs-CdsCsSsH) + other(R) + group(Cs-CsSsSsH) +\n",
       "other(R) + group(Cs-CsHHH) + other(R) + group(Cds-CdsCsSs) + other(R) + group(Cds-CdsHH) + other(R) + group(Ss-CsCs) + other(R) + group(Ss-CsCd) +\n",
       "other(R) + polycyclic(PolycyclicRing) + radical(CsJ-CsSsSs)\"\"\"), molecule=[Molecule(SMILES=\"C=C1S[C]2SC1CC2C\")])"
      ]
     },
     "metadata": {},
     "output_type": "display_data"
    },
    {
     "name": "stdout",
     "output_type": "stream",
     "text": [
      "Group additivity:\n",
      "\tradical\n",
      "\t\tCsJ-CsSsSs = 1\n",
      "\tother\n",
      "\t\tR = 9\n",
      "\tgroup\n",
      "\t\tSs-CsCs = 1\n",
      "\t\tCs-CsCsHH = 1\n",
      "\t\tCds-CdsHH = 1\n",
      "\t\tCs-CsSsSsH = 1\n",
      "\t\tCs-CdsCsSsH = 1\n",
      "\t\tCs-CsCsCsH = 1\n",
      "\t\tCds-CdsCsSs = 1\n",
      "\t\tCs-CsHHH = 1\n",
      "\t\tSs-CsCd = 1\n",
      "\tpolycyclic\n",
      "\t\tPolycyclicRing = 1\n",
      "\n",
      "Uncertainty dG =  2.82842712475  kcal/mol\n",
      "==========\n",
      "CC1[CH]C(=S)CCC=1S(3710)\n"
     ]
    },
    {
     "data": {
      "image/png": "[encoded data removed]",
      "text/plain": [
       "Species(index=3710, label=\"CC1[CH]C(=S)CCC=1S\", thermo=NASA(polynomials=[NASAPolynomial(coeffs=[0.272603,0.0649362,-2.50283e-06,-3.8215e-08,1.71079e-11,25469.7,27.3991], Tmin=(100,'K'), Tmax=(1068.14,'K')), NASAPolynomial(coeffs=[17.4428,0.0378495,-1.67232e-05,3.27713e-09,-2.37391e-13,19678.8,-66.506], Tmin=(1068.14,'K'), Tmax=(5000,'K'))], Tmin=(100,'K'), Tmax=(5000,'K'), comment=\"\"\"Thermo group additivity estimation: group(Cs-CdsCsSsH) + other(R) + group(Cs-CsCsHH) + other(R) + group(Cs-C=SCsHH) + other(R) + group(Cs-(Cds-\n",
       "Cds)HHH) + other(R) + group(Cds-CdsCsCs) + other(R) + group(C=S-CdsCs) + other(R) + group(Cds-CdsC=SH) + other(R) + group(Ss-CsH) + other(R) + group\n",
       "(Sd-Cd) + other(R) + ring(Cyclohexane) + radical(CsJ-CsCdSs)\"\"\"), molecule=[Molecule(SMILES=\"CC1=CC(=S)CC[C]1S\"), Molecule(SMILES=\"CC1[CH]C(=S)CCC=1S\"), Molecule(SMILES=\"CC1C=C([S])CCC=1S\")])"
      ]
     },
     "metadata": {},
     "output_type": "display_data"
    },
    {
     "name": "stdout",
     "output_type": "stream",
     "text": [
      "Group additivity:\n",
      "\tradical\n",
      "\t\tCsJ-CsCdSs = 1\n",
      "\tring\n",
      "\t\tCyclohexane = 1\n",
      "\tother\n",
      "\t\tR = 9\n",
      "\tgroup\n",
      "\t\tCs-C=SCsHH = 1\n",
      "\t\tC=S-CdsCs = 1\n",
      "\t\tCs-CsCsHH = 1\n",
      "\t\tCs-CdsCsSsH = 1\n",
      "\t\tSs-CsH = 1\n",
      "\t\tCds-CdsCsCs = 1\n",
      "\t\tCds-CdsC=SH = 1\n",
      "\n",
      "Uncertainty dG =  2.80624304008  kcal/mol\n",
      "==========\n",
      "CC1CC[C]2CSC=1S2(2769)\n"
     ]
    },
    {
     "data": {
      "image/png": "[encoded data removed]",
      "text/plain": [
       "Species(index=2769, label=\"CC1CC[C]2CSC=1S2\", thermo=NASA(polynomials=[NASAPolynomial(coeffs=[-1.26924,0.125591,-0.000173292,1.2453e-07,-3.36922e-11,23147.2,-0.401241], Tmin=(100,'K'), Tmax=(675.42,'K')), NASAPolynomial(coeffs=[15.0359,0.0428705,-2.03262e-05,3.89029e-09,-2.70398e-13,20628.9,-75.0031], Tmin=(675.42,'K'), Tmax=(5000,'K'))], Tmin=(100,'K'), Tmax=(5000,'K'), comment=\"\"\"Thermo group additivity estimation: group(Cs-CsCsSsH) + other(R) + group(Cs-CsCsHH) + other(R) + group(Cs-(Cds-Cds)CsHH) + other(R) + group(Cs-CsSsHH)\n",
       "+ other(R) + group(Cs-(Cds-Cds)HHH) + other(R) + group(Cds-CdsCsCs) + other(R) + group(Cds-CdsCsCs) + other(R) + group(Ss-CsCd) + other(R) + group(Ss-\n",
       "CsCd) + other(R) + polycyclic(PolycyclicRing) + radical(CsJ-CsCsSs)\"\"\"), molecule=[Molecule(SMILES=\"CC1CC[C]2CSC=1S2\")])"
      ]
     },
     "metadata": {},
     "output_type": "display_data"
    },
    {
     "name": "stdout",
     "output_type": "stream",
     "text": [
      "Group additivity:\n",
      "\tradical\n",
      "\t\tCsJ-CsCsSs = 1\n",
      "\tother\n",
      "\t\tR = 9\n",
      "\tgroup\n",
      "\t\tCs-(Cds-Cds)CsHH = 1\n",
      "\t\tCs-CsCsSsH = 1\n",
      "\t\tCs-CsCsHH = 1\n",
      "\t\tSs-CsCd = 1\n",
      "\t\tCs-(Cds-Cds)HHH = 1\n",
      "\t\tCds-CdsCsCs = 2\n",
      "\t\tCs-CsSsHH = 1\n",
      "\tpolycyclic\n",
      "\t\tPolycyclicRing = 1\n",
      "\n",
      "Uncertainty dG =  2.8394541729  kcal/mol\n",
      "==========\n",
      "C[C](C)CSSC(C)(C)C(116)\n"
     ]
    },
    {
     "data": {
      "image/png": "[encoded data removed]",
      "text/plain": [
       "Species(index=116, label=\"C[C](C)CSSC(C)(C)C\", thermo=NASA(polynomials=[NASAPolynomial(coeffs=[-1.95017,0.140296,-0.000166721,1.22926e-07,-3.8583e-11,-4378.15,41.8415], Tmin=(100,'K'), Tmax=(764.71,'K')), NASAPolynomial(coeffs=[11.0875,0.0720892,-3.29122e-05,6.25541e-09,-4.35365e-13,-6371.85,-17.5581], Tmin=(764.71,'K'), Tmax=(5000,'K'))], Tmin=(100,'K'), Tmax=(5000,'K'), comment=\"\"\"Thermo group additivity estimation: group(Cs-CsCsCsSs) + gauche(Cs(RRRR)) + other(R) + group(Cs-CsCsCsH) + gauche(Cs(CsCsCsR)) + other(R) + group(Cs-\n",
       "CsSsHH) + gauche(Cs(RRRR)) + other(R) + group(Cs-CsHHH) + gauche(Cs(CsRRR)) + other(R) + group(Cs-CsHHH) + gauche(Cs(CsRRR)) + other(R) + group(Cs-\n",
       "CsHHH) + gauche(Cs(CsRRR)) + other(R) + group(Cs-CsHHH) + gauche(Cs(Cs(CsCsR)RRR)) + other(R) + group(Cs-CsHHH) + gauche(Cs(Cs(CsCsR)RRR)) + other(R)\n",
       "+ group(Ss-SsCs) + gauche(Ss(RR)) + other(R) + group(Ss-SsCs) + gauche(Ss(RR)) + other(R) + radical(Tertalkyl)\"\"\"), molecule=[Molecule(SMILES=\"C[C](C)CSSC(C)(C)C\")])"
      ]
     },
     "metadata": {},
     "output_type": "display_data"
    },
    {
     "name": "stdout",
     "output_type": "stream",
     "text": [
      "Group additivity:\n",
      "\tradical\n",
      "\t\tTertalkyl = 1\n",
      "\tgauche\n",
      "\t\tSs(RR) = 2\n",
      "\t\tCs(RRRR) = 2\n",
      "\t\tCs(Cs(CsCsR)RRR) = 2\n",
      "\t\tCs(CsRRR) = 3\n",
      "\t\tCs(CsCsCsR) = 1\n",
      "\tgroup\n",
      "\t\tCs-CsCsCsSs = 1\n",
      "\t\tCs-CsCsCsH = 1\n",
      "\t\tSs-SsCs = 2\n",
      "\t\tCs-CsHHH = 4\n",
      "\tother\n",
      "\t\tR = 10\n",
      "\n",
      "Uncertainty dG =  3.36340601177  kcal/mol\n",
      "==========\n",
      "C=CC1=CC2CSC=2S1(5799)\n"
     ]
    },
    {
     "data": {
      "image/png": "[encoded data removed]",
      "text/plain": [
       "Species(index=5799, label=\"C=CC1=CC2CSC=2S1\", thermo=NASA(polynomials=[NASAPolynomial(coeffs=[-1.99497,0.132819,-0.000193682,1.35554e-07,-3.62979e-11,28713.6,-5.45622], Tmin=(100,'K'), Tmax=(927.64,'K')), NASAPolynomial(coeffs=[24.8374,0.0171266,-6.62025e-06,1.12903e-09,-7.29838e-14,23735.1,-132.894], Tmin=(927.64,'K'), Tmax=(5000,'K'))], Tmin=(100,'K'), Tmax=(5000,'K'), comment=\"\"\"Thermo group additivity estimation: group(Cs-CdsSsHH) + other(R) + group(Cds-Cds(Cds-Cds)Cs) + other(R) + group(Cds-CdsCsCs) + other(R) + group(Cds-\n",
       "CdsCsCs) + other(R) + group(Cds-Cds(Cds-Cds)H) + other(R) + group(Cds-Cds(Cds-Cds)H) + other(R) + group(Cds-CdsHH) + other(R) + group(Ss-CsCd) +\n",
       "other(R) + group(Ss-CdCd) + other(R) + polycyclic(PolycyclicRing)\"\"\"), molecule=[Molecule(SMILES=\"C=CC1=CC2CSC=2S1\")])"
      ]
     },
     "metadata": {},
     "output_type": "display_data"
    },
    {
     "name": "stdout",
     "output_type": "stream",
     "text": [
      "Group additivity:\n",
      "\tother\n",
      "\t\tR = 9\n",
      "\tgroup\n",
      "\t\tSs-CdCd = 1\n",
      "\t\tCs-CdsSsHH = 1\n",
      "\t\tCds-Cds(Cds-Cds)H = 2\n",
      "\t\tCds-CdsHH = 1\n",
      "\t\tSs-CsCd = 1\n",
      "\t\tCds-Cds(Cds-Cds)Cs = 1\n",
      "\t\tCds-CdsCsCs = 1\n",
      "\tpolycyclic\n",
      "\t\tPolycyclicRing = 1\n",
      "\n",
      "Uncertainty dG =  2.82842712475  kcal/mol\n",
      "==========\n",
      "C[C](C)CSC(C)(C)C(51)\n"
     ]
    },
    {
     "data": {
      "image/png": "[encoded data removed]",
      "text/plain": [
       "Species(index=51, label=\"C[C](C)CSC(C)(C)C\", thermo=NASA(polynomials=[NASAPolynomial(coeffs=[-0.916507,0.115273,-0.000108882,6.4186e-08,-1.67184e-11,-5273.07,35.5293], Tmin=(100,'K'), Tmax=(895.14,'K')), NASAPolynomial(coeffs=[9.56116,0.0684547,-3.04315e-05,5.76182e-09,-4.02141e-13,-7148.95,-13.8592], Tmin=(895.14,'K'), Tmax=(5000,'K'))], Tmin=(100,'K'), Tmax=(5000,'K'), comment=\"\"\"Thermo group additivity estimation: group(Cs-CsCsCsSs) + gauche(Cs(RRRR)) + other(R) + group(Cs-CsCsCsH) + gauche(Cs(CsCsCsR)) + other(R) + group(Cs-\n",
       "CsSsHH) + gauche(Cs(RRRR)) + other(R) + group(Cs-CsHHH) + gauche(Cs(CsRRR)) + other(R) + group(Cs-CsHHH) + gauche(Cs(CsRRR)) + other(R) + group(Cs-\n",
       "CsHHH) + gauche(Cs(CsRRR)) + other(R) + group(Cs-CsHHH) + gauche(Cs(Cs(CsCsR)RRR)) + other(R) + group(Cs-CsHHH) + gauche(Cs(Cs(CsCsR)RRR)) + other(R)\n",
       "+ group(Ss-CsCs) + gauche(Ss(CsCs)) + other(R) + radical(Tertalkyl)\"\"\"), molecule=[Molecule(SMILES=\"C[C](C)CSC(C)(C)C\")])"
      ]
     },
     "metadata": {},
     "output_type": "display_data"
    },
    {
     "name": "stdout",
     "output_type": "stream",
     "text": [
      "Group additivity:\n",
      "\tradical\n",
      "\t\tTertalkyl = 1\n",
      "\tgauche\n",
      "\t\tSs(CsCs) = 1\n",
      "\t\tCs(RRRR) = 2\n",
      "\t\tCs(Cs(CsCsR)RRR) = 2\n",
      "\t\tCs(CsRRR) = 3\n",
      "\t\tCs(CsCsCsR) = 1\n",
      "\tgroup\n",
      "\t\tCs-CsCsCsSs = 1\n",
      "\t\tSs-CsCs = 1\n",
      "\t\tCs-CsCsCsH = 1\n",
      "\t\tCs-CsHHH = 4\n",
      "\tother\n",
      "\t\tR = 9\n",
      "\n",
      "Uncertainty dG =  3.1224989992  kcal/mol\n",
      "==========\n",
      "CCC1=CC(C)=C(SC[C](C)C)S1(4887)\n"
     ]
    },
    {
     "data": {
      "image/png": "[encoded data removed]",
      "text/plain": [
       "Species(index=4887, label=\"CCC1=CC(C)=C(SC[C](C)C)S1\", thermo=NASA(polynomials=[NASAPolynomial(coeffs=[-3.24887,0.15296,-0.000141013,6.88827e-08,-1.36277e-11,11291.8,47.936], Tmin=(100,'K'), Tmax=(1209.94,'K')), NASAPolynomial(coeffs=[25.3113,0.0585413,-2.39588e-05,4.38673e-09,-3.01416e-13,4380.6,-95.2928], Tmin=(1209.94,'K'), Tmax=(5000,'K'))], Tmin=(100,'K'), Tmax=(5000,'K'), comment=\"\"\"Thermo group additivity estimation: group(Cs-CsCsCsH) + other(R) + group(Cs-(Cds-Cds)CsHH) + other(R) + group(Cs-CsSsHH) + other(R) + group(Cs-CsHHH)\n",
       "+ other(R) + group(Cs-CsHHH) + other(R) + group(Cs-CsHHH) + other(R) + group(Cs-(Cds-Cds)HHH) + other(R) + group(Cds-Cds(Cds-Cds)Cs) + other(R) +\n",
       "group(Cds-CdsCsSs) + other(R) + group(Cds-CdsCsCs) + other(R) + group(Cds-Cds(Cds-Cds)H) + other(R) + group(Ss-CsCd) + other(R) + group(Ss-CdCd) +\n",
       "other(R) + ring(thiophene) + radical(Tertalkyl)\"\"\"), molecule=[Molecule(SMILES=\"CCC1=CC(C)=C(SC[C](C)C)S1\")])"
      ]
     },
     "metadata": {},
     "output_type": "display_data"
    },
    {
     "name": "stdout",
     "output_type": "stream",
     "text": [
      "Group additivity:\n",
      "\tradical\n",
      "\t\tTertalkyl = 1\n",
      "\tring\n",
      "\t\tthiophene = 1\n",
      "\tother\n",
      "\t\tR = 13\n",
      "\tgroup\n",
      "\t\tSs-CdCd = 1\n",
      "\t\tCs-(Cds-Cds)CsHH = 1\n",
      "\t\tCs-CsSsHH = 1\n",
      "\t\tCds-Cds(Cds-Cds)H = 1\n",
      "\t\tCds-CdsCsCs = 1\n",
      "\t\tCs-CsCsCsH = 1\n",
      "\t\tCds-Cds(Cds-Cds)Cs = 1\n",
      "\t\tCds-CdsCsSs = 1\n",
      "\t\tCs-(Cds-Cds)HHH = 1\n",
      "\t\tCs-CsHHH = 3\n",
      "\t\tSs-CsCd = 1\n",
      "\n",
      "Uncertainty dG =  3.75832409459  kcal/mol\n",
      "==========\n",
      "S8J(8)\n"
     ]
    },
    {
     "data": {
      "image/png": "[encoded data removed]",
      "text/plain": [
       "Species(index=8, label=\"S8J\", thermo=NASA(polynomials=[NASAPolynomial(coeffs=[-1.45223,0.152998,-0.000361657,3.60361e-07,-1.28299e-10,28080.5,41.4134], Tmin=(100,'K'), Tmax=(893.74,'K')), NASAPolynomial(coeffs=[8.04659,0.0296972,-1.91253e-05,3.71547e-09,-2.45284e-13,29609.1,14.7051], Tmin=(893.74,'K'), Tmax=(5000,'K'))], Tmin=(100,'K'), Tmax=(5000,'K'), comment=\"\"\"Thermo group additivity estimation: group(Ss-SsSs) + gauche(Ss(RR)) + other(R) + group(Ss-SsSs) + gauche(Ss(RR)) + other(R) + group(Ss-SsSs) +\n",
       "gauche(Ss(RR)) + other(R) + group(Ss-SsSs) + gauche(Ss(RR)) + other(R) + group(Ss-SsSs) + gauche(Ss(RR)) + other(R) + group(Ss-SsSs) + gauche(Ss(RR))\n",
       "+ other(R) + group(Ss-SsH) + gauche(Ss(RR)) + other(R) + group(Ss-SsH) + gauche(Ss(RR)) + other(R) + radical(SJ-Ss-Ss) + radical(SJ-Ss-Ss)\"\"\"), molecule=[Molecule(SMILES=\"[S]SSSSSS[S]\")])"
      ]
     },
     "metadata": {},
     "output_type": "display_data"
    },
    {
     "name": "stdout",
     "output_type": "stream",
     "text": [
      "Group additivity:\n",
      "\tradical\n",
      "\t\tSJ-Ss-Ss = 2\n",
      "\tgauche\n",
      "\t\tSs(RR) = 8\n",
      "\tgroup\n",
      "\t\tSs-SsSs = 6\n",
      "\t\tSs-SsH = 2\n",
      "\tother\n",
      "\t\tR = 8\n",
      "\n",
      "Uncertainty dG =  3.60555127546  kcal/mol\n",
      "==========\n",
      "S=C=S(1050)\n"
     ]
    },
    {
     "data": {
      "image/png": "[encoded data removed]",
      "text/plain": [
       "Species(index=1050, label=\"S=C=S\", thermo=NASA(polynomials=[NASAPolynomial(coeffs=[2.94754,0.0121377,-1.46191e-05,8.66798e-09,-2.0122e-12,12760.5,8.79024], Tmin=(100,'K'), Tmax=(1054.71,'K')), NASAPolynomial(coeffs=[5.41485,0.00278033,-1.31095e-06,2.55964e-10,-1.82568e-14,12240,-3.2445], Tmin=(1054.71,'K'), Tmax=(5000,'K'))], Tmin=(100,'K'), Tmax=(5000,'K'), comment=\"\"\"Thermo library: SulfurLibrary\"\"\"), molecule=[Molecule(SMILES=\"S=C=S\")])"
      ]
     },
     "metadata": {},
     "output_type": "display_data"
    },
    {
     "name": "stdout",
     "output_type": "stream",
     "text": [
      "Thermo Library:  77\n",
      "\n",
      "Uncertainty dG =  2.0  kcal/mol\n",
      "==========\n",
      "C=C(C)[C](SS)C(C)(C)C(1432)\n"
     ]
    },
    {
     "data": {
      "image/png": "[encoded data removed]",
      "text/plain": [
       "Species(index=1432, label=\"C=C(C)[C](SS)C(C)(C)C\", thermo=NASA(polynomials=[NASAPolynomial(coeffs=[-1.95341,0.122813,-0.000105529,4.67533e-08,-8.3696e-12,1545.79,40.2856], Tmin=(100,'K'), Tmax=(1327.47,'K')), NASAPolynomial(coeffs=[23.2541,0.0468557,-1.96991e-05,3.64884e-09,-2.51763e-13,-5146.61,-88.4665], Tmin=(1327.47,'K'), Tmax=(5000,'K'))], Tmin=(100,'K'), Tmax=(5000,'K'), comment=\"\"\"Thermo group additivity estimation: group(Cs-CsCsCsCs) + gauche(Cs(CsCsCsCs)) + other(R) + group(Cs-CdsCsSsH) + gauche(Cs(RRRR)) + other(R) + group\n",
       "(Cs-CsHHH) + gauche(Cs(Cs(CsCsCs)RRR)) + other(R) + group(Cs-CsHHH) + gauche(Cs(Cs(CsCsCs)RRR)) + other(R) + group(Cs-CsHHH) +\n",
       "gauche(Cs(Cs(CsCsCs)RRR)) + other(R) + group(Cs-(Cds-Cds)HHH) + gauche(Cs(RRRR)) + other(R) + group(Cds-CdsCsCs) + gauche(Cd(CsCs)) + other(R) + group\n",
       "(Cds-CdsHH) + gauche(CsOsCdSs) + other(R) + group(Ss-SsCs) + gauche(Ss(RR)) + other(R) + group(Ss-SsH) + gauche(Ss(RR)) + other(R) + radical(CsJ-\n",
       "CsCdSs)\"\"\"), molecule=[Molecule(SMILES=\"C=C(C)[C](SS)C(C)(C)C\"), Molecule(SMILES=\"[CH2]C(C)=C(SS)C(C)(C)C\")])"
      ]
     },
     "metadata": {},
     "output_type": "display_data"
    },
    {
     "name": "stdout",
     "output_type": "stream",
     "text": [
      "Group additivity:\n",
      "\tgauche\n",
      "\t\tSs(RR) = 2\n",
      "\t\tCs(Cs(CsCsCs)RRR) = 3\n",
      "\t\tCsOsCdSs = 1\n",
      "\t\tCs(CsCsCsCs) = 1\n",
      "\t\tCs(RRRR) = 2\n",
      "\t\tCd(CsCs) = 1\n",
      "\tgroup\n",
      "\t\tCs-(Cds-Cds)HHH = 1\n",
      "\t\tSs-SsH = 1\n",
      "\t\tCs-CsHHH = 2\n",
      "\t\tCs-CdsCsSsH = 1\n",
      "\t\tCds-CdsCsCs = 1\n",
      "\t\tSs-SsCs = 1\n",
      "\t\tCs-CsCsCsCs = 1\n",
      "\tother\n",
      "\t\tR = 10\n",
      "\n",
      "Uncertainty dG =  3.22102468168  kcal/mol\n",
      "==========\n",
      "CC1C[C]2CCC=1SS2(3882)\n"
     ]
    },
    {
     "data": {
      "image/png": "[encoded data removed]",
      "text/plain": [
       "Species(index=3882, label=\"CC1C[C]2CCC=1SS2\", thermo=NASA(polynomials=[NASAPolynomial(coeffs=[-0.734781,0.11171,-0.000136944,9.32637e-08,-2.61285e-11,21037,0.615565], Tmin=(100,'K'), Tmax=(861.26,'K')), NASAPolynomial(coeffs=[13.4731,0.0457222,-2.20159e-05,4.30122e-09,-3.04783e-13,18589.7,-65.8071], Tmin=(861.26,'K'), Tmax=(5000,'K'))], Tmin=(100,'K'), Tmax=(5000,'K'), comment=\"\"\"Thermo group additivity estimation: group(Cs-CsCsSsH) + other(R) + group(Cs-CsCsHH) + other(R) + group(Cs-(Cds-Cds)CsHH) + other(R) + group(Cs-(Cds-\n",
       "Cds)CsHH) + other(R) + group(Cs-(Cds-Cds)HHH) + other(R) + group(Cds-CdsCsCs) + other(R) + group(Cds-CdsCsSs) + other(R) + group(Ss-SsCs) + other(R) +\n",
       "group(Ss-SsCd) + other(R) + polycyclic(PolycyclicRing) + radical(CsJ-CsCsSs)\"\"\"), molecule=[Molecule(SMILES=\"CC1C[C]2CCC=1SS2\")])"
      ]
     },
     "metadata": {},
     "output_type": "display_data"
    },
    {
     "name": "stdout",
     "output_type": "stream",
     "text": [
      "Group additivity:\n",
      "\tradical\n",
      "\t\tCsJ-CsCsSs = 1\n",
      "\tother\n",
      "\t\tR = 9\n",
      "\tgroup\n",
      "\t\tCs-(Cds-Cds)CsHH = 1\n",
      "\t\tCs-CsCsSsH = 1\n",
      "\t\tSs-SsCd = 1\n",
      "\t\tCds-CdsCsCs = 1\n",
      "\t\tCs-(Cds-Cds)HHH = 1\n",
      "\t\tCds-CdsCsSs = 1\n",
      "\t\tCs-CsCsHH = 1\n",
      "\t\tSs-SsCs = 1\n",
      "\tpolycyclic\n",
      "\t\tPolycyclicRing = 1\n",
      "\n",
      "Uncertainty dG =  2.8173569174  kcal/mol\n",
      "==========\n",
      "CC12CC1(S)[CH]CC2=S(4146)\n"
     ]
    },
    {
     "data": {
      "image/png": "[encoded data removed]",
      "text/plain": [
       "Species(index=4146, label=\"CC12CC1(S)[CH]CC2=S\", thermo=NASA(polynomials=[NASAPolynomial(coeffs=[-0.599424,0.101958,-0.000102063,5.332e-08,-1.1303e-11,23886,-0.412578], Tmin=(100,'K'), Tmax=(1128.41,'K')), NASAPolynomial(coeffs=[17.3377,0.0383736,-1.75391e-05,3.38272e-09,-2.39215e-13,19837.9,-89.1156], Tmin=(1128.41,'K'), Tmax=(5000,'K'))], Tmin=(100,'K'), Tmax=(5000,'K'), comment=\"\"\"Thermo group additivity estimation: group(Cs-C=SCsCsCs) + other(R) + group(Cs-CsCsCsSs) + other(R) + group(Cs-CsCsHH) + other(R) + group(Cs-CsCsHH) +\n",
       "other(R) + group(Cs-C=SCsHH) + other(R) + group(Cs-CsHHH) + other(R) + group(C=S-CsCs) + other(R) + group(Ss-CsH) + other(R) + group(Sd-Cd) + other(R)\n",
       "+ polycyclic(PolycyclicRing) + radical(Cs_S)\"\"\"), molecule=[Molecule(SMILES=\"CC12CC1(S)[CH]CC2=S\")])"
      ]
     },
     "metadata": {},
     "output_type": "display_data"
    },
    {
     "name": "stdout",
     "output_type": "stream",
     "text": [
      "Group additivity:\n",
      "\tradical\n",
      "\t\tCs_S = 1\n",
      "\tother\n",
      "\t\tR = 9\n",
      "\tgroup\n",
      "\t\tSd-Cd = 1\n",
      "\t\tCs-C=SCsCsCs = 1\n",
      "\t\tCs-CsCsCsSs = 1\n",
      "\t\tCs-CsCsHH = 2\n",
      "\t\tSs-CsH = 1\n",
      "\t\tC=S-CsCs = 1\n",
      "\t\tCs-CsHHH = 1\n",
      "\t\tCs-C=SCsHH = 1\n",
      "\tpolycyclic\n",
      "\t\tPolycyclicRing = 1\n",
      "\n",
      "Uncertainty dG =  2.85043856275  kcal/mol\n",
      "==========\n",
      "C=C(C)SC(C)(C)C(67)\n"
     ]
    },
    {
     "data": {
      "image/png": "[encoded data removed]",
      "text/plain": [
       "Species(index=67, label=\"C=C(C)SC(C)(C)C\", thermo=NASA(polynomials=[NASAPolynomial(coeffs=[-0.736721,0.104474,-9.75155e-05,5.03804e-08,-1.07792e-11,-10985.3,28.3714], Tmin=(100,'K'), Tmax=(1109.7,'K')), NASAPolynomial(coeffs=[15.2274,0.0469312,-1.97342e-05,3.65279e-09,-2.5226e-13,-14528.4,-50.3082], Tmin=(1109.7,'K'), Tmax=(5000,'K'))], Tmin=(100,'K'), Tmax=(5000,'K'), comment=\"\"\"Thermo group additivity estimation: group(Cs-CsCsCsSs) + gauche(Cs(RRRR)) + other(R) + group(Cs-CsHHH) + gauche(Cs(CsRRR)) + other(R) + group(Cs-\n",
       "CsHHH) + gauche(Cs(CsRRR)) + other(R) + group(Cs-CsHHH) + gauche(Cs(CsRRR)) + other(R) + group(Cs-(Cds-Cds)HHH) + gauche(Cs(RRRR)) + other(R) + group\n",
       "(Cds-CdsCsSs) + gauche(CsOsCdSs) + other(R) + group(Cds-CdsHH) + gauche(CsOsCdSs) + other(R) + group(Ss-CsCd) + gauche(Ss(CsR)) + other(R)\"\"\"), molecule=[Molecule(SMILES=\"C=C(C)SC(C)(C)C\")])"
      ]
     },
     "metadata": {},
     "output_type": "display_data"
    },
    {
     "name": "stdout",
     "output_type": "stream",
     "text": [
      "Group additivity:\n",
      "\tgauche\n",
      "\t\tSs(CsR) = 1\n",
      "\t\tCs(RRRR) = 2\n",
      "\t\tCsOsCdSs = 2\n",
      "\t\tCs(CsRRR) = 3\n",
      "\tgroup\n",
      "\t\tCds-CdsHH = 1\n",
      "\t\tCs-CsCsCsSs = 1\n",
      "\t\tSs-CsCd = 1\n",
      "\t\tCs-CsHHH = 2\n",
      "\t\tCs-(Cds-Cds)HHH = 1\n",
      "\tother\n",
      "\t\tR = 8\n",
      "\n",
      "Uncertainty dG =  2.80624304008  kcal/mol\n",
      "==========\n",
      "C[C]1SC(=S)C2(C)CC12(3202)\n"
     ]
    },
    {
     "data": {
      "image/png": "[encoded data removed]",
      "text/plain": [
       "Species(index=3202, label=\"C[C]1SC(=S)C2(C)CC12\", thermo=NASA(polynomials=[NASAPolynomial(coeffs=[-0.82128,0.0987906,-8.86073e-05,4.00035e-08,-7.21679e-12,16988.5,-1.94522], Tmin=(100,'K'), Tmax=(1326.63,'K')), NASAPolynomial(coeffs=[20.947,0.0331553,-1.43941e-05,2.70915e-09,-1.88728e-13,11212.9,-113.117], Tmin=(1326.63,'K'), Tmax=(5000,'K'))], Tmin=(100,'K'), Tmax=(5000,'K'), comment=\"\"\"Thermo group additivity estimation: group(Cs-C=SCsCsCs) + other(R) + group(Cs-CsCsCsH) + other(R) + group(Cs-CsCsSsH) + other(R) + group(Cs-CsCsHH) +\n",
       "other(R) + group(Cs-CsHHH) + other(R) + group(Cs-CsHHH) + other(R) + group(C=S-CsSs) + other(R) + group(Ss-C=SCs) + other(R) + group(Sd-Cd) + other(R)\n",
       "+ polycyclic(PolycyclicRing) + radical(CsJ-CsCsSs)\"\"\"), molecule=[Molecule(SMILES=\"C[C]1SC(=S)C2(C)CC12\")])"
      ]
     },
     "metadata": {},
     "output_type": "display_data"
    },
    {
     "name": "stdout",
     "output_type": "stream",
     "text": [
      "Group additivity:\n",
      "\tradical\n",
      "\t\tCsJ-CsCsSs = 1\n",
      "\tother\n",
      "\t\tR = 9\n",
      "\tgroup\n",
      "\t\tSd-Cd = 1\n",
      "\t\tCs-C=SCsCsCs = 1\n",
      "\t\tCs-CsCsSsH = 1\n",
      "\t\tCs-CsCsHH = 1\n",
      "\t\tCs-CsCsCsH = 1\n",
      "\t\tSs-C=SCs = 1\n",
      "\t\tCs-CsHHH = 2\n",
      "\t\tC=S-CsSs = 1\n",
      "\tpolycyclic\n",
      "\t\tPolycyclicRing = 1\n",
      "\n",
      "Uncertainty dG =  2.85043856275  kcal/mol\n",
      "==========\n",
      "C=C(C)S[S](502)\n"
     ]
    },
    {
     "data": {
      "image/png": "[encoded data removed]",
      "text/plain": [
       "Species(index=502, label=\"C=C(C)S[S]\", thermo=NASA(polynomials=[NASAPolynomial(coeffs=[2.08643,0.0434779,-4.26385e-05,2.33289e-08,-5.32038e-12,15507.3,19.7477], Tmin=(100,'K'), Tmax=(1040.35,'K')), NASAPolynomial(coeffs=[8.18206,0.0200416,-8.84807e-06,1.67616e-09,-1.17237e-13,14238.9,-9.90143], Tmin=(1040.35,'K'), Tmax=(5000,'K'))], Tmin=(100,'K'), Tmax=(5000,'K'), comment=\"\"\"Thermo group additivity estimation: group(Cs-(Cds-Cds)HHH) + gauche(Cs(RRRR)) + other(R) + group(Cds-CdsCsSs) + gauche(CsOsCdSs) + other(R) + group\n",
       "(Cds-CdsHH) + gauche(CsOsCdSs) + other(R) + group(Ss-SsCd) + gauche(Ss(RR)) + other(R) + group(Ss-SsH) + gauche(Ss(RR)) + other(R) + radical(SJ-Ss-Cs)\"\"\"), molecule=[Molecule(SMILES=\"C=C(C)S[S]\")])"
      ]
     },
     "metadata": {},
     "output_type": "display_data"
    },
    {
     "name": "stdout",
     "output_type": "stream",
     "text": [
      "Group additivity:\n",
      "\tradical\n",
      "\t\tSJ-Ss-Cs = 1\n",
      "\tgauche\n",
      "\t\tCs(RRRR) = 1\n",
      "\t\tCsOsCdSs = 2\n",
      "\t\tSs(RR) = 2\n",
      "\tgroup\n",
      "\t\tCs-(Cds-Cds)HHH = 1\n",
      "\t\tSs-SsCd = 1\n",
      "\t\tSs-SsH = 1\n",
      "\t\tCds-CdsCsSs = 1\n",
      "\tother\n",
      "\t\tR = 5\n",
      "\n",
      "Uncertainty dG =  2.16506350946  kcal/mol\n",
      "==========\n",
      "[CH2]C(=C)SC(=S)C(=C)C(1719)\n"
     ]
    },
    {
     "data": {
      "image/png": "[encoded data removed]",
      "text/plain": [
       "Species(index=1719, label=\"[CH2]C(=C)SC(=S)C(=C)C\", thermo=NASA(polynomials=[NASAPolynomial(coeffs=[-0.549433,0.10098,-0.000107478,6.07529e-08,-1.38733e-11,35925.5,32.7765], Tmin=(100,'K'), Tmax=(1056.56,'K')), NASAPolynomial(coeffs=[16.4766,0.0365207,-1.59651e-05,3.00953e-09,-2.10117e-13,32327.7,-50.3007], Tmin=(1056.56,'K'), Tmax=(5000,'K'))], Tmin=(100,'K'), Tmax=(5000,'K'), comment=\"\"\"Thermo group additivity estimation: group(Cs-(Cds-Cds)HHH) + gauche(Cs(RRRR)) + other(R) + group(Cs-(Cds-Cds)HHH) + gauche(Cs(RRRR)) + other(R) +\n",
       "group(Cds-CdsC=SCs) + gauche(CsOsCdSs) + other(R) + group(Cds-CdsCsSs) + gauche(CsOsCdSs) + other(R) + group(C=S-CsSs) + other(R) + group(Cds-CdsHH) +\n",
       "gauche(CsOsCdSs) + other(R) + group(Cds-CdsHH) + gauche(CsOsCdSs) + other(R) + group(Ss-C=SCd) + gauche(Ss(RR)) + other(R) + group(Sd-Cd) + other(R) +\n",
       "radical(Allyl_P)\"\"\"), molecule=[Molecule(SMILES=\"[CH2]C(=C)SC(=S)C(=C)C\")])"
      ]
     },
     "metadata": {},
     "output_type": "display_data"
    },
    {
     "name": "stdout",
     "output_type": "stream",
     "text": [
      "Group additivity:\n",
      "\tradical\n",
      "\t\tAllyl_P = 1\n",
      "\tgauche\n",
      "\t\tCs(RRRR) = 2\n",
      "\t\tCsOsCdSs = 4\n",
      "\t\tSs(RR) = 1\n",
      "\tgroup\n",
      "\t\tSd-Cd = 1\n",
      "\t\tC=S-CsSs = 1\n",
      "\t\tCs-(Cds-Cds)HHH = 2\n",
      "\t\tCds-CdsHH = 2\n",
      "\t\tSs-C=SCd = 1\n",
      "\t\tCds-CdsCsSs = 1\n",
      "\t\tCds-CdsC=SCs = 1\n",
      "\tother\n",
      "\t\tR = 9\n",
      "\n",
      "Uncertainty dG =  3.08220700148  kcal/mol\n",
      "==========\n",
      "CC12CC=C(C1)S[C]2S(3112)\n"
     ]
    },
    {
     "data": {
      "image/png": "[encoded data removed]",
      "text/plain": [
       "Species(index=3112, label=\"CC12CC=C(C1)S[C]2S\", thermo=NASA(polynomials=[NASAPolynomial(coeffs=[-0.907831,0.112046,-0.000125869,7.40181e-08,-1.7591e-11,21155.8,-1.33858], Tmin=(100,'K'), Tmax=(1014.76,'K')), NASAPolynomial(coeffs=[17.4668,0.0396163,-1.88038e-05,3.67946e-09,-2.62072e-13,17426.7,-90.2546], Tmin=(1014.76,'K'), Tmax=(5000,'K'))], Tmin=(100,'K'), Tmax=(5000,'K'), comment=\"\"\"Thermo group additivity estimation: group(Cs-CsCsCsCs) + other(R) + group(Cs-(Cds-Cds)CsHH) + other(R) + group(Cs-(Cds-Cds)CsHH) + other(R) + group\n",
       "(Cs-CsSsSsH) + other(R) + group(Cs-CsHHH) + other(R) + group(Cds-CdsCsSs) + other(R) + group(Cds-CdsCsH) + other(R) + group(Ss-CsCd) + other(R) +\n",
       "group(Ss-CsH) + other(R) + polycyclic(PolycyclicRing) + radical(CsJ-CsSsSs)\"\"\"), molecule=[Molecule(SMILES=\"CC12CC=C(C1)S[C]2S\")])"
      ]
     },
     "metadata": {},
     "output_type": "display_data"
    },
    {
     "name": "stdout",
     "output_type": "stream",
     "text": [
      "Group additivity:\n",
      "\tradical\n",
      "\t\tCsJ-CsSsSs = 1\n",
      "\tother\n",
      "\t\tR = 9\n",
      "\tgroup\n",
      "\t\tCs-(Cds-Cds)CsHH = 2\n",
      "\t\tCs-CsHHH = 1\n",
      "\t\tSs-CsCd = 1\n",
      "\t\tCds-CdsCsSs = 1\n",
      "\t\tCds-CdsCsH = 1\n",
      "\t\tCs-CsCsCsCs = 1\n",
      "\t\tSs-CsH = 1\n",
      "\tpolycyclic\n",
      "\t\tPolycyclicRing = 1\n",
      "\n",
      "Uncertainty dG =  2.8394541729  kcal/mol\n",
      "==========\n",
      "S2JJ(13)\n"
     ]
    },
    {
     "data": {
      "image/png": "[encoded data removed]",
      "text/plain": [
       "Species(index=13, label=\"S2JJ\", thermo=NASA(polynomials=[NASAPolynomial(coeffs=[3.38754,0.00174496,1.04852e-06,-3.45374e-09,1.76487e-12,14378.7,7.60685], Tmin=(100,'K'), Tmax=(871.68,'K')), NASAPolynomial(coeffs=[4.18227,0.000176343,1.71505e-07,-4.78095e-11,3.58381e-15,14161.2,3.42898], Tmin=(871.68,'K'), Tmax=(5000,'K'))], Tmin=(100,'K'), Tmax=(5000,'K'), comment=\"\"\"Thermo library: primaryThermoLibrary\"\"\"), molecule=[Molecule(SMILES=\"[S][S]\")])"
      ]
     },
     "metadata": {},
     "output_type": "display_data"
    },
    {
     "name": "stdout",
     "output_type": "stream",
     "text": [
      "Thermo Library:  16\n",
      "\n",
      "Uncertainty dG =  2.0  kcal/mol\n",
      "==========\n",
      "C=C1CSS1(1572)\n"
     ]
    },
    {
     "data": {
      "image/png": "[encoded data removed]",
      "text/plain": [
       "Species(index=1572, label=\"C=C1CSS1\", thermo=NASA(polynomials=[NASAPolynomial(coeffs=[1.60143,0.0490521,-5.38244e-05,2.9707e-08,-6.37497e-12,22864.5,13.3241], Tmin=(100,'K'), Tmax=(1147.2,'K')), NASAPolynomial(coeffs=[12.5677,0.0108152,-3.8283e-06,6.52898e-10,-4.34055e-14,20348.5,-41.0878], Tmin=(1147.2,'K'), Tmax=(5000,'K'))], Tmin=(100,'K'), Tmax=(5000,'K'), comment=\"\"\"Thermo group additivity estimation: group(Cs-CdsSsHH) + other(R) + group(Cds-CdsCsSs) + other(R) + group(Cds-CdsHH) + other(R) + group(Ss-SsCs) +\n",
       "other(R) + group(Ss-SsCd) + other(R) + ring(1,2-dithietane)\"\"\"), molecule=[Molecule(SMILES=\"C=C1CSS1\")])"
      ]
     },
     "metadata": {},
     "output_type": "display_data"
    },
    {
     "name": "stdout",
     "output_type": "stream",
     "text": [
      "Group additivity:\n",
      "\tring\n",
      "\t\t1,2-dithietane = 1\n",
      "\tother\n",
      "\t\tR = 5\n",
      "\tgroup\n",
      "\t\tCs-CdsSsHH = 1\n",
      "\t\tSs-SsCd = 1\n",
      "\t\tCds-CdsHH = 1\n",
      "\t\tSs-SsCs = 1\n",
      "\t\tCds-CdsCsSs = 1\n",
      "\n",
      "Uncertainty dG =  2.04633819297  kcal/mol\n",
      "==========\n",
      "C=C(C)CSC(C)(C)C(106)\n"
     ]
    },
    {
     "data": {
      "image/png": "[encoded data removed]",
      "text/plain": [
       "Species(index=106, label=\"C=C(C)CSC(C)(C)C\", thermo=NASA(polynomials=[NASAPolynomial(coeffs=[-1.70016,0.129384,-0.000139122,8.46094e-08,-2.12062e-11,-13402,32.7938], Tmin=(100,'K'), Tmax=(959.39,'K')), NASAPolynomial(coeffs=[16.0078,0.055553,-2.3686e-05,4.39377e-09,-3.0317e-13,-16799.7,-51.9028], Tmin=(959.39,'K'), Tmax=(5000,'K'))], Tmin=(100,'K'), Tmax=(5000,'K'), comment=\"\"\"Thermo group additivity estimation: group(Cs-CsCsCsSs) + gauche(Cs(RRRR)) + other(R) + group(Cs-CdsSsHH) + gauche(Cs(RRRR)) + other(R) + group(Cs-\n",
       "CsHHH) + gauche(Cs(CsRRR)) + other(R) + group(Cs-CsHHH) + gauche(Cs(CsRRR)) + other(R) + group(Cs-CsHHH) + gauche(Cs(CsRRR)) + other(R) + group(Cs\n",
       "-(Cds-Cds)HHH) + gauche(Cs(RRRR)) + other(R) + group(Cds-CdsCsCs) + gauche(Cd(CsCs)) + other(R) + group(Cds-CdsHH) + gauche(CsOsCdSs) + other(R) +\n",
       "group(Ss-CsCs) + gauche(Ss(CsCs)) + other(R)\"\"\"), molecule=[Molecule(SMILES=\"C=C(C)CSC(C)(C)C\")])"
      ]
     },
     "metadata": {},
     "output_type": "display_data"
    },
    {
     "name": "stdout",
     "output_type": "stream",
     "text": [
      "Group additivity:\n",
      "\tgauche\n",
      "\t\tSs(CsCs) = 1\n",
      "\t\tCs(RRRR) = 3\n",
      "\t\tCsOsCdSs = 1\n",
      "\t\tCd(CsCs) = 1\n",
      "\t\tCs(CsRRR) = 3\n",
      "\tgroup\n",
      "\t\tCs-CdsSsHH = 1\n",
      "\t\tCs-CsCsCsSs = 1\n",
      "\t\tCds-CdsHH = 1\n",
      "\t\tSs-CsCs = 1\n",
      "\t\tCds-CdsCsCs = 1\n",
      "\t\tCs-CsHHH = 2\n",
      "\tother\n",
      "\t\tR = 9\n",
      "\n",
      "Uncertainty dG =  3.03108891325  kcal/mol\n",
      "==========\n",
      "[CH2]CC1=CC(C)=C(S)S1(4532)\n"
     ]
    },
    {
     "data": {
      "image/png": "[encoded data removed]",
      "text/plain": [
       "Species(index=4532, label=\"[CH2]CC1=CC(C)=C(S)S1\", thermo=NASA(polynomials=[NASAPolynomial(coeffs=[-0.592541,0.0838688,-4.17262e-05,-1.89336e-08,1.68686e-11,26035.3,32.8246], Tmin=(100,'K'), Tmax=(956.18,'K')), NASAPolynomial(coeffs=[24.4051,0.0202556,-6.18868e-06,1.08912e-09,-7.98101e-14,19382.4,-96.4455], Tmin=(956.18,'K'), Tmax=(5000,'K'))], Tmin=(100,'K'), Tmax=(5000,'K'), comment=\"\"\"Thermo group additivity estimation: group(Cs-(Cds-Cds)CsHH) + other(R) + group(Cs-CsHHH) + other(R) + group(Cs-(Cds-Cds)HHH) + other(R) + group(Cds-\n",
       "Cds(Cds-Cds)Cs) + other(R) + group(Cds-CdsCsSs) + other(R) + group(Cds-Cds(Cds-Cds)H) + other(R) + group(Cds-CdsCsCs) + other(R) + group(Ss-CdCd) +\n",
       "other(R) + group(Ss-CdH) + other(R) + ring(thiophene) + radical(RCCJ)\"\"\"), molecule=[Molecule(SMILES=\"[CH2]CC1=CC(C)=C(S)S1\")])"
      ]
     },
     "metadata": {},
     "output_type": "display_data"
    },
    {
     "name": "stdout",
     "output_type": "stream",
     "text": [
      "Group additivity:\n",
      "\tradical\n",
      "\t\tRCCJ = 1\n",
      "\tring\n",
      "\t\tthiophene = 1\n",
      "\tother\n",
      "\t\tR = 9\n",
      "\tgroup\n",
      "\t\tSs-CdCd = 1\n",
      "\t\tCds-Cds(Cds-Cds)H = 1\n",
      "\t\tCds-CdsCsSs = 1\n",
      "\t\tCs-(Cds-Cds)CsHH = 1\n",
      "\t\tCds-CdsCsCs = 1\n",
      "\t\tCs-(Cds-Cds)HHH = 1\n",
      "\t\tCs-CsHHH = 1\n",
      "\t\tSs-CdH = 1\n",
      "\n",
      "Uncertainty dG =  2.8173569174  kcal/mol\n",
      "==========\n",
      "C=C(C)C(=S)C(C)(C)C(507)\n"
     ]
    },
    {
     "data": {
      "image/png": "[encoded data removed]",
      "text/plain": [
       "Species(index=507, label=\"C=C(C)C(=S)C(C)(C)C\", thermo=NASA(polynomials=[NASAPolynomial(coeffs=[-1.01938,0.105385,-8.85273e-05,3.97472e-08,-7.3239e-12,-1983.73,31.4314], Tmin=(100,'K'), Tmax=(1281.07,'K')), NASAPolynomial(coeffs=[18.0783,0.0457549,-1.8708e-05,3.41381e-09,-2.33558e-13,-6876.88,-65.4345], Tmin=(1281.07,'K'), Tmax=(5000,'K'))], Tmin=(100,'K'), Tmax=(5000,'K'), comment=\"\"\"Thermo group additivity estimation: group(Cs-C=SCsCsCs) + gauche(Cs(RRRR)) + other(R) + group(Cs-CsHHH) + gauche(Cs(CsRRR)) + other(R) + group(Cs-\n",
       "CsHHH) + gauche(Cs(CsRRR)) + other(R) + group(Cs-CsHHH) + gauche(Cs(CsRRR)) + other(R) + group(Cs-(Cds-Cds)HHH) + gauche(Cs(RRRR)) + other(R) + group\n",
       "(Cds-CdsC=SCs) + gauche(CsOsCdSs) + other(R) + group(C=S-CdsCs) + other(R) + group(Cds-CdsHH) + gauche(CsOsCdSs) + other(R) + group(Sd-Cd) + other(R)\"\"\"), molecule=[Molecule(SMILES=\"C=C(C)C(=S)C(C)(C)C\")])"
      ]
     },
     "metadata": {},
     "output_type": "display_data"
    },
    {
     "name": "stdout",
     "output_type": "stream",
     "text": [
      "Group additivity:\n",
      "\tgauche\n",
      "\t\tCs(RRRR) = 2\n",
      "\t\tCsOsCdSs = 2\n",
      "\t\tCs(CsRRR) = 3\n",
      "\tgroup\n",
      "\t\tSd-Cd = 1\n",
      "\t\tCs-C=SCsCsCs = 1\n",
      "\t\tCs-(Cds-Cds)HHH = 1\n",
      "\t\tCds-CdsHH = 1\n",
      "\t\tC=S-CdsCs = 1\n",
      "\t\tCs-CsHHH = 2\n",
      "\tother\n",
      "\t\tR = 9\n",
      "\n",
      "Uncertainty dG =  2.98956518578  kcal/mol\n",
      "==========\n",
      "C=[C]C1=CC(C)=C(S)S1(5300)\n"
     ]
    },
    {
     "data": {
      "image/png": "[encoded data removed]",
      "text/plain": [
       "Species(index=5300, label=\"C=[C]C1=CC(C)=C(S)S1\", thermo=NASA(polynomials=[NASAPolynomial(coeffs=[-1.52583,0.0975388,-9.90588e-05,4.83498e-08,-8.84283e-12,39381.6,32.708], Tmin=(100,'K'), Tmax=(1527.03,'K')), NASAPolynomial(coeffs=[26.1312,0.0117133,-1.61028e-06,6.84676e-11,9.55984e-16,32494.9,-107.321], Tmin=(1527.03,'K'), Tmax=(5000,'K'))], Tmin=(100,'K'), Tmax=(5000,'K'), comment=\"\"\"Thermo group additivity estimation: group(Cs-(Cds-Cds)HHH) + other(R) + group(Cds-Cds(Cds-Cds)Cs) + other(R) + group(Cds-CdsCsCs) + other(R) + group\n",
       "(Cds-Cds(Cds-Cds)H) + other(R) + group(Cds-CdsCsCs) + other(R) + group(Cds-Cds(Cds-Cds)H) + other(R) + group(Cds-CdsHH) + other(R) + group(Ss-CdCd) +\n",
       "other(R) + group(Ss-CdH) + other(R) + ring(thiophene) + radical(C=CJC=C)\"\"\"), molecule=[Molecule(SMILES=\"C=[C]C1=CC(C)=C(S)S1\"), Molecule(SMILES=\"C=C=C1[CH]C(C)=C(S)S1\"), Molecule(SMILES=\"C=C=C1C=C(C)[C](S)S1\")])"
      ]
     },
     "metadata": {},
     "output_type": "display_data"
    },
    {
     "name": "stdout",
     "output_type": "stream",
     "text": [
      "Group additivity:\n",
      "\tradical\n",
      "\t\tC=CJC=C = 1\n",
      "\tring\n",
      "\t\tthiophene = 1\n",
      "\tother\n",
      "\t\tR = 9\n",
      "\tgroup\n",
      "\t\tSs-CdCd = 1\n",
      "\t\tCs-(Cds-Cds)HHH = 1\n",
      "\t\tCds-CdsHH = 1\n",
      "\t\tCds-Cds(Cds-Cds)Cs = 1\n",
      "\t\tCds-Cds(Cds-Cds)H = 1\n",
      "\t\tCds-CdsCsCs = 2\n",
      "\t\tSs-CdH = 1\n",
      "\n",
      "Uncertainty dG =  2.8394541729  kcal/mol\n",
      "==========\n",
      "CC1CC([S])=CCC=1S(3592)\n"
     ]
    },
    {
     "data": {
      "image/png": "[encoded data removed]",
      "text/plain": [
       "Species(index=3592, label=\"CC1CC([S])=CCC=1S\", thermo=NASA(polynomials=[NASAPolynomial(coeffs=[-0.160278,0.0791785,-4.88203e-05,6.16441e-09,3.30352e-12,25882.6,32.9832], Tmin=(100,'K'), Tmax=(1069.74,'K')), NASAPolynomial(coeffs=[18.1086,0.0321927,-1.28394e-05,2.37694e-09,-1.66628e-13,20753.8,-62.0882], Tmin=(1069.74,'K'), Tmax=(5000,'K'))], Tmin=(100,'K'), Tmax=(5000,'K'), comment=\"\"\"Thermo group additivity estimation: group(Cs-(Cds-Cds)(Cds-Cds)HH) + other(R) + group(Cs-(Cds-Cds)(Cds-Cds)HH) + other(R) + group(Cs-(Cds-Cds)HHH) +\n",
       "other(R) + group(Cds-CdsCsCs) + other(R) + group(Cds-CdsCsSs) + other(R) + group(Cds-CdsCsSs) + other(R) + group(Cds-CdsCsH) + other(R) + group(Ss-\n",
       "CdH) + other(R) + group(Ss-CdH) + other(R) + ring(1,4-Cyclohexadiene) + radical(SJ-Cd)\"\"\"), molecule=[Molecule(SMILES=\"CC1CC([S])=CCC=1S\"), Molecule(SMILES=\"CC1CC(=S)[CH]CC=1S\")])"
      ]
     },
     "metadata": {},
     "output_type": "display_data"
    },
    {
     "name": "stdout",
     "output_type": "stream",
     "text": [
      "Group additivity:\n",
      "\tradical\n",
      "\t\tSJ-Cd = 1\n",
      "\tring\n",
      "\t\t1,4-Cyclohexadiene = 1\n",
      "\tother\n",
      "\t\tR = 9\n",
      "\tgroup\n",
      "\t\tCs-(Cds-Cds)(Cds-Cds)HH = 2\n",
      "\t\tCds-CdsCsSs = 2\n",
      "\t\tCds-CdsCsH = 1\n",
      "\t\tCds-CdsCsCs = 1\n",
      "\t\tCs-(Cds-Cds)HHH = 1\n",
      "\t\tSs-CdH = 1\n",
      "\n",
      "Uncertainty dG =  2.86138078556  kcal/mol\n",
      "==========\n",
      "[CH2]C(=C)SS(1409)\n"
     ]
    },
    {
     "data": {
      "image/png": "[encoded data removed]",
      "text/plain": [
       "Species(index=1409, label=\"[CH2]C(=C)SS\", thermo=NASA(polynomials=[NASAPolynomial(coeffs=[1.57791,0.0526262,-5.65209e-05,3.12856e-08,-6.9001e-12,23990.3,20.4407], Tmin=(100,'K'), Tmax=(1099.86,'K')), NASAPolynomial(coeffs=[11.5377,0.0164039,-7.12045e-06,1.34197e-09,-9.38503e-14,21799.4,-28.5577], Tmin=(1099.86,'K'), Tmax=(5000,'K'))], Tmin=(100,'K'), Tmax=(5000,'K'), comment=\"\"\"Thermo group additivity estimation: group(Cs-(Cds-Cds)HHH) + gauche(Cs(RRRR)) + other(R) + group(Cds-CdsCsSs) + gauche(CsOsCdSs) + other(R) + group\n",
       "(Cds-CdsHH) + gauche(CsOsCdSs) + other(R) + group(Ss-SsCd) + gauche(Ss(RR)) + other(R) + group(Ss-SsH) + gauche(Ss(RR)) + other(R) + radical(Allyl_P)\"\"\"), molecule=[Molecule(SMILES=\"[CH2]C(=C)SS\")])"
      ]
     },
     "metadata": {},
     "output_type": "display_data"
    },
    {
     "name": "stdout",
     "output_type": "stream",
     "text": [
      "Group additivity:\n",
      "\tradical\n",
      "\t\tAllyl_P = 1\n",
      "\tgauche\n",
      "\t\tCs(RRRR) = 1\n",
      "\t\tCsOsCdSs = 2\n",
      "\t\tSs(RR) = 2\n",
      "\tgroup\n",
      "\t\tCs-(Cds-Cds)HHH = 1\n",
      "\t\tSs-SsCd = 1\n",
      "\t\tSs-SsH = 1\n",
      "\t\tCds-CdsCsSs = 1\n",
      "\tother\n",
      "\t\tR = 5\n",
      "\n",
      "Uncertainty dG =  2.16506350946  kcal/mol\n",
      "==========\n",
      "C=C1C2[C](CC)SC12S(5101)\n"
     ]
    },
    {
     "data": {
      "image/png": "[encoded data removed]",
      "text/plain": [
       "Species(index=5101, label=\"C=C1C2[C](CC)SC12S\", thermo=NASA(polynomials=[NASAPolynomial(coeffs=[-0.686234,0.1087,-0.000121709,7.3088e-08,-1.79617e-11,24087.1,-1.66257], Tmin=(100,'K'), Tmax=(976.91,'K')), NASAPolynomial(coeffs=[15.4132,0.0427805,-2.04946e-05,4.01743e-09,-2.86118e-13,20941.5,-78.9573], Tmin=(976.91,'K'), Tmax=(5000,'K'))], Tmin=(100,'K'), Tmax=(5000,'K'), comment=\"\"\"Thermo group additivity estimation: group(Cs-(Cds-Cds)CsCsH) + other(R) + group(Cs-CsCsCsCs) + other(R) + group(Cs-CsCsSsH) + other(R) + group(Cs-\n",
       "CsCsHH) + other(R) + group(Cs-CsHHH) + other(R) + group(Cds-CdsCsCs) + other(R) + group(Cds-CdsHH) + other(R) + group(Ss-CsCs) + other(R) + group(Ss-\n",
       "CsH) + other(R) + polycyclic(PolycyclicRing) + radical(CsJ-CsCsSs)\"\"\"), molecule=[Molecule(SMILES=\"C=C1C2[C](CC)SC12S\")])"
      ]
     },
     "metadata": {},
     "output_type": "display_data"
    },
    {
     "name": "stdout",
     "output_type": "stream",
     "text": [
      "Group additivity:\n",
      "\tradical\n",
      "\t\tCsJ-CsCsSs = 1\n",
      "\tother\n",
      "\t\tR = 9\n",
      "\tgroup\n",
      "\t\tCs-(Cds-Cds)CsCsH = 1\n",
      "\t\tCds-CdsHH = 1\n",
      "\t\tCs-CsCsCsCs = 1\n",
      "\t\tSs-CsCs = 1\n",
      "\t\tCs-CsCsSsH = 1\n",
      "\t\tCds-CdsCsCs = 1\n",
      "\t\tCs-CsHHH = 1\n",
      "\tpolycyclic\n",
      "\t\tPolycyclicRing = 1\n",
      "\n",
      "Uncertainty dG =  2.80624304008  kcal/mol\n",
      "==========\n",
      "[CH2]C1(C)SS1(1407)\n"
     ]
    },
    {
     "data": {
      "image/png": "[encoded data removed]",
      "text/plain": [
       "Species(index=1407, label=\"[CH2]C1(C)SS1\", thermo=NASA(polynomials=[NASAPolynomial(coeffs=[2.01177,0.0317997,8.72213e-06,-3.99676e-08,1.90938e-11,29486.4,19.3278], Tmin=(100,'K'), Tmax=(953.08,'K')), NASAPolynomial(coeffs=[14.3391,0.00956174,-2.70548e-06,5.00635e-10,-3.96677e-14,25796.9,-46.5808], Tmin=(953.08,'K'), Tmax=(5000,'K'))], Tmin=(100,'K'), Tmax=(5000,'K'), comment=\"\"\"Thermo group additivity estimation: group(Cs-CsCsSsSs) + other(R) + group(Cs-CsHHH) + other(R) + group(Cs-CsHHH) + other(R) + group(Ss-SsCs) +\n",
       "other(R) + group(Ss-SsCs) + other(R) + ring(dithiirane) + radical(Cs_P)\"\"\"), molecule=[Molecule(SMILES=\"[CH2]C1(C)SS1\")])"
      ]
     },
     "metadata": {},
     "output_type": "display_data"
    },
    {
     "name": "stdout",
     "output_type": "stream",
     "text": [
      "Group additivity:\n",
      "\tradical\n",
      "\t\tCs_P = 1\n",
      "\tring\n",
      "\t\tdithiirane = 1\n",
      "\tother\n",
      "\t\tR = 5\n",
      "\tgroup\n",
      "\t\tSs-SsCs = 2\n",
      "\t\tCs-CsCsSsSs = 1\n",
      "\t\tCs-CsHHH = 2\n",
      "\n",
      "Uncertainty dG =  2.12132034356  kcal/mol\n",
      "==========\n",
      "[CH2]C(=C)C(39)\n"
     ]
    },
    {
     "data": {
      "image/png": "[encoded data removed]",
      "text/plain": [
       "Species(index=39, label=\"[CH2]C(=C)C\", thermo=NASA(polynomials=[NASAPolynomial(coeffs=[2.47226,0.0257024,1.2092e-05,-3.07169e-08,1.27402e-11,14322.4,12.9937], Tmin=(100,'K'), Tmax=(994.05,'K')), NASAPolynomial(coeffs=[8.5564,0.01995,-7.49038e-06,1.3708e-09,-9.67441e-14,12187.4,-20.977], Tmin=(994.05,'K'), Tmax=(5000,'K'))], Tmin=(100,'K'), Tmax=(5000,'K'), comment=\"\"\"Thermo group additivity estimation: group(Cs-(Cds-Cds)HHH) + gauche(Cs(RRRR)) + other(R) + group(Cs-(Cds-Cds)HHH) + gauche(Cs(RRRR)) + other(R) +\n",
       "group(Cds-CdsCsCs) + gauche(Cd(CsCs)) + other(R) + group(Cds-CdsHH) + gauche(CsOsCdSs) + other(R) + radical(Allyl_P)\"\"\"), molecule=[Molecule(SMILES=\"[CH2]C(=C)C\")])"
      ]
     },
     "metadata": {},
     "output_type": "display_data"
    },
    {
     "name": "stdout",
     "output_type": "stream",
     "text": [
      "Group additivity:\n",
      "\tradical\n",
      "\t\tAllyl_P = 1\n",
      "\tgauche\n",
      "\t\tCs(RRRR) = 2\n",
      "\t\tCsOsCdSs = 1\n",
      "\t\tCd(CsCs) = 1\n",
      "\tgroup\n",
      "\t\tCs-(Cds-Cds)HHH = 2\n",
      "\t\tCds-CdsHH = 1\n",
      "\t\tCds-CdsCsCs = 1\n",
      "\tother\n",
      "\t\tR = 4\n",
      "\n",
      "Uncertainty dG =  2.01556443707  kcal/mol\n",
      "==========\n",
      "C=C(C)C=S(224)\n"
     ]
    },
    {
     "data": {
      "image/png": "[encoded data removed]",
      "text/plain": [
       "Species(index=224, label=\"C=C(C)C=S\", thermo=NASA(polynomials=[NASAPolynomial(coeffs=[2.17404,0.0300697,1.00567e-05,-3.31423e-08,1.4145e-11,12575.3,17.0985], Tmin=(100,'K'), Tmax=(1011.43,'K')), NASAPolynomial(coeffs=[11.1435,0.0182087,-7.36964e-06,1.42496e-09,-1.04185e-13,9553.2,-32.2459], Tmin=(1011.43,'K'), Tmax=(5000,'K'))], Tmin=(100,'K'), Tmax=(5000,'K'), comment=\"\"\"Thermo library: SulfurLibrary\"\"\"), molecule=[Molecule(SMILES=\"C=C(C)C=S\")])"
      ]
     },
     "metadata": {},
     "output_type": "display_data"
    },
    {
     "name": "stdout",
     "output_type": "stream",
     "text": [
      "Thermo Library:  49\n",
      "\n",
      "Uncertainty dG =  2.0  kcal/mol\n",
      "==========\n",
      "C=C(C)CS(83)\n"
     ]
    },
    {
     "data": {
      "image/png": "[encoded data removed]",
      "text/plain": [
       "Species(index=83, label=\"C=C(C)CS\", thermo=NASA(polynomials=[NASAPolynomial(coeffs=[1.13024,0.0681262,-9.51587e-05,7.83651e-08,-2.59628e-11,545.901,18.8968], Tmin=(100,'K'), Tmax=(845.03,'K')), NASAPolynomial(coeffs=[7.49265,0.0299707,-1.316e-05,2.41672e-09,-1.63198e-13,-242.371,-9.02852], Tmin=(845.03,'K'), Tmax=(5000,'K'))], Tmin=(100,'K'), Tmax=(5000,'K'), comment=\"\"\"Thermo group additivity estimation: group(Cs-CdsSsHH) + gauche(Cs(RRRR)) + other(R) + group(Cs-(Cds-Cds)HHH) + gauche(Cs(RRRR)) + other(R) + group\n",
       "(Cds-CdsCsCs) + gauche(Cd(CsCs)) + other(R) + group(Cds-CdsHH) + gauche(CsOsCdSs) + other(R) + group(Ss-CsH) + gauche(Ss(CsH)) + other(R)\"\"\"), molecule=[Molecule(SMILES=\"C=C(C)CS\")])"
      ]
     },
     "metadata": {},
     "output_type": "display_data"
    },
    {
     "name": "stdout",
     "output_type": "stream",
     "text": [
      "Group additivity:\n",
      "\tgauche\n",
      "\t\tSs(CsH) = 1\n",
      "\t\tCs(RRRR) = 2\n",
      "\t\tCsOsCdSs = 1\n",
      "\t\tCd(CsCs) = 1\n",
      "\tgroup\n",
      "\t\tCs-CdsSsHH = 1\n",
      "\t\tSs-CsH = 1\n",
      "\t\tCds-CdsHH = 1\n",
      "\t\tCs-(Cds-Cds)HHH = 1\n",
      "\tother\n",
      "\t\tR = 5\n",
      "\n",
      "Uncertainty dG =  2.12132034356  kcal/mol\n",
      "==========\n",
      "C=CC1=CC(C)=C(S)S1(3562)\n"
     ]
    },
    {
     "data": {
      "image/png": "[encoded data removed]",
      "text/plain": [
       "Species(index=3562, label=\"C=CC1=CC(C)=C(S)S1\", thermo=NASA(polynomials=[NASAPolynomial(coeffs=[-0.499603,0.0800409,-3.26402e-05,-3.16643e-08,2.2537e-11,15407.8,29.4135], Tmin=(100,'K'), Tmax=(942.53,'K')), NASAPolynomial(coeffs=[25.9813,0.0146622,-3.39614e-06,5.60103e-10,-4.40633e-14,8328.21,-107.85], Tmin=(942.53,'K'), Tmax=(5000,'K'))], Tmin=(100,'K'), Tmax=(5000,'K'), comment=\"\"\"Thermo group additivity estimation: group(Cs-(Cds-Cds)HHH) + other(R) + group(Cds-Cds(Cds-Cds)Cs) + other(R) + group(Cds-CdsCsCs) + other(R) + group\n",
       "(Cds-Cds(Cds-Cds)H) + other(R) + group(Cds-CdsCsCs) + other(R) + group(Cds-Cds(Cds-Cds)H) + other(R) + group(Cds-CdsHH) + other(R) + group(Ss-CdCd) +\n",
       "other(R) + group(Ss-CdH) + other(R) + ring(thiophene)\"\"\"), molecule=[Molecule(SMILES=\"C=CC1=CC(C)=C(S)S1\")])"
      ]
     },
     "metadata": {},
     "output_type": "display_data"
    },
    {
     "name": "stdout",
     "output_type": "stream",
     "text": [
      "Group additivity:\n",
      "\tring\n",
      "\t\tthiophene = 1\n",
      "\tother\n",
      "\t\tR = 9\n",
      "\tgroup\n",
      "\t\tSs-CdCd = 1\n",
      "\t\tCs-(Cds-Cds)HHH = 1\n",
      "\t\tCds-CdsHH = 1\n",
      "\t\tCds-Cds(Cds-Cds)Cs = 1\n",
      "\t\tCds-Cds(Cds-Cds)H = 1\n",
      "\t\tCds-CdsCsCs = 2\n",
      "\t\tSs-CdH = 1\n",
      "\n",
      "Uncertainty dG =  2.82842712475  kcal/mol\n",
      "==========\n",
      "C=C(C)[C](SSC(C)(C)C)C(C)(C)C(525)\n"
     ]
    },
    {
     "data": {
      "image/png": "[encoded data removed]",
      "text/plain": [
       "Species(index=525, label=\"C=C(C)[C](SSC(C)(C)C)C(C)(C)C\", thermo=NASA(polynomials=[NASAPolynomial(coeffs=[-4.7759,0.187799,-0.000168205,7.95574e-08,-1.53583e-11,-13126.1,54.0688], Tmin=(100,'K'), Tmax=(1229.39,'K')), NASAPolynomial(coeffs=[29.338,0.0768049,-3.27796e-05,6.12012e-09,-4.24679e-13,-21514,-117.556], Tmin=(1229.39,'K'), Tmax=(5000,'K'))], Tmin=(100,'K'), Tmax=(5000,'K'), comment=\"\"\"Thermo group additivity estimation: group(Cs-CsCsCsCs) + gauche(Cs(CsCsCsCs)) + other(R) + group(Cs-CsCsCsSs) + gauche(Cs(RRRR)) + other(R) + group\n",
       "(Cs-CdsCsSsH) + gauche(Cs(RRRR)) + other(R) + group(Cs-CsHHH) + gauche(Cs(Cs(CsCsCs)RRR)) + other(R) + group(Cs-CsHHH) + gauche(Cs(Cs(CsCsCs)RRR)) +\n",
       "other(R) + group(Cs-CsHHH) + gauche(Cs(Cs(CsCsCs)RRR)) + other(R) + group(Cs-CsHHH) + gauche(Cs(CsRRR)) + other(R) + group(Cs-CsHHH) +\n",
       "gauche(Cs(CsRRR)) + other(R) + group(Cs-CsHHH) + gauche(Cs(CsRRR)) + other(R) + group(Cs-(Cds-Cds)HHH) + gauche(Cs(RRRR)) + other(R) + group(Cds-\n",
       "CdsCsCs) + gauche(Cd(CsCs)) + other(R) + group(Cds-CdsHH) + gauche(CsOsCdSs) + other(R) + group(Ss-SsCs) + gauche(Ss(RR)) + other(R) + group(Ss-SsCs)\n",
       "+ gauche(Ss(RR)) + other(R) + radical(CsJ-CsCdSs)\"\"\"), molecule=[Molecule(SMILES=\"C=C(C)[C](SSC(C)(C)C)C(C)(C)C\"), Molecule(SMILES=\"[CH2]C(C)=C(SSC(C)(C)C)C(C)(C)C\")])"
      ]
     },
     "metadata": {},
     "output_type": "display_data"
    },
    {
     "name": "stdout",
     "output_type": "stream",
     "text": [
      "Group additivity:\n",
      "\tradical\n",
      "\t\tCsJ-CsCdSs = 1\n",
      "\tgauche\n",
      "\t\tCs(CsRRR) = 3\n",
      "\t\tSs(RR) = 2\n",
      "\t\tCs(Cs(CsCsCs)RRR) = 3\n",
      "\t\tCsOsCdSs = 1\n",
      "\t\tCs(CsCsCsCs) = 1\n",
      "\t\tCs(RRRR) = 3\n",
      "\t\tCd(CsCs) = 1\n",
      "\tgroup\n",
      "\t\tCs-CsCsCsSs = 1\n",
      "\t\tCds-CdsHH = 1\n",
      "\t\tCs-CsHHH = 6\n",
      "\t\tCs-(Cds-Cds)HHH = 1\n",
      "\t\tSs-SsCs = 2\n",
      "\t\tCs-CsCsCsCs = 1\n",
      "\tother\n",
      "\t\tR = 14\n",
      "\n",
      "Uncertainty dG =  4.40879802214  kcal/mol\n",
      "==========\n",
      "[CH2]C(=C)C[CH]C1=CC(=C)C(=S)S1(5771)\n"
     ]
    },
    {
     "data": {
      "image/png": "[encoded data removed]",
      "text/plain": [
       "Species(index=5771, label=\"[CH2]C(=C)C[CH]C1=CC(=C)C(=S)S1\", thermo=NASA(polynomials=[NASAPolynomial(coeffs=[-0.407731,0.0655037,5.76662e-05,-1.27e-07,5.40536e-11,58963.1,42.6614], Tmin=(100,'K'), Tmax=(972.07,'K')), NASAPolynomial(coeffs=[26.0566,0.0336428,-1.2047e-05,2.34078e-09,-1.78675e-13,50178.4,-102.985], Tmin=(972.07,'K'), Tmax=(5000,'K'))], Tmin=(100,'K'), Tmax=(5000,'K'), comment=\"\"\"Thermo group additivity estimation: group(Cs-(Cds-Cds)(Cds-Cds)HH) + other(R) + group(Cs-(Cds-Cds)HHH) + other(R) + group(Cs-(Cds-Cds)HHH) + other(R)\n",
       "+ group(Cds-CdsCsCs) + other(R) + group(Cds-CdsC=SCs) + other(R) + group(Cds-CdsCsCs) + other(R) + group(Cds-CdsCsH) + other(R) + group(Cds-Cds(Cds-\n",
       "Cds)H) + other(R) + group(C=S-CsSs) + other(R) + group(Cds-CdsHH) + other(R) + group(Ss-C=SCd) + other(R) + group(Sd-Cd) + other(R) +\n",
       "ring(2,5-dihydrothiophene) + radical(Allyl_P) + radical(C=CC=CCJ)\"\"\"), molecule=[Molecule(SMILES=\"[CH2]C(=C)CC=C1C=C([CH2])C(=S)S1\"), Molecule(SMILES=\"[CH2]C(=C)CC=C1[CH]C(=C)C(=S)S1\"), Molecule(SMILES=\"[CH2]C(=C)C[CH]C1=CC(=C)C(=S)S1\")])"
      ]
     },
     "metadata": {},
     "output_type": "display_data"
    },
    {
     "name": "stdout",
     "output_type": "stream",
     "text": [
      "Group additivity:\n",
      "\tradical\n",
      "\t\tAllyl_P = 1\n",
      "\t\tC=CC=CCJ = 1\n",
      "\tring\n",
      "\t\t2,5-dihydrothiophene = 1\n",
      "\tother\n",
      "\t\tR = 12\n",
      "\tgroup\n",
      "\t\tSd-Cd = 1\n",
      "\t\tC=S-CsSs = 1\n",
      "\t\tCs-(Cds-Cds)(Cds-Cds)HH = 1\n",
      "\t\tCds-CdsHH = 1\n",
      "\t\tSs-C=SCd = 1\n",
      "\t\tCds-CdsCsH = 1\n",
      "\t\tCds-CdsCsCs = 2\n",
      "\t\tCs-(Cds-Cds)HHH = 2\n",
      "\t\tCds-CdsC=SCs = 1\n",
      "\n",
      "Uncertainty dG =  3.51781181987  kcal/mol\n",
      "==========\n",
      "C=C1C[C]2CCC1(S)S2(4426)\n"
     ]
    },
    {
     "data": {
      "image/png": "[encoded data removed]",
      "text/plain": [
       "Species(index=4426, label=\"C=C1C[C]2CCC1(S)S2\", thermo=NASA(polynomials=[NASAPolynomial(coeffs=[-0.728559,0.111777,-0.000133904,8.80745e-08,-2.38478e-11,25045.3,-0.567428], Tmin=(100,'K'), Tmax=(888.76,'K')), NASAPolynomial(coeffs=[13.9553,0.0456912,-2.23694e-05,4.41215e-09,-3.14668e-13,22435.2,-69.677], Tmin=(888.76,'K'), Tmax=(5000,'K'))], Tmin=(100,'K'), Tmax=(5000,'K'), comment=\"\"\"Thermo group additivity estimation: group(Cs-CsCsCsCs) + other(R) + group(Cs-CsCsSsH) + other(R) + group(Cs-CsCsHH) + other(R) + group(Cs-CsCsHH) +\n",
       "other(R) + group(Cs-(Cds-Cds)CsHH) + other(R) + group(Cds-CdsCsCs) + other(R) + group(Cds-CdsHH) + other(R) + group(Ss-CsCs) + other(R) + group(Ss-\n",
       "CsH) + other(R) + polycyclic(PolycyclicRing) + radical(CsJ-CsCsSs)\"\"\"), molecule=[Molecule(SMILES=\"C=C1C[C]2CCC1(S)S2\")])"
      ]
     },
     "metadata": {},
     "output_type": "display_data"
    },
    {
     "name": "stdout",
     "output_type": "stream",
     "text": [
      "Group additivity:\n",
      "\tradical\n",
      "\t\tCsJ-CsCsSs = 1\n",
      "\tother\n",
      "\t\tR = 9\n",
      "\tgroup\n",
      "\t\tCs-(Cds-Cds)CsHH = 1\n",
      "\t\tCds-CdsHH = 1\n",
      "\t\tCs-CsCsCsCs = 1\n",
      "\t\tSs-CsCs = 1\n",
      "\t\tCs-CsCsSsH = 1\n",
      "\t\tCds-CdsCsCs = 1\n",
      "\t\tCs-CsCsHH = 2\n",
      "\tpolycyclic\n",
      "\t\tPolycyclicRing = 1\n",
      "\n",
      "Uncertainty dG =  2.8394541729  kcal/mol\n",
      "==========\n",
      "C=C(C)SS(189)\n"
     ]
    },
    {
     "data": {
      "image/png": "[encoded data removed]",
      "text/plain": [
       "Species(index=189, label=\"C=C(C)SS\", thermo=NASA(polynomials=[NASAPolynomial(coeffs=[1.68441,0.0537706,-5.99578e-05,3.7572e-08,-9.75001e-12,5762.34,20.4784], Tmin=(100,'K'), Tmax=(924.5,'K')), NASAPolynomial(coeffs=[8.70078,0.0234122,-1.06996e-05,2.05023e-09,-1.44027e-13,4465.05,-12.8205], Tmin=(924.5,'K'), Tmax=(5000,'K'))], Tmin=(100,'K'), Tmax=(5000,'K'), comment=\"\"\"Thermo group additivity estimation: group(Cs-(Cds-Cds)HHH) + gauche(Cs(RRRR)) + other(R) + group(Cds-CdsCsSs) + gauche(CsOsCdSs) + other(R) + group\n",
       "(Cds-CdsHH) + gauche(CsOsCdSs) + other(R) + group(Ss-SsCd) + gauche(Ss(RR)) + other(R) + group(Ss-SsH) + gauche(Ss(RR)) + other(R)\"\"\"), molecule=[Molecule(SMILES=\"C=C(C)SS\")])"
      ]
     },
     "metadata": {},
     "output_type": "display_data"
    },
    {
     "name": "stdout",
     "output_type": "stream",
     "text": [
      "Group additivity:\n",
      "\tgauche\n",
      "\t\tCs(RRRR) = 1\n",
      "\t\tCsOsCdSs = 2\n",
      "\t\tSs(RR) = 2\n",
      "\tgroup\n",
      "\t\tCs-(Cds-Cds)HHH = 1\n",
      "\t\tSs-SsCd = 1\n",
      "\t\tSs-SsH = 1\n",
      "\t\tCds-CdsCsSs = 1\n",
      "\tother\n",
      "\t\tR = 5\n",
      "\n",
      "Uncertainty dG =  2.15058131676  kcal/mol\n",
      "==========\n",
      "C[C](C)CSC1SC(C)=CCC=1C(3220)\n"
     ]
    },
    {
     "data": {
      "image/png": "[encoded data removed]",
      "text/plain": [
       "Species(index=3220, label=\"C[C](C)CSC1SC(C)=CCC=1C\", thermo=NASA(polynomials=[NASAPolynomial(coeffs=[-1.82231,0.137737,-0.000110674,4.97051e-08,-9.80741e-12,21898.7,42.2729], Tmin=(100,'K'), Tmax=(1138.2,'K')), NASAPolynomial(coeffs=[13.7556,0.0829915,-3.85265e-05,7.44693e-09,-5.2563e-13,18352.6,-34.898], Tmin=(1138.2,'K'), Tmax=(5000,'K'))], Tmin=(100,'K'), Tmax=(5000,'K'), comment=\"\"\"Thermo group additivity estimation: group(Cs-CsCsCsH) + other(R) + group(Cs-CsSsHH) + other(R) + group(Cs-(Cds-Cds)(Cds-Cds)HH) + other(R) + group(Cs-\n",
       "CsHHH) + other(R) + group(Cs-CsHHH) + other(R) + group(Cs-(Cds-Cds)HHH) + other(R) + group(Cs-(Cds-Cds)HHH) + other(R) + group(Cds-CdsCsCs) + other(R)\n",
       "+ group(Cds-CdsCsSs) + other(R) + group(Cds-CdsCsH) + other(R) + group(Cds-CdsCsCs) + other(R) + group(Ss-CsCd) + other(R) + group(Ss-CdCd) + other(R)\n",
       "+ ring(Cyclohexane) + radical(Tertalkyl)\"\"\"), molecule=[Molecule(SMILES=\"C[C](C)CSC1SC(C)=CCC=1C\")])"
      ]
     },
     "metadata": {},
     "output_type": "display_data"
    },
    {
     "name": "stdout",
     "output_type": "stream",
     "text": [
      "Group additivity:\n",
      "\tradical\n",
      "\t\tTertalkyl = 1\n",
      "\tring\n",
      "\t\tCyclohexane = 1\n",
      "\tother\n",
      "\t\tR = 13\n",
      "\tgroup\n",
      "\t\tSs-CdCd = 1\n",
      "\t\tCs-(Cds-Cds)(Cds-Cds)HH = 1\n",
      "\t\tCds-CdsCsSs = 1\n",
      "\t\tCs-CsSsHH = 1\n",
      "\t\tCds-CdsCsH = 1\n",
      "\t\tCs-CsCsCsH = 1\n",
      "\t\tCs-(Cds-Cds)HHH = 2\n",
      "\t\tCds-CdsCsCs = 2\n",
      "\t\tCs-CsHHH = 1\n",
      "\t\tSs-CsCd = 1\n",
      "\n",
      "Uncertainty dG =  3.73329613077  kcal/mol\n",
      "==========\n",
      "[CH2]C(=C)CS(546)\n"
     ]
    },
    {
     "data": {
      "image/png": "[encoded data removed]",
      "text/plain": [
       "Species(index=546, label=\"[CH2]C(=C)CS\", thermo=NASA(polynomials=[NASAPolynomial(coeffs=[1.17335,0.065052,-8.42011e-05,6.12318e-08,-1.7998e-11,18767.6,18.3335], Tmin=(100,'K'), Tmax=(830.34,'K')), NASAPolynomial(coeffs=[9.66955,0.0241244,-1.0268e-05,1.87381e-09,-1.26928e-13,17356.6,-21.0764], Tmin=(830.34,'K'), Tmax=(5000,'K'))], Tmin=(100,'K'), Tmax=(5000,'K'), comment=\"\"\"Thermo group additivity estimation: group(Cs-CdsSsHH) + gauche(Cs(RRRR)) + other(R) + group(Cs-(Cds-Cds)HHH) + gauche(Cs(RRRR)) + other(R) + group\n",
       "(Cds-CdsCsCs) + gauche(Cd(CsCs)) + other(R) + group(Cds-CdsHH) + gauche(CsOsCdSs) + other(R) + group(Ss-CsH) + gauche(Ss(CsH)) + other(R) +\n",
       "radical(Allyl_P)\"\"\"), molecule=[Molecule(SMILES=\"[CH2]C(=C)CS\")])"
      ]
     },
     "metadata": {},
     "output_type": "display_data"
    },
    {
     "name": "stdout",
     "output_type": "stream",
     "text": [
      "Group additivity:\n",
      "\tradical\n",
      "\t\tAllyl_P = 1\n",
      "\tgauche\n",
      "\t\tSs(CsH) = 1\n",
      "\t\tCs(RRRR) = 2\n",
      "\t\tCsOsCdSs = 1\n",
      "\t\tCd(CsCs) = 1\n",
      "\tgroup\n",
      "\t\tCs-CdsSsHH = 1\n",
      "\t\tSs-CsH = 1\n",
      "\t\tCds-CdsHH = 1\n",
      "\t\tCs-(Cds-Cds)HHH = 1\n",
      "\tother\n",
      "\t\tR = 5\n",
      "\n",
      "Uncertainty dG =  2.13600093633  kcal/mol\n",
      "==========\n",
      "C[C](C)S[S](102)\n"
     ]
    },
    {
     "data": {
      "image/png": "[encoded data removed]",
      "text/plain": [
       "Species(index=102, label=\"C[C](C)S[S]\", thermo=NASA(polynomials=[NASAPolynomial(coeffs=[1.94308,0.0486333,-5.55473e-05,4.01092e-08,-1.25008e-11,20697.6,21.7114], Tmin=(100,'K'), Tmax=(765.69,'K')), NASAPolynomial(coeffs=[6.18446,0.0264764,-1.2142e-05,2.31766e-09,-1.61889e-13,20048.1,2.38158], Tmin=(765.69,'K'), Tmax=(5000,'K'))], Tmin=(100,'K'), Tmax=(5000,'K'), comment=\"\"\"Thermo group additivity estimation: group(Cs-CsCsSsH) + gauche(Cs(RRRR)) + other(R) + group(Cs-CsHHH) + gauche(Cs(CsRRR)) + other(R) + group(Cs-CsHHH)\n",
       "+ gauche(Cs(CsRRR)) + other(R) + group(Ss-SsCs) + gauche(Ss(RR)) + other(R) + group(Ss-SsH) + gauche(Ss(RR)) + other(R) + radical(SJ-Ss-Cs) + radical\n",
       "(CsJ-CsCsSs)\"\"\"), molecule=[Molecule(SMILES=\"C[C](C)S[S]\")])"
      ]
     },
     "metadata": {},
     "output_type": "display_data"
    },
    {
     "name": "stdout",
     "output_type": "stream",
     "text": [
      "Group additivity:\n",
      "\tradical\n",
      "\t\tSJ-Ss-Cs = 1\n",
      "\tgauche\n",
      "\t\tSs(RR) = 2\n",
      "\t\tCs(RRRR) = 1\n",
      "\t\tCs(CsRRR) = 2\n",
      "\tgroup\n",
      "\t\tSs-SsCs = 1\n",
      "\t\tCs-CsCsSsH = 1\n",
      "\t\tSs-SsH = 1\n",
      "\t\tCs-CsHHH = 2\n",
      "\tother\n",
      "\t\tR = 5\n",
      "\n",
      "Uncertainty dG =  2.20794021658  kcal/mol\n",
      "==========\n",
      "C[CH]C12C=C(C)C1(S)S2(5012)\n"
     ]
    },
    {
     "data": {
      "image/png": "[encoded data removed]",
      "text/plain": [
       "Species(index=5012, label=\"C[CH]C12C=C(C)C1(S)S2\", thermo=NASA(polynomials=[NASAPolynomial(coeffs=[-0.452809,0.105403,-0.000113261,6.55015e-08,-1.57448e-11,25220.5,-2.81867], Tmin=(100,'K'), Tmax=(987.71,'K')), NASAPolynomial(coeffs=[14.2173,0.0459933,-2.30381e-05,4.60543e-09,-3.31491e-13,22322.5,-73.4123], Tmin=(987.71,'K'), Tmax=(5000,'K'))], Tmin=(100,'K'), Tmax=(5000,'K'), comment=\"\"\"Thermo group additivity estimation: group(Cs-CsCsCsCs) + other(R) + group(Cs-CsCsCsCs) + other(R) + group(Cs-CsCsHH) + other(R) + group(Cs-CsHHH) +\n",
       "other(R) + group(Cs-(Cds-Cds)HHH) + other(R) + group(Cds-CdsCsCs) + other(R) + group(Cds-CdsCsH) + other(R) + group(Ss-CsCs) + other(R) + group(Ss-\n",
       "CsH) + other(R) + polycyclic(PolycyclicRing) + radical(Cs_S)\"\"\"), molecule=[Molecule(SMILES=\"C[CH]C12C=C(C)C1(S)S2\")])"
      ]
     },
     "metadata": {},
     "output_type": "display_data"
    },
    {
     "name": "stdout",
     "output_type": "stream",
     "text": [
      "Group additivity:\n",
      "\tradical\n",
      "\t\tCs_S = 1\n",
      "\tother\n",
      "\t\tR = 9\n",
      "\tgroup\n",
      "\t\tCs-(Cds-Cds)HHH = 1\n",
      "\t\tCs-CsCsHH = 1\n",
      "\t\tCs-CsCsCsCs = 2\n",
      "\t\tSs-CsCs = 1\n",
      "\t\tCds-CdsCsCs = 1\n",
      "\t\tCds-CdsCsH = 1\n",
      "\t\tCs-CsHHH = 1\n",
      "\tpolycyclic\n",
      "\t\tPolycyclicRing = 1\n",
      "\n",
      "Uncertainty dG =  2.8394541729  kcal/mol\n",
      "==========\n",
      "C4H8JSH(14)\n"
     ]
    },
    {
     "data": {
      "image/png": "[encoded data removed]",
      "text/plain": [
       "Species(index=14, label=\"C4H8JSH\", thermo=NASA(polynomials=[NASAPolynomial(coeffs=[1.01398,0.0609642,-5.57637e-05,2.72463e-08,-5.33937e-12,9009.16,23.229], Tmin=(100,'K'), Tmax=(1232.01,'K')), NASAPolynomial(coeffs=[13.0996,0.0217253,-7.98915e-06,1.39432e-09,-9.34503e-14,6031.26,-37.5986], Tmin=(1232.01,'K'), Tmax=(5000,'K'))], Tmin=(100,'K'), Tmax=(5000,'K'), comment=\"\"\"Thermo library: SulfurLibrary + radical(Cs_P)\"\"\"), molecule=[Molecule(SMILES=\"[CH2]C(C)(C)S\")])"
      ]
     },
     "metadata": {},
     "output_type": "display_data"
    },
    {
     "name": "stdout",
     "output_type": "stream",
     "text": [
      "Thermo Library:  7\n",
      "Group additivity:\n",
      "\tradical\n",
      "\t\tCs_P = 1\n",
      "\n",
      "Uncertainty dG =  2.51246890528  kcal/mol\n",
      "==========\n",
      "CC1(C)SS1(1616)\n"
     ]
    },
    {
     "data": {
      "image/png": "[encoded data removed]",
      "text/plain": [
       "Species(index=1616, label=\"CC1(C)SS1\", thermo=NASA(polynomials=[NASAPolynomial(coeffs=[1.97079,0.0311103,1.90217e-05,-5.20296e-08,2.34533e-11,4803.92,17.6884], Tmin=(100,'K'), Tmax=(953.28,'K')), NASAPolynomial(coeffs=[14.5739,0.0118082,-3.44659e-06,6.36852e-10,-4.97501e-14,875.232,-50.5144], Tmin=(953.28,'K'), Tmax=(5000,'K'))], Tmin=(100,'K'), Tmax=(5000,'K'), comment=\"\"\"Thermo group additivity estimation: group(Cs-CsCsSsSs) + other(R) + group(Cs-CsHHH) + other(R) + group(Cs-CsHHH) + other(R) + group(Ss-SsCs) +\n",
       "other(R) + group(Ss-SsCs) + other(R) + ring(dithiirane)\"\"\"), molecule=[Molecule(SMILES=\"CC1(C)SS1\")])"
      ]
     },
     "metadata": {},
     "output_type": "display_data"
    },
    {
     "name": "stdout",
     "output_type": "stream",
     "text": [
      "Group additivity:\n",
      "\tring\n",
      "\t\tdithiirane = 1\n",
      "\tother\n",
      "\t\tR = 5\n",
      "\tgroup\n",
      "\t\tSs-SsCs = 2\n",
      "\t\tCs-CsCsSsSs = 1\n",
      "\t\tCs-CsHHH = 2\n",
      "\n",
      "Uncertainty dG =  2.10653744329  kcal/mol\n",
      "==========\n",
      "HSJ(16)\n"
     ]
    },
    {
     "data": {
      "image/png": "[encoded data removed]",
      "text/plain": [
       "Species(index=16, label=\"HSJ\", thermo=NASA(polynomials=[NASAPolynomial(coeffs=[3.3983,0.00494645,-1.59944e-05,1.88106e-08,-7.18779e-12,15632.2,3.25448], Tmin=(100,'K'), Tmax=(929.24,'K')), NASAPolynomial(coeffs=[2.25428,0.00288413,-1.38695e-06,2.39153e-10,-1.44302e-14,16146.5,10.3129], Tmin=(929.24,'K'), Tmax=(5000,'K'))], Tmin=(100,'K'), Tmax=(5000,'K'), comment=\"\"\"Thermo library: SulfurLibrary\"\"\"), molecule=[Molecule(SMILES=\"[SH]\")])"
      ]
     },
     "metadata": {},
     "output_type": "display_data"
    },
    {
     "name": "stdout",
     "output_type": "stream",
     "text": [
      "Thermo Library:  19\n",
      "\n",
      "Uncertainty dG =  2.0  kcal/mol\n",
      "==========\n",
      "CC1CC(=S)[CH]CC1=S(3904)\n"
     ]
    },
    {
     "data": {
      "image/png": "[encoded data removed]",
      "text/plain": [
       "Species(index=3904, label=\"CC1CC(=S)[CH]CC1=S\", thermo=NASA(polynomials=[NASAPolynomial(coeffs=[0.762228,0.0538854,1.99473e-05,-5.52896e-08,2.16548e-11,26090.8,28.356], Tmin=(100,'K'), Tmax=(1072.2,'K')), NASAPolynomial(coeffs=[15.051,0.0409206,-1.83529e-05,3.61644e-09,-2.62355e-13,20707.8,-52.3887], Tmin=(1072.2,'K'), Tmax=(5000,'K'))], Tmin=(100,'K'), Tmax=(5000,'K'), comment=\"\"\"Thermo group additivity estimation: group(Cs-C=SCsCsH) + other(R) + group(Cs-(Cds-Cds)CsHH) + other(R) + group(Cs-CsCsHH) + other(R) + group(Cs-CsHHH)\n",
       "+ other(R) + group(C=S-CsCs) + other(R) + group(Cds-CdsCsSs) + other(R) + group(Cds-CdsCsH) + other(R) + group(Ss-CdH) + other(R) + group(Sd-Cd) +\n",
       "other(R) + ring(Cyclohexane) + radical(SJ-Cd)\"\"\"), molecule=[Molecule(SMILES=\"CC1CC([S])=CCC1=S\"), Molecule(SMILES=\"CC1CC(=S)[CH]CC1=S\")])"
      ]
     },
     "metadata": {},
     "output_type": "display_data"
    },
    {
     "name": "stdout",
     "output_type": "stream",
     "text": [
      "Group additivity:\n",
      "\tradical\n",
      "\t\tSJ-Cd = 1\n",
      "\tring\n",
      "\t\tCyclohexane = 1\n",
      "\tother\n",
      "\t\tR = 9\n",
      "\tgroup\n",
      "\t\tSd-Cd = 1\n",
      "\t\tCs-(Cds-Cds)CsHH = 1\n",
      "\t\tCs-CsCsHH = 1\n",
      "\t\tCs-C=SCsCsH = 1\n",
      "\t\tCds-CdsCsH = 1\n",
      "\t\tC=S-CsCs = 1\n",
      "\t\tCds-CdsCsSs = 1\n",
      "\t\tCs-CsHHH = 1\n",
      "\t\tSs-CdH = 1\n",
      "\n",
      "Uncertainty dG =  2.82842712475  kcal/mol\n",
      "==========\n",
      "[CH2]C1C=C(C=C)SC=1[S](5314)\n"
     ]
    },
    {
     "data": {
      "image/png": "[encoded data removed]",
      "text/plain": [
       "Species(index=5314, label=\"[CH2]C1C=C(C=C)SC=1[S]\", thermo=NASA(polynomials=[NASAPolynomial(coeffs=[-0.151013,0.0681006,-3.91402e-06,-6.49295e-08,3.56089e-11,47485.9,28.1943], Tmin=(100,'K'), Tmax=(932.46,'K')), NASAPolynomial(coeffs=[28.1156,0.00602451,7.45174e-07,-1.9738e-10,5.42885e-15,39641.6,-119.995], Tmin=(932.46,'K'), Tmax=(5000,'K'))], Tmin=(100,'K'), Tmax=(5000,'K'), comment=\"\"\"Thermo group additivity estimation: group(Cs-(Cds-Cds)HHH) + other(R) + group(Cds-Cds(Cds-Cds)Cs) + other(R) + group(Cds-CdsCsCs) + other(R) + group\n",
       "(Cds-Cds(Cds-Cds)H) + other(R) + group(Cds-CdsCsCs) + other(R) + group(Cds-Cds(Cds-Cds)H) + other(R) + group(Cds-CdsHH) + other(R) + group(Ss-CdCd) +\n",
       "other(R) + group(Ss-CdH) + other(R) + ring(thiophene) + radical(SJ-Cd) + radical(Allyl_P)\"\"\"), molecule=[Molecule(SMILES=\"[CH2]C1C=C(C=C)SC=1[S]\"), Molecule(SMILES=\"C=CC1=CC(=C)[C]([S])S1\"), Molecule(SMILES=\"[CH2][C]1C=C(C=C)SC1=S\"), Molecule(SMILES=\"[CH2]C1=C[C](C=C)SC1=S\"), Molecule(SMILES=\"[CH2]C=C1C=C([CH2])C(=S)S1\"), Molecule(SMILES=\"C=C[C]1[CH]C(=C)C(=S)S1\"), Molecule(SMILES=\"[CH2]C=C1[CH]C(=C)C(=S)S1\"), Molecule(SMILES=\"[CH2][CH]C1=CC(=C)C(=S)S1\")])"
      ]
     },
     "metadata": {},
     "output_type": "display_data"
    },
    {
     "name": "stdout",
     "output_type": "stream",
     "text": [
      "Group additivity:\n",
      "\tradical\n",
      "\t\tSJ-Cd = 1\n",
      "\t\tAllyl_P = 1\n",
      "\tring\n",
      "\t\tthiophene = 1\n",
      "\tother\n",
      "\t\tR = 9\n",
      "\tgroup\n",
      "\t\tSs-CdCd = 1\n",
      "\t\tCs-(Cds-Cds)HHH = 1\n",
      "\t\tCds-CdsHH = 1\n",
      "\t\tCds-Cds(Cds-Cds)Cs = 1\n",
      "\t\tCds-Cds(Cds-Cds)H = 1\n",
      "\t\tCds-CdsCsCs = 2\n",
      "\t\tSs-CdH = 1\n",
      "\n",
      "Uncertainty dG =  2.85043856275  kcal/mol\n",
      "==========\n",
      "C[C](C)CSC1CC=C(S)CC=1C(4157)\n"
     ]
    },
    {
     "data": {
      "image/png": "[encoded data removed]",
      "text/plain": [
       "Species(index=4157, label=\"C[C](C)CSC1CC=C(S)CC=1C\", thermo=NASA(polynomials=[NASAPolynomial(coeffs=[-2.45446,0.150203,-0.000148723,8.60297e-08,-2.12371e-11,21938.9,48.1607], Tmin=(100,'K'), Tmax=(955.2,'K')), NASAPolynomial(coeffs=[14.8336,0.0778052,-3.50302e-05,6.67762e-09,-4.68112e-13,18636.2,-34.4514], Tmin=(955.2,'K'), Tmax=(5000,'K'))], Tmin=(100,'K'), Tmax=(5000,'K'), comment=\"\"\"Thermo group additivity estimation: group(Cs-CsCsCsH) + other(R) + group(Cs-(Cds-Cds)(Cds-Cds)HH) + other(R) + group(Cs-CsSsHH) + other(R) + group(Cs\n",
       "-(Cds-Cds)(Cds-Cds)HH) + other(R) + group(Cs-CsHHH) + other(R) + group(Cs-CsHHH) + other(R) + group(Cs-(Cds-Cds)HHH) + other(R) + group(Cds-CdsCsCs) +\n",
       "other(R) + group(Cds-CdsCsSs) + other(R) + group(Cds-CdsCsSs) + other(R) + group(Cds-CdsCsH) + other(R) + group(Ss-CsCd) + other(R) + group(Ss-CdH) +\n",
       "other(R) + ring(1,4-Cyclohexadiene) + radical(Tertalkyl)\"\"\"), molecule=[Molecule(SMILES=\"C[C](C)CSC1CC=C(S)CC=1C\")])"
      ]
     },
     "metadata": {},
     "output_type": "display_data"
    },
    {
     "name": "stdout",
     "output_type": "stream",
     "text": [
      "Group additivity:\n",
      "\tradical\n",
      "\t\tTertalkyl = 1\n",
      "\tring\n",
      "\t\t1,4-Cyclohexadiene = 1\n",
      "\tother\n",
      "\t\tR = 13\n",
      "\tgroup\n",
      "\t\tCs-(Cds-Cds)(Cds-Cds)HH = 1\n",
      "\t\tCds-CdsCsSs = 2\n",
      "\t\tCs-CsSsHH = 1\n",
      "\t\tCds-CdsCsH = 1\n",
      "\t\tCs-CsCsCsH = 1\n",
      "\t\tCs-(Cds-Cds)HHH = 1\n",
      "\t\tCds-CdsCsCs = 1\n",
      "\t\tSs-CdH = 1\n",
      "\t\tCs-CsHHH = 2\n",
      "\t\tSs-CsCd = 1\n",
      "\n",
      "Uncertainty dG =  3.73329613077  kcal/mol\n",
      "==========\n",
      "HSSH(17)\n"
     ]
    },
    {
     "data": {
      "image/png": "[encoded data removed]",
      "text/plain": [
       "Species(index=17, label=\"HSSH\", thermo=NASA(polynomials=[NASAPolynomial(coeffs=[3.45494,0.00972395,-3.5812e-06,-3.32573e-09,2.18421e-12,286.731,7.98757], Tmin=(100,'K'), Tmax=(991.68,'K')), NASAPolynomial(coeffs=[6.38197,0.00301518,-1.14413e-06,2.19395e-10,-1.62462e-14,-544.459,-7.37299], Tmin=(991.68,'K'), Tmax=(5000,'K'))], Tmin=(100,'K'), Tmax=(5000,'K'), comment=\"\"\"Thermo library: SulfurLibrary\"\"\"), molecule=[Molecule(SMILES=\"SS\")])"
      ]
     },
     "metadata": {},
     "output_type": "display_data"
    },
    {
     "name": "stdout",
     "output_type": "stream",
     "text": [
      "Thermo Library:  20\n",
      "\n",
      "Uncertainty dG =  2.0  kcal/mol\n",
      "==========\n",
      "[CH2]C(C)(C)SC1SC(=CC=1C)CC(4886)\n"
     ]
    },
    {
     "data": {
      "image/png": "[encoded data removed]",
      "text/plain": [
       "Species(index=4886, label=\"[CH2]C(C)(C)SC1SC(=CC=1C)CC\", thermo=NASA(polynomials=[NASAPolynomial(coeffs=[-4.10292,0.158827,-0.000133592,4.71589e-08,-3.194e-12,11635.7,48.6252], Tmin=(100,'K'), Tmax=(1023.19,'K')), NASAPolynomial(coeffs=[33.3779,0.0457347,-1.68112e-05,3.00412e-09,-2.08118e-13,2215.56,-141.61], Tmin=(1023.19,'K'), Tmax=(5000,'K'))], Tmin=(100,'K'), Tmax=(5000,'K'), comment=\"\"\"Thermo group additivity estimation: group(Cs-CsCsCsSs) + other(R) + group(Cs-(Cds-Cds)CsHH) + other(R) + group(Cs-CsHHH) + other(R) + group(Cs-CsHHH)\n",
       "+ other(R) + group(Cs-CsHHH) + other(R) + group(Cs-CsHHH) + other(R) + group(Cs-(Cds-Cds)HHH) + other(R) + group(Cds-Cds(Cds-Cds)Cs) + other(R) +\n",
       "group(Cds-CdsCsSs) + other(R) + group(Cds-CdsCsCs) + other(R) + group(Cds-Cds(Cds-Cds)H) + other(R) + group(Ss-CsCd) + other(R) + group(Ss-CdCd) +\n",
       "other(R) + ring(thiophene) + radical(Cs_P)\"\"\"), molecule=[Molecule(SMILES=\"[CH2]C(C)(C)SC1SC(=CC=1C)CC\")])"
      ]
     },
     "metadata": {},
     "output_type": "display_data"
    },
    {
     "name": "stdout",
     "output_type": "stream",
     "text": [
      "Group additivity:\n",
      "\tradical\n",
      "\t\tCs_P = 1\n",
      "\tring\n",
      "\t\tthiophene = 1\n",
      "\tother\n",
      "\t\tR = 13\n",
      "\tgroup\n",
      "\t\tSs-CdCd = 1\n",
      "\t\tCs-CsCsCsSs = 1\n",
      "\t\tCds-Cds(Cds-Cds)H = 1\n",
      "\t\tCds-CdsCsCs = 1\n",
      "\t\tCds-Cds(Cds-Cds)Cs = 1\n",
      "\t\tCs-(Cds-Cds)CsHH = 1\n",
      "\t\tCs-(Cds-Cds)HHH = 1\n",
      "\t\tCds-CdsCsSs = 1\n",
      "\t\tCs-CsHHH = 4\n",
      "\t\tSs-CsCd = 1\n",
      "\n",
      "Uncertainty dG =  3.80788655293  kcal/mol\n",
      "==========\n",
      "CC1C[CH]C2(C)SC=1S2(3177)\n"
     ]
    },
    {
     "data": {
      "image/png": "[encoded data removed]",
      "text/plain": [
       "Species(index=3177, label=\"CC1C[CH]C2(C)SC=1S2\", thermo=NASA(polynomials=[NASAPolynomial(coeffs=[-1.95523,0.138307,-0.000201249,1.51899e-07,-4.52575e-11,23745,-2.22543], Tmin=(100,'K'), Tmax=(825.08,'K')), NASAPolynomial(coeffs=[18.9168,0.0371229,-1.73024e-05,3.2751e-09,-2.25852e-13,20300.6,-98.9085], Tmin=(825.08,'K'), Tmax=(5000,'K'))], Tmin=(100,'K'), Tmax=(5000,'K'), comment=\"\"\"Thermo group additivity estimation: group(Cs-CsCsSsSs) + other(R) + group(Cs-CsCsHH) + other(R) + group(Cs-(Cds-Cds)CsHH) + other(R) + group(Cs-CsHHH)\n",
       "+ other(R) + group(Cs-(Cds-Cds)HHH) + other(R) + group(Cds-CdsCsCs) + other(R) + group(Cds-CdsCsCs) + other(R) + group(Ss-CsCd) + other(R) + group(Ss-\n",
       "CsCd) + other(R) + polycyclic(PolycyclicRing) + radical(Cs_S)\"\"\"), molecule=[Molecule(SMILES=\"CC1C[CH]C2(C)SC=1S2\")])"
      ]
     },
     "metadata": {},
     "output_type": "display_data"
    },
    {
     "name": "stdout",
     "output_type": "stream",
     "text": [
      "Group additivity:\n",
      "\tradical\n",
      "\t\tCs_S = 1\n",
      "\tother\n",
      "\t\tR = 9\n",
      "\tgroup\n",
      "\t\tCs-(Cds-Cds)CsHH = 1\n",
      "\t\tCs-CsCsHH = 1\n",
      "\t\tCs-CsCsSsSs = 1\n",
      "\t\tSs-CsCd = 1\n",
      "\t\tCs-(Cds-Cds)HHH = 1\n",
      "\t\tCds-CdsCsCs = 2\n",
      "\t\tCs-CsHHH = 1\n",
      "\tpolycyclic\n",
      "\t\tPolycyclicRing = 1\n",
      "\n",
      "Uncertainty dG =  2.8394541729  kcal/mol\n",
      "==========\n",
      "Ar\n"
     ]
    },
    {
     "data": {
      "image/png": "[encoded data removed]",
      "text/plain": [
       "Species(label=\"Ar\", thermo=NASA(polynomials=[NASAPolynomial(coeffs=[2.5,0,0,0,0,-745.375,4.37967], Tmin=(200,'K'), Tmax=(1000,'K')), NASAPolynomial(coeffs=[2.5,0,0,0,0,-745.375,4.37967], Tmin=(1000,'K'), Tmax=(6000,'K'))], Tmin=(200,'K'), Tmax=(6000,'K'), comment=\"\"\"Thermo library: primaryThermoLibrary\"\"\"), molecule=[Molecule(SMILES=\"[Ar]\")], reactive=False)"
      ]
     },
     "metadata": {},
     "output_type": "display_data"
    },
    {
     "name": "stdout",
     "output_type": "stream",
     "text": [
      "Thermo Library:  0\n",
      "\n",
      "Uncertainty dG =  2.0  kcal/mol\n",
      "==========\n",
      "C=C(C)[C]=S(280)\n"
     ]
    },
    {
     "data": {
      "image/png": "[encoded data removed]",
      "text/plain": [
       "Species(index=280, label=\"C=C(C)[C]=S\", thermo=NASA(polynomials=[NASAPolynomial(coeffs=[2.29571,0.0283687,5.96983e-06,-2.68842e-08,1.16521e-11,25605.9,17.285], Tmin=(100,'K'), Tmax=(1025.55,'K')), NASAPolynomial(coeffs=[10.8796,0.0159306,-6.61441e-06,1.30284e-09,-9.60988e-14,22738.7,-29.7391], Tmin=(1025.55,'K'), Tmax=(5000,'K'))], Tmin=(100,'K'), Tmax=(5000,'K'), comment=\"\"\"Thermo library: SulfurLibrary + radical(C=SJ-Cd)\"\"\"), molecule=[Molecule(SMILES=\"C=C(C)[C]=S\"), Molecule(SMILES=\"[CH2]C(C)=C=S\")])"
      ]
     },
     "metadata": {},
     "output_type": "display_data"
    },
    {
     "name": "stdout",
     "output_type": "stream",
     "text": [
      "Thermo Library:  49\n",
      "Group additivity:\n",
      "\tradical\n",
      "\t\tC=SJ-Cd = 1\n",
      "\n",
      "Uncertainty dG =  2.51246890528  kcal/mol\n",
      "==========\n",
      "[CH2]C(=C)C[C](C)C(=S)C(C)(C)C(1749)\n"
     ]
    },
    {
     "data": {
      "image/png": "[encoded data removed]",
      "text/plain": [
       "Species(index=1749, label=\"[CH2]C(=C)C[C](C)C(=S)C(C)(C)C\", thermo=NASA(polynomials=[NASAPolynomial(coeffs=[-3.19824,0.141181,-0.000111525,4.48888e-08,-7.26281e-12,21465.6,47.4291], Tmin=(100,'K'), Tmax=(1465.64,'K')), NASAPolynomial(coeffs=[29.1182,0.0529824,-2.12576e-05,3.82881e-09,-2.58952e-13,11992.9,-120.833], Tmin=(1465.64,'K'), Tmax=(5000,'K'))], Tmin=(100,'K'), Tmax=(5000,'K'), comment=\"\"\"Thermo group additivity estimation: group(Cs-(Cds-Cds)CsCsCs) + gauche(Cs(CsCsCsR)) + other(R) + group(Cs-(Cds-Cds)(Cds-Cds)HH) + gauche(Cs(RRRR)) +\n",
       "other(R) + group(Cs-CsHHH) + gauche(Cs(Cs(CsCsR)RRR)) + other(R) + group(Cs-CsHHH) + gauche(Cs(Cs(CsCsR)RRR)) + other(R) + group(Cs-CsHHH) +\n",
       "gauche(Cs(Cs(CsCsR)RRR)) + other(R) + group(Cs-(Cds-Cds)HHH) + gauche(Cs(RRRR)) + other(R) + group(Cs-(Cds-Cds)HHH) + gauche(Cs(RRRR)) + other(R) +\n",
       "group(Cds-CdsCsCs) + gauche(Cd(CsCs)) + other(R) + group(Cds-CdsCsCs) + gauche(Cd(CsCs)) + other(R) + group(Cds-CdsCsSs) + gauche(CsOsCdSs) + other(R)\n",
       "+ group(Cds-CdsHH) + gauche(CsOsCdSs) + other(R) + group(Ss-CdH) + gauche(Ss(RR)) + other(R) + radical(Allyl_P) + radical(SJ-Cd)\"\"\"), molecule=[Molecule(SMILES=\"[CH2]C(=C)CC(C)=C([S])C(C)(C)C\"), Molecule(SMILES=\"[CH2]C(=C)C[C](C)C(=S)C(C)(C)C\")])"
      ]
     },
     "metadata": {},
     "output_type": "display_data"
    },
    {
     "name": "stdout",
     "output_type": "stream",
     "text": [
      "Group additivity:\n",
      "\tradical\n",
      "\t\tAllyl_P = 1\n",
      "\t\tSJ-Cd = 1\n",
      "\tgauche\n",
      "\t\tSs(RR) = 1\n",
      "\t\tCsOsCdSs = 2\n",
      "\t\tCs(Cs(CsCsR)RRR) = 3\n",
      "\t\tCs(RRRR) = 3\n",
      "\t\tCd(CsCs) = 2\n",
      "\t\tCs(CsCsCsR) = 1\n",
      "\tgroup\n",
      "\t\tCs-(Cds-Cds)CsCsCs = 1\n",
      "\t\tCds-CdsHH = 1\n",
      "\t\tCs-(Cds-Cds)(Cds-Cds)HH = 1\n",
      "\t\tCds-CdsCsCs = 2\n",
      "\t\tCs-(Cds-Cds)HHH = 2\n",
      "\t\tCds-CdsCsSs = 1\n",
      "\t\tCs-CsHHH = 3\n",
      "\t\tSs-CdH = 1\n",
      "\tother\n",
      "\t\tR = 12\n",
      "\n",
      "Uncertainty dG =  3.80788655293  kcal/mol\n",
      "==========\n",
      "CC1(C)CSS1(190)\n"
     ]
    },
    {
     "data": {
      "image/png": "[encoded data removed]",
      "text/plain": [
       "Species(index=190, label=\"CC1(C)CSS1\", thermo=NASA(polynomials=[NASAPolynomial(coeffs=[1.11231,0.0524013,-1.61719e-05,-1.80017e-08,1.09635e-11,3352.14,19.9622], Tmin=(100,'K'), Tmax=(998.74,'K')), NASAPolynomial(coeffs=[14.667,0.0227202,-8.54973e-06,1.57855e-09,-1.12491e-13,-582.593,-51.5581], Tmin=(998.74,'K'), Tmax=(5000,'K'))], Tmin=(100,'K'), Tmax=(5000,'K'), comment=\"\"\"Thermo group additivity estimation: group(Cs-CsCsCsSs) + other(R) + group(Cs-CsSsHH) + other(R) + group(Cs-CsHHH) + other(R) + group(Cs-CsHHH) +\n",
       "other(R) + group(Ss-SsCs) + other(R) + group(Ss-SsCs) + other(R) + ring(1,2-dithietane)\"\"\"), molecule=[Molecule(SMILES=\"CC1(C)CSS1\")])"
      ]
     },
     "metadata": {},
     "output_type": "display_data"
    },
    {
     "name": "stdout",
     "output_type": "stream",
     "text": [
      "Group additivity:\n",
      "\tring\n",
      "\t\t1,2-dithietane = 1\n",
      "\tother\n",
      "\t\tR = 6\n",
      "\tgroup\n",
      "\t\tCs-CsCsCsSs = 1\n",
      "\t\tCs-CsSsHH = 1\n",
      "\t\tSs-SsCs = 2\n",
      "\t\tCs-CsHHH = 2\n",
      "\n",
      "Uncertainty dG =  2.27760839479  kcal/mol\n",
      "==========\n",
      "CCC1=CC(C)=C([S])S1(4756)\n"
     ]
    },
    {
     "data": {
      "image/png": "[encoded data removed]",
      "text/plain": [
       "Species(index=4756, label=\"CCC1=CC(C)=C([S])S1\", thermo=NASA(polynomials=[NASAPolynomial(coeffs=[-0.289505,0.0738035,-1.15865e-05,-5.02904e-08,2.79295e-11,15207.5,30.3945], Tmin=(100,'K'), Tmax=(952.63,'K')), NASAPolynomial(coeffs=[24.5438,0.0198114,-5.74286e-06,1.02623e-09,-7.80005e-14,8194.6,-100.181], Tmin=(952.63,'K'), Tmax=(5000,'K'))], Tmin=(100,'K'), Tmax=(5000,'K'), comment=\"\"\"Thermo group additivity estimation: group(Cs-(Cds-Cds)CsHH) + other(R) + group(Cs-CsHHH) + other(R) + group(Cs-(Cds-Cds)HHH) + other(R) + group(Cds-\n",
       "Cds(Cds-Cds)Cs) + other(R) + group(Cds-CdsCsSs) + other(R) + group(Cds-Cds(Cds-Cds)H) + other(R) + group(Cds-CdsCsCs) + other(R) + group(Ss-CdCd) +\n",
       "other(R) + group(Ss-CdH) + other(R) + ring(thiophene) + radical(SJ-Cd)\"\"\"), molecule=[Molecule(SMILES=\"CCC1=CC(C)=C([S])S1\"), Molecule(SMILES=\"CCC1=C[C](C)C(=S)S1\"), Molecule(SMILES=\"CC[C]1C=C(C)C(=S)S1\")])"
      ]
     },
     "metadata": {},
     "output_type": "display_data"
    },
    {
     "name": "stdout",
     "output_type": "stream",
     "text": [
      "Group additivity:\n",
      "\tradical\n",
      "\t\tSJ-Cd = 1\n",
      "\tring\n",
      "\t\tthiophene = 1\n",
      "\tother\n",
      "\t\tR = 9\n",
      "\tgroup\n",
      "\t\tSs-CdCd = 1\n",
      "\t\tCds-Cds(Cds-Cds)H = 1\n",
      "\t\tCds-CdsCsSs = 1\n",
      "\t\tCs-(Cds-Cds)CsHH = 1\n",
      "\t\tCds-CdsCsCs = 1\n",
      "\t\tCs-(Cds-Cds)HHH = 1\n",
      "\t\tCs-CsHHH = 1\n",
      "\t\tSs-CdH = 1\n",
      "\n",
      "Uncertainty dG =  2.8173569174  kcal/mol\n",
      "==========\n",
      "He\n"
     ]
    },
    {
     "data": {
      "image/png": "[encoded data removed]",
      "text/plain": [
       "Species(label=\"He\", thermo=NASA(polynomials=[NASAPolynomial(coeffs=[2.5,0,0,0,0,-745.375,0.928724], Tmin=(200,'K'), Tmax=(1000,'K')), NASAPolynomial(coeffs=[2.5,0,0,0,0,-745.375,0.928724], Tmin=(1000,'K'), Tmax=(6000,'K'))], Tmin=(200,'K'), Tmax=(6000,'K'), comment=\"\"\"Thermo library: primaryThermoLibrary\"\"\"), molecule=[Molecule(SMILES=\"[He]\")], reactive=False)"
      ]
     },
     "metadata": {},
     "output_type": "display_data"
    },
    {
     "name": "stdout",
     "output_type": "stream",
     "text": [
      "Thermo Library:  1\n",
      "\n",
      "Uncertainty dG =  2.0  kcal/mol\n",
      "==========\n",
      "CC1CC(S)=CCC=1[S](3679)\n"
     ]
    },
    {
     "data": {
      "image/png": "[encoded data removed]",
      "text/plain": [
       "Species(index=3679, label=\"CC1CC(S)=CCC=1[S]\", thermo=NASA(polynomials=[NASAPolynomial(coeffs=[-0.160278,0.0791785,-4.88203e-05,6.16441e-09,3.30352e-12,25882.6,32.9832], Tmin=(100,'K'), Tmax=(1069.74,'K')), NASAPolynomial(coeffs=[18.1086,0.0321927,-1.28394e-05,2.37694e-09,-1.66628e-13,20753.8,-62.0882], Tmin=(1069.74,'K'), Tmax=(5000,'K'))], Tmin=(100,'K'), Tmax=(5000,'K'), comment=\"\"\"Thermo group additivity estimation: group(Cs-(Cds-Cds)(Cds-Cds)HH) + other(R) + group(Cs-(Cds-Cds)(Cds-Cds)HH) + other(R) + group(Cs-(Cds-Cds)HHH) +\n",
       "other(R) + group(Cds-CdsCsCs) + other(R) + group(Cds-CdsCsSs) + other(R) + group(Cds-CdsCsSs) + other(R) + group(Cds-CdsCsH) + other(R) + group(Ss-\n",
       "CdH) + other(R) + group(Ss-CdH) + other(R) + ring(1,4-Cyclohexadiene) + radical(SJ-Cd)\"\"\"), molecule=[Molecule(SMILES=\"CC1CC(S)=CCC=1[S]\"), Molecule(SMILES=\"C[C]1CC(S)=CCC1=S\")])"
      ]
     },
     "metadata": {},
     "output_type": "display_data"
    },
    {
     "name": "stdout",
     "output_type": "stream",
     "text": [
      "Group additivity:\n",
      "\tradical\n",
      "\t\tSJ-Cd = 1\n",
      "\tring\n",
      "\t\t1,4-Cyclohexadiene = 1\n",
      "\tother\n",
      "\t\tR = 9\n",
      "\tgroup\n",
      "\t\tCs-(Cds-Cds)(Cds-Cds)HH = 2\n",
      "\t\tCds-CdsCsSs = 2\n",
      "\t\tCds-CdsCsH = 1\n",
      "\t\tCds-CdsCsCs = 1\n",
      "\t\tCs-(Cds-Cds)HHH = 1\n",
      "\t\tSs-CdH = 1\n",
      "\n",
      "Uncertainty dG =  2.86138078556  kcal/mol\n",
      "==========\n",
      "[CH2]C1SC2SC1=CC=2C(5292)\n"
     ]
    },
    {
     "data": {
      "image/png": "[encoded data removed]",
      "text/plain": [
       "Species(index=5292, label=\"[CH2]C1SC2SC1=CC=2C\", thermo=NASA(polynomials=[NASAPolynomial(coeffs=[-2.32819,0.134621,-0.000183586,1.19074e-07,-2.93675e-11,38117,-2.49441], Tmin=(100,'K'), Tmax=(1009.66,'K')), NASAPolynomial(coeffs=[28.155,0.0138577,-4.17707e-06,6.15375e-10,-3.66833e-14,31961.4,-149.852], Tmin=(1009.66,'K'), Tmax=(5000,'K'))], Tmin=(100,'K'), Tmax=(5000,'K'), comment=\"\"\"Thermo group additivity estimation: group(Cs-CdsCsSsH) + other(R) + group(Cs-CsHHH) + other(R) + group(Cs-(Cds-Cds)HHH) + other(R) + group(Cds-Cds\n",
       "(Cds-Cds)Cs) + other(R) + group(Cds-CdsCsSs) + other(R) + group(Cds-CdsCsCs) + other(R) + group(Cds-Cds(Cds-Cds)H) + other(R) + group(Ss-CsCd) +\n",
       "other(R) + group(Ss-CdCd) + other(R) + polycyclic(PolycyclicRing) + radical(Cs_P)\"\"\"), molecule=[Molecule(SMILES=\"[CH2]C1SC2SC1=CC=2C\")])"
      ]
     },
     "metadata": {},
     "output_type": "display_data"
    },
    {
     "name": "stdout",
     "output_type": "stream",
     "text": [
      "Group additivity:\n",
      "\tradical\n",
      "\t\tCs_P = 1\n",
      "\tother\n",
      "\t\tR = 9\n",
      "\tgroup\n",
      "\t\tSs-CdCd = 1\n",
      "\t\tCds-Cds(Cds-Cds)H = 1\n",
      "\t\tCs-CdsCsSsH = 1\n",
      "\t\tSs-CsCd = 1\n",
      "\t\tCds-CdsCsSs = 1\n",
      "\t\tCds-CdsCsCs = 1\n",
      "\t\tCs-(Cds-Cds)HHH = 1\n",
      "\t\tCs-CsHHH = 1\n",
      "\tpolycyclic\n",
      "\t\tPolycyclicRing = 1\n",
      "\n",
      "Uncertainty dG =  2.8173569174  kcal/mol\n",
      "==========\n",
      "C=C([S])CCC(C)=C=S(2880)\n"
     ]
    },
    {
     "data": {
      "image/png": "[encoded data removed]",
      "text/plain": [
       "Species(index=2880, label=\"C=C([S])CCC(C)=C=S\", thermo=NASA(polynomials=[NASAPolynomial(coeffs=[-1.12444,0.121891,-0.000162522,1.13513e-07,-2.95049e-11,41751.8,40.9572], Tmin=(100,'K'), Tmax=(674.87,'K')), NASAPolynomial(coeffs=[14.3799,0.0439834,-2.04485e-05,3.87745e-09,-2.6824e-13,39340.6,-30.1051], Tmin=(674.87,'K'), Tmax=(5000,'K'))], Tmin=(100,'K'), Tmax=(5000,'K'), comment=\"\"\"Thermo group additivity estimation: group(Cs-(Cds-Cds)CsHH) + gauche(Cs(CsRRR)) + other(R) + group(Cs-(Cds-Cds)CsHH) + gauche(Cs(CsRRR)) + other(R) +\n",
       "group(Cs-(Cds-Cds)HHH) + gauche(Cs(RRRR)) + other(R) + group(Cds-CdsCsCs) + gauche(CsOsCdSs) + other(R) + group(Cds-CdsCsSs) + gauche(CsOsCdSs) +\n",
       "other(R) + group(Cds-CdsHH) + gauche(CsOsCdSs) + other(R) + group(Cdd-CdSd) + other(R) + group(Ss-CdH) + gauche(Ss(RR)) + other(R) + group(Ss-CsCs) +\n",
       "other(R) + radical(SJ-Cd)\"\"\"), molecule=[Molecule(SMILES=\"C=C([S])CCC(C)=C=S\"), Molecule(SMILES=\"[CH2]C(=S)CCC(C)=C=S\")])"
      ]
     },
     "metadata": {},
     "output_type": "display_data"
    },
    {
     "name": "stdout",
     "output_type": "stream",
     "text": [
      "Group additivity:\n",
      "\tradical\n",
      "\t\tSJ-Cd = 1\n",
      "\tgauche\n",
      "\t\tSs(RR) = 1\n",
      "\t\tCs(CsRRR) = 2\n",
      "\t\tCsOsCdSs = 3\n",
      "\t\tCs(RRRR) = 1\n",
      "\tgroup\n",
      "\t\tCs-(Cds-Cds)CsHH = 2\n",
      "\t\tCds-CdsHH = 1\n",
      "\t\tCds-CdsCsSs = 1\n",
      "\t\tSs-CsCs = 1\n",
      "\t\tCdd-CdSd = 1\n",
      "\t\tCds-CdsCsCs = 1\n",
      "\t\tCs-(Cds-Cds)HHH = 1\n",
      "\t\tSs-CdH = 1\n",
      "\tother\n",
      "\t\tR = 9\n",
      "\n",
      "Uncertainty dG =  3.0  kcal/mol\n",
      "==========\n",
      "Ne\n"
     ]
    },
    {
     "data": {
      "image/png": "[encoded data removed]",
      "text/plain": [
       "Species(label=\"Ne\", thermo=NASA(polynomials=[NASAPolynomial(coeffs=[2.5,0,0,0,0,-745.375,3.35532], Tmin=(200,'K'), Tmax=(1000,'K')), NASAPolynomial(coeffs=[2.5,0,0,0,0,-745.375,3.35532], Tmin=(1000,'K'), Tmax=(6000,'K'))], Tmin=(200,'K'), Tmax=(6000,'K'), comment=\"\"\"Thermo library: primaryThermoLibrary\"\"\"), molecule=[Molecule(SMILES=\"[Ne]\")], reactive=False)"
      ]
     },
     "metadata": {},
     "output_type": "display_data"
    },
    {
     "name": "stdout",
     "output_type": "stream",
     "text": [
      "Thermo Library:  2\n",
      "\n",
      "Uncertainty dG =  2.0  kcal/mol\n",
      "==========\n",
      "N2\n"
     ]
    },
    {
     "data": {
      "image/png": "[encoded data removed]",
      "text/plain": [
       "Species(label=\"N2\", thermo=NASA(polynomials=[NASAPolynomial(coeffs=[3.53101,-0.000123661,-5.02999e-07,2.43531e-09,-1.40881e-12,-1046.98,2.96747], Tmin=(200,'K'), Tmax=(1000,'K')), NASAPolynomial(coeffs=[2.95258,0.0013969,-4.92632e-07,7.8601e-11,-4.60755e-15,-923.949,5.87189], Tmin=(1000,'K'), Tmax=(6000,'K'))], Tmin=(200,'K'), Tmax=(6000,'K'), comment=\"\"\"Thermo library: primaryThermoLibrary\"\"\"), molecule=[Molecule(SMILES=\"N#N\")], reactive=False)"
      ]
     },
     "metadata": {},
     "output_type": "display_data"
    },
    {
     "name": "stdout",
     "output_type": "stream",
     "text": [
      "Thermo Library:  3\n",
      "\n",
      "Uncertainty dG =  2.0  kcal/mol\n",
      "==========\n",
      "C=C([CH]SC(C)(C)C)CS(759)\n"
     ]
    },
    {
     "data": {
      "image/png": "[encoded data removed]",
      "text/plain": [
       "Species(index=759, label=\"C=C([CH]SC(C)(C)C)CS\", thermo=NASA(polynomials=[NASAPolynomial(coeffs=[-2.69555,0.152226,-0.000187527,1.24873e-07,-3.33549e-11,6361.02,39.9488], Tmin=(100,'K'), Tmax=(912.92,'K')), NASAPolynomial(coeffs=[20.2827,0.0515515,-2.212e-05,4.08994e-09,-2.8082e-13,2165.32,-68.8158], Tmin=(912.92,'K'), Tmax=(5000,'K'))], Tmin=(100,'K'), Tmax=(5000,'K'), comment=\"\"\"Thermo group additivity estimation: group(Cs-CsCsCsSs) + gauche(Cs(RRRR)) + other(R) + group(Cs-CdsSsHH) + gauche(Cs(RRRR)) + other(R) + group(Cs-\n",
       "CsHHH) + gauche(Cs(CsRRR)) + other(R) + group(Cs-CsHHH) + gauche(Cs(CsRRR)) + other(R) + group(Cs-CsHHH) + gauche(Cs(CsRRR)) + other(R) + group(Cs-\n",
       "CdsSsHH) + gauche(Cs(RRRR)) + other(R) + group(Cds-CdsCsCs) + gauche(Cd(CsCs)) + other(R) + group(Cds-CdsHH) + gauche(CsOsCdSs) + other(R) + group(Ss-\n",
       "CsCs) + gauche(Ss(CsCs)) + other(R) + group(Ss-CsH) + gauche(Ss(CsH)) + other(R) + radical(CsJ-CdSsH)\"\"\"), molecule=[Molecule(SMILES=\"C=C([CH]SC(C)(C)C)CS\"), Molecule(SMILES=\"[CH2]C(=CSC(C)(C)C)CS\")])"
      ]
     },
     "metadata": {},
     "output_type": "display_data"
    },
    {
     "name": "stdout",
     "output_type": "stream",
     "text": [
      "Group additivity:\n",
      "\tradical\n",
      "\t\tCsJ-CdSsH = 1\n",
      "\tgauche\n",
      "\t\tCs(CsRRR) = 3\n",
      "\t\tSs(CsH) = 1\n",
      "\t\tCs(RRRR) = 3\n",
      "\t\tCsOsCdSs = 1\n",
      "\t\tSs(CsCs) = 1\n",
      "\t\tCd(CsCs) = 1\n",
      "\tgroup\n",
      "\t\tCs-CdsSsHH = 1\n",
      "\t\tCs-CsCsCsSs = 1\n",
      "\t\tCds-CdsHH = 1\n",
      "\t\tSs-CsH = 1\n",
      "\t\tCds-CdsCsCs = 1\n",
      "\t\tCs-CsHHH = 2\n",
      "\tother\n",
      "\t\tR = 10\n",
      "\n",
      "Uncertainty dG =  3.2403703492  kcal/mol\n",
      "==========\n",
      "[CH2]C(C)(C)SSC(=C)C(1436)\n"
     ]
    },
    {
     "data": {
      "image/png": "[encoded data removed]",
      "text/plain": [
       "Species(index=1436, label=\"[CH2]C(C)(C)SSC(=C)C\", thermo=NASA(polynomials=[NASAPolynomial(coeffs=[-1.2353,0.120907,-0.000137294,8.71547e-08,-2.27611e-11,15779.3,37.5072], Tmin=(100,'K'), Tmax=(922.05,'K')), NASAPolynomial(coeffs=[14.9985,0.0504822,-2.27276e-05,4.32099e-09,-3.02103e-13,12785.6,-39.4943], Tmin=(922.05,'K'), Tmax=(5000,'K'))], Tmin=(100,'K'), Tmax=(5000,'K'), comment=\"\"\"Thermo group additivity estimation: group(Cs-CsCsCsSs) + gauche(Cs(RRRR)) + other(R) + group(Cs-CsHHH) + gauche(Cs(CsRRR)) + other(R) + group(Cs-\n",
       "CsHHH) + gauche(Cs(CsRRR)) + other(R) + group(Cs-CsHHH) + gauche(Cs(CsRRR)) + other(R) + group(Cs-(Cds-Cds)HHH) + gauche(Cs(RRRR)) + other(R) + group\n",
       "(Cds-CdsCsSs) + gauche(CsOsCdSs) + other(R) + group(Cds-CdsHH) + gauche(CsOsCdSs) + other(R) + group(Ss-SsCs) + gauche(Ss(RR)) + other(R) + group(Ss-\n",
       "SsCd) + gauche(Ss(RR)) + other(R) + radical(Cs_P)\"\"\"), molecule=[Molecule(SMILES=\"[CH2]C(C)(C)SSC(=C)C\")])"
      ]
     },
     "metadata": {},
     "output_type": "display_data"
    },
    {
     "name": "stdout",
     "output_type": "stream",
     "text": [
      "Group additivity:\n",
      "\tradical\n",
      "\t\tCs_P = 1\n",
      "\tgauche\n",
      "\t\tSs(RR) = 2\n",
      "\t\tCs(RRRR) = 2\n",
      "\t\tCsOsCdSs = 2\n",
      "\t\tCs(CsRRR) = 3\n",
      "\tgroup\n",
      "\t\tCds-CdsHH = 1\n",
      "\t\tCs-CsCsCsSs = 1\n",
      "\t\tCs-CsHHH = 2\n",
      "\t\tSs-SsCs = 1\n",
      "\t\tCs-(Cds-Cds)HHH = 1\n",
      "\tother\n",
      "\t\tR = 9\n",
      "\n",
      "Uncertainty dG =  3.03108891325  kcal/mol\n",
      "==========\n",
      "DTBS(1)\n"
     ]
    },
    {
     "data": {
      "image/png": "[encoded data removed]",
      "text/plain": [
       "Species(index=1, label=\"DTBS\", thermo=NASA(polynomials=[NASAPolynomial(coeffs=[-2.08012,0.120104,-9.45018e-05,3.87417e-08,-6.42847e-12,-26632.8,33.6491], Tmin=(100,'K'), Tmax=(1427.4,'K')), NASAPolynomial(coeffs=[23.6869,0.0478973,-1.86236e-05,3.30312e-09,-2.21675e-13,-33988.8,-99.8312], Tmin=(1427.4,'K'), Tmax=(5000,'K'))], Tmin=(100,'K'), Tmax=(5000,'K'), comment=\"\"\"Thermo group additivity estimation: group(Cs-CsCsCsSs) + gauche(Cs(RRRR)) + other(R) + group(Cs-CsCsCsSs) + gauche(Cs(RRRR)) + other(R) + group(Cs-\n",
       "CsHHH) + gauche(Cs(CsRRR)) + other(R) + group(Cs-CsHHH) + gauche(Cs(CsRRR)) + other(R) + group(Cs-CsHHH) + gauche(Cs(CsRRR)) + other(R) + group(Cs-\n",
       "CsHHH) + gauche(Cs(CsRRR)) + other(R) + group(Cs-CsHHH) + gauche(Cs(CsRRR)) + other(R) + group(Cs-CsHHH) + gauche(Cs(CsRRR)) + other(R) + group(Ss-\n",
       "CsCs) + gauche(Ss(CsCs)) + int15(Ss(Cs(CsCsCs)Cs(CsCsCs))) + other(R)\"\"\"), molecule=[Molecule(SMILES=\"CC(C)(C)SC(C)(C)C\")])"
      ]
     },
     "metadata": {},
     "output_type": "display_data"
    },
    {
     "name": "stdout",
     "output_type": "stream",
     "text": [
      "Group additivity:\n",
      "\tint15\n",
      "\t\tSs(Cs(CsCsCs)Cs(CsCsCs)) = 1\n",
      "\tgauche\n",
      "\t\tSs(CsCs) = 1\n",
      "\t\tCs(RRRR) = 2\n",
      "\t\tCs(CsRRR) = 6\n",
      "\tgroup\n",
      "\t\tCs-CsCsCsSs = 2\n",
      "\t\tCs-CsHHH = 4\n",
      "\tother\n",
      "\t\tR = 9\n",
      "\n",
      "Uncertainty dG =  3.34477204006  kcal/mol\n",
      "==========\n",
      "C[C](C)CSC1CCC(=S)CC=1C(3915)\n"
     ]
    },
    {
     "data": {
      "image/png": "[encoded data removed]",
      "text/plain": [
       "Species(index=3915, label=\"C[C](C)CSC1CCC(=S)CC=1C\", thermo=NASA(polynomials=[NASAPolynomial(coeffs=[-1.13618,0.124127,-8.11062e-05,2.69512e-08,-3.86642e-12,20882.1,41.856], Tmin=(100,'K'), Tmax=(1470.53,'K')), NASAPolynomial(coeffs=[14.6297,0.0812419,-3.73613e-05,7.11924e-09,-4.94842e-13,16245.3,-40.2849], Tmin=(1470.53,'K'), Tmax=(5000,'K'))], Tmin=(100,'K'), Tmax=(5000,'K'), comment=\"\"\"Thermo group additivity estimation: group(Cs-CsCsCsH) + other(R) + group(Cs-C=SCsHH) + other(R) + group(Cs-(Cds-Cds)CsHH) + other(R) + group(Cs-\n",
       "CsCsHH) + other(R) + group(Cs-CsSsHH) + other(R) + group(Cs-CsHHH) + other(R) + group(Cs-CsHHH) + other(R) + group(Cs-(Cds-Cds)HHH) + other(R) + group\n",
       "(Cds-CdsCsCs) + other(R) + group(Cds-CdsCsSs) + other(R) + group(C=S-CsCs) + other(R) + group(Ss-CsCd) + other(R) + group(Sd-Cd) + other(R) +\n",
       "ring(Cyclohexane) + radical(Tertalkyl)\"\"\"), molecule=[Molecule(SMILES=\"C[C](C)CSC1CCC(=S)CC=1C\")])"
      ]
     },
     "metadata": {},
     "output_type": "display_data"
    },
    {
     "name": "stdout",
     "output_type": "stream",
     "text": [
      "Group additivity:\n",
      "\tradical\n",
      "\t\tTertalkyl = 1\n",
      "\tring\n",
      "\t\tCyclohexane = 1\n",
      "\tother\n",
      "\t\tR = 13\n",
      "\tgroup\n",
      "\t\tSd-Cd = 1\n",
      "\t\tCs-C=SCsHH = 1\n",
      "\t\tCs-(Cds-Cds)CsHH = 1\n",
      "\t\tCs-CsHHH = 2\n",
      "\t\tC=S-CsCs = 1\n",
      "\t\tCs-CsCsCsH = 1\n",
      "\t\tCs-(Cds-Cds)HHH = 1\n",
      "\t\tCds-CdsCsSs = 1\n",
      "\t\tCs-CsSsHH = 1\n",
      "\t\tSs-CsCd = 1\n",
      "\n",
      "Uncertainty dG =  3.70809924355  kcal/mol\n",
      "==========\n",
      "CC1([C]=S)CCC(=S)C1(2962)\n"
     ]
    },
    {
     "data": {
      "image/png": "[encoded data removed]",
      "text/plain": [
       "Species(index=2962, label=\"CC1([C]=S)CCC(=S)C1\", thermo=NASA(polynomials=[NASAPolynomial(coeffs=[0.685974,0.0548535,1.75118e-05,-6.23601e-08,2.77713e-11,36117.1,33.2559], Tmin=(100,'K'), Tmax=(979.47,'K')), NASAPolynomial(coeffs=[17.2497,0.0303561,-1.10481e-05,2.05336e-09,-1.48945e-13,30802.7,-56.8758], Tmin=(979.47,'K'), Tmax=(5000,'K'))], Tmin=(100,'K'), Tmax=(5000,'K'), comment=\"\"\"Thermo group additivity estimation: group(Cs-C=SCsCsCs) + other(R) + group(Cs-CsCsHH) + other(R) + group(Cs-C=SCsHH) + other(R) + group(Cs-C=SCsHH) +\n",
       "other(R) + group(Cs-CsHHH) + other(R) + group(C=S-CsCs) + other(R) + group(C=S-CsH) + other(R) + group(Sd-Cd) + other(R) + group(Sd-Cd) + other(R) +\n",
       "ring(Cyclopentane) + radical(C=SJ-Cs)\"\"\"), molecule=[Molecule(SMILES=\"CC1([C]=S)CCC(=S)C1\")])"
      ]
     },
     "metadata": {},
     "output_type": "display_data"
    },
    {
     "name": "stdout",
     "output_type": "stream",
     "text": [
      "Group additivity:\n",
      "\tradical\n",
      "\t\tC=SJ-Cs = 1\n",
      "\tring\n",
      "\t\tCyclopentane = 1\n",
      "\tother\n",
      "\t\tR = 9\n",
      "\tgroup\n",
      "\t\tSd-Cd = 2\n",
      "\t\tCs-C=SCsCsCs = 1\n",
      "\t\tC=S-CsCs = 1\n",
      "\t\tCs-CsCsHH = 1\n",
      "\t\tC=S-CsH = 1\n",
      "\t\tCs-CsHHH = 1\n",
      "\t\tCs-C=SCsHH = 2\n",
      "\n",
      "Uncertainty dG =  2.87228132327  kcal/mol\n",
      "==========\n",
      "CC1CC2=CC[C]1SS2(4039)\n"
     ]
    },
    {
     "data": {
      "image/png": "[encoded data removed]",
      "text/plain": [
       "Species(index=4039, label=\"CC1CC2=CC[C]1SS2\", thermo=NASA(polynomials=[NASAPolynomial(coeffs=[-0.524722,0.104094,-0.00011115,6.38116e-08,-1.50384e-11,21782,0.368234], Tmin=(100,'K'), Tmax=(1014.94,'K')), NASAPolynomial(coeffs=[15.1404,0.0423561,-1.9906e-05,3.87742e-09,-2.75393e-13,18602.2,-75.4394], Tmin=(1014.94,'K'), Tmax=(5000,'K'))], Tmin=(100,'K'), Tmax=(5000,'K'), comment=\"\"\"Thermo group additivity estimation: group(Cs-CsCsCsH) + other(R) + group(Cs-CsCsSsH) + other(R) + group(Cs-(Cds-Cds)CsHH) + other(R) + group(Cs-(Cds-\n",
       "Cds)CsHH) + other(R) + group(Cs-CsHHH) + other(R) + group(Cds-CdsCsSs) + other(R) + group(Cds-CdsCsH) + other(R) + group(Ss-SsCs) + other(R) + group\n",
       "(Ss-SsCd) + other(R) + polycyclic(PolycyclicRing) + radical(CsJ-CsCsSs)\"\"\"), molecule=[Molecule(SMILES=\"CC1CC2=CC[C]1SS2\")])"
      ]
     },
     "metadata": {},
     "output_type": "display_data"
    },
    {
     "name": "stdout",
     "output_type": "stream",
     "text": [
      "Group additivity:\n",
      "\tradical\n",
      "\t\tCsJ-CsCsSs = 1\n",
      "\tother\n",
      "\t\tR = 9\n",
      "\tgroup\n",
      "\t\tCs-(Cds-Cds)CsHH = 1\n",
      "\t\tCs-CsCsSsH = 1\n",
      "\t\tCs-CsCsCsH = 1\n",
      "\t\tCds-CdsCsSs = 1\n",
      "\t\tCds-CdsCsH = 1\n",
      "\t\tCs-CsHHH = 1\n",
      "\t\tSs-SsCs = 1\n",
      "\tpolycyclic\n",
      "\t\tPolycyclicRing = 1\n",
      "\n",
      "Uncertainty dG =  2.80624304008  kcal/mol\n",
      "==========\n",
      "H2S(2)\n"
     ]
    },
    {
     "data": {
      "image/png": "[encoded data removed]",
      "text/plain": [
       "Species(index=2, label=\"H2S\", thermo=NASA(polynomials=[NASAPolynomial(coeffs=[4.06967,-0.00140459,6.60941e-06,-5.03109e-09,1.25924e-12,-3665.14,1.73002], Tmin=(100,'K'), Tmax=(1152.48,'K')), NASAPolynomial(coeffs=[2.72657,0.004045,-1.50904e-06,2.584e-10,-1.68682e-14,-3407.9,8.17327], Tmin=(1152.48,'K'), Tmax=(5000,'K'))], Tmin=(100,'K'), Tmax=(5000,'K'), comment=\"\"\"Thermo library: SulfurLibrary\"\"\"), molecule=[Molecule(SMILES=\"S\")])"
      ]
     },
     "metadata": {},
     "output_type": "display_data"
    },
    {
     "name": "stdout",
     "output_type": "stream",
     "text": [
      "Thermo Library:  5\n",
      "\n",
      "Uncertainty dG =  2.0  kcal/mol\n",
      "==========\n",
      "C=C1[C]2SC(S)=C(C)C21(5546)\n"
     ]
    },
    {
     "data": {
      "image/png": "[encoded data removed]",
      "text/plain": [
       "Species(index=5546, label=\"C=C1[C]2SC(S)=C(C)C21\", thermo=NASA(polynomials=[NASAPolynomial(coeffs=[-1.13146,0.114577,-0.000144474,9.22725e-08,-2.31552e-11,29473.5,-5.02266], Tmin=(100,'K'), Tmax=(977.45,'K')), NASAPolynomial(coeffs=[19.853,0.0287029,-1.26917e-05,2.39102e-09,-1.66557e-13,25371.2,-105.782], Tmin=(977.45,'K'), Tmax=(5000,'K'))], Tmin=(100,'K'), Tmax=(5000,'K'), comment=\"\"\"Thermo group additivity estimation: group(Cs-(Cds-Cds)(Cds-Cds)CsH) + other(R) + group(Cs-CdsCsSsH) + other(R) + group(Cs-(Cds-Cds)HHH) + other(R) +\n",
       "group(Cds-CdsCsCs) + other(R) + group(Cds-CdsCsCs) + other(R) + group(Cds-CdsCsCs) + other(R) + group(Cds-CdsHH) + other(R) + group(Ss-CsCd) +\n",
       "other(R) + group(Ss-CdH) + other(R) + polycyclic(PolycyclicRing) + radical(CsJ-CsCdSs)\"\"\"), molecule=[Molecule(SMILES=\"C=C1[C]2SC(S)=C(C)C21\"), Molecule(SMILES=\"[CH2]C1=C2SC(S)=C(C)C12\")])"
      ]
     },
     "metadata": {},
     "output_type": "display_data"
    },
    {
     "name": "stdout",
     "output_type": "stream",
     "text": [
      "Group additivity:\n",
      "\tradical\n",
      "\t\tCsJ-CsCdSs = 1\n",
      "\tother\n",
      "\t\tR = 9\n",
      "\tgroup\n",
      "\t\tCs-(Cds-Cds)HHH = 1\n",
      "\t\tCds-CdsHH = 1\n",
      "\t\tCs-(Cds-Cds)(Cds-Cds)CsH = 1\n",
      "\t\tCs-CdsCsSsH = 1\n",
      "\t\tSs-CsCd = 1\n",
      "\t\tSs-CdH = 1\n",
      "\t\tCds-CdsCsCs = 3\n",
      "\tpolycyclic\n",
      "\t\tPolycyclicRing = 1\n",
      "\n",
      "Uncertainty dG =  2.8939592257  kcal/mol\n",
      "==========\n",
      "C=C1CCC(C)([C]=S)S1(2882)\n"
     ]
    },
    {
     "data": {
      "image/png": "[encoded data removed]",
      "text/plain": [
       "Species(index=2882, label=\"C=C1CCC(C)([C]=S)S1\", thermo=NASA(polynomials=[NASAPolynomial(coeffs=[-0.110498,0.0749458,-3.04299e-05,-1.56243e-08,1.12521e-11,35498.9,27.9303], Tmin=(100,'K'), Tmax=(1039.1,'K')), NASAPolynomial(coeffs=[19.6003,0.0308597,-1.26798e-05,2.43006e-09,-1.75311e-13,29686.4,-76.1771], Tmin=(1039.1,'K'), Tmax=(5000,'K'))], Tmin=(100,'K'), Tmax=(5000,'K'), comment=\"\"\"Thermo group additivity estimation: group(Cs-CsCsCsCs) + other(R) + group(Cs-CsCsHH) + other(R) + group(Cs-(Cds-Cds)CsHH) + other(R) + group(Cs-CsHHH)\n",
       "+ other(R) + group(Cds-CdsCsSs) + other(R) + group(C=S-CsH) + other(R) + group(Cds-CdsHH) + other(R) + group(Ss-CsCd) + other(R) + group(Sd-Cd) +\n",
       "other(R) + ring(thiolane) + radical(C=SJ-Cs)\"\"\"), molecule=[Molecule(SMILES=\"C=C1CCC(C)([C]=S)S1\")])"
      ]
     },
     "metadata": {},
     "output_type": "display_data"
    },
    {
     "name": "stdout",
     "output_type": "stream",
     "text": [
      "Group additivity:\n",
      "\tradical\n",
      "\t\tC=SJ-Cs = 1\n",
      "\tring\n",
      "\t\tthiolane = 1\n",
      "\tother\n",
      "\t\tR = 9\n",
      "\tgroup\n",
      "\t\tSd-Cd = 1\n",
      "\t\tCs-(Cds-Cds)CsHH = 1\n",
      "\t\tCs-CsCsHH = 1\n",
      "\t\tCds-CdsHH = 1\n",
      "\t\tCs-CsCsCsCs = 1\n",
      "\t\tSs-CsCd = 1\n",
      "\t\tCds-CdsCsSs = 1\n",
      "\t\tC=S-CsH = 1\n",
      "\t\tCs-CsHHH = 1\n",
      "\n",
      "Uncertainty dG =  2.82842712475  kcal/mol\n",
      "==========\n",
      "C4H8(3)\n"
     ]
    },
    {
     "data": {
      "image/png": "[encoded data removed]",
      "text/plain": [
       "Species(index=3, label=\"C4H8\", thermo=NASA(polynomials=[NASAPolynomial(coeffs=[2.44004,0.0285379,2.55294e-06,-1.63981e-08,6.47093e-12,-3899.73,12.8315], Tmin=(100,'K'), Tmax=(1089.9,'K')), NASAPolynomial(coeffs=[6.76112,0.0251858,-1.00462e-05,1.837e-09,-1.2682e-13,-5584.46,-11.7949], Tmin=(1089.9,'K'), Tmax=(5000,'K'))], Tmin=(100,'K'), Tmax=(5000,'K'), comment=\"\"\"Thermo group additivity estimation: group(Cs-(Cds-Cds)HHH) + gauche(Cs(RRRR)) + other(R) + group(Cs-(Cds-Cds)HHH) + gauche(Cs(RRRR)) + other(R) +\n",
       "group(Cds-CdsCsCs) + gauche(Cd(CsCs)) + other(R) + group(Cds-CdsHH) + gauche(CsOsCdSs) + other(R)\"\"\"), molecule=[Molecule(SMILES=\"C=C(C)C\")])"
      ]
     },
     "metadata": {},
     "output_type": "display_data"
    },
    {
     "name": "stdout",
     "output_type": "stream",
     "text": [
      "Group additivity:\n",
      "\tgauche\n",
      "\t\tCs(RRRR) = 2\n",
      "\t\tCsOsCdSs = 1\n",
      "\t\tCd(CsCs) = 1\n",
      "\tgroup\n",
      "\t\tCs-(Cds-Cds)HHH = 2\n",
      "\t\tCds-CdsHH = 1\n",
      "\t\tCds-CdsCsCs = 1\n",
      "\tother\n",
      "\t\tR = 4\n",
      "\n",
      "Uncertainty dG =  2.0  kcal/mol\n",
      "==========\n",
      "CC[C]1SC(S)=C2CC12(5080)\n"
     ]
    },
    {
     "data": {
      "image/png": "[encoded data removed]",
      "text/plain": [
       "Species(index=5080, label=\"CC[C]1SC(S)=C2CC12\", thermo=NASA(polynomials=[NASAPolynomial(coeffs=[-1.01908,0.113165,-0.000131511,8.01849e-08,-1.95892e-11,22239.6,0.188416], Tmin=(100,'K'), Tmax=(994.05,'K')), NASAPolynomial(coeffs=[17.8891,0.0370786,-1.6697e-05,3.18343e-09,-2.23411e-13,18480.5,-90.9197], Tmin=(994.05,'K'), Tmax=(5000,'K'))], Tmin=(100,'K'), Tmax=(5000,'K'), comment=\"\"\"Thermo group additivity estimation: group(Cs-(Cds-Cds)CsCsH) + other(R) + group(Cs-CsCsSsH) + other(R) + group(Cs-CsCsHH) + other(R) + group(Cs-(Cds-\n",
       "Cds)CsHH) + other(R) + group(Cs-CsHHH) + other(R) + group(Cds-CdsCsCs) + other(R) + group(Cds-CdsCsCs) + other(R) + group(Ss-CsCd) + other(R) + group\n",
       "(Ss-CdH) + other(R) + polycyclic(PolycyclicRing) + radical(CsJ-CsCsSs)\"\"\"), molecule=[Molecule(SMILES=\"CC[C]1SC(S)=C2CC12\")])"
      ]
     },
     "metadata": {},
     "output_type": "display_data"
    },
    {
     "name": "stdout",
     "output_type": "stream",
     "text": [
      "Group additivity:\n",
      "\tradical\n",
      "\t\tCsJ-CsCsSs = 1\n",
      "\tother\n",
      "\t\tR = 9\n",
      "\tgroup\n",
      "\t\tCs-(Cds-Cds)CsCsH = 1\n",
      "\t\tCs-CsCsSsH = 1\n",
      "\t\tCs-CsCsHH = 1\n",
      "\t\tSs-CsCd = 1\n",
      "\t\tCds-CdsCsCs = 2\n",
      "\t\tCs-CsHHH = 1\n",
      "\tpolycyclic\n",
      "\t\tPolycyclicRing = 1\n",
      "\n",
      "Uncertainty dG =  2.82842712475  kcal/mol\n",
      "==========\n",
      "C=C(C)[CH]SS(290)\n"
     ]
    },
    {
     "data": {
      "image/png": "[encoded data removed]",
      "text/plain": [
       "Species(index=290, label=\"C=C(C)[CH]SS\", thermo=NASA(polynomials=[NASAPolynomial(coeffs=[0.807815,0.0680757,-6.96219e-05,3.68827e-08,-7.7969e-12,17464.3,25.6415], Tmin=(100,'K'), Tmax=(1145.36,'K')), NASAPolynomial(coeffs=[14.0224,0.0219256,-9.18175e-06,1.70268e-09,-1.18046e-13,14437.2,-39.9045], Tmin=(1145.36,'K'), Tmax=(5000,'K'))], Tmin=(100,'K'), Tmax=(5000,'K'), comment=\"\"\"Thermo group additivity estimation: group(Cs-CdsSsHH) + gauche(Cs(RRRR)) + other(R) + group(Cs-(Cds-Cds)HHH) + gauche(Cs(RRRR)) + other(R) + group\n",
       "(Cds-CdsCsCs) + gauche(Cd(CsCs)) + other(R) + group(Cds-CdsHH) + gauche(CsOsCdSs) + other(R) + group(Ss-SsCs) + gauche(Ss(RR)) + other(R) + group(Ss-\n",
       "SsH) + gauche(Ss(RR)) + other(R) + radical(CsJ-CdSsH)\"\"\"), molecule=[Molecule(SMILES=\"C=C(C)[CH]SS\"), Molecule(SMILES=\"[CH2]C(C)=CSS\")])"
      ]
     },
     "metadata": {},
     "output_type": "display_data"
    },
    {
     "name": "stdout",
     "output_type": "stream",
     "text": [
      "Group additivity:\n",
      "\tradical\n",
      "\t\tCsJ-CdSsH = 1\n",
      "\tgauche\n",
      "\t\tSs(RR) = 2\n",
      "\t\tCs(RRRR) = 2\n",
      "\t\tCsOsCdSs = 1\n",
      "\t\tCd(CsCs) = 1\n",
      "\tgroup\n",
      "\t\tCs-CdsSsHH = 1\n",
      "\t\tCds-CdsHH = 1\n",
      "\t\tSs-SsCs = 1\n",
      "\t\tCs-(Cds-Cds)HHH = 1\n",
      "\tother\n",
      "\t\tR = 6\n",
      "\n",
      "Uncertainty dG =  2.33184476327  kcal/mol\n",
      "==========\n",
      "CC(=CSC(C)(C)C)CSC(C)(C)C(253)\n"
     ]
    },
    {
     "data": {
      "image/png": "[encoded data removed]",
      "text/plain": [
       "Species(index=253, label=\"CC(=CSC(C)(C)C)CSC(C)(C)C\", thermo=NASA(polynomials=[NASAPolynomial(coeffs=[-5.74183,0.223279,-0.000266082,1.76386e-07,-4.75495e-11,-24800.3,52.5087], Tmin=(100,'K'), Tmax=(899.81,'K')), NASAPolynomial(coeffs=[25.1174,0.0861021,-3.74117e-05,6.96891e-09,-4.80707e-13,-30354,-93.1122], Tmin=(899.81,'K'), Tmax=(5000,'K'))], Tmin=(100,'K'), Tmax=(5000,'K'), comment=\"\"\"Thermo group additivity estimation: group(Cs-CsCsCsSs) + gauche(Cs(RRRR)) + other(R) + group(Cs-CsCsCsSs) + gauche(Cs(RRRR)) + other(R) + group(Cs-\n",
       "CdsSsHH) + gauche(Cs(RRRR)) + other(R) + group(Cs-CsHHH) + gauche(Cs(CsRRR)) + other(R) + group(Cs-CsHHH) + gauche(Cs(CsRRR)) + other(R) + group(Cs-\n",
       "CsHHH) + gauche(Cs(CsRRR)) + other(R) + group(Cs-CsHHH) + gauche(Cs(CsRRR)) + other(R) + group(Cs-CsHHH) + gauche(Cs(CsRRR)) + other(R) + group(Cs-\n",
       "CsHHH) + gauche(Cs(CsRRR)) + other(R) + group(Cs-(Cds-Cds)HHH) + gauche(Cs(RRRR)) + other(R) + group(Cds-CdsCsCs) + gauche(Cd(CsCs)) + other(R) +\n",
       "group(Cds-CdsSsH) + gauche(CsOsCdSs) + other(R) + group(Ss-CsCs) + gauche(Ss(CsCs)) + other(R) + group(Ss-CsCd) + gauche(Ss(CsR)) + other(R)\"\"\"), molecule=[Molecule(SMILES=\"CC(=CSC(C)(C)C)CSC(C)(C)C\")])"
      ]
     },
     "metadata": {},
     "output_type": "display_data"
    },
    {
     "name": "stdout",
     "output_type": "stream",
     "text": [
      "Group additivity:\n",
      "\tgauche\n",
      "\t\tCs(CsRRR) = 6\n",
      "\t\tCs(RRRR) = 4\n",
      "\t\tSs(CsR) = 1\n",
      "\t\tCsOsCdSs = 1\n",
      "\t\tSs(CsCs) = 1\n",
      "\t\tCd(CsCs) = 1\n",
      "\tgroup\n",
      "\t\tCs-CsCsCsSs = 2\n",
      "\t\tSs-CsCs = 1\n",
      "\t\tSs-CsCd = 1\n",
      "\t\tCds-CdsSsH = 1\n",
      "\t\tCds-CdsCsCs = 1\n",
      "\t\tCs-(Cds-Cds)HHH = 1\n",
      "\t\tCs-CsHHH = 4\n",
      "\tother\n",
      "\t\tR = 14\n",
      "\n",
      "Uncertainty dG =  4.42295150324  kcal/mol\n",
      "==========\n",
      "[CH2]C(=C)C[C](C=S)CS(1698)\n"
     ]
    },
    {
     "data": {
      "image/png": "[encoded data removed]",
      "text/plain": [
       "Species(index=1698, label=\"[CH2]C(=C)C[C](C=S)CS\", thermo=NASA(polynomials=[NASAPolynomial(coeffs=[-1.04313,0.115753,-0.000144684,9.79753e-08,-2.66948e-11,40939.6,36.2509], Tmin=(100,'K'), Tmax=(894.09,'K')), NASAPolynomial(coeffs=[15.8675,0.0400969,-1.77549e-05,3.33105e-09,-2.30522e-13,37915.7,-43.4395], Tmin=(894.09,'K'), Tmax=(5000,'K'))], Tmin=(100,'K'), Tmax=(5000,'K'), comment=\"\"\"Thermo group additivity estimation: group(Cs-(Cds-Cds)(Cds-Cds)HH) + gauche(Cs(RRRR)) + other(R) + group(Cs-CdsSsHH) + gauche(Cs(RRRR)) + other(R) +\n",
       "group(Cs-(Cds-Cds)HHH) + gauche(Cs(RRRR)) + other(R) + group(Cds-CdsCsCs) + gauche(Cd(CsCs)) + other(R) + group(Cds-CdsCsCs) + gauche(Cd(CsCs)) +\n",
       "other(R) + group(Cds-CdsSsH) + gauche(CsOsCdSs) + other(R) + group(Cds-CdsHH) + gauche(CsOsCdSs) + other(R) + group(Ss-CsH) + gauche(Ss(CsH)) +\n",
       "other(R) + group(Ss-CdH) + gauche(Ss(RR)) + other(R) + radical(SJ-Cd) + radical(Allyl_P)\"\"\"), molecule=[Molecule(SMILES=\"[CH2]C(=C)CC(=C[S])CS\"), Molecule(SMILES=\"[CH2]C(=C)C[C](C=S)CS\")])"
      ]
     },
     "metadata": {},
     "output_type": "display_data"
    },
    {
     "name": "stdout",
     "output_type": "stream",
     "text": [
      "Group additivity:\n",
      "\tradical\n",
      "\t\tSJ-Cd = 1\n",
      "\t\tAllyl_P = 1\n",
      "\tgauche\n",
      "\t\tSs(CsH) = 1\n",
      "\t\tCs(RRRR) = 3\n",
      "\t\tSs(RR) = 1\n",
      "\t\tCsOsCdSs = 2\n",
      "\t\tCd(CsCs) = 2\n",
      "\tgroup\n",
      "\t\tCs-CdsSsHH = 1\n",
      "\t\tCs-(Cds-Cds)(Cds-Cds)HH = 1\n",
      "\t\tCds-CdsHH = 1\n",
      "\t\tCds-CdsCsCs = 2\n",
      "\t\tSs-CsH = 1\n",
      "\t\tCs-(Cds-Cds)HHH = 1\n",
      "\t\tCds-CdsSsH = 1\n",
      "\t\tSs-CdH = 1\n",
      "\tother\n",
      "\t\tR = 9\n",
      "\n",
      "Uncertainty dG =  3.05163890393  kcal/mol\n",
      "==========\n",
      "C4H9SH(4)\n"
     ]
    },
    {
     "data": {
      "image/png": "[encoded data removed]",
      "text/plain": [
       "Species(index=4, label=\"C4H9SH\", thermo=NASA(polynomials=[NASAPolynomial(coeffs=[0.794537,0.0622614,-5.19752e-05,2.30553e-08,-4.10424e-12,-15665,21.1414], Tmin=(100,'K'), Tmax=(1351.75,'K')), NASAPolynomial(coeffs=[14.2061,0.0225745,-7.93528e-06,1.3351e-09,-8.71406e-14,-19290.8,-47.6037], Tmin=(1351.75,'K'), Tmax=(5000,'K'))], Tmin=(100,'K'), Tmax=(5000,'K'), comment=\"\"\"Thermo library: SulfurLibrary\"\"\"), molecule=[Molecule(SMILES=\"CC(C)(C)S\")])"
      ]
     },
     "metadata": {},
     "output_type": "display_data"
    },
    {
     "name": "stdout",
     "output_type": "stream",
     "text": [
      "Thermo Library:  7\n",
      "\n",
      "Uncertainty dG =  2.0  kcal/mol\n",
      "==========\n",
      "C[C]1CSS1(551)\n"
     ]
    },
    {
     "data": {
      "image/png": "[encoded data removed]",
      "text/plain": [
       "Species(index=551, label=\"C[C]1CSS1\", thermo=NASA(polynomials=[NASAPolynomial(coeffs=[2.081,0.0376209,-2.54773e-05,8.59779e-09,-1.17424e-12,28376.1,18.1413], Tmin=(100,'K'), Tmax=(1689.01,'K')), NASAPolynomial(coeffs=[10.9815,0.0165421,-6.75744e-06,1.2089e-09,-8.05749e-14,25369.5,-29.4639], Tmin=(1689.01,'K'), Tmax=(5000,'K'))], Tmin=(100,'K'), Tmax=(5000,'K'), comment=\"\"\"Thermo group additivity estimation: group(Cs-CsCsSsH) + other(R) + group(Cs-CsSsHH) + other(R) + group(Cs-CsHHH) + other(R) + group(Ss-SsCs) +\n",
       "other(R) + group(Ss-SsCs) + other(R) + ring(1,2-dithietane) + radical(CsJ-CsCsSs)\"\"\"), molecule=[Molecule(SMILES=\"C[C]1CSS1\")])"
      ]
     },
     "metadata": {},
     "output_type": "display_data"
    },
    {
     "name": "stdout",
     "output_type": "stream",
     "text": [
      "Group additivity:\n",
      "\tradical\n",
      "\t\tCsJ-CsCsSs = 1\n",
      "\tring\n",
      "\t\t1,2-dithietane = 1\n",
      "\tother\n",
      "\t\tR = 5\n",
      "\tgroup\n",
      "\t\tCs-CsHHH = 1\n",
      "\t\tCs-CsCsSsH = 1\n",
      "\t\tSs-SsCs = 2\n",
      "\t\tCs-CsSsHH = 1\n",
      "\n",
      "Uncertainty dG =  2.09165006634  kcal/mol\n",
      "==========\n",
      "C=C[C]1SC(=S)[C]2CC12(5740)\n"
     ]
    },
    {
     "data": {
      "image/png": "[encoded data removed]",
      "text/plain": [
       "Species(index=5740, label=\"C=C[C]1SC(=S)[C]2CC12\", thermo=NASA(polynomials=[NASAPolynomial(coeffs=[-0.819815,0.0941063,-8.79036e-05,3.41223e-08,-3.17065e-12,45242.5,-1.14063], Tmin=(100,'K'), Tmax=(1016.2,'K')), NASAPolynomial(coeffs=[23.8171,0.0181408,-6.78592e-06,1.25218e-09,-8.95917e-14,39150.4,-125.733], Tmin=(1016.2,'K'), Tmax=(5000,'K'))], Tmin=(100,'K'), Tmax=(5000,'K'), comment=\"\"\"Thermo group additivity estimation: group(Cs-(Cds-Cds)CsCsH) + other(R) + group(Cs-CdsCsSsH) + other(R) + group(Cs-(Cds-Cds)CsHH) + other(R) + group\n",
       "(Cds-CdsCsCs) + other(R) + group(Cds-CdsCsH) + other(R) + group(Cds-CdsCsCs) + other(R) + group(Cds-CdsHH) + other(R) + group(Ss-CsCd) + other(R) +\n",
       "group(Ss-CdH) + other(R) + polycyclic(PolycyclicRing) + radical(SJ-Cd) + radical(CsJ-CsCdSs)\"\"\"), molecule=[Molecule(SMILES=\"C=C[C]1SC([S])=C2CC12\"), Molecule(SMILES=\"[CH2]C=C1SC([S])=C2CC12\"), Molecule(SMILES=\"C=C[C]1SC(=S)[C]2CC12\"), Molecule(SMILES=\"[CH2]C=C1SC(=S)[C]2CC21\")])"
      ]
     },
     "metadata": {},
     "output_type": "display_data"
    },
    {
     "name": "stdout",
     "output_type": "stream",
     "text": [
      "Group additivity:\n",
      "\tradical\n",
      "\t\tSJ-Cd = 1\n",
      "\t\tCsJ-CsCdSs = 1\n",
      "\tother\n",
      "\t\tR = 9\n",
      "\tgroup\n",
      "\t\tCs-(Cds-Cds)CsCsH = 1\n",
      "\t\tCs-(Cds-Cds)CsHH = 1\n",
      "\t\tCds-CdsHH = 1\n",
      "\t\tCs-CdsCsSsH = 1\n",
      "\t\tSs-CsCd = 1\n",
      "\t\tCds-CdsCsH = 1\n",
      "\t\tCds-CdsCsCs = 1\n",
      "\t\tSs-CdH = 1\n",
      "\tpolycyclic\n",
      "\t\tPolycyclicRing = 1\n",
      "\n",
      "Uncertainty dG =  2.82842712475  kcal/mol\n",
      "==========\n",
      "C=C1CC[C]1CSC(=S)C(=C)C(1963)\n"
     ]
    },
    {
     "data": {
      "image/png": "[encoded data removed]",
      "text/plain": [
       "Species(index=1963, label=\"C=C1CC[C]1CSC(=S)C(=C)C\", thermo=NASA(polynomials=[NASAPolynomial(coeffs=[9.19032,0.0401423,7.95506e-05,-9.92719e-08,2.34277e-11,41915.7,-3.27639], Tmin=(100,'K'), Tmax=(1786.22,'K')), NASAPolynomial(coeffs=[98.2421,0.0314213,-7.32679e-05,1.75339e-08,-1.2859e-12,-20319.4,-569.716], Tmin=(1786.22,'K'), Tmax=(5000,'K'))], Tmin=(100,'K'), Tmax=(5000,'K'), comment=\"\"\"Thermo group additivity estimation: group(Cs-(Cds-Cds)CsCsH) + other(R) + group(Cs-CsCsHH) + other(R) + group(Cs-(Cds-Cds)CsHH) + other(R) + group(Cs-\n",
       "CsSsHH) + other(R) + group(Cs-(Cds-Cds)HHH) + other(R) + group(Cds-CdsCsCs) + other(R) + group(Cds-CdsC=SCs) + other(R) + group(C=S-CsSs) + other(R) +\n",
       "group(Cds-CdsHH) + other(R) + group(Cds-CdsHH) + other(R) + group(Ss-C=SCs) + other(R) + group(Sd-Cd) + other(R) + ring(methylenecyclobutane) +\n",
       "radical(Allyl_T)\"\"\"), molecule=[Molecule(SMILES=\"C=C1CC[C]1CSC(=S)C(=C)C\"), Molecule(SMILES=\"[CH2]C1CCC=1CSC(=S)C(=C)C\")])"
      ]
     },
     "metadata": {},
     "output_type": "display_data"
    },
    {
     "name": "stdout",
     "output_type": "stream",
     "text": [
      "Group additivity:\n",
      "\tradical\n",
      "\t\tAllyl_T = 1\n",
      "\tring\n",
      "\t\tmethylenecyclobutane = 1\n",
      "\tother\n",
      "\t\tR = 12\n",
      "\tgroup\n",
      "\t\tCs-(Cds-Cds)CsCsH = 1\n",
      "\t\tC=S-CsSs = 1\n",
      "\t\tSd-Cd = 1\n",
      "\t\tCs-(Cds-Cds)HHH = 1\n",
      "\t\tCds-CdsHH = 2\n",
      "\t\tCs-CsCsHH = 1\n",
      "\t\tCs-(Cds-Cds)CsHH = 1\n",
      "\t\tCds-CdsCsCs = 1\n",
      "\t\tCds-CdsC=SCs = 1\n",
      "\t\tSs-C=SCs = 1\n",
      "\n",
      "Uncertainty dG =  3.49106001094  kcal/mol\n",
      "==========\n",
      "C4H10(5)\n"
     ]
    },
    {
     "data": {
      "image/png": "[encoded data removed]",
      "text/plain": [
       "Species(index=5, label=\"C4H10\", thermo=NASA(polynomials=[NASAPolynomial(coeffs=[2.37162,0.0253351,3.21599e-05,-5.28375e-08,2.02537e-11,-18375.3,13.3774], Tmin=(100,'K'), Tmax=(991.34,'K')), NASAPolynomial(coeffs=[8.10858,0.0278371,-1.04376e-05,1.90941e-09,-1.34679e-13,-20773.2,-20.6073], Tmin=(991.34,'K'), Tmax=(5000,'K'))], Tmin=(100,'K'), Tmax=(5000,'K'), comment=\"\"\"Thermo group additivity estimation: group(Cs-CsCsCsH) + gauche(Cs(CsCsCsR)) + other(R) + group(Cs-CsHHH) + gauche(Cs(Cs(CsCsR)RRR)) + other(R) + group\n",
       "(Cs-CsHHH) + gauche(Cs(Cs(CsCsR)RRR)) + other(R) + group(Cs-CsHHH) + gauche(Cs(Cs(CsCsR)RRR)) + other(R)\"\"\"), molecule=[Molecule(SMILES=\"CC(C)C\")])"
      ]
     },
     "metadata": {},
     "output_type": "display_data"
    },
    {
     "name": "stdout",
     "output_type": "stream",
     "text": [
      "Group additivity:\n",
      "\tgauche\n",
      "\t\tCs(CsCsCsR) = 1\n",
      "\t\tCs(Cs(CsCsR)RRR) = 3\n",
      "\tgroup\n",
      "\t\tCs-CsCsCsH = 1\n",
      "\t\tCs-CsHHH = 2\n",
      "\tother\n",
      "\t\tR = 4\n",
      "\n",
      "Uncertainty dG =  2.04633819297  kcal/mol\n",
      "==========\n",
      "CCC12[CH]C1(C)C(=S)S2(4856)\n"
     ]
    },
    {
     "data": {
      "image/png": "[encoded data removed]",
      "text/plain": [
       "Species(index=4856, label=\"CCC12[CH]C1(C)C(=S)S2\", thermo=NASA(polynomials=[NASAPolynomial(coeffs=[-1.04739,0.102359,-9.44823e-05,4.36113e-08,-7.98827e-12,23051.6,-1.70119], Tmin=(100,'K'), Tmax=(1314.92,'K')), NASAPolynomial(coeffs=[22.3091,0.0313079,-1.34301e-05,2.5175e-09,-1.75227e-13,16909.3,-120.777], Tmin=(1314.92,'K'), Tmax=(5000,'K'))], Tmin=(100,'K'), Tmax=(5000,'K'), comment=\"\"\"Thermo group additivity estimation: group(Cs-C=SCsCsCs) + other(R) + group(Cs-CsCsCsSs) + other(R) + group(Cs-CsCsHH) + other(R) + group(Cs-CsCsHH) +\n",
       "other(R) + group(Cs-CsHHH) + other(R) + group(Cs-CsHHH) + other(R) + group(C=S-CsSs) + other(R) + group(Ss-C=SCs) + other(R) + group(Sd-Cd) + other(R)\n",
       "+ polycyclic(PolycyclicRing) + radical(cyclopropane)\"\"\"), molecule=[Molecule(SMILES=\"CCC12[CH]C1(C)C(=S)S2\")])"
      ]
     },
     "metadata": {},
     "output_type": "display_data"
    },
    {
     "name": "stdout",
     "output_type": "stream",
     "text": [
      "Group additivity:\n",
      "\tradical\n",
      "\t\tcyclopropane = 1\n",
      "\tother\n",
      "\t\tR = 9\n",
      "\tgroup\n",
      "\t\tSd-Cd = 1\n",
      "\t\tCs-C=SCsCsCs = 1\n",
      "\t\tCs-CsCsCsSs = 1\n",
      "\t\tCs-CsCsHH = 2\n",
      "\t\tSs-C=SCs = 1\n",
      "\t\tCs-CsHHH = 2\n",
      "\t\tC=S-CsSs = 1\n",
      "\tpolycyclic\n",
      "\t\tPolycyclicRing = 1\n",
      "\n",
      "Uncertainty dG =  2.87228132327  kcal/mol\n",
      "==========\n",
      "CC1CC=C2CS[C]1S2(3326)\n"
     ]
    },
    {
     "data": {
      "image/png": "[encoded data removed]",
      "text/plain": [
       "Species(index=3326, label=\"CC1CC=C2CS[C]1S2\", thermo=NASA(polynomials=[NASAPolynomial(coeffs=[-1.8737,0.136652,-0.000203444,1.59291e-07,-4.9285e-11,22718.9,-0.403597], Tmin=(100,'K'), Tmax=(812.46,'K')), NASAPolynomial(coeffs=[17.6751,0.0381554,-1.74389e-05,3.25309e-09,-2.21575e-13,19616.7,-90.1979], Tmin=(812.46,'K'), Tmax=(5000,'K'))], Tmin=(100,'K'), Tmax=(5000,'K'), comment=\"\"\"Thermo group additivity estimation: group(Cs-CsCsCsH) + other(R) + group(Cs-CsSsSsH) + other(R) + group(Cs-(Cds-Cds)CsHH) + other(R) + group(Cs-CsHHH)\n",
       "+ other(R) + group(Cs-CdsSsHH) + other(R) + group(Cds-CdsCsSs) + other(R) + group(Cds-CdsCsH) + other(R) + group(Ss-CsCs) + other(R) + group(Ss-CsCd)\n",
       "+ other(R) + polycyclic(PolycyclicRing) + radical(CsJ-CsSsSs)\"\"\"), molecule=[Molecule(SMILES=\"CC1CC=C2CS[C]1S2\")])"
      ]
     },
     "metadata": {},
     "output_type": "display_data"
    },
    {
     "name": "stdout",
     "output_type": "stream",
     "text": [
      "Group additivity:\n",
      "\tradical\n",
      "\t\tCsJ-CsSsSs = 1\n",
      "\tother\n",
      "\t\tR = 9\n",
      "\tgroup\n",
      "\t\tCs-CdsSsHH = 1\n",
      "\t\tCs-(Cds-Cds)CsHH = 1\n",
      "\t\tCs-CsSsSsH = 1\n",
      "\t\tSs-CsCs = 1\n",
      "\t\tCs-CsCsCsH = 1\n",
      "\t\tCds-CdsCsH = 1\n",
      "\t\tCds-CdsCsSs = 1\n",
      "\t\tCs-CsHHH = 1\n",
      "\t\tSs-CsCd = 1\n",
      "\tpolycyclic\n",
      "\t\tPolycyclicRing = 1\n",
      "\n",
      "Uncertainty dG =  2.82842712475  kcal/mol\n",
      "==========\n",
      "[CH2]C(C)(C)SC1SC(C=C)=CC=1C(5364)\n"
     ]
    },
    {
     "data": {
      "image/png": "[encoded data removed]",
      "text/plain": [
       "Species(index=5364, label=\"[CH2]C(C)(C)SC1SC(C=C)=CC=1C\", thermo=NASA(polynomials=[NASAPolynomial(coeffs=[-3.93209,0.155277,-0.000133499,4.50393e-08,-1.39451e-12,25689.1,46.7198], Tmin=(100,'K'), Tmax=(994.69,'K')), NASAPolynomial(coeffs=[34.4245,0.0383847,-1.35552e-05,2.40367e-09,-1.67612e-13,16210.7,-147.413], Tmin=(994.69,'K'), Tmax=(5000,'K'))], Tmin=(100,'K'), Tmax=(5000,'K'), comment=\"\"\"Thermo group additivity estimation: group(Cs-CsCsCsSs) + other(R) + group(Cs-CsHHH) + other(R) + group(Cs-CsHHH) + other(R) + group(Cs-CsHHH) +\n",
       "other(R) + group(Cs-(Cds-Cds)HHH) + other(R) + group(Cds-Cds(Cds-Cds)Cs) + other(R) + group(Cds-CdsCsCs) + other(R) + group(Cds-CdsCsCs) + other(R) +\n",
       "group(Cds-Cds(Cds-Cds)H) + other(R) + group(Cds-Cds(Cds-Cds)H) + other(R) + group(Cds-CdsHH) + other(R) + group(Ss-CsCd) + other(R) + group(Ss-CdCd) +\n",
       "other(R) + ring(thiophene) + radical(Cs_P)\"\"\"), molecule=[Molecule(SMILES=\"[CH2]C(C)(C)SC1SC(C=C)=CC=1C\")])"
      ]
     },
     "metadata": {},
     "output_type": "display_data"
    },
    {
     "name": "stdout",
     "output_type": "stream",
     "text": [
      "Group additivity:\n",
      "\tradical\n",
      "\t\tCs_P = 1\n",
      "\tring\n",
      "\t\tthiophene = 1\n",
      "\tother\n",
      "\t\tR = 13\n",
      "\tgroup\n",
      "\t\tSs-CdCd = 1\n",
      "\t\tCds-Cds(Cds-Cds)H = 2\n",
      "\t\tCds-CdsHH = 1\n",
      "\t\tCds-Cds(Cds-Cds)Cs = 1\n",
      "\t\tSs-CsCd = 1\n",
      "\t\tCs-CsCsCsSs = 1\n",
      "\t\tCds-CdsCsCs = 2\n",
      "\t\tCs-(Cds-Cds)HHH = 1\n",
      "\t\tCs-CsHHH = 3\n",
      "\n",
      "Uncertainty dG =  3.79143772203  kcal/mol\n",
      "==========\n",
      "C=C1CC[C](C)C(=S)S1(2711)\n"
     ]
    },
    {
     "data": {
      "image/png": "[encoded data removed]",
      "text/plain": [
       "Species(index=2711, label=\"C=C1CC[C](C)C(=S)S1\", thermo=NASA(polynomials=[NASAPolynomial(coeffs=[0.0916508,0.0702499,-1.81982e-05,-2.33234e-08,1.23925e-11,27180.4,28.1976], Tmin=(100,'K'), Tmax=(1076,'K')), NASAPolynomial(coeffs=[17.9524,0.0361645,-1.5725e-05,3.0521e-09,-2.19702e-13,21466.2,-67.9703], Tmin=(1076,'K'), Tmax=(5000,'K'))], Tmin=(100,'K'), Tmax=(5000,'K'), comment=\"\"\"Thermo group additivity estimation: group(Cs-(Cds-Cds)CsHH) + other(R) + group(Cs-(Cds-Cds)CsHH) + other(R) + group(Cs-(Cds-Cds)HHH) + other(R) +\n",
       "group(Cds-CdsCsCs) + other(R) + group(Cds-CdsCsSs) + other(R) + group(Cds-CdsCsCs) + other(R) + group(Cds-CdsHH) + other(R) + group(Ss-CdCd) +\n",
       "other(R) + group(Ss-CdH) + other(R) + ring(Cyclohexane) + radical(SJ-Cd)\"\"\"), molecule=[Molecule(SMILES=\"C=C1CCC(C)=C([S])S1\"), Molecule(SMILES=\"C=C1CC[C](C)C(=S)S1\")])"
      ]
     },
     "metadata": {},
     "output_type": "display_data"
    },
    {
     "name": "stdout",
     "output_type": "stream",
     "text": [
      "Group additivity:\n",
      "\tradical\n",
      "\t\tSJ-Cd = 1\n",
      "\tring\n",
      "\t\tCyclohexane = 1\n",
      "\tother\n",
      "\t\tR = 9\n",
      "\tgroup\n",
      "\t\tSs-CdCd = 1\n",
      "\t\tCds-CdsHH = 1\n",
      "\t\tCds-CdsCsSs = 1\n",
      "\t\tCs-(Cds-Cds)CsHH = 2\n",
      "\t\tCds-CdsCsCs = 2\n",
      "\t\tCs-(Cds-Cds)HHH = 1\n",
      "\t\tSs-CdH = 1\n",
      "\n",
      "Uncertainty dG =  2.87228132327  kcal/mol\n",
      "==========\n",
      "S8(6)\n"
     ]
    },
    {
     "data": {
      "image/png": "[encoded data removed]",
      "text/plain": [
       "Species(index=6, label=\"S8\", thermo=NASA(polynomials=[NASAPolynomial(coeffs=[-0.875158,0.127616,-0.000274326,2.5658e-07,-8.71258e-11,8626.64,33.0059], Tmin=(100,'K'), Tmax=(905.37,'K')), NASAPolynomial(coeffs=[12.6991,0.0180726,-1.07085e-05,1.98996e-09,-1.2637e-13,8200.33,-19.9126], Tmin=(905.37,'K'), Tmax=(5000,'K'))], Tmin=(100,'K'), Tmax=(5000,'K'), comment=\"\"\"Thermo library: SulfurLibrary\"\"\"), molecule=[Molecule(SMILES=\"S1SSSSSSS1\")])"
      ]
     },
     "metadata": {},
     "output_type": "display_data"
    },
    {
     "name": "stdout",
     "output_type": "stream",
     "text": [
      "Thermo Library:  9\n",
      "\n",
      "Uncertainty dG =  2.0  kcal/mol\n",
      "==========\n",
      "C=C1CC[C]1CS[S](1852)\n"
     ]
    },
    {
     "data": {
      "image/png": "[encoded data removed]",
      "text/plain": [
       "Species(index=1852, label=\"C=C1CC[C]1CS[S]\", thermo=NASA(polynomials=[NASAPolynomial(coeffs=[10.9826,-0.00918658,0.000125065,-1.21569e-07,2.78399e-11,39834.2,-14.6382], Tmin=(100,'K'), Tmax=(1737.99,'K')), NASAPolynomial(coeffs=[78.9549,0.0263732,-7.13326e-05,1.73288e-08,-1.28287e-12,-12790.5,-463.558], Tmin=(1737.99,'K'), Tmax=(5000,'K'))], Tmin=(100,'K'), Tmax=(5000,'K'), comment=\"\"\"Thermo group additivity estimation: group(Cs-(Cds-Cds)CsCsH) + other(R) + group(Cs-CsCsHH) + other(R) + group(Cs-(Cds-Cds)CsHH) + other(R) + group(Cs-\n",
       "CsSsHH) + other(R) + group(Cds-CdsCsCs) + other(R) + group(Cds-CdsHH) + other(R) + group(Ss-SsCs) + other(R) + group(Ss-SsH) + other(R) +\n",
       "ring(methylenecyclobutane) + radical(SJ-Ss-Cs) + radical(Allyl_T)\"\"\"), molecule=[Molecule(SMILES=\"C=C1CC[C]1CS[S]\"), Molecule(SMILES=\"[CH2]C1CCC=1CS[S]\")])"
      ]
     },
     "metadata": {},
     "output_type": "display_data"
    },
    {
     "name": "stdout",
     "output_type": "stream",
     "text": [
      "Group additivity:\n",
      "\tradical\n",
      "\t\tAllyl_T = 1\n",
      "\t\tSJ-Ss-Cs = 1\n",
      "\tring\n",
      "\t\tmethylenecyclobutane = 1\n",
      "\tother\n",
      "\t\tR = 8\n",
      "\tgroup\n",
      "\t\tCs-(Cds-Cds)CsCsH = 1\n",
      "\t\tCs-(Cds-Cds)CsHH = 1\n",
      "\t\tCds-CdsHH = 1\n",
      "\t\tSs-SsH = 1\n",
      "\t\tSs-SsCs = 1\n",
      "\t\tCds-CdsCsCs = 1\n",
      "\t\tCs-CsCsHH = 1\n",
      "\n",
      "Uncertainty dG =  2.62202212043  kcal/mol\n",
      "==========\n",
      "CC(=CSC(C)(C)C)C[S](561)\n"
     ]
    },
    {
     "data": {
      "image/png": "[encoded data removed]",
      "text/plain": [
       "Species(index=561, label=\"CC(=CSC(C)(C)C)C[S]\", thermo=NASA(polynomials=[NASAPolynomial(coeffs=[-2.3468,0.145474,-0.000175429,1.17097e-07,-3.17036e-11,6947.79,37.2863], Tmin=(100,'K'), Tmax=(897,'K')), NASAPolynomial(coeffs=[17.9801,0.054831,-2.38525e-05,4.44346e-09,-3.06431e-13,3301.12,-58.5701], Tmin=(897,'K'), Tmax=(5000,'K'))], Tmin=(100,'K'), Tmax=(5000,'K'), comment=\"\"\"Thermo group additivity estimation: group(Cs-CsCsCsSs) + gauche(Cs(RRRR)) + other(R) + group(Cs-CsHHH) + gauche(Cs(CsRRR)) + other(R) + group(Cs-\n",
       "CsHHH) + gauche(Cs(CsRRR)) + other(R) + group(Cs-CsHHH) + gauche(Cs(CsRRR)) + other(R) + group(Cs-CdsSsHH) + gauche(Cs(RRRR)) + other(R) + group(Cs\n",
       "-(Cds-Cds)HHH) + gauche(Cs(RRRR)) + other(R) + group(Cds-CdsCsCs) + gauche(Cd(CsCs)) + other(R) + group(Cds-CdsSsH) + gauche(CsOsCdSs) + other(R) +\n",
       "group(Ss-CsCd) + gauche(Ss(CsR)) + other(R) + group(Ss-CsH) + gauche(Ss(CsH)) + other(R) + radical(SJ-Cs)\"\"\"), molecule=[Molecule(SMILES=\"CC(=CSC(C)(C)C)C[S]\")])"
      ]
     },
     "metadata": {},
     "output_type": "display_data"
    },
    {
     "name": "stdout",
     "output_type": "stream",
     "text": [
      "Group additivity:\n",
      "\tradical\n",
      "\t\tSJ-Cs = 1\n",
      "\tgauche\n",
      "\t\tCs(CsRRR) = 3\n",
      "\t\tSs(CsH) = 1\n",
      "\t\tSs(CsR) = 1\n",
      "\t\tCsOsCdSs = 1\n",
      "\t\tCs(RRRR) = 3\n",
      "\t\tCd(CsCs) = 1\n",
      "\tgroup\n",
      "\t\tCs-CdsSsHH = 1\n",
      "\t\tCs-CsCsCsSs = 1\n",
      "\t\tSs-CsCd = 1\n",
      "\t\tCds-CdsSsH = 1\n",
      "\t\tCds-CdsCsCs = 1\n",
      "\t\tCs-CsHHH = 2\n",
      "\t\tSs-CsH = 1\n",
      "\tother\n",
      "\t\tR = 10\n",
      "\n",
      "Uncertainty dG =  3.25  kcal/mol\n",
      "==========\n",
      "CC[C]1SC2SC1C=2C(4832)\n"
     ]
    },
    {
     "data": {
      "image/png": "[encoded data removed]",
      "text/plain": [
       "Species(index=4832, label=\"CC[C]1SC2SC1C=2C\", thermo=NASA(polynomials=[NASAPolynomial(coeffs=[-2.25212,0.141792,-0.00020254,1.4546e-07,-4.06625e-11,21607.3,-1.9001], Tmin=(100,'K'), Tmax=(883.3,'K')), NASAPolynomial(coeffs=[22.4051,0.030133,-1.29255e-05,2.35038e-09,-1.58455e-13,17251.3,-117.797], Tmin=(883.3,'K'), Tmax=(5000,'K'))], Tmin=(100,'K'), Tmax=(5000,'K'), comment=\"\"\"Thermo group additivity estimation: group(Cs-CsCsSsH) + other(R) + group(Cs-CdsCsSsH) + other(R) + group(Cs-CsCsHH) + other(R) + group(Cs-CsHHH) +\n",
       "other(R) + group(Cs-(Cds-Cds)HHH) + other(R) + group(Cds-CdsCsCs) + other(R) + group(Cds-CdsCsCs) + other(R) + group(Ss-CsCd) + other(R) + group(Ss-\n",
       "CsCd) + other(R) + polycyclic(PolycyclicRing) + radical(CsJ-CsCsSs)\"\"\"), molecule=[Molecule(SMILES=\"CC[C]1SC2SC1C=2C\")])"
      ]
     },
     "metadata": {},
     "output_type": "display_data"
    },
    {
     "name": "stdout",
     "output_type": "stream",
     "text": [
      "Group additivity:\n",
      "\tradical\n",
      "\t\tCsJ-CsCsSs = 1\n",
      "\tother\n",
      "\t\tR = 9\n",
      "\tgroup\n",
      "\t\tCs-(Cds-Cds)HHH = 1\n",
      "\t\tCs-CsCsSsH = 1\n",
      "\t\tCs-CsCsHH = 1\n",
      "\t\tCs-CdsCsSsH = 1\n",
      "\t\tSs-CsCd = 1\n",
      "\t\tCds-CdsCsCs = 2\n",
      "\t\tCs-CsHHH = 1\n",
      "\tpolycyclic\n",
      "\t\tPolycyclicRing = 1\n",
      "\n",
      "Uncertainty dG =  2.8394541729  kcal/mol\n",
      "==========\n",
      "C=[C]CSC(=S)C(=C)C(1718)\n"
     ]
    },
    {
     "data": {
      "image/png": "[encoded data removed]",
      "text/plain": [
       "Species(index=1718, label=\"C=[C]CSC(=S)C(=C)C\", thermo=NASA(polynomials=[NASAPolynomial(coeffs=[-1.03124,0.11905,-0.00017631,1.44832e-07,-4.74701e-11,47287.8,34.73], Tmin=(100,'K'), Tmax=(824.81,'K')), NASAPolynomial(coeffs=[12.5872,0.043024,-1.98934e-05,3.73191e-09,-2.54938e-13,45380.9,-26.2896], Tmin=(824.81,'K'), Tmax=(5000,'K'))], Tmin=(100,'K'), Tmax=(5000,'K'), comment=\"\"\"Thermo group additivity estimation: group(Cs-CdsSsHH) + gauche(Cs(RRRR)) + other(R) + group(Cs-(Cds-Cds)HHH) + gauche(Cs(RRRR)) + other(R) + group\n",
       "(Cds-CdsC=SCs) + gauche(CsOsCdSs) + other(R) + group(Cds-CdsCsH) + gauche(CsOsCdSs) + other(R) + group(C=S-CsSs) + other(R) + group(Cds-CdsHH) +\n",
       "gauche(CsOsCdSs) + other(R) + group(Cds-CdsHH) + gauche(CsOsCdSs) + other(R) + group(Ss-C=SCs) + gauche(Ss(RR)) + other(R) + group(Sd-Cd) + other(R) +\n",
       "radical(Cds_S)\"\"\"), molecule=[Molecule(SMILES=\"C=[C]CSC(=S)C(=C)C\")])"
      ]
     },
     "metadata": {},
     "output_type": "display_data"
    },
    {
     "name": "stdout",
     "output_type": "stream",
     "text": [
      "Group additivity:\n",
      "\tradical\n",
      "\t\tCds_S = 1\n",
      "\tgauche\n",
      "\t\tCs(RRRR) = 2\n",
      "\t\tCsOsCdSs = 4\n",
      "\t\tSs(RR) = 1\n",
      "\tgroup\n",
      "\t\tCs-CdsSsHH = 1\n",
      "\t\tC=S-CsSs = 1\n",
      "\t\tSd-Cd = 1\n",
      "\t\tCs-(Cds-Cds)HHH = 1\n",
      "\t\tCds-CdsHH = 2\n",
      "\t\tSs-C=SCs = 1\n",
      "\t\tCds-CdsCsH = 1\n",
      "\tother\n",
      "\t\tR = 9\n",
      "\n",
      "Uncertainty dG =  3.05163890393  kcal/mol\n",
      "==========\n",
      "S6J(7)\n"
     ]
    },
    {
     "data": {
      "image/png": "[encoded data removed]",
      "text/plain": [
       "Species(index=7, label=\"S6J\", thermo=NASA(polynomials=[NASAPolynomial(coeffs=[0.572362,0.0958633,-0.000225224,2.23213e-07,-7.90034e-11,26008.3,30.708], Tmin=(100,'K'), Tmax=(898.19,'K')), NASAPolynomial(coeffs=[6.75831,0.018058,-1.13569e-05,2.17882e-09,-1.42247e-13,26924.3,12.8136], Tmin=(898.19,'K'), Tmax=(5000,'K'))], Tmin=(100,'K'), Tmax=(5000,'K'), comment=\"\"\"Thermo group additivity estimation: group(Ss-SsSs) + gauche(Ss(RR)) + other(R) + group(Ss-SsSs) + gauche(Ss(RR)) + other(R) + group(Ss-SsSs) +\n",
       "gauche(Ss(RR)) + other(R) + group(Ss-SsSs) + gauche(Ss(RR)) + other(R) + group(Ss-SsH) + gauche(Ss(RR)) + other(R) + group(Ss-SsH) + gauche(Ss(RR)) +\n",
       "other(R) + radical(SJ-Ss-Ss) + radical(SJ-Ss-Ss)\"\"\"), molecule=[Molecule(SMILES=\"[S]SSSS[S]\")])"
      ]
     },
     "metadata": {},
     "output_type": "display_data"
    },
    {
     "name": "stdout",
     "output_type": "stream",
     "text": [
      "Group additivity:\n",
      "\tradical\n",
      "\t\tSJ-Ss-Ss = 2\n",
      "\tgauche\n",
      "\t\tSs(RR) = 6\n",
      "\tgroup\n",
      "\t\tSs-SsSs = 4\n",
      "\t\tSs-SsH = 2\n",
      "\tother\n",
      "\t\tR = 6\n",
      "\n",
      "Uncertainty dG =  2.87228132327  kcal/mol\n",
      "==========\n",
      "[CH2]C1CSSCC=1[CH2](2071)\n"
     ]
    },
    {
     "data": {
      "image/png": "[encoded data removed]",
      "text/plain": [
       "Species(index=2071, label=\"[CH2]C1CSSCC=1[CH2]\", thermo=NASA(polynomials=[NASAPolynomial(coeffs=[-0.395666,0.0940828,-9.24101e-05,4.62805e-08,-9.29016e-12,35111.6,20.3988], Tmin=(100,'K'), Tmax=(1197.17,'K')), NASAPolynomial(coeffs=[18.2958,0.0316301,-1.41591e-05,2.70467e-09,-1.90331e-13,30636.3,-73.1403], Tmin=(1197.17,'K'), Tmax=(5000,'K'))], Tmin=(100,'K'), Tmax=(5000,'K'), comment=\"\"\"Thermo group additivity estimation: group(Cs-CdsSsHH) + other(R) + group(Cs-CdsSsHH) + other(R) + group(Cs-(Cds-Cds)HHH) + other(R) + group(Cs-(Cds-\n",
       "Cds)HHH) + other(R) + group(Cds-CdsCsCs) + other(R) + group(Cds-CdsCsCs) + other(R) + group(Ss-SsCs) + other(R) + group(Ss-SsCs) + other(R) +\n",
       "ring(Cyclohexane) + radical(Allyl_P) + radical(Allyl_P)\"\"\"), molecule=[Molecule(SMILES=\"[CH2]C1CSSCC=1[CH2]\"), Molecule(SMILES=\"[CH2][C]1CSSCC1=C\")])"
      ]
     },
     "metadata": {},
     "output_type": "display_data"
    },
    {
     "name": "stdout",
     "output_type": "stream",
     "text": [
      "Group additivity:\n",
      "\tradical\n",
      "\t\tAllyl_P = 2\n",
      "\tring\n",
      "\t\tCyclohexane = 1\n",
      "\tother\n",
      "\t\tR = 8\n",
      "\tgroup\n",
      "\t\tCs-CdsSsHH = 2\n",
      "\t\tCds-CdsCsCs = 2\n",
      "\t\tSs-SsCs = 2\n",
      "\t\tCs-(Cds-Cds)HHH = 1\n",
      "\n",
      "Uncertainty dG =  2.7156951228  kcal/mol\n",
      "==========\n",
      "C[C]1CC(=S)C2CC12S(3705)\n"
     ]
    },
    {
     "data": {
      "image/png": "[encoded data removed]",
      "text/plain": [
       "Species(index=3705, label=\"C[C]1CC(=S)C2CC12S\", thermo=NASA(polynomials=[NASAPolynomial(coeffs=[-0.323814,0.102076,-0.000114309,7.28381e-08,-1.94572e-11,23338.6,-0.739538], Tmin=(100,'K'), Tmax=(893.69,'K')), NASAPolynomial(coeffs=[11.8892,0.0474128,-2.25609e-05,4.39709e-09,-3.11676e-13,21155.7,-58.2875], Tmin=(893.69,'K'), Tmax=(5000,'K'))], Tmin=(100,'K'), Tmax=(5000,'K'), comment=\"\"\"Thermo group additivity estimation: group(Cs-CsCsCsSs) + other(R) + group(Cs-CsCsCsH) + other(R) + group(Cs-C=SCsCsH) + other(R) + group(Cs-CsCsHH) +\n",
       "other(R) + group(Cs-C=SCsHH) + other(R) + group(Cs-CsHHH) + other(R) + group(C=S-CsCs) + other(R) + group(Ss-CsH) + other(R) + group(Sd-Cd) + other(R)\n",
       "+ polycyclic(PolycyclicRing) + radical(Tertalkyl)\"\"\"), molecule=[Molecule(SMILES=\"C[C]1CC(=S)C2CC12S\")])"
      ]
     },
     "metadata": {},
     "output_type": "display_data"
    },
    {
     "name": "stdout",
     "output_type": "stream",
     "text": [
      "Group additivity:\n",
      "\tradical\n",
      "\t\tTertalkyl = 1\n",
      "\tother\n",
      "\t\tR = 9\n",
      "\tgroup\n",
      "\t\tSd-Cd = 1\n",
      "\t\tCs-C=SCsHH = 1\n",
      "\t\tCs-CsCsCsSs = 1\n",
      "\t\tCs-CsCsHH = 1\n",
      "\t\tCs-CsCsCsH = 1\n",
      "\t\tCs-C=SCsCsH = 1\n",
      "\t\tC=S-CsCs = 1\n",
      "\t\tCs-CsHHH = 1\n",
      "\t\tSs-CsH = 1\n",
      "\tpolycyclic\n",
      "\t\tPolycyclicRing = 1\n",
      "\n",
      "Uncertainty dG =  2.82842712475  kcal/mol\n",
      "==========\n",
      "CC(=C=S)C[S](976)\n"
     ]
    },
    {
     "data": {
      "image/png": "[encoded data removed]",
      "text/plain": [
       "Species(index=976, label=\"CC(=C=S)C[S]\", thermo=NASA(polynomials=[NASAPolynomial(coeffs=[-0.059738,0.100139,-0.00017884,1.57529e-07,-5.22443e-11,40510.7,28.0522], Tmin=(100,'K'), Tmax=(893.83,'K')), NASAPolynomial(coeffs=[11.1039,0.0254638,-1.20441e-05,2.18687e-09,-1.42833e-13,39502.3,-19.0301], Tmin=(893.83,'K'), Tmax=(5000,'K'))], Tmin=(100,'K'), Tmax=(5000,'K'), comment=\"\"\"Thermo group additivity estimation: group(Cs-CdsSsHH) + gauche(Cs(RRRR)) + other(R) + group(Cs-(Cds-Cds)HHH) + gauche(Cs(RRRR)) + other(R) + group\n",
       "(Cds-CdsCsCs) + gauche(CsOsCdSs) + other(R) + group(Ss-CsH) + gauche(Ss(CsH)) + other(R) + group(Cdd-CdSd) + other(R) + group(Ss-CsCs) + other(R) +\n",
       "radical(SJ-Cs)\"\"\"), molecule=[Molecule(SMILES=\"CC(=C=S)C[S]\")])"
      ]
     },
     "metadata": {},
     "output_type": "display_data"
    },
    {
     "name": "stdout",
     "output_type": "stream",
     "text": [
      "Group additivity:\n",
      "\tradical\n",
      "\t\tSJ-Cs = 1\n",
      "\tgauche\n",
      "\t\tCs(RRRR) = 2\n",
      "\t\tCsOsCdSs = 1\n",
      "\t\tSs(CsH) = 1\n",
      "\tgroup\n",
      "\t\tCs-CdsSsHH = 1\n",
      "\t\tSs-CsCs = 1\n",
      "\t\tSs-CsH = 1\n",
      "\t\tCdd-CdSd = 1\n",
      "\t\tCs-(Cds-Cds)HHH = 1\n",
      "\tother\n",
      "\t\tR = 6\n",
      "\n",
      "Uncertainty dG =  2.29128784748  kcal/mol\n",
      "==========\n",
      "[CH2]C(=C)C[C](C)C=S(1668)\n"
     ]
    },
    {
     "data": {
      "image/png": "[encoded data removed]",
      "text/plain": [
       "Species(index=1668, label=\"[CH2]C(=C)C[C](C)C=S\", thermo=NASA(polynomials=[NASAPolynomial(coeffs=[-0.150908,0.0811546,-6.46921e-05,2.65317e-08,-4.37635e-12,36511.9,32.3718], Tmin=(100,'K'), Tmax=(1441.66,'K')), NASAPolynomial(coeffs=[18.1396,0.030406,-1.18897e-05,2.11429e-09,-1.42081e-13,31238.2,-62.56], Tmin=(1441.66,'K'), Tmax=(5000,'K'))], Tmin=(100,'K'), Tmax=(5000,'K'), comment=\"\"\"Thermo group additivity estimation: group(Cs-(Cds-Cds)(Cds-Cds)HH) + gauche(Cs(RRRR)) + other(R) + group(Cs-(Cds-Cds)HHH) + gauche(Cs(RRRR)) +\n",
       "other(R) + group(Cs-(Cds-Cds)HHH) + gauche(Cs(RRRR)) + other(R) + group(Cds-CdsCsCs) + gauche(Cd(CsCs)) + other(R) + group(Cds-CdsCsCs) +\n",
       "gauche(Cd(CsCs)) + other(R) + group(Cds-CdsSsH) + gauche(CsOsCdSs) + other(R) + group(Cds-CdsHH) + gauche(CsOsCdSs) + other(R) + group(Ss-CdH) +\n",
       "gauche(Ss(RR)) + other(R) + radical(SJ-Cd) + radical(Allyl_P)\"\"\"), molecule=[Molecule(SMILES=\"[CH2]C(=C)CC(C)=C[S]\"), Molecule(SMILES=\"[CH2]C(=C)C[C](C)C=S\")])"
      ]
     },
     "metadata": {},
     "output_type": "display_data"
    },
    {
     "name": "stdout",
     "output_type": "stream",
     "text": [
      "Group additivity:\n",
      "\tradical\n",
      "\t\tSJ-Cd = 1\n",
      "\t\tAllyl_P = 1\n",
      "\tgauche\n",
      "\t\tSs(RR) = 1\n",
      "\t\tCs(RRRR) = 3\n",
      "\t\tCsOsCdSs = 2\n",
      "\t\tCd(CsCs) = 2\n",
      "\tgroup\n",
      "\t\tCs-(Cds-Cds)(Cds-Cds)HH = 1\n",
      "\t\tCds-CdsSsH = 1\n",
      "\t\tCds-CdsHH = 1\n",
      "\t\tSs-CdH = 1\n",
      "\t\tCds-CdsCsCs = 2\n",
      "\t\tCs-(Cds-Cds)HHH = 2\n",
      "\tother\n",
      "\t\tR = 8\n",
      "\n",
      "Uncertainty dG =  2.87228132327  kcal/mol\n",
      "==========\n",
      "[CH2]C=C1C=C(C)C(=S)S1(5247)\n"
     ]
    },
    {
     "data": {
      "image/png": "[encoded data removed]",
      "text/plain": [
       "Species(index=5247, label=\"[CH2]C=C1C=C(C)C(=S)S1\", thermo=NASA(polynomials=[NASAPolynomial(coeffs=[-0.158651,0.0707015,-1.29284e-05,-5.07944e-08,2.91699e-11,29262.6,28.6338], Tmin=(100,'K'), Tmax=(940.94,'K')), NASAPolynomial(coeffs=[25.9002,0.0119461,-2.19444e-06,3.57509e-10,-3.18816e-14,22055.7,-107.736], Tmin=(940.94,'K'), Tmax=(5000,'K'))], Tmin=(100,'K'), Tmax=(5000,'K'), comment=\"\"\"Thermo group additivity estimation: group(Cs-(Cds-Cds)HHH) + other(R) + group(Cds-Cds(Cds-Cds)Cs) + other(R) + group(Cds-CdsCsCs) + other(R) + group\n",
       "(Cds-Cds(Cds-Cds)H) + other(R) + group(Cds-CdsCsCs) + other(R) + group(Cds-Cds(Cds-Cds)H) + other(R) + group(Cds-CdsHH) + other(R) + group(Ss-CdCd) +\n",
       "other(R) + group(Ss-CdH) + other(R) + ring(thiophene) + radical(SJ-Cd)\"\"\"), molecule=[Molecule(SMILES=\"C=CC1=CC(C)=C([S])S1\"), Molecule(SMILES=\"C=CC1=C[C](C)C(=S)S1\"), Molecule(SMILES=\"C=C[C]1C=C(C)C(=S)S1\"), Molecule(SMILES=\"[CH2]C=C1C=C(C)C(=S)S1\")])"
      ]
     },
     "metadata": {},
     "output_type": "display_data"
    },
    {
     "name": "stdout",
     "output_type": "stream",
     "text": [
      "Group additivity:\n",
      "\tradical\n",
      "\t\tSJ-Cd = 1\n",
      "\tring\n",
      "\t\tthiophene = 1\n",
      "\tother\n",
      "\t\tR = 9\n",
      "\tgroup\n",
      "\t\tSs-CdCd = 1\n",
      "\t\tCs-(Cds-Cds)HHH = 1\n",
      "\t\tCds-CdsHH = 1\n",
      "\t\tCds-Cds(Cds-Cds)Cs = 1\n",
      "\t\tCds-Cds(Cds-Cds)H = 1\n",
      "\t\tCds-CdsCsCs = 2\n",
      "\t\tSs-CdH = 1\n",
      "\n",
      "Uncertainty dG =  2.8394541729  kcal/mol\n",
      "==========\n",
      "C=C(C)C([S])(S)C(C)(C)C(537)\n"
     ]
    },
    {
     "data": {
      "image/png": "[encoded data removed]",
      "text/plain": [
       "Species(index=537, label=\"C=C(C)C([S])(S)C(C)(C)C\", thermo=NASA(polynomials=[NASAPolynomial(coeffs=[-1.41202,0.116306,-9.41381e-05,3.93302e-08,-6.7591e-12,6971.22,37.6301], Tmin=(100,'K'), Tmax=(1353.27,'K')), NASAPolynomial(coeffs=[20.2266,0.052346,-2.32431e-05,4.40474e-09,-3.07034e-13,1114.67,-73.3098], Tmin=(1353.27,'K'), Tmax=(5000,'K'))], Tmin=(100,'K'), Tmax=(5000,'K'), comment=\"\"\"Thermo group additivity estimation: group(Cs-CsCsCsCs) + gauche(Cs(CsCsCsCs)) + other(R) + group(Cs-CsCsCsCs) + gauche(Cs(RRRR)) + other(R) + group\n",
       "(Cs-CsHHH) + gauche(Cs(Cs(CsCsCs)RRR)) + other(R) + group(Cs-CsHHH) + gauche(Cs(Cs(CsCsCs)RRR)) + other(R) + group(Cs-CsHHH) +\n",
       "gauche(Cs(Cs(CsCsCs)RRR)) + other(R) + group(Cs-(Cds-Cds)HHH) + gauche(Cs(RRRR)) + other(R) + group(Cds-CdsCsCs) + gauche(Cd(CsCs)) + other(R) + group\n",
       "(Cds-CdsHH) + gauche(CsOsCdSs) + other(R) + group(Ss-CsH) + gauche(Ss(CsH)) + other(R) + group(Ss-CsH) + gauche(Ss(CsH)) + other(R) + radical(SJ-Cs)\"\"\"), molecule=[Molecule(SMILES=\"C=C(C)C([S])(S)C(C)(C)C\")])"
      ]
     },
     "metadata": {},
     "output_type": "display_data"
    },
    {
     "name": "stdout",
     "output_type": "stream",
     "text": [
      "Group additivity:\n",
      "\tradical\n",
      "\t\tSJ-Cs = 1\n",
      "\tgauche\n",
      "\t\tSs(CsH) = 2\n",
      "\t\tCs(Cs(CsCsCs)RRR) = 3\n",
      "\t\tCsOsCdSs = 1\n",
      "\t\tCs(CsCsCsCs) = 1\n",
      "\t\tCs(RRRR) = 2\n",
      "\t\tCd(CsCs) = 1\n",
      "\tgroup\n",
      "\t\tCs-(Cds-Cds)HHH = 1\n",
      "\t\tCds-CdsCsCs = 1\n",
      "\t\tSs-CsH = 2\n",
      "\t\tCs-CsCsCsCs = 2\n",
      "\t\tCs-CsHHH = 2\n",
      "\tother\n",
      "\t\tR = 10\n",
      "\n",
      "Uncertainty dG =  3.26917420766  kcal/mol\n",
      "==========\n",
      "C=C1[CH]CC(C)C(=S)S1(2878)\n"
     ]
    },
    {
     "data": {
      "image/png": "[encoded data removed]",
      "text/plain": [
       "Species(index=2878, label=\"C=C1[CH]CC(C)C(=S)S1\", thermo=NASA(polynomials=[NASAPolynomial(coeffs=[0.330625,0.057455,3.22901e-05,-8.17238e-08,3.3984e-11,26692.8,26.0718], Tmin=(100,'K'), Tmax=(1012.2,'K')), NASAPolynomial(coeffs=[20.2927,0.0337565,-1.43737e-05,2.87557e-09,-2.1494e-13,19824.6,-84.4406], Tmin=(1012.2,'K'), Tmax=(5000,'K'))], Tmin=(100,'K'), Tmax=(5000,'K'), comment=\"\"\"Thermo group additivity estimation: group(Cs-C=SCsCsH) + other(R) + group(Cs-(Cds-Cds)CsHH) + other(R) + group(Cs-CsHHH) + other(R) + group(Cs-(Cds-\n",
       "Cds)HHH) + other(R) + group(Cds-CdsCsSs) + other(R) + group(Cds-CdsCsH) + other(R) + group(C=S-CsSs) + other(R) + group(Ss-C=SCd) + other(R) + group\n",
       "(Sd-Cd) + other(R) + ring(Cyclohexane) + radical(Allyl_P)\"\"\"), molecule=[Molecule(SMILES=\"[CH2]C1=CCC(C)C(=S)S1\"), Molecule(SMILES=\"C=C1[CH]CC(C)C(=S)S1\")])"
      ]
     },
     "metadata": {},
     "output_type": "display_data"
    },
    {
     "name": "stdout",
     "output_type": "stream",
     "text": [
      "Group additivity:\n",
      "\tradical\n",
      "\t\tAllyl_P = 1\n",
      "\tring\n",
      "\t\tCyclohexane = 1\n",
      "\tother\n",
      "\t\tR = 9\n",
      "\tgroup\n",
      "\t\tC=S-CsSs = 1\n",
      "\t\tCs-(Cds-Cds)CsHH = 1\n",
      "\t\tSs-C=SCd = 1\n",
      "\t\tCs-CsHHH = 1\n",
      "\t\tCds-CdsCsSs = 1\n",
      "\t\tCds-CdsCsH = 1\n",
      "\t\tCs-C=SCsCsH = 1\n",
      "\n",
      "Uncertainty dG =  2.80624304008  kcal/mol\n",
      "==========\n",
      "C=C(C)C(=S)SC(C)(C)C(393)\n"
     ]
    },
    {
     "data": {
      "image/png": "[encoded data removed]",
      "text/plain": [
       "Species(index=393, label=\"C=C(C)C(=S)SC(C)(C)C\", thermo=NASA(polynomials=[NASAPolynomial(coeffs=[-1.33726,0.118282,-0.000108596,5.42687e-08,-1.12414e-11,-2220.85,36.3945], Tmin=(100,'K'), Tmax=(1140.61,'K')), NASAPolynomial(coeffs=[17.1751,0.0533617,-2.32209e-05,4.36905e-09,-3.04427e-13,-6443.97,-55.3526], Tmin=(1140.61,'K'), Tmax=(5000,'K'))], Tmin=(100,'K'), Tmax=(5000,'K'), comment=\"\"\"Thermo group additivity estimation: group(Cs-CsCsCsSs) + gauche(Cs(RRRR)) + other(R) + group(Cs-CsHHH) + gauche(Cs(CsRRR)) + other(R) + group(Cs-\n",
       "CsHHH) + gauche(Cs(CsRRR)) + other(R) + group(Cs-CsHHH) + gauche(Cs(CsRRR)) + other(R) + group(Cs-(Cds-Cds)HHH) + gauche(Cs(RRRR)) + other(R) + group\n",
       "(Cds-CdsC=SCs) + gauche(CsOsCdSs) + other(R) + group(C=S-CsSs) + other(R) + group(Cds-CdsHH) + gauche(CsOsCdSs) + other(R) + group(Ss-C=SCs) +\n",
       "gauche(Ss(RR)) + other(R) + group(Sd-Cd) + other(R)\"\"\"), molecule=[Molecule(SMILES=\"C=C(C)C(=S)SC(C)(C)C\")])"
      ]
     },
     "metadata": {},
     "output_type": "display_data"
    },
    {
     "name": "stdout",
     "output_type": "stream",
     "text": [
      "Group additivity:\n",
      "\tgauche\n",
      "\t\tSs(RR) = 1\n",
      "\t\tCs(RRRR) = 2\n",
      "\t\tCsOsCdSs = 2\n",
      "\t\tCs(CsRRR) = 3\n",
      "\tgroup\n",
      "\t\tSd-Cd = 1\n",
      "\t\tC=S-CsSs = 1\n",
      "\t\tCs-CsCsCsSs = 1\n",
      "\t\tCds-CdsHH = 1\n",
      "\t\tCs-(Cds-Cds)HHH = 1\n",
      "\t\tSs-C=SCs = 1\n",
      "\t\tCs-CsHHH = 2\n",
      "\tother\n",
      "\t\tR = 10\n",
      "\n",
      "Uncertainty dG =  3.20156211872  kcal/mol\n",
      "==========\n",
      "C[C](C)C(22)\n"
     ]
    },
    {
     "data": {
      "image/png": "[encoded data removed]",
      "text/plain": [
       "Species(index=22, label=\"C[C](C)C\", thermo=NASA(polynomials=[NASAPolynomial(coeffs=[2.58814,0.03094,-7.08927e-06,-2.52738e-09,9.7191e-13,3908.8,13.7543], Tmin=(100,'K'), Tmax=(1673.56,'K')), NASAPolynomial(coeffs=[7.5809,0.0271243,-1.09451e-05,1.90691e-09,-1.23455e-13,1100.88,-16.3003], Tmin=(1673.56,'K'), Tmax=(5000,'K'))], Tmin=(100,'K'), Tmax=(5000,'K'), comment=\"\"\"Thermo group additivity estimation: group(Cs-CsCsCsH) + gauche(Cs(CsCsCsR)) + other(R) + group(Cs-CsHHH) + gauche(Cs(Cs(CsCsR)RRR)) + other(R) + group\n",
       "(Cs-CsHHH) + gauche(Cs(Cs(CsCsR)RRR)) + other(R) + group(Cs-CsHHH) + gauche(Cs(Cs(CsCsR)RRR)) + other(R) + radical(Tertalkyl)\"\"\"), molecule=[Molecule(SMILES=\"C[C](C)C\")])"
      ]
     },
     "metadata": {},
     "output_type": "display_data"
    },
    {
     "name": "stdout",
     "output_type": "stream",
     "text": [
      "Group additivity:\n",
      "\tradical\n",
      "\t\tTertalkyl = 1\n",
      "\tgauche\n",
      "\t\tCs(CsCsCsR) = 1\n",
      "\t\tCs(Cs(CsCsR)RRR) = 3\n",
      "\tgroup\n",
      "\t\tCs-CsCsCsH = 1\n",
      "\t\tCs-CsHHH = 2\n",
      "\tother\n",
      "\t\tR = 4\n",
      "\n",
      "Uncertainty dG =  2.06155281281  kcal/mol\n",
      "==========\n",
      "S6(9)\n"
     ]
    },
    {
     "data": {
      "image/png": "[encoded data removed]",
      "text/plain": [
       "Species(index=9, label=\"S6\", thermo=NASA(polynomials=[NASAPolynomial(coeffs=[1.11673,0.07243,-0.000147196,1.31479e-07,-4.30247e-11,9769.04,21.2412], Tmin=(100,'K'), Tmax=(913.8,'K')), NASAPolynomial(coeffs=[10.9766,0.00726362,-4.10195e-06,7.30708e-10,-4.42731e-14,8885.85,-20.4109], Tmin=(913.8,'K'), Tmax=(5000,'K'))], Tmin=(100,'K'), Tmax=(5000,'K'), comment=\"\"\"Thermo library: SulfurLibrary\"\"\"), molecule=[Molecule(SMILES=\"S1SSSSS1\")])"
      ]
     },
     "metadata": {},
     "output_type": "display_data"
    },
    {
     "name": "stdout",
     "output_type": "stream",
     "text": [
      "Thermo Library:  12\n",
      "\n",
      "Uncertainty dG =  2.0  kcal/mol\n",
      "==========\n",
      "[CH2]C1CC(=C)SC2SC1=CC=2C(6292)\n"
     ]
    },
    {
     "data": {
      "image/png": "[encoded data removed]",
      "text/plain": [
       "Species(index=6292, label=\"[CH2]C1CC(=C)SC2SC1=CC=2C\", thermo=NASA(polynomials=[NASAPolynomial(coeffs=[-3.1985,0.156445,-0.00018804,1.15375e-07,-2.77443e-11,44261.7,10.4651], Tmin=(100,'K'), Tmax=(1021.45,'K')), NASAPolynomial(coeffs=[26.7977,0.0389806,-1.55434e-05,2.79288e-09,-1.89831e-13,38133.8,-134.886], Tmin=(1021.45,'K'), Tmax=(5000,'K'))], Tmin=(100,'K'), Tmax=(5000,'K'), comment=\"\"\"Thermo group additivity estimation: group(Cs-(Cds-Cds)CsCsH) + other(R) + group(Cs-(Cds-Cds)CsHH) + other(R) + group(Cs-CsHHH) + other(R) + group(Cs\n",
       "-(Cds-Cds)HHH) + other(R) + group(Cds-Cds(Cds-Cds)Cs) + other(R) + group(Cds-CdsCsSs) + other(R) + group(Cds-CdsCsSs) + other(R) + group(Cds-CdsCsCs)\n",
       "+ other(R) + group(Cds-Cds(Cds-Cds)H) + other(R) + group(Cds-CdsHH) + other(R) + group(Ss-CdCd) + other(R) + group(Ss-CdCd) + other(R) +\n",
       "polycyclic(PolycyclicRing) + radical(Isobutyl)\"\"\"), molecule=[Molecule(SMILES=\"[CH2]C1CC(=C)SC2SC1=CC=2C\")])"
      ]
     },
     "metadata": {},
     "output_type": "display_data"
    },
    {
     "name": "stdout",
     "output_type": "stream",
     "text": [
      "Group additivity:\n",
      "\tradical\n",
      "\t\tIsobutyl = 1\n",
      "\tother\n",
      "\t\tR = 12\n",
      "\tgroup\n",
      "\t\tSs-CdCd = 2\n",
      "\t\tCs-(Cds-Cds)CsCsH = 1\n",
      "\t\tCds-Cds(Cds-Cds)Cs = 1\n",
      "\t\tCds-CdsHH = 1\n",
      "\t\tCds-Cds(Cds-Cds)H = 1\n",
      "\t\tCs-(Cds-Cds)CsHH = 1\n",
      "\t\tCds-CdsCsSs = 2\n",
      "\t\tCds-CdsCsCs = 1\n",
      "\t\tCs-CsHHH = 1\n",
      "\tpolycyclic\n",
      "\t\tPolycyclicRing = 1\n",
      "\n",
      "Uncertainty dG =  3.5089172119  kcal/mol\n",
      "==========\n",
      "CC1=C[C]2CCC1(S)S2(4510)\n"
     ]
    },
    {
     "data": {
      "image/png": "[encoded data removed]",
      "text/plain": [
       "Species(index=4510, label=\"CC1=C[C]2CCC1(S)S2\", thermo=NASA(polynomials=[NASAPolynomial(coeffs=[-0.722087,0.105328,-0.000108009,5.75166e-08,-1.24023e-11,17341.2,-1.87273], Tmin=(100,'K'), Tmax=(1111.29,'K')), NASAPolynomial(coeffs=[17.8155,0.0386035,-1.79454e-05,3.48732e-09,-2.47646e-13,13221,-93.262], Tmin=(1111.29,'K'), Tmax=(5000,'K'))], Tmin=(100,'K'), Tmax=(5000,'K'), comment=\"\"\"Thermo group additivity estimation: group(Cs-CsCsCsCs) + other(R) + group(Cs-CdsCsSsH) + other(R) + group(Cs-CsCsHH) + other(R) + group(Cs-CsCsHH) +\n",
       "other(R) + group(Cs-(Cds-Cds)HHH) + other(R) + group(Cds-CdsCsCs) + other(R) + group(Cds-CdsCsH) + other(R) + group(Ss-CsCs) + other(R) + group(Ss-\n",
       "CsH) + other(R) + polycyclic(PolycyclicRing) + radical(CsJ-CsCdSs)\"\"\"), molecule=[Molecule(SMILES=\"CC1=C[C]2CCC1(S)S2\"), Molecule(SMILES=\"C[C]1C=C2CCC1(S)S2\")])"
      ]
     },
     "metadata": {},
     "output_type": "display_data"
    },
    {
     "name": "stdout",
     "output_type": "stream",
     "text": [
      "Group additivity:\n",
      "\tradical\n",
      "\t\tCsJ-CsCdSs = 1\n",
      "\tother\n",
      "\t\tR = 9\n",
      "\tgroup\n",
      "\t\tSs-CsCs = 1\n",
      "\t\tCs-(Cds-Cds)HHH = 1\n",
      "\t\tCs-CsCsHH = 2\n",
      "\t\tCs-CdsCsSsH = 1\n",
      "\t\tCds-CdsCsCs = 1\n",
      "\t\tCds-CdsCsH = 1\n",
      "\t\tCs-CsCsCsCs = 1\n",
      "\tpolycyclic\n",
      "\t\tPolycyclicRing = 1\n",
      "\n",
      "Uncertainty dG =  2.8394541729  kcal/mol\n",
      "==========\n",
      "S4(11)\n"
     ]
    },
    {
     "data": {
      "image/png": "[encoded data removed]",
      "text/plain": [
       "Species(index=11, label=\"S4\", thermo=NASA(polynomials=[NASAPolynomial(coeffs=[2.53108,0.0340639,-6.09166e-05,4.85662e-08,-1.44178e-11,15713.8,13.8696], Tmin=(100,'K'), Tmax=(936.17,'K')), NASAPolynomial(coeffs=[9.11023,0.00115277,-4.9264e-07,5.99162e-11,-1.74964e-15,14692.3,-16.3136], Tmin=(936.17,'K'), Tmax=(5000,'K'))], Tmin=(100,'K'), Tmax=(5000,'K'), comment=\"\"\"Thermo library: SulfurLibrary\"\"\"), molecule=[Molecule(SMILES=\"S1SSS1\")])"
      ]
     },
     "metadata": {},
     "output_type": "display_data"
    },
    {
     "name": "stdout",
     "output_type": "stream",
     "text": [
      "Thermo Library:  14\n",
      "\n",
      "Uncertainty dG =  2.0  kcal/mol\n",
      "==========\n",
      "C=C[C]1SC2SC1C=2C(5290)\n"
     ]
    },
    {
     "data": {
      "image/png": "[encoded data removed]",
      "text/plain": [
       "Species(index=5290, label=\"C=C[C]1SC2SC1C=2C\", thermo=NASA(polynomials=[NASAPolynomial(coeffs=[-2.14496,0.129101,-0.000168088,1.04587e-07,-2.48096e-11,30744.5,-3.33953], Tmin=(100,'K'), Tmax=(1048.19,'K')), NASAPolynomial(coeffs=[27.7445,0.0150401,-4.8623e-06,7.735e-10,-4.93476e-14,24478.6,-148.946], Tmin=(1048.19,'K'), Tmax=(5000,'K'))], Tmin=(100,'K'), Tmax=(5000,'K'), comment=\"\"\"Thermo group additivity estimation: group(Cs-CdsCsSsH) + other(R) + group(Cs-CdsCsSsH) + other(R) + group(Cs-(Cds-Cds)HHH) + other(R) + group(Cds-\n",
       "CdsCsCs) + other(R) + group(Cds-CdsCsH) + other(R) + group(Cds-CdsCsCs) + other(R) + group(Cds-CdsHH) + other(R) + group(Ss-CsCd) + other(R) + group\n",
       "(Ss-CsCd) + other(R) + polycyclic(PolycyclicRing) + radical(CsJ-CsCdSs)\"\"\"), molecule=[Molecule(SMILES=\"C=C[C]1SC2SC1C=2C\"), Molecule(SMILES=\"[CH2]C=C1SC2SC1C=2C\")])"
      ]
     },
     "metadata": {},
     "output_type": "display_data"
    },
    {
     "name": "stdout",
     "output_type": "stream",
     "text": [
      "Group additivity:\n",
      "\tradical\n",
      "\t\tCsJ-CsCdSs = 1\n",
      "\tother\n",
      "\t\tR = 9\n",
      "\tgroup\n",
      "\t\tCs-(Cds-Cds)HHH = 1\n",
      "\t\tCds-CdsHH = 1\n",
      "\t\tCs-CdsCsSsH = 2\n",
      "\t\tSs-CsCd = 1\n",
      "\t\tCds-CdsCsH = 1\n",
      "\t\tCds-CdsCsCs = 1\n",
      "\tpolycyclic\n",
      "\t\tPolycyclicRing = 1\n",
      "\n",
      "Uncertainty dG =  2.82842712475  kcal/mol\n",
      "==========\n",
      "C[C]1CC2=CCC1(S)S2(3581)\n"
     ]
    },
    {
     "data": {
      "image/png": "[encoded data removed]",
      "text/plain": [
       "Species(index=3581, label=\"C[C]1CC2=CCC1(S)S2\", thermo=NASA(polynomials=[NASAPolynomial(coeffs=[-1.69558,0.135154,-0.00020847,1.73095e-07,-5.68231e-11,23975.9,-0.513494], Tmin=(100,'K'), Tmax=(826.81,'K')), NASAPolynomial(coeffs=[14.6254,0.0439694,-2.08637e-05,3.94302e-09,-2.69889e-13,21694.9,-73.6217], Tmin=(826.81,'K'), Tmax=(5000,'K'))], Tmin=(100,'K'), Tmax=(5000,'K'), comment=\"\"\"Thermo group additivity estimation: group(Cs-CsCsCsH) + other(R) + group(Cs-CsCsSsSs) + other(R) + group(Cs-(Cds-Cds)CsHH) + other(R) + group(Cs-(Cds-\n",
       "Cds)CsHH) + other(R) + group(Cs-CsHHH) + other(R) + group(Cds-CdsCsSs) + other(R) + group(Cds-CdsCsH) + other(R) + group(Ss-CsCd) + other(R) + group\n",
       "(Ss-CsH) + other(R) + polycyclic(PolycyclicRing) + radical(Tertalkyl)\"\"\"), molecule=[Molecule(SMILES=\"C[C]1CC2=CCC1(S)S2\")])"
      ]
     },
     "metadata": {},
     "output_type": "display_data"
    },
    {
     "name": "stdout",
     "output_type": "stream",
     "text": [
      "Group additivity:\n",
      "\tradical\n",
      "\t\tTertalkyl = 1\n",
      "\tother\n",
      "\t\tR = 9\n",
      "\tgroup\n",
      "\t\tCs-(Cds-Cds)CsHH = 1\n",
      "\t\tCs-CsCsSsSs = 1\n",
      "\t\tCs-CsCsCsH = 1\n",
      "\t\tCds-CdsCsSs = 1\n",
      "\t\tCds-CdsCsH = 1\n",
      "\t\tCs-CsHHH = 1\n",
      "\t\tSs-CsCd = 1\n",
      "\tpolycyclic\n",
      "\t\tPolycyclicRing = 1\n",
      "\n",
      "Uncertainty dG =  2.80624304008  kcal/mol\n",
      "==========\n",
      "S4J(10)\n"
     ]
    },
    {
     "data": {
      "image/png": "[encoded data removed]",
      "text/plain": [
       "Species(index=10, label=\"S4J\", thermo=NASA(polynomials=[NASAPolynomial(coeffs=[2.59615,0.0387419,-8.88612e-05,8.62012e-08,-2.97907e-11,23936.1,20.0053], Tmin=(100,'K'), Tmax=(916.99,'K')), NASAPolynomial(coeffs=[5.45806,0.00643882,-3.60009e-06,6.4487e-10,-3.94321e-14,24244.5,10.9897], Tmin=(916.99,'K'), Tmax=(5000,'K'))], Tmin=(100,'K'), Tmax=(5000,'K'), comment=\"\"\"Thermo group additivity estimation: group(Ss-SsSs) + gauche(Ss(RR)) + other(R) + group(Ss-SsSs) + gauche(Ss(RR)) + other(R) + group(Ss-SsH) +\n",
       "gauche(Ss(RR)) + other(R) + group(Ss-SsH) + gauche(Ss(RR)) + other(R) + radical(SJ-Ss-Ss) + radical(SJ-Ss-Ss)\"\"\"), molecule=[Molecule(SMILES=\"[S]SS[S]\")])"
      ]
     },
     "metadata": {},
     "output_type": "display_data"
    },
    {
     "name": "stdout",
     "output_type": "stream",
     "text": [
      "Group additivity:\n",
      "\tradical\n",
      "\t\tSJ-Ss-Ss = 2\n",
      "\tgauche\n",
      "\t\tSs(RR) = 4\n",
      "\tgroup\n",
      "\t\tSs-SsSs = 2\n",
      "\t\tSs-SsH = 2\n",
      "\tother\n",
      "\t\tR = 4\n",
      "\n",
      "Uncertainty dG =  2.2360679775  kcal/mol\n",
      "==========\n",
      "C1CC2CSSCC=21(2064)\n"
     ]
    },
    {
     "data": {
      "image/png": "[encoded data removed]",
      "text/plain": [
       "Species(index=2064, label=\"C1CC2CSSCC=21\", thermo=NASA(polynomials=[NASAPolynomial(coeffs=[-1.52435,0.128288,-0.000196354,1.54522e-07,-4.76011e-11,3756.09,-5.53031], Tmin=(100,'K'), Tmax=(835.99,'K')), NASAPolynomial(coeffs=[17.7239,0.031508,-1.43016e-05,2.64277e-09,-1.78352e-13,701.449,-93.9651], Tmin=(835.99,'K'), Tmax=(5000,'K'))], Tmin=(100,'K'), Tmax=(5000,'K'), comment=\"\"\"Thermo group additivity estimation: group(Cs-(Cds-Cds)CsHH) + other(R) + group(Cs-(Cds-Cds)CsHH) + other(R) + group(Cs-CdsSsHH) + other(R) + group(Cs-\n",
       "CdsSsHH) + other(R) + group(Cds-CdsCsCs) + other(R) + group(Cds-CdsCsCs) + other(R) + group(Ss-SsCs) + other(R) + group(Ss-SsCs) + other(R) +\n",
       "polycyclic(PolycyclicRing)\"\"\"), molecule=[Molecule(SMILES=\"C1CC2CSSCC=21\")])"
      ]
     },
     "metadata": {},
     "output_type": "display_data"
    },
    {
     "name": "stdout",
     "output_type": "stream",
     "text": [
      "Group additivity:\n",
      "\tother\n",
      "\t\tR = 8\n",
      "\tgroup\n",
      "\t\tCs-(Cds-Cds)CsHH = 2\n",
      "\t\tCds-CdsCsCs = 2\n",
      "\t\tSs-SsCs = 2\n",
      "\t\tCs-CdsSsHH = 1\n",
      "\tpolycyclic\n",
      "\t\tPolycyclicRing = 1\n",
      "\n",
      "Uncertainty dG =  2.66926956301  kcal/mol\n",
      "==========\n",
      "C=C1[CH]C2(CC)SC12S(5102)\n"
     ]
    },
    {
     "data": {
      "image/png": "[encoded data removed]",
      "text/plain": [
       "Species(index=5102, label=\"C=C1[CH]C2(CC)SC12S\", thermo=NASA(polynomials=[NASAPolynomial(coeffs=[-1.0733,0.109261,-0.000111604,5.76622e-08,-1.18811e-11,19833.6,-4.34733], Tmin=(100,'K'), Tmax=(1170.98,'K')), NASAPolynomial(coeffs=[20.8647,0.0343221,-1.56098e-05,3.01041e-09,-2.13163e-13,14695.8,-113.648], Tmin=(1170.98,'K'), Tmax=(5000,'K'))], Tmin=(100,'K'), Tmax=(5000,'K'), comment=\"\"\"Thermo group additivity estimation: group(Cs-CsCsCsSs) + other(R) + group(Cs-CsCsCsCs) + other(R) + group(Cs-CsCsHH) + other(R) + group(Cs-(Cds-\n",
       "Cds)CsHH) + other(R) + group(Cs-CsHHH) + other(R) + group(Cds-CdsCsCs) + other(R) + group(Cds-CdsHH) + other(R) + group(Ss-CsCs) + other(R) + group\n",
       "(Ss-CsH) + other(R) + polycyclic(PolycyclicRing) + radical(Allyl_S)\"\"\"), molecule=[Molecule(SMILES=\"C=C1[CH]C2(CC)SC12S\"), Molecule(SMILES=\"[CH2]C1=CC2(CC)SC12S\")])"
      ]
     },
     "metadata": {},
     "output_type": "display_data"
    },
    {
     "name": "stdout",
     "output_type": "stream",
     "text": [
      "Group additivity:\n",
      "\tradical\n",
      "\t\tAllyl_S = 1\n",
      "\tother\n",
      "\t\tR = 9\n",
      "\tgroup\n",
      "\t\tCs-CsCsCsSs = 1\n",
      "\t\tCs-CsCsHH = 1\n",
      "\t\tCds-CdsHH = 1\n",
      "\t\tCs-CsCsCsCs = 1\n",
      "\t\tSs-CsCs = 1\n",
      "\t\tCds-CdsCsCs = 1\n",
      "\t\tCs-CsHHH = 1\n",
      "\tpolycyclic\n",
      "\t\tPolycyclicRing = 1\n",
      "\n",
      "Uncertainty dG =  2.80624304008  kcal/mol\n",
      "==========\n",
      "C[C](C)CS(28)\n"
     ]
    },
    {
     "data": {
      "image/png": "[encoded data removed]",
      "text/plain": [
       "Species(index=28, label=\"C[C](C)CS\", thermo=NASA(polynomials=[NASAPolynomial(coeffs=[1.7044,0.0557325,-6.62729e-05,5.7989e-08,-2.16679e-11,8184.78,21.866], Tmin=(100,'K'), Tmax=(806.35,'K')), NASAPolynomial(coeffs=[3.17256,0.0390303,-1.76809e-05,3.32773e-09,-2.29239e-13,8254.23,16.9977], Tmin=(806.35,'K'), Tmax=(5000,'K'))], Tmin=(100,'K'), Tmax=(5000,'K'), comment=\"\"\"Thermo group additivity estimation: group(Cs-CsCsCsH) + gauche(Cs(CsCsCsR)) + other(R) + group(Cs-CsSsHH) + gauche(Cs(RRRR)) + other(R) + group(Cs-\n",
       "CsHHH) + gauche(Cs(Cs(CsCsR)RRR)) + other(R) + group(Cs-CsHHH) + gauche(Cs(Cs(CsCsR)RRR)) + other(R) + group(Ss-CsH) + gauche(Ss(Cs(CsHH)H)) +\n",
       "other(R) + radical(Tertalkyl)\"\"\"), molecule=[Molecule(SMILES=\"C[C](C)CS\")])"
      ]
     },
     "metadata": {},
     "output_type": "display_data"
    },
    {
     "name": "stdout",
     "output_type": "stream",
     "text": [
      "Group additivity:\n",
      "\tradical\n",
      "\t\tTertalkyl = 1\n",
      "\tgauche\n",
      "\t\tSs(Cs(CsHH)H) = 1\n",
      "\t\tCs(CsCsCsR) = 1\n",
      "\t\tCs(Cs(CsCsR)RRR) = 2\n",
      "\t\tCs(RRRR) = 1\n",
      "\tgroup\n",
      "\t\tCs-CsHHH = 1\n",
      "\t\tSs-CsH = 1\n",
      "\t\tCs-CsCsCsH = 1\n",
      "\t\tCs-CsSsHH = 1\n",
      "\tother\n",
      "\t\tR = 5\n",
      "\n",
      "Uncertainty dG =  2.13600093633  kcal/mol\n",
      "==========\n",
      "C[C](CS)CSC(C)(C)C(148)\n"
     ]
    },
    {
     "data": {
      "image/png": "[encoded data removed]",
      "text/plain": [
       "Species(index=148, label=\"C[C](CS)CSC(C)(C)C\", thermo=NASA(polynomials=[NASAPolynomial(coeffs=[-2.09427,0.143482,-0.000179802,1.39677e-07,-4.57152e-11,-984.196,44.2939], Tmin=(100,'K'), Tmax=(765.51,'K')), NASAPolynomial(coeffs=[11.17,0.0711818,-3.22689e-05,6.08916e-09,-4.20991e-13,-2927.32,-15.5814], Tmin=(765.51,'K'), Tmax=(5000,'K'))], Tmin=(100,'K'), Tmax=(5000,'K'), comment=\"\"\"Thermo group additivity estimation: group(Cs-CsCsCsSs) + gauche(Cs(RRRR)) + other(R) + group(Cs-CsCsCsH) + gauche(Cs(CsCsCsR)) + other(R) + group(Cs-\n",
       "CsSsHH) + gauche(Cs(RRRR)) + other(R) + group(Cs-CsSsHH) + gauche(Cs(RRRR)) + other(R) + group(Cs-CsHHH) + gauche(Cs(CsRRR)) + other(R) + group(Cs-\n",
       "CsHHH) + gauche(Cs(CsRRR)) + other(R) + group(Cs-CsHHH) + gauche(Cs(CsRRR)) + other(R) + group(Cs-CsHHH) + gauche(Cs(Cs(CsCsR)RRR)) + other(R) + group\n",
       "(Ss-CsCs) + gauche(Ss(CsCs)) + other(R) + group(Ss-CsH) + gauche(Ss(Cs(CsHH)H)) + other(R) + radical(Tertalkyl)\"\"\"), molecule=[Molecule(SMILES=\"C[C](CS)CSC(C)(C)C\")])"
      ]
     },
     "metadata": {},
     "output_type": "display_data"
    },
    {
     "name": "stdout",
     "output_type": "stream",
     "text": [
      "Group additivity:\n",
      "\tradical\n",
      "\t\tTertalkyl = 1\n",
      "\tgauche\n",
      "\t\tCs(CsRRR) = 3\n",
      "\t\tCs(RRRR) = 3\n",
      "\t\tSs(Cs(CsHH)H) = 1\n",
      "\t\tCs(Cs(CsCsR)RRR) = 1\n",
      "\t\tSs(CsCs) = 1\n",
      "\t\tCs(CsCsCsR) = 1\n",
      "\tgroup\n",
      "\t\tCs-CsCsCsSs = 1\n",
      "\t\tCs-CsHHH = 3\n",
      "\t\tSs-CsH = 1\n",
      "\t\tCs-CsCsCsH = 1\n",
      "\t\tCs-CsSsHH = 1\n",
      "\tother\n",
      "\t\tR = 10\n",
      "\n",
      "Uncertainty dG =  3.27871926215  kcal/mol\n",
      "==========\n",
      "C=C(C)C[S](133)\n"
     ]
    },
    {
     "data": {
      "image/png": "[encoded data removed]",
      "text/plain": [
       "Species(index=133, label=\"C=C(C)C[S]\", thermo=NASA(polynomials=[NASAPolynomial(coeffs=[1.67051,0.0518868,-4.96277e-05,2.69248e-08,-6.08198e-12,18347.2,17.6572], Tmin=(100,'K'), Tmax=(1053.06,'K')), NASAPolynomial(coeffs=[8.99418,0.024068,-1.00019e-05,1.83854e-09,-1.26407e-13,16804.7,-18.0539], Tmin=(1053.06,'K'), Tmax=(5000,'K'))], Tmin=(100,'K'), Tmax=(5000,'K'), comment=\"\"\"Thermo group additivity estimation: group(Cs-CdsSsHH) + gauche(Cs(RRRR)) + other(R) + group(Cs-(Cds-Cds)HHH) + gauche(Cs(RRRR)) + other(R) + group\n",
       "(Cds-CdsCsCs) + gauche(Cd(CsCs)) + other(R) + group(Cds-CdsHH) + gauche(CsOsCdSs) + other(R) + group(Ss-CsH) + gauche(Ss(CsH)) + other(R) + radical\n",
       "(SJ-Cs)\"\"\"), molecule=[Molecule(SMILES=\"C=C(C)C[S]\")])"
      ]
     },
     "metadata": {},
     "output_type": "display_data"
    },
    {
     "name": "stdout",
     "output_type": "stream",
     "text": [
      "Group additivity:\n",
      "\tgauche\n",
      "\t\tSs(CsH) = 1\n",
      "\t\tCs(RRRR) = 2\n",
      "\t\tCsOsCdSs = 1\n",
      "\t\tCd(CsCs) = 1\n",
      "\tgroup\n",
      "\t\tCs-CdsSsHH = 1\n",
      "\t\tSs-CsH = 1\n",
      "\t\tCds-CdsHH = 1\n",
      "\t\tCs-(Cds-Cds)HHH = 1\n",
      "\tother\n",
      "\t\tR = 5\n",
      "\n",
      "Uncertainty dG =  2.12132034356  kcal/mol\n",
      "==========\n",
      "[CH2]C(=C)S[C](C(=C)C)C(C)(C)C(1751)\n"
     ]
    },
    {
     "data": {
      "image/png": "[encoded data removed]",
      "text/plain": [
       "Species(index=1751, label=\"[CH2]C(=C)S[C](C(=C)C)C(C)(C)C\", thermo=NASA(polynomials=[NASAPolynomial(coeffs=[-3.34967,0.152177,-0.000135191,6.25101e-08,-1.1663e-11,22859.2,44.6963], Tmin=(100,'K'), Tmax=(1280.17,'K')), NASAPolynomial(coeffs=[27.1809,0.0567823,-2.34166e-05,4.30245e-09,-2.95953e-13,15042.3,-110.137], Tmin=(1280.17,'K'), Tmax=(5000,'K'))], Tmin=(100,'K'), Tmax=(5000,'K'), comment=\"\"\"Thermo group additivity estimation: group(Cs-CsCsCsCs) + gauche(Cs(CsCsCsCs)) + other(R) + group(Cs-CdsCsSsH) + gauche(Cs(RRRR)) + other(R) + group\n",
       "(Cs-CsHHH) + gauche(Cs(Cs(CsCsCs)RRR)) + other(R) + group(Cs-CsHHH) + gauche(Cs(Cs(CsCsCs)RRR)) + other(R) + group(Cs-CsHHH) +\n",
       "gauche(Cs(Cs(CsCsCs)RRR)) + other(R) + group(Cs-(Cds-Cds)HHH) + gauche(Cs(RRRR)) + other(R) + group(Cs-(Cds-Cds)HHH) + gauche(Cs(RRRR)) + other(R) +\n",
       "group(Cds-CdsCsCs) + gauche(Cd(CsCs)) + other(R) + group(Cds-CdsCsSs) + gauche(CsOsCdSs) + other(R) + group(Cds-CdsHH) + gauche(CsOsCdSs) + other(R) +\n",
       "group(Cds-CdsHH) + gauche(CsOsCdSs) + other(R) + group(Ss-CsCd) + gauche(Ss(CsR)) + other(R) + radical(Allyl_P) + radical(CsJ-CsCdSs)\"\"\"), molecule=[Molecule(SMILES=\"[CH2]C(=C)S[C](C(=C)C)C(C)(C)C\"), Molecule(SMILES=\"[CH2]C(=C)SC(=C([CH2])C)C(C)(C)C\")])"
      ]
     },
     "metadata": {},
     "output_type": "display_data"
    },
    {
     "name": "stdout",
     "output_type": "stream",
     "text": [
      "Group additivity:\n",
      "\tradical\n",
      "\t\tAllyl_P = 1\n",
      "\t\tCsJ-CsCdSs = 1\n",
      "\tgauche\n",
      "\t\tSs(CsR) = 1\n",
      "\t\tCsOsCdSs = 3\n",
      "\t\tCs(CsCsCsCs) = 1\n",
      "\t\tCs(RRRR) = 3\n",
      "\t\tCs(Cs(CsCsCs)RRR) = 3\n",
      "\t\tCd(CsCs) = 1\n",
      "\tgroup\n",
      "\t\tCs-(Cds-Cds)HHH = 2\n",
      "\t\tCds-CdsHH = 2\n",
      "\t\tCs-CsHHH = 2\n",
      "\t\tCs-CdsCsSsH = 1\n",
      "\t\tSs-CsCd = 1\n",
      "\t\tCds-CdsCsCs = 1\n",
      "\t\tCds-CdsCsSs = 1\n",
      "\t\tCs-CsCsCsCs = 1\n",
      "\tother\n",
      "\t\tR = 12\n",
      "\n",
      "Uncertainty dG =  3.78318648761  kcal/mol\n",
      "==========\n",
      "C4H9SJ(15)\n"
     ]
    },
    {
     "data": {
      "image/png": "[encoded data removed]",
      "text/plain": [
       "Species(index=15, label=\"C4H9SJ\", thermo=NASA(polynomials=[NASAPolynomial(coeffs=[1.51707,0.04678,-1.85504e-05,-6.58092e-09,5.19875e-12,2541.28,19.0388], Tmin=(100,'K'), Tmax=(1047.28,'K')), NASAPolynomial(coeffs=[11.121,0.0253821,-9.79294e-06,1.7791e-09,-1.23318e-13,-308.474,-31.7399], Tmin=(1047.28,'K'), Tmax=(5000,'K'))], Tmin=(100,'K'), Tmax=(5000,'K'), comment=\"\"\"Thermo library: SulfurLibrary\"\"\"), molecule=[Molecule(SMILES=\"CC(C)(C)[S]\")])"
      ]
     },
     "metadata": {},
     "output_type": "display_data"
    },
    {
     "name": "stdout",
     "output_type": "stream",
     "text": [
      "Thermo Library:  18\n",
      "\n",
      "Uncertainty dG =  2.0  kcal/mol\n",
      "==========\n",
      "CC(CSC(C)(C)C)=C(S)C(C)(C)C(6115)\n"
     ]
    },
    {
     "data": {
      "image/png": "[encoded data removed]",
      "text/plain": [
       "Species(index=6115, label=\"CC(CSC(C)(C)C)=C(S)C(C)(C)C\", thermo=NASA(polynomials=[NASAPolynomial(coeffs=[-5.16415,0.207228,-0.000218239,1.2655e-07,-3.01115e-11,-25452.2,52.4379], Tmin=(100,'K'), Tmax=(1008.57,'K')), NASAPolynomial(coeffs=[25.4839,0.085677,-3.74621e-05,7.05579e-09,-4.91821e-13,-31634.4,-95.6828], Tmin=(1008.57,'K'), Tmax=(5000,'K'))], Tmin=(100,'K'), Tmax=(5000,'K'), comment=\"\"\"Thermo group additivity estimation: group(Cs-(Cds-Cds)CsCsCs) + gauche(Cs(CsCsCsR)) + other(R) + group(Cs-CsCsCsSs) + gauche(Cs(RRRR)) + other(R) +\n",
       "group(Cs-CsHHH) + gauche(Cs(Cs(CsCsR)RRR)) + other(R) + group(Cs-CsHHH) + gauche(Cs(Cs(CsCsR)RRR)) + other(R) + group(Cs-CsHHH) +\n",
       "gauche(Cs(Cs(CsCsR)RRR)) + other(R) + group(Cs-CdsSsHH) + gauche(Cs(RRRR)) + other(R) + group(Cs-CsHHH) + gauche(Cs(CsRRR)) + other(R) + group(Cs-\n",
       "CsHHH) + gauche(Cs(CsRRR)) + other(R) + group(Cs-CsHHH) + gauche(Cs(CsRRR)) + other(R) + group(Cs-(Cds-Cds)HHH) + gauche(Cs(RRRR)) + other(R) + group\n",
       "(Cds-CdsCsCs) + gauche(Cd(CsCs)) + other(R) + group(Cds-CdsCsSs) + gauche(CsOsCdSs) + other(R) + group(Ss-CsCs) + gauche(Ss(CsCs)) + other(R) + group\n",
       "(Ss-CdH) + gauche(Ss(RR)) + other(R)\"\"\"), molecule=[Molecule(SMILES=\"CC(CSC(C)(C)C)=C(S)C(C)(C)C\")])"
      ]
     },
     "metadata": {},
     "output_type": "display_data"
    },
    {
     "name": "stdout",
     "output_type": "stream",
     "text": [
      "Group additivity:\n",
      "\tgauche\n",
      "\t\tCs(CsRRR) = 3\n",
      "\t\tSs(CsCs) = 1\n",
      "\t\tSs(RR) = 1\n",
      "\t\tCsOsCdSs = 1\n",
      "\t\tCs(Cs(CsCsR)RRR) = 3\n",
      "\t\tCs(RRRR) = 3\n",
      "\t\tCd(CsCs) = 1\n",
      "\t\tCs(CsCsCsR) = 1\n",
      "\tgroup\n",
      "\t\tCs-CdsSsHH = 1\n",
      "\t\tCs-(Cds-Cds)CsCsCs = 1\n",
      "\t\tSs-CsCs = 1\n",
      "\t\tCs-(Cds-Cds)HHH = 1\n",
      "\t\tCds-CdsCsSs = 1\n",
      "\t\tCs-CsCsCsSs = 1\n",
      "\t\tCs-CsHHH = 5\n",
      "\tother\n",
      "\t\tR = 14\n",
      "\n",
      "Uncertainty dG =  4.29389100933  kcal/mol\n",
      "==========\n",
      "SC1CC[C]2CC=1CS2(4411)\n"
     ]
    },
    {
     "data": {
      "image/png": "[encoded data removed]",
      "text/plain": [
       "Species(index=4411, label=\"SC1CC[C]2CC=1CS2\", thermo=NASA(polynomials=[NASAPolynomial(coeffs=[-1.42044,0.128609,-0.00017916,1.2817e-07,-3.42731e-11,23878.1,0.934247], Tmin=(100,'K'), Tmax=(684.46,'K')), NASAPolynomial(coeffs=[16.1198,0.040819,-1.90182e-05,3.60395e-09,-2.48819e-13,21132.3,-79.5555], Tmin=(684.46,'K'), Tmax=(5000,'K'))], Tmin=(100,'K'), Tmax=(5000,'K'), comment=\"\"\"Thermo group additivity estimation: group(Cs-CsCsSsH) + other(R) + group(Cs-CsCsHH) + other(R) + group(Cs-(Cds-Cds)CsHH) + other(R) + group(Cs-(Cds-\n",
       "Cds)CsHH) + other(R) + group(Cs-CdsSsHH) + other(R) + group(Cds-CdsCsCs) + other(R) + group(Cds-CdsCsSs) + other(R) + group(Ss-CsCs) + other(R) +\n",
       "group(Ss-CdH) + other(R) + polycyclic(PolycyclicRing) + radical(CsJ-CsCsSs)\"\"\"), molecule=[Molecule(SMILES=\"SC1CC[C]2CC=1CS2\")])"
      ]
     },
     "metadata": {},
     "output_type": "display_data"
    },
    {
     "name": "stdout",
     "output_type": "stream",
     "text": [
      "Group additivity:\n",
      "\tradical\n",
      "\t\tCsJ-CsCsSs = 1\n",
      "\tother\n",
      "\t\tR = 9\n",
      "\tgroup\n",
      "\t\tCs-CdsSsHH = 1\n",
      "\t\tCs-(Cds-Cds)CsHH = 1\n",
      "\t\tCs-CsCsSsH = 1\n",
      "\t\tSs-CsCs = 1\n",
      "\t\tCds-CdsCsSs = 1\n",
      "\t\tCds-CdsCsCs = 1\n",
      "\t\tCs-CsCsHH = 1\n",
      "\t\tSs-CdH = 1\n",
      "\tpolycyclic\n",
      "\t\tPolycyclicRing = 1\n",
      "\n",
      "Uncertainty dG =  2.8173569174  kcal/mol\n",
      "==========\n",
      "[CH2]C(C)(S)CS(188)\n"
     ]
    },
    {
     "data": {
      "image/png": "[encoded data removed]",
      "text/plain": [
       "Species(index=188, label=\"[CH2]C(C)(S)CS\", thermo=NASA(polynomials=[NASAPolynomial(coeffs=[0.584744,0.0794918,-9.65671e-05,6.7142e-08,-1.92191e-11,13277.1,27.8906], Tmin=(100,'K'), Tmax=(845.1,'K')), NASAPolynomial(coeffs=[10.2871,0.0335685,-1.50556e-05,2.84016e-09,-1.9701e-13,11637.2,-17.2847], Tmin=(845.1,'K'), Tmax=(5000,'K'))], Tmin=(100,'K'), Tmax=(5000,'K'), comment=\"\"\"Thermo group additivity estimation: group(Cs-CsCsCsSs) + gauche(Cs(RRRR)) + other(R) + group(Cs-CsSsHH) + gauche(Cs(RRRR)) + other(R) + group(Cs-\n",
       "CsHHH) + gauche(Cs(CsRRR)) + other(R) + group(Cs-CsHHH) + gauche(Cs(CsRRR)) + other(R) + group(Ss-CsH) + gauche(Ss(CsH)) + other(R) + group(Ss-CsH) +\n",
       "gauche(Ss(Cs(CsHH)H)) + other(R) + radical(Cs_P)\"\"\"), molecule=[Molecule(SMILES=\"[CH2]C(C)(S)CS\")])"
      ]
     },
     "metadata": {},
     "output_type": "display_data"
    },
    {
     "name": "stdout",
     "output_type": "stream",
     "text": [
      "Group additivity:\n",
      "\tradical\n",
      "\t\tCs_P = 1\n",
      "\tgauche\n",
      "\t\tSs(Cs(CsHH)H) = 1\n",
      "\t\tCs(RRRR) = 2\n",
      "\t\tSs(CsH) = 1\n",
      "\t\tCs(CsRRR) = 2\n",
      "\tgroup\n",
      "\t\tCs-CsCsCsSs = 1\n",
      "\t\tSs-CsH = 2\n",
      "\t\tCs-CsSsHH = 1\n",
      "\t\tCs-CsHHH = 1\n",
      "\tother\n",
      "\t\tR = 6\n",
      "\n",
      "Uncertainty dG =  2.37170824513  kcal/mol\n",
      "==========\n",
      "CC=C1C=C(C)C(=S)S1(4857)\n"
     ]
    },
    {
     "data": {
      "image/png": "[encoded data removed]",
      "text/plain": [
       "Species(index=4857, label=\"CC=C1C=C(C)C(=S)S1\", thermo=NASA(polynomials=[NASAPolynomial(coeffs=[1.21508,0.0372834,6.56601e-05,-1.10969e-07,4.4159e-11,21237.5,29.9704], Tmin=(100,'K'), Tmax=(983.5,'K')), NASAPolynomial(coeffs=[18,0.0282491,-1.08997e-05,2.16374e-09,-1.64665e-13,15071.2,-65.2913], Tmin=(983.5,'K'), Tmax=(5000,'K'))], Tmin=(100,'K'), Tmax=(5000,'K'), comment=\"\"\"Thermo group additivity estimation: group(Cs-(Cds-Cds)HHH) + other(R) + group(Cs-(Cds-Cds)HHH) + other(R) + group(Cds-CdsC=SCs) + other(R) + group\n",
       "(Cds-CdsCsCs) + other(R) + group(Cds-CdsCsH) + other(R) + group(Cds-Cds(Cds-Cds)H) + other(R) + group(C=S-CsSs) + other(R) + group(Ss-C=SCd) +\n",
       "other(R) + group(Sd-Cd) + other(R) + ring(2,5-dihydrothiophene)\"\"\"), molecule=[Molecule(SMILES=\"CC=C1C=C(C)C(=S)S1\")])"
      ]
     },
     "metadata": {},
     "output_type": "display_data"
    },
    {
     "name": "stdout",
     "output_type": "stream",
     "text": [
      "Group additivity:\n",
      "\tring\n",
      "\t\t2,5-dihydrothiophene = 1\n",
      "\tother\n",
      "\t\tR = 9\n",
      "\tgroup\n",
      "\t\tSd-Cd = 1\n",
      "\t\tC=S-CsSs = 1\n",
      "\t\tCds-Cds(Cds-Cds)H = 1\n",
      "\t\tSs-C=SCd = 1\n",
      "\t\tCs-(Cds-Cds)HHH = 2\n",
      "\t\tCds-CdsCsH = 1\n",
      "\t\tCds-CdsC=SCs = 1\n",
      "\n",
      "Uncertainty dG =  2.82842712475  kcal/mol\n",
      "==========\n",
      "CC(=S)[CH]CC(C)=C=S(3017)\n"
     ]
    },
    {
     "data": {
      "image/png": "[encoded data removed]",
      "text/plain": [
       "Species(index=3017, label=\"CC(=S)[CH]CC(C)=C=S\", thermo=NASA(polynomials=[NASAPolynomial(coeffs=[-1.34033,0.125672,-0.000182731,1.4723e-07,-4.76369e-11,40440.1,41.2871], Tmin=(100,'K'), Tmax=(806.17,'K')), NASAPolynomial(coeffs=[13.7165,0.0448232,-2.08753e-05,3.93543e-09,-2.70095e-13,38212,-26.8717], Tmin=(806.17,'K'), Tmax=(5000,'K'))], Tmin=(100,'K'), Tmax=(5000,'K'), comment=\"\"\"Thermo group additivity estimation: group(Cs-(Cds-Cds)(Cds-Cds)HH) + gauche(Cs(RRRR)) + other(R) + group(Cs-(Cds-Cds)HHH) + gauche(Cs(RRRR)) +\n",
       "other(R) + group(Cs-(Cds-Cds)HHH) + gauche(Cs(RRRR)) + other(R) + group(Cds-CdsCsCs) + gauche(CsOsCdSs) + other(R) + group(Cds-CdsCsSs) +\n",
       "gauche(CsOsCdSs) + other(R) + group(Cds-CdsCsH) + gauche(CsOsCdSs) + other(R) + group(Cdd-CdSd) + other(R) + group(Ss-CdH) + gauche(Ss(RR)) + other(R)\n",
       "+ group(Ss-CsCs) + other(R) + radical(SJ-Cd)\"\"\"), molecule=[Molecule(SMILES=\"CC(=C=S)CC=C(C)[S]\"), Molecule(SMILES=\"CC(=S)[CH]CC(C)=C=S\")])"
      ]
     },
     "metadata": {},
     "output_type": "display_data"
    },
    {
     "name": "stdout",
     "output_type": "stream",
     "text": [
      "Group additivity:\n",
      "\tradical\n",
      "\t\tSJ-Cd = 1\n",
      "\tgauche\n",
      "\t\tCs(RRRR) = 3\n",
      "\t\tCsOsCdSs = 3\n",
      "\t\tSs(RR) = 1\n",
      "\tgroup\n",
      "\t\tCs-(Cds-Cds)(Cds-Cds)HH = 1\n",
      "\t\tCds-CdsCsSs = 1\n",
      "\t\tSs-CsCs = 1\n",
      "\t\tCds-CdsCsH = 1\n",
      "\t\tCds-CdsCsCs = 1\n",
      "\t\tCs-(Cds-Cds)HHH = 2\n",
      "\t\tCdd-CdSd = 1\n",
      "\t\tSs-CdH = 1\n",
      "\tother\n",
      "\t\tR = 9\n",
      "\n",
      "Uncertainty dG =  3.04138126515  kcal/mol\n",
      "==========\n",
      "C[C](CSC(C)(C)C)C(=S)C(C)(C)C(1429)\n"
     ]
    },
    {
     "data": {
      "image/png": "[encoded data removed]",
      "text/plain": [
       "Species(index=1429, label=\"C[C](CSC(C)(C)C)C(=S)C(C)(C)C\", thermo=NASA(polynomials=[NASAPolynomial(coeffs=[-4.86411,0.198459,-0.000200893,1.10919e-07,-2.51216e-11,-11595.8,51.7986], Tmin=(100,'K'), Tmax=(1056.51,'K')), NASAPolynomial(coeffs=[25.8506,0.0821723,-3.57939e-05,6.74089e-09,-4.70189e-13,-18086,-98.0709], Tmin=(1056.51,'K'), Tmax=(5000,'K'))], Tmin=(100,'K'), Tmax=(5000,'K'), comment=\"\"\"Thermo group additivity estimation: group(Cs-(Cds-Cds)CsCsCs) + gauche(Cs(CsCsCsR)) + other(R) + group(Cs-CsCsCsSs) + gauche(Cs(RRRR)) + other(R) +\n",
       "group(Cs-CsHHH) + gauche(Cs(Cs(CsCsR)RRR)) + other(R) + group(Cs-CsHHH) + gauche(Cs(Cs(CsCsR)RRR)) + other(R) + group(Cs-CsHHH) +\n",
       "gauche(Cs(Cs(CsCsR)RRR)) + other(R) + group(Cs-CdsSsHH) + gauche(Cs(RRRR)) + other(R) + group(Cs-CsHHH) + gauche(Cs(CsRRR)) + other(R) + group(Cs-\n",
       "CsHHH) + gauche(Cs(CsRRR)) + other(R) + group(Cs-CsHHH) + gauche(Cs(CsRRR)) + other(R) + group(Cs-(Cds-Cds)HHH) + gauche(Cs(RRRR)) + other(R) + group\n",
       "(Cds-CdsCsCs) + gauche(Cd(CsCs)) + other(R) + group(Cds-CdsCsSs) + gauche(CsOsCdSs) + other(R) + group(Ss-CsCs) + gauche(Ss(CsCs)) + other(R) + group\n",
       "(Ss-CdH) + gauche(Ss(RR)) + other(R) + radical(SJ-Cd)\"\"\"), molecule=[Molecule(SMILES=\"CC(CSC(C)(C)C)=C([S])C(C)(C)C\"), Molecule(SMILES=\"C[C](CSC(C)(C)C)C(=S)C(C)(C)C\")])"
      ]
     },
     "metadata": {},
     "output_type": "display_data"
    },
    {
     "name": "stdout",
     "output_type": "stream",
     "text": [
      "Group additivity:\n",
      "\tradical\n",
      "\t\tSJ-Cd = 1\n",
      "\tgauche\n",
      "\t\tCs(CsRRR) = 3\n",
      "\t\tSs(CsCs) = 1\n",
      "\t\tSs(RR) = 1\n",
      "\t\tCsOsCdSs = 1\n",
      "\t\tCs(Cs(CsCsR)RRR) = 3\n",
      "\t\tCs(RRRR) = 3\n",
      "\t\tCd(CsCs) = 1\n",
      "\t\tCs(CsCsCsR) = 1\n",
      "\tgroup\n",
      "\t\tCs-CdsSsHH = 1\n",
      "\t\tCs-(Cds-Cds)CsCsCs = 1\n",
      "\t\tSs-CsCs = 1\n",
      "\t\tCs-(Cds-Cds)HHH = 1\n",
      "\t\tCds-CdsCsSs = 1\n",
      "\t\tCs-CsCsCsSs = 1\n",
      "\t\tCs-CsHHH = 5\n",
      "\tother\n",
      "\t\tR = 14\n",
      "\n",
      "Uncertainty dG =  4.30116263352  kcal/mol\n",
      "==========\n",
      "CC12CC[C](C1)SC2=S(2830)\n"
     ]
    },
    {
     "data": {
      "image/png": "[encoded data removed]",
      "text/plain": [
       "Species(index=2830, label=\"CC12CC[C](C1)SC2=S\", thermo=NASA(polynomials=[NASAPolynomial(coeffs=[-0.627812,0.0989427,-9.06881e-05,4.24351e-08,-8.02316e-12,18065.3,-1.66999], Tmin=(100,'K'), Tmax=(1258.25,'K')), NASAPolynomial(coeffs=[18.9212,0.036796,-1.66012e-05,3.18118e-09,-2.23876e-13,13145.8,-100.474], Tmin=(1258.25,'K'), Tmax=(5000,'K'))], Tmin=(100,'K'), Tmax=(5000,'K'), comment=\"\"\"Thermo group additivity estimation: group(Cs-C=SCsCsCs) + other(R) + group(Cs-CsCsSsH) + other(R) + group(Cs-CsCsHH) + other(R) + group(Cs-CsCsHH) +\n",
       "other(R) + group(Cs-CsCsHH) + other(R) + group(Cs-CsHHH) + other(R) + group(C=S-CsSs) + other(R) + group(Ss-C=SCs) + other(R) + group(Sd-Cd) +\n",
       "other(R) + polycyclic(PolycyclicRing) + radical(CsJ-CsCsSs)\"\"\"), molecule=[Molecule(SMILES=\"CC12CC[C](C1)SC2=S\")])"
      ]
     },
     "metadata": {},
     "output_type": "display_data"
    },
    {
     "name": "stdout",
     "output_type": "stream",
     "text": [
      "Group additivity:\n",
      "\tradical\n",
      "\t\tCsJ-CsCsSs = 1\n",
      "\tother\n",
      "\t\tR = 9\n",
      "\tgroup\n",
      "\t\tSd-Cd = 1\n",
      "\t\tCs-C=SCsCsCs = 1\n",
      "\t\tCs-CsCsSsH = 1\n",
      "\t\tCs-CsCsHH = 3\n",
      "\t\tSs-C=SCs = 1\n",
      "\t\tCs-CsHHH = 1\n",
      "\t\tC=S-CsSs = 1\n",
      "\tpolycyclic\n",
      "\t\tPolycyclicRing = 1\n",
      "\n",
      "Uncertainty dG =  2.8939592257  kcal/mol\n",
      "==========\n",
      "C[C](C)CS[S](140)\n"
     ]
    },
    {
     "data": {
      "image/png": "[encoded data removed]",
      "text/plain": [
       "Species(index=140, label=\"C[C](C)CS[S]\", thermo=NASA(polynomials=[NASAPolynomial(coeffs=[1.36484,0.0641955,-8.49968e-05,7.51964e-08,-2.75209e-11,20034.4,26.9867], Tmin=(100,'K'), Tmax=(811.8,'K')), NASAPolynomial(coeffs=[4.21228,0.0390758,-1.80915e-05,3.42497e-09,-2.36183e-13,19937.5,16.0937], Tmin=(811.8,'K'), Tmax=(5000,'K'))], Tmin=(100,'K'), Tmax=(5000,'K'), comment=\"\"\"Thermo group additivity estimation: group(Cs-CsCsCsH) + gauche(Cs(CsCsCsR)) + other(R) + group(Cs-CsSsHH) + gauche(Cs(RRRR)) + other(R) + group(Cs-\n",
       "CsHHH) + gauche(Cs(Cs(CsCsR)RRR)) + other(R) + group(Cs-CsHHH) + gauche(Cs(Cs(CsCsR)RRR)) + other(R) + group(Ss-SsCs) + gauche(Ss(RR)) + other(R) +\n",
       "group(Ss-SsH) + gauche(Ss(RR)) + other(R) + radical(SJ-Ss-Cs) + radical(Tertalkyl)\"\"\"), molecule=[Molecule(SMILES=\"C[C](C)CS[S]\")])"
      ]
     },
     "metadata": {},
     "output_type": "display_data"
    },
    {
     "name": "stdout",
     "output_type": "stream",
     "text": [
      "Group additivity:\n",
      "\tradical\n",
      "\t\tSJ-Ss-Cs = 1\n",
      "\t\tTertalkyl = 1\n",
      "\tgauche\n",
      "\t\tSs(RR) = 2\n",
      "\t\tCs(CsCsCsR) = 1\n",
      "\t\tCs(Cs(CsCsR)RRR) = 2\n",
      "\t\tCs(RRRR) = 1\n",
      "\tgroup\n",
      "\t\tCs-CsHHH = 1\n",
      "\t\tSs-SsH = 1\n",
      "\t\tCs-CsCsCsH = 1\n",
      "\t\tSs-SsCs = 1\n",
      "\t\tCs-CsSsHH = 1\n",
      "\tother\n",
      "\t\tR = 6\n",
      "\n",
      "Uncertainty dG =  2.35849528301  kcal/mol\n",
      "==========\n",
      "CC=C1[CH]C(C)=C(S)S1(3586)\n"
     ]
    },
    {
     "data": {
      "image/png": "[encoded data removed]",
      "text/plain": [
       "Species(index=3586, label=\"CC=C1[CH]C(C)=C(S)S1\", thermo=NASA(polynomials=[NASAPolynomial(coeffs=[-0.428865,0.0778771,-2.21975e-05,-3.98432e-08,2.43557e-11,18318.1,29.3441], Tmin=(100,'K'), Tmax=(953.32,'K')), NASAPolynomial(coeffs=[24.6875,0.0200089,-5.90929e-06,1.04946e-09,-7.87488e-14,11370.1,-101.952], Tmin=(953.32,'K'), Tmax=(5000,'K'))], Tmin=(100,'K'), Tmax=(5000,'K'), comment=\"\"\"Thermo group additivity estimation: group(Cs-(Cds-Cds)CsHH) + other(R) + group(Cs-CsHHH) + other(R) + group(Cs-(Cds-Cds)HHH) + other(R) + group(Cds-\n",
       "Cds(Cds-Cds)Cs) + other(R) + group(Cds-CdsCsSs) + other(R) + group(Cds-Cds(Cds-Cds)H) + other(R) + group(Cds-CdsCsCs) + other(R) + group(Ss-CdCd) +\n",
       "other(R) + group(Ss-CdH) + other(R) + ring(thiophene) + radical(Allyl_S)\"\"\"), molecule=[Molecule(SMILES=\"C[CH]C1=CC(C)=C(S)S1\"), Molecule(SMILES=\"CC=C1[CH]C(C)=C(S)S1\"), Molecule(SMILES=\"CC=C1C=C(C)[C](S)S1\")])"
      ]
     },
     "metadata": {},
     "output_type": "display_data"
    },
    {
     "name": "stdout",
     "output_type": "stream",
     "text": [
      "Group additivity:\n",
      "\tradical\n",
      "\t\tAllyl_S = 1\n",
      "\tring\n",
      "\t\tthiophene = 1\n",
      "\tother\n",
      "\t\tR = 9\n",
      "\tgroup\n",
      "\t\tSs-CdCd = 1\n",
      "\t\tCds-Cds(Cds-Cds)H = 1\n",
      "\t\tCds-CdsCsSs = 1\n",
      "\t\tCs-(Cds-Cds)CsHH = 1\n",
      "\t\tCds-CdsCsCs = 1\n",
      "\t\tCs-(Cds-Cds)HHH = 1\n",
      "\t\tCs-CsHHH = 1\n",
      "\t\tSs-CdH = 1\n",
      "\n",
      "Uncertainty dG =  2.8173569174  kcal/mol\n",
      "==========\n",
      "[CH2]C1CC2C=C1SC=2[S](5788)\n"
     ]
    },
    {
     "data": {
      "image/png": "[encoded data removed]",
      "text/plain": [
       "Species(index=5788, label=\"[CH2]C1CC2C=C1SC=2[S]\", thermo=NASA(polynomials=[NASAPolynomial(coeffs=[-0.69632,0.0906669,-8.81342e-05,4.26251e-08,-8.03193e-12,49769.2,0.415109], Tmin=(100,'K'), Tmax=(1300.53,'K')), NASAPolynomial(coeffs=[22.0341,0.0207548,-7.49841e-06,1.28981e-09,-8.59896e-14,43857,-115.219], Tmin=(1300.53,'K'), Tmax=(5000,'K'))], Tmin=(100,'K'), Tmax=(5000,'K'), comment=\"\"\"Thermo group additivity estimation: group(Cs-CsCsCsH) + other(R) + group(Cs-CdsCsSsH) + other(R) + group(Cs-(Cds-Cds)CsHH) + other(R) + group(Cs-\n",
       "CsHHH) + other(R) + group(Cds-CdsC=SCs) + other(R) + group(Cds-CdsCsH) + other(R) + group(C=S-CsSs) + other(R) + group(Ss-C=SCs) + other(R) + group\n",
       "(Sd-Cd) + other(R) + polycyclic(PolycyclicRing) + radical(CsJ-CsCdSs) + radical(Isobutyl)\"\"\"), molecule=[Molecule(SMILES=\"[CH2]C1CC2=C[C]1SC2=S\"), Molecule(SMILES=\"[CH2]C1C[C]2C=C1SC2=S\"), Molecule(SMILES=\"[CH2]C1CC2C=C1SC=2[S]\")])"
      ]
     },
     "metadata": {},
     "output_type": "display_data"
    },
    {
     "name": "stdout",
     "output_type": "stream",
     "text": [
      "Group additivity:\n",
      "\tradical\n",
      "\t\tCsJ-CsCdSs = 1\n",
      "\t\tIsobutyl = 1\n",
      "\tother\n",
      "\t\tR = 9\n",
      "\tgroup\n",
      "\t\tC=S-CsSs = 1\n",
      "\t\tCs-(Cds-Cds)CsHH = 1\n",
      "\t\tCs-CdsCsSsH = 1\n",
      "\t\tCs-CsCsCsH = 1\n",
      "\t\tSs-C=SCs = 1\n",
      "\t\tCds-CdsCsH = 1\n",
      "\t\tCds-CdsC=SCs = 1\n",
      "\tpolycyclic\n",
      "\t\tPolycyclicRing = 1\n",
      "\n",
      "Uncertainty dG =  2.8173569174  kcal/mol\n",
      "==========\n",
      "[CH2]C(C)(C)SC(C)(C)C(23)\n"
     ]
    },
    {
     "data": {
      "image/png": "[encoded data removed]",
      "text/plain": [
       "Species(index=23, label=\"[CH2]C(C)(C)SC(C)(C)C\", thermo=NASA(polynomials=[NASAPolynomial(coeffs=[-1.83834,0.118548,-9.75067e-05,4.2099e-08,-7.37972e-12,-1959.2,36.3515], Tmin=(100,'K'), Tmax=(1352.54,'K')), NASAPolynomial(coeffs=[22.0785,0.0478163,-1.90639e-05,3.43467e-09,-2.33111e-13,-8428.89,-86.2557], Tmin=(1352.54,'K'), Tmax=(5000,'K'))], Tmin=(100,'K'), Tmax=(5000,'K'), comment=\"\"\"Thermo group additivity estimation: group(Cs-CsCsCsSs) + gauche(Cs(RRRR)) + other(R) + group(Cs-CsCsCsSs) + gauche(Cs(RRRR)) + other(R) + group(Cs-\n",
       "CsHHH) + gauche(Cs(CsRRR)) + other(R) + group(Cs-CsHHH) + gauche(Cs(CsRRR)) + other(R) + group(Cs-CsHHH) + gauche(Cs(CsRRR)) + other(R) + group(Cs-\n",
       "CsHHH) + gauche(Cs(CsRRR)) + other(R) + group(Cs-CsHHH) + gauche(Cs(CsRRR)) + other(R) + group(Cs-CsHHH) + gauche(Cs(CsRRR)) + other(R) + group(Ss-\n",
       "CsCs) + gauche(Ss(CsCs)) + int15(Ss(Cs(CsCsCs)Cs(CsCsCs))) + other(R) + radical(Cs_P)\"\"\"), molecule=[Molecule(SMILES=\"[CH2]C(C)(C)SC(C)(C)C\")])"
      ]
     },
     "metadata": {},
     "output_type": "display_data"
    },
    {
     "name": "stdout",
     "output_type": "stream",
     "text": [
      "Group additivity:\n",
      "\tint15\n",
      "\t\tSs(Cs(CsCsCs)Cs(CsCsCs)) = 1\n",
      "\tradical\n",
      "\t\tCs_P = 1\n",
      "\tgauche\n",
      "\t\tSs(CsCs) = 1\n",
      "\t\tCs(RRRR) = 2\n",
      "\t\tCs(CsRRR) = 6\n",
      "\tgroup\n",
      "\t\tCs-CsCsCsSs = 2\n",
      "\t\tCs-CsHHH = 4\n",
      "\tother\n",
      "\t\tR = 9\n",
      "\n",
      "Uncertainty dG =  3.35410196625  kcal/mol\n",
      "==========\n",
      "C=CC1=CC(C)=C(SC[C](C)C)S1(5365)\n"
     ]
    },
    {
     "data": {
      "image/png": "[encoded data removed]",
      "text/plain": [
       "Species(index=5365, label=\"C=CC1=CC(C)=C(SC[C](C)C)S1\", thermo=NASA(polynomials=[NASAPolynomial(coeffs=[-3.22976,0.151181,-0.000147038,7.45979e-08,-1.51303e-11,25351.9,46.5761], Tmin=(100,'K'), Tmax=(1191.46,'K')), NASAPolynomial(coeffs=[26.7494,0.0505341,-2.03278e-05,3.69842e-09,-2.53669e-13,18208.1,-103.307], Tmin=(1191.46,'K'), Tmax=(5000,'K'))], Tmin=(100,'K'), Tmax=(5000,'K'), comment=\"\"\"Thermo group additivity estimation: group(Cs-CsCsCsH) + other(R) + group(Cs-CsSsHH) + other(R) + group(Cs-CsHHH) + other(R) + group(Cs-CsHHH) +\n",
       "other(R) + group(Cs-(Cds-Cds)HHH) + other(R) + group(Cds-Cds(Cds-Cds)Cs) + other(R) + group(Cds-CdsCsCs) + other(R) + group(Cds-CdsCsCs) + other(R) +\n",
       "group(Cds-Cds(Cds-Cds)H) + other(R) + group(Cds-Cds(Cds-Cds)H) + other(R) + group(Cds-CdsHH) + other(R) + group(Ss-CsCd) + other(R) + group(Ss-CdCd) +\n",
       "other(R) + ring(thiophene) + radical(Tertalkyl)\"\"\"), molecule=[Molecule(SMILES=\"C=CC1=CC(C)=C(SC[C](C)C)S1\")])"
      ]
     },
     "metadata": {},
     "output_type": "display_data"
    },
    {
     "name": "stdout",
     "output_type": "stream",
     "text": [
      "Group additivity:\n",
      "\tradical\n",
      "\t\tTertalkyl = 1\n",
      "\tring\n",
      "\t\tthiophene = 1\n",
      "\tother\n",
      "\t\tR = 13\n",
      "\tgroup\n",
      "\t\tSs-CdCd = 1\n",
      "\t\tCs-(Cds-Cds)HHH = 1\n",
      "\t\tCds-CdsHH = 1\n",
      "\t\tCs-CsSsHH = 1\n",
      "\t\tCds-Cds(Cds-Cds)H = 2\n",
      "\t\tCs-CsCsCsH = 1\n",
      "\t\tCds-Cds(Cds-Cds)Cs = 1\n",
      "\t\tCds-CdsCsCs = 2\n",
      "\t\tCs-CsHHH = 2\n",
      "\t\tSs-CsCd = 1\n",
      "\n",
      "Uncertainty dG =  3.75832409459  kcal/mol\n",
      "==========\n",
      "C=C1CC[C]1CSSC(C)(C)C(1885)\n"
     ]
    },
    {
     "data": {
      "image/png": "[encoded data removed]",
      "text/plain": [
       "Species(index=1885, label=\"C=C1CC[C]1CSSC(C)(C)C\", thermo=NASA(polynomials=[NASAPolynomial(coeffs=[8.1848,0.0616996,5.79157e-05,-8.83468e-08,2.13398e-11,15396.9,-1.70438], Tmin=(100,'K'), Tmax=(1803.36,'K')), NASAPolynomial(coeffs=[105.731,0.0320129,-7.26667e-05,1.73289e-08,-1.26764e-12,-50140.5,-613.99], Tmin=(1803.36,'K'), Tmax=(5000,'K'))], Tmin=(100,'K'), Tmax=(5000,'K'), comment=\"\"\"Thermo group additivity estimation: group(Cs-CsCsCsSs) + other(R) + group(Cs-(Cds-Cds)CsCsH) + other(R) + group(Cs-CsCsHH) + other(R) + group(Cs-(Cds-\n",
       "Cds)CsHH) + other(R) + group(Cs-CsSsHH) + other(R) + group(Cs-CsHHH) + other(R) + group(Cs-CsHHH) + other(R) + group(Cs-CsHHH) + other(R) + group(Cds-\n",
       "CdsCsCs) + other(R) + group(Cds-CdsHH) + other(R) + group(Ss-SsCs) + other(R) + group(Ss-SsCs) + other(R) + ring(methylenecyclobutane) +\n",
       "radical(Allyl_T)\"\"\"), molecule=[Molecule(SMILES=\"C=C1CC[C]1CSSC(C)(C)C\"), Molecule(SMILES=\"[CH2]C1CCC=1CSSC(C)(C)C\")])"
      ]
     },
     "metadata": {},
     "output_type": "display_data"
    },
    {
     "name": "stdout",
     "output_type": "stream",
     "text": [
      "Group additivity:\n",
      "\tradical\n",
      "\t\tAllyl_T = 1\n",
      "\tring\n",
      "\t\tmethylenecyclobutane = 1\n",
      "\tother\n",
      "\t\tR = 12\n",
      "\tgroup\n",
      "\t\tCs-(Cds-Cds)CsCsH = 1\n",
      "\t\tCs-CsCsCsSs = 1\n",
      "\t\tCs-CsCsHH = 1\n",
      "\t\tCds-CdsHH = 1\n",
      "\t\tCs-CsHHH = 3\n",
      "\t\tSs-SsCs = 2\n",
      "\t\tCs-CsSsHH = 1\n",
      "\n",
      "Uncertainty dG =  3.53553390593  kcal/mol\n",
      "==========\n",
      "C[C](C)CSC1=CCC(S)=C(C)C1(3724)\n"
     ]
    },
    {
     "data": {
      "image/png": "[encoded data removed]",
      "text/plain": [
       "Species(index=3724, label=\"C[C](C)CSC1=CCC(S)=C(C)C1\", thermo=NASA(polynomials=[NASAPolynomial(coeffs=[-2.45446,0.150203,-0.000148723,8.60297e-08,-2.12371e-11,21938.9,48.1607], Tmin=(100,'K'), Tmax=(955.2,'K')), NASAPolynomial(coeffs=[14.8336,0.0778052,-3.50302e-05,6.67762e-09,-4.68112e-13,18636.2,-34.4514], Tmin=(955.2,'K'), Tmax=(5000,'K'))], Tmin=(100,'K'), Tmax=(5000,'K'), comment=\"\"\"Thermo group additivity estimation: group(Cs-CsCsCsH) + other(R) + group(Cs-(Cds-Cds)(Cds-Cds)HH) + other(R) + group(Cs-CsSsHH) + other(R) + group(Cs\n",
       "-(Cds-Cds)(Cds-Cds)HH) + other(R) + group(Cs-CsHHH) + other(R) + group(Cs-CsHHH) + other(R) + group(Cs-(Cds-Cds)HHH) + other(R) + group(Cds-CdsCsCs) +\n",
       "other(R) + group(Cds-CdsCsSs) + other(R) + group(Cds-CdsCsSs) + other(R) + group(Cds-CdsCsH) + other(R) + group(Ss-CsCd) + other(R) + group(Ss-CdH) +\n",
       "other(R) + ring(1,4-Cyclohexadiene) + radical(Tertalkyl)\"\"\"), molecule=[Molecule(SMILES=\"C[C](C)CSC1=CCC(S)=C(C)C1\")])"
      ]
     },
     "metadata": {},
     "output_type": "display_data"
    },
    {
     "name": "stdout",
     "output_type": "stream",
     "text": [
      "Group additivity:\n",
      "\tradical\n",
      "\t\tTertalkyl = 1\n",
      "\tring\n",
      "\t\t1,4-Cyclohexadiene = 1\n",
      "\tother\n",
      "\t\tR = 13\n",
      "\tgroup\n",
      "\t\tCs-(Cds-Cds)(Cds-Cds)HH = 1\n",
      "\t\tCds-CdsCsSs = 2\n",
      "\t\tCs-CsSsHH = 1\n",
      "\t\tCds-CdsCsH = 1\n",
      "\t\tCs-CsCsCsH = 1\n",
      "\t\tCs-(Cds-Cds)HHH = 1\n",
      "\t\tCds-CdsCsCs = 1\n",
      "\t\tSs-CdH = 1\n",
      "\t\tCs-CsHHH = 2\n",
      "\t\tSs-CsCd = 1\n",
      "\n",
      "Uncertainty dG =  3.73329613077  kcal/mol\n",
      "==========\n",
      "C=C(C[S])CSC(C)(C)C(763)\n"
     ]
    },
    {
     "data": {
      "image/png": "[encoded data removed]",
      "text/plain": [
       "Species(index=763, label=\"C=C(C[S])CSC(C)(C)C\", thermo=NASA(polynomials=[NASAPolynomial(coeffs=[-2.85057,0.157259,-0.00020727,1.48839e-07,-4.27787e-11,8861.37,38.29], Tmin=(100,'K'), Tmax=(851.31,'K')), NASAPolynomial(coeffs=[19.4713,0.0523764,-2.24689e-05,4.12085e-09,-2.80158e-13,5060.79,-65.807], Tmin=(851.31,'K'), Tmax=(5000,'K'))], Tmin=(100,'K'), Tmax=(5000,'K'), comment=\"\"\"Thermo group additivity estimation: group(Cs-CsCsCsSs) + gauche(Cs(RRRR)) + other(R) + group(Cs-CdsSsHH) + gauche(Cs(RRRR)) + other(R) + group(Cs-\n",
       "CsHHH) + gauche(Cs(CsRRR)) + other(R) + group(Cs-CsHHH) + gauche(Cs(CsRRR)) + other(R) + group(Cs-CsHHH) + gauche(Cs(CsRRR)) + other(R) + group(Cs-\n",
       "CdsSsHH) + gauche(Cs(RRRR)) + other(R) + group(Cds-CdsCsCs) + gauche(Cd(CsCs)) + other(R) + group(Cds-CdsHH) + gauche(CsOsCdSs) + other(R) + group(Ss-\n",
       "CsCs) + gauche(Ss(CsCs)) + other(R) + group(Ss-CsH) + gauche(Ss(CsH)) + other(R) + radical(SJ-Cs)\"\"\"), molecule=[Molecule(SMILES=\"C=C(C[S])CSC(C)(C)C\")])"
      ]
     },
     "metadata": {},
     "output_type": "display_data"
    },
    {
     "name": "stdout",
     "output_type": "stream",
     "text": [
      "Group additivity:\n",
      "\tradical\n",
      "\t\tSJ-Cs = 1\n",
      "\tgauche\n",
      "\t\tCs(CsRRR) = 3\n",
      "\t\tSs(CsH) = 1\n",
      "\t\tCs(RRRR) = 3\n",
      "\t\tCsOsCdSs = 1\n",
      "\t\tSs(CsCs) = 1\n",
      "\t\tCd(CsCs) = 1\n",
      "\tgroup\n",
      "\t\tCs-CdsSsHH = 1\n",
      "\t\tCs-CsCsCsSs = 1\n",
      "\t\tCds-CdsHH = 1\n",
      "\t\tSs-CsH = 1\n",
      "\t\tCds-CdsCsCs = 1\n",
      "\t\tCs-CsHHH = 2\n",
      "\tother\n",
      "\t\tR = 10\n",
      "\n",
      "Uncertainty dG =  3.2403703492  kcal/mol\n",
      "==========\n",
      "CC1CC2(S)[CH]CC=1S2(4122)\n"
     ]
    },
    {
     "data": {
      "image/png": "[encoded data removed]",
      "text/plain": [
       "Species(index=4122, label=\"CC1CC2(S)[CH]CC=1S2\", thermo=NASA(polynomials=[NASAPolynomial(coeffs=[-1.62466,0.132026,-0.000191222,1.48437e-07,-4.60691e-11,24322.2,-0.545025], Tmin=(100,'K'), Tmax=(789.34,'K')), NASAPolynomial(coeffs=[16.1472,0.0419561,-2.00384e-05,3.83958e-09,-2.66733e-13,21516.9,-82.0776], Tmin=(789.34,'K'), Tmax=(5000,'K'))], Tmin=(100,'K'), Tmax=(5000,'K'), comment=\"\"\"Thermo group additivity estimation: group(Cs-CsCsSsSs) + other(R) + group(Cs-CsCsHH) + other(R) + group(Cs-(Cds-Cds)CsHH) + other(R) + group(Cs-(Cds-\n",
       "Cds)CsHH) + other(R) + group(Cs-(Cds-Cds)HHH) + other(R) + group(Cds-CdsCsCs) + other(R) + group(Cds-CdsCsSs) + other(R) + group(Ss-CsCd) + other(R) +\n",
       "group(Ss-CsH) + other(R) + polycyclic(PolycyclicRing) + radical(Cs_S)\"\"\"), molecule=[Molecule(SMILES=\"CC1CC2(S)[CH]CC=1S2\")])"
      ]
     },
     "metadata": {},
     "output_type": "display_data"
    },
    {
     "name": "stdout",
     "output_type": "stream",
     "text": [
      "Group additivity:\n",
      "\tradical\n",
      "\t\tCs_S = 1\n",
      "\tother\n",
      "\t\tR = 9\n",
      "\tgroup\n",
      "\t\tCs-(Cds-Cds)CsHH = 1\n",
      "\t\tCs-CsCsHH = 1\n",
      "\t\tCds-CdsCsCs = 1\n",
      "\t\tSs-CsCd = 1\n",
      "\t\tCs-(Cds-Cds)HHH = 1\n",
      "\t\tCds-CdsCsSs = 1\n",
      "\t\tCs-CsCsSsSs = 1\n",
      "\t\tSs-CsH = 1\n",
      "\tpolycyclic\n",
      "\t\tPolycyclicRing = 1\n",
      "\n",
      "Uncertainty dG =  2.8173569174  kcal/mol\n",
      "==========\n",
      "CC(C)(C)S[S](80)\n"
     ]
    },
    {
     "data": {
      "image/png": "[encoded data removed]",
      "text/plain": [
       "Species(index=80, label=\"CC(C)(C)S[S]\", thermo=NASA(polynomials=[NASAPolynomial(coeffs=[0.812526,0.0659197,-5.71547e-05,2.63457e-08,-4.92612e-12,-5644.8,22.7027], Tmin=(100,'K'), Tmax=(1275.33,'K')), NASAPolynomial(coeffs=[13.5079,0.0261013,-1.03218e-05,1.86433e-09,-1.27101e-13,-8882.97,-41.633], Tmin=(1275.33,'K'), Tmax=(5000,'K'))], Tmin=(100,'K'), Tmax=(5000,'K'), comment=\"\"\"Thermo library: SulfurLibrary + radical(SJ-Ss-Cs)\"\"\"), molecule=[Molecule(SMILES=\"CC(C)(C)S[S]\")])"
      ]
     },
     "metadata": {},
     "output_type": "display_data"
    },
    {
     "name": "stdout",
     "output_type": "stream",
     "text": [
      "Thermo Library:  28\n",
      "Group additivity:\n",
      "\tradical\n",
      "\t\tSJ-Ss-Cs = 1\n",
      "\n",
      "Uncertainty dG =  2.51246890528  kcal/mol\n",
      "==========\n",
      "C[C]1SC2SC1CC=2C(3178)\n"
     ]
    },
    {
     "data": {
      "image/png": "[encoded data removed]",
      "text/plain": [
       "Species(index=3178, label=\"C[C]1SC2SC1CC=2C\", thermo=NASA(polynomials=[NASAPolynomial(coeffs=[-1.48966,0.127157,-0.000172082,1.2271e-07,-3.48505e-11,21974.4,-1.15889], Tmin=(100,'K'), Tmax=(861.63,'K')), NASAPolynomial(coeffs=[17.5914,0.0385799,-1.78865e-05,3.41014e-09,-2.37477e-13,18686.1,-90.3731], Tmin=(861.63,'K'), Tmax=(5000,'K'))], Tmin=(100,'K'), Tmax=(5000,'K'), comment=\"\"\"Thermo group additivity estimation: group(Cs-CsCsSsH) + other(R) + group(Cs-CsCsSsH) + other(R) + group(Cs-(Cds-Cds)CsHH) + other(R) + group(Cs-CsHHH)\n",
       "+ other(R) + group(Cs-(Cds-Cds)HHH) + other(R) + group(Cds-CdsCsCs) + other(R) + group(Cds-CdsCsCs) + other(R) + group(Ss-CsCd) + other(R) + group(Ss-\n",
       "CsCd) + other(R) + polycyclic(PolycyclicRing) + radical(CsJ-CsCsSs)\"\"\"), molecule=[Molecule(SMILES=\"C[C]1SC2SC1CC=2C\")])"
      ]
     },
     "metadata": {},
     "output_type": "display_data"
    },
    {
     "name": "stdout",
     "output_type": "stream",
     "text": [
      "Group additivity:\n",
      "\tradical\n",
      "\t\tCsJ-CsCsSs = 1\n",
      "\tother\n",
      "\t\tR = 9\n",
      "\tgroup\n",
      "\t\tCs-(Cds-Cds)CsHH = 1\n",
      "\t\tCs-CsCsSsH = 2\n",
      "\t\tSs-CsCd = 1\n",
      "\t\tCs-(Cds-Cds)HHH = 1\n",
      "\t\tCds-CdsCsCs = 2\n",
      "\t\tCs-CsHHH = 1\n",
      "\tpolycyclic\n",
      "\t\tPolycyclicRing = 1\n",
      "\n",
      "Uncertainty dG =  2.86138078556  kcal/mol\n",
      "==========\n",
      "C[C](C)CSS(192)\n"
     ]
    },
    {
     "data": {
      "image/png": "[encoded data removed]",
      "text/plain": [
       "Species(index=192, label=\"C[C](C)CSS\", thermo=NASA(polynomials=[NASAPolynomial(coeffs=[0.925658,0.0750036,-0.000104474,9.27239e-08,-3.3559e-11,10291,27.8455], Tmin=(100,'K'), Tmax=(816.07,'K')), NASAPolynomial(coeffs=[4.98038,0.0419992,-1.96751e-05,3.73395e-09,-2.5746e-13,10066.4,11.7867], Tmin=(816.07,'K'), Tmax=(5000,'K'))], Tmin=(100,'K'), Tmax=(5000,'K'), comment=\"\"\"Thermo group additivity estimation: group(Cs-CsCsCsH) + gauche(Cs(CsCsCsR)) + other(R) + group(Cs-CsSsHH) + gauche(Cs(RRRR)) + other(R) + group(Cs-\n",
       "CsHHH) + gauche(Cs(Cs(CsCsR)RRR)) + other(R) + group(Cs-CsHHH) + gauche(Cs(Cs(CsCsR)RRR)) + other(R) + group(Ss-SsCs) + gauche(Ss(RR)) + other(R) +\n",
       "group(Ss-SsH) + gauche(Ss(RR)) + other(R) + radical(Tertalkyl)\"\"\"), molecule=[Molecule(SMILES=\"C[C](C)CSS\")])"
      ]
     },
     "metadata": {},
     "output_type": "display_data"
    },
    {
     "name": "stdout",
     "output_type": "stream",
     "text": [
      "Group additivity:\n",
      "\tradical\n",
      "\t\tTertalkyl = 1\n",
      "\tgauche\n",
      "\t\tSs(RR) = 2\n",
      "\t\tCs(CsCsCsR) = 1\n",
      "\t\tCs(Cs(CsCsR)RRR) = 2\n",
      "\t\tCs(RRRR) = 1\n",
      "\tgroup\n",
      "\t\tCs-CsHHH = 1\n",
      "\t\tSs-SsH = 1\n",
      "\t\tCs-CsCsCsH = 1\n",
      "\t\tSs-SsCs = 1\n",
      "\t\tCs-CsSsHH = 1\n",
      "\tother\n",
      "\t\tR = 6\n",
      "\n",
      "Uncertainty dG =  2.34520787991  kcal/mol\n",
      "==========\n",
      "[S]S(64)\n"
     ]
    },
    {
     "data": {
      "image/png": "[encoded data removed]",
      "text/plain": [
       "Species(index=64, label=\"[S]S\", thermo=NASA(polynomials=[NASAPolynomial(coeffs=[3.7894,0.00325642,2.28866e-06,-5.83064e-09,2.64366e-12,11412.4,8.02162], Tmin=(100,'K'), Tmax=(934.13,'K')), NASAPolynomial(coeffs=[5.03974,0.00139917,-3.44059e-07,5.55926e-11,-4.1379e-15,11026.3,1.25803], Tmin=(934.13,'K'), Tmax=(5000,'K'))], Tmin=(100,'K'), Tmax=(5000,'K'), comment=\"\"\"Thermo library: SulfurLibrary\"\"\"), molecule=[Molecule(SMILES=\"[S]S\")])"
      ]
     },
     "metadata": {},
     "output_type": "display_data"
    },
    {
     "name": "stdout",
     "output_type": "stream",
     "text": [
      "Thermo Library:  29\n",
      "\n",
      "Uncertainty dG =  2.0  kcal/mol\n",
      "==========\n",
      "[CH2]SC(=C)CSC(C)(C)C(792)\n"
     ]
    },
    {
     "data": {
      "image/png": "[encoded data removed]",
      "text/plain": [
       "Species(index=792, label=\"[CH2]SC(=C)CSC(C)(C)C\", thermo=NASA(polynomials=[NASAPolynomial(coeffs=[-3.14399,0.164239,-0.000224818,1.65475e-07,-4.84599e-11,12915.1,40.2826], Tmin=(100,'K'), Tmax=(837.64,'K')), NASAPolynomial(coeffs=[20.5794,0.0509526,-2.19521e-05,4.01761e-09,-2.72115e-13,8940.74,-69.9663], Tmin=(837.64,'K'), Tmax=(5000,'K'))], Tmin=(100,'K'), Tmax=(5000,'K'), comment=\"\"\"Thermo group additivity estimation: group(Cs-CsCsCsSs) + gauche(Cs(RRRR)) + other(R) + group(Cs-CsHHH) + gauche(Cs(CsRRR)) + other(R) + group(Cs-\n",
       "CsHHH) + gauche(Cs(CsRRR)) + other(R) + group(Cs-CsHHH) + gauche(Cs(CsRRR)) + other(R) + group(Cs-CdsSsHH) + gauche(Cs(RRRR)) + other(R) + group(Cs-\n",
       "SsHHH) + gauche(Cs(RRRR)) + other(R) + group(Cds-CdsCsSs) + gauche(CsOsCdSs) + other(R) + group(Cds-CdsHH) + gauche(CsOsCdSs) + other(R) + group(Ss-\n",
       "CsCs) + gauche(Ss(CsCs)) + other(R) + group(Ss-CsCd) + gauche(Ss(CsR)) + other(R) + radical(CsJ-SsHH)\"\"\"), molecule=[Molecule(SMILES=\"[CH2]SC(=C)CSC(C)(C)C\")])"
      ]
     },
     "metadata": {},
     "output_type": "display_data"
    },
    {
     "name": "stdout",
     "output_type": "stream",
     "text": [
      "Group additivity:\n",
      "\tradical\n",
      "\t\tCsJ-SsHH = 1\n",
      "\tgauche\n",
      "\t\tSs(CsCs) = 1\n",
      "\t\tCs(RRRR) = 3\n",
      "\t\tSs(CsR) = 1\n",
      "\t\tCsOsCdSs = 2\n",
      "\t\tCs(CsRRR) = 3\n",
      "\tgroup\n",
      "\t\tCs-CdsSsHH = 1\n",
      "\t\tCs-CsCsCsSs = 1\n",
      "\t\tCds-CdsHH = 1\n",
      "\t\tSs-CsCd = 1\n",
      "\t\tCds-CdsCsSs = 1\n",
      "\t\tCs-CsHHH = 2\n",
      "\tother\n",
      "\t\tR = 10\n",
      "\n",
      "Uncertainty dG =  3.2596012026  kcal/mol\n",
      "==========\n",
      "C=CC1=C[C](CC[C](C)C)C(=S)S1(5744)\n"
     ]
    },
    {
     "data": {
      "image/png": "[encoded data removed]",
      "text/plain": [
       "Species(index=5744, label=\"C=CC1=C[C](CC[C](C)C)C(=S)S1\", thermo=NASA(polynomials=[NASAPolynomial(coeffs=[-2.9795,0.135723,-0.000107291,3.49851e-08,-1.80745e-12,39270.3,48.5685], Tmin=(100,'K'), Tmax=(1056.01,'K')), NASAPolynomial(coeffs=[28.6776,0.0439093,-1.67882e-05,3.04762e-09,-2.11888e-13,31017.6,-113.302], Tmin=(1056.01,'K'), Tmax=(5000,'K'))], Tmin=(100,'K'), Tmax=(5000,'K'), comment=\"\"\"Thermo group additivity estimation: group(Cs-CsCsCsH) + other(R) + group(Cs-CsCsHH) + other(R) + group(Cs-(Cds-Cds)CsHH) + other(R) + group(Cs-CsHHH)\n",
       "+ other(R) + group(Cs-CsHHH) + other(R) + group(Cds-Cds(Cds-Cds)Cs) + other(R) + group(Cds-CdsCsCs) + other(R) + group(Cds-Cds(Cds-Cds)H) + other(R) +\n",
       "group(Cds-CdsCsCs) + other(R) + group(Cds-Cds(Cds-Cds)H) + other(R) + group(Cds-CdsHH) + other(R) + group(Ss-CdCd) + other(R) + group(Ss-CdH) +\n",
       "other(R) + ring(thiophene) + radical(SJ-Cd) + radical(Tertalkyl)\"\"\"), molecule=[Molecule(SMILES=\"C=CC1=CC(CC[C](C)C)=C([S])S1\"), Molecule(SMILES=\"C=CC1=C[C](CC[C](C)C)C(=S)S1\"), Molecule(SMILES=\"C=C[C]1C=C(CC[C](C)C)C(=S)S1\"), Molecule(SMILES=\"[CH2]C=C1C=C(CC[C](C)C)C(=S)S1\")])"
      ]
     },
     "metadata": {},
     "output_type": "display_data"
    },
    {
     "name": "stdout",
     "output_type": "stream",
     "text": [
      "Group additivity:\n",
      "\tradical\n",
      "\t\tSJ-Cd = 1\n",
      "\t\tTertalkyl = 1\n",
      "\tring\n",
      "\t\tthiophene = 1\n",
      "\tother\n",
      "\t\tR = 13\n",
      "\tgroup\n",
      "\t\tSs-CdCd = 1\n",
      "\t\tCs-(Cds-Cds)CsHH = 1\n",
      "\t\tCds-CdsHH = 1\n",
      "\t\tCs-CsCsHH = 1\n",
      "\t\tCds-Cds(Cds-Cds)H = 2\n",
      "\t\tCs-CsCsCsH = 1\n",
      "\t\tCds-Cds(Cds-Cds)Cs = 1\n",
      "\t\tCds-CdsCsCs = 2\n",
      "\t\tCs-CsHHH = 2\n",
      "\t\tSs-CdH = 1\n",
      "\n",
      "Uncertainty dG =  3.76662979333  kcal/mol\n",
      "==========\n",
      "CC1CC(=S)CCC=1[S](3711)\n"
     ]
    },
    {
     "data": {
      "image/png": "[encoded data removed]",
      "text/plain": [
       "Species(index=3711, label=\"CC1CC(=S)CCC=1[S]\", thermo=NASA(polynomials=[NASAPolynomial(coeffs=[0.671416,0.0579229,5.44114e-06,-3.92284e-08,1.59417e-11,24849.9,28.4958], Tmin=(100,'K'), Tmax=(1097.97,'K')), NASAPolynomial(coeffs=[14.6168,0.0412629,-1.84448e-05,3.59734e-09,-2.5832e-13,19729.5,-49.4581], Tmin=(1097.97,'K'), Tmax=(5000,'K'))], Tmin=(100,'K'), Tmax=(5000,'K'), comment=\"\"\"Thermo group additivity estimation: group(Cs-C=SCsHH) + other(R) + group(Cs-(Cds-Cds)CsHH) + other(R) + group(Cs-CsCsHH) + other(R) + group(Cs-(Cds-\n",
       "Cds)HHH) + other(R) + group(Cds-CdsCsCs) + other(R) + group(Cds-CdsCsSs) + other(R) + group(C=S-CsCs) + other(R) + group(Ss-CdH) + other(R) + group\n",
       "(Sd-Cd) + other(R) + ring(Cyclohexane) + radical(SJ-Cd)\"\"\"), molecule=[Molecule(SMILES=\"CC1CC(=S)CCC=1[S]\"), Molecule(SMILES=\"C[C]1CC(=S)CCC1=S\")])"
      ]
     },
     "metadata": {},
     "output_type": "display_data"
    },
    {
     "name": "stdout",
     "output_type": "stream",
     "text": [
      "Group additivity:\n",
      "\tradical\n",
      "\t\tSJ-Cd = 1\n",
      "\tring\n",
      "\t\tCyclohexane = 1\n",
      "\tother\n",
      "\t\tR = 9\n",
      "\tgroup\n",
      "\t\tCs-C=SCsHH = 1\n",
      "\t\tCs-(Cds-Cds)CsHH = 1\n",
      "\t\tCds-CdsCsSs = 1\n",
      "\t\tC=S-CsCs = 1\n",
      "\t\tCds-CdsCsCs = 1\n",
      "\t\tCs-CsCsHH = 1\n",
      "\t\tSs-CdH = 1\n",
      "\n",
      "Uncertainty dG =  2.80624304008  kcal/mol\n",
      "==========\n",
      "[CH2]C1(C)CC(=C)SC1=S(2699)\n"
     ]
    },
    {
     "data": {
      "image/png": "[encoded data removed]",
      "text/plain": [
       "Species(index=2699, label=\"[CH2]C1(C)CC(=C)SC1=S\", thermo=NASA(polynomials=[NASAPolynomial(coeffs=[-0.0543821,0.0694335,-3.93419e-06,-5.08128e-08,2.58135e-11,33910.2,28.0327], Tmin=(100,'K'), Tmax=(977.1,'K')), NASAPolynomial(coeffs=[21.8259,0.026458,-9.49324e-06,1.78636e-09,-1.32005e-13,27410,-88.4027], Tmin=(977.1,'K'), Tmax=(5000,'K'))], Tmin=(100,'K'), Tmax=(5000,'K'), comment=\"\"\"Thermo group additivity estimation: group(Cs-C=SCsCsCs) + other(R) + group(Cs-(Cds-Cds)CsHH) + other(R) + group(Cs-CsHHH) + other(R) + group(Cs-CsHHH)\n",
       "+ other(R) + group(Cds-CdsCsSs) + other(R) + group(C=S-CsSs) + other(R) + group(Cds-CdsHH) + other(R) + group(Ss-C=SCd) + other(R) + group(Sd-Cd) +\n",
       "other(R) + ring(thiolane) + radical(Neopentyl)\"\"\"), molecule=[Molecule(SMILES=\"[CH2]C1(C)CC(=C)SC1=S\")])"
      ]
     },
     "metadata": {},
     "output_type": "display_data"
    },
    {
     "name": "stdout",
     "output_type": "stream",
     "text": [
      "Group additivity:\n",
      "\tradical\n",
      "\t\tNeopentyl = 1\n",
      "\tring\n",
      "\t\tthiolane = 1\n",
      "\tother\n",
      "\t\tR = 9\n",
      "\tgroup\n",
      "\t\tSd-Cd = 1\n",
      "\t\tC=S-CsSs = 1\n",
      "\t\tCs-(Cds-Cds)CsHH = 1\n",
      "\t\tCds-CdsHH = 1\n",
      "\t\tSs-C=SCd = 1\n",
      "\t\tCds-CdsCsSs = 1\n",
      "\t\tCs-CsHHH = 2\n",
      "\t\tCs-C=SCsCsCs = 1\n",
      "\n",
      "Uncertainty dG =  2.85043856275  kcal/mol\n",
      "==========\n",
      "C=C(C)[CH]SC(C)(C)C(135)\n"
     ]
    },
    {
     "data": {
      "image/png": "[encoded data removed]",
      "text/plain": [
       "Species(index=135, label=\"C=C(C)[CH]SC(C)(C)C\", thermo=NASA(polynomials=[NASAPolynomial(coeffs=[-1.64804,0.115956,-0.000102408,4.77346e-08,-8.9872e-12,1926.31,35.5015], Tmin=(100,'K'), Tmax=(1271.15,'K')), NASAPolynomial(coeffs=[21.2656,0.0438535,-1.73252e-05,3.11279e-09,-2.11447e-13,-3899.11,-80.5416], Tmin=(1271.15,'K'), Tmax=(5000,'K'))], Tmin=(100,'K'), Tmax=(5000,'K'), comment=\"\"\"Thermo group additivity estimation: group(Cs-CsCsCsSs) + gauche(Cs(RRRR)) + other(R) + group(Cs-CdsSsHH) + gauche(Cs(RRRR)) + other(R) + group(Cs-\n",
       "CsHHH) + gauche(Cs(CsRRR)) + other(R) + group(Cs-CsHHH) + gauche(Cs(CsRRR)) + other(R) + group(Cs-CsHHH) + gauche(Cs(CsRRR)) + other(R) + group(Cs\n",
       "-(Cds-Cds)HHH) + gauche(Cs(RRRR)) + other(R) + group(Cds-CdsCsCs) + gauche(Cd(CsCs)) + other(R) + group(Cds-CdsHH) + gauche(CsOsCdSs) + other(R) +\n",
       "group(Ss-CsCs) + gauche(Ss(CsCs)) + other(R) + radical(CsJ-CdSsH)\"\"\"), molecule=[Molecule(SMILES=\"C=C(C)[CH]SC(C)(C)C\"), Molecule(SMILES=\"[CH2]C(C)=CSC(C)(C)C\")])"
      ]
     },
     "metadata": {},
     "output_type": "display_data"
    },
    {
     "name": "stdout",
     "output_type": "stream",
     "text": [
      "Group additivity:\n",
      "\tradical\n",
      "\t\tCsJ-CdSsH = 1\n",
      "\tgauche\n",
      "\t\tSs(CsCs) = 1\n",
      "\t\tCs(RRRR) = 3\n",
      "\t\tCsOsCdSs = 1\n",
      "\t\tCd(CsCs) = 1\n",
      "\t\tCs(CsRRR) = 3\n",
      "\tgroup\n",
      "\t\tCs-CdsSsHH = 1\n",
      "\t\tCs-CsCsCsSs = 1\n",
      "\t\tCds-CdsHH = 1\n",
      "\t\tSs-CsCs = 1\n",
      "\t\tCds-CdsCsCs = 1\n",
      "\t\tCs-CsHHH = 2\n",
      "\tother\n",
      "\t\tR = 9\n",
      "\n",
      "Uncertainty dG =  3.04138126515  kcal/mol\n",
      "==========\n",
      "[CH2]C(C)(S)CSC(C)(C)C(147)\n"
     ]
    },
    {
     "data": {
      "image/png": "[encoded data removed]",
      "text/plain": [
       "Species(index=147, label=\"[CH2]C(C)(S)CSC(C)(C)C\", thermo=NASA(polynomials=[NASAPolynomial(coeffs=[-2.19624,0.141208,-0.000148207,8.72233e-08,-2.12382e-11,-174.084,42.1097], Tmin=(100,'K'), Tmax=(983.11,'K')), NASAPolynomial(coeffs=[17.3095,0.0618431,-2.71118e-05,5.10467e-09,-3.55492e-13,-4009.28,-51.6617], Tmin=(983.11,'K'), Tmax=(5000,'K'))], Tmin=(100,'K'), Tmax=(5000,'K'), comment=\"\"\"Thermo group additivity estimation: group(Cs-CsCsCsSs) + gauche(Cs(RRRR)) + other(R) + group(Cs-CsCsCsSs) + gauche(Cs(RRRR)) + other(R) + group(Cs-\n",
       "CsSsHH) + gauche(Cs(RRRR)) + other(R) + group(Cs-CsHHH) + gauche(Cs(CsRRR)) + other(R) + group(Cs-CsHHH) + gauche(Cs(CsRRR)) + other(R) + group(Cs-\n",
       "CsHHH) + gauche(Cs(CsRRR)) + other(R) + group(Cs-CsHHH) + gauche(Cs(CsRRR)) + other(R) + group(Cs-CsHHH) + gauche(Cs(CsRRR)) + other(R) + group(Ss-\n",
       "CsCs) + gauche(Ss(CsCs)) + other(R) + group(Ss-CsH) + gauche(Ss(CsH)) + other(R) + radical(Cs_P)\"\"\"), molecule=[Molecule(SMILES=\"[CH2]C(C)(S)CSC(C)(C)C\")])"
      ]
     },
     "metadata": {},
     "output_type": "display_data"
    },
    {
     "name": "stdout",
     "output_type": "stream",
     "text": [
      "Group additivity:\n",
      "\tradical\n",
      "\t\tCs_P = 1\n",
      "\tgauche\n",
      "\t\tSs(CsCs) = 1\n",
      "\t\tCs(RRRR) = 3\n",
      "\t\tSs(CsH) = 1\n",
      "\t\tCs(CsRRR) = 5\n",
      "\tgroup\n",
      "\t\tCs-CsCsCsSs = 2\n",
      "\t\tCs-CsHHH = 4\n",
      "\t\tSs-CsH = 1\n",
      "\tother\n",
      "\t\tR = 10\n",
      "\n",
      "Uncertainty dG =  3.4820970693  kcal/mol\n",
      "==========\n",
      "[CH2]C1CC(S)=CCC=1S(3678)\n"
     ]
    },
    {
     "data": {
      "image/png": "[encoded data removed]",
      "text/plain": [
       "Species(index=3678, label=\"[CH2]C1CC(S)=CCC=1S\", thermo=NASA(polynomials=[NASAPolynomial(coeffs=[0.199453,0.0656921,-1.6687e-06,-4.2094e-08,1.92947e-11,28265.1,30.042], Tmin=(100,'K'), Tmax=(1043.78,'K')), NASAPolynomial(coeffs=[18.4118,0.0355363,-1.52949e-05,2.99111e-09,-2.17749e-13,22303.9,-68.9456], Tmin=(1043.78,'K'), Tmax=(5000,'K'))], Tmin=(100,'K'), Tmax=(5000,'K'), comment=\"\"\"Thermo group additivity estimation: group(Cs-CdsCsSsH) + other(R) + group(Cs-(Cds-Cds)CsHH) + other(R) + group(Cs-(Cds-Cds)(Cds-Cds)HH) + other(R) +\n",
       "group(Cds-CdsCsCs) + other(R) + group(Cds-CdsCsSs) + other(R) + group(Cds-CdsCsH) + other(R) + group(Cds-CdsHH) + other(R) + group(Ss-CsH) + other(R)\n",
       "+ group(Ss-CdH) + other(R) + ring(Cyclohexane) + radical(CsJ-CsCdSs)\"\"\"), molecule=[Molecule(SMILES=\"C=C1CC(S)=CC[C]1S\"), Molecule(SMILES=\"[CH2]C1CC(S)=CCC=1S\")])"
      ]
     },
     "metadata": {},
     "output_type": "display_data"
    },
    {
     "name": "stdout",
     "output_type": "stream",
     "text": [
      "Group additivity:\n",
      "\tradical\n",
      "\t\tCsJ-CsCdSs = 1\n",
      "\tring\n",
      "\t\tCyclohexane = 1\n",
      "\tother\n",
      "\t\tR = 9\n",
      "\tgroup\n",
      "\t\tCs-(Cds-Cds)(Cds-Cds)HH = 1\n",
      "\t\tCds-CdsHH = 1\n",
      "\t\tCds-CdsCsSs = 1\n",
      "\t\tCs-CdsCsSsH = 1\n",
      "\t\tCs-(Cds-Cds)CsHH = 1\n",
      "\t\tCds-CdsCsH = 1\n",
      "\t\tCds-CdsCsCs = 1\n",
      "\t\tSs-CdH = 1\n",
      "\t\tSs-CsH = 1\n",
      "\n",
      "Uncertainty dG =  2.82842712475  kcal/mol\n",
      "==========\n",
      "[CH2]C(C)(C)SS(100)\n"
     ]
    },
    {
     "data": {
      "image/png": "[encoded data removed]",
      "text/plain": [
       "Species(index=100, label=\"[CH2]C(C)(C)SS\", thermo=NASA(polynomials=[NASAPolynomial(coeffs=[0.641628,0.074684,-7.71672e-05,4.30696e-08,-9.77119e-12,9284.55,25.4881], Tmin=(100,'K'), Tmax=(1060.09,'K')), NASAPolynomial(coeffs=[12.7775,0.0288924,-1.23737e-05,2.3227e-09,-1.61933e-13,6711.51,-33.7686], Tmin=(1060.09,'K'), Tmax=(5000,'K'))], Tmin=(100,'K'), Tmax=(5000,'K'), comment=\"\"\"Thermo library: SulfurLibrary + radical(Cs_P)\"\"\"), molecule=[Molecule(SMILES=\"[CH2]C(C)(C)SS\")])"
      ]
     },
     "metadata": {},
     "output_type": "display_data"
    },
    {
     "name": "stdout",
     "output_type": "stream",
     "text": [
      "Thermo Library:  28\n",
      "Group additivity:\n",
      "\tradical\n",
      "\t\tCs_P = 1\n",
      "\n",
      "Uncertainty dG =  2.51246890528  kcal/mol\n",
      "==========\n",
      "CC1[CH]C2(CC2)SC=1S(4746)\n"
     ]
    },
    {
     "data": {
      "image/png": "[encoded data removed]",
      "text/plain": [
       "Species(index=4746, label=\"CC1[CH]C2(CC2)SC=1S\", thermo=NASA(polynomials=[NASAPolynomial(coeffs=[-1.32978,0.115674,-0.000129119,7.33109e-08,-1.646e-11,17843.8,-3.43037], Tmin=(100,'K'), Tmax=(1085.35,'K')), NASAPolynomial(coeffs=[21.2521,0.0324499,-1.40993e-05,2.66074e-09,-1.86348e-13,12942,-114.224], Tmin=(1085.35,'K'), Tmax=(5000,'K'))], Tmin=(100,'K'), Tmax=(5000,'K'), comment=\"\"\"Thermo group additivity estimation: group(Cs-CsCsCsSs) + other(R) + group(Cs-CsCsHH) + other(R) + group(Cs-CsCsHH) + other(R) + group(Cs-(Cds-\n",
       "Cds)CsHH) + other(R) + group(Cs-(Cds-Cds)HHH) + other(R) + group(Cds-CdsCsCs) + other(R) + group(Cds-CdsCsCs) + other(R) + group(Ss-CsCd) + other(R) +\n",
       "group(Ss-CdH) + other(R) + polycyclic(PolycyclicRing) + radical(Allyl_S)\"\"\"), molecule=[Molecule(SMILES=\"CC1[CH]C2(CC2)SC=1S\"), Molecule(SMILES=\"CC1=CC2(CC2)S[C]1S\")])"
      ]
     },
     "metadata": {},
     "output_type": "display_data"
    },
    {
     "name": "stdout",
     "output_type": "stream",
     "text": [
      "Group additivity:\n",
      "\tradical\n",
      "\t\tAllyl_S = 1\n",
      "\tother\n",
      "\t\tR = 9\n",
      "\tgroup\n",
      "\t\tCs-CsCsCsSs = 1\n",
      "\t\tSs-CsCd = 1\n",
      "\t\tSs-CdH = 1\n",
      "\t\tCds-CdsCsCs = 2\n",
      "\t\tCs-(Cds-Cds)HHH = 1\n",
      "\t\tCs-CsCsHH = 2\n",
      "\tpolycyclic\n",
      "\t\tPolycyclicRing = 1\n",
      "\n",
      "Uncertainty dG =  2.86138078556  kcal/mol\n",
      "==========\n",
      "C=C(C)[C]1SCC(C)(C)S1(1099)\n"
     ]
    },
    {
     "data": {
      "image/png": "[encoded data removed]",
      "text/plain": [
       "Species(index=1099, label=\"C=C(C)[C]1SCC(C)(C)S1\", thermo=NASA(polynomials=[NASAPolynomial(coeffs=[-1.36334,0.0975171,-3.67028e-05,-2.77158e-08,1.88389e-11,11888.2,33.9321], Tmin=(100,'K'), Tmax=(996.46,'K')), NASAPolynomial(coeffs=[24.916,0.037223,-1.39766e-05,2.59836e-09,-1.86713e-13,4407.03,-104.017], Tmin=(996.46,'K'), Tmax=(5000,'K'))], Tmin=(100,'K'), Tmax=(5000,'K'), comment=\"\"\"Thermo group additivity estimation: group(Cs-CsCsCsSs) + other(R) + group(Cs-CsSsHH) + other(R) + group(Cs-CsHHH) + other(R) + group(Cs-CsHHH) +\n",
       "other(R) + group(Cs-(Cds-Cds)HHH) + other(R) + group(Cs-(Cds-Cds)HHH) + other(R) + group(Cds-CdsCsCs) + other(R) + group(Cds-CdsCsCs) + other(R) +\n",
       "group(Ss-CsCd) + other(R) + group(Ss-CsCd) + other(R) + ring(1,3-dithiolane) + radical(Allyl_P)\"\"\"), molecule=[Molecule(SMILES=\"[CH2]C(C)=C1SCC(C)(C)S1\"), Molecule(SMILES=\"C=C(C)[C]1SCC(C)(C)S1\")])"
      ]
     },
     "metadata": {},
     "output_type": "display_data"
    },
    {
     "name": "stdout",
     "output_type": "stream",
     "text": [
      "Group additivity:\n",
      "\tradical\n",
      "\t\tAllyl_P = 1\n",
      "\tring\n",
      "\t\t1,3-dithiolane = 1\n",
      "\tother\n",
      "\t\tR = 10\n",
      "\tgroup\n",
      "\t\tCs-CsCsCsSs = 1\n",
      "\t\tCs-CsHHH = 2\n",
      "\t\tSs-CsCd = 2\n",
      "\t\tCs-(Cds-Cds)HHH = 2\n",
      "\t\tCds-CdsCsCs = 2\n",
      "\t\tCs-CsSsHH = 1\n",
      "\n",
      "Uncertainty dG =  3.1224989992  kcal/mol\n",
      "==========\n",
      "C=C(C=S)CS(860)\n"
     ]
    },
    {
     "data": {
      "image/png": "[encoded data removed]",
      "text/plain": [
       "Species(index=860, label=\"C=C(C=S)CS\", thermo=NASA(polynomials=[NASAPolynomial(coeffs=[0.706291,0.0771197,-0.000114587,9.17426e-08,-2.90579e-11,17654.6,22.9825], Tmin=(100,'K'), Tmax=(839.59,'K')), NASAPolynomial(coeffs=[10.6985,0.0242987,-1.08996e-05,2.01117e-09,-1.3588e-13,16160.6,-22.3823], Tmin=(839.59,'K'), Tmax=(5000,'K'))], Tmin=(100,'K'), Tmax=(5000,'K'), comment=\"\"\"Thermo group additivity estimation: group(Cs-CdsSsHH) + gauche(Cs(RRRR)) + other(R) + group(Cds-CdsC=SCs) + gauche(CsOsCdSs) + other(R) +\n",
       "group(C=S-CdsH) + other(R) + group(Cds-CdsHH) + gauche(CsOsCdSs) + other(R) + group(Ss-CsH) + gauche(Ss(CsH)) + other(R) + group(Sd-Cd) + other(R)\"\"\"), molecule=[Molecule(SMILES=\"C=C(C=S)CS\")])"
      ]
     },
     "metadata": {},
     "output_type": "display_data"
    },
    {
     "name": "stdout",
     "output_type": "stream",
     "text": [
      "Group additivity:\n",
      "\tgauche\n",
      "\t\tCs(RRRR) = 1\n",
      "\t\tCsOsCdSs = 2\n",
      "\t\tSs(CsH) = 1\n",
      "\tgroup\n",
      "\t\tCs-CdsSsHH = 1\n",
      "\t\tSd-Cd = 1\n",
      "\t\tCds-CdsHH = 1\n",
      "\t\tC=S-CdsH = 1\n",
      "\t\tSs-CsH = 1\n",
      "\t\tCds-CdsC=SCs = 1\n",
      "\tother\n",
      "\t\tR = 6\n",
      "\n",
      "Uncertainty dG =  2.29128784748  kcal/mol\n",
      "==========\n",
      "CC1CC2CC=1S[C]2S(4319)\n"
     ]
    },
    {
     "data": {
      "image/png": "[encoded data removed]",
      "text/plain": [
       "Species(index=4319, label=\"CC1CC2CC=1S[C]2S\", thermo=NASA(polynomials=[NASAPolynomial(coeffs=[-1.08643,0.119232,-0.000157806,1.14517e-07,-3.36689e-11,20772.3,-0.182508], Tmin=(100,'K'), Tmax=(827.83,'K')), NASAPolynomial(coeffs=[14.5968,0.043453,-2.0497e-05,3.94129e-09,-2.75823e-13,18175.7,-72.882], Tmin=(827.83,'K'), Tmax=(5000,'K'))], Tmin=(100,'K'), Tmax=(5000,'K'), comment=\"\"\"Thermo group additivity estimation: group(Cs-CsCsCsH) + other(R) + group(Cs-(Cds-Cds)CsHH) + other(R) + group(Cs-(Cds-Cds)CsHH) + other(R) + group(Cs-\n",
       "CsSsSsH) + other(R) + group(Cs-(Cds-Cds)HHH) + other(R) + group(Cds-CdsCsCs) + other(R) + group(Cds-CdsCsSs) + other(R) + group(Ss-CsCd) + other(R) +\n",
       "group(Ss-CsH) + other(R) + polycyclic(PolycyclicRing) + radical(CsJ-CsSsSs)\"\"\"), molecule=[Molecule(SMILES=\"CC1CC2CC=1S[C]2S\")])"
      ]
     },
     "metadata": {},
     "output_type": "display_data"
    },
    {
     "name": "stdout",
     "output_type": "stream",
     "text": [
      "Group additivity:\n",
      "\tradical\n",
      "\t\tCsJ-CsSsSs = 1\n",
      "\tother\n",
      "\t\tR = 9\n",
      "\tgroup\n",
      "\t\tSs-CsH = 1\n",
      "\t\tCs-(Cds-Cds)CsHH = 2\n",
      "\t\tSs-CsCd = 1\n",
      "\t\tCds-CdsCsSs = 1\n",
      "\t\tCds-CdsCsCs = 1\n",
      "\t\tCs-(Cds-Cds)HHH = 1\n",
      "\t\tCs-CsCsCsH = 1\n",
      "\tpolycyclic\n",
      "\t\tPolycyclicRing = 1\n",
      "\n",
      "Uncertainty dG =  2.8394541729  kcal/mol\n",
      "==========\n",
      "C=C(C)SSC[C](C)C(1437)\n"
     ]
    },
    {
     "data": {
      "image/png": "[encoded data removed]",
      "text/plain": [
       "Species(index=1437, label=\"C=C(C)SSC[C](C)C\", thermo=NASA(polynomials=[NASAPolynomial(coeffs=[-1.11342,0.124042,-0.000178209,1.55851e-07,-5.51221e-11,15467.1,39.4226], Tmin=(100,'K'), Tmax=(818.83,'K')), NASAPolynomial(coeffs=[7.58605,0.0621154,-2.91752e-05,5.53441e-09,-3.81139e-13,14693.7,3.16885], Tmin=(818.83,'K'), Tmax=(5000,'K'))], Tmin=(100,'K'), Tmax=(5000,'K'), comment=\"\"\"Thermo group additivity estimation: group(Cs-CsCsCsH) + gauche(Cs(CsCsCsR)) + other(R) + group(Cs-CsSsHH) + gauche(Cs(RRRR)) + other(R) + group(Cs-\n",
       "CsHHH) + gauche(Cs(Cs(CsCsR)RRR)) + other(R) + group(Cs-CsHHH) + gauche(Cs(Cs(CsCsR)RRR)) + other(R) + group(Cs-(Cds-Cds)HHH) + gauche(Cs(RRRR)) +\n",
       "other(R) + group(Cds-CdsCsSs) + gauche(CsOsCdSs) + other(R) + group(Cds-CdsHH) + gauche(CsOsCdSs) + other(R) + group(Ss-SsCs) + gauche(Ss(RR)) +\n",
       "other(R) + group(Ss-SsCd) + gauche(Ss(RR)) + other(R) + radical(Tertalkyl)\"\"\"), molecule=[Molecule(SMILES=\"C=C(C)SSC[C](C)C\")])"
      ]
     },
     "metadata": {},
     "output_type": "display_data"
    },
    {
     "name": "stdout",
     "output_type": "stream",
     "text": [
      "Group additivity:\n",
      "\tradical\n",
      "\t\tTertalkyl = 1\n",
      "\tgauche\n",
      "\t\tSs(RR) = 2\n",
      "\t\tCs(CsCsCsR) = 1\n",
      "\t\tCsOsCdSs = 2\n",
      "\t\tCs(Cs(CsCsR)RRR) = 2\n",
      "\t\tCs(RRRR) = 2\n",
      "\tgroup\n",
      "\t\tCs-(Cds-Cds)HHH = 1\n",
      "\t\tCds-CdsHH = 1\n",
      "\t\tCs-CsSsHH = 1\n",
      "\t\tCs-CsCsCsH = 1\n",
      "\t\tSs-SsCd = 1\n",
      "\t\tSs-SsCs = 1\n",
      "\t\tCds-CdsCsSs = 1\n",
      "\t\tCs-CsHHH = 1\n",
      "\tother\n",
      "\t\tR = 9\n",
      "\n",
      "Uncertainty dG =  2.98956518578  kcal/mol\n",
      "==========\n",
      "C=C1CS[C](S1)C(=C)C(2620)\n"
     ]
    },
    {
     "data": {
      "image/png": "[encoded data removed]",
      "text/plain": [
       "Species(index=2620, label=\"C=C1CS[C](S1)C(=C)C\", thermo=NASA(polynomials=[NASAPolynomial(coeffs=[-0.725653,0.0904922,-6.54023e-05,1.19212e-08,4.0634e-12,31505.5,28.072], Tmin=(100,'K'), Tmax=(1001.81,'K')), NASAPolynomial(coeffs=[22.1558,0.0261819,-9.61273e-06,1.74733e-09,-1.23501e-13,25563.6,-89.1339], Tmin=(1001.81,'K'), Tmax=(5000,'K'))], Tmin=(100,'K'), Tmax=(5000,'K'), comment=\"\"\"Thermo group additivity estimation: group(Cs-CdsSsHH) + other(R) + group(Cs-(Cds-Cds)HHH) + other(R) + group(Cs-(Cds-Cds)HHH) + other(R) + group(Cds-\n",
       "CdsCsCs) + other(R) + group(Cds-CdsCsSs) + other(R) + group(Cds-CdsCsCs) + other(R) + group(Cds-CdsHH) + other(R) + group(Ss-CsCd) + other(R) + group\n",
       "(Ss-CdCd) + other(R) + ring(1,3-dithiolane) + radical(Allyl_P)\"\"\"), molecule=[Molecule(SMILES=\"[CH2]C(C)=C1SCC(=C)S1\"), Molecule(SMILES=\"C=C1CS[C](S1)C(=C)C\")])"
      ]
     },
     "metadata": {},
     "output_type": "display_data"
    },
    {
     "name": "stdout",
     "output_type": "stream",
     "text": [
      "Group additivity:\n",
      "\tradical\n",
      "\t\tAllyl_P = 1\n",
      "\tring\n",
      "\t\t1,3-dithiolane = 1\n",
      "\tother\n",
      "\t\tR = 9\n",
      "\tgroup\n",
      "\t\tCs-CdsSsHH = 1\n",
      "\t\tCs-(Cds-Cds)HHH = 2\n",
      "\t\tCds-CdsHH = 1\n",
      "\t\tSs-CsCd = 1\n",
      "\t\tCds-CdsCsSs = 1\n",
      "\t\tCds-CdsCsCs = 1\n",
      "\n",
      "Uncertainty dG =  2.82842712475  kcal/mol\n",
      "==========\n",
      "C=CC12[CH]C(=C)[C](S1)S2(5738)\n"
     ]
    },
    {
     "data": {
      "image/png": "[encoded data removed]",
      "text/plain": [
       "Species(index=5738, label=\"C=CC12[CH]C(=C)[C](S1)S2\", thermo=NASA(polynomials=[NASAPolynomial(coeffs=[-1.14232,0.111399,-0.000133415,7.80482e-08,-1.77869e-11,51942.6,-6.54219], Tmin=(100,'K'), Tmax=(1076.73,'K')), NASAPolynomial(coeffs=[22.5643,0.0233293,-1.07226e-05,2.08095e-09,-1.48275e-13,46837.5,-122.665], Tmin=(1076.73,'K'), Tmax=(5000,'K'))], Tmin=(100,'K'), Tmax=(5000,'K'), comment=\"\"\"Thermo group additivity estimation: group(Cs-CsCsCsCs) + other(R) + group(Cs-(Cds-Cds)CsHH) + other(R) + group(Cs-(Cds-Cds)HHH) + other(R) + group\n",
       "(Cds-CdsCsCs) + other(R) + group(Cds-CdsCsH) + other(R) + group(Cds-CdsCsCs) + other(R) + group(Cds-CdsHH) + other(R) + group(Ss-CsCd) + other(R) +\n",
       "group(Ss-CsCd) + other(R) + polycyclic(PolycyclicRing) + radical(Allyl_S) + radical(Allyl_P)\"\"\"), molecule=[Molecule(SMILES=\"[CH2]C1[CH]C2(C=C)SC=1S2\"), Molecule(SMILES=\"[CH2]C1=CC2(C=C)S[C]1S2\"), Molecule(SMILES=\"C=CC12[CH]C(=C)[C](S1)S2\")])"
      ]
     },
     "metadata": {},
     "output_type": "display_data"
    },
    {
     "name": "stdout",
     "output_type": "stream",
     "text": [
      "Group additivity:\n",
      "\tradical\n",
      "\t\tAllyl_S = 1\n",
      "\t\tAllyl_P = 1\n",
      "\tother\n",
      "\t\tR = 9\n",
      "\tgroup\n",
      "\t\tCs-(Cds-Cds)CsHH = 1\n",
      "\t\tCds-CdsHH = 1\n",
      "\t\tSs-CsCd = 2\n",
      "\t\tCds-CdsCsH = 1\n",
      "\t\tCds-CdsCsCs = 1\n",
      "\t\tCs-(Cds-Cds)HHH = 1\n",
      "\t\tCs-CsCsCsCs = 1\n",
      "\tpolycyclic\n",
      "\t\tPolycyclicRing = 1\n",
      "\n",
      "Uncertainty dG =  2.85043856275  kcal/mol\n",
      "==========\n",
      "CC12CC(=CC[C]1S)S2(3662)\n"
     ]
    },
    {
     "data": {
      "image/png": "[encoded data removed]",
      "text/plain": [
       "Species(index=3662, label=\"CC12CC(=CC[C]1S)S2\", thermo=NASA(polynomials=[NASAPolynomial(coeffs=[-1.17038,0.120063,-0.000152662,1.03865e-07,-2.84646e-11,22404.3,-0.413491], Tmin=(100,'K'), Tmax=(887.63,'K')), NASAPolynomial(coeffs=[16.3389,0.041162,-1.93315e-05,3.728e-09,-2.62119e-13,19295.8,-82.7992], Tmin=(887.63,'K'), Tmax=(5000,'K'))], Tmin=(100,'K'), Tmax=(5000,'K'), comment=\"\"\"Thermo group additivity estimation: group(Cs-CsCsCsSs) + other(R) + group(Cs-CsCsSsH) + other(R) + group(Cs-(Cds-Cds)CsHH) + other(R) + group(Cs-(Cds-\n",
       "Cds)CsHH) + other(R) + group(Cs-CsHHH) + other(R) + group(Cds-CdsCsSs) + other(R) + group(Cds-CdsCsH) + other(R) + group(Ss-CsCd) + other(R) + group\n",
       "(Ss-CsH) + other(R) + polycyclic(PolycyclicRing) + radical(CsJ-CsCsSs)\"\"\"), molecule=[Molecule(SMILES=\"CC12CC(=CC[C]1S)S2\")])"
      ]
     },
     "metadata": {},
     "output_type": "display_data"
    },
    {
     "name": "stdout",
     "output_type": "stream",
     "text": [
      "Group additivity:\n",
      "\tradical\n",
      "\t\tCsJ-CsCsSs = 1\n",
      "\tother\n",
      "\t\tR = 9\n",
      "\tgroup\n",
      "\t\tCs-CsCsCsSs = 1\n",
      "\t\tCs-CsCsSsH = 1\n",
      "\t\tCs-(Cds-Cds)CsHH = 1\n",
      "\t\tCds-CdsCsSs = 1\n",
      "\t\tCds-CdsCsH = 1\n",
      "\t\tCs-CsHHH = 1\n",
      "\t\tSs-CsCd = 1\n",
      "\tpolycyclic\n",
      "\t\tPolycyclicRing = 1\n",
      "\n",
      "Uncertainty dG =  2.80624304008  kcal/mol\n",
      "==========\n",
      "C=C([C]=S)CS(931)\n"
     ]
    },
    {
     "data": {
      "image/png": "[encoded data removed]",
      "text/plain": [
       "Species(index=931, label=\"C=C([C]=S)CS\", thermo=NASA(polynomials=[NASAPolynomial(coeffs=[0.813392,0.0755707,-0.000119224,9.87756e-08,-3.19135e-11,30686.3,23.2249], Tmin=(100,'K'), Tmax=(856.68,'K')), NASAPolynomial(coeffs=[10.3702,0.022119,-1.01731e-05,1.88159e-09,-1.26587e-13,29372.9,-19.5117], Tmin=(856.68,'K'), Tmax=(5000,'K'))], Tmin=(100,'K'), Tmax=(5000,'K'), comment=\"\"\"Thermo group additivity estimation: group(Cs-CdsSsHH) + gauche(Cs(RRRR)) + other(R) + group(Cds-CdsC=SCs) + gauche(CsOsCdSs) + other(R) + group(Cds-\n",
       "CdsHH) + gauche(CsOsCdSs) + other(R) + group(C=S-CdsH) + other(R) + group(Ss-CsH) + gauche(Ss(CsH)) + other(R) + group(Sd-Cd) + other(R) + radical(C\n",
       "=SJ-Cd)\"\"\"), molecule=[Molecule(SMILES=\"C=C([C]=S)CS\"), Molecule(SMILES=\"[CH2]C(=C=S)CS\")])"
      ]
     },
     "metadata": {},
     "output_type": "display_data"
    },
    {
     "name": "stdout",
     "output_type": "stream",
     "text": [
      "Group additivity:\n",
      "\tgauche\n",
      "\t\tCs(RRRR) = 1\n",
      "\t\tCsOsCdSs = 2\n",
      "\t\tSs(CsH) = 1\n",
      "\tgroup\n",
      "\t\tCs-CdsSsHH = 1\n",
      "\t\tSd-Cd = 1\n",
      "\t\tSs-CsH = 1\n",
      "\t\tCds-CdsC=SCs = 1\n",
      "\t\tC=S-CdsH = 1\n",
      "\tother\n",
      "\t\tR = 6\n",
      "\n",
      "Uncertainty dG =  2.27760839479  kcal/mol\n",
      "==========\n",
      "C=[C]CSC1SC(C=C)=CC=1C(5406)\n"
     ]
    },
    {
     "data": {
      "image/png": "[encoded data removed]",
      "text/plain": [
       "Species(index=5406, label=\"C=[C]CSC1SC(C=C)=CC=1C\", thermo=NASA(polynomials=[NASAPolynomial(coeffs=[-3.26274,0.150498,-0.000173282,9.9226e-08,-2.20013e-11,50497.6,40.8707], Tmin=(100,'K'), Tmax=(1112.75,'K')), NASAPolynomial(coeffs=[30.2781,0.0299281,-1.07503e-05,1.84954e-09,-1.2368e-13,43033.1,-124.528], Tmin=(1112.75,'K'), Tmax=(5000,'K'))], Tmin=(100,'K'), Tmax=(5000,'K'), comment=\"\"\"Thermo group additivity estimation: group(Cs-CdsSsHH) + other(R) + group(Cs-(Cds-Cds)HHH) + other(R) + group(Cds-Cds(Cds-Cds)Cs) + other(R) + group\n",
       "(Cds-CdsCsCs) + other(R) + group(Cds-CdsCsH) + other(R) + group(Cds-CdsCsCs) + other(R) + group(Cds-Cds(Cds-Cds)H) + other(R) + group(Cds-Cds(Cds-\n",
       "Cds)H) + other(R) + group(Cds-CdsHH) + other(R) + group(Cds-CdsHH) + other(R) + group(Ss-CsCd) + other(R) + group(Ss-CdCd) + other(R) +\n",
       "ring(thiophene) + radical(Cds_S)\"\"\"), molecule=[Molecule(SMILES=\"C=[C]CSC1SC(C=C)=CC=1C\")])"
      ]
     },
     "metadata": {},
     "output_type": "display_data"
    },
    {
     "name": "stdout",
     "output_type": "stream",
     "text": [
      "Group additivity:\n",
      "\tradical\n",
      "\t\tCds_S = 1\n",
      "\tring\n",
      "\t\tthiophene = 1\n",
      "\tother\n",
      "\t\tR = 12\n",
      "\tgroup\n",
      "\t\tSs-CdCd = 1\n",
      "\t\tCs-CdsSsHH = 1\n",
      "\t\tCds-Cds(Cds-Cds)Cs = 1\n",
      "\t\tCds-CdsHH = 2\n",
      "\t\tCds-Cds(Cds-Cds)H = 1\n",
      "\t\tCds-CdsCsH = 1\n",
      "\t\tCds-CdsCsCs = 1\n",
      "\t\tCs-(Cds-Cds)HHH = 1\n",
      "\t\tSs-CsCd = 1\n",
      "\n",
      "Uncertainty dG =  3.4820970693  kcal/mol\n",
      "==========\n",
      "CC1=CCC(C)=C([S])S1(3118)\n"
     ]
    },
    {
     "data": {
      "image/png": "[encoded data removed]",
      "text/plain": [
       "Species(index=3118, label=\"CC1=CCC(C)=C([S])S1\", thermo=NASA(polynomials=[NASAPolynomial(coeffs=[0.13637,0.0703453,-2.20907e-05,-1.71507e-08,9.78467e-12,25857.7,28.3219], Tmin=(100,'K'), Tmax=(1101.49,'K')), NASAPolynomial(coeffs=[17.2102,0.0372206,-1.63075e-05,3.15078e-09,-2.25233e-13,20344.5,-63.6519], Tmin=(1101.49,'K'), Tmax=(5000,'K'))], Tmin=(100,'K'), Tmax=(5000,'K'), comment=\"\"\"Thermo group additivity estimation: group(Cs-(Cds-Cds)(Cds-Cds)HH) + other(R) + group(Cs-(Cds-Cds)HHH) + other(R) + group(Cs-(Cds-Cds)HHH) + other(R)\n",
       "+ group(Cds-CdsCsCs) + other(R) + group(Cds-CdsCsSs) + other(R) + group(Cds-CdsCsH) + other(R) + group(Cds-CdsCsCs) + other(R) + group(Ss-CdCd) +\n",
       "other(R) + group(Ss-CdH) + other(R) + ring(Cyclohexane) + radical(SJ-Cd)\"\"\"), molecule=[Molecule(SMILES=\"CC1=CCC(C)=C([S])S1\"), Molecule(SMILES=\"C[C]1CC=C(C)SC1=S\")])"
      ]
     },
     "metadata": {},
     "output_type": "display_data"
    },
    {
     "name": "stdout",
     "output_type": "stream",
     "text": [
      "Group additivity:\n",
      "\tradical\n",
      "\t\tSJ-Cd = 1\n",
      "\tring\n",
      "\t\tCyclohexane = 1\n",
      "\tother\n",
      "\t\tR = 9\n",
      "\tgroup\n",
      "\t\tSs-CdCd = 1\n",
      "\t\tCds-CdsCsSs = 1\n",
      "\t\tCds-CdsCsH = 1\n",
      "\t\tCs-(Cds-Cds)(Cds-Cds)HH = 1\n",
      "\t\tCds-CdsCsCs = 2\n",
      "\t\tCs-(Cds-Cds)HHH = 2\n",
      "\t\tSs-CdH = 1\n",
      "\n",
      "Uncertainty dG =  2.87228132327  kcal/mol\n",
      "==========\n",
      "C=CC12[CH]C(C)=C(S1)S2(5291)\n"
     ]
    },
    {
     "data": {
      "image/png": "[encoded data removed]",
      "text/plain": [
       "Species(index=5291, label=\"C=CC12[CH]C(C)=C(S1)S2\", thermo=NASA(polynomials=[NASAPolynomial(coeffs=[-0.993958,0.112069,-0.000135279,8.2395e-08,-1.98437e-11,33712.7,-6.65587], Tmin=(100,'K'), Tmax=(1013.01,'K')), NASAPolynomial(coeffs=[19.6929,0.0303843,-1.43235e-05,2.79337e-09,-1.98736e-13,29521.6,-106.725], Tmin=(1013.01,'K'), Tmax=(5000,'K'))], Tmin=(100,'K'), Tmax=(5000,'K'), comment=\"\"\"Thermo group additivity estimation: group(Cs-CsCsCsCs) + other(R) + group(Cs-(Cds-Cds)CsHH) + other(R) + group(Cs-(Cds-Cds)HHH) + other(R) + group\n",
       "(Cds-CdsCsCs) + other(R) + group(Cds-CdsCsH) + other(R) + group(Cds-CdsCsCs) + other(R) + group(Cds-CdsHH) + other(R) + group(Ss-CsCd) + other(R) +\n",
       "group(Ss-CsCd) + other(R) + polycyclic(PolycyclicRing) + radical(Allyl_S)\"\"\"), molecule=[Molecule(SMILES=\"C=CC12[CH]C(C)=C(S1)S2\"), Molecule(SMILES=\"C=CC12C=C(C)[C](S1)S2\")])"
      ]
     },
     "metadata": {},
     "output_type": "display_data"
    },
    {
     "name": "stdout",
     "output_type": "stream",
     "text": [
      "Group additivity:\n",
      "\tradical\n",
      "\t\tAllyl_S = 1\n",
      "\tother\n",
      "\t\tR = 9\n",
      "\tgroup\n",
      "\t\tCs-(Cds-Cds)CsHH = 1\n",
      "\t\tCds-CdsHH = 1\n",
      "\t\tSs-CsCd = 2\n",
      "\t\tCds-CdsCsH = 1\n",
      "\t\tCds-CdsCsCs = 1\n",
      "\t\tCs-(Cds-Cds)HHH = 1\n",
      "\t\tCs-CsCsCsCs = 1\n",
      "\tpolycyclic\n",
      "\t\tPolycyclicRing = 1\n",
      "\n",
      "Uncertainty dG =  2.8394541729  kcal/mol\n",
      "==========\n",
      "[CH2]C1(C)C=C(C)SC1=S(3251)\n"
     ]
    },
    {
     "data": {
      "image/png": "[encoded data removed]",
      "text/plain": [
       "Species(index=3251, label=\"[CH2]C1(C)C=C(C)SC1=S\", thermo=NASA(polynomials=[NASAPolynomial(coeffs=[0.0515301,0.0682018,-6.70408e-06,-4.2664e-08,2.12969e-11,32625.4,29.1367], Tmin=(100,'K'), Tmax=(1007.85,'K')), NASAPolynomial(coeffs=[20.4729,0.0293898,-1.18019e-05,2.28982e-09,-1.68521e-13,26363.9,-80.1867], Tmin=(1007.85,'K'), Tmax=(5000,'K'))], Tmin=(100,'K'), Tmax=(5000,'K'), comment=\"\"\"Thermo group additivity estimation: group(Cs-CsCsCsCs) + other(R) + group(Cs-CsHHH) + other(R) + group(Cs-CsHHH) + other(R) + group(Cs-(Cds-Cds)HHH) +\n",
       "other(R) + group(Cds-CdsCsSs) + other(R) + group(Cds-CdsCsH) + other(R) + group(C=S-CsSs) + other(R) + group(Ss-C=SCd) + other(R) + group(Sd-Cd) +\n",
       "other(R) + ring(2,3-dihydrothiophene) + radical(Neopentyl)\"\"\"), molecule=[Molecule(SMILES=\"[CH2]C1(C)C=C(C)SC1=S\")])"
      ]
     },
     "metadata": {},
     "output_type": "display_data"
    },
    {
     "name": "stdout",
     "output_type": "stream",
     "text": [
      "Group additivity:\n",
      "\tradical\n",
      "\t\tNeopentyl = 1\n",
      "\tring\n",
      "\t\t2,3-dihydrothiophene = 1\n",
      "\tother\n",
      "\t\tR = 9\n",
      "\tgroup\n",
      "\t\tSd-Cd = 1\n",
      "\t\tC=S-CsSs = 1\n",
      "\t\tCs-(Cds-Cds)HHH = 1\n",
      "\t\tSs-C=SCd = 1\n",
      "\t\tCs-CsHHH = 2\n",
      "\t\tCds-CdsCsSs = 1\n",
      "\t\tCds-CdsCsH = 1\n",
      "\t\tCs-CsCsCsCs = 1\n",
      "\n",
      "Uncertainty dG =  2.85043856275  kcal/mol\n",
      "==========\n",
      "C=CC12[CH]C1(C)C(=S)S2(5334)\n"
     ]
    },
    {
     "data": {
      "image/png": "[encoded data removed]",
      "text/plain": [
       "Species(index=5334, label=\"C=CC12[CH]C1(C)C(=S)S2\", thermo=NASA(polynomials=[NASAPolynomial(coeffs=[-0.647986,0.0924447,-8.31061e-05,3.62888e-08,-6.24625e-12,38870.8,-2.83837], Tmin=(100,'K'), Tmax=(1397.6,'K')), NASAPolynomial(coeffs=[22.5771,0.0259729,-1.17634e-05,2.25747e-09,-1.58741e-13,32379,-122.66], Tmin=(1397.6,'K'), Tmax=(5000,'K'))], Tmin=(100,'K'), Tmax=(5000,'K'), comment=\"\"\"Thermo group additivity estimation: group(Cs-C=SCsCsCs) + other(R) + group(Cs-CsCsCsCs) + other(R) + group(Cs-CsCsHH) + other(R) + group(Cs-CsHHH) +\n",
       "other(R) + group(Cds-CdsCsH) + other(R) + group(C=S-CsSs) + other(R) + group(Cds-CdsHH) + other(R) + group(Ss-C=SCs) + other(R) + group(Sd-Cd) +\n",
       "other(R) + polycyclic(PolycyclicRing) + radical(cyclopropane)\"\"\"), molecule=[Molecule(SMILES=\"C=CC12[CH]C1(C)C(=S)S2\")])"
      ]
     },
     "metadata": {},
     "output_type": "display_data"
    },
    {
     "name": "stdout",
     "output_type": "stream",
     "text": [
      "Group additivity:\n",
      "\tradical\n",
      "\t\tcyclopropane = 1\n",
      "\tother\n",
      "\t\tR = 9\n",
      "\tgroup\n",
      "\t\tSd-Cd = 1\n",
      "\t\tCs-CsCsCsCs = 1\n",
      "\t\tCs-C=SCsCsCs = 1\n",
      "\t\tCds-CdsHH = 1\n",
      "\t\tCs-CsCsHH = 1\n",
      "\t\tSs-C=SCs = 1\n",
      "\t\tCds-CdsCsH = 1\n",
      "\t\tCs-CsHHH = 1\n",
      "\t\tC=S-CsSs = 1\n",
      "\tpolycyclic\n",
      "\t\tPolycyclicRing = 1\n",
      "\n",
      "Uncertainty dG =  2.82842712475  kcal/mol\n",
      "==========\n",
      "C=C(CS)CSC(C)(C)C(198)\n"
     ]
    },
    {
     "data": {
      "image/png": "[encoded data removed]",
      "text/plain": [
       "Species(index=198, label=\"C=C(CS)CSC(C)(C)C\", thermo=NASA(polynomials=[NASAPolynomial(coeffs=[-3.43655,0.174145,-0.000255562,2.04532e-07,-6.47547e-11,-8938.06,39.6863], Tmin=(100,'K'), Tmax=(851.97,'K')), NASAPolynomial(coeffs=[18.3385,0.0576163,-2.52293e-05,4.60228e-09,-3.08745e-13,-12129.6,-58.8325], Tmin=(851.97,'K'), Tmax=(5000,'K'))], Tmin=(100,'K'), Tmax=(5000,'K'), comment=\"\"\"Thermo group additivity estimation: group(Cs-CsCsCsSs) + gauche(Cs(RRRR)) + other(R) + group(Cs-CdsSsHH) + gauche(Cs(RRRR)) + other(R) + group(Cs-\n",
       "CsHHH) + gauche(Cs(CsRRR)) + other(R) + group(Cs-CsHHH) + gauche(Cs(CsRRR)) + other(R) + group(Cs-CsHHH) + gauche(Cs(CsRRR)) + other(R) + group(Cs-\n",
       "CdsSsHH) + gauche(Cs(RRRR)) + other(R) + group(Cds-CdsCsCs) + gauche(Cd(CsCs)) + other(R) + group(Cds-CdsHH) + gauche(CsOsCdSs) + other(R) + group(Ss-\n",
       "CsCs) + gauche(Ss(CsCs)) + other(R) + group(Ss-CsH) + gauche(Ss(CsH)) + other(R)\"\"\"), molecule=[Molecule(SMILES=\"C=C(CS)CSC(C)(C)C\")])"
      ]
     },
     "metadata": {},
     "output_type": "display_data"
    },
    {
     "name": "stdout",
     "output_type": "stream",
     "text": [
      "Group additivity:\n",
      "\tgauche\n",
      "\t\tCs(CsRRR) = 3\n",
      "\t\tSs(CsH) = 1\n",
      "\t\tCs(RRRR) = 3\n",
      "\t\tCsOsCdSs = 1\n",
      "\t\tSs(CsCs) = 1\n",
      "\t\tCd(CsCs) = 1\n",
      "\tgroup\n",
      "\t\tCs-CdsSsHH = 1\n",
      "\t\tCs-CsCsCsSs = 1\n",
      "\t\tCds-CdsHH = 1\n",
      "\t\tSs-CsH = 1\n",
      "\t\tCds-CdsCsCs = 1\n",
      "\t\tCs-CsHHH = 2\n",
      "\tother\n",
      "\t\tR = 10\n",
      "\n",
      "Uncertainty dG =  3.23071199583  kcal/mol\n",
      "==========\n",
      "CC(C)(C)SS(52)\n"
     ]
    },
    {
     "data": {
      "image/png": "[encoded data removed]",
      "text/plain": [
       "Species(index=52, label=\"CC(C)(C)SS\", thermo=NASA(polynomials=[NASAPolynomial(coeffs=[0.526517,0.0748779,-7.00626e-05,3.52488e-08,-7.23613e-12,-15394.4,23.0172], Tmin=(100,'K'), Tmax=(1163.15,'K')), NASAPolynomial(coeffs=[13.477,0.0303418,-1.26287e-05,2.33008e-09,-1.60756e-13,-18407.1,-41.4185], Tmin=(1163.15,'K'), Tmax=(5000,'K'))], Tmin=(100,'K'), Tmax=(5000,'K'), comment=\"\"\"Thermo library: SulfurLibrary\"\"\"), molecule=[Molecule(SMILES=\"CC(C)(C)SS\")])"
      ]
     },
     "metadata": {},
     "output_type": "display_data"
    },
    {
     "name": "stdout",
     "output_type": "stream",
     "text": [
      "Thermo Library:  28\n",
      "\n",
      "Uncertainty dG =  2.0  kcal/mol\n",
      "==========\n",
      "[CH2]C1C=C(CC)SC=1S(4755)\n"
     ]
    },
    {
     "data": {
      "image/png": "[encoded data removed]",
      "text/plain": [
       "Species(index=4755, label=\"[CH2]C1C=C(CC)SC=1S\", thermo=NASA(polynomials=[NASAPolynomial(coeffs=[-0.620084,0.0805124,-2.21972e-05,-4.53757e-08,2.77518e-11,19575.8,30.7247], Tmin=(100,'K'), Tmax=(943.59,'K')), NASAPolynomial(coeffs=[26.8137,0.0166506,-4.03039e-06,6.79909e-10,-5.33648e-14,12064.3,-112.403], Tmin=(943.59,'K'), Tmax=(5000,'K'))], Tmin=(100,'K'), Tmax=(5000,'K'), comment=\"\"\"Thermo group additivity estimation: group(Cs-(Cds-Cds)CsHH) + other(R) + group(Cs-CsHHH) + other(R) + group(Cs-(Cds-Cds)HHH) + other(R) + group(Cds-\n",
       "Cds(Cds-Cds)Cs) + other(R) + group(Cds-CdsCsSs) + other(R) + group(Cds-Cds(Cds-Cds)H) + other(R) + group(Cds-CdsCsCs) + other(R) + group(Ss-CdCd) +\n",
       "other(R) + group(Ss-CdH) + other(R) + ring(thiophene) + radical(Allyl_P)\"\"\"), molecule=[Molecule(SMILES=\"[CH2]C1C=C(CC)SC=1S\"), Molecule(SMILES=\"C=C1C=C(CC)S[C]1S\")])"
      ]
     },
     "metadata": {},
     "output_type": "display_data"
    },
    {
     "name": "stdout",
     "output_type": "stream",
     "text": [
      "Group additivity:\n",
      "\tradical\n",
      "\t\tAllyl_P = 1\n",
      "\tring\n",
      "\t\tthiophene = 1\n",
      "\tother\n",
      "\t\tR = 9\n",
      "\tgroup\n",
      "\t\tSs-CdCd = 1\n",
      "\t\tCds-Cds(Cds-Cds)H = 1\n",
      "\t\tCds-CdsCsSs = 1\n",
      "\t\tCs-(Cds-Cds)CsHH = 1\n",
      "\t\tCds-CdsCsCs = 1\n",
      "\t\tCs-(Cds-Cds)HHH = 1\n",
      "\t\tCs-CsHHH = 1\n",
      "\t\tSs-CdH = 1\n",
      "\n",
      "Uncertainty dG =  2.8173569174  kcal/mol\n",
      "==========\n",
      "C=C=C(93)\n"
     ]
    },
    {
     "data": {
      "image/png": "[encoded data removed]",
      "text/plain": [
       "Species(index=93, label=\"C=C=C\", thermo=NASA(polynomials=[NASAPolynomial(coeffs=[3.36162,0.00777124,2.52435e-05,-3.61889e-08,1.38592e-11,22005.7,7.12452], Tmin=(100,'K'), Tmax=(966.19,'K')), NASAPolynomial(coeffs=[6.4649,0.0106812,-3.73731e-06,6.87005e-10,-4.98576e-14,20670.6,-11.5465], Tmin=(966.19,'K'), Tmax=(5000,'K'))], Tmin=(100,'K'), Tmax=(5000,'K'), comment=\"\"\"Thermo group additivity estimation: group(Cds-CdsHH) + gauche(CsOsCdSs) + other(R) + group(Cds-CdsHH) + gauche(CsOsCdSs) + other(R) + group(Cdd-\n",
       "CdsCds) + other(R)\"\"\"), molecule=[Molecule(SMILES=\"C=C=C\")])"
      ]
     },
     "metadata": {},
     "output_type": "display_data"
    },
    {
     "name": "stdout",
     "output_type": "stream",
     "text": [
      "Group additivity:\n",
      "\tgauche\n",
      "\t\tCsOsCdSs = 2\n",
      "\tgroup\n",
      "\t\tCds-CdsHH = 2\n",
      "\tother\n",
      "\t\tR = 3\n",
      "\n",
      "Uncertainty dG =  1.82002747232  kcal/mol\n",
      "==========\n",
      "S=C1SC2=CCCC1=C2(5826)\n"
     ]
    },
    {
     "data": {
      "image/png": "[encoded data removed]",
      "text/plain": [
       "Species(index=5826, label=\"S=C1SC2=CCCC1=C2\", thermo=NASA(polynomials=[NASAPolynomial(coeffs=[-0.672018,0.0934945,-9.45267e-05,4.70277e-08,-9.12729e-12,24803.5,-2.95697], Tmin=(100,'K'), Tmax=(1259.46,'K')), NASAPolynomial(coeffs=[22.0127,0.0214487,-8.72126e-06,1.60849e-09,-1.11689e-13,19089.4,-117.63], Tmin=(1259.46,'K'), Tmax=(5000,'K'))], Tmin=(100,'K'), Tmax=(5000,'K'), comment=\"\"\"Thermo group additivity estimation: group(Cs-(Cds-Cds)CsHH) + other(R) + group(Cs-(Cds-Cds)CsHH) + other(R) + group(Cds-CdsC=SCs) + other(R) + group\n",
       "(Cds-CdsCsCs) + other(R) + group(Cds-CdsCsH) + other(R) + group(Cds-Cds(Cds-Cds)H) + other(R) + group(C=S-CsSs) + other(R) + group(Ss-C=SCd) +\n",
       "other(R) + group(Sd-Cd) + other(R) + polycyclic(PolycyclicRing)\"\"\"), molecule=[Molecule(SMILES=\"S=C1SC2=CCCC1=C2\")])"
      ]
     },
     "metadata": {},
     "output_type": "display_data"
    },
    {
     "name": "stdout",
     "output_type": "stream",
     "text": [
      "Group additivity:\n",
      "\tother\n",
      "\t\tR = 9\n",
      "\tgroup\n",
      "\t\tSd-Cd = 1\n",
      "\t\tC=S-CsSs = 1\n",
      "\t\tCds-Cds(Cds-Cds)H = 1\n",
      "\t\tSs-C=SCd = 1\n",
      "\t\tCs-(Cds-Cds)CsHH = 2\n",
      "\t\tCds-CdsCsH = 1\n",
      "\t\tCds-CdsC=SCs = 1\n",
      "\tpolycyclic\n",
      "\t\tPolycyclicRing = 1\n",
      "\n",
      "Uncertainty dG =  2.82842712475  kcal/mol\n",
      "==========\n",
      "[CH2]C(=C)C(=S)S(968)\n"
     ]
    },
    {
     "data": {
      "image/png": "[encoded data removed]",
      "text/plain": [
       "Species(index=968, label=\"[CH2]C(=C)C(=S)S\", thermo=NASA(polynomials=[NASAPolynomial(coeffs=[1.30853,0.060505,-6.90513e-05,4.20312e-08,-1.02979e-11,31692.1,22.0985], Tmin=(100,'K'), Tmax=(989.94,'K')), NASAPolynomial(coeffs=[11.0839,0.0210072,-9.20434e-06,1.72894e-09,-1.20247e-13,29756.6,-24.9635], Tmin=(989.94,'K'), Tmax=(5000,'K'))], Tmin=(100,'K'), Tmax=(5000,'K'), comment=\"\"\"Thermo group additivity estimation: group(Cs-(Cds-Cds)HHH) + gauche(Cs(RRRR)) + other(R) + group(Cds-CdsC=SCs) + gauche(CsOsCdSs) + other(R) +\n",
       "group(C=S-CsSs) + other(R) + group(Cds-CdsHH) + gauche(CsOsCdSs) + other(R) + group(Ss-C=SH) + gauche(Ss(RR)) + other(R) + group(Sd-Cd) + other(R) +\n",
       "radical(Allyl_P)\"\"\"), molecule=[Molecule(SMILES=\"[CH2]C(=C)C(=S)S\")])"
      ]
     },
     "metadata": {},
     "output_type": "display_data"
    },
    {
     "name": "stdout",
     "output_type": "stream",
     "text": [
      "Group additivity:\n",
      "\tradical\n",
      "\t\tAllyl_P = 1\n",
      "\tgauche\n",
      "\t\tCs(RRRR) = 1\n",
      "\t\tCsOsCdSs = 2\n",
      "\t\tSs(RR) = 1\n",
      "\tgroup\n",
      "\t\tSd-Cd = 1\n",
      "\t\tC=S-CsSs = 1\n",
      "\t\tCs-(Cds-Cds)HHH = 1\n",
      "\t\tCds-CdsHH = 1\n",
      "\t\tCds-CdsC=SCs = 1\n",
      "\t\tSs-C=SH = 1\n",
      "\tother\n",
      "\t\tR = 6\n",
      "\n",
      "Uncertainty dG =  2.30488611432  kcal/mol\n",
      "==========\n",
      "[CH2]C(=C)C[C]1CCC1=C(2018)\n"
     ]
    },
    {
     "data": {
      "image/png": "[encoded data removed]",
      "text/plain": [
       "Species(index=2018, label=\"[CH2]C(=C)C[C]1CCC1=C\", thermo=NASA(polynomials=[NASAPolynomial(coeffs=[9.28972,0.0092934,0.000120578,-1.2502e-07,2.93866e-11,46996.3,-10.9672], Tmin=(100,'K'), Tmax=(1703.45,'K')), NASAPolynomial(coeffs=[77.2454,0.0415684,-7.67758e-05,1.83307e-08,-1.35462e-12,-3990.1,-456.712], Tmin=(1703.45,'K'), Tmax=(5000,'K'))], Tmin=(100,'K'), Tmax=(5000,'K'), comment=\"\"\"Thermo group additivity estimation: group(Cs-(Cds-Cds)CsCsH) + other(R) + group(Cs-CsCsHH) + other(R) + group(Cs-(Cds-Cds)CsHH) + other(R) + group(Cs\n",
       "-(Cds-Cds)CsHH) + other(R) + group(Cs-(Cds-Cds)HHH) + other(R) + group(Cds-CdsCsCs) + other(R) + group(Cds-CdsCsCs) + other(R) + group(Cds-CdsHH) +\n",
       "other(R) + group(Cds-CdsHH) + other(R) + ring(methylenecyclobutane) + radical(Allyl_T) + radical(Allyl_P)\"\"\"), molecule=[Molecule(SMILES=\"[CH2]C(=C)C[C]1CCC1=C\"), Molecule(SMILES=\"[CH2]C(=C)CC1CCC=1[CH2]\")])"
      ]
     },
     "metadata": {},
     "output_type": "display_data"
    },
    {
     "name": "stdout",
     "output_type": "stream",
     "text": [
      "Group additivity:\n",
      "\tradical\n",
      "\t\tAllyl_T = 1\n",
      "\t\tAllyl_P = 1\n",
      "\tring\n",
      "\t\tmethylenecyclobutane = 1\n",
      "\tother\n",
      "\t\tR = 9\n",
      "\tgroup\n",
      "\t\tCs-(Cds-Cds)CsCsH = 1\n",
      "\t\tCs-(Cds-Cds)HHH = 1\n",
      "\t\tCds-CdsHH = 2\n",
      "\t\tCs-(Cds-Cds)CsHH = 1\n",
      "\t\tCds-CdsCsCs = 2\n",
      "\t\tCs-CsCsHH = 1\n",
      "\n",
      "Uncertainty dG =  2.87228132327  kcal/mol\n",
      "==========\n",
      "C=C1C(=S)SC2=CCC12(5526)\n"
     ]
    },
    {
     "data": {
      "image/png": "[encoded data removed]",
      "text/plain": [
       "Species(index=5526, label=\"C=C1C(=S)SC2=CCC12\", thermo=NASA(polynomials=[NASAPolynomial(coeffs=[-0.406931,0.0960171,-0.000104623,5.7961e-08,-1.27549e-11,26407.7,-6.38843], Tmin=(100,'K'), Tmax=(1103.08,'K')), NASAPolynomial(coeffs=[18.2219,0.0284645,-1.27624e-05,2.44311e-09,-1.72372e-13,22297.9,-98.0895], Tmin=(1103.08,'K'), Tmax=(5000,'K'))], Tmin=(100,'K'), Tmax=(5000,'K'), comment=\"\"\"Thermo group additivity estimation: group(Cs-(Cds-Cds)(Cds-Cds)CsH) + other(R) + group(Cs-(Cds-Cds)CsHH) + other(R) + group(Cds-CdsC=SCs) + other(R) +\n",
       "group(Cds-CdsCsSs) + other(R) + group(Cds-CdsCsH) + other(R) + group(C=S-CsSs) + other(R) + group(Cds-CdsHH) + other(R) + group(Ss-C=SCd) + other(R) +\n",
       "group(Sd-Cd) + other(R) + polycyclic(PolycyclicRing)\"\"\"), molecule=[Molecule(SMILES=\"C=C1C(=S)SC2=CCC12\")])"
      ]
     },
     "metadata": {},
     "output_type": "display_data"
    },
    {
     "name": "stdout",
     "output_type": "stream",
     "text": [
      "Group additivity:\n",
      "\tother\n",
      "\t\tR = 9\n",
      "\tgroup\n",
      "\t\tSd-Cd = 1\n",
      "\t\tC=S-CsSs = 1\n",
      "\t\tCs-(Cds-Cds)CsHH = 1\n",
      "\t\tCs-(Cds-Cds)(Cds-Cds)CsH = 1\n",
      "\t\tCds-CdsHH = 1\n",
      "\t\tCds-CdsCsSs = 1\n",
      "\t\tSs-C=SCd = 1\n",
      "\t\tCds-CdsCsH = 1\n",
      "\t\tCds-CdsC=SCs = 1\n",
      "\tpolycyclic\n",
      "\t\tPolycyclicRing = 1\n",
      "\n",
      "Uncertainty dG =  2.8173569174  kcal/mol\n",
      "==========\n",
      "[CH2]C(=C)C[C](C)C(=S)S(1728)\n"
     ]
    },
    {
     "data": {
      "image/png": "[encoded data removed]",
      "text/plain": [
       "Species(index=1728, label=\"[CH2]C(=C)C[C](C)C(=S)S\", thermo=NASA(polynomials=[NASAPolynomial(coeffs=[-0.712821,0.101039,-0.000100555,5.2417e-08,-1.09804e-11,38913.1,36.8921], Tmin=(100,'K'), Tmax=(1150.68,'K')), NASAPolynomial(coeffs=[18.2018,0.0352875,-1.48424e-05,2.75768e-09,-1.91265e-13,34560.2,-57.0148], Tmin=(1150.68,'K'), Tmax=(5000,'K'))], Tmin=(100,'K'), Tmax=(5000,'K'), comment=\"\"\"Thermo group additivity estimation: group(Cs-(Cds-Cds)(Cds-Cds)HH) + gauche(Cs(RRRR)) + other(R) + group(Cs-(Cds-Cds)HHH) + gauche(Cs(RRRR)) +\n",
       "other(R) + group(Cs-(Cds-Cds)HHH) + gauche(Cs(RRRR)) + other(R) + group(Cds-CdsCsCs) + gauche(Cd(CsCs)) + other(R) + group(Cds-CdsCsCs) +\n",
       "gauche(Cd(CsCs)) + other(R) + group(Cds-CdsCsCs) + gauche(CsOsCdSs) + other(R) + group(Cds-CdsHH) + gauche(CsOsCdSs) + other(R) + group(Ss-CdH) +\n",
       "gauche(Ss(RR)) + other(R) + group(Ss-CdH) + gauche(Ss(RR)) + other(R) + radical(SJ-Cd) + radical(Allyl_P)\"\"\"), molecule=[Molecule(SMILES=\"[CH2]C(=C)CC(C)=C([S])S\"), Molecule(SMILES=\"[CH2]C(=C)C[C](C)C(=S)S\")])"
      ]
     },
     "metadata": {},
     "output_type": "display_data"
    },
    {
     "name": "stdout",
     "output_type": "stream",
     "text": [
      "Group additivity:\n",
      "\tradical\n",
      "\t\tSJ-Cd = 1\n",
      "\t\tAllyl_P = 1\n",
      "\tgauche\n",
      "\t\tSs(RR) = 2\n",
      "\t\tCs(RRRR) = 3\n",
      "\t\tCsOsCdSs = 2\n",
      "\t\tCd(CsCs) = 2\n",
      "\tgroup\n",
      "\t\tCs-(Cds-Cds)(Cds-Cds)HH = 1\n",
      "\t\tCds-CdsCsCs = 3\n",
      "\t\tSs-CdH = 2\n",
      "\t\tCds-CdsHH = 1\n",
      "\t\tCs-(Cds-Cds)HHH = 2\n",
      "\tother\n",
      "\t\tR = 9\n",
      "\n",
      "Uncertainty dG =  3.15238005323  kcal/mol\n",
      "==========\n",
      "C=CC1=CC(=C)C(=S)S1(5335)\n"
     ]
    },
    {
     "data": {
      "image/png": "[encoded data removed]",
      "text/plain": [
       "Species(index=5335, label=\"C=CC1=CC(=C)C(=S)S1\", thermo=NASA(polynomials=[NASAPolynomial(coeffs=[0.379539,0.060827,-2.92183e-06,-4.87385e-08,2.50529e-11,37181.3,25.6082], Tmin=(100,'K'), Tmax=(970.72,'K')), NASAPolynomial(coeffs=[21.6878,0.0179737,-6.16297e-06,1.1912e-09,-9.17238e-14,30926.6,-87.467], Tmin=(970.72,'K'), Tmax=(5000,'K'))], Tmin=(100,'K'), Tmax=(5000,'K'), comment=\"\"\"Thermo group additivity estimation: group(Cds-CdsCsCs) + other(R) + group(Cds-CdsCsCs) + other(R) + group(Cds-Cds(Cds-Cds)H) + other(R) + group(Cds-\n",
       "Cds(Cds-Cds)H) + other(R) + group(C=S-CsSs) + other(R) + group(Cds-CdsHH) + other(R) + group(Cds-CdsHH) + other(R) + group(Ss-C=SCd) + other(R) +\n",
       "group(Sd-Cd) + other(R) + ring(2,3-dihydrothiophene)\"\"\"), molecule=[Molecule(SMILES=\"C=CC1=CC(=C)C(=S)S1\")])"
      ]
     },
     "metadata": {},
     "output_type": "display_data"
    },
    {
     "name": "stdout",
     "output_type": "stream",
     "text": [
      "Group additivity:\n",
      "\tring\n",
      "\t\t2,3-dihydrothiophene = 1\n",
      "\tother\n",
      "\t\tR = 9\n",
      "\tgroup\n",
      "\t\tSd-Cd = 1\n",
      "\t\tC=S-CsSs = 1\n",
      "\t\tCds-Cds(Cds-Cds)H = 1\n",
      "\t\tCds-CdsHH = 2\n",
      "\t\tSs-C=SCd = 1\n",
      "\t\tCds-CdsCsCs = 2\n",
      "\n",
      "Uncertainty dG =  2.85043856275  kcal/mol\n",
      "==========\n",
      "[CH2]C(=C)C([CH2])=C(1761)\n"
     ]
    },
    {
     "data": {
      "image/png": "[encoded data removed]",
      "text/plain": [
       "Species(index=1761, label=\"[CH2]C(=C)C([CH2])=C\", thermo=NASA(polynomials=[NASAPolynomial(coeffs=[1.02187,0.0516144,-5.40643e-06,-3.6944e-08,1.99262e-11,38816.1,18.3675], Tmin=(100,'K'), Tmax=(948.57,'K')), NASAPolynomial(coeffs=[17.2828,0.0172488,-5.15282e-06,8.92902e-10,-6.50184e-14,34192.3,-67.3351], Tmin=(948.57,'K'), Tmax=(5000,'K'))], Tmin=(100,'K'), Tmax=(5000,'K'), comment=\"\"\"Thermo group additivity estimation: group(Cs-(Cds-Cds)HHH) + gauche(Cs(RRRR)) + other(R) + group(Cs-(Cds-Cds)HHH) + gauche(Cs(RRRR)) + other(R) +\n",
       "group(Cds-Cds(Cds-Cds)Cs) + gauche(CsOsCdSs) + other(R) + group(Cds-Cds(Cds-Cds)Cs) + gauche(CsOsCdSs) + other(R) + group(Cds-CdsHH) +\n",
       "gauche(CsOsCdSs) + other(R) + group(Cds-CdsHH) + gauche(CsOsCdSs) + other(R) + radical(Allyl_P) + radical(Allyl_P)\"\"\"), molecule=[Molecule(SMILES=\"[CH2]C(=C)C([CH2])=C\")])"
      ]
     },
     "metadata": {},
     "output_type": "display_data"
    },
    {
     "name": "stdout",
     "output_type": "stream",
     "text": [
      "Group additivity:\n",
      "\tradical\n",
      "\t\tAllyl_P = 2\n",
      "\tgauche\n",
      "\t\tCs(RRRR) = 2\n",
      "\t\tCsOsCdSs = 4\n",
      "\tgroup\n",
      "\t\tCs-(Cds-Cds)HHH = 2\n",
      "\t\tCds-CdsHH = 2\n",
      "\t\tCds-Cds(Cds-Cds)Cs = 2\n",
      "\tother\n",
      "\t\tR = 6\n",
      "\n",
      "Uncertainty dG =  2.59807621135  kcal/mol\n",
      "==========\n",
      "C=C(C)SSC[C]1CCC1=C(1997)\n"
     ]
    },
    {
     "data": {
      "image/png": "[encoded data removed]",
      "text/plain": [
       "Species(index=1997, label=\"C=C(C)SSC[C]1CCC1=C\", thermo=NASA(polynomials=[NASAPolynomial(coeffs=[9.75674,0.0367938,7.68399e-05,-9.54878e-08,2.23588e-11,35209.7,-6.76502], Tmin=(100,'K'), Tmax=(1807.04,'K')), NASAPolynomial(coeffs=[101.23,0.0242091,-7.03446e-05,1.69669e-08,-1.24459e-12,-28854,-587.982], Tmin=(1807.04,'K'), Tmax=(5000,'K'))], Tmin=(100,'K'), Tmax=(5000,'K'), comment=\"\"\"Thermo group additivity estimation: group(Cs-(Cds-Cds)CsCsH) + other(R) + group(Cs-CsCsHH) + other(R) + group(Cs-(Cds-Cds)CsHH) + other(R) + group(Cs-\n",
       "CsSsHH) + other(R) + group(Cs-(Cds-Cds)HHH) + other(R) + group(Cds-CdsCsCs) + other(R) + group(Cds-CdsCsSs) + other(R) + group(Cds-CdsHH) + other(R) +\n",
       "group(Cds-CdsHH) + other(R) + group(Ss-SsCs) + other(R) + group(Ss-SsCd) + other(R) + ring(methylenecyclobutane) + radical(Allyl_T)\"\"\"), molecule=[Molecule(SMILES=\"C=C(C)SSC[C]1CCC1=C\"), Molecule(SMILES=\"[CH2]C1CCC=1CSSC(=C)C\")])"
      ]
     },
     "metadata": {},
     "output_type": "display_data"
    },
    {
     "name": "stdout",
     "output_type": "stream",
     "text": [
      "Group additivity:\n",
      "\tradical\n",
      "\t\tAllyl_T = 1\n",
      "\tring\n",
      "\t\tmethylenecyclobutane = 1\n",
      "\tother\n",
      "\t\tR = 11\n",
      "\tgroup\n",
      "\t\tCs-(Cds-Cds)CsCsH = 1\n",
      "\t\tCs-(Cds-Cds)HHH = 1\n",
      "\t\tCds-CdsHH = 2\n",
      "\t\tSs-SsCd = 1\n",
      "\t\tCs-(Cds-Cds)CsHH = 1\n",
      "\t\tCds-CdsCsCs = 1\n",
      "\t\tCds-CdsCsSs = 1\n",
      "\t\tCs-CsCsHH = 1\n",
      "\t\tSs-SsCs = 1\n",
      "\n",
      "Uncertainty dG =  3.26917420766  kcal/mol\n",
      "==========\n",
      "C=C1C2=CC1(C)[C](S)S2(5539)\n"
     ]
    },
    {
     "data": {
      "image/png": "[encoded data removed]",
      "text/plain": [
       "Species(index=5539, label=\"C=C1C2=CC1(C)[C](S)S2\", thermo=NASA(polynomials=[NASAPolynomial(coeffs=[-0.979579,0.114396,-0.000144879,9.37897e-08,-2.41336e-11,34061.9,-4.73545], Tmin=(100,'K'), Tmax=(947.77,'K')), NASAPolynomial(coeffs=[18.3109,0.0329801,-1.60227e-05,3.14988e-09,-2.24434e-13,30405.4,-96.7657], Tmin=(947.77,'K'), Tmax=(5000,'K'))], Tmin=(100,'K'), Tmax=(5000,'K'), comment=\"\"\"Thermo group additivity estimation: group(Cs-(Cds-Cds)(Cds-Cds)CsCs) + other(R) + group(Cs-CsSsSsH) + other(R) + group(Cs-CsHHH) + other(R) + group\n",
       "(Cds-Cds(Cds-Cds)Cs) + other(R) + group(Cds-CdsCsH) + other(R) + group(Cds-CdsCsCs) + other(R) + group(Cds-CdsHH) + other(R) + group(Ss-CsCd) +\n",
       "other(R) + group(Ss-CsH) + other(R) + polycyclic(PolycyclicRing) + radical(CsJ-CsSsSs)\"\"\"), molecule=[Molecule(SMILES=\"C=C1C2=CC1(C)[C](S)S2\")])"
      ]
     },
     "metadata": {},
     "output_type": "display_data"
    },
    {
     "name": "stdout",
     "output_type": "stream",
     "text": [
      "Group additivity:\n",
      "\tradical\n",
      "\t\tCsJ-CsSsSs = 1\n",
      "\tother\n",
      "\t\tR = 9\n",
      "\tgroup\n",
      "\t\tSs-CsH = 1\n",
      "\t\tCds-CdsHH = 1\n",
      "\t\tCs-CsSsSsH = 1\n",
      "\t\tCs-(Cds-Cds)(Cds-Cds)CsCs = 1\n",
      "\t\tCds-CdsCsH = 1\n",
      "\t\tCds-CdsCsCs = 1\n",
      "\t\tCs-CsHHH = 1\n",
      "\t\tSs-CsCd = 1\n",
      "\tpolycyclic\n",
      "\t\tPolycyclicRing = 1\n",
      "\n",
      "Uncertainty dG =  2.8173569174  kcal/mol\n",
      "==========\n",
      "C=C(C)C([S])=S(462)\n"
     ]
    },
    {
     "data": {
      "image/png": "[encoded data removed]",
      "text/plain": [
       "Species(index=462, label=\"C=C(C)C([S])=S\", thermo=NASA(polynomials=[NASAPolynomial(coeffs=[1.78586,0.0522583,-5.96136e-05,4.08041e-08,-1.18506e-11,27744.8,21.962], Tmin=(100,'K'), Tmax=(823.13,'K')), NASAPolynomial(coeffs=[7.15158,0.026184,-1.20986e-05,2.32135e-09,-1.62823e-13,26861.4,-2.88014], Tmin=(823.13,'K'), Tmax=(5000,'K'))], Tmin=(100,'K'), Tmax=(5000,'K'), comment=\"\"\"Thermo group additivity estimation: group(Cs-(Cds-Cds)HHH) + gauche(Cs(RRRR)) + other(R) + group(Cds-CdsC=SCs) + gauche(CsOsCdSs) + other(R) +\n",
       "group(C=S-CsSs) + other(R) + group(Cds-CdsHH) + gauche(CsOsCdSs) + other(R) + group(Ss-C=SH) + gauche(Ss(RR)) + other(R) + group(Sd-Cd) + other(R) +\n",
       "radical(SJ-C=S)\"\"\"), molecule=[Molecule(SMILES=\"C=C(C)C([S])=S\")])"
      ]
     },
     "metadata": {},
     "output_type": "display_data"
    },
    {
     "name": "stdout",
     "output_type": "stream",
     "text": [
      "Group additivity:\n",
      "\tradical\n",
      "\t\tSJ-C=S = 1\n",
      "\tgauche\n",
      "\t\tCs(RRRR) = 1\n",
      "\t\tCsOsCdSs = 2\n",
      "\t\tSs(RR) = 1\n",
      "\tgroup\n",
      "\t\tSd-Cd = 1\n",
      "\t\tC=S-CsSs = 1\n",
      "\t\tCs-(Cds-Cds)HHH = 1\n",
      "\t\tCds-CdsHH = 1\n",
      "\t\tCds-CdsC=SCs = 1\n",
      "\t\tSs-C=SH = 1\n",
      "\tother\n",
      "\t\tR = 6\n",
      "\n",
      "Uncertainty dG =  2.30488611432  kcal/mol\n",
      "==========\n",
      "C=C(C)[C](S)C(C)(C)C(1427)\n"
     ]
    },
    {
     "data": {
      "image/png": "[encoded data removed]",
      "text/plain": [
       "Species(index=1427, label=\"C=C(C)[C](S)C(C)(C)C\", thermo=NASA(polynomials=[NASAPolynomial(coeffs=[-1.30445,0.105872,-8.04335e-05,3.13553e-08,-4.96153e-12,-55.615,35.2872], Tmin=(100,'K'), Tmax=(1481.99,'K')), NASAPolynomial(coeffs=[21.5682,0.0441371,-1.79478e-05,3.24628e-09,-2.19756e-13,-6835.02,-84.0581], Tmin=(1481.99,'K'), Tmax=(5000,'K'))], Tmin=(100,'K'), Tmax=(5000,'K'), comment=\"\"\"Thermo group additivity estimation: group(Cs-CsCsCsCs) + gauche(Cs(CsCsCsCs)) + other(R) + group(Cs-CdsCsSsH) + gauche(Cs(RRRR)) + other(R) + group\n",
       "(Cs-CsHHH) + gauche(Cs(Cs(CsCsCs)RRR)) + other(R) + group(Cs-CsHHH) + gauche(Cs(Cs(CsCsCs)RRR)) + other(R) + group(Cs-CsHHH) +\n",
       "gauche(Cs(Cs(CsCsCs)RRR)) + other(R) + group(Cs-(Cds-Cds)HHH) + gauche(Cs(RRRR)) + other(R) + group(Cds-CdsCsCs) + gauche(Cd(CsCs)) + other(R) + group\n",
       "(Cds-CdsHH) + gauche(CsOsCdSs) + other(R) + group(Ss-CsH) + gauche(Ss(CsH)) + other(R) + radical(CsJ-CsCdSs)\"\"\"), molecule=[Molecule(SMILES=\"C=C(C)[C](S)C(C)(C)C\"), Molecule(SMILES=\"[CH2]C(C)=C(S)C(C)(C)C\")])"
      ]
     },
     "metadata": {},
     "output_type": "display_data"
    },
    {
     "name": "stdout",
     "output_type": "stream",
     "text": [
      "Group additivity:\n",
      "\tradical\n",
      "\t\tCsJ-CsCdSs = 1\n",
      "\tgauche\n",
      "\t\tSs(CsH) = 1\n",
      "\t\tCs(Cs(CsCsCs)RRR) = 3\n",
      "\t\tCsOsCdSs = 1\n",
      "\t\tCs(CsCsCsCs) = 1\n",
      "\t\tCs(RRRR) = 2\n",
      "\t\tCd(CsCs) = 1\n",
      "\tgroup\n",
      "\t\tCs-(Cds-Cds)HHH = 1\n",
      "\t\tCs-CsHHH = 2\n",
      "\t\tCs-CdsCsSsH = 1\n",
      "\t\tSs-CsH = 1\n",
      "\t\tCds-CdsCsCs = 1\n",
      "\t\tCs-CsCsCsCs = 1\n",
      "\tother\n",
      "\t\tR = 9\n",
      "\n",
      "Uncertainty dG =  3.0  kcal/mol\n",
      "==========\n",
      "[CH2]C(C)=C1CC=C(S)S1(4135)\n"
     ]
    },
    {
     "data": {
      "image/png": "[encoded data removed]",
      "text/plain": [
       "Species(index=4135, label=\"[CH2]C(C)=C1CC=C(S)S1\", thermo=NASA(polynomials=[NASAPolynomial(coeffs=[-0.299166,0.0790065,-3.70857e-05,-1.47319e-08,1.2836e-11,29025.1,31.7216], Tmin=(100,'K'), Tmax=(991.4,'K')), NASAPolynomial(coeffs=[21.1511,0.0267331,-9.84921e-06,1.82173e-09,-1.31037e-13,23087.6,-80.0726], Tmin=(991.4,'K'), Tmax=(5000,'K'))], Tmin=(100,'K'), Tmax=(5000,'K'), comment=\"\"\"Thermo group additivity estimation: group(Cs-CdsCsSsH) + other(R) + group(Cs-(Cds-Cds)CsHH) + other(R) + group(Cs-(Cds-Cds)HHH) + other(R) + group\n",
       "(Cds-CdsCsCs) + other(R) + group(Cds-CdsCsH) + other(R) + group(Cds-CdsCsCs) + other(R) + group(Cds-CdsHH) + other(R) + group(Ss-CsCd) + other(R) +\n",
       "group(Ss-CdH) + other(R) + ring(2,3-dihydrothiophene) + radical(CsJ-CsCdSs)\"\"\"), molecule=[Molecule(SMILES=\"C=C(C)[C]1CC=C(S)S1\"), Molecule(SMILES=\"[CH2]C(C)=C1CC=C(S)S1\")])"
      ]
     },
     "metadata": {},
     "output_type": "display_data"
    },
    {
     "name": "stdout",
     "output_type": "stream",
     "text": [
      "Group additivity:\n",
      "\tradical\n",
      "\t\tCsJ-CsCdSs = 1\n",
      "\tring\n",
      "\t\t2,3-dihydrothiophene = 1\n",
      "\tother\n",
      "\t\tR = 9\n",
      "\tgroup\n",
      "\t\tCs-(Cds-Cds)HHH = 1\n",
      "\t\tCds-CdsHH = 1\n",
      "\t\tCs-CdsCsSsH = 1\n",
      "\t\tCs-(Cds-Cds)CsHH = 1\n",
      "\t\tCds-CdsCsCs = 1\n",
      "\t\tCds-CdsCsH = 1\n",
      "\t\tSs-CdH = 1\n",
      "\t\tSs-CsCd = 1\n",
      "\n",
      "Uncertainty dG =  2.8173569174  kcal/mol\n",
      "==========\n",
      "CCC1=CC(C)=C(S)S1(4768)\n"
     ]
    },
    {
     "data": {
      "image/png": "[encoded data removed]",
      "text/plain": [
       "Species(index=4768, label=\"CCC1=CC(C)=C(S)S1\", thermo=NASA(polynomials=[NASAPolynomial(coeffs=[-0.633336,0.083177,-3.14179e-05,-3.10072e-08,2.12333e-11,1352.77,31.1845], Tmin=(100,'K'), Tmax=(956.02,'K')), NASAPolynomial(coeffs=[24.6392,0.0225031,-6.93045e-06,1.22549e-09,-8.99056e-14,-5538.93,-100.375], Tmin=(956.02,'K'), Tmax=(5000,'K'))], Tmin=(100,'K'), Tmax=(5000,'K'), comment=\"\"\"Thermo group additivity estimation: group(Cs-(Cds-Cds)CsHH) + other(R) + group(Cs-CsHHH) + other(R) + group(Cs-(Cds-Cds)HHH) + other(R) + group(Cds-\n",
       "Cds(Cds-Cds)Cs) + other(R) + group(Cds-CdsCsSs) + other(R) + group(Cds-Cds(Cds-Cds)H) + other(R) + group(Cds-CdsCsCs) + other(R) + group(Ss-CdCd) +\n",
       "other(R) + group(Ss-CdH) + other(R) + ring(thiophene)\"\"\"), molecule=[Molecule(SMILES=\"CCC1=CC(C)=C(S)S1\")])"
      ]
     },
     "metadata": {},
     "output_type": "display_data"
    },
    {
     "name": "stdout",
     "output_type": "stream",
     "text": [
      "Group additivity:\n",
      "\tring\n",
      "\t\tthiophene = 1\n",
      "\tother\n",
      "\t\tR = 9\n",
      "\tgroup\n",
      "\t\tSs-CdCd = 1\n",
      "\t\tCds-Cds(Cds-Cds)H = 1\n",
      "\t\tCds-CdsCsSs = 1\n",
      "\t\tCs-(Cds-Cds)CsHH = 1\n",
      "\t\tCds-CdsCsCs = 1\n",
      "\t\tCs-(Cds-Cds)HHH = 1\n",
      "\t\tCs-CsHHH = 1\n",
      "\t\tSs-CdH = 1\n",
      "\n",
      "Uncertainty dG =  2.80624304008  kcal/mol\n",
      "==========\n",
      "CC1C2=CC1(C)[C](S)S2(4982)\n"
     ]
    },
    {
     "data": {
      "image/png": "[encoded data removed]",
      "text/plain": [
       "Species(index=4982, label=\"CC1C2=CC1(C)[C](S)S2\", thermo=NASA(polynomials=[NASAPolynomial(coeffs=[-0.960136,0.110307,-0.000118687,6.576e-08,-1.46232e-11,20707,-2.1244], Tmin=(100,'K'), Tmax=(1085.19,'K')), NASAPolynomial(coeffs=[18.9946,0.0367536,-1.70181e-05,3.30175e-09,-2.34386e-13,16376.1,-100.026], Tmin=(1085.19,'K'), Tmax=(5000,'K'))], Tmin=(100,'K'), Tmax=(5000,'K'), comment=\"\"\"Thermo group additivity estimation: group(Cs-(Cds-Cds)CsCsCs) + other(R) + group(Cs-(Cds-Cds)CsCsH) + other(R) + group(Cs-CsSsSsH) + other(R) + group\n",
       "(Cs-CsHHH) + other(R) + group(Cs-CsHHH) + other(R) + group(Cds-CdsCsSs) + other(R) + group(Cds-CdsCsH) + other(R) + group(Ss-CsCd) + other(R) + group\n",
       "(Ss-CsH) + other(R) + polycyclic(PolycyclicRing) + radical(CsJ-CsSsSs)\"\"\"), molecule=[Molecule(SMILES=\"CC1C2=CC1(C)[C](S)S2\")])"
      ]
     },
     "metadata": {},
     "output_type": "display_data"
    },
    {
     "name": "stdout",
     "output_type": "stream",
     "text": [
      "Group additivity:\n",
      "\tradical\n",
      "\t\tCsJ-CsSsSs = 1\n",
      "\tother\n",
      "\t\tR = 9\n",
      "\tgroup\n",
      "\t\tCs-(Cds-Cds)CsCsH = 1\n",
      "\t\tCs-(Cds-Cds)CsCsCs = 1\n",
      "\t\tCs-CsSsSsH = 1\n",
      "\t\tSs-CsCd = 1\n",
      "\t\tCds-CdsCsSs = 1\n",
      "\t\tCds-CdsCsH = 1\n",
      "\t\tCs-CsHHH = 1\n",
      "\tpolycyclic\n",
      "\t\tPolycyclicRing = 1\n",
      "\n",
      "Uncertainty dG =  2.80624304008  kcal/mol\n",
      "==========\n",
      "[CH2]C1(C)SC1=S(1049)\n"
     ]
    },
    {
     "data": {
      "image/png": "[encoded data removed]",
      "text/plain": [
       "Species(index=1049, label=\"[CH2]C1(C)SC1=S\", thermo=NASA(polynomials=[NASAPolynomial(coeffs=[1.77347,0.0330315,2.38974e-05,-5.87488e-08,2.53355e-11,35708.3,19.5513], Tmin=(100,'K'), Tmax=(982.52,'K')), NASAPolynomial(coeffs=[16.0956,0.0134118,-5.21378e-06,1.0808e-09,-8.55051e-14,31026.6,-58.7949], Tmin=(982.52,'K'), Tmax=(5000,'K'))], Tmin=(100,'K'), Tmax=(5000,'K'), comment=\"\"\"Thermo group additivity estimation: group(Cs-CsCsCsCs) + other(R) + group(Cs-CsHHH) + other(R) + group(Cs-CsHHH) + other(R) + group(C=S-CsSs) +\n",
       "other(R) + group(Ss-C=SCs) + other(R) + group(Sd-Cd) + other(R) + ring(thiirane) + radical(Cs_P)\"\"\"), molecule=[Molecule(SMILES=\"[CH2]C1(C)SC1=S\")])"
      ]
     },
     "metadata": {},
     "output_type": "display_data"
    },
    {
     "name": "stdout",
     "output_type": "stream",
     "text": [
      "Group additivity:\n",
      "\tradical\n",
      "\t\tCs_P = 1\n",
      "\tring\n",
      "\t\tthiirane = 1\n",
      "\tother\n",
      "\t\tR = 6\n",
      "\tgroup\n",
      "\t\tSs-C=SCs = 1\n",
      "\t\tSd-Cd = 1\n",
      "\t\tCs-CsCsCsCs = 1\n",
      "\t\tC=S-CsSs = 1\n",
      "\t\tCs-CsHHH = 2\n",
      "\n",
      "Uncertainty dG =  2.26384628453  kcal/mol\n",
      "==========\n",
      "[CH2]C12CSC(S1)=C(C)C2(2759)\n"
     ]
    },
    {
     "data": {
      "image/png": "[encoded data removed]",
      "text/plain": [
       "Species(index=2759, label=\"[CH2]C12CSC(S1)=C(C)C2\", thermo=NASA(polynomials=[NASAPolynomial(coeffs=[-1.59184,0.126935,-0.000163897,1.09032e-07,-2.86684e-11,25645.1,-1.3664], Tmin=(100,'K'), Tmax=(931.67,'K')), NASAPolynomial(coeffs=[19.8522,0.0348669,-1.56658e-05,2.96338e-09,-2.06334e-13,21649.4,-103.304], Tmin=(931.67,'K'), Tmax=(5000,'K'))], Tmin=(100,'K'), Tmax=(5000,'K'), comment=\"\"\"Thermo group additivity estimation: group(Cs-CsCsCsSs) + other(R) + group(Cs-(Cds-Cds)CsHH) + other(R) + group(Cs-CsSsHH) + other(R) + group(Cs-CsHHH)\n",
       "+ other(R) + group(Cs-(Cds-Cds)HHH) + other(R) + group(Cds-CdsCsCs) + other(R) + group(Cds-CdsCsCs) + other(R) + group(Ss-CsCd) + other(R) + group(Ss-\n",
       "CsCd) + other(R) + polycyclic(PolycyclicRing) + radical(Cs_P)\"\"\"), molecule=[Molecule(SMILES=\"[CH2]C12CSC(S1)=C(C)C2\")])"
      ]
     },
     "metadata": {},
     "output_type": "display_data"
    },
    {
     "name": "stdout",
     "output_type": "stream",
     "text": [
      "Group additivity:\n",
      "\tradical\n",
      "\t\tCs_P = 1\n",
      "\tother\n",
      "\t\tR = 9\n",
      "\tgroup\n",
      "\t\tCs-CsCsCsSs = 1\n",
      "\t\tCs-CsSsHH = 1\n",
      "\t\tCs-(Cds-Cds)CsHH = 1\n",
      "\t\tCs-(Cds-Cds)HHH = 1\n",
      "\t\tCds-CdsCsCs = 2\n",
      "\t\tCs-CsHHH = 1\n",
      "\t\tSs-CsCd = 1\n",
      "\tpolycyclic\n",
      "\t\tPolycyclicRing = 1\n",
      "\n",
      "Uncertainty dG =  2.8394541729  kcal/mol\n",
      "==========\n",
      "C=C(CS)C(=S)C[C](C)C(985)\n"
     ]
    },
    {
     "data": {
      "image/png": "[encoded data removed]",
      "text/plain": [
       "Species(index=985, label=\"C=C(CS)C(=S)C[C](C)C\", thermo=NASA(polynomials=[NASAPolynomial(coeffs=[-2.07944,0.146799,-0.000223569,1.92279e-07,-6.52262e-11,25906.8,40.8148], Tmin=(100,'K'), Tmax=(848.75,'K')), NASAPolynomial(coeffs=[11.3561,0.0596408,-2.74028e-05,5.10317e-09,-3.45985e-13,24484.8,-16.7423], Tmin=(848.75,'K'), Tmax=(5000,'K'))], Tmin=(100,'K'), Tmax=(5000,'K'), comment=\"\"\"Thermo group additivity estimation: group(Cs-CsCsCsH) + gauche(Cs(CsCsCsR)) + other(R) + group(Cs-C=SCsHH) + gauche(Cs(RRRR)) + other(R) + group(Cs-\n",
       "CsHHH) + gauche(Cs(Cs(CsCsR)RRR)) + other(R) + group(Cs-CsHHH) + gauche(Cs(Cs(CsCsR)RRR)) + other(R) + group(Cs-CdsSsHH) + gauche(Cs(RRRR)) + other(R)\n",
       "+ group(Cds-CdsC=SCs) + gauche(CsOsCdSs) + other(R) + group(C=S-CdsCs) + other(R) + group(Cds-CdsHH) + gauche(CsOsCdSs) + other(R) + group(Ss-CsH) +\n",
       "gauche(Ss(CsH)) + other(R) + group(Sd-Cd) + other(R) + radical(Tertalkyl)\"\"\"), molecule=[Molecule(SMILES=\"C=C(CS)C(=S)C[C](C)C\")])"
      ]
     },
     "metadata": {},
     "output_type": "display_data"
    },
    {
     "name": "stdout",
     "output_type": "stream",
     "text": [
      "Group additivity:\n",
      "\tradical\n",
      "\t\tTertalkyl = 1\n",
      "\tgauche\n",
      "\t\tSs(CsH) = 1\n",
      "\t\tCs(CsCsCsR) = 1\n",
      "\t\tCsOsCdSs = 2\n",
      "\t\tCs(Cs(CsCsR)RRR) = 2\n",
      "\t\tCs(RRRR) = 2\n",
      "\tgroup\n",
      "\t\tCs-CdsSsHH = 1\n",
      "\t\tCs-C=SCsHH = 1\n",
      "\t\tSd-Cd = 1\n",
      "\t\tC=S-CdsCs = 1\n",
      "\t\tCds-CdsC=SCs = 1\n",
      "\t\tCs-CsCsCsH = 1\n",
      "\t\tCds-CdsHH = 1\n",
      "\t\tCs-CsHHH = 1\n",
      "\t\tSs-CsH = 1\n",
      "\tother\n",
      "\t\tR = 10\n",
      "\n",
      "Uncertainty dG =  3.16227766017  kcal/mol\n",
      "==========\n",
      "C=C1CCC1=C(1796)\n"
     ]
    },
    {
     "data": {
      "image/png": "[encoded data removed]",
      "text/plain": [
       "Species(index=1796, label=\"C=C1CCC1=C\", thermo=NASA(polynomials=[NASAPolynomial(coeffs=[2.05211,0.0265085,4.9901e-05,-8.1935e-08,3.26935e-11,22474.5,15.5746], Tmin=(100,'K'), Tmax=(967.19,'K')), NASAPolynomial(coeffs=[12.6741,0.0232421,-8.09695e-06,1.5109e-09,-1.11572e-13,18517.9,-45.1481], Tmin=(967.19,'K'), Tmax=(5000,'K'))], Tmin=(100,'K'), Tmax=(5000,'K'), comment=\"\"\"Thermo group additivity estimation: group(Cs-(Cds-Cds)CsHH) + other(R) + group(Cs-(Cds-Cds)CsHH) + other(R) + group(Cds-Cds(Cds-Cds)Cs) + other(R) +\n",
       "group(Cds-Cds(Cds-Cds)Cs) + other(R) + group(Cds-CdsHH) + other(R) + group(Cds-CdsHH) + other(R) + ring(12methylenecyclobutane)\"\"\"), molecule=[Molecule(SMILES=\"C=C1CCC1=C\")])"
      ]
     },
     "metadata": {},
     "output_type": "display_data"
    },
    {
     "name": "stdout",
     "output_type": "stream",
     "text": [
      "Group additivity:\n",
      "\tring\n",
      "\t\t12methylenecyclobutane = 1\n",
      "\tother\n",
      "\t\tR = 6\n",
      "\tgroup\n",
      "\t\tCs-(Cds-Cds)CsHH = 2\n",
      "\t\tCds-CdsHH = 2\n",
      "\t\tCds-Cds(Cds-Cds)Cs = 2\n",
      "\n",
      "Uncertainty dG =  2.30488611432  kcal/mol\n",
      "==========\n",
      "[CH2]C(C)(C)SC(=S)C(=C)C(463)\n"
     ]
    },
    {
     "data": {
      "image/png": "[encoded data removed]",
      "text/plain": [
       "Species(index=463, label=\"[CH2]C(C)(C)SC(=S)C(=C)C\", thermo=NASA(polynomials=[NASAPolynomial(coeffs=[-1.25097,0.118362,-0.000116474,6.28996e-08,-1.40563e-11,22459.9,38.9758], Tmin=(100,'K'), Tmax=(1064.17,'K')), NASAPolynomial(coeffs=[16.3845,0.052074,-2.30389e-05,4.36603e-09,-3.05465e-13,18706.4,-47.2023], Tmin=(1064.17,'K'), Tmax=(5000,'K'))], Tmin=(100,'K'), Tmax=(5000,'K'), comment=\"\"\"Thermo group additivity estimation: group(Cs-CsCsCsSs) + gauche(Cs(RRRR)) + other(R) + group(Cs-CsHHH) + gauche(Cs(CsRRR)) + other(R) + group(Cs-\n",
       "CsHHH) + gauche(Cs(CsRRR)) + other(R) + group(Cs-CsHHH) + gauche(Cs(CsRRR)) + other(R) + group(Cs-(Cds-Cds)HHH) + gauche(Cs(RRRR)) + other(R) + group\n",
       "(Cds-CdsC=SCs) + gauche(CsOsCdSs) + other(R) + group(C=S-CsSs) + other(R) + group(Cds-CdsHH) + gauche(CsOsCdSs) + other(R) + group(Ss-C=SCs) +\n",
       "gauche(Ss(RR)) + other(R) + group(Sd-Cd) + other(R) + radical(Cs_P)\"\"\"), molecule=[Molecule(SMILES=\"[CH2]C(C)(C)SC(=S)C(=C)C\")])"
      ]
     },
     "metadata": {},
     "output_type": "display_data"
    },
    {
     "name": "stdout",
     "output_type": "stream",
     "text": [
      "Group additivity:\n",
      "\tradical\n",
      "\t\tCs_P = 1\n",
      "\tgauche\n",
      "\t\tSs(RR) = 1\n",
      "\t\tCs(RRRR) = 2\n",
      "\t\tCsOsCdSs = 2\n",
      "\t\tCs(CsRRR) = 3\n",
      "\tgroup\n",
      "\t\tSd-Cd = 1\n",
      "\t\tC=S-CsSs = 1\n",
      "\t\tCs-CsCsCsSs = 1\n",
      "\t\tCds-CdsHH = 1\n",
      "\t\tCs-(Cds-Cds)HHH = 1\n",
      "\t\tSs-C=SCs = 1\n",
      "\t\tCs-CsHHH = 2\n",
      "\tother\n",
      "\t\tR = 10\n",
      "\n",
      "Uncertainty dG =  3.21130814467  kcal/mol\n",
      "==========\n",
      "CCC12[CH]C(C)=C(S1)S2(4833)\n"
     ]
    },
    {
     "data": {
      "image/png": "[encoded data removed]",
      "text/plain": [
       "Species(index=4833, label=\"CCC12[CH]C(C)=C(S1)S2\", thermo=NASA(polynomials=[NASAPolynomial(coeffs=[-1.88704,0.133544,-0.000178043,1.21097e-07,-3.23799e-11,17319.7,-6.13009], Tmin=(100,'K'), Tmax=(918.68,'K')), NASAPolynomial(coeffs=[21.037,0.0337306,-1.50697e-05,2.83047e-09,-1.95911e-13,13107.8,-114.781], Tmin=(918.68,'K'), Tmax=(5000,'K'))], Tmin=(100,'K'), Tmax=(5000,'K'), comment=\"\"\"Thermo group additivity estimation: group(Cs-CsCsSsSs) + other(R) + group(Cs-CsCsHH) + other(R) + group(Cs-(Cds-Cds)CsHH) + other(R) + group(Cs-CsHHH)\n",
       "+ other(R) + group(Cs-(Cds-Cds)HHH) + other(R) + group(Cds-CdsCsCs) + other(R) + group(Cds-CdsCsCs) + other(R) + group(Ss-CsCd) + other(R) + group(Ss-\n",
       "CsCd) + other(R) + polycyclic(PolycyclicRing) + radical(Allyl_S)\"\"\"), molecule=[Molecule(SMILES=\"CCC12[CH]C(C)=C(S1)S2\"), Molecule(SMILES=\"CCC12C=C(C)[C](S1)S2\")])"
      ]
     },
     "metadata": {},
     "output_type": "display_data"
    },
    {
     "name": "stdout",
     "output_type": "stream",
     "text": [
      "Group additivity:\n",
      "\tradical\n",
      "\t\tAllyl_S = 1\n",
      "\tother\n",
      "\t\tR = 9\n",
      "\tgroup\n",
      "\t\tCs-(Cds-Cds)CsHH = 1\n",
      "\t\tCs-CsCsHH = 1\n",
      "\t\tCs-CsCsSsSs = 1\n",
      "\t\tSs-CsCd = 1\n",
      "\t\tCs-(Cds-Cds)HHH = 1\n",
      "\t\tCds-CdsCsCs = 2\n",
      "\t\tCs-CsHHH = 1\n",
      "\tpolycyclic\n",
      "\t\tPolycyclicRing = 1\n",
      "\n",
      "Uncertainty dG =  2.8394541729  kcal/mol\n",
      "==========\n",
      "C=C(C)[C]1SCC2(CCC2=C)S1(2153)\n"
     ]
    },
    {
     "data": {
      "image/png": "[encoded data removed]",
      "text/plain": [
       "Species(index=2153, label=\"C=C(C)[C]1SCC2(CCC2=C)S1\", thermo=NASA(polynomials=[NASAPolynomial(coeffs=[-3.14052,0.160775,-0.000183076,1.08553e-07,-2.57975e-11,24652,6.83874], Tmin=(100,'K'), Tmax=(1019.93,'K')), NASAPolynomial(coeffs=[24.418,0.0526925,-2.41176e-05,4.64872e-09,-3.28595e-13,19030.6,-126.659], Tmin=(1019.93,'K'), Tmax=(5000,'K'))], Tmin=(100,'K'), Tmax=(5000,'K'), comment=\"\"\"Thermo group additivity estimation: group(Cs-CsCsCsCs) + other(R) + group(Cs-CsCsHH) + other(R) + group(Cs-(Cds-Cds)CsHH) + other(R) + group(Cs-\n",
       "CsSsHH) + other(R) + group(Cs-(Cds-Cds)HHH) + other(R) + group(Cs-(Cds-Cds)HHH) + other(R) + group(Cds-CdsCsCs) + other(R) + group(Cds-CdsCsCs) +\n",
       "other(R) + group(Cds-CdsCsCs) + other(R) + group(Cds-CdsHH) + other(R) + group(Ss-CsCd) + other(R) + group(Ss-CsCd) + other(R) +\n",
       "polycyclic(PolycyclicRing) + radical(Allyl_P)\"\"\"), molecule=[Molecule(SMILES=\"[CH2]C(C)=C1SCC2(CCC2=C)S1\"), Molecule(SMILES=\"C=C(C)[C]1SCC2(CCC2=C)S1\")])"
      ]
     },
     "metadata": {},
     "output_type": "display_data"
    },
    {
     "name": "stdout",
     "output_type": "stream",
     "text": [
      "Group additivity:\n",
      "\tradical\n",
      "\t\tAllyl_P = 1\n",
      "\tother\n",
      "\t\tR = 12\n",
      "\tgroup\n",
      "\t\tCs-(Cds-Cds)CsHH = 1\n",
      "\t\tCds-CdsHH = 1\n",
      "\t\tCs-CsCsHH = 1\n",
      "\t\tSs-CsCd = 2\n",
      "\t\tCs-(Cds-Cds)HHH = 2\n",
      "\t\tCds-CdsCsCs = 3\n",
      "\t\tCs-CsCsCsCs = 1\n",
      "\tpolycyclic\n",
      "\t\tPolycyclicRing = 1\n",
      "\n",
      "Uncertainty dG =  3.56195171219  kcal/mol\n",
      "==========\n",
      "[CH2]C(=C)C[C](C)C(=S)SC(C)(C)C(1682)\n"
     ]
    },
    {
     "data": {
      "image/png": "[encoded data removed]",
      "text/plain": [
       "Species(index=1682, label=\"[CH2]C(=C)C[C](C)C(=S)SC(C)(C)C\", thermo=NASA(polynomials=[NASAPolynomial(coeffs=[-3.8001,0.170939,-0.00017447,9.49613e-08,-2.09152e-11,24495.3,50.0817], Tmin=(100,'K'), Tmax=(1093.11,'K')), NASAPolynomial(coeffs=[25.562,0.0634951,-2.70324e-05,5.04187e-09,-3.50126e-13,18076.1,-94.1873], Tmin=(1093.11,'K'), Tmax=(5000,'K'))], Tmin=(100,'K'), Tmax=(5000,'K'), comment=\"\"\"Thermo group additivity estimation: group(Cs-CsCsCsSs) + gauche(Cs(RRRR)) + other(R) + group(Cs-(Cds-Cds)(Cds-Cds)HH) + gauche(Cs(RRRR)) + other(R) +\n",
       "group(Cs-CsHHH) + gauche(Cs(CsRRR)) + other(R) + group(Cs-CsHHH) + gauche(Cs(CsRRR)) + other(R) + group(Cs-CsHHH) + gauche(Cs(CsRRR)) + other(R) +\n",
       "group(Cs-(Cds-Cds)HHH) + gauche(Cs(RRRR)) + other(R) + group(Cs-(Cds-Cds)HHH) + gauche(Cs(RRRR)) + other(R) + group(Cds-CdsCsCs) + gauche(Cd(CsCs)) +\n",
       "other(R) + group(Cds-CdsCsCs) + gauche(Cd(CsCs)) + other(R) + group(Cds-CdsCsCs) + gauche(CsOsCdSs) + other(R) + group(Cds-CdsHH) + gauche(CsOsCdSs) +\n",
       "other(R) + group(Ss-CsCd) + gauche(Ss(CsR)) + other(R) + group(Ss-CdH) + gauche(Ss(RR)) + other(R) + radical(SJ-Cd) + radical(Allyl_P)\"\"\"), molecule=[Molecule(SMILES=\"[CH2]C(=C)CC(C)=C([S])SC(C)(C)C\"), Molecule(SMILES=\"[CH2]C(=C)C[C](C)C(=S)SC(C)(C)C\")])"
      ]
     },
     "metadata": {},
     "output_type": "display_data"
    },
    {
     "name": "stdout",
     "output_type": "stream",
     "text": [
      "Group additivity:\n",
      "\tradical\n",
      "\t\tSJ-Cd = 1\n",
      "\t\tAllyl_P = 1\n",
      "\tgauche\n",
      "\t\tSs(RR) = 1\n",
      "\t\tCs(CsRRR) = 3\n",
      "\t\tSs(CsR) = 1\n",
      "\t\tCsOsCdSs = 2\n",
      "\t\tCs(RRRR) = 4\n",
      "\t\tCd(CsCs) = 2\n",
      "\tgroup\n",
      "\t\tCs-CsCsCsSs = 1\n",
      "\t\tCds-CdsHH = 1\n",
      "\t\tCs-(Cds-Cds)(Cds-Cds)HH = 1\n",
      "\t\tSs-CsCd = 1\n",
      "\t\tCs-(Cds-Cds)HHH = 2\n",
      "\t\tCds-CdsCsCs = 3\n",
      "\t\tCs-CsHHH = 3\n",
      "\t\tSs-CdH = 1\n",
      "\tother\n",
      "\t\tR = 13\n",
      "\n",
      "Uncertainty dG =  4.10030486671  kcal/mol\n",
      "==========\n",
      "C=C(C)C(=S)SC[C](C)C(1063)\n"
     ]
    },
    {
     "data": {
      "image/png": "[encoded data removed]",
      "text/plain": [
       "Species(index=1063, label=\"C=C(C)C(=S)SC[C](C)C\", thermo=NASA(polynomials=[NASAPolynomial(coeffs=[0.080112,0.102286,-5.71521e-05,-7.6598e-08,1.02996e-10,22096.3,36.8183], Tmin=(100,'K'), Tmax=(486.64,'K')), NASAPolynomial(coeffs=[7.97622,0.0655264,-3.05912e-05,5.85047e-09,-4.07628e-13,20994.6,0.987201], Tmin=(486.64,'K'), Tmax=(5000,'K'))], Tmin=(100,'K'), Tmax=(5000,'K'), comment=\"\"\"Thermo group additivity estimation: group(Cs-CsCsCsH) + gauche(Cs(CsCsCsR)) + other(R) + group(Cs-CsSsHH) + gauche(Cs(RRRR)) + other(R) + group(Cs-\n",
       "CsHHH) + gauche(Cs(Cs(CsCsR)RRR)) + other(R) + group(Cs-CsHHH) + gauche(Cs(Cs(CsCsR)RRR)) + other(R) + group(Cs-(Cds-Cds)HHH) + gauche(Cs(RRRR)) +\n",
       "other(R) + group(Cds-CdsC=SCs) + gauche(CsOsCdSs) + other(R) + group(C=S-CsSs) + other(R) + group(Cds-CdsHH) + gauche(CsOsCdSs) + other(R) +\n",
       "group(Ss-C=SCs) + gauche(Ss(RR)) + other(R) + group(Sd-Cd) + other(R) + radical(Tertalkyl)\"\"\"), molecule=[Molecule(SMILES=\"C=C(C)C(=S)SC[C](C)C\")])"
      ]
     },
     "metadata": {},
     "output_type": "display_data"
    },
    {
     "name": "stdout",
     "output_type": "stream",
     "text": [
      "Group additivity:\n",
      "\tradical\n",
      "\t\tTertalkyl = 1\n",
      "\tgauche\n",
      "\t\tSs(RR) = 1\n",
      "\t\tCs(CsCsCsR) = 1\n",
      "\t\tCsOsCdSs = 2\n",
      "\t\tCs(Cs(CsCsR)RRR) = 2\n",
      "\t\tCs(RRRR) = 2\n",
      "\tgroup\n",
      "\t\tSd-Cd = 1\n",
      "\t\tC=S-CsSs = 1\n",
      "\t\tCs-(Cds-Cds)HHH = 1\n",
      "\t\tCds-CdsHH = 1\n",
      "\t\tCds-CdsC=SCs = 1\n",
      "\t\tCs-CsCsCsH = 1\n",
      "\t\tSs-C=SCs = 1\n",
      "\t\tCs-CsSsHH = 1\n",
      "\t\tCs-CsHHH = 1\n",
      "\tother\n",
      "\t\tR = 10\n",
      "\n",
      "Uncertainty dG =  3.16227766017  kcal/mol\n",
      "==========\n",
      "C=C1CSC(=C(C)C1)C(C)(C)C(1821)\n"
     ]
    },
    {
     "data": {
      "image/png": "[encoded data removed]",
      "text/plain": [
       "Species(index=1821, label=\"C=C1CSC(=C(C)C1)C(C)(C)C\", thermo=NASA(polynomials=[NASAPolynomial(coeffs=[-3.11537,0.135739,-8.84243e-05,2.21895e-08,-3.08583e-13,-4865.5,36.4663], Tmin=(100,'K'), Tmax=(1206.55,'K')), NASAPolynomial(coeffs=[27.8639,0.0587286,-2.46267e-05,4.58839e-09,-3.18621e-13,-14211.3,-126.557], Tmin=(1206.55,'K'), Tmax=(5000,'K'))], Tmin=(100,'K'), Tmax=(5000,'K'), comment=\"\"\"Thermo group additivity estimation: group(Cs-(Cds-Cds)CsCsCs) + other(R) + group(Cs-(Cds-Cds)(Cds-Cds)HH) + other(R) + group(Cs-CsHHH) + other(R) +\n",
       "group(Cs-CsHHH) + other(R) + group(Cs-CsHHH) + other(R) + group(Cs-CdsSsHH) + other(R) + group(Cs-(Cds-Cds)HHH) + other(R) + group(Cds-CdsCsCs) +\n",
       "other(R) + group(Cds-CdsCsCs) + other(R) + group(Cds-CdsCsSs) + other(R) + group(Cds-CdsHH) + other(R) + group(Ss-CsCd) + other(R) + ring(Cyclohexane)\"\"\"), molecule=[Molecule(SMILES=\"C=C1CSC(=C(C)C1)C(C)(C)C\")])"
      ]
     },
     "metadata": {},
     "output_type": "display_data"
    },
    {
     "name": "stdout",
     "output_type": "stream",
     "text": [
      "Group additivity:\n",
      "\tring\n",
      "\t\tCyclohexane = 1\n",
      "\tother\n",
      "\t\tR = 12\n",
      "\tgroup\n",
      "\t\tCs-CdsSsHH = 1\n",
      "\t\tCs-(Cds-Cds)CsCsCs = 1\n",
      "\t\tCds-CdsHH = 1\n",
      "\t\tCds-CdsCsSs = 1\n",
      "\t\tCs-(Cds-Cds)(Cds-Cds)HH = 1\n",
      "\t\tSs-CsCd = 1\n",
      "\t\tCs-(Cds-Cds)HHH = 1\n",
      "\t\tCds-CdsCsCs = 2\n",
      "\t\tCs-CsHHH = 3\n",
      "\n",
      "Uncertainty dG =  3.54436171969  kcal/mol\n",
      "==========\n",
      "C=[C]C(38)\n"
     ]
    },
    {
     "data": {
      "image/png": "[encoded data removed]",
      "text/plain": [
       "Species(index=38, label=\"C=[C]C\", thermo=NASA(polynomials=[NASAPolynomial(coeffs=[3.26571,0.012976,8.77799e-06,-1.46318e-08,5.01178e-12,29371.3,10.2771], Tmin=(100,'K'), Tmax=(1095.64,'K')), NASAPolynomial(coeffs=[4.46557,0.0163913,-6.5704e-06,1.20129e-09,-8.27699e-14,28640.5,2.24362], Tmin=(1095.64,'K'), Tmax=(5000,'K'))], Tmin=(100,'K'), Tmax=(5000,'K'), comment=\"\"\"Thermo group additivity estimation: group(Cs-(Cds-Cds)HHH) + gauche(Cs(RRRR)) + other(R) + group(Cds-CdsCsH) + gauche(CsOsCdSs) + other(R) + group\n",
       "(Cds-CdsHH) + gauche(CsOsCdSs) + other(R) + radical(Cds_S)\"\"\"), molecule=[Molecule(SMILES=\"C=[C]C\")])"
      ]
     },
     "metadata": {},
     "output_type": "display_data"
    },
    {
     "name": "stdout",
     "output_type": "stream",
     "text": [
      "Group additivity:\n",
      "\tradical\n",
      "\t\tCds_S = 1\n",
      "\tgauche\n",
      "\t\tCs(RRRR) = 1\n",
      "\t\tCsOsCdSs = 2\n",
      "\tgroup\n",
      "\t\tCs-(Cds-Cds)HHH = 1\n",
      "\t\tCds-CdsCsH = 1\n",
      "\tother\n",
      "\t\tR = 3\n",
      "\n",
      "Uncertainty dG =  1.82002747232  kcal/mol\n",
      "==========\n",
      "CC1C=C2[CH]CSC=1S2(5303)\n"
     ]
    },
    {
     "data": {
      "image/png": "[encoded data removed]",
      "text/plain": [
       "Species(index=5303, label=\"CC1C=C2[CH]CSC=1S2\", thermo=NASA(polynomials=[NASAPolynomial(coeffs=[-1.51005,0.121676,-0.000161836,1.07676e-07,-2.78104e-11,28797.3,-4.16218], Tmin=(100,'K'), Tmax=(956.18,'K')), NASAPolynomial(coeffs=[21.6383,0.024839,-9.92402e-06,1.75938e-09,-1.17809e-13,24370.5,-114.802], Tmin=(956.18,'K'), Tmax=(5000,'K'))], Tmin=(100,'K'), Tmax=(5000,'K'), comment=\"\"\"Thermo group additivity estimation: group(Cs-(Cds-Cds)(Cds-Cds)HH) + other(R) + group(Cs-CdsSsHH) + other(R) + group(Cs-(Cds-Cds)HHH) + other(R) +\n",
       "group(Cds-CdsCsCs) + other(R) + group(Cds-CdsCsSs) + other(R) + group(Cds-CdsCsH) + other(R) + group(Cds-CdsCsCs) + other(R) + group(Ss-CsCd) +\n",
       "other(R) + group(Ss-CdCd) + other(R) + polycyclic(PolycyclicRing) + radical(C=CCJC=C)\"\"\"), molecule=[Molecule(SMILES=\"CC1[CH]C2=CCSC=1S2\"), Molecule(SMILES=\"CC1=CC2=CCS[C]1S2\"), Molecule(SMILES=\"CC1C=C2[CH]CSC=1S2\")])"
      ]
     },
     "metadata": {},
     "output_type": "display_data"
    },
    {
     "name": "stdout",
     "output_type": "stream",
     "text": [
      "Group additivity:\n",
      "\tradical\n",
      "\t\tC=CCJC=C = 1\n",
      "\tother\n",
      "\t\tR = 9\n",
      "\tgroup\n",
      "\t\tSs-CdCd = 1\n",
      "\t\tCs-CdsSsHH = 1\n",
      "\t\tCs-(Cds-Cds)(Cds-Cds)HH = 1\n",
      "\t\tCds-CdsCsCs = 2\n",
      "\t\tCds-CdsCsH = 1\n",
      "\t\tSs-CsCd = 1\n",
      "\t\tCs-(Cds-Cds)HHH = 1\n",
      "\t\tCds-CdsCsSs = 1\n",
      "\tpolycyclic\n",
      "\t\tPolycyclicRing = 1\n",
      "\n",
      "Uncertainty dG =  2.85043856275  kcal/mol\n",
      "==========\n",
      "C=C1[CH]CC(C)=C(S)S1(2849)\n"
     ]
    },
    {
     "data": {
      "image/png": "[encoded data removed]",
      "text/plain": [
       "Species(index=2849, label=\"C=C1[CH]CC(C)=C(S)S1\", thermo=NASA(polynomials=[NASAPolynomial(coeffs=[-0.201544,0.0771917,-3.34406e-05,-1.08686e-08,8.82981e-12,30226.3,28.6752], Tmin=(100,'K'), Tmax=(1078.15,'K')), NASAPolynomial(coeffs=[19.2203,0.0344719,-1.48208e-05,2.85577e-09,-2.04729e-13,24333.3,-74.3927], Tmin=(1078.15,'K'), Tmax=(5000,'K'))], Tmin=(100,'K'), Tmax=(5000,'K'), comment=\"\"\"Thermo group additivity estimation: group(Cs-(Cds-Cds)(Cds-Cds)HH) + other(R) + group(Cs-(Cds-Cds)HHH) + other(R) + group(Cs-(Cds-Cds)HHH) + other(R)\n",
       "+ group(Cds-CdsCsCs) + other(R) + group(Cds-CdsCsSs) + other(R) + group(Cds-CdsCsH) + other(R) + group(Cds-CdsCsCs) + other(R) + group(Ss-CdCd) +\n",
       "other(R) + group(Ss-CdH) + other(R) + ring(Cyclohexane) + radical(Allyl_P)\"\"\"), molecule=[Molecule(SMILES=\"[CH2]C1=CCC(C)=C(S)S1\"), Molecule(SMILES=\"C=C1[CH]CC(C)=C(S)S1\")])"
      ]
     },
     "metadata": {},
     "output_type": "display_data"
    },
    {
     "name": "stdout",
     "output_type": "stream",
     "text": [
      "Group additivity:\n",
      "\tradical\n",
      "\t\tAllyl_P = 1\n",
      "\tring\n",
      "\t\tCyclohexane = 1\n",
      "\tother\n",
      "\t\tR = 9\n",
      "\tgroup\n",
      "\t\tSs-CdCd = 1\n",
      "\t\tCds-CdsCsSs = 1\n",
      "\t\tCds-CdsCsH = 1\n",
      "\t\tCs-(Cds-Cds)(Cds-Cds)HH = 1\n",
      "\t\tCds-CdsCsCs = 2\n",
      "\t\tCs-(Cds-Cds)HHH = 2\n",
      "\t\tSs-CdH = 1\n",
      "\n",
      "Uncertainty dG =  2.87228132327  kcal/mol\n",
      "==========\n",
      "[CH2]C(=C)S[S](1413)\n"
     ]
    },
    {
     "data": {
      "image/png": "[encoded data removed]",
      "text/plain": [
       "Species(index=1413, label=\"[CH2]C(=C)S[S]\", thermo=NASA(polynomials=[NASAPolynomial(coeffs=[1.87708,0.0434938,-4.30145e-05,2.16603e-08,-4.31138e-12,33739.8,20.0823], Tmin=(100,'K'), Tmax=(1220.89,'K')), NASAPolynomial(coeffs=[11.3164,0.0125671,-5.01681e-06,9.11308e-10,-6.25529e-14,31434.9,-27.3409], Tmin=(1220.89,'K'), Tmax=(5000,'K'))], Tmin=(100,'K'), Tmax=(5000,'K'), comment=\"\"\"Thermo group additivity estimation: group(Cs-(Cds-Cds)HHH) + gauche(Cs(RRRR)) + other(R) + group(Cds-CdsCsSs) + gauche(CsOsCdSs) + other(R) + group\n",
       "(Cds-CdsHH) + gauche(CsOsCdSs) + other(R) + group(Ss-SsCd) + gauche(Ss(RR)) + other(R) + group(Ss-SsH) + gauche(Ss(RR)) + other(R) + radical(Allyl_P)\n",
       "+ radical(SJ-Ss-Cs)\"\"\"), molecule=[Molecule(SMILES=\"[CH2]C(=C)S[S]\")])"
      ]
     },
     "metadata": {},
     "output_type": "display_data"
    },
    {
     "name": "stdout",
     "output_type": "stream",
     "text": [
      "Group additivity:\n",
      "\tradical\n",
      "\t\tAllyl_P = 1\n",
      "\t\tSJ-Ss-Cs = 1\n",
      "\tgauche\n",
      "\t\tCs(RRRR) = 1\n",
      "\t\tCsOsCdSs = 2\n",
      "\t\tSs(RR) = 2\n",
      "\tgroup\n",
      "\t\tCs-(Cds-Cds)HHH = 1\n",
      "\t\tSs-SsCd = 1\n",
      "\t\tSs-SsH = 1\n",
      "\t\tCds-CdsCsSs = 1\n",
      "\tother\n",
      "\t\tR = 5\n",
      "\n",
      "Uncertainty dG =  2.17944947177  kcal/mol\n",
      "==========\n",
      "C=C(C)C(=S)S(394)\n"
     ]
    },
    {
     "data": {
      "image/png": "[encoded data removed]",
      "text/plain": [
       "Species(index=394, label=\"C=C(C)C(=S)S\", thermo=NASA(polynomials=[NASAPolynomial(coeffs=[1.30573,0.0629992,-7.74814e-05,5.51756e-08,-1.62462e-11,13468.7,22.5241], Tmin=(100,'K'), Tmax=(821.15,'K')), NASAPolynomial(coeffs=[8.61775,0.0273804,-1.24155e-05,2.34997e-09,-1.63172e-13,12267.9,-11.3113], Tmin=(821.15,'K'), Tmax=(5000,'K'))], Tmin=(100,'K'), Tmax=(5000,'K'), comment=\"\"\"Thermo group additivity estimation: group(Cs-(Cds-Cds)HHH) + gauche(Cs(RRRR)) + other(R) + group(Cds-CdsC=SCs) + gauche(CsOsCdSs) + other(R) +\n",
       "group(C=S-CsSs) + other(R) + group(Cds-CdsHH) + gauche(CsOsCdSs) + other(R) + group(Ss-C=SH) + gauche(Ss(RR)) + other(R) + group(Sd-Cd) + other(R)\"\"\"), molecule=[Molecule(SMILES=\"C=C(C)C(=S)S\")])"
      ]
     },
     "metadata": {},
     "output_type": "display_data"
    },
    {
     "name": "stdout",
     "output_type": "stream",
     "text": [
      "Group additivity:\n",
      "\tgauche\n",
      "\t\tCs(RRRR) = 1\n",
      "\t\tCsOsCdSs = 2\n",
      "\t\tSs(RR) = 1\n",
      "\tgroup\n",
      "\t\tSd-Cd = 1\n",
      "\t\tC=S-CsSs = 1\n",
      "\t\tCs-(Cds-Cds)HHH = 1\n",
      "\t\tCds-CdsHH = 1\n",
      "\t\tCds-CdsC=SCs = 1\n",
      "\t\tSs-C=SH = 1\n",
      "\tother\n",
      "\t\tR = 6\n",
      "\n",
      "Uncertainty dG =  2.29128784748  kcal/mol\n",
      "==========\n",
      "[CH2]C(=C)SC1SC(C=C)=CC=1C(5407)\n"
     ]
    },
    {
     "data": {
      "image/png": "[encoded data removed]",
      "text/plain": [
       "Species(index=5407, label=\"[CH2]C(=C)SC1SC(C=C)=CC=1C\", thermo=NASA(polynomials=[NASAPolynomial(coeffs=[-2.6657,0.128046,-0.000101206,2.13231e-08,6.0379e-12,39166.7,40.793], Tmin=(100,'K'), Tmax=(970.22,'K')), NASAPolynomial(coeffs=[31.704,0.0273902,-9.0424e-06,1.59601e-09,-1.13744e-13,30565.7,-133.937], Tmin=(970.22,'K'), Tmax=(5000,'K'))], Tmin=(100,'K'), Tmax=(5000,'K'), comment=\"\"\"Thermo group additivity estimation: group(Cs-(Cds-Cds)HHH) + other(R) + group(Cs-(Cds-Cds)HHH) + other(R) + group(Cds-Cds(Cds-Cds)Cs) + other(R) +\n",
       "group(Cds-CdsCsSs) + other(R) + group(Cds-CdsCsCs) + other(R) + group(Cds-CdsCsCs) + other(R) + group(Cds-Cds(Cds-Cds)H) + other(R) + group(Cds-Cds\n",
       "(Cds-Cds)H) + other(R) + group(Cds-CdsHH) + other(R) + group(Cds-CdsHH) + other(R) + group(Ss-CdCd) + other(R) + group(Ss-CdCd) + other(R) +\n",
       "ring(thiophene) + radical(Allyl_P)\"\"\"), molecule=[Molecule(SMILES=\"[CH2]C(=C)SC1SC(C=C)=CC=1C\")])"
      ]
     },
     "metadata": {},
     "output_type": "display_data"
    },
    {
     "name": "stdout",
     "output_type": "stream",
     "text": [
      "Group additivity:\n",
      "\tradical\n",
      "\t\tAllyl_P = 1\n",
      "\tring\n",
      "\t\tthiophene = 1\n",
      "\tother\n",
      "\t\tR = 12\n",
      "\tgroup\n",
      "\t\tSs-CdCd = 2\n",
      "\t\tCs-(Cds-Cds)HHH = 2\n",
      "\t\tCds-CdsHH = 2\n",
      "\t\tCds-CdsCsSs = 1\n",
      "\t\tCds-Cds(Cds-Cds)Cs = 1\n",
      "\t\tCds-Cds(Cds-Cds)H = 1\n",
      "\t\tCds-CdsCsCs = 2\n",
      "\n",
      "Uncertainty dG =  3.54436171969  kcal/mol\n",
      "==========\n",
      "[CH2]C1C=C(S)CCC=1S(4522)\n"
     ]
    },
    {
     "data": {
      "image/png": "[encoded data removed]",
      "text/plain": [
       "Species(index=4522, label=\"[CH2]C1C=C(S)CCC=1S\", thermo=NASA(polynomials=[NASAPolynomial(coeffs=[-0.0758191,0.0702859,-5.65889e-06,-4.46175e-08,2.18494e-11,26214.6,28.287], Tmin=(100,'K'), Tmax=(1015.08,'K')), NASAPolynomial(coeffs=[20.7883,0.0316712,-1.30287e-05,2.53915e-09,-1.86573e-13,19732.5,-83.7472], Tmin=(1015.08,'K'), Tmax=(5000,'K'))], Tmin=(100,'K'), Tmax=(5000,'K'), comment=\"\"\"Thermo group additivity estimation: group(Cs-CdsCsSsH) + other(R) + group(Cs-CsCsHH) + other(R) + group(Cs-(Cds-Cds)CsHH) + other(R) + group(Cds-Cds\n",
       "(Cds-Cds)Cs) + other(R) + group(Cds-CdsCsSs) + other(R) + group(Cds-Cds(Cds-Cds)H) + other(R) + group(Cds-CdsHH) + other(R) + group(Ss-CsH) + other(R)\n",
       "+ group(Ss-CdH) + other(R) + ring(Cyclohexane) + radical(CsJ-CsCdSs)\"\"\"), molecule=[Molecule(SMILES=\"C=C1C=C(S)CC[C]1S\"), Molecule(SMILES=\"[CH2]C1C=C(S)CCC=1S\")])"
      ]
     },
     "metadata": {},
     "output_type": "display_data"
    },
    {
     "name": "stdout",
     "output_type": "stream",
     "text": [
      "Group additivity:\n",
      "\tradical\n",
      "\t\tCsJ-CsCdSs = 1\n",
      "\tring\n",
      "\t\tCyclohexane = 1\n",
      "\tother\n",
      "\t\tR = 9\n",
      "\tgroup\n",
      "\t\tCds-Cds(Cds-Cds)H = 1\n",
      "\t\tCds-CdsHH = 1\n",
      "\t\tCs-CdsCsSsH = 1\n",
      "\t\tSs-CsH = 1\n",
      "\t\tCs-(Cds-Cds)CsHH = 1\n",
      "\t\tCds-CdsCsSs = 1\n",
      "\t\tCs-CsCsHH = 1\n",
      "\t\tSs-CdH = 1\n",
      "\n",
      "Uncertainty dG =  2.8173569174  kcal/mol\n",
      "==========\n",
      "[CH2]C(C)(C)S[S](103)\n"
     ]
    },
    {
     "data": {
      "image/png": "[encoded data removed]",
      "text/plain": [
       "Species(index=103, label=\"[CH2]C(C)(C)S[S]\", thermo=NASA(polynomials=[NASAPolynomial(coeffs=[0.984143,0.0651095,-6.23322e-05,3.1972e-08,-6.64586e-12,19031.6,24.9675], Tmin=(100,'K'), Tmax=(1153.91,'K')), NASAPolynomial(coeffs=[12.5318,0.0250796,-1.02959e-05,1.90805e-09,-1.32332e-13,16366.7,-32.3963], Tmin=(1153.91,'K'), Tmax=(5000,'K'))], Tmin=(100,'K'), Tmax=(5000,'K'), comment=\"\"\"Thermo library: SulfurLibrary + radical(Cs_P) + radical(SJ-Ss-Cs)\"\"\"), molecule=[Molecule(SMILES=\"[CH2]C(C)(C)S[S]\")])"
      ]
     },
     "metadata": {},
     "output_type": "display_data"
    },
    {
     "name": "stdout",
     "output_type": "stream",
     "text": [
      "Thermo Library:  28\n",
      "Group additivity:\n",
      "\tradical\n",
      "\t\tCs_P = 1\n",
      "\t\tSJ-Ss-Cs = 1\n",
      "\n",
      "Uncertainty dG =  2.52487623459  kcal/mol\n",
      "==========\n",
      "C[C]1C(=S)SC2=CCC12(5320)\n"
     ]
    },
    {
     "data": {
      "image/png": "[encoded data removed]",
      "text/plain": [
       "Species(index=5320, label=\"C[C]1C(=S)SC2=CCC12\", thermo=NASA(polynomials=[NASAPolynomial(coeffs=[-0.572477,0.103697,-0.000122877,7.61082e-08,-1.88707e-11,29609.2,-3.95447], Tmin=(100,'K'), Tmax=(980.1,'K')), NASAPolynomial(coeffs=[16.6483,0.0334148,-1.53111e-05,2.94036e-09,-2.07092e-13,26233.6,-86.6883], Tmin=(980.1,'K'), Tmax=(5000,'K'))], Tmin=(100,'K'), Tmax=(5000,'K'), comment=\"\"\"Thermo group additivity estimation: group(Cs-(Cds-Cds)(Cds-Cds)CsH) + other(R) + group(Cs-(Cds-Cds)CsHH) + other(R) + group(Cs-(Cds-Cds)HHH) +\n",
       "other(R) + group(Cds-CdsCsCs) + other(R) + group(Cds-CdsCsSs) + other(R) + group(Cds-CdsCsH) + other(R) + group(Cds-CdsCsCs) + other(R) + group(Ss-\n",
       "CdCd) + other(R) + group(Ss-CdH) + other(R) + polycyclic(PolycyclicRing) + radical(SJ-Cd)\"\"\"), molecule=[Molecule(SMILES=\"CC1=C([S])SC2=CCC21\"), Molecule(SMILES=\"C[C]1C(=S)SC2=CCC12\")])"
      ]
     },
     "metadata": {},
     "output_type": "display_data"
    },
    {
     "name": "stdout",
     "output_type": "stream",
     "text": [
      "Group additivity:\n",
      "\tradical\n",
      "\t\tSJ-Cd = 1\n",
      "\tother\n",
      "\t\tR = 9\n",
      "\tgroup\n",
      "\t\tCs-(Cds-Cds)CsHH = 1\n",
      "\t\tCs-(Cds-Cds)(Cds-Cds)CsH = 1\n",
      "\t\tCds-CdsCsSs = 1\n",
      "\t\tCds-CdsCsH = 1\n",
      "\t\tCds-CdsCsCs = 2\n",
      "\t\tCs-(Cds-Cds)HHH = 1\n",
      "\t\tSs-CdH = 1\n",
      "\tpolycyclic\n",
      "\t\tPolycyclicRing = 1\n",
      "\n",
      "Uncertainty dG =  2.8394541729  kcal/mol\n",
      "==========\n",
      "[CH2]C=C1CC(C)=C(S)S1(3539)\n"
     ]
    },
    {
     "data": {
      "image/png": "[encoded data removed]",
      "text/plain": [
       "Species(index=3539, label=\"[CH2]C=C1CC(C)=C(S)S1\", thermo=NASA(polynomials=[NASAPolynomial(coeffs=[-0.299166,0.0790065,-3.70857e-05,-1.47319e-08,1.2836e-11,29025.1,31.7216], Tmin=(100,'K'), Tmax=(991.4,'K')), NASAPolynomial(coeffs=[21.1511,0.0267331,-9.84921e-06,1.82173e-09,-1.31037e-13,23087.6,-80.0726], Tmin=(991.4,'K'), Tmax=(5000,'K'))], Tmin=(100,'K'), Tmax=(5000,'K'), comment=\"\"\"Thermo group additivity estimation: group(Cs-CdsCsSsH) + other(R) + group(Cs-(Cds-Cds)CsHH) + other(R) + group(Cs-(Cds-Cds)HHH) + other(R) + group\n",
       "(Cds-CdsCsCs) + other(R) + group(Cds-CdsCsH) + other(R) + group(Cds-CdsCsCs) + other(R) + group(Cds-CdsHH) + other(R) + group(Ss-CsCd) + other(R) +\n",
       "group(Ss-CdH) + other(R) + ring(2,3-dihydrothiophene) + radical(CsJ-CsCdSs)\"\"\"), molecule=[Molecule(SMILES=\"C=C[C]1CC(C)=C(S)S1\"), Molecule(SMILES=\"[CH2]C=C1CC(C)=C(S)S1\")])"
      ]
     },
     "metadata": {},
     "output_type": "display_data"
    },
    {
     "name": "stdout",
     "output_type": "stream",
     "text": [
      "Group additivity:\n",
      "\tradical\n",
      "\t\tCsJ-CsCdSs = 1\n",
      "\tring\n",
      "\t\t2,3-dihydrothiophene = 1\n",
      "\tother\n",
      "\t\tR = 9\n",
      "\tgroup\n",
      "\t\tCs-(Cds-Cds)HHH = 1\n",
      "\t\tCds-CdsHH = 1\n",
      "\t\tCs-CdsCsSsH = 1\n",
      "\t\tCs-(Cds-Cds)CsHH = 1\n",
      "\t\tCds-CdsCsCs = 1\n",
      "\t\tCds-CdsCsH = 1\n",
      "\t\tSs-CdH = 1\n",
      "\t\tSs-CsCd = 1\n",
      "\n",
      "Uncertainty dG =  2.8173569174  kcal/mol\n",
      "==========\n",
      "[CH2]C1(CSC(C)(C)C)CS1(785)\n"
     ]
    },
    {
     "data": {
      "image/png": "[encoded data removed]",
      "text/plain": [
       "Species(index=785, label=\"[CH2]C1(CSC(C)(C)C)CS1\", thermo=NASA(polynomials=[NASAPolynomial(coeffs=[-2.1561,0.126174,-0.000113322,5.30223e-08,-9.97033e-12,15050.7,40.2122], Tmin=(100,'K'), Tmax=(1275.7,'K')), NASAPolynomial(coeffs=[23.6534,0.045247,-1.81662e-05,3.29459e-09,-2.25107e-13,8465.68,-90.588], Tmin=(1275.7,'K'), Tmax=(5000,'K'))], Tmin=(100,'K'), Tmax=(5000,'K'), comment=\"\"\"Thermo group additivity estimation: group(Cs-CsCsCsSs) + other(R) + group(Cs-CsCsCsSs) + other(R) + group(Cs-CsSsHH) + other(R) + group(Cs-CsSsHH) +\n",
       "other(R) + group(Cs-CsHHH) + other(R) + group(Cs-CsHHH) + other(R) + group(Cs-CsHHH) + other(R) + group(Cs-CsHHH) + other(R) + group(Ss-CsCs) +\n",
       "other(R) + group(Ss-CsCs) + other(R) + ring(thiirane) + radical(Cs_P)\"\"\"), molecule=[Molecule(SMILES=\"[CH2]C1(CSC(C)(C)C)CS1\")])"
      ]
     },
     "metadata": {},
     "output_type": "display_data"
    },
    {
     "name": "stdout",
     "output_type": "stream",
     "text": [
      "Group additivity:\n",
      "\tradical\n",
      "\t\tCs_P = 1\n",
      "\tring\n",
      "\t\tthiirane = 1\n",
      "\tother\n",
      "\t\tR = 10\n",
      "\tgroup\n",
      "\t\tCs-CsCsCsSs = 2\n",
      "\t\tSs-CsCs = 2\n",
      "\t\tCs-CsSsHH = 2\n",
      "\t\tCs-CsHHH = 4\n",
      "\n",
      "Uncertainty dG =  3.22102468168  kcal/mol\n",
      "==========\n",
      "C=C1CCC(C)=C(SC[C](C)C)S1(2893)\n"
     ]
    },
    {
     "data": {
      "image/png": "[encoded data removed]",
      "text/plain": [
       "Species(index=2893, label=\"C=C1CCC(C)=C(SC[C](C)C)S1\", thermo=NASA(polynomials=[NASAPolynomial(coeffs=[-1.93166,0.138476,-0.000109928,4.77456e-08,-8.9852e-12,23223.9,42.3743], Tmin=(100,'K'), Tmax=(1197.08,'K')), NASAPolynomial(coeffs=[15.49,0.0802624,-3.69842e-05,7.12228e-09,-5.01401e-13,19052.9,-44.8089], Tmin=(1197.08,'K'), Tmax=(5000,'K'))], Tmin=(100,'K'), Tmax=(5000,'K'), comment=\"\"\"Thermo group additivity estimation: group(Cs-CsCsCsH) + other(R) + group(Cs-(Cds-Cds)CsHH) + other(R) + group(Cs-(Cds-Cds)CsHH) + other(R) + group(Cs-\n",
       "CsSsHH) + other(R) + group(Cs-CsHHH) + other(R) + group(Cs-CsHHH) + other(R) + group(Cs-(Cds-Cds)HHH) + other(R) + group(Cds-CdsCsCs) + other(R) +\n",
       "group(Cds-CdsCsSs) + other(R) + group(Cds-CdsCsCs) + other(R) + group(Cds-CdsHH) + other(R) + group(Ss-CsCd) + other(R) + group(Ss-CdCd) + other(R) +\n",
       "ring(Cyclohexane) + radical(Tertalkyl)\"\"\"), molecule=[Molecule(SMILES=\"C=C1CCC(C)=C(SC[C](C)C)S1\")])"
      ]
     },
     "metadata": {},
     "output_type": "display_data"
    },
    {
     "name": "stdout",
     "output_type": "stream",
     "text": [
      "Group additivity:\n",
      "\tradical\n",
      "\t\tTertalkyl = 1\n",
      "\tring\n",
      "\t\tCyclohexane = 1\n",
      "\tother\n",
      "\t\tR = 13\n",
      "\tgroup\n",
      "\t\tSs-CdCd = 1\n",
      "\t\tCs-(Cds-Cds)CsHH = 2\n",
      "\t\tCds-CdsHH = 1\n",
      "\t\tCds-CdsCsCs = 2\n",
      "\t\tCs-CsCsCsH = 1\n",
      "\t\tCs-(Cds-Cds)HHH = 1\n",
      "\t\tCds-CdsCsSs = 1\n",
      "\t\tCs-CsHHH = 2\n",
      "\t\tSs-CsCd = 1\n",
      "\n",
      "Uncertainty dG =  3.75  kcal/mol\n",
      "==========\n",
      "C=C(C)C([S])(SC(C)(C)C)C(C)(C)C(482)\n"
     ]
    },
    {
     "data": {
      "image/png": "[encoded data removed]",
      "text/plain": [
       "Species(index=482, label=\"C=C(C)C([S])(SC(C)(C)C)C(C)(C)C\", thermo=NASA(polynomials=[NASAPolynomial(coeffs=[-4.6246,0.182238,-0.000155232,6.89266e-08,-1.24875e-11,-6960.28,52.8867], Tmin=(100,'K'), Tmax=(1302.4,'K')), NASAPolynomial(coeffs=[30.0971,0.0755996,-3.24161e-05,6.06047e-09,-4.20246e-13,-16004.7,-123.799], Tmin=(1302.4,'K'), Tmax=(5000,'K'))], Tmin=(100,'K'), Tmax=(5000,'K'), comment=\"\"\"Thermo group additivity estimation: group(Cs-CsCsCsCs) + gauche(Cs(CsCsCsCs)) + other(R) + group(Cs-CsCsCsSs) + gauche(Cs(RRRR)) + other(R) + group\n",
       "(Cs-CsCsCsCs) + gauche(Cs(RRRR)) + other(R) + group(Cs-CsHHH) + gauche(Cs(Cs(CsCsCs)RRR)) + other(R) + group(Cs-CsHHH) + gauche(Cs(Cs(CsCsCs)RRR)) +\n",
       "other(R) + group(Cs-CsHHH) + gauche(Cs(Cs(CsCsCs)RRR)) + other(R) + group(Cs-CsHHH) + gauche(Cs(CsRRR)) + other(R) + group(Cs-CsHHH) +\n",
       "gauche(Cs(CsRRR)) + other(R) + group(Cs-CsHHH) + gauche(Cs(CsRRR)) + other(R) + group(Cs-(Cds-Cds)HHH) + gauche(Cs(RRRR)) + other(R) + group(Cds-\n",
       "CdsCsCs) + gauche(Cd(CsCs)) + other(R) + group(Cds-CdsHH) + gauche(CsOsCdSs) + other(R) + group(Ss-CsCs) + gauche(Ss(CsCs)) + other(R) + group(Ss-CsH)\n",
       "+ gauche(Ss(CsH)) + other(R) + radical(SJ-Cs)\"\"\"), molecule=[Molecule(SMILES=\"C=C(C)C([S])(SC(C)(C)C)C(C)(C)C\")])"
      ]
     },
     "metadata": {},
     "output_type": "display_data"
    },
    {
     "name": "stdout",
     "output_type": "stream",
     "text": [
      "Group additivity:\n",
      "\tradical\n",
      "\t\tSJ-Cs = 1\n",
      "\tgauche\n",
      "\t\tCs(CsRRR) = 3\n",
      "\t\tSs(CsH) = 1\n",
      "\t\tSs(CsCs) = 1\n",
      "\t\tCs(Cs(CsCsCs)RRR) = 3\n",
      "\t\tCsOsCdSs = 1\n",
      "\t\tCs(CsCsCsCs) = 1\n",
      "\t\tCs(RRRR) = 3\n",
      "\t\tCd(CsCs) = 1\n",
      "\tgroup\n",
      "\t\tCs-CsCsCsSs = 1\n",
      "\t\tCds-CdsHH = 1\n",
      "\t\tCs-CsHHH = 6\n",
      "\t\tSs-CsCs = 1\n",
      "\t\tSs-CsH = 1\n",
      "\t\tCs-(Cds-Cds)HHH = 1\n",
      "\t\tCs-CsCsCsCs = 1\n",
      "\tother\n",
      "\t\tR = 14\n",
      "\n",
      "Uncertainty dG =  4.38035386698  kcal/mol\n",
      "==========\n",
      "C=CC12C=C(C1)C(=S)S2(5862)\n"
     ]
    },
    {
     "data": {
      "image/png": "[encoded data removed]",
      "text/plain": [
       "Species(index=5862, label=\"C=CC12C=C(C1)C(=S)S2\", thermo=NASA(polynomials=[NASAPolynomial(coeffs=[-0.260124,0.0872805,-8.02941e-05,3.62188e-08,-6.47731e-12,25897.9,-4.70819], Tmin=(100,'K'), Tmax=(1341.69,'K')), NASAPolynomial(coeffs=[20.1922,0.0263061,-1.21258e-05,2.34725e-09,-1.66009e-13,20409.7,-109.391], Tmin=(1341.69,'K'), Tmax=(5000,'K'))], Tmin=(100,'K'), Tmax=(5000,'K'), comment=\"\"\"Thermo group additivity estimation: group(Cs-CsCsCsCs) + other(R) + group(Cs-(Cds-Cds)CsHH) + other(R) + group(Cds-CdsC=SCs) + other(R) + group(Cds-\n",
       "CdsCsH) + other(R) + group(Cds-CdsCsH) + other(R) + group(C=S-CsSs) + other(R) + group(Cds-CdsHH) + other(R) + group(Ss-C=SCs) + other(R) + group(Sd-\n",
       "Cd) + other(R) + polycyclic(PolycyclicRing)\"\"\"), molecule=[Molecule(SMILES=\"C=CC12C=C(C1)C(=S)S2\")])"
      ]
     },
     "metadata": {},
     "output_type": "display_data"
    },
    {
     "name": "stdout",
     "output_type": "stream",
     "text": [
      "Group additivity:\n",
      "\tother\n",
      "\t\tR = 9\n",
      "\tgroup\n",
      "\t\tC=S-CsSs = 1\n",
      "\t\tCs-(Cds-Cds)CsHH = 1\n",
      "\t\tCds-CdsHH = 1\n",
      "\t\tCds-CdsC=SCs = 1\n",
      "\t\tSs-C=SCs = 1\n",
      "\t\tCds-CdsCsH = 1\n",
      "\t\tCs-CsCsCsCs = 1\n",
      "\tpolycyclic\n",
      "\t\tPolycyclicRing = 1\n",
      "\n",
      "Uncertainty dG =  2.79508497187  kcal/mol\n",
      "==========\n",
      "C=C1CC[CH]C2=CC(C)=C(S1)S2(6308)\n"
     ]
    },
    {
     "data": {
      "image/png": "[encoded data removed]",
      "text/plain": [
       "Species(index=6308, label=\"C=C1CC[CH]C2=CC(C)=C(S1)S2\", thermo=NASA(polynomials=[NASAPolynomial(coeffs=[-2.68743,0.141308,-0.000148555,7.99536e-08,-1.70273e-11,34836.2,10.1935], Tmin=(100,'K'), Tmax=(1142.92,'K')), NASAPolynomial(coeffs=[26.0027,0.0408981,-1.67733e-05,3.08513e-09,-2.13219e-13,28278.1,-132.053], Tmin=(1142.92,'K'), Tmax=(5000,'K'))], Tmin=(100,'K'), Tmax=(5000,'K'), comment=\"\"\"Thermo group additivity estimation: group(Cs-(Cds-Cds)CsHH) + other(R) + group(Cs-(Cds-Cds)CsHH) + other(R) + group(Cs-(Cds-Cds)(Cds-Cds)HH) +\n",
       "other(R) + group(Cs-(Cds-Cds)HHH) + other(R) + group(Cds-CdsCsCs) + other(R) + group(Cds-CdsCsSs) + other(R) + group(Cds-CdsCsSs) + other(R) + group\n",
       "(Cds-CdsCsH) + other(R) + group(Cds-CdsCsCs) + other(R) + group(Cds-CdsHH) + other(R) + group(Ss-CdCd) + other(R) + group(Ss-CdCd) + other(R) +\n",
       "polycyclic(PolycyclicRing) + radical(C=CCJC=C)\"\"\"), molecule=[Molecule(SMILES=\"C=C1CCC=C2[CH]C(C)=C(S1)S2\"), Molecule(SMILES=\"C=C1CCC=C2C=C(C)[C](S1)S2\"), Molecule(SMILES=\"C=C1CC[CH]C2=CC(C)=C(S1)S2\")])"
      ]
     },
     "metadata": {},
     "output_type": "display_data"
    },
    {
     "name": "stdout",
     "output_type": "stream",
     "text": [
      "Group additivity:\n",
      "\tradical\n",
      "\t\tC=CCJC=C = 1\n",
      "\tother\n",
      "\t\tR = 12\n",
      "\tgroup\n",
      "\t\tSs-CdCd = 2\n",
      "\t\tCs-(Cds-Cds)CsHH = 2\n",
      "\t\tCds-CdsHH = 1\n",
      "\t\tCs-(Cds-Cds)(Cds-Cds)HH = 1\n",
      "\t\tCds-CdsCsCs = 2\n",
      "\t\tCs-(Cds-Cds)HHH = 1\n",
      "\t\tCds-CdsCsSs = 2\n",
      "\tpolycyclic\n",
      "\t\tPolycyclicRing = 1\n",
      "\n",
      "Uncertainty dG =  3.54436171969  kcal/mol\n",
      "==========\n",
      "CCC12[CH]C(C1)=C(S)S2(5081)\n"
     ]
    },
    {
     "data": {
      "image/png": "[encoded data removed]",
      "text/plain": [
       "Species(index=5081, label=\"CCC12[CH]C(C1)=C(S)S2\", thermo=NASA(polynomials=[NASAPolynomial(coeffs=[-1.45171,0.11419,-0.000122729,6.6144e-08,-1.39931e-11,17988.2,-2.32749], Tmin=(100,'K'), Tmax=(1154.72,'K')), NASAPolynomial(coeffs=[23.1485,0.0289712,-1.20255e-05,2.22872e-09,-1.54919e-13,12307.1,-124.548], Tmin=(1154.72,'K'), Tmax=(5000,'K'))], Tmin=(100,'K'), Tmax=(5000,'K'), comment=\"\"\"Thermo group additivity estimation: group(Cs-CsCsCsSs) + other(R) + group(Cs-CsCsHH) + other(R) + group(Cs-(Cds-Cds)CsHH) + other(R) + group(Cs-(Cds-\n",
       "Cds)CsHH) + other(R) + group(Cs-CsHHH) + other(R) + group(Cds-CdsCsCs) + other(R) + group(Cds-CdsCsCs) + other(R) + group(Ss-CsCd) + other(R) + group\n",
       "(Ss-CdH) + other(R) + polycyclic(PolycyclicRing) + radical(Allyl_S)\"\"\"), molecule=[Molecule(SMILES=\"CCC12[CH]C(C1)=C(S)S2\"), Molecule(SMILES=\"CCC12C=C(C1)[C](S)S2\")])"
      ]
     },
     "metadata": {},
     "output_type": "display_data"
    },
    {
     "name": "stdout",
     "output_type": "stream",
     "text": [
      "Group additivity:\n",
      "\tradical\n",
      "\t\tAllyl_S = 1\n",
      "\tother\n",
      "\t\tR = 9\n",
      "\tgroup\n",
      "\t\tCs-CsCsCsSs = 1\n",
      "\t\tCs-CsCsHH = 1\n",
      "\t\tSs-CsCd = 1\n",
      "\t\tCs-(Cds-Cds)CsHH = 1\n",
      "\t\tCds-CdsCsCs = 2\n",
      "\t\tCs-CsHHH = 1\n",
      "\tpolycyclic\n",
      "\t\tPolycyclicRing = 1\n",
      "\n",
      "Uncertainty dG =  2.82842712475  kcal/mol\n",
      "==========\n",
      "CC(C)(C)SSC(C)(C)C(50)\n"
     ]
    },
    {
     "data": {
      "image/png": "[encoded data removed]",
      "text/plain": [
       "Species(index=50, label=\"CC(C)(C)SSC(C)(C)C\", thermo=NASA(polynomials=[NASAPolynomial(coeffs=[-2.43555,0.140783,-0.000132926,6.79769e-08,-1.42624e-11,-28735.2,37.6176], Tmin=(100,'K'), Tmax=(1135.41,'K')), NASAPolynomial(coeffs=[20.7296,0.0591736,-2.51111e-05,4.67275e-09,-3.23806e-13,-33995.6,-77.0831], Tmin=(1135.41,'K'), Tmax=(5000,'K'))], Tmin=(100,'K'), Tmax=(5000,'K'), comment=\"\"\"Thermo group additivity estimation: group(Cs-CsCsCsSs) + gauche(Cs(RRRR)) + other(R) + group(Cs-CsCsCsSs) + gauche(Cs(RRRR)) + other(R) + group(Cs-\n",
       "CsHHH) + gauche(Cs(CsRRR)) + other(R) + group(Cs-CsHHH) + gauche(Cs(CsRRR)) + other(R) + group(Cs-CsHHH) + gauche(Cs(CsRRR)) + other(R) + group(Cs-\n",
       "CsHHH) + gauche(Cs(CsRRR)) + other(R) + group(Cs-CsHHH) + gauche(Cs(CsRRR)) + other(R) + group(Cs-CsHHH) + gauche(Cs(CsRRR)) + other(R) + group(Ss-\n",
       "SsCs) + gauche(Ss(RR)) + other(R) + group(Ss-SsCs) + gauche(Ss(RR)) + other(R)\"\"\"), molecule=[Molecule(SMILES=\"CC(C)(C)SSC(C)(C)C\")])"
      ]
     },
     "metadata": {},
     "output_type": "display_data"
    },
    {
     "name": "stdout",
     "output_type": "stream",
     "text": [
      "Group additivity:\n",
      "\tgauche\n",
      "\t\tSs(RR) = 2\n",
      "\t\tCs(RRRR) = 2\n",
      "\t\tCs(CsRRR) = 6\n",
      "\tgroup\n",
      "\t\tCs-CsCsCsSs = 2\n",
      "\t\tCs-CsHHH = 4\n",
      "\t\tSs-SsCs = 1\n",
      "\tother\n",
      "\t\tR = 10\n",
      "\n",
      "Uncertainty dG =  3.54436171969  kcal/mol\n",
      "==========\n",
      "S2(12)\n"
     ]
    },
    {
     "data": {
      "image/png": "[encoded data removed]",
      "text/plain": [
       "Species(index=12, label=\"S2\", thermo=NASA(polynomials=[NASAPolynomial(coeffs=[3.36897,0.00175302,1.56352e-06,-4.3717e-09,2.08991e-12,22623.7,7.31242], Tmin=(100,'K'), Tmax=(925.37,'K')), NASAPolynomial(coeffs=[4.54002,-0.000390141,3.06207e-07,-5.72878e-11,3.43918e-15,22282,1.07837], Tmin=(925.37,'K'), Tmax=(5000,'K'))], Tmin=(100,'K'), Tmax=(5000,'K'), comment=\"\"\"Thermo library: primaryThermoLibrary\"\"\"), molecule=[Molecule(SMILES=\"S=S\")])"
      ]
     },
     "metadata": {},
     "output_type": "display_data"
    },
    {
     "name": "stdout",
     "output_type": "stream",
     "text": [
      "Thermo Library:  15\n",
      "\n",
      "Uncertainty dG =  2.0  kcal/mol\n"
     ]
    }
   ],
   "source": [
    "for species, source in uncertainty.speciesSourcesDict.iteritems():\n",
    "    print '=========='\n",
    "    print species\n",
    "    display(species)\n",
    "    if 'Library' in source:\n",
    "        print 'Thermo Library: ', source['Library']\n",
    "    if 'QM' in source:\n",
    "        print 'QM: ', source['QM']\n",
    "    if 'GAV' in source:\n",
    "        print 'Group additivity:'\n",
    "        for groupType, groupList in source['GAV'].iteritems():\n",
    "            print '\\t', groupType\n",
    "            for group, weight in groupList:\n",
    "                print '\\t\\t', group, '=', weight\n",
    "                \n",
    "    spcIndex = uncertainty.speciesList.index(species)    \n",
    "    print ''\n",
    "    print 'Uncertainty dG = ', uncertainty.thermoInputUncertainties[spcIndex], ' kcal/mol'"
   ]
  }
 ],
 "metadata": {
  "kernelspec": {
   "display_name": "Python 2",
   "language": "python",
   "name": "python2"
  },
  "language_info": {
   "codemirror_mode": {
    "name": "ipython",
    "version": 2
   },
   "file_extension": ".py",
   "mimetype": "text/x-python",
   "name": "python",
   "nbconvert_exporter": "python",
   "pygments_lexer": "ipython2",
   "version": "2.7.12"
  }
 },
 "nbformat": 4,
 "nbformat_minor": 0
}
