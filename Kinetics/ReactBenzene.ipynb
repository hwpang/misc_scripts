{
 "cells": [
  {
   "cell_type": "code",
   "execution_count": null,
   "metadata": {
    "collapsed": false
   },
   "outputs": [],
   "source": [
    "import rmgpy\n",
    "from rmgpy.data.rmg import RMGDatabase\n",
    "from rmgpy.reaction import Reaction\n",
    "from rmgpy.molecule import Molecule, Bond, PeriodicSystem\n",
    "from rmgpy.molecule.resonance import *\n",
    "\n",
    "import numpy as np\n",
    "import time"
   ]
  },
  {
   "cell_type": "code",
   "execution_count": null,
   "metadata": {
    "collapsed": false
   },
   "outputs": [],
   "source": [
    "databasePath = rmgpy.settings['database.directory']\n",
    "\n",
    "database = RMGDatabase()\n",
    "database.load(\n",
    "    path = databasePath,\n",
    "    thermoLibraries = [],\n",
    "    reactionLibraries = [],\n",
    "    seedMechanisms = [],\n",
    "    kineticsFamilies = ['R_Addition_MultipleBond', 'Intra_R_Add_Exocyclic', 'Diels_alder_addition'],\n",
    "    )"
   ]
  },
  {
   "cell_type": "code",
   "execution_count": null,
   "metadata": {
    "collapsed": false
   },
   "outputs": [],
   "source": [
    "reactants = [\n",
    "    Molecule().fromAdjacencyList(\"\"\"1  C u0 p0 c0 {2,B} {6,B} {7,S}\n",
    "2  C u0 p0 c0 {1,B} {3,B} {8,S}\n",
    "3  C u0 p0 c0 {2,B} {4,B} {9,S}\n",
    "4  C u0 p0 c0 {3,B} {5,B} {10,S}\n",
    "5  C u0 p0 c0 {4,B} {6,B} {11,S}\n",
    "6  C u0 p0 c0 {1,B} {5,B} {12,S}\n",
    "7  H u0 p0 c0 {1,S}\n",
    "8  H u0 p0 c0 {2,S}\n",
    "9  H u0 p0 c0 {3,S}\n",
    "10 H u0 p0 c0 {4,S}\n",
    "11 H u0 p0 c0 {5,S}\n",
    "12 H u0 p0 c0 {6,S}\n",
    "\"\"\"), \n",
    "    Molecule(SMILES='[H]')\n",
    "]\n",
    "rxns = database.kinetics.families['R_Addition_MultipleBond'].generateReactions(reactants)\n",
    "rxns[0]"
   ]
  },
  {
   "cell_type": "code",
   "execution_count": null,
   "metadata": {
    "collapsed": false
   },
   "outputs": [],
   "source": [
    "reactants = [\n",
    "    Molecule().fromAdjacencyList(\"\"\"1  C u0 p0 c0 {2,B} {3,B} {6,S}\n",
    "2  C u0 p0 c0 {1,B} {4,B} {5,S}\n",
    "3  C u0 p0 c0 {1,B} {7,B} {11,S}\n",
    "4  C u0 p0 c0 {2,B} {8,B} {14,S}\n",
    "5  C u0 p0 c0 {2,S} {9,D} {15,S}\n",
    "6  C u0 p0 c0 {1,S} {10,D} {18,S}\n",
    "7  C u0 p0 c0 {3,B} {8,B} {12,S}\n",
    "8  C u0 p0 c0 {4,B} {7,B} {13,S}\n",
    "9  C u0 p0 c0 {5,D} {10,S} {16,S}\n",
    "10 C u0 p0 c0 {6,D} {9,S} {17,S}\n",
    "11 H u0 p0 c0 {3,S}\n",
    "12 H u0 p0 c0 {7,S}\n",
    "13 H u0 p0 c0 {8,S}\n",
    "14 H u0 p0 c0 {4,S}\n",
    "15 H u0 p0 c0 {5,S}\n",
    "16 H u0 p0 c0 {9,S}\n",
    "17 H u0 p0 c0 {10,S}\n",
    "18 H u0 p0 c0 {6,S}\n",
    "\"\"\"), \n",
    "    Molecule(SMILES='[H]')\n",
    "]\n",
    "rxns = database.kinetics.families['R_Addition_MultipleBond'].generateReactions(reactants)\n",
    "rxns[0]"
   ]
  },
  {
   "cell_type": "code",
   "execution_count": null,
   "metadata": {
    "collapsed": false
   },
   "outputs": [],
   "source": [
    "rxns"
   ]
  },
  {
   "cell_type": "code",
   "execution_count": null,
   "metadata": {
    "collapsed": false
   },
   "outputs": [],
   "source": [
    "reactants = [\n",
    "    Molecule().fromAdjacencyList(\"\"\"multiplicity 2\n",
    "1  C u0 p0 c0 {2,S} {3,S} {12,S} {13,S}\n",
    "2  C u0 p0 c0 {1,S} {9,S} {10,S} {11,S}\n",
    "3  C u0 p0 c0 {1,S} {4,B} {5,B}\n",
    "4  C u0 p0 c0 {3,B} {6,B} {14,S}\n",
    "5  C u0 p0 c0 {3,B} {8,B} {18,S}\n",
    "6  C u0 p0 c0 {4,B} {7,B} {15,S}\n",
    "7  C u0 p0 c0 {6,B} {8,B} {16,S}\n",
    "8  C u0 p0 c0 {5,B} {7,B} {17,S}\n",
    "9  C u1 p0 c0 {2,S} {19,S} {20,S}\n",
    "10 H u0 p0 c0 {2,S}\n",
    "11 H u0 p0 c0 {2,S}\n",
    "12 H u0 p0 c0 {1,S}\n",
    "13 H u0 p0 c0 {1,S}\n",
    "14 H u0 p0 c0 {4,S}\n",
    "15 H u0 p0 c0 {6,S}\n",
    "16 H u0 p0 c0 {7,S}\n",
    "17 H u0 p0 c0 {8,S}\n",
    "18 H u0 p0 c0 {5,S}\n",
    "19 H u0 p0 c0 {9,S}\n",
    "20 H u0 p0 c0 {9,S}\n",
    "\"\"\")\n",
    "]\n",
    "rxns = database.kinetics.families['Intra_R_Add_Exocyclic'].generateReactions(reactants)\n",
    "rxns[0]"
   ]
  },
  {
   "cell_type": "code",
   "execution_count": null,
   "metadata": {
    "collapsed": false
   },
   "outputs": [],
   "source": [
    "rxns"
   ]
  },
  {
   "cell_type": "code",
   "execution_count": null,
   "metadata": {
    "collapsed": false
   },
   "outputs": [],
   "source": [
    "reactants = [\n",
    "    Molecule().fromAdjacencyList(\"\"\"1  C u0 p0 c0 {4,B} {5,B} {7,S}\n",
    "2  C u0 p0 c0 {3,B} {5,B} {8,S}\n",
    "3  C u0 p0 c0 {2,B} {6,B} {9,S}\n",
    "4  C u0 p0 c0 {1,B} {6,B} {10,S}\n",
    "5  C u0 p0 c0 {1,B} {2,B} {18,S}\n",
    "6  C u0 p0 c0 {3,B} {4,B} {23,S}\n",
    "7  C u0 p0 c0 {1,S} {12,D} {17,S}\n",
    "8  C u0 p0 c0 {2,S} {13,D} {19,S}\n",
    "9  C u0 p0 c0 {3,S} {14,D} {22,S}\n",
    "10 C u0 p0 c0 {4,S} {11,D} {24,S}\n",
    "11 C u0 p0 c0 {10,D} {12,S} {15,S}\n",
    "12 C u0 p0 c0 {7,D} {11,S} {16,S}\n",
    "13 C u0 p0 c0 {8,D} {14,S} {20,S}\n",
    "14 C u0 p0 c0 {9,D} {13,S} {21,S}\n",
    "15 H u0 p0 c0 {11,S}\n",
    "16 H u0 p0 c0 {12,S}\n",
    "17 H u0 p0 c0 {7,S}\n",
    "18 H u0 p0 c0 {5,S}\n",
    "19 H u0 p0 c0 {8,S}\n",
    "20 H u0 p0 c0 {13,S}\n",
    "21 H u0 p0 c0 {14,S}\n",
    "22 H u0 p0 c0 {9,S}\n",
    "23 H u0 p0 c0 {6,S}\n",
    "24 H u0 p0 c0 {10,S}\n",
    "\"\"\"),\n",
    "    Molecule(SMILES='C=C')\n",
    "]\n",
    "rxns = database.kinetics.families['Diels_alder_addition'].generateReactions(reactants)\n",
    "rxns"
   ]
  },
  {
   "cell_type": "code",
   "execution_count": null,
   "metadata": {
    "collapsed": false
   },
   "outputs": [],
   "source": [
    "rxns[1]"
   ]
  },
  {
   "cell_type": "code",
   "execution_count": null,
   "metadata": {
    "collapsed": false
   },
   "outputs": [],
   "source": [
    "mol = Molecule(SMILES='c12ccccc1cccc2')\n",
    "out = generateResonanceStructures(mol)\n",
    "#print out[0].toAdjacencyList()\n",
    "out[1]"
   ]
  },
  {
   "cell_type": "code",
   "execution_count": null,
   "metadata": {
    "collapsed": false
   },
   "outputs": [],
   "source": [
    "out = Molecule(SMILES='C1=CC=C2C=C3C=CC=CC3=CC2=C1').generateResonanceIsomers()\n",
    "print out[1].toAdjacencyList()"
   ]
  },
  {
   "cell_type": "code",
   "execution_count": null,
   "metadata": {
    "collapsed": false
   },
   "outputs": [],
   "source": [
    "out[1]"
   ]
  },
  {
   "cell_type": "code",
   "execution_count": null,
   "metadata": {
    "collapsed": false
   },
   "outputs": [],
   "source": [
    "mol = Molecule().fromAdjacencyList(\"\"\"1  C u0 p0 c0 {2,B} {6,B} {7,S}\n",
    "2  C u0 p0 c0 {1,B} {3,B} {8,S}\n",
    "3  C u0 p0 c0 {2,B} {4,B} {9,S}\n",
    "4  C u0 p0 c0 {3,B} {5,B} {10,S}\n",
    "5  C u0 p0 c0 {4,B} {6,B} {11,S}\n",
    "6  C u0 p0 c0 {1,B} {5,B} {12,S}\n",
    "7  H u0 p0 c0 {1,S}\n",
    "8  H u0 p0 c0 {2,S}\n",
    "9  H u0 p0 c0 {3,S}\n",
    "10 H u0 p0 c0 {4,S}\n",
    "11 H u0 p0 c0 {5,S}\n",
    "12 H u0 p0 c0 {6,S}\n",
    "13 C u0 p0 c0 {14,D} {15,S} {16,S}\n",
    "14 C u0 p0 c0 {13,D} {17,S} {18,S}\n",
    "15 H u0 p0 c0 {13,S}\n",
    "16 H u0 p0 c0 {13,S}\n",
    "17 H u0 p0 c0 {14,S}\n",
    "18 H u0 p0 c0 {14,S}\n",
    "\"\"\")\n",
    "mol.addBond(Bond(mol.atoms[0], mol.atoms[12], order='S'))\n",
    "mol.addBond(Bond(mol.atoms[3], mol.atoms[13], order='S'))\n",
    "bond = mol.getBond(mol.atoms[12], mol.atoms[13])\n",
    "bond.order = 'S'\n",
    "bond = mol.getBond(mol.atoms[0], mol.atoms[1])\n",
    "bond.order = 'B-'\n",
    "bond = mol.getBond(mol.atoms[1], mol.atoms[2])\n",
    "bond.order = 'B+'\n",
    "bond = mol.getBond(mol.atoms[2], mol.atoms[3])\n",
    "bond.order = 'B-'\n",
    "print mol.toAdjacencyList()\n",
    "\n",
    "t0 = time.time()\n",
    "mol.redistributeAromaticElectrons()\n",
    "t1 = time.time()\n",
    "print t1 - t0\n",
    "\n",
    "mol.update()\n",
    "mol"
   ]
  },
  {
   "cell_type": "code",
   "execution_count": null,
   "metadata": {
    "collapsed": false
   },
   "outputs": [],
   "source": [
    "mol = Molecule().fromAdjacencyList(\"\"\"1  C u0 p0 c0 {2,S} {3,B} {4,B}\n",
    "2  C u0 p0 c0 {1,S} {5,B} {6,B}\n",
    "3  C u0 p0 c0 {1,B} {8,B} {15,S}\n",
    "4  C u0 p0 c0 {1,B} {9,B} {16,S}\n",
    "5  C u0 p0 c0 {2,B} {10,B} {18,S}\n",
    "6  C u0 p0 c0 {2,B} {12,B} {22,S}\n",
    "7  C u0 p0 c0 {8,B} {9,B} {13,S}\n",
    "8  C u0 p0 c0 {3,B} {7,B} {14,S}\n",
    "9  C u0 p0 c0 {4,B} {7,B} {17,S}\n",
    "10 C u0 p0 c0 {5,B} {11,B} {19,S}\n",
    "11 C u0 p0 c0 {10,B} {12,B} {20,S}\n",
    "12 C u0 p0 c0 {6,B} {11,B} {21,S}\n",
    "13 H u0 p0 c0 {7,S}\n",
    "14 H u0 p0 c0 {8,S}\n",
    "15 H u0 p0 c0 {3,S}\n",
    "16 H u0 p0 c0 {4,S}\n",
    "17 H u0 p0 c0 {9,S}\n",
    "18 H u0 p0 c0 {5,S}\n",
    "19 H u0 p0 c0 {10,S}\n",
    "20 H u0 p0 c0 {11,S}\n",
    "21 H u0 p0 c0 {12,S}\n",
    "22 H u0 p0 c0 {6,S}\n",
    "23 C u0 p0 c0 {24,D} {25,S} {26,S}\n",
    "24 C u0 p0 c0 {23,D} {27,S} {28,S}\n",
    "25 H u0 p0 c0 {23,S}\n",
    "26 H u0 p0 c0 {23,S}\n",
    "27 H u0 p0 c0 {24,S}\n",
    "28 H u0 p0 c0 {24,S}\n",
    "\"\"\")\n",
    "mol.addBond(Bond(mol.atoms[2], mol.atoms[22], order='S'))\n",
    "mol.addBond(Bond(mol.atoms[4], mol.atoms[23], order='S'))\n",
    "bond = mol.getBond(mol.atoms[22], mol.atoms[23])\n",
    "bond.decrementOrder()\n",
    "bond = mol.getBond(mol.atoms[0], mol.atoms[2])\n",
    "bond.decrementOrder()\n",
    "bond = mol.getBond(mol.atoms[0], mol.atoms[1])\n",
    "bond.incrementOrder()\n",
    "bond = mol.getBond(mol.atoms[1], mol.atoms[4])\n",
    "bond.decrementOrder()\n",
    "print mol.toAdjacencyList()\n",
    "\n",
    "t0 = time.time()\n",
    "mol.redistributeAromaticElectrons()\n",
    "t1 = time.time()\n",
    "print t1 - t0\n",
    "\n",
    "mol.update()\n",
    "mol"
   ]
  },
  {
   "cell_type": "code",
   "execution_count": null,
   "metadata": {
    "collapsed": false
   },
   "outputs": [],
   "source": [
    "mol = Molecule().fromAdjacencyList(\"\"\"1  C u0 p0 c0 {2,B} {6,B} {7,S}\n",
    "2  C u0 p0 c0 {1,B} {3,B} {8,S}\n",
    "3  C u0 p0 c0 {2,B} {4,B} {9,S}\n",
    "4  C u0 p0 c0 {3,B} {5,B} {10,S}\n",
    "5  C u0 p0 c0 {4,B} {6,B} {11,S}\n",
    "6  C u0 p0 c0 {1,B} {5,B} {12,S}\n",
    "7  H u0 p0 c0 {1,S}\n",
    "8  H u0 p0 c0 {2,S}\n",
    "9  H u0 p0 c0 {3,S}\n",
    "10 H u0 p0 c0 {4,S}\n",
    "11 H u0 p0 c0 {5,S}\n",
    "12 H u0 p0 c0 {6,S}\n",
    "13 H u1 p0 c0\n",
    "\"\"\")\n",
    "mol.atoms[0].applyAction(['CHANGE_BOND', '*1', '-1', '*2'])\n",
    "mol.atoms[1].applyAction(['CHANGE_BOND', '*1', '-1', '*2'])\n",
    "bond = mol.getBond(mol.atoms[0], mol.atoms[1])\n",
    "bond.decrementOrder()\n",
    "mol.addBond(Bond(mol.atoms[0], mol.atoms[12], order='S'))\n",
    "mol.atoms[1].radicalElectrons += 1\n",
    "mol.atoms[12].radicalElectrons -= 1\n",
    "print mol.toAdjacencyList()\n",
    "\n",
    "t0 = time.time()\n",
    "mol.redistributeAromaticElectrons()\n",
    "t1 = time.time()\n",
    "print t1 - t0\n",
    "\n",
    "mol.update()\n",
    "mol"
   ]
  },
  {
   "cell_type": "code",
   "execution_count": null,
   "metadata": {
    "collapsed": false
   },
   "outputs": [],
   "source": [
    "def redistributeAromaticElectrons(mol):\n",
    "    \"\"\"\n",
    "    Redistributes pi-electrons around aromatic rings after incrementing or decrementing a benzene bond.\n",
    "    \"\"\"\n",
    "\n",
    "    from rmgpy.molecule import PeriodicSystem\n",
    "    import numpy as np\n",
    "\n",
    "    rings = mol.getAllCyclesOfSize(6)\n",
    "\n",
    "    invalidRings = []\n",
    "\n",
    "    # We want to identify previously aromatic rings that have been modified\n",
    "    for ring in rings:\n",
    "        endoBonds = set()\n",
    "        exoBonds = set()\n",
    "        aromatic = True\n",
    "        valid = True\n",
    "        for atom1 in ring:\n",
    "            for atom2, bond in atom1.bonds.iteritems():\n",
    "                if atom2 in ring:\n",
    "                    if bond.order[0] != 'B':\n",
    "                        aromatic = False\n",
    "                        break\n",
    "                    elif bond.order == 'B+' or bond.order == 'B-':\n",
    "                        valid = False\n",
    "                    endoBonds.add(bond)\n",
    "                else:\n",
    "                    exoBonds.add(bond)\n",
    "            if not aromatic:\n",
    "                break\n",
    "        if aromatic and not valid:\n",
    "            invalidRings.append((ring, list(endoBonds), list(exoBonds)))\n",
    "\n",
    "    bondOrders = {'S': 1, 'D': 2, 'T': 3, 'B': 1.5}\n",
    "    bondOrdersInv = {1: 'S', 2: 'D', 3: 'T'}\n",
    "    valences = PeriodicSystem.valences\n",
    "\n",
    "    for ring, endo, exo in invalidRings:\n",
    "        a = []\n",
    "        b = []\n",
    "        for atom in ring:\n",
    "            a.append([1 if atom in [bond.atom1, bond.atom2] else 0 for bond in endo])\n",
    "            v = valences[atom.element.symbol]\n",
    "            for bond in atom.bonds.itervalues():\n",
    "                if bond in exo:\n",
    "                    v -= bondOrders[bond.order]\n",
    "            v -= atom.radicalElectrons\n",
    "            b.append(v)\n",
    "        for index, bond in enumerate(endo):\n",
    "            if bond.order == 'B-':\n",
    "                # Must become single bond\n",
    "                new_a = [0] * len(endo)\n",
    "                new_a[index] = 1\n",
    "                a.append(new_a)\n",
    "                b.append(1)\n",
    "            elif bond.order == 'B+':\n",
    "                # Must become double bond\n",
    "                new_a = [0] * len(endo)\n",
    "                new_a[index] = 1\n",
    "                a.append(new_a)\n",
    "                b.append(2)\n",
    "\n",
    "        a = np.array(a)\n",
    "        b = np.array(b)\n",
    "\n",
    "        x = np.rint(np.dot(np.linalg.pinv(a), b)).tolist()\n",
    "\n",
    "        for index, bond in enumerate(endo):\n",
    "            bond.order = bondOrdersInv[x[index]]"
   ]
  },
  {
   "cell_type": "code",
   "execution_count": null,
   "metadata": {
    "collapsed": false
   },
   "outputs": [],
   "source": [
    "def redistributeAromaticElectrons(mol):\n",
    "    sssr = mol.getAromaticRings()\n",
    "    if sssr == []:\n",
    "        return\n",
    "    \n",
    "    rings = [ring for ring in sssr if len(ring) == 6]\n",
    "    \n",
    "    invalidRings = []\n",
    "    \n",
    "    for ring in rings:\n",
    "        endoBonds = set()\n",
    "        exoBonds = set()\n",
    "        valid = True\n",
    "        for atom1 in ring:\n",
    "            for atom2, bond in atom1.bonds.iteritems():\n",
    "                if atom2 in ring:\n",
    "                    endoBonds.add(bond)\n",
    "                    if bond.order == 'B+' or bond.order == 'B-':\n",
    "                        valid = False\n",
    "                else:\n",
    "                    exoBonds.add(bond)\n",
    "        if not valid:\n",
    "            invalidRings.append((ring, list(endoBonds), list(exoBonds)))\n",
    "    \n",
    "    bondOrders = {'S': 1, 'D': 2, 'T': 3, 'B': 1.5}\n",
    "    bondOrdersInv = {1: 'S', 2: 'D', 3: 'T'}\n",
    "    valences = PeriodicSystem.valences\n",
    "    \n",
    "    for ring, endo, exo in invalidRings:\n",
    "        a = []\n",
    "        b = []\n",
    "        for atom in ring:\n",
    "            a.append([1 if atom in [bond.atom1, bond.atom2] else 0 for bond in endo])\n",
    "            v = valences[atom.element.symbol]\n",
    "            for bond in atom.bonds.itervalues():\n",
    "                if bond in exo:\n",
    "                    v -= bondOrders[bond.order]\n",
    "            v -= atom.radicalElectrons\n",
    "            b.append(v)\n",
    "        for index, bond in enumerate(endo):\n",
    "            if bond.order == 'B-':\n",
    "                # Must become single bond\n",
    "                new_a = [0] * len(endo)\n",
    "                new_a[index] = 1\n",
    "                a.append(new_a)\n",
    "                b.append(1)\n",
    "            elif bond.order == 'B+':\n",
    "                # Must become double bond\n",
    "                new_a = [0] * len(endo)\n",
    "                new_a[index] = 1\n",
    "                a.append(new_a)\n",
    "                b.append(2)\n",
    "\n",
    "        a = np.array(a)\n",
    "        b = np.array(b)\n",
    "        \n",
    "        x = np.rint(np.dot(np.linalg.pinv(a), b)).tolist()\n",
    "        import pdb; pdb.set_trace()\n",
    "        for index, bond in enumerate(endo):\n",
    "            bond.order = bondOrdersInv[x[index]]\n"
   ]
  },
  {
   "cell_type": "code",
   "execution_count": null,
   "metadata": {
    "collapsed": true
   },
   "outputs": [],
   "source": []
  }
 ],
 "metadata": {
  "anaconda-cloud": {},
  "kernelspec": {
   "display_name": "Python [conda env:rmg_env]",
   "language": "python",
   "name": "conda-env-rmg_env-py"
  },
  "language_info": {
   "codemirror_mode": {
    "name": "ipython",
    "version": 2
   },
   "file_extension": ".py",
   "mimetype": "text/x-python",
   "name": "python",
   "nbconvert_exporter": "python",
   "pygments_lexer": "ipython2",
   "version": "2.7.12"
  }
 },
 "nbformat": 4,
 "nbformat_minor": 1
}
