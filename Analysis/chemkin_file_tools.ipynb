{
 "cells": [
  {
   "cell_type": "code",
   "execution_count": null,
   "metadata": {},
   "outputs": [],
   "source": [
    "from mechtools import Model"
   ]
  },
  {
   "cell_type": "markdown",
   "metadata": {},
   "source": [
    "# Load Chemkin file"
   ]
  },
  {
   "cell_type": "code",
   "execution_count": null,
   "metadata": {},
   "outputs": [],
   "source": [
    "# Set paths to your Chemkin file and species dictionary\n",
    "chem_path = '/home/mjliu/Documents/models/mhi/c12/run1/chem_annotated.inp'\n",
    "dict_path = '/home/mjliu/Documents/models/mhi/c12/run1/species_dictionary.txt'\n",
    "\n",
    "# Instantiate the custom Model class with the file paths to automatically load the model\n",
    "model = Model(chem_path=chem_path, dict_path=dict_path)"
   ]
  },
  {
   "cell_type": "markdown",
   "metadata": {},
   "source": [
    "# Search for reactions containing target species"
   ]
  },
  {
   "cell_type": "code",
   "execution_count": null,
   "metadata": {
    "scrolled": true
   },
   "outputs": [],
   "source": [
    "# You can call the `show_reactions` method to show a table of all the reactions with labels\n",
    "# Note that generating and displaying the HTML for a large number of reactions may not work well\n",
    "# Instead, you can also search for reactions containing a species by providing any species identifier\n",
    "model.show_reactions('c1ccccc1')"
   ]
  },
  {
   "cell_type": "code",
   "execution_count": null,
   "metadata": {},
   "outputs": [],
   "source": [
    "# You can also search manually to retrive the actual reaction list\n",
    "reaction_list = model.get_reactions_by_species('CCCCCCCCCCCC')"
   ]
  },
  {
   "cell_type": "code",
   "execution_count": null,
   "metadata": {
    "scrolled": false
   },
   "outputs": [],
   "source": [
    "# We could further narrow down the results to unimolecular reactions\n",
    "selected_reactions = [rxn for rxn in reaction_list if len(rxn.reactants) == 1 or len(rxn.products) == 1]\n",
    "model.display_reaction_html(selected_reactions)"
   ]
  },
  {
   "cell_type": "markdown",
   "metadata": {},
   "source": [
    "# Visualize all species"
   ]
  },
  {
   "cell_type": "code",
   "execution_count": null,
   "metadata": {
    "scrolled": true
   },
   "outputs": [],
   "source": [
    "# You can call the `show_species` method to show a table of all the species with labels\n",
    "model.show_species()"
   ]
  },
  {
   "cell_type": "markdown",
   "metadata": {},
   "source": [
    "# Search for species"
   ]
  },
  {
   "cell_type": "code",
   "execution_count": null,
   "metadata": {},
   "outputs": [],
   "source": [
    "# You can also call the `show_species` method with a species label, SMILES, or InChI to search the species list\n",
    "model.show_species('C=CC')"
   ]
  },
  {
   "cell_type": "code",
   "execution_count": null,
   "metadata": {},
   "outputs": [],
   "source": [
    "# Alternatively, you can perform the search directly using `get_species` to retrieve the Species object\n",
    "model.get_species('C=CC')[0]"
   ]
  },
  {
   "cell_type": "code",
   "execution_count": null,
   "metadata": {},
   "outputs": [],
   "source": [
    "# With this, we can access to all of the normal RMG species properties, like thermochemistry\n",
    "model.get_species('C=CC')[0].thermo"
   ]
  },
  {
   "cell_type": "code",
   "execution_count": null,
   "metadata": {},
   "outputs": [],
   "source": [
    "# You can do the same with a list of species identifiers, and you can even mix-and-match identifier types\n",
    "targets = ['C12(1)', 'C5H8(375)', 'C6H6(1965)', 'C=CC', 'InChI=1S/CH4/h1H4']\n",
    "model.show_species(targets)"
   ]
  },
  {
   "cell_type": "markdown",
   "metadata": {},
   "source": [
    "# Search by molecular formula"
   ]
  },
  {
   "cell_type": "code",
   "execution_count": null,
   "metadata": {},
   "outputs": [],
   "source": [
    "# The Model class automatically sorts the species by chemical formula for easy searching\n",
    "print(model.get_formulas())"
   ]
  },
  {
   "cell_type": "code",
   "execution_count": null,
   "metadata": {},
   "outputs": [],
   "source": [
    "# You can also use the `show_species` method to show species with a given chemical formula\n",
    "model.show_species('C12H25')"
   ]
  },
  {
   "cell_type": "code",
   "execution_count": null,
   "metadata": {},
   "outputs": [],
   "source": []
  }
 ],
 "metadata": {
  "anaconda-cloud": {},
  "kernelspec": {
   "display_name": "Python 2",
   "language": "python",
   "name": "python2"
  },
  "language_info": {
   "codemirror_mode": {
    "name": "ipython",
    "version": 2
   },
   "file_extension": ".py",
   "mimetype": "text/x-python",
   "name": "python",
   "nbconvert_exporter": "python",
   "pygments_lexer": "ipython2",
   "version": "2.7.15"
  }
 },
 "nbformat": 4,
 "nbformat_minor": 1
}
