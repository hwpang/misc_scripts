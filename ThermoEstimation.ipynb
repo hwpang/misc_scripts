{
 "cells": [
  {
   "cell_type": "code",
   "execution_count": 4,
   "metadata": {
    "collapsed": true
   },
   "outputs": [],
   "source": [
    "import os.path\n",
    "import rmgpy\n",
    "from rmgpy.data.rmg import RMGDatabase\n",
    "from rmgpy.species import Species\n",
    "from rmgpy.molecule.resonance import generateAromaticResonanceIsomers"
   ]
  },
  {
   "cell_type": "code",
   "execution_count": 2,
   "metadata": {
    "collapsed": true
   },
   "outputs": [],
   "source": [
    "databasePath = rmgpy.settings['database.directory']\n",
    "\n",
    "database = RMGDatabase()\n",
    "database.load(\n",
    "    path = databasePath,\n",
    "    thermoLibraries = [],\n",
    "    reactionLibraries = [],\n",
    "    seedMechanisms = [],\n",
    "    kineticsFamilies = 'none'\n",
    "    )"
   ]
  },
  {
   "cell_type": "code",
   "execution_count": 9,
   "metadata": {
    "collapsed": false
   },
   "outputs": [],
   "source": [
    "spec = Species().fromAdjacencyList(\"\"\"1 C u0 p0 c0 {2,S} {3,S} {4,S} {5,S}\n",
    "2 C u0 p1 c0 {1,S} {3,S}\n",
    "3 C u0 p1 c0 {1,S} {2,S}\n",
    "4 H u0 p0 c0 {1,S}\n",
    "5 H u0 p0 c0 {1,S}\"\"\")\n",
    "spec.thermo = database.thermo.getThermoData(spec)"
   ]
  },
  {
   "cell_type": "code",
   "execution_count": 10,
   "metadata": {
    "collapsed": false
   },
   "outputs": [
    {
     "data": {
      "text/plain": [
       "ThermoData(Tdata=([300,400,500,600,800,1000,1500],'K'), Cpdata=([46.0784,68.4544,85.4959,97.2362,110.537,116.102,120.206],'J/(mol*K)'), H298=(98.7424,'kJ/mol'), S298=(-120.379,'J/(mol*K)'), Cp0=(33.2579,'J/(mol*K)'), CpInf=(108.088,'J/(mol*K)'), comment=\"\"\"Thermo group additivity estimation: group(Cs-CsCsHH) + other(R) + group(Cs-CsCsCsCs) + other(R) + group(Cs-CsCsCsCs) + other(R) + ring(Cyclopropane)\"\"\")"
      ]
     },
     "execution_count": 10,
     "metadata": {},
     "output_type": "execute_result"
    }
   ],
   "source": [
    "spec.thermo"
   ]
  },
  {
   "cell_type": "code",
   "execution_count": 11,
   "metadata": {
    "collapsed": false
   },
   "outputs": [
    {
     "data": {
      "text/plain": [
       "25.83365200764818"
      ]
     },
     "execution_count": 11,
     "metadata": {},
     "output_type": "execute_result"
    }
   ],
   "source": [
    "108.088/4.184"
   ]
  },
  {
   "cell_type": "code",
   "execution_count": null,
   "metadata": {
    "collapsed": true
   },
   "outputs": [],
   "source": []
  }
 ],
 "metadata": {
  "anaconda-cloud": {},
  "kernelspec": {
   "display_name": "Python [conda env:rmg_env]",
   "language": "python",
   "name": "conda-env-rmg_env-py"
  },
  "language_info": {
   "codemirror_mode": {
    "name": "ipython",
    "version": 2
   },
   "file_extension": ".py",
   "mimetype": "text/x-python",
   "name": "python",
   "nbconvert_exporter": "python",
   "pygments_lexer": "ipython2",
   "version": "2.7.12"
  }
 },
 "nbformat": 4,
 "nbformat_minor": 1
}
