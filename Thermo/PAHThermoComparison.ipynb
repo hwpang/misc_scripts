{
 "cells": [
  {
   "cell_type": "code",
   "execution_count": null,
   "metadata": {},
   "outputs": [],
   "source": [
    "import os.path\n",
    "import rmgpy\n",
    "from IPython.display import display\n",
    "from rmgpy.data.thermo import ThermoDatabase\n",
    "from rmgpy.chemkin import loadSpeciesDictionary\n",
    "from rmgpy.thermo.thermoengine import submit\n",
    "from rmgpy.cnn_framework.predictor import Predictor"
   ]
  },
  {
   "cell_type": "code",
   "execution_count": null,
   "metadata": {},
   "outputs": [],
   "source": [
    "temperature = 298"
   ]
  },
  {
   "cell_type": "code",
   "execution_count": null,
   "metadata": {},
   "outputs": [],
   "source": [
    "databasePath = os.path.join(rmgpy.settings['database.directory'], 'thermo')\n",
    "\n",
    "database = ThermoDatabase()\n",
    "database.load(\n",
    "    path = databasePath,\n",
    "    libraries = ['PAHLibrary'],\n",
    "    )"
   ]
  },
  {
   "cell_type": "code",
   "execution_count": null,
   "metadata": {},
   "outputs": [],
   "source": [
    "model = '/home/mjliu/Code/RMG-Py/examples/cnn/evaluate/test_model'\n",
    "\n",
    "h298_predictor = Predictor()\n",
    "\n",
    "predictor_input = os.path.join(model,\n",
    "                              'predictor_input.py')\n",
    "\n",
    "h298_predictor.load_input(predictor_input)\n",
    "\n",
    "param_path = os.path.join(model,\n",
    "                         'saved_model',\n",
    "                         'full_train.h5')\n",
    "h298_predictor.load_parameters(param_path)"
   ]
  },
  {
   "cell_type": "code",
   "execution_count": null,
   "metadata": {},
   "outputs": [],
   "source": [
    "speciesList = loadSpeciesDictionary('/home/mjliu/Documents/PAHThermo/species_dictionary.txt')"
   ]
  },
  {
   "cell_type": "code",
   "execution_count": null,
   "metadata": {},
   "outputs": [],
   "source": [
    "labels = []\n",
    "gavThermo = {}\n",
    "gavEnthalpy = []\n",
    "gavEntropy = []\n",
    "calcThermo = {}\n",
    "calcEnthalpy = []\n",
    "calcEntropy = []\n",
    "cnnEnthalpy = []\n",
    "\n",
    "for label in speciesList.iterkeys():\n",
    "    labels.append(label)\n",
    "    spec = speciesList[label]\n",
    "    display(spec)\n",
    "    \n",
    "    gavThermo[label] = database.getThermoDataFromGroups(spec)\n",
    "    \n",
    "    gavEnthalpy.append(gavThermo[label].getEnthalpy(temperature) / 4184)\n",
    "    gavEntropy.append(gavThermo[label].getEntropy(temperature) / 4.184)\n",
    "\n",
    "    calcThermo[label] = database.getThermoData(spec)\n",
    "    \n",
    "    calcEnthalpy.append(calcThermo[label].getEnthalpy(temperature) / 4184)\n",
    "    calcEntropy.append(calcThermo[label].getEntropy(temperature) / 4.184)\n",
    "    \n",
    "    cnnEnthalpy.append(h298_predictor.predict(spec.molecule[0]))"
   ]
  },
  {
   "cell_type": "code",
   "execution_count": null,
   "metadata": {},
   "outputs": [],
   "source": [
    "%matplotlib inline\n",
    "import numpy as np\n",
    "import matplotlib.pyplot as plt\n",
    "\n",
    "from bokeh.plotting import figure, show\n",
    "from bokeh.io import output_notebook\n",
    "output_notebook()"
   ]
  },
  {
   "cell_type": "code",
   "execution_count": null,
   "metadata": {},
   "outputs": [],
   "source": [
    "p = figure(plot_width=500, plot_height=400)\n",
    "\n",
    "# add a square renderer with a size, color, and alpha\n",
    "p.circle(gavEnthalpy, calcEnthalpy, size=10, color=\"green\", alpha=0.5)\n",
    "\n",
    "x = np.array([0, 200])\n",
    "y = x\n",
    "p.line(x=x, y=y, line_width=2, color='#636363')\n",
    "p.line(x=x, y=y+10, line_width=2,line_dash=\"dashed\", color='#bdbdbd')\n",
    "p.line(x=x, y=y-10, line_width=2, line_dash=\"dashed\", color='#bdbdbd')\n",
    "\n",
    "p.xaxis.axis_label = \"H298 GAV (kcal/mol/K)\"\n",
    "p.yaxis.axis_label = \"H298 G3(MP2)//B3 (kcal/mol/K)\"\n",
    "p.xaxis.axis_label_text_font_style = \"normal\"\n",
    "p.yaxis.axis_label_text_font_style = \"normal\"\n",
    "p.xaxis.axis_label_text_font_size = \"16pt\"\n",
    "p.yaxis.axis_label_text_font_size = \"16pt\"\n",
    "p.xaxis.major_label_text_font_size = \"12pt\"\n",
    "p.yaxis.major_label_text_font_size = \"12pt\"\n",
    "\n",
    "show(p)"
   ]
  },
  {
   "cell_type": "code",
   "execution_count": null,
   "metadata": {},
   "outputs": [],
   "source": [
    "p = figure(plot_width=500, plot_height=400)\n",
    "\n",
    "# add a square renderer with a size, color, and alpha\n",
    "p.circle(cnnEnthalpy[:15], calcEnthalpy[:15], size=10, color=\"green\", alpha=0.5)\n",
    "\n",
    "x = np.array([0, 200])\n",
    "y = x\n",
    "p.line(x=x, y=y, line_width=2, color='#636363')\n",
    "p.line(x=x, y=y+10, line_width=2,line_dash=\"dashed\", color='#bdbdbd')\n",
    "p.line(x=x, y=y-10, line_width=2, line_dash=\"dashed\", color='#bdbdbd')\n",
    "\n",
    "p.xaxis.axis_label = \"H298 CNN (kcal/mol/K)\"\n",
    "p.yaxis.axis_label = \"H298 G3(MP2)//B3 (kcal/mol/K)\"\n",
    "p.xaxis.axis_label_text_font_style = \"normal\"\n",
    "p.yaxis.axis_label_text_font_style = \"normal\"\n",
    "p.xaxis.axis_label_text_font_size = \"16pt\"\n",
    "p.yaxis.axis_label_text_font_size = \"16pt\"\n",
    "p.xaxis.major_label_text_font_size = \"12pt\"\n",
    "p.yaxis.major_label_text_font_size = \"12pt\"\n",
    "\n",
    "show(p)"
   ]
  },
  {
   "cell_type": "code",
   "execution_count": null,
   "metadata": {},
   "outputs": [],
   "source": [
    "p = figure(plot_width=500, plot_height=400)\n",
    "\n",
    "# add a square renderer with a size, color, and alpha\n",
    "p.circle(gavEntropy, calcEntropy, size=10, color=\"green\", alpha=0.5)\n",
    "\n",
    "x = np.array([0, 140])\n",
    "y = x\n",
    "p.line(x=x, y=y, line_width=2, color='#636363')\n",
    "p.line(x=x, y=y+10, line_width=2,line_dash=\"dashed\", color='#bdbdbd')\n",
    "p.line(x=x, y=y-10, line_width=2, line_dash=\"dashed\", color='#bdbdbd')\n",
    "\n",
    "p.xaxis.axis_label = \"S298 GAV (cal/mol/K)\"\n",
    "p.yaxis.axis_label = \"S298 G3(MP2)//B3 (cal/mol/K)\"\n",
    "p.xaxis.axis_label_text_font_style = \"normal\"\n",
    "p.yaxis.axis_label_text_font_style = \"normal\"\n",
    "p.xaxis.axis_label_text_font_size = \"16pt\"\n",
    "p.yaxis.axis_label_text_font_size = \"16pt\"\n",
    "p.xaxis.major_label_text_font_size = \"12pt\"\n",
    "p.yaxis.major_label_text_font_size = \"12pt\"\n",
    "\n",
    "show(p)"
   ]
  },
  {
   "cell_type": "code",
   "execution_count": null,
   "metadata": {},
   "outputs": [],
   "source": [
    "hDiff = np.subtract(calcEnthalpy,gavEnthalpy)\n",
    "plt.plot(np.sort(hDiff),'bo')\n",
    "plt.show()"
   ]
  },
  {
   "cell_type": "code",
   "execution_count": null,
   "metadata": {},
   "outputs": [],
   "source": [
    "print np.mean(np.absolute(np.subtract(calcEnthalpy,gavEnthalpy)))\n",
    "print np.mean(np.absolute(np.subtract(calcEntropy,gavEntropy)))"
   ]
  },
  {
   "cell_type": "code",
   "execution_count": null,
   "metadata": {},
   "outputs": [],
   "source": [
    "sDiff = np.subtract(calcEntropy,gavEntropy)\n",
    "plt.plot(np.sort(sDiff),'bo')\n",
    "plt.show()"
   ]
  },
  {
   "cell_type": "code",
   "execution_count": null,
   "metadata": {},
   "outputs": [],
   "source": [
    "plt.plot(hDiff, sDiff, 'bo')\n",
    "plt.xlabel('Enthalpy Error')\n",
    "plt.ylabel('Entropy Error')\n",
    "plt.show()"
   ]
  },
  {
   "cell_type": "code",
   "execution_count": null,
   "metadata": {},
   "outputs": [],
   "source": [
    "indices = np.where(sDiff>120)[0]\n",
    "for index in indices:\n",
    "    print labels[index]\n",
    "    #print speciesList1[labels[index]].thermo.comment"
   ]
  },
  {
   "cell_type": "code",
   "execution_count": null,
   "metadata": {},
   "outputs": [],
   "source": [
    "indices = np.where(np.logical_and(sDiff<40,sDiff>20))[0]\n",
    "for index in indices:\n",
    "    print labels[index]\n",
    "    #print speciesList1[labels[index]].thermo.comment"
   ]
  },
  {
   "cell_type": "code",
   "execution_count": null,
   "metadata": {},
   "outputs": [],
   "source": [
    "indices = np.where(np.logical_and(sDiff<20,sDiff>-20))[0]\n",
    "for index in indices:\n",
    "    print labels[index]\n",
    "    #print speciesList1[labels[index]].thermo.comment"
   ]
  },
  {
   "cell_type": "code",
   "execution_count": null,
   "metadata": {},
   "outputs": [],
   "source": [
    "indices = np.where(sDiff<-20)[0]\n",
    "for index in indices:\n",
    "    print labels[index]\n",
    "    #print speciesList1[labels[index]].thermo.comment"
   ]
  },
  {
   "cell_type": "code",
   "execution_count": null,
   "metadata": {},
   "outputs": [],
   "source": []
  }
 ],
 "metadata": {
  "anaconda-cloud": {},
  "kernelspec": {
   "display_name": "Python 2",
   "language": "python",
   "name": "python2"
  },
  "language_info": {
   "codemirror_mode": {
    "name": "ipython",
    "version": 2
   },
   "file_extension": ".py",
   "mimetype": "text/x-python",
   "name": "python",
   "nbconvert_exporter": "python",
   "pygments_lexer": "ipython2",
   "version": "2.7.15"
  }
 },
 "nbformat": 4,
 "nbformat_minor": 1
}
