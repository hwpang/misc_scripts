{
 "cells": [
  {
   "cell_type": "code",
   "execution_count": null,
   "metadata": {
    "collapsed": false
   },
   "outputs": [],
   "source": [
    "from collections import OrderedDict\n",
    "from IPython.display import display, HTML, Image\n",
    "from base64 import b64encode\n",
    "\n",
    "from rmgpy.molecule import Molecule\n",
    "from rmgpy.species import Species"
   ]
  },
  {
   "cell_type": "markdown",
   "metadata": {},
   "source": [
    "# Load Species Dictionary"
   ]
  },
  {
   "cell_type": "code",
   "execution_count": null,
   "metadata": {
    "collapsed": true
   },
   "outputs": [],
   "source": [
    "# slightly modified version of rmgpy.chemkin.loadSpeciesDictionary\n",
    "def loadSpeciesDictionary(path):\n",
    "    speciesDict = OrderedDict()\n",
    "    with open(path, 'r') as f:\n",
    "        adjlist = ''\n",
    "        for line in f:\n",
    "            if line.strip() == '' and adjlist.strip() != '':\n",
    "                # Finish this adjacency list\n",
    "                species = Species().fromAdjacencyList(adjlist)\n",
    "                label = species.label\n",
    "                speciesDict[label] = species\n",
    "                adjlist = ''\n",
    "            else:\n",
    "                if \"InChI\" in line:\n",
    "                    line = line.split()[0] + '\\n'\n",
    "                if '//' in line:\n",
    "                    index = line.index('//')\n",
    "                    line = line[0:index]\n",
    "                adjlist += line\n",
    "        else: #reach end of file\n",
    "            if adjlist.strip() != '':\n",
    "                species = Species().fromAdjacencyList(adjlist)\n",
    "                label = species.label\n",
    "                speciesDict[label] = species\n",
    "\n",
    "    return speciesDict"
   ]
  },
  {
   "cell_type": "code",
   "execution_count": null,
   "metadata": {
    "collapsed": true
   },
   "outputs": [],
   "source": [
    "# set path here\n",
    "path = '/path/to/species_dictionary.txt'\n",
    "\n",
    "# load\n",
    "species_dict = loadSpeciesDictionary(path)"
   ]
  },
  {
   "cell_type": "markdown",
   "metadata": {},
   "source": [
    "# Visualize All Species"
   ]
  },
  {
   "cell_type": "code",
   "execution_count": null,
   "metadata": {
    "collapsed": false,
    "scrolled": true
   },
   "outputs": [],
   "source": [
    "html = ['<table style=\"width:100%;table-layout:fixed;\">']\n",
    "html += ['<tr><th colspan=\"{0}\">Total {1} Species</th></tr>'.format(2, len(species_dict))]\n",
    "for label, species in species_dict.iteritems():\n",
    "    html += ['<tr><td colspan=\"{0}\">{1}</td>'.format(1, label)]\n",
    "    html += ['<td colspan=\"{0}\"><img src=\"data:image/png;base64,{1}\"></td></tr>'.format(1, b64encode(species._repr_png_()))]\n",
    "html += ['</table>']\n",
    "\n",
    "display(HTML(''.join(html)))"
   ]
  },
  {
   "cell_type": "markdown",
   "metadata": {},
   "source": [
    "# Search For a Single Species"
   ]
  },
  {
   "cell_type": "code",
   "execution_count": null,
   "metadata": {
    "collapsed": true
   },
   "outputs": [],
   "source": [
    "# specify what you're searching for\n",
    "target = Species(molecule=[Molecule().fromSMILES('CCCC')])\n",
    "\n",
    "# target = Species(molecule=[Molecule().fromInChI('InChI=1S/C5H6/c1-2-4-5-3-1/h1-4H,5H2')])  # can use InChI instead\n",
    "\n",
    "target.generate_resonance_structures()"
   ]
  },
  {
   "cell_type": "code",
   "execution_count": null,
   "metadata": {
    "collapsed": false
   },
   "outputs": [],
   "source": [
    "# search the species dictionary\n",
    "for label, species in species_dict.iteritems():\n",
    "    if target.isIsomorphic(species):\n",
    "        print label\n",
    "        display(species)\n",
    "        break\n",
    "else:\n",
    "    print 'Species not found...'"
   ]
  },
  {
   "cell_type": "markdown",
   "metadata": {},
   "source": [
    "# Visualize By Molecular Formula"
   ]
  },
  {
   "cell_type": "code",
   "execution_count": null,
   "metadata": {
    "collapsed": false
   },
   "outputs": [],
   "source": [
    "# sort species dictionary by formula\n",
    "formula_dict = {}\n",
    "for species in species_dict.itervalues():\n",
    "    formula = species.molecule[0].getFormula()\n",
    "    try:\n",
    "        formula_dict[formula].append(species)\n",
    "    except KeyError:\n",
    "        formula_dict[formula] = [species]\n",
    "\n",
    "print formula_dict.keys().sort()"
   ]
  },
  {
   "cell_type": "code",
   "execution_count": null,
   "metadata": {
    "collapsed": false
   },
   "outputs": [],
   "source": [
    "# view species for specified formula\n",
    "desired = 'C2H4O'\n",
    "\n",
    "html = ['<table style=\"width:100%;table-layout:fixed;\">']\n",
    "html += ['<tr><th colspan=\"{0}\">There are {1} species with formula {2}.</th></tr>'.format(2, len(formula_dict[desired]), desired)]\n",
    "for species in formula_dict[desired]:\n",
    "    html += ['<tr><td colspan=\"{0}\">{1}</td>'.format(1, species.label)]\n",
    "    html += ['<td colspan=\"{0}\"><img src=\"data:image/png;base64,{1}\"></td></tr>'.format(1, b64encode(species._repr_png_()))]\n",
    "html += ['</table>']\n",
    "\n",
    "display(HTML(''.join(html)))"
   ]
  },
  {
   "cell_type": "code",
   "execution_count": null,
   "metadata": {
    "collapsed": true
   },
   "outputs": [],
   "source": []
  }
 ],
 "metadata": {
  "anaconda-cloud": {},
  "kernelspec": {
   "display_name": "Python [conda env:rmg_env]",
   "language": "python",
   "name": "conda-env-rmg_env-py"
  },
  "language_info": {
   "codemirror_mode": {
    "name": "ipython",
    "version": 2
   },
   "file_extension": ".py",
   "mimetype": "text/x-python",
   "name": "python",
   "nbconvert_exporter": "python",
   "pygments_lexer": "ipython2",
   "version": "2.7.13"
  }
 },
 "nbformat": 4,
 "nbformat_minor": 1
}
