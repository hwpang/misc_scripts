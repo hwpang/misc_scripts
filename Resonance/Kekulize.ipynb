{
 "cells": [
  {
   "cell_type": "code",
   "execution_count": null,
   "metadata": {
    "collapsed": false
   },
   "outputs": [],
   "source": [
    "from rmgpy.molecule import Molecule\n",
    "from rmgpy.molecule.resonance import *\n",
    "\n",
    "from IPython.display import display\n",
    "import pdb"
   ]
  },
  {
   "cell_type": "code",
   "execution_count": null,
   "metadata": {
    "collapsed": false
   },
   "outputs": [],
   "source": [
    "mol = Molecule(SMILES='C1=CC2=CC=C3C=CC=C4C=CC(=C1)C2=C43')\n",
    "out = generateAromaticResonanceStructures(mol)\n",
    "display(out[0])\n",
    "kekulize(out[0])\n",
    "display(out[0])"
   ]
  },
  {
   "cell_type": "code",
   "execution_count": null,
   "metadata": {
    "collapsed": false
   },
   "outputs": [],
   "source": [
    "def kekulize(self):\n",
    "    from rmgpy.molecule import PeriodicSystem\n",
    "    import numpy as np\n",
    "    import itertools\n",
    "\n",
    "    rings = self.getAllCyclesOfSize(6)\n",
    "\n",
    "    # We want to identify all aromatic rings, especially ones that have been modified\n",
    "    aromaticRings = []\n",
    "    invalidRings = []\n",
    "    for ring in rings:\n",
    "        endoBonds = set()\n",
    "        exoBonds = set()\n",
    "        aromatic = True\n",
    "        valid = True\n",
    "        for atom1 in ring:\n",
    "            for atom2, bond in atom1.bonds.iteritems():\n",
    "                if atom2 in ring:\n",
    "                    if bond.order[0] != 'B':\n",
    "                        aromatic = False\n",
    "                        break\n",
    "                    elif bond.order == 'B+' or bond.order == 'B-':\n",
    "                        valid = False\n",
    "                    endoBonds.add(bond)\n",
    "                else:\n",
    "                    exoBonds.add(bond)\n",
    "            if not aromatic:\n",
    "                break\n",
    "        if aromatic:\n",
    "            if valid:\n",
    "                aromaticRings.append((ring, list(endoBonds), list(exoBonds)))\n",
    "            else:\n",
    "                invalidRings.append((ring, list(endoBonds), list(exoBonds)))\n",
    "\n",
    "    bondOrders = {'S': 1, 'D': 2, 'T': 3, 'B': 1.5}\n",
    "    bondOrdersInv = {1: 'S', 2: 'D', 3: 'T'}\n",
    "    valences = PeriodicSystem.valences\n",
    "\n",
    "    for ring, endo, exo in itertools.chain(invalidRings, aromaticRings):\n",
    "        print 'Solving ring...'\n",
    "        exoAromatic = sum([1 for bond in exo if bond.order == 'B'])\n",
    "        print 'There are {} exocyclic aromatic bonds.'.format(exoAromatic)\n",
    "        endoNonArom = sum([bondOrders[bond.order] for bond in endo if bond.order[0] != 'B'])\n",
    "        print 'Endocyclic Bond:' + '-'.join([bond.order for bond in endo])\n",
    "\n",
    "        a = []\n",
    "        b = []\n",
    "        for atom in ring:\n",
    "            a.append([1 if atom in [bond.atom1, bond.atom2] else 0 for bond in endo])\n",
    "            v = valences[atom.element.symbol]\n",
    "            for bond in atom.bonds.itervalues():\n",
    "                if bond in exo:\n",
    "                    if exoAromatic == 1:\n",
    "                        v -= np.ceil(bondOrders[bond.order])\n",
    "                    else:\n",
    "                        v -= np.floor(bondOrders[bond.order])\n",
    "            v -= atom.radicalElectrons\n",
    "            b.append(v)\n",
    "        constraints = []\n",
    "        for index, bond in enumerate(endo):\n",
    "            if bond.order == 'B-':\n",
    "                # Must become single bond\n",
    "                new_a = [0] * len(endo)\n",
    "                new_a[index] = 1\n",
    "                constraints.append((new_a, 1))\n",
    "            elif bond.order == 'B+':\n",
    "                # Must become double bond\n",
    "                new_a = [0] * len(endo)\n",
    "                new_a[index] = 1\n",
    "                constraints.append((new_a, 2))\n",
    "            elif bond.order != 'B':\n",
    "                # Bond has already been altered, so keep the new order\n",
    "                new_a = [0] * len(endo)\n",
    "                new_a[index] = 1\n",
    "                constraints.append((new_a, bondOrders[bond.order]))\n",
    "        if len(constraints) == 0:\n",
    "            # Move on to next ring and come back later\n",
    "            print 'No constraints, picking arbitrary constraint.'\n",
    "            # Pick an arbitrary bond to constrain\n",
    "            index = 0\n",
    "            new_a = [0] * len(endo)\n",
    "            new_a[index] = 1\n",
    "            constraints.append((new_a, 2))\n",
    "        for new_a, new_b in constraints:\n",
    "            a.append(new_a)\n",
    "            b.append(new_b)\n",
    "\n",
    "        a = np.array(a)\n",
    "        b = np.array(b)\n",
    "\n",
    "        x = np.rint(np.dot(np.linalg.pinv(a), b)).tolist()\n",
    "\n",
    "        for index, bond in enumerate(endo):\n",
    "            try:\n",
    "                bond.order = bondOrdersInv[x[index]]\n",
    "            except KeyError:\n",
    "                pdb.set_trace()"
   ]
  },
  {
   "cell_type": "code",
   "execution_count": null,
   "metadata": {
    "collapsed": true
   },
   "outputs": [],
   "source": []
  }
 ],
 "metadata": {
  "anaconda-cloud": {},
  "kernelspec": {
   "display_name": "Python [conda env:rmg_env]",
   "language": "python",
   "name": "conda-env-rmg_env-py"
  },
  "language_info": {
   "codemirror_mode": {
    "name": "ipython",
    "version": 2
   },
   "file_extension": ".py",
   "mimetype": "text/x-python",
   "name": "python",
   "nbconvert_exporter": "python",
   "pygments_lexer": "ipython2",
   "version": "2.7.12"
  }
 },
 "nbformat": 4,
 "nbformat_minor": 1
}
