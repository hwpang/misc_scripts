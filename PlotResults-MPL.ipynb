{
 "cells": [
  {
   "cell_type": "code",
   "execution_count": null,
   "metadata": {
    "collapsed": false
   },
   "outputs": [],
   "source": [
    "import numpy as np\n",
    "import pandas as pd\n",
    "import re\n",
    "\n",
    "%matplotlib inline\n",
    "import matplotlib as mpl\n",
    "import matplotlib.pyplot as plt"
   ]
  },
  {
   "cell_type": "code",
   "execution_count": null,
   "metadata": {
    "collapsed": false
   },
   "outputs": [],
   "source": [
    "filepath = '/home/mjliu/Documents/Models/Naphthalene/acetylene/run7/n_a_run7.csv'\n",
    "data = pd.read_csv(filepath)"
   ]
  },
  {
   "cell_type": "code",
   "execution_count": null,
   "metadata": {
    "collapsed": false
   },
   "outputs": [],
   "source": [
    "columns = []\n",
    "labels = []\n",
    "for column in data.columns[7:17]:\n",
    "    columns.append(column)\n",
    "    labels.append(re.sub('Mole_fraction_', '', column)[0:-3])"
   ]
  },
  {
   "cell_type": "code",
   "execution_count": null,
   "metadata": {
    "collapsed": false
   },
   "outputs": [],
   "source": [
    "labels"
   ]
  },
  {
   "cell_type": "code",
   "execution_count": null,
   "metadata": {
    "collapsed": true
   },
   "outputs": [],
   "source": [
    "newlabels = [\n",
    "    'Tetralin',\n",
    "    'Acetylene',\n",
    "    'H2',\n",
    "    'Ethene',\n",
    "    'Methyl indene',\n",
    "    'Toluene',\n",
    "    'Indene',\n",
    "    'Methane',\n",
    "    'Naphthalene',\n",
    "    'Benzofulvene',\n",
    "]"
   ]
  },
  {
   "cell_type": "code",
   "execution_count": null,
   "metadata": {
    "collapsed": true
   },
   "outputs": [],
   "source": [
    "newlabels = [\n",
    "    'Naphthalene',\n",
    "    'Acetylene',\n",
    "    'Benzene',\n",
    "    'Acenaphthylene',\n",
    "    'H2',\n",
    "    'Ethene',\n",
    "    'Benzofulvene',\n",
    "    '2-Ethenyl naphthalene',\n",
    "    '2-Ethynyl naphthalene',\n",
    "    '7-Methylene norbornane'\n",
    "]"
   ]
  },
  {
   "cell_type": "code",
   "execution_count": null,
   "metadata": {
    "collapsed": false
   },
   "outputs": [],
   "source": [
    "plt.style.use('seaborn-poster')\n",
    "#plt.rcParams['axes.labelsize'] = 24\n",
    "#plt.rcParams['xtick.labelsize'] = 20\n",
    "#plt.rcParams['ytick.labelsize'] = 20\n",
    "\n",
    "fig = plt.figure()\n",
    "\n",
    "colormap = mpl.cm.tab10\n",
    "\n",
    "for i, column in enumerate(columns):\n",
    "    x = data['Time (sec)']\n",
    "    y = data[column]\n",
    "    y = [value if value > 1e-8 else np.nan for value in y]\n",
    "    plt.plot(x, y, c=colormap(i), label=newlabels[i])\n",
    "\n",
    "plt.xlabel('Time (s)')\n",
    "plt.ylabel('Mole Fraction')\n",
    "plt.legend(bbox_to_anchor=(1.02, 1), loc=2, borderaxespad=0.)"
   ]
  },
  {
   "cell_type": "code",
   "execution_count": null,
   "metadata": {
    "collapsed": true
   },
   "outputs": [],
   "source": []
  }
 ],
 "metadata": {
  "anaconda-cloud": {},
  "kernelspec": {
   "display_name": "Python [conda env:rmg_env]",
   "language": "python",
   "name": "conda-env-rmg_env-py"
  },
  "language_info": {
   "codemirror_mode": {
    "name": "ipython",
    "version": 2
   },
   "file_extension": ".py",
   "mimetype": "text/x-python",
   "name": "python",
   "nbconvert_exporter": "python",
   "pygments_lexer": "ipython2",
   "version": "2.7.12"
  }
 },
 "nbformat": 4,
 "nbformat_minor": 1
}
