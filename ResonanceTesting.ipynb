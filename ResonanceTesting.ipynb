{
 "cells": [
  {
   "cell_type": "code",
   "execution_count": 1,
   "metadata": {
    "collapsed": false
   },
   "outputs": [],
   "source": [
    "from rmgpy.molecule.resonance import *\n",
    "from rmgpy.molecule.molecule import Molecule\n",
    "\n",
    "import sys, time\n",
    "import cProfile"
   ]
  },
  {
   "cell_type": "code",
   "execution_count": 2,
   "metadata": {
    "collapsed": true
   },
   "outputs": [],
   "source": [
    "molList = [\n",
    "    'CC', 'CCC', 'CCCC',\n",
    "    'C=C[CH2]', 'CC=C[CH2]', 'C=CC=C[CH2]', 'C=C[CH]C=CC',\n",
    "    'CC=N[O]', 'CCN=N=[N-]',\n",
    "    'c1ccccc1', 'c1ccccc1C', \n",
    "    'c1ccccc1[CH2]', 'c1ccccc1[C]=C', 'c1ccccc1[CH2]C', 'C1ccccc1[CH2]C=C',\n",
    "    'C1=CC=C(C=C1)C1C=CC=CC=1',\n",
    "    'C1=CC=C2C=CC=CC2=C1',\n",
    "    'C1=CC2=CC=CC3C=CC(=C1)C=32',\n",
    "    'C1=CC=C2C=C3C=CC=CC3=CC2=C1',\n",
    "    'C1=CC=C2C(C=CC3=CC=CC=C32)=C1',\n",
    "    'C1=CC2=CC=CC3CC=CC(=C1)C=32',\n",
    "    'C1=CC=C2C=C3C=C4C=CC=CC4=CC3=CC2=C1',\n",
    "    'C1=CC=C2C(C=CC3C2=CC=C2C=CC=CC=32)=C1',\n",
    "    'C1=CC=C2C(=C1)C1=CC=CC=C1C1=CC=CC=C21',\n",
    "    'C1=CC2=CC=C3C=CC=C4C=CC(=C1)C2=C43',\n",
    "    'C1=CC=C2C=C3C(C=CC4=CC=CC=C43)=CC2=C1',\n",
    "    'C1=CC=C2C=C3C=C4C=C5C=CC=CC5=CC4=CC3=CC2=C1',\n",
    "    'C1=CC=C2C(=C1)C=C1C=CC3=CC=CC4=CC=C2C1=C34',\n",
    "    'C1=CC2=CC=C3C=CC4=C5C6=C(C2=C35)C1=CC=C6C=C4',\n",
    "    'C1=CC2=CC=CC3C4=CC=CC5=CC=CC(C(=C1)C=32)=C54',\n",
    "    'C1=CC2=CC=C3C=C4C=CC=C5C=CC6=CC(=C1)C2=C3C6=C54',\n",
    "    'C1=CC2=CC=C3C=CC4=CC=C5C=CC=C6C(=C1)C2=C3C4=C56',\n",
    "    'C1=CC=C2C(=C1)C=C1C3=CC=CC=C3C3=CC=CC4=CC=C2C1=C43',\n",
    "    'C1=CC2=CC=C3C=CC4=CC=C5C=CC6=CC=C1C1=C2C3=C4C5=C61',\n",
    "    'C1=CC2=CC=C3C=C4C=CC5=CC=C6C=CC7=CC8=CC=C1C1=C2C3=C2C4=C5C6=C7C2=C81',\n",
    "]"
   ]
  },
  {
   "cell_type": "code",
   "execution_count": 3,
   "metadata": {
    "collapsed": false
   },
   "outputs": [],
   "source": [
    "for mol in molList:\n",
    "    molecule = Molecule().fromSMILES(mol)\n",
    "    newmol = generateResonanceIsomers(molecule)"
   ]
  },
  {
   "cell_type": "code",
   "execution_count": 3,
   "metadata": {
    "collapsed": false
   },
   "outputs": [
    {
     "name": "stdout",
     "output_type": "stream",
     "text": [
      "         10671 function calls (10419 primitive calls) in 2.244 seconds\n",
      "\n",
      "   Ordered by: standard name\n",
      "\n",
      "   ncalls  tottime  percall  cumtime  percall filename:lineno(function)\n",
      "        1    0.001    0.001    2.244    2.244 <string>:1(<module>)\n",
      "        2    0.000    0.000    0.000    0.000 __init__.py:23(find_module)\n",
      "      350    0.001    0.000    0.001    0.000 iostream.py:304(fileno)\n",
      "       35    0.000    0.000    0.053    0.002 openbabel.py:1689(__init__)\n",
      "       35    0.000    0.000    0.000    0.000 openbabel.py:2270(__init__)\n",
      "       35    0.000    0.000    0.000    0.000 openbabel.py:3764(__init__)\n",
      "      822    0.000    0.000    0.000    0.000 openbabel.py:3767(__nonzero__)\n",
      "       35    0.000    0.000    0.000    0.000 openbabel.py:4351(__init__)\n",
      "      885    0.000    0.000    0.000    0.000 openbabel.py:4354(__nonzero__)\n",
      "       70    0.000    0.000    0.001    0.000 openbabel.py:5008(__init__)\n",
      "       70    0.000    0.000    0.000    0.000 openbabel.py:5014(__iter__)\n",
      "     1707    0.004    0.000    0.006    0.000 openbabel.py:5020(next)\n",
      "       35    0.045    0.001    2.137    0.061 resonance.py:129(generateResonanceIsomers)\n",
      "       19    0.001    0.000    0.001    0.000 resonance.py:166(generateAdjacentResonanceIsomers)\n",
      "        6    0.000    0.000    0.000    0.000 resonance.py:209(generateLonePairRadicalResonanceIsomers)\n",
      "        6    0.000    0.000    0.000    0.000 resonance.py:256(generateN5dd_N5tsResonanceIsomers)\n",
      "      112    0.425    0.004    0.425    0.004 resonance.py:339(generateAromaticResonanceIsomers)\n",
      "      130    0.120    0.001    0.120    0.001 resonance.py:398(generateKekulizedResonanceIsomers)\n",
      "       98    0.003    0.000    1.463    0.015 resonance.py:469(generateClarStructures)\n",
      "   350/98    1.412    0.004    1.413    0.014 resonance.py:515(clarOptimization)\n",
      "       35    0.000    0.000    0.000    0.000 resonance.py:58(populateResonanceAlgorithms)\n",
      "      460    0.046    0.000    0.046    0.000 resonance.py:625(clarTransformation)\n",
      "       35    0.082    0.002    0.082    0.002 resonance.py:92(analyzeMolecule)\n",
      "        4    0.000    0.000    0.000    0.000 six.py:184(find_module)\n",
      "       35    0.000    0.000    0.000    0.000 {_openbabel.OBConversion_swiginit}\n",
      "       35    0.000    0.000    0.000    0.000 {_openbabel.OBMol_swiginit}\n",
      "      822    0.000    0.000    0.000    0.000 {_openbabel._OBMolAtomIter___nonzero__}\n",
      "      787    0.000    0.000    0.000    0.000 {_openbabel._OBMolAtomIter___ref__}\n",
      "      787    0.001    0.000    0.001    0.000 {_openbabel._OBMolAtomIter_inc}\n",
      "       35    0.000    0.000    0.000    0.000 {_openbabel._OBMolAtomIter_swiginit}\n",
      "      885    0.000    0.000    0.000    0.000 {_openbabel._OBMolBondIter___nonzero__}\n",
      "      850    0.000    0.000    0.000    0.000 {_openbabel._OBMolBondIter___ref__}\n",
      "      850    0.000    0.000    0.000    0.000 {_openbabel._OBMolBondIter_inc}\n",
      "       35    0.000    0.000    0.000    0.000 {_openbabel._OBMolBondIter_swiginit}\n",
      "       35    0.052    0.001    0.052    0.001 {_openbabel.new_OBConversion}\n",
      "       35    0.000    0.000    0.000    0.000 {_openbabel.new_OBMol}\n",
      "       35    0.000    0.000    0.000    0.000 {_openbabel.new__OBMolAtomIter}\n",
      "       35    0.000    0.000    0.000    0.000 {_openbabel.new__OBMolBondIter}\n",
      "        1    0.000    0.000    0.000    0.000 {method 'disable' of '_lsprof.Profiler' objects}\n",
      "       35    0.047    0.001    0.107    0.003 {method 'fromSMILES' of 'rmgpy.molecule.molecule.Molecule' objects}\n",
      "        2    0.000    0.000    0.000    0.000 {method 'partition' of 'str' objects}\n",
      "       35    0.000    0.000    2.137    0.061 {rmgpy.molecule.resonance.generateResonanceIsomers}\n",
      "\n",
      "\n"
     ]
    }
   ],
   "source": [
    "script = \"\"\"\\\n",
    "for mol in molList:\n",
    "    molecule = Molecule().fromSMILES(mol)\n",
    "    newmol = generateResonanceIsomers(molecule)\n",
    "\"\"\"\n",
    "\n",
    "cProfile.run(script)"
   ]
  },
  {
   "cell_type": "code",
   "execution_count": null,
   "metadata": {
    "collapsed": false
   },
   "outputs": [],
   "source": [
    "times = []\n",
    "output = []\n",
    "\n",
    "for mol in molList:\n",
    "    molecule = Molecule().fromSMILES(mol)\n",
    "    try:\n",
    "        t0 = time.time()\n",
    "        newmol = generateResonanceIsomers(molecule)\n",
    "        t1 = time.time()\n",
    "        output.append(newmol)\n",
    "    except:\n",
    "        output.append(sys.exc_info()[0])\n",
    "    times.append(t1 - t0)"
   ]
  },
  {
   "cell_type": "code",
   "execution_count": null,
   "metadata": {
    "collapsed": false
   },
   "outputs": [],
   "source": [
    "times"
   ]
  },
  {
   "cell_type": "code",
   "execution_count": null,
   "metadata": {
    "collapsed": false
   },
   "outputs": [],
   "source": [
    "import numpy as np\n",
    "print np.mean(times), np.sum(times)"
   ]
  },
  {
   "cell_type": "code",
   "execution_count": null,
   "metadata": {
    "collapsed": false
   },
   "outputs": [],
   "source": [
    "output"
   ]
  },
  {
   "cell_type": "code",
   "execution_count": null,
   "metadata": {
    "collapsed": false
   },
   "outputs": [],
   "source": [
    "a = [(0.00892686843872, 0.312440395355), (0.00796243803842, 0.278685331345)]\n",
    "b = [(0.0490251541138, 1.71588039398), (0.0532118047987, 1.86241316795)]\n",
    "c = [(0.0546148300171, 1.9115190506),(0.0541006292616, 1.89352202415)]"
   ]
  },
  {
   "cell_type": "code",
   "execution_count": null,
   "metadata": {
    "collapsed": false
   },
   "outputs": [],
   "source": []
  },
  {
   "cell_type": "code",
   "execution_count": null,
   "metadata": {
    "collapsed": true
   },
   "outputs": [],
   "source": []
  }
 ],
 "metadata": {
  "anaconda-cloud": {},
  "kernelspec": {
   "display_name": "Python [conda env:rmg_env]",
   "language": "python",
   "name": "conda-env-rmg_env-py"
  },
  "language_info": {
   "codemirror_mode": {
    "name": "ipython",
    "version": 2
   },
   "file_extension": ".py",
   "mimetype": "text/x-python",
   "name": "python",
   "nbconvert_exporter": "python",
   "pygments_lexer": "ipython2",
   "version": "2.7.12"
  }
 },
 "nbformat": 4,
 "nbformat_minor": 0
}
