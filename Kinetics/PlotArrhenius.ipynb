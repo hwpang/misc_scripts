{
 "cells": [
  {
   "cell_type": "code",
   "execution_count": null,
   "metadata": {
    "collapsed": false
   },
   "outputs": [],
   "source": [
    "%matplotlib inline\n",
    "import matplotlib as mpl\n",
    "import matplotlib.pyplot as plt\n",
    "import numpy as np\n",
    "\n",
    "from rmgpy.kinetics.arrhenius import Arrhenius"
   ]
  },
  {
   "cell_type": "code",
   "execution_count": null,
   "metadata": {
    "collapsed": false
   },
   "outputs": [],
   "source": [
    "kinetics = [\n",
    "    Arrhenius(A=(3.95e+16,'s^-1'), n=-0.98, Ea=(285,'kJ/mol'), T0=(298,'K')),\n",
    "    Arrhenius(A=(1.98e+11,'s^-1'), n=0, Ea=(192,'kJ/mol'), T0=(1,'K')),\n",
    "    Arrhenius(A=(8.59e+14,'s^-1'), n=0, Ea=(273,'kJ/mol'), T0=(1,'K')),\n",
    "    Arrhenius(A=(1e+13,'s^-1'), n=0, Ea=(226,'kJ/mol'), T0=(1,'K')),\n",
    "]"
   ]
  },
  {
   "cell_type": "code",
   "execution_count": null,
   "metadata": {
    "collapsed": true
   },
   "outputs": [],
   "source": [
    "pressure = 1e5 # Pa\n",
    "temperature = np.linspace(298, 2000, 20)"
   ]
  },
  {
   "cell_type": "code",
   "execution_count": null,
   "metadata": {
    "collapsed": false
   },
   "outputs": [],
   "source": [
    "plt.style.use('seaborn-talk')\n",
    "\n",
    "fig = plt.figure()\n",
    "\n",
    "for i, rate in enumerate(kinetics):\n",
    "    # Evaluate kinetics\n",
    "    k = []\n",
    "    for t in temperature:\n",
    "        k.append(rate.getRateCoefficient(t, pressure))\n",
    "    \n",
    "    x = 1000 / temperature\n",
    "    y = np.log10(k)\n",
    "    plt.plot(x, y)\n",
    "    \n",
    "plt.xlabel('1000/T (K)')\n",
    "plt.ylabel('log(k)')\n",
    "plt.legend(range(len(kinetics)))"
   ]
  },
  {
   "cell_type": "code",
   "execution_count": null,
   "metadata": {
    "collapsed": true
   },
   "outputs": [],
   "source": []
  }
 ],
 "metadata": {
  "anaconda-cloud": {},
  "kernelspec": {
   "display_name": "Python [conda env:rmg_env]",
   "language": "python",
   "name": "conda-env-rmg_env-py"
  },
  "language_info": {
   "codemirror_mode": {
    "name": "ipython",
    "version": 2
   },
   "file_extension": ".py",
   "mimetype": "text/x-python",
   "name": "python",
   "nbconvert_exporter": "python",
   "pygments_lexer": "ipython2",
   "version": "2.7.12"
  }
 },
 "nbformat": 4,
 "nbformat_minor": 1
}
