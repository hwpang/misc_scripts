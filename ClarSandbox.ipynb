{
 "cells": [
  {
   "cell_type": "code",
   "execution_count": 1,
   "metadata": {
    "collapsed": true
   },
   "outputs": [],
   "source": [
    "import rmgpy\n",
    "from rmgpy.molecule import clar\n",
    "from rmgpy.molecule.molecule import Molecule\n",
    "from rmgpy.species import Species\n",
    "from rmgpy.data.rmg import RMGDatabase"
   ]
  },
  {
   "cell_type": "code",
   "execution_count": 2,
   "metadata": {
    "collapsed": false
   },
   "outputs": [],
   "source": [
    "mol1 = Molecule().fromSMILES('C1=CC=C2C(C=CC3C2=CC=C2C=CC=CC=32)=C1')\n",
    "mol2 = Molecule().fromSMILES('C1=CC=C2C(C=CC3C2=CC=C2C=CC=CC=32)=C1')"
   ]
  },
  {
   "cell_type": "code",
   "execution_count": 3,
   "metadata": {
    "collapsed": false
   },
   "outputs": [
    {
     "data": {
      "image/png": "[encoded data removed]",
      "text/plain": [
       "Molecule(SMILES=\"C1=CC=C2C(C=CC3C2=CC=C2C=CC=CC=32)=C1\")"
      ]
     },
     "execution_count": 3,
     "metadata": {},
     "output_type": "execute_result"
    }
   ],
   "source": [
    "mol1"
   ]
  },
  {
   "cell_type": "code",
   "execution_count": 4,
   "metadata": {
    "collapsed": false
   },
   "outputs": [
    {
     "data": {
      "text/plain": [
       "False"
      ]
     },
     "execution_count": 4,
     "metadata": {},
     "output_type": "execute_result"
    }
   ],
   "source": [
    "mol1.isAromatic()"
   ]
  },
  {
   "cell_type": "code",
   "execution_count": 5,
   "metadata": {
    "collapsed": false
   },
   "outputs": [
    {
     "data": {
      "text/plain": [
       "[[<Atom 'C'>, <Atom 'C'>, <Atom 'C'>, <Atom 'C'>, <Atom 'C'>, <Atom 'C'>],\n",
       " [<Atom 'C'>, <Atom 'C'>, <Atom 'C'>, <Atom 'C'>, <Atom 'C'>, <Atom 'C'>],\n",
       " [<Atom 'C'>, <Atom 'C'>, <Atom 'C'>, <Atom 'C'>, <Atom 'C'>, <Atom 'C'>],\n",
       " [<Atom 'C'>, <Atom 'C'>, <Atom 'C'>, <Atom 'C'>, <Atom 'C'>, <Atom 'C'>]]"
      ]
     },
     "execution_count": 5,
     "metadata": {},
     "output_type": "execute_result"
    }
   ],
   "source": [
    "SSSR = mol2.getSmallestSetOfSmallestRings()\n",
    "SSSR"
   ]
  },
  {
   "cell_type": "code",
   "execution_count": 6,
   "metadata": {
    "collapsed": false
   },
   "outputs": [
    {
     "name": "stdout",
     "output_type": "stream",
     "text": [
      "Alternating single and double bonds!\n",
      "No alternating bonds: BSSSDS\n",
      "Alternating single and double bonds!\n",
      "No alternating bonds: BSDSDS\n"
     ]
    }
   ],
   "source": [
    "for ring in SSSR:\n",
    "    indexList = zip(range(6),range(1,6) + [0])\n",
    "    bondList = []\n",
    "    bonds = ''\n",
    "    \n",
    "    for index1, index2 in indexList:\n",
    "        bond = mol2.getBond(ring[index1],ring[index2])\n",
    "        bondList.append(bond)\n",
    "        bonds += bond.order\n",
    "    \n",
    "    if bonds in ('DSDSDS', 'SDSDSD'):\n",
    "        print \"Alternating single and double bonds!\"\n",
    "        clar.clarTransformation(mol2,bondList)\n",
    "    else:\n",
    "        print \"No alternating bonds: {0}\".format(bonds)"
   ]
  },
  {
   "cell_type": "code",
   "execution_count": 7,
   "metadata": {
    "collapsed": false
   },
   "outputs": [
    {
     "data": {
      "image/png": "[encoded data removed]",
      "text/plain": [
       "Molecule(SMILES=\"C1C=Cc2c(C=1)ccc1-c3ccccc3C=Cc12\")"
      ]
     },
     "execution_count": 7,
     "metadata": {},
     "output_type": "execute_result"
    }
   ],
   "source": [
    "mol2"
   ]
  },
  {
   "cell_type": "code",
   "execution_count": 8,
   "metadata": {
    "collapsed": false
   },
   "outputs": [
    {
     "name": "stdout",
     "output_type": "stream",
     "text": [
      "1  C u0 p0 c0 {3,B} {6,S} {7,B}\n",
      "2  C u0 p0 c0 {4,S} {5,B} {8,B}\n",
      "3  C u0 p0 c0 {1,B} {4,S} {11,B}\n",
      "4  C u0 p0 c0 {2,S} {3,S} {12,D}\n",
      "5  C u0 p0 c0 {2,B} {6,S} {15,B}\n",
      "6  C u0 p0 c0 {1,S} {5,S} {16,D}\n",
      "7  C u0 p0 c0 {1,B} {9,S} {10,B}\n",
      "8  C u0 p0 c0 {2,B} {13,S} {14,B}\n",
      "9  C u0 p0 c0 {7,S} {17,D} {22,S}\n",
      "10 C u0 p0 c0 {7,B} {18,B} {23,S}\n",
      "11 C u0 p0 c0 {3,B} {18,B} {25,S}\n",
      "12 C u0 p0 c0 {4,D} {19,S} {26,S}\n",
      "13 C u0 p0 c0 {8,S} {19,D} {28,S}\n",
      "14 C u0 p0 c0 {8,B} {20,B} {29,S}\n",
      "15 C u0 p0 c0 {5,B} {20,B} {31,S}\n",
      "16 C u0 p0 c0 {6,D} {17,S} {32,S}\n",
      "17 C u0 p0 c0 {9,D} {16,S} {21,S}\n",
      "18 C u0 p0 c0 {10,B} {11,B} {24,S}\n",
      "19 C u0 p0 c0 {12,S} {13,D} {27,S}\n",
      "20 C u0 p0 c0 {14,B} {15,B} {30,S}\n",
      "21 H u0 p0 c0 {17,S}\n",
      "22 H u0 p0 c0 {9,S}\n",
      "23 H u0 p0 c0 {10,S}\n",
      "24 H u0 p0 c0 {18,S}\n",
      "25 H u0 p0 c0 {11,S}\n",
      "26 H u0 p0 c0 {12,S}\n",
      "27 H u0 p0 c0 {19,S}\n",
      "28 H u0 p0 c0 {13,S}\n",
      "29 H u0 p0 c0 {14,S}\n",
      "30 H u0 p0 c0 {20,S}\n",
      "31 H u0 p0 c0 {15,S}\n",
      "32 H u0 p0 c0 {16,S}\n",
      "\n"
     ]
    }
   ],
   "source": [
    "print mol2.toAdjacencyList()"
   ]
  },
  {
   "cell_type": "code",
   "execution_count": 9,
   "metadata": {
    "collapsed": false
   },
   "outputs": [
    {
     "data": {
      "text/plain": [
       "True"
      ]
     },
     "execution_count": 9,
     "metadata": {},
     "output_type": "execute_result"
    }
   ],
   "source": [
    "mol2.isAromatic()"
   ]
  },
  {
   "cell_type": "code",
   "execution_count": 10,
   "metadata": {
    "collapsed": false
   },
   "outputs": [],
   "source": [
    "databasePath = rmgpy.settings['database.directory']\n",
    "\n",
    "database = RMGDatabase()\n",
    "database.load(\n",
    "    path = databasePath,\n",
    "    thermoLibraries = ['PAHLibrary'],\n",
    "    reactionLibraries = [],\n",
    "    seedMechanisms = [],\n",
    "    kineticsFamilies = 'none'\n",
    "    )"
   ]
  },
  {
   "cell_type": "code",
   "execution_count": 11,
   "metadata": {
    "collapsed": false
   },
   "outputs": [
    {
     "name": "stdout",
     "output_type": "stream",
     "text": [
      "555.81067696\n",
      "41.9253513333\n"
     ]
    }
   ],
   "source": [
    "thermo1 = database.thermo.estimateThermoViaGroupAdditivity(mol1)\n",
    "print thermo1.getEnthalpy(300) / 1000\n",
    "print thermo1.getEntropy(300)"
   ]
  },
  {
   "cell_type": "code",
   "execution_count": 12,
   "metadata": {
    "collapsed": false
   },
   "outputs": [
    {
     "name": "stdout",
     "output_type": "stream",
     "text": [
      "463.477887142\n",
      "112.119490009\n"
     ]
    }
   ],
   "source": [
    "thermo2 = database.thermo.estimateThermoViaGroupAdditivity(mol2)\n",
    "print thermo2.getEnthalpy(300) / 1000\n",
    "print thermo2.getEntropy(300)"
   ]
  },
  {
   "cell_type": "code",
   "execution_count": 13,
   "metadata": {
    "collapsed": false
   },
   "outputs": [
    {
     "name": "stdout",
     "output_type": "stream",
     "text": [
      "306.58460795\n",
      "470.742114064\n"
     ]
    }
   ],
   "source": [
    "spec = Species()\n",
    "spec.molecule = [mol1]\n",
    "spec.generateResonanceIsomers()\n",
    "thermo3 = database.thermo.getThermoData(spec)\n",
    "print thermo3.getEnthalpy(300) / 1000\n",
    "print thermo3.getEntropy(300)"
   ]
  },
  {
   "cell_type": "code",
   "execution_count": 14,
   "metadata": {
    "collapsed": false
   },
   "outputs": [
    {
     "name": "stdout",
     "output_type": "stream",
     "text": [
      "Thermo group additivity estimation: group(Cds-Cds(Cds-Cds)(Cds-Cds)) + other(R) + group(Cds-Cds(Cds-Cds)(Cds-Cds)) + other(R) + group(Cds-Cds(Cds-Cds)(Cds-Cds)) + other(R) + group(Cds-Cds(Cds-Cds)(Cds-Cds)) + other(R) + group(Cds-Cds(Cds-Cds)(Cds-Cds)) + other(R) + group(Cds-Cds(Cds-Cds)(Cds-Cds)) + other(R) + group(Cds-Cds(Cds-Cds)(Cds-Cds)) + other(R) + group(Cds-Cds(Cds-Cds)(Cds-Cds)) + other(R) + group(Cds-Cds(Cds-Cds)H) + other(R) + group(Cds-Cds(Cds-Cds)H) + other(R) + group(Cds-Cds(Cds-Cds)H) + other(R) + group(Cds-Cds(Cds-Cds)H) + other(R) + group(Cds-Cds(Cds-Cds)H) + other(R) + group(Cds-Cds(Cds-Cds)H) + other(R) + group(Cds-Cds(Cds-Cds)H) + other(R) + group(Cds-Cds(Cds-Cds)H) + other(R) + group(Cds-Cds(Cds-Cds)H) + other(R) + group(Cds-Cds(Cds-Cds)H) + other(R) + group(Cds-Cds(Cds-Cds)H) + other(R) + group(Cds-Cds(Cds-Cds)H) + other(R) + polycyclic(naphthalene)\n"
     ]
    }
   ],
   "source": [
    "print thermo1.comment"
   ]
  },
  {
   "cell_type": "code",
   "execution_count": 15,
   "metadata": {
    "collapsed": false
   },
   "outputs": [
    {
     "name": "stdout",
     "output_type": "stream",
     "text": [
      "Thermo group additivity estimation: group(Cb-(Cds-Cds)) + other(R) + group(Cb-(Cds-Cds)) + other(R) + group(Cb-(Cds-Cds)) + other(R) + group(Cds-CdsCbCb) + other(R) + group(Cb-(Cds-Cds)) + other(R) + group(Cds-CdsCbCb) + other(R) + group(Cb-(Cds-Cds)) + other(R) + group(Cb-(Cds-Cds)) + other(R) + group(Cds-CdsCbH) + other(R) + group(Cb-H) + other(R) + group(Cb-H) + other(R) + group(Cds-Cds(Cds-Cds)H) + other(R) + group(Cds-CdsCbH) + other(R) + group(Cb-H) + other(R) + group(Cb-H) + other(R) + group(Cds-Cds(Cds-Cds)H) + other(R) + group(Cds-Cds(Cds-Cds)H) + other(R) + group(Cb-H) + other(R) + group(Cds-Cds(Cds-Cds)H) + other(R) + group(Cb-H) + other(R) + polycyclic(PolycyclicRing)\n"
     ]
    }
   ],
   "source": [
    "print thermo2.comment"
   ]
  },
  {
   "cell_type": "code",
   "execution_count": 16,
   "metadata": {
    "collapsed": false
   },
   "outputs": [
    {
     "name": "stdout",
     "output_type": "stream",
     "text": [
      "Thermo library: PAHLibrary\n"
     ]
    }
   ],
   "source": [
    "print thermo3.comment"
   ]
  },
  {
   "cell_type": "code",
   "execution_count": 17,
   "metadata": {
    "collapsed": false
   },
   "outputs": [
    {
     "data": {
      "image/png": "[encoded data removed]",
      "text/plain": [
       "Molecule(SMILES=\"c1cc2cccc3c4cccc5cccc(c(c1)c23)c54\")"
      ]
     },
     "execution_count": 17,
     "metadata": {},
     "output_type": "execute_result"
    }
   ],
   "source": [
    "spec.molecule[1]"
   ]
  },
  {
   "cell_type": "code",
   "execution_count": 18,
   "metadata": {
    "collapsed": false
   },
   "outputs": [
    {
     "name": "stdout",
     "output_type": "stream",
     "text": [
      "280.836218765\n",
      "464.377215383\n"
     ]
    }
   ],
   "source": [
    "thermo4 = database.thermo.estimateThermoViaGroupAdditivity(spec.molecule[1])\n",
    "print thermo4.getEnthalpy(300) / 1000\n",
    "print thermo4.getEntropy(300)"
   ]
  },
  {
   "cell_type": "code",
   "execution_count": 19,
   "metadata": {
    "collapsed": false
   },
   "outputs": [
    {
     "name": "stdout",
     "output_type": "stream",
     "text": [
      "Thermo group additivity estimation: group(Cbf-CbfCbfCbf) + other(R) + group(Cbf-CbfCbfCbf) + other(R) + group(Cbf-CbCbfCbf) + other(R) + group(Cbf-CbCbfCbf) + other(R) + group(Cbf-CbCbfCbf) + other(R) + group(Cbf-CbCbfCbf) + other(R) + group(Cbf-CbCbCbf) + other(R) + group(Cbf-CbCbCbf) + other(R) + group(Cb-H) + other(R) + group(Cb-H) + other(R) + group(Cb-H) + other(R) + group(Cb-H) + other(R) + group(Cb-H) + other(R) + group(Cb-H) + other(R) + group(Cb-H) + other(R) + group(Cb-H) + other(R) + group(Cb-H) + other(R) + group(Cb-H) + other(R) + group(Cb-H) + other(R) + group(Cb-H) + other(R) + polycyclic(PolycyclicRing)\n"
     ]
    }
   ],
   "source": [
    "print thermo4.comment"
   ]
  },
  {
   "cell_type": "code",
   "execution_count": null,
   "metadata": {
    "collapsed": true
   },
   "outputs": [],
   "source": []
  }
 ],
 "metadata": {
  "kernelspec": {
   "display_name": "Python 2",
   "language": "python",
   "name": "python2"
  },
  "language_info": {
   "codemirror_mode": {
    "name": "ipython",
    "version": 2
   },
   "file_extension": ".py",
   "mimetype": "text/x-python",
   "name": "python",
   "nbconvert_exporter": "python",
   "pygments_lexer": "ipython2",
   "version": "2.7.12"
  }
 },
 "nbformat": 4,
 "nbformat_minor": 0
}
