{
 "cells": [
  {
   "cell_type": "code",
   "execution_count": null,
   "metadata": {
    "collapsed": false
   },
   "outputs": [],
   "source": [
    "from rmgpy.molecule import Molecule\n",
    "from rmgpy.molecule.group import Group\n",
    "\n",
    "import pdb\n",
    "from IPython.display import display"
   ]
  },
  {
   "cell_type": "code",
   "execution_count": null,
   "metadata": {
    "collapsed": false
   },
   "outputs": [],
   "source": [
    "m = Molecule(SMILES='C12C3C4C1C5C4C6C5C2C36')\n",
    "m.getSmallestSetOfSmallestRings()"
   ]
  },
  {
   "cell_type": "code",
   "execution_count": null,
   "metadata": {
    "collapsed": false
   },
   "outputs": [],
   "source": [
    "for i in range(10000):\n",
    "    out = m.getSmallestSetOfSmallestRings()\n",
    "    sizes = [len(ring) for ring in out]\n",
    "    if sum(sizes) != 25:\n",
    "        raise Exception('Test Failed')"
   ]
  },
  {
   "cell_type": "code",
   "execution_count": null,
   "metadata": {
    "collapsed": true
   },
   "outputs": [],
   "source": []
  },
  {
   "cell_type": "code",
   "execution_count": null,
   "metadata": {
    "collapsed": false
   },
   "outputs": [],
   "source": [
    "n = Molecule(SMILES='C12CCC1C3CC2CC3')\n",
    "display(n)\n",
    "n.getSmallestSetOfSmallestRings()"
   ]
  },
  {
   "cell_type": "code",
   "execution_count": null,
   "metadata": {
    "collapsed": false
   },
   "outputs": [],
   "source": [
    "getSSSR(n)"
   ]
  },
  {
   "cell_type": "code",
   "execution_count": null,
   "metadata": {
    "collapsed": false
   },
   "outputs": [],
   "source": [
    "o = Molecule(SMILES='C1C2C3C4CC(C5C4C4CCC5CC4)C3C(C2)C1')\n",
    "display(o)\n",
    "o.getSmallestSetOfSmallestRings()"
   ]
  },
  {
   "cell_type": "code",
   "execution_count": null,
   "metadata": {
    "collapsed": false
   },
   "outputs": [],
   "source": [
    "getSSSR(o)"
   ]
  },
  {
   "cell_type": "code",
   "execution_count": null,
   "metadata": {
    "collapsed": false
   },
   "outputs": [],
   "source": [
    "a = Group().fromAdjacencyList(\"\"\"\n",
    "1 *1 C u0 p0 c0 {2,S} {4,S} {6,S}\n",
    "2 *2 C u0 p0 c0 {1,S} {3,S} {7,S}\n",
    "3 *3 C u0 p0 c0 {2,S} {4,S} {8,S}\n",
    "4 *4 C u0 p0 c0 {1,S} {3,S} {5,S}\n",
    "5 *5 C u0 p0 c0 {4,S} {6,S} {8,S}\n",
    "6 *6 C u0 p0 c0 {1,S} {5,S} {7,S}\n",
    "7 *7 C u0 p0 c0 {2,S} {6,S} {8,S}\n",
    "8 *8 C u0 p0 c0 {3,S} {5,S} {7,S}\n",
    "\"\"\")\n",
    "display(a)"
   ]
  },
  {
   "cell_type": "code",
   "execution_count": null,
   "metadata": {
    "collapsed": false
   },
   "outputs": [],
   "source": [
    "a.getSmallestSetOfSmallestRings()"
   ]
  },
  {
   "cell_type": "code",
   "execution_count": null,
   "metadata": {
    "collapsed": false
   },
   "outputs": [],
   "source": [
    "a.getSSSR()"
   ]
  },
  {
   "cell_type": "code",
   "execution_count": null,
   "metadata": {
    "collapsed": false
   },
   "outputs": [],
   "source": [
    "b = Group().fromAdjacencyList(\"\"\"\n",
    "1 *1 C u0 p0 c0 {2,S} {5,S}\n",
    "2 *2 C u0 p0 c0 {1,S} {3,S}\n",
    "3 *3 C u0 p0 c0 {2,S} {4,S}\n",
    "4 *4 C u0 p0 c0 {3,S} {5,S}\n",
    "5 *5 C u0 p0 c0 {1,S} {4,S}\n",
    "\"\"\")\n",
    "display(b)"
   ]
  },
  {
   "cell_type": "code",
   "execution_count": null,
   "metadata": {
    "collapsed": false
   },
   "outputs": [],
   "source": [
    "b.getSmallestCycle(b.vertices[0])"
   ]
  },
  {
   "cell_type": "code",
   "execution_count": null,
   "metadata": {
    "collapsed": false
   },
   "outputs": [],
   "source": [
    "b.getSSSR()"
   ]
  },
  {
   "cell_type": "code",
   "execution_count": null,
   "metadata": {
    "collapsed": true
   },
   "outputs": [],
   "source": [
    "def getSmallestCycle(self, rootVertex):\n",
    "    # Initialize queue\n",
    "    queue = [(neighbor, rootVertex) for neighbor in rootVertex.edges.iterkeys()]\n",
    "    # Initialize paths dictionary\n",
    "    paths = {}\n",
    "    for neighbor, source in queue:\n",
    "        paths[neighbor] = set([neighbor, source])\n",
    "    \n",
    "    # Begin loop\n",
    "    while queue and len(paths) < len(self.vertices):\n",
    "        frontVertex, source = queue.pop(0)\n",
    "        for neighbor in frontVertex.edges.iterkeys():\n",
    "            if neighbor is not source:\n",
    "                if neighbor not in paths:\n",
    "                    paths[neighbor] = paths[frontVertex].copy()\n",
    "                    paths[neighbor].add(neighbor)\n",
    "                    queue.append((neighbor, frontVertex))\n",
    "                elif len(paths[frontVertex] & paths[neighbor]) == 1:\n",
    "                    return frozenset(paths[frontVertex] | paths[neighbor])\n",
    "                \n",
    "    return None"
   ]
  },
  {
   "cell_type": "code",
   "execution_count": null,
   "metadata": {
    "collapsed": true
   },
   "outputs": [],
   "source": []
  },
  {
   "cell_type": "code",
   "execution_count": null,
   "metadata": {
    "collapsed": true
   },
   "outputs": [],
   "source": []
  },
  {
   "cell_type": "code",
   "execution_count": null,
   "metadata": {
    "collapsed": false
   },
   "outputs": [],
   "source": [
    "def getSSSR(self):\n",
    "    # Make a copy of the graph so we don't modify the original\n",
    "    graph = self.copy(deep=True)\n",
    "    vertices = graph.vertices[:]\n",
    "    cycleList = []\n",
    "\n",
    "    counter = 0\n",
    "    while len(graph.vertices) > 0:\n",
    "        graph.updateConnectivityValues()\n",
    "        minDegree = min([vertex.connectivity1 for vertex in graph.vertices])\n",
    "        \n",
    "        if minDegree == 0:\n",
    "            # Remove unconnected vertices\n",
    "            done = False\n",
    "            while not done:\n",
    "                verticesToRemove = []\n",
    "                for vertex in graph.vertices:\n",
    "                    if vertex.connectivity1 == 0: verticesToRemove.append(vertex)\n",
    "                done = len(verticesToRemove) == 0\n",
    "                # Remove identified vertices from graph\n",
    "                for vertex in verticesToRemove:\n",
    "                    graph.removeVertex(vertex)\n",
    "        if minDegree == 1:\n",
    "            # Remove all terminal vertices\n",
    "            done = False\n",
    "            while not done:\n",
    "                verticesToRemove = []\n",
    "                for vertex in graph.vertices:\n",
    "                    if vertex.connectivity1 == 1: verticesToRemove.append(vertex)\n",
    "                done = len(verticesToRemove) == 0\n",
    "                # Remove identified vertices from graph\n",
    "                for vertex in verticesToRemove:\n",
    "                    graph.removeVertex(vertex)\n",
    "        elif minDegree == 2:\n",
    "            # Identify all N2 vertices\n",
    "            N2 = [vertex for vertex in graph.vertices if vertex.connectivity1 == 2]\n",
    "\n",
    "            for vertex in N2:\n",
    "                # Get all cycles involving the root vertex\n",
    "                cycles = graph.getAllCycles(vertex)\n",
    "                if len(cycles) > 0:\n",
    "                    # Keep the smallest of the cycles found\n",
    "                    cycle = cycles[0]\n",
    "                    for c in cycles[1:]:\n",
    "                        if len(c) < len(cycle):\n",
    "                            cycle = c\n",
    "                    cycleList.append(cycle)\n",
    "\n",
    "            # Remove all N2 vertices\n",
    "            for vertex in N2:\n",
    "                graph.removeVertex(vertex)\n",
    "        elif minDegree == 3:\n",
    "            # Get any N3 vertex\n",
    "            for vertex in graph.vertices:\n",
    "                if vertex.connectivity1 == 3:\n",
    "                    N3 = vertex\n",
    "                    break\n",
    "            # Get all cycles involving the root vertex\n",
    "            cycles = graph.getAllCycles(N3)\n",
    "            if len(cycles) > 0:\n",
    "                # Keep the smallest of the cycles found\n",
    "                cycle = cycles[0]\n",
    "                for c in cycles[1:]:\n",
    "                    if len(c) < len(cycle):\n",
    "                        cycle = c\n",
    "                cycleList.append(cycle)\n",
    "            # Remove one of the bonds from the cycle\n",
    "            for vertex, edge in N3.edges.iteritems():\n",
    "                if vertex in cycle:\n",
    "                    graph.removeEdge(edge)\n",
    "                    break\n",
    "        \n",
    "        counter += 1\n",
    "        if counter == 100:\n",
    "            pdb.set_trace()\n",
    "    \n",
    "    # Remove duplicate cycles\n",
    "    cycleSet = set([frozenset(cycle) for cycle in cycleList])\n",
    "    # Convert back to lists\n",
    "    cycleList = [list(cycle) for cycle in cycleSet]\n",
    "    \n",
    "    # Map atoms in cycles back to atoms in original graph\n",
    "    for i in range(len(cycleList)):\n",
    "        cycleList[i] = [self.vertices[vertices.index(v)] for v in cycleList[i]]\n",
    "\n",
    "    return cycleList"
   ]
  },
  {
   "cell_type": "code",
   "execution_count": null,
   "metadata": {
    "collapsed": true
   },
   "outputs": [],
   "source": []
  }
 ],
 "metadata": {
  "anaconda-cloud": {},
  "kernelspec": {
   "display_name": "Python [conda env:rmg_env]",
   "language": "python",
   "name": "conda-env-rmg_env-py"
  },
  "language_info": {
   "codemirror_mode": {
    "name": "ipython",
    "version": 2
   },
   "file_extension": ".py",
   "mimetype": "text/x-python",
   "name": "python",
   "nbconvert_exporter": "python",
   "pygments_lexer": "ipython2",
   "version": "2.7.12"
  }
 },
 "nbformat": 4,
 "nbformat_minor": 1
}
