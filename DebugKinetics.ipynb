{
 "cells": [
  {
   "cell_type": "code",
   "execution_count": 1,
   "metadata": {
    "collapsed": false
   },
   "outputs": [],
   "source": [
    "import rmgpy\n",
    "from rmgpy.data.rmg import RMGDatabase\n",
    "from rmgpy.reaction import Reaction\n",
    "from rmgpy.molecule.molecule import Molecule"
   ]
  },
  {
   "cell_type": "code",
   "execution_count": 2,
   "metadata": {
    "collapsed": false
   },
   "outputs": [],
   "source": [
    "databasePath = rmgpy.settings['database.directory']\n",
    "\n",
    "database = RMGDatabase()\n",
    "database.load(\n",
    "    path = databasePath,\n",
    "    thermoLibraries = [],\n",
    "    reactionLibraries = [],\n",
    "    seedMechanisms = [],\n",
    "    kineticsFamilies = ['SubstitutionS'],\n",
    "    )"
   ]
  },
  {
   "cell_type": "code",
   "execution_count": 3,
   "metadata": {
    "collapsed": false
   },
   "outputs": [],
   "source": [
    "reactants = [\n",
    "    Molecule().fromAdjacencyList(\"\"\"1  *3 C u0 p0 c0 {3,S} {15,S} {16,S} {17,S}\n",
    "2     C u0 p0 c0 {4,S} {15,S} {18,S} {19,S}\n",
    "3     C u0 p0 c0 {1,S} {5,B} {6,B}\n",
    "4     C u0 p0 c0 {2,S} {7,B} {8,B}\n",
    "5     C u0 p0 c0 {3,B} {9,B} {20,S}\n",
    "6     C u0 p0 c0 {3,B} {10,B} {21,S}\n",
    "7     C u0 p0 c0 {4,B} {12,B} {25,S}\n",
    "8     C u0 p0 c0 {4,B} {13,B} {26,S}\n",
    "9     C u0 p0 c0 {5,B} {11,B} {22,S}\n",
    "10    C u0 p0 c0 {6,B} {11,B} {23,S}\n",
    "11    C u0 p0 c0 {9,B} {10,B} {24,S}\n",
    "12    C u0 p0 c0 {7,B} {14,B} {27,S}\n",
    "13    C u0 p0 c0 {8,B} {14,B} {28,S}\n",
    "14    C u0 p0 c0 {12,B} {13,B} {29,S}\n",
    "15 *1 S u0 p2 c0 {1,S} {2,S}\n",
    "16    H u0 p0 c0 {1,S}\n",
    "17    H u0 p0 c0 {1,S}\n",
    "18    H u0 p0 c0 {2,S}\n",
    "19    H u0 p0 c0 {2,S}\n",
    "20    H u0 p0 c0 {5,S}\n",
    "21    H u0 p0 c0 {6,S}\n",
    "22    H u0 p0 c0 {9,S}\n",
    "23    H u0 p0 c0 {10,S}\n",
    "24    H u0 p0 c0 {11,S}\n",
    "25    H u0 p0 c0 {7,S}\n",
    "26    H u0 p0 c0 {8,S}\n",
    "27    H u0 p0 c0 {12,S}\n",
    "28    H u0 p0 c0 {13,S}\n",
    "29    H u0 p0 c0 {14,S}\n",
    "\"\"\"), \n",
    "    Molecule().fromAdjacencyList(\"\"\"multiplicity 2\n",
    "1     C u0 p0 c0 {2,S} {8,S} {9,S} {10,S}\n",
    "2     C u0 p0 c0 {1,S} {3,D} {4,S}\n",
    "3     C u0 p0 c0 {2,D} {5,S} {11,S}\n",
    "4     C u0 p0 c0 {2,S} {7,D} {15,S}\n",
    "5     C u0 p0 c0 {3,S} {6,D} {12,S}\n",
    "6     C u0 p0 c0 {5,D} {7,S} {13,S}\n",
    "7     C u0 p0 c0 {4,D} {6,S} {14,S}\n",
    "8     S u0 p2 c0 {1,S} {16,S}\n",
    "9     H u0 p0 c0 {1,S}\n",
    "10    H u0 p0 c0 {1,S}\n",
    "11    H u0 p0 c0 {3,S}\n",
    "12    H u0 p0 c0 {5,S}\n",
    "13    H u0 p0 c0 {6,S}\n",
    "14    H u0 p0 c0 {7,S}\n",
    "15    H u0 p0 c0 {4,S}\n",
    "16 *2 S u1 p2 c0 {8,S}\n",
    "\"\"\")]"
   ]
  },
  {
   "cell_type": "code",
   "execution_count": 4,
   "metadata": {
    "collapsed": false
   },
   "outputs": [
    {
     "name": "stderr",
     "output_type": "stream",
     "text": [
      "ERROR:root:Expecting one matching reverse reaction, not 2 in reaction family H_Abstraction for forward reaction <Molecule \"N(=C=[CH])N=[CH]\"> + <Molecule \"C=N[N]C#[C]\"> <=> <Molecule \"C=N[N]C#C\"> + <Molecule \"N(=C=[C])N=[CH]\">.\n",
      "\n"
     ]
    },
    {
     "name": "stdout",
     "output_type": "stream",
     "text": [
      "Found the following reverse reactions\n",
      "<Molecule \"C=N[N]C#C\"> + <Molecule \"N(=C=[C])N=[CH]\"> <=> <Molecule \"C=NN=C=[C]\"> + <Molecule \"[N](N=[CH])C#C\">\n",
      "Reactant\n",
      "multiplicity 2\n",
      "1 C u0 p0 c0 {2,D} {6,S} {7,S}\n",
      "2 N u0 p1 c0 {1,D} {3,S}\n",
      "3 N u1 p1 c0 {2,S} {4,S}\n",
      "4 C u0 p0 c0 {3,S} {5,T}\n",
      "5 C u0 p0 c0 {4,T} {8,S}\n",
      "6 H u0 p0 c0 {1,S}\n",
      "7 H u0 p0 c0 {1,S}\n",
      "8 H u0 p0 c0 {5,S}\n",
      "\n",
      "Reactant\n",
      "multiplicity 4\n",
      "1 N u0 p1 c0 {2,S} {3,D}\n",
      "2 N u0 p1 c0 {1,S} {4,D}\n",
      "3 C u0 p0 c0 {1,D} {5,D}\n",
      "4 C u1 p0 c0 {2,D} {6,S}\n",
      "5 C u2 p0 c0 {3,D}\n",
      "6 H u0 p0 c0 {4,S}\n",
      "\n",
      "Product\n",
      "multiplicity 3\n",
      "1 *1 C u0 p0 c0 {2,D} {5,S} {6,S}\n",
      "2    N u0 p1 c0 {1,D} {3,S}\n",
      "3    N u0 p1 c0 {2,S} {4,D}\n",
      "4    C u0 p0 c0 {3,D} {7,D}\n",
      "5    H u0 p0 c0 {1,S}\n",
      "6 *2 H u0 p0 c0 {1,S}\n",
      "7    C u2 p0 c0 {4,D}\n",
      "\n",
      "Product\n",
      "multiplicity 3\n",
      "1    N u1 p1 c0 {2,S} {3,S}\n",
      "2    N u0 p1 c0 {1,S} {4,D}\n",
      "3    C u0 p0 c0 {1,S} {5,T}\n",
      "4 *3 C u1 p0 c0 {2,D} {6,S}\n",
      "5    C u0 p0 c0 {3,T} {7,S}\n",
      "6    H u0 p0 c0 {4,S}\n",
      "7    H u0 p0 c0 {5,S}\n",
      "\n",
      "<Molecule \"C=N[N]C#C\"> + <Molecule \"N(=C=[C])N=[CH]\"> <=> <Molecule \"N(=C=[CH])N=[CH]\"> + <Molecule \"C=N[N]C#[C]\">\n",
      "Reactant\n",
      "multiplicity 2\n",
      "1 C u0 p0 c0 {2,D} {6,S} {7,S}\n",
      "2 N u0 p1 c0 {1,D} {3,S}\n",
      "3 N u1 p1 c0 {2,S} {4,S}\n",
      "4 C u0 p0 c0 {3,S} {5,T}\n",
      "5 C u0 p0 c0 {4,T} {8,S}\n",
      "6 H u0 p0 c0 {1,S}\n",
      "7 H u0 p0 c0 {1,S}\n",
      "8 H u0 p0 c0 {5,S}\n",
      "\n",
      "Reactant\n",
      "multiplicity 4\n",
      "1 N u0 p1 c0 {2,S} {3,D}\n",
      "2 N u0 p1 c0 {1,S} {4,D}\n",
      "3 C u0 p0 c0 {1,D} {5,D}\n",
      "4 C u1 p0 c0 {2,D} {6,S}\n",
      "5 C u2 p0 c0 {3,D}\n",
      "6 H u0 p0 c0 {4,S}\n",
      "\n",
      "Product\n",
      "multiplicity 3\n",
      "1    N u0 p1 c0 {2,S} {3,D}\n",
      "2    N u0 p1 c0 {1,S} {4,D}\n",
      "3    C u0 p0 c0 {1,D} {5,D}\n",
      "4    C u1 p0 c0 {2,D} {6,S}\n",
      "5 *1 C u1 p0 c0 {3,D} {7,S}\n",
      "6    H u0 p0 c0 {4,S}\n",
      "7 *2 H u0 p0 c0 {5,S}\n",
      "\n",
      "Product\n",
      "multiplicity 3\n",
      "1    C u0 p0 c0 {2,D} {5,S} {6,S}\n",
      "2    N u0 p1 c0 {1,D} {3,S}\n",
      "3    N u1 p1 c0 {2,S} {4,S}\n",
      "4    C u0 p0 c0 {3,S} {7,T}\n",
      "5    H u0 p0 c0 {1,S}\n",
      "6    H u0 p0 c0 {1,S}\n",
      "7 *3 C u1 p0 c0 {4,T}\n",
      "\n"
     ]
    }
   ],
   "source": [
    "rxns = database.kinetics.families['H_Abstraction'].generateReactions(reactants)"
   ]
  },
  {
   "cell_type": "code",
   "execution_count": 12,
   "metadata": {
    "collapsed": false
   },
   "outputs": [
    {
     "data": {
      "image/png": "[encoded data removed]",
      "text/plain": [
       "Reaction(reactants=[Molecule(SMILES=\"N(=C=[CH])N=[CH]\"), Molecule(SMILES=\"C=N[N]C#[C]\")], products=[Molecule(SMILES=\"C=C=NN=[CH]\"), Molecule(SMILES=\"[N](N=[CH])C#[C]\")], degeneracy=2, pairs=[[Molecule(SMILES=\"N(=C=[CH])N=[CH]\"), Molecule(SMILES=\"C=C=NN=[CH]\")], [Molecule(SMILES=\"C=N[N]C#[C]\"), Molecule(SMILES=\"[N](N=[CH])C#[C]\")]])"
      ]
     },
     "execution_count": 12,
     "metadata": {},
     "output_type": "execute_result"
    }
   ],
   "source": [
    "rxns[3]"
   ]
  },
  {
   "cell_type": "code",
   "execution_count": 4,
   "metadata": {
    "collapsed": false
   },
   "outputs": [],
   "source": [
    "out1 = reactants[0].generateResonanceIsomers()"
   ]
  },
  {
   "cell_type": "code",
   "execution_count": 12,
   "metadata": {
    "collapsed": false
   },
   "outputs": [
    {
     "data": {
      "image/png": "[encoded data removed]",
      "text/plain": [
       "Molecule(SMILES=\"C1=CC=C(C=C1)CSCC1C=CC=CC=1\")"
      ]
     },
     "execution_count": 12,
     "metadata": {},
     "output_type": "execute_result"
    }
   ],
   "source": [
    "out1[1]"
   ]
  },
  {
   "cell_type": "code",
   "execution_count": 7,
   "metadata": {
    "collapsed": true
   },
   "outputs": [],
   "source": [
    "out2 = reactants[1].generateResonanceIsomers()"
   ]
  },
  {
   "cell_type": "code",
   "execution_count": 9,
   "metadata": {
    "collapsed": false
   },
   "outputs": [
    {
     "data": {
      "image/png": "[encoded data removed]",
      "text/plain": [
       "Molecule(SMILES=\"[S]SCc1ccccc1\")"
      ]
     },
     "execution_count": 9,
     "metadata": {},
     "output_type": "execute_result"
    }
   ],
   "source": [
    "out2[1]"
   ]
  },
  {
   "cell_type": "code",
   "execution_count": 15,
   "metadata": {
    "collapsed": false
   },
   "outputs": [
    {
     "data": {
      "image/png": "[encoded data removed]",
      "text/plain": [
       "Molecule(SMILES=\"C=N[N]C#[C]\")"
      ]
     },
     "execution_count": 15,
     "metadata": {},
     "output_type": "execute_result"
    }
   ],
   "source": [
    "out2[0]"
   ]
  },
  {
   "cell_type": "code",
   "execution_count": 20,
   "metadata": {
    "collapsed": false
   },
   "outputs": [
    {
     "data": {
      "image/png": "[encoded data removed]",
      "text/plain": [
       "Molecule(SMILES=\"C=NN=C=[C]\")"
      ]
     },
     "execution_count": 20,
     "metadata": {},
     "output_type": "execute_result"
    }
   ],
   "source": [
    "out2[2]"
   ]
  },
  {
   "cell_type": "code",
   "execution_count": null,
   "metadata": {
    "collapsed": true
   },
   "outputs": [],
   "source": []
  },
  {
   "cell_type": "code",
   "execution_count": 35,
   "metadata": {
    "collapsed": false
   },
   "outputs": [],
   "source": [
    "reactants = [\n",
    "    Molecule().fromSMILES('C=[C]'), \n",
    "    Molecule().fromSMILES('C#C')]\n",
    "rxns = database.kinetics.families['H_Abstraction'].generateReactions(reactants)"
   ]
  },
  {
   "cell_type": "code",
   "execution_count": 36,
   "metadata": {
    "collapsed": false
   },
   "outputs": [
    {
     "data": {
      "text/plain": [
       "[Reaction(reactants=[Molecule(SMILES=\"[C]=C\"), Molecule(SMILES=\"C#C\")], products=[Molecule(SMILES=\"[CH]=C\"), Molecule(SMILES=\"[C]#C\")], degeneracy=2, pairs=[[Molecule(SMILES=\"[C]=C\"), Molecule(SMILES=\"[CH]=C\")], [Molecule(SMILES=\"C#C\"), Molecule(SMILES=\"[C]#C\")]])]"
      ]
     },
     "execution_count": 36,
     "metadata": {},
     "output_type": "execute_result"
    }
   ],
   "source": [
    "rxns"
   ]
  },
  {
   "cell_type": "code",
   "execution_count": 37,
   "metadata": {
    "collapsed": false
   },
   "outputs": [
    {
     "data": {
      "image/png": "[encoded data removed]",
      "text/plain": [
       "Reaction(reactants=[Molecule(SMILES=\"[C]=C\"), Molecule(SMILES=\"C#C\")], products=[Molecule(SMILES=\"[CH]=C\"), Molecule(SMILES=\"[C]#C\")], degeneracy=2, pairs=[[Molecule(SMILES=\"[C]=C\"), Molecule(SMILES=\"[CH]=C\")], [Molecule(SMILES=\"C#C\"), Molecule(SMILES=\"[C]#C\")]])"
      ]
     },
     "execution_count": 37,
     "metadata": {},
     "output_type": "execute_result"
    }
   ],
   "source": [
    "rxns[0]"
   ]
  },
  {
   "cell_type": "code",
   "execution_count": null,
   "metadata": {
    "collapsed": true
   },
   "outputs": [],
   "source": []
  }
 ],
 "metadata": {
  "anaconda-cloud": {},
  "kernelspec": {
   "display_name": "Python [conda env:rmg_env]",
   "language": "python",
   "name": "conda-env-rmg_env-py"
  },
  "language_info": {
   "codemirror_mode": {
    "name": "ipython",
    "version": 2
   },
   "file_extension": ".py",
   "mimetype": "text/x-python",
   "name": "python",
   "nbconvert_exporter": "python",
   "pygments_lexer": "ipython2",
   "version": "2.7.12"
  }
 },
 "nbformat": 4,
 "nbformat_minor": 1
}
