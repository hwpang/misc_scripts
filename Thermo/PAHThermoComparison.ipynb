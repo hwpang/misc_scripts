{
 "cells": [
  {
   "cell_type": "code",
   "execution_count": 3,
   "metadata": {
    "collapsed": false
   },
   "outputs": [],
   "source": [
    "import os.path\n",
    "import rmgpy\n",
    "from rmgpy.data.thermo import ThermoDatabase\n",
    "from rmgpy.chemkin import loadSpeciesDictionary\n",
    "#from rmgpy.molecule.resonance import generateAromaticResonanceStructures"
   ]
  },
  {
   "cell_type": "code",
   "execution_count": 4,
   "metadata": {
    "collapsed": true
   },
   "outputs": [],
   "source": [
    "temperature = 298"
   ]
  },
  {
   "cell_type": "code",
   "execution_count": 5,
   "metadata": {
    "collapsed": false
   },
   "outputs": [],
   "source": [
    "databasePath = os.path.join(rmgpy.settings['database.directory'], 'thermo')\n",
    "\n",
    "database = ThermoDatabase()\n",
    "database.load(\n",
    "    path = databasePath,\n",
    "    libraries = ['PAHLibrary'],\n",
    "    )"
   ]
  },
  {
   "cell_type": "code",
   "execution_count": 6,
   "metadata": {
    "collapsed": false
   },
   "outputs": [],
   "source": [
    "speciesList1 = loadSpeciesDictionary('/home/mjliu/Documents/PAHThermo/species_dictionary.txt')\n",
    "speciesList2 = loadSpeciesDictionary('/home/mjliu/Documents/PAHThermo/species_dictionary.txt')"
   ]
  },
  {
   "cell_type": "code",
   "execution_count": 7,
   "metadata": {
    "collapsed": false,
    "scrolled": true
   },
   "outputs": [],
   "source": [
    "for label, spec in speciesList1.iteritems():\n",
    "    #amol = generateAromaticResonanceIsomers(spec.molecule[0])\n",
    "    #spec.thermo = database1.estimateThermoViaGroupAdditivity(amol[0])\n",
    "    spec.thermo = database.getThermoDataFromGroups(spec)\n",
    "    spec.h = spec.thermo.getEnthalpy(temperature) / 4184\n",
    "    spec.s = spec.thermo.getEntropy(temperature) / 4.184"
   ]
  },
  {
   "cell_type": "code",
   "execution_count": 8,
   "metadata": {
    "collapsed": false
   },
   "outputs": [],
   "source": [
    "for label, spec in speciesList2.iteritems():\n",
    "    spec.thermo = database.getThermoData(spec)\n",
    "    spec.h = spec.thermo.getEnthalpy(temperature) / 4184\n",
    "    spec.s = spec.thermo.getEntropy(temperature) / 4.184"
   ]
  },
  {
   "cell_type": "code",
   "execution_count": 25,
   "metadata": {
    "collapsed": false
   },
   "outputs": [
    {
     "data": {
      "text/plain": [
       "ThermoData(Tdata=([300,400,500,600,800,1000,1500],'K'), Cpdata=([263.425,346.1,414.718,470.616,552.623,613.04,696.05],'J/(mol*K)'), H298=(307.942,'kJ/mol'), S298=(336.739,'J/(mol*K)'), Cp0=(33.2579,'J/(mol*K)'), CpInf=(781.56,'J/(mol*K)'), comment=\"\"\"Thermo group additivity estimation: group(Cbf-CbCbCbf) + other(R) + group(Cbf-CbCbCbf) + other(R) + group(Cbf-CbCbfCbf) + other(R) + group(Cbf-CbCbfCbf) + other(R) + group(Cbf-CbCbfCbf) + other(R) + group(Cbf-CbCbfCbf) + other(R) + group(Cbf-CbCbCbf) + other(R) + group(Cbf-CbCbCbf) + other(R) + group(Cb-H) + other(R) + group(Cb-H) + other(R) + group(Cb-H) + other(R) + group(Cb-H) + other(R) + group(Cb-H) + other(R) + group(Cb-H) + other(R) + group(Cb-H) + other(R) + group(Cb-H) + other(R) + group(Cb-H) + other(R) + group(Cb-H) + other(R) + group(Cb-H) + other(R) + group(Cb-H) + other(R) + polycyclic(s2_6_6_naphthalene) + polycyclic(s2_6_6_naphthalene) + polycyclic(s2_6_6_naphthalene) + polycyclic(s2_6_6_naphthalene) + polycyclic(s2_6_6_naphthalene) + polycyclic(s2_6_6_naphthalene) - ring(Benzene) - ring(Benzene) - ring(Benzene) - ring(Benzene) - ring(Benzene) - ring(Benzene) - ring(Benzene)\"\"\")"
      ]
     },
     "execution_count": 25,
     "metadata": {},
     "output_type": "execute_result"
    }
   ],
   "source": [
    "speciesList1['A5'].thermo"
   ]
  },
  {
   "cell_type": "code",
   "execution_count": 9,
   "metadata": {
    "collapsed": true
   },
   "outputs": [],
   "source": [
    "labels = []\n",
    "gavEnthalpy = []\n",
    "gavEntropy = []\n",
    "calcEnthalpy = []\n",
    "calcEntropy = []\n",
    "\n",
    "for label in speciesList1.keys():\n",
    "    labels.append(label)\n",
    "    \n",
    "    gavEnthalpy.append(speciesList1[label].h)\n",
    "    gavEntropy.append(speciesList1[label].s)\n",
    "\n",
    "    calcEnthalpy.append(speciesList2[label].h)\n",
    "    calcEntropy.append(speciesList2[label].s)"
   ]
  },
  {
   "cell_type": "code",
   "execution_count": 10,
   "metadata": {
    "collapsed": false
   },
   "outputs": [
    {
     "data": {
      "text/html": [
       "\n",
       "    <div class=\"bk-root\">\n",
       "        <a href=\"http://bokeh.pydata.org\" target=\"_blank\" class=\"bk-logo bk-logo-small bk-logo-notebook\"></a>\n",
       "        <span id=\"3f3c2f25-b4f0-40d5-8005-b0eb9e7799ac\">Loading BokehJS ...</span>\n",
       "    </div>"
      ]
     },
     "metadata": {},
     "output_type": "display_data"
    },
    {
     "data": {
      "application/javascript": [
       "\n",
       "(function(global) {\n",
       "  function now() {\n",
       "    return new Date();\n",
       "  }\n",
       "\n",
       "  var force = true;\n",
       "\n",
       "  if (typeof (window._bokeh_onload_callbacks) === \"undefined\" || force === true) {\n",
       "    window._bokeh_onload_callbacks = [];\n",
       "    window._bokeh_is_loading = undefined;\n",
       "  }\n",
       "\n",
       "\n",
       "  \n",
       "  if (typeof (window._bokeh_timeout) === \"undefined\" || force === true) {\n",
       "    window._bokeh_timeout = Date.now() + 5000;\n",
       "    window._bokeh_failed_load = false;\n",
       "  }\n",
       "\n",
       "  var NB_LOAD_WARNING = {'data': {'text/html':\n",
       "     \"<div style='background-color: #fdd'>\\n\"+\n",
       "     \"<p>\\n\"+\n",
       "     \"BokehJS does not appear to have successfully loaded. If loading BokehJS from CDN, this \\n\"+\n",
       "     \"may be due to a slow or bad network connection. Possible fixes:\\n\"+\n",
       "     \"</p>\\n\"+\n",
       "     \"<ul>\\n\"+\n",
       "     \"<li>re-rerun `output_notebook()` to attempt to load from CDN again, or</li>\\n\"+\n",
       "     \"<li>use INLINE resources instead, as so:</li>\\n\"+\n",
       "     \"</ul>\\n\"+\n",
       "     \"<code>\\n\"+\n",
       "     \"from bokeh.resources import INLINE\\n\"+\n",
       "     \"output_notebook(resources=INLINE)\\n\"+\n",
       "     \"</code>\\n\"+\n",
       "     \"</div>\"}};\n",
       "\n",
       "  function display_loaded() {\n",
       "    if (window.Bokeh !== undefined) {\n",
       "      var el = document.getElementById(\"3f3c2f25-b4f0-40d5-8005-b0eb9e7799ac\");\n",
       "      el.textContent = \"BokehJS \" + Bokeh.version + \" successfully loaded.\";\n",
       "    } else if (Date.now() < window._bokeh_timeout) {\n",
       "      setTimeout(display_loaded, 100)\n",
       "    }\n",
       "  }\n",
       "\n",
       "  function run_callbacks() {\n",
       "    window._bokeh_onload_callbacks.forEach(function(callback) { callback() });\n",
       "    delete window._bokeh_onload_callbacks\n",
       "    console.info(\"Bokeh: all callbacks have finished\");\n",
       "  }\n",
       "\n",
       "  function load_libs(js_urls, callback) {\n",
       "    window._bokeh_onload_callbacks.push(callback);\n",
       "    if (window._bokeh_is_loading > 0) {\n",
       "      console.log(\"Bokeh: BokehJS is being loaded, scheduling callback at\", now());\n",
       "      return null;\n",
       "    }\n",
       "    if (js_urls == null || js_urls.length === 0) {\n",
       "      run_callbacks();\n",
       "      return null;\n",
       "    }\n",
       "    console.log(\"Bokeh: BokehJS not loaded, scheduling load and callback at\", now());\n",
       "    window._bokeh_is_loading = js_urls.length;\n",
       "    for (var i = 0; i < js_urls.length; i++) {\n",
       "      var url = js_urls[i];\n",
       "      var s = document.createElement('script');\n",
       "      s.src = url;\n",
       "      s.async = false;\n",
       "      s.onreadystatechange = s.onload = function() {\n",
       "        window._bokeh_is_loading--;\n",
       "        if (window._bokeh_is_loading === 0) {\n",
       "          console.log(\"Bokeh: all BokehJS libraries loaded\");\n",
       "          run_callbacks()\n",
       "        }\n",
       "      };\n",
       "      s.onerror = function() {\n",
       "        console.warn(\"failed to load library \" + url);\n",
       "      };\n",
       "      console.log(\"Bokeh: injecting script tag for BokehJS library: \", url);\n",
       "      document.getElementsByTagName(\"head\")[0].appendChild(s);\n",
       "    }\n",
       "  };var element = document.getElementById(\"3f3c2f25-b4f0-40d5-8005-b0eb9e7799ac\");\n",
       "  if (element == null) {\n",
       "    console.log(\"Bokeh: ERROR: autoload.js configured with elementid '3f3c2f25-b4f0-40d5-8005-b0eb9e7799ac' but no matching script tag was found. \")\n",
       "    return false;\n",
       "  }\n",
       "\n",
       "  var js_urls = [\"https://cdn.pydata.org/bokeh/release/bokeh-0.12.5.min.js\", \"https://cdn.pydata.org/bokeh/release/bokeh-widgets-0.12.5.min.js\"];\n",
       "\n",
       "  var inline_js = [\n",
       "    function(Bokeh) {\n",
       "      Bokeh.set_log_level(\"info\");\n",
       "    },\n",
       "    \n",
       "    function(Bokeh) {\n",
       "      \n",
       "    },\n",
       "    \n",
       "    function(Bokeh) {\n",
       "      \n",
       "      document.getElementById(\"3f3c2f25-b4f0-40d5-8005-b0eb9e7799ac\").textContent = \"BokehJS is loading...\";\n",
       "    },\n",
       "    function(Bokeh) {\n",
       "      console.log(\"Bokeh: injecting CSS: https://cdn.pydata.org/bokeh/release/bokeh-0.12.5.min.css\");\n",
       "      Bokeh.embed.inject_css(\"https://cdn.pydata.org/bokeh/release/bokeh-0.12.5.min.css\");\n",
       "      console.log(\"Bokeh: injecting CSS: https://cdn.pydata.org/bokeh/release/bokeh-widgets-0.12.5.min.css\");\n",
       "      Bokeh.embed.inject_css(\"https://cdn.pydata.org/bokeh/release/bokeh-widgets-0.12.5.min.css\");\n",
       "    }\n",
       "  ];\n",
       "\n",
       "  function run_inline_js() {\n",
       "    \n",
       "    if ((window.Bokeh !== undefined) || (force === true)) {\n",
       "      for (var i = 0; i < inline_js.length; i++) {\n",
       "        inline_js[i](window.Bokeh);\n",
       "      }if (force === true) {\n",
       "        display_loaded();\n",
       "      }} else if (Date.now() < window._bokeh_timeout) {\n",
       "      setTimeout(run_inline_js, 100);\n",
       "    } else if (!window._bokeh_failed_load) {\n",
       "      console.log(\"Bokeh: BokehJS failed to load within specified timeout.\");\n",
       "      window._bokeh_failed_load = true;\n",
       "    } else if (force !== true) {\n",
       "      var cell = $(document.getElementById(\"3f3c2f25-b4f0-40d5-8005-b0eb9e7799ac\")).parents('.cell').data().cell;\n",
       "      cell.output_area.append_execute_result(NB_LOAD_WARNING)\n",
       "    }\n",
       "\n",
       "  }\n",
       "\n",
       "  if (window._bokeh_is_loading === 0) {\n",
       "    console.log(\"Bokeh: BokehJS loaded, going straight to plotting\");\n",
       "    run_inline_js();\n",
       "  } else {\n",
       "    load_libs(js_urls, function() {\n",
       "      console.log(\"Bokeh: BokehJS plotting callback run at\", now());\n",
       "      run_inline_js();\n",
       "    });\n",
       "  }\n",
       "}(this));"
      ]
     },
     "metadata": {},
     "output_type": "display_data"
    }
   ],
   "source": [
    "%matplotlib inline\n",
    "import numpy as np\n",
    "import matplotlib.pyplot as plt\n",
    "\n",
    "from bokeh.plotting import figure, show\n",
    "from bokeh.io import output_notebook\n",
    "output_notebook()"
   ]
  },
  {
   "cell_type": "code",
   "execution_count": 11,
   "metadata": {
    "collapsed": false
   },
   "outputs": [
    {
     "data": {
      "text/html": [
       "\n",
       "\n",
       "    <div class=\"bk-root\">\n",
       "        <div class=\"bk-plotdiv\" id=\"08b1b232-7664-423e-b945-5b3f274b88a1\"></div>\n",
       "    </div>\n",
       "<script type=\"text/javascript\">\n",
       "  \n",
       "  (function(global) {\n",
       "    function now() {\n",
       "      return new Date();\n",
       "    }\n",
       "  \n",
       "    var force = false;\n",
       "  \n",
       "    if (typeof (window._bokeh_onload_callbacks) === \"undefined\" || force === true) {\n",
       "      window._bokeh_onload_callbacks = [];\n",
       "      window._bokeh_is_loading = undefined;\n",
       "    }\n",
       "  \n",
       "  \n",
       "    \n",
       "    if (typeof (window._bokeh_timeout) === \"undefined\" || force === true) {\n",
       "      window._bokeh_timeout = Date.now() + 0;\n",
       "      window._bokeh_failed_load = false;\n",
       "    }\n",
       "  \n",
       "    var NB_LOAD_WARNING = {'data': {'text/html':\n",
       "       \"<div style='background-color: #fdd'>\\n\"+\n",
       "       \"<p>\\n\"+\n",
       "       \"BokehJS does not appear to have successfully loaded. If loading BokehJS from CDN, this \\n\"+\n",
       "       \"may be due to a slow or bad network connection. Possible fixes:\\n\"+\n",
       "       \"</p>\\n\"+\n",
       "       \"<ul>\\n\"+\n",
       "       \"<li>re-rerun `output_notebook()` to attempt to load from CDN again, or</li>\\n\"+\n",
       "       \"<li>use INLINE resources instead, as so:</li>\\n\"+\n",
       "       \"</ul>\\n\"+\n",
       "       \"<code>\\n\"+\n",
       "       \"from bokeh.resources import INLINE\\n\"+\n",
       "       \"output_notebook(resources=INLINE)\\n\"+\n",
       "       \"</code>\\n\"+\n",
       "       \"</div>\"}};\n",
       "  \n",
       "    function display_loaded() {\n",
       "      if (window.Bokeh !== undefined) {\n",
       "        var el = document.getElementById(\"08b1b232-7664-423e-b945-5b3f274b88a1\");\n",
       "        el.textContent = \"BokehJS \" + Bokeh.version + \" successfully loaded.\";\n",
       "      } else if (Date.now() < window._bokeh_timeout) {\n",
       "        setTimeout(display_loaded, 100)\n",
       "      }\n",
       "    }\n",
       "  \n",
       "    function run_callbacks() {\n",
       "      window._bokeh_onload_callbacks.forEach(function(callback) { callback() });\n",
       "      delete window._bokeh_onload_callbacks\n",
       "      console.info(\"Bokeh: all callbacks have finished\");\n",
       "    }\n",
       "  \n",
       "    function load_libs(js_urls, callback) {\n",
       "      window._bokeh_onload_callbacks.push(callback);\n",
       "      if (window._bokeh_is_loading > 0) {\n",
       "        console.log(\"Bokeh: BokehJS is being loaded, scheduling callback at\", now());\n",
       "        return null;\n",
       "      }\n",
       "      if (js_urls == null || js_urls.length === 0) {\n",
       "        run_callbacks();\n",
       "        return null;\n",
       "      }\n",
       "      console.log(\"Bokeh: BokehJS not loaded, scheduling load and callback at\", now());\n",
       "      window._bokeh_is_loading = js_urls.length;\n",
       "      for (var i = 0; i < js_urls.length; i++) {\n",
       "        var url = js_urls[i];\n",
       "        var s = document.createElement('script');\n",
       "        s.src = url;\n",
       "        s.async = false;\n",
       "        s.onreadystatechange = s.onload = function() {\n",
       "          window._bokeh_is_loading--;\n",
       "          if (window._bokeh_is_loading === 0) {\n",
       "            console.log(\"Bokeh: all BokehJS libraries loaded\");\n",
       "            run_callbacks()\n",
       "          }\n",
       "        };\n",
       "        s.onerror = function() {\n",
       "          console.warn(\"failed to load library \" + url);\n",
       "        };\n",
       "        console.log(\"Bokeh: injecting script tag for BokehJS library: \", url);\n",
       "        document.getElementsByTagName(\"head\")[0].appendChild(s);\n",
       "      }\n",
       "    };var element = document.getElementById(\"08b1b232-7664-423e-b945-5b3f274b88a1\");\n",
       "    if (element == null) {\n",
       "      console.log(\"Bokeh: ERROR: autoload.js configured with elementid '08b1b232-7664-423e-b945-5b3f274b88a1' but no matching script tag was found. \")\n",
       "      return false;\n",
       "    }\n",
       "  \n",
       "    var js_urls = [];\n",
       "  \n",
       "    var inline_js = [\n",
       "      function(Bokeh) {\n",
       "        (function() {\n",
       "          var fn = function() {\n",
       "            var docs_json = {\"614566ec-97a9-4b19-bde5-79e0e0e96e1d\":{\"roots\":{\"references\":[{\"attributes\":{\"fill_alpha\":{\"value\":0.1},\"fill_color\":{\"value\":\"#1f77b4\"},\"line_alpha\":{\"value\":0.1},\"line_color\":{\"value\":\"#1f77b4\"},\"size\":{\"units\":\"screen\",\"value\":10},\"x\":{\"field\":\"x\"},\"y\":{\"field\":\"y\"}},\"id\":\"11f92134-c222-49fe-a138-61f7e9c9f132\",\"type\":\"Circle\"},{\"attributes\":{\"below\":[{\"id\":\"9a7f74d5-3d17-47ca-ad08-ca37f1d44b61\",\"type\":\"LinearAxis\"}],\"left\":[{\"id\":\"51edaee6-5798-4168-a628-b36ab250caa5\",\"type\":\"LinearAxis\"}],\"plot_height\":400,\"plot_width\":500,\"renderers\":[{\"id\":\"9a7f74d5-3d17-47ca-ad08-ca37f1d44b61\",\"type\":\"LinearAxis\"},{\"id\":\"68d154c3-b1d0-4893-a654-ead5332a28e5\",\"type\":\"Grid\"},{\"id\":\"51edaee6-5798-4168-a628-b36ab250caa5\",\"type\":\"LinearAxis\"},{\"id\":\"069fb130-b278-4b08-8267-8d5dbc7b1db8\",\"type\":\"Grid\"},{\"id\":\"35d8693c-b25c-432c-bf80-b5e86b06b8ee\",\"type\":\"BoxAnnotation\"},{\"id\":\"ee739772-13b5-4ebb-b713-d3b70c8b8f77\",\"type\":\"GlyphRenderer\"},{\"id\":\"e6750ef7-8c3f-4480-816e-ac5893d0064b\",\"type\":\"GlyphRenderer\"}],\"title\":{\"id\":\"28ff58ed-63a5-4af5-96c1-b0ca38505deb\",\"type\":\"Title\"},\"tool_events\":{\"id\":\"b5fca740-d717-4898-af95-2a0db3e77be5\",\"type\":\"ToolEvents\"},\"toolbar\":{\"id\":\"faf471ab-b39e-47d6-b7a6-5d8735155d06\",\"type\":\"Toolbar\"},\"x_range\":{\"id\":\"4340cf2d-1bfb-43d4-893c-493d83456d07\",\"type\":\"DataRange1d\"},\"y_range\":{\"id\":\"caec0c55-15fe-4b6a-9cb3-ee487c5d0c8c\",\"type\":\"DataRange1d\"}},\"id\":\"af4e29ae-f24b-44ab-bc81-33c5feea8e81\",\"subtype\":\"Figure\",\"type\":\"Plot\"},{\"attributes\":{\"plot\":{\"id\":\"af4e29ae-f24b-44ab-bc81-33c5feea8e81\",\"subtype\":\"Figure\",\"type\":\"Plot\"}},\"id\":\"9c7845fa-6597-4533-ada8-f3f043560090\",\"type\":\"HelpTool\"},{\"attributes\":{},\"id\":\"b5fca740-d717-4898-af95-2a0db3e77be5\",\"type\":\"ToolEvents\"},{\"attributes\":{\"line_color\":{\"value\":\"#636363\"},\"line_width\":{\"value\":2},\"x\":{\"field\":\"x\"},\"y\":{\"field\":\"y\"}},\"id\":\"3ec2295b-20ca-4a69-b7f8-eb694234234c\",\"type\":\"Line\"},{\"attributes\":{\"bottom_units\":\"screen\",\"fill_alpha\":{\"value\":0.5},\"fill_color\":{\"value\":\"lightgrey\"},\"left_units\":\"screen\",\"level\":\"overlay\",\"line_alpha\":{\"value\":1.0},\"line_color\":{\"value\":\"black\"},\"line_dash\":[4,4],\"line_width\":{\"value\":2},\"plot\":null,\"render_mode\":\"css\",\"right_units\":\"screen\",\"top_units\":\"screen\"},\"id\":\"35d8693c-b25c-432c-bf80-b5e86b06b8ee\",\"type\":\"BoxAnnotation\"},{\"attributes\":{\"line_alpha\":{\"value\":0.1},\"line_color\":{\"value\":\"#1f77b4\"},\"line_width\":{\"value\":2},\"x\":{\"field\":\"x\"},\"y\":{\"field\":\"y\"}},\"id\":\"bf50f5e4-2ae9-4942-a26f-c9ad682ca690\",\"type\":\"Line\"},{\"attributes\":{\"plot\":{\"id\":\"af4e29ae-f24b-44ab-bc81-33c5feea8e81\",\"subtype\":\"Figure\",\"type\":\"Plot\"}},\"id\":\"927504f9-46f4-49ba-a9e2-c5da79414761\",\"type\":\"WheelZoomTool\"},{\"attributes\":{\"callback\":null,\"column_names\":[\"y\",\"x\"],\"data\":{\"x\":[109.52000000000007,120.457,109.52000000000007,134.68699999999998,134.68699999999998,134.68699999999998,95.96000000000006,128.65000000000006,73.78999999999999,162.32,89.99000000000001,89.99000000000001,19.8,143.65700000000007,36.0,132.72000000000008,80.69699999999997,108.33000000000001,69.77000000000001,149.717,42.92000000000001,92.12700000000001,106.89700000000002,128.867,83.697,83.697,139.587,162.78700000000003,127.76700000000001,127.78,110.52699999999997,51.43000000000001,72.76000000000002,103.817,139.587,94.32699999999998,54.34,143.98000000000002,95.96000000000006,35.230000000000004,119.16000000000007,151.85000000000005,72.76000000000002,96.12700000000001],\"y\":[62.09956761677954,117.4624315591638,75.8518564701955,138.2108764069513,138.29486184222796,137.2089666654915,53.93635535483395,105.553771205909,73.27502198527962,168.96895783207304,88.59822861461569,88.95668302516906,19.79145808697274,141.08264580637515,32.235666312617795,73.15297881996568,81.18722546131274,114.83320898778635,78.00690215934398,136.92554482425203,43.493053971644684,87.01041576181538,127.46579205623667,141.51317654434277,102.2969069539319,102.60277100463634,158.2708152486454,182.2376545291214,129.2447272562973,127.63792029295091,116.63099635316013,52.29771776620027,48.08133795380026,109.10971601031694,157.5682087112986,94.0443592113613,61.65803292120574,142.67429544673237,72.83686972696283,35.10570269439633,79.91069634855276,129.0138458281188,54.99089904694907,98.21980306816344]}},\"id\":\"f3e9601b-1a05-404e-a95d-4cb849e705ad\",\"type\":\"ColumnDataSource\"},{\"attributes\":{\"plot\":{\"id\":\"af4e29ae-f24b-44ab-bc81-33c5feea8e81\",\"subtype\":\"Figure\",\"type\":\"Plot\"}},\"id\":\"ba66c904-2264-46f6-b511-1d4cf93e8c06\",\"type\":\"ResetTool\"},{\"attributes\":{\"data_source\":{\"id\":\"a22694b4-967b-4c04-a467-0644eba5cb84\",\"type\":\"ColumnDataSource\"},\"glyph\":{\"id\":\"3ec2295b-20ca-4a69-b7f8-eb694234234c\",\"type\":\"Line\"},\"hover_glyph\":null,\"muted_glyph\":null,\"nonselection_glyph\":{\"id\":\"bf50f5e4-2ae9-4942-a26f-c9ad682ca690\",\"type\":\"Line\"},\"selection_glyph\":null},\"id\":\"e6750ef7-8c3f-4480-816e-ac5893d0064b\",\"type\":\"GlyphRenderer\"},{\"attributes\":{\"data_source\":{\"id\":\"f3e9601b-1a05-404e-a95d-4cb849e705ad\",\"type\":\"ColumnDataSource\"},\"glyph\":{\"id\":\"ecf1639a-7966-4763-a86d-62a7580cfbcb\",\"type\":\"Circle\"},\"hover_glyph\":null,\"muted_glyph\":null,\"nonselection_glyph\":{\"id\":\"11f92134-c222-49fe-a138-61f7e9c9f132\",\"type\":\"Circle\"},\"selection_glyph\":null},\"id\":\"ee739772-13b5-4ebb-b713-d3b70c8b8f77\",\"type\":\"GlyphRenderer\"},{\"attributes\":{\"dimension\":1,\"plot\":{\"id\":\"af4e29ae-f24b-44ab-bc81-33c5feea8e81\",\"subtype\":\"Figure\",\"type\":\"Plot\"},\"ticker\":{\"id\":\"52ccb4fa-5a61-4699-9a0d-69dd1c0250cf\",\"type\":\"BasicTicker\"}},\"id\":\"069fb130-b278-4b08-8267-8d5dbc7b1db8\",\"type\":\"Grid\"},{\"attributes\":{},\"id\":\"52647448-e4ae-4115-8052-c1540f6920fa\",\"type\":\"BasicTickFormatter\"},{\"attributes\":{\"plot\":{\"id\":\"af4e29ae-f24b-44ab-bc81-33c5feea8e81\",\"subtype\":\"Figure\",\"type\":\"Plot\"}},\"id\":\"e05ee20d-c745-4a39-a72d-fe8017918fda\",\"type\":\"SaveTool\"},{\"attributes\":{\"plot\":null,\"text\":\"\"},\"id\":\"28ff58ed-63a5-4af5-96c1-b0ca38505deb\",\"type\":\"Title\"},{\"attributes\":{\"callback\":null,\"column_names\":[\"y\",\"x\"],\"data\":{\"x\":[0,200],\"y\":[0,200]}},\"id\":\"a22694b4-967b-4c04-a467-0644eba5cb84\",\"type\":\"ColumnDataSource\"},{\"attributes\":{},\"id\":\"52ccb4fa-5a61-4699-9a0d-69dd1c0250cf\",\"type\":\"BasicTicker\"},{\"attributes\":{\"axis_label\":\"H298 GAV (kcal/mol/K)\",\"axis_label_text_font_style\":\"normal\",\"formatter\":{\"id\":\"52647448-e4ae-4115-8052-c1540f6920fa\",\"type\":\"BasicTickFormatter\"},\"plot\":{\"id\":\"af4e29ae-f24b-44ab-bc81-33c5feea8e81\",\"subtype\":\"Figure\",\"type\":\"Plot\"},\"ticker\":{\"id\":\"f33216f3-d0fe-48d7-9205-bcb5f1a1929d\",\"type\":\"BasicTicker\"}},\"id\":\"9a7f74d5-3d17-47ca-ad08-ca37f1d44b61\",\"type\":\"LinearAxis\"},{\"attributes\":{},\"id\":\"42504528-bbd8-4436-9be7-58a20665c4f0\",\"type\":\"BasicTickFormatter\"},{\"attributes\":{\"axis_label\":\"H298 G3(MP2)//B3 (kcal/mol/K)\",\"axis_label_text_font_style\":\"normal\",\"formatter\":{\"id\":\"42504528-bbd8-4436-9be7-58a20665c4f0\",\"type\":\"BasicTickFormatter\"},\"plot\":{\"id\":\"af4e29ae-f24b-44ab-bc81-33c5feea8e81\",\"subtype\":\"Figure\",\"type\":\"Plot\"},\"ticker\":{\"id\":\"52ccb4fa-5a61-4699-9a0d-69dd1c0250cf\",\"type\":\"BasicTicker\"}},\"id\":\"51edaee6-5798-4168-a628-b36ab250caa5\",\"type\":\"LinearAxis\"},{\"attributes\":{\"plot\":{\"id\":\"af4e29ae-f24b-44ab-bc81-33c5feea8e81\",\"subtype\":\"Figure\",\"type\":\"Plot\"},\"ticker\":{\"id\":\"f33216f3-d0fe-48d7-9205-bcb5f1a1929d\",\"type\":\"BasicTicker\"}},\"id\":\"68d154c3-b1d0-4893-a654-ead5332a28e5\",\"type\":\"Grid\"},{\"attributes\":{\"fill_alpha\":{\"value\":0.5},\"fill_color\":{\"value\":\"green\"},\"line_alpha\":{\"value\":0.5},\"line_color\":{\"value\":\"green\"},\"size\":{\"units\":\"screen\",\"value\":10},\"x\":{\"field\":\"x\"},\"y\":{\"field\":\"y\"}},\"id\":\"ecf1639a-7966-4763-a86d-62a7580cfbcb\",\"type\":\"Circle\"},{\"attributes\":{\"overlay\":{\"id\":\"35d8693c-b25c-432c-bf80-b5e86b06b8ee\",\"type\":\"BoxAnnotation\"},\"plot\":{\"id\":\"af4e29ae-f24b-44ab-bc81-33c5feea8e81\",\"subtype\":\"Figure\",\"type\":\"Plot\"}},\"id\":\"4714e60e-c98d-4f05-a5a6-d85172db6934\",\"type\":\"BoxZoomTool\"},{\"attributes\":{},\"id\":\"f33216f3-d0fe-48d7-9205-bcb5f1a1929d\",\"type\":\"BasicTicker\"},{\"attributes\":{\"active_drag\":\"auto\",\"active_scroll\":\"auto\",\"active_tap\":\"auto\",\"tools\":[{\"id\":\"e4017339-bee8-458b-81a1-487e09370f97\",\"type\":\"PanTool\"},{\"id\":\"927504f9-46f4-49ba-a9e2-c5da79414761\",\"type\":\"WheelZoomTool\"},{\"id\":\"4714e60e-c98d-4f05-a5a6-d85172db6934\",\"type\":\"BoxZoomTool\"},{\"id\":\"e05ee20d-c745-4a39-a72d-fe8017918fda\",\"type\":\"SaveTool\"},{\"id\":\"ba66c904-2264-46f6-b511-1d4cf93e8c06\",\"type\":\"ResetTool\"},{\"id\":\"9c7845fa-6597-4533-ada8-f3f043560090\",\"type\":\"HelpTool\"}]},\"id\":\"faf471ab-b39e-47d6-b7a6-5d8735155d06\",\"type\":\"Toolbar\"},{\"attributes\":{\"callback\":null},\"id\":\"4340cf2d-1bfb-43d4-893c-493d83456d07\",\"type\":\"DataRange1d\"},{\"attributes\":{\"plot\":{\"id\":\"af4e29ae-f24b-44ab-bc81-33c5feea8e81\",\"subtype\":\"Figure\",\"type\":\"Plot\"}},\"id\":\"e4017339-bee8-458b-81a1-487e09370f97\",\"type\":\"PanTool\"},{\"attributes\":{\"callback\":null},\"id\":\"caec0c55-15fe-4b6a-9cb3-ee487c5d0c8c\",\"type\":\"DataRange1d\"}],\"root_ids\":[\"af4e29ae-f24b-44ab-bc81-33c5feea8e81\"]},\"title\":\"Bokeh Application\",\"version\":\"0.12.5\"}};\n",
       "            var render_items = [{\"docid\":\"614566ec-97a9-4b19-bde5-79e0e0e96e1d\",\"elementid\":\"08b1b232-7664-423e-b945-5b3f274b88a1\",\"modelid\":\"af4e29ae-f24b-44ab-bc81-33c5feea8e81\"}];\n",
       "            \n",
       "            Bokeh.embed.embed_items(docs_json, render_items);\n",
       "          };\n",
       "          if (document.readyState != \"loading\") fn();\n",
       "          else document.addEventListener(\"DOMContentLoaded\", fn);\n",
       "        })();\n",
       "      },\n",
       "      function(Bokeh) {\n",
       "      }\n",
       "    ];\n",
       "  \n",
       "    function run_inline_js() {\n",
       "      \n",
       "      if ((window.Bokeh !== undefined) || (force === true)) {\n",
       "        for (var i = 0; i < inline_js.length; i++) {\n",
       "          inline_js[i](window.Bokeh);\n",
       "        }if (force === true) {\n",
       "          display_loaded();\n",
       "        }} else if (Date.now() < window._bokeh_timeout) {\n",
       "        setTimeout(run_inline_js, 100);\n",
       "      } else if (!window._bokeh_failed_load) {\n",
       "        console.log(\"Bokeh: BokehJS failed to load within specified timeout.\");\n",
       "        window._bokeh_failed_load = true;\n",
       "      } else if (force !== true) {\n",
       "        var cell = $(document.getElementById(\"08b1b232-7664-423e-b945-5b3f274b88a1\")).parents('.cell').data().cell;\n",
       "        cell.output_area.append_execute_result(NB_LOAD_WARNING)\n",
       "      }\n",
       "  \n",
       "    }\n",
       "  \n",
       "    if (window._bokeh_is_loading === 0) {\n",
       "      console.log(\"Bokeh: BokehJS loaded, going straight to plotting\");\n",
       "      run_inline_js();\n",
       "    } else {\n",
       "      load_libs(js_urls, function() {\n",
       "        console.log(\"Bokeh: BokehJS plotting callback run at\", now());\n",
       "        run_inline_js();\n",
       "      });\n",
       "    }\n",
       "  }(this));\n",
       "</script>"
      ]
     },
     "metadata": {},
     "output_type": "display_data"
    }
   ],
   "source": [
    "p = figure(plot_width=500, plot_height=400)\n",
    "\n",
    "# add a square renderer with a size, color, and alpha\n",
    "p.circle(gavEnthalpy, calcEnthalpy, size=10, color=\"green\", alpha=0.5)\n",
    "\n",
    "x = np.array([0, 200])\n",
    "y = x\n",
    "p.line(x=x, y=y, line_width=2, color='#636363')\n",
    "#p.line(x=x, y=y+2, line_width=2,line_dash=\"dashed\", color='#bdbdbd')\n",
    "#p.line(x=x, y=y-2, line_width=2, line_dash=\"dashed\", color='#bdbdbd')\n",
    "\n",
    "p.xaxis.axis_label = \"H298 GAV (kcal/mol/K)\"\n",
    "p.yaxis.axis_label = \"H298 G3(MP2)//B3 (kcal/mol/K)\"\n",
    "p.xaxis.axis_label_text_font_style = \"normal\"\n",
    "p.yaxis.axis_label_text_font_style = \"normal\"\n",
    "\n",
    "show(p)"
   ]
  },
  {
   "cell_type": "code",
   "execution_count": 12,
   "metadata": {
    "collapsed": false
   },
   "outputs": [
    {
     "data": {
      "text/html": [
       "\n",
       "\n",
       "    <div class=\"bk-root\">\n",
       "        <div class=\"bk-plotdiv\" id=\"61670840-b3e1-4810-929b-4b2c6e7ae965\"></div>\n",
       "    </div>\n",
       "<script type=\"text/javascript\">\n",
       "  \n",
       "  (function(global) {\n",
       "    function now() {\n",
       "      return new Date();\n",
       "    }\n",
       "  \n",
       "    var force = false;\n",
       "  \n",
       "    if (typeof (window._bokeh_onload_callbacks) === \"undefined\" || force === true) {\n",
       "      window._bokeh_onload_callbacks = [];\n",
       "      window._bokeh_is_loading = undefined;\n",
       "    }\n",
       "  \n",
       "  \n",
       "    \n",
       "    if (typeof (window._bokeh_timeout) === \"undefined\" || force === true) {\n",
       "      window._bokeh_timeout = Date.now() + 0;\n",
       "      window._bokeh_failed_load = false;\n",
       "    }\n",
       "  \n",
       "    var NB_LOAD_WARNING = {'data': {'text/html':\n",
       "       \"<div style='background-color: #fdd'>\\n\"+\n",
       "       \"<p>\\n\"+\n",
       "       \"BokehJS does not appear to have successfully loaded. If loading BokehJS from CDN, this \\n\"+\n",
       "       \"may be due to a slow or bad network connection. Possible fixes:\\n\"+\n",
       "       \"</p>\\n\"+\n",
       "       \"<ul>\\n\"+\n",
       "       \"<li>re-rerun `output_notebook()` to attempt to load from CDN again, or</li>\\n\"+\n",
       "       \"<li>use INLINE resources instead, as so:</li>\\n\"+\n",
       "       \"</ul>\\n\"+\n",
       "       \"<code>\\n\"+\n",
       "       \"from bokeh.resources import INLINE\\n\"+\n",
       "       \"output_notebook(resources=INLINE)\\n\"+\n",
       "       \"</code>\\n\"+\n",
       "       \"</div>\"}};\n",
       "  \n",
       "    function display_loaded() {\n",
       "      if (window.Bokeh !== undefined) {\n",
       "        var el = document.getElementById(\"61670840-b3e1-4810-929b-4b2c6e7ae965\");\n",
       "        el.textContent = \"BokehJS \" + Bokeh.version + \" successfully loaded.\";\n",
       "      } else if (Date.now() < window._bokeh_timeout) {\n",
       "        setTimeout(display_loaded, 100)\n",
       "      }\n",
       "    }\n",
       "  \n",
       "    function run_callbacks() {\n",
       "      window._bokeh_onload_callbacks.forEach(function(callback) { callback() });\n",
       "      delete window._bokeh_onload_callbacks\n",
       "      console.info(\"Bokeh: all callbacks have finished\");\n",
       "    }\n",
       "  \n",
       "    function load_libs(js_urls, callback) {\n",
       "      window._bokeh_onload_callbacks.push(callback);\n",
       "      if (window._bokeh_is_loading > 0) {\n",
       "        console.log(\"Bokeh: BokehJS is being loaded, scheduling callback at\", now());\n",
       "        return null;\n",
       "      }\n",
       "      if (js_urls == null || js_urls.length === 0) {\n",
       "        run_callbacks();\n",
       "        return null;\n",
       "      }\n",
       "      console.log(\"Bokeh: BokehJS not loaded, scheduling load and callback at\", now());\n",
       "      window._bokeh_is_loading = js_urls.length;\n",
       "      for (var i = 0; i < js_urls.length; i++) {\n",
       "        var url = js_urls[i];\n",
       "        var s = document.createElement('script');\n",
       "        s.src = url;\n",
       "        s.async = false;\n",
       "        s.onreadystatechange = s.onload = function() {\n",
       "          window._bokeh_is_loading--;\n",
       "          if (window._bokeh_is_loading === 0) {\n",
       "            console.log(\"Bokeh: all BokehJS libraries loaded\");\n",
       "            run_callbacks()\n",
       "          }\n",
       "        };\n",
       "        s.onerror = function() {\n",
       "          console.warn(\"failed to load library \" + url);\n",
       "        };\n",
       "        console.log(\"Bokeh: injecting script tag for BokehJS library: \", url);\n",
       "        document.getElementsByTagName(\"head\")[0].appendChild(s);\n",
       "      }\n",
       "    };var element = document.getElementById(\"61670840-b3e1-4810-929b-4b2c6e7ae965\");\n",
       "    if (element == null) {\n",
       "      console.log(\"Bokeh: ERROR: autoload.js configured with elementid '61670840-b3e1-4810-929b-4b2c6e7ae965' but no matching script tag was found. \")\n",
       "      return false;\n",
       "    }\n",
       "  \n",
       "    var js_urls = [];\n",
       "  \n",
       "    var inline_js = [\n",
       "      function(Bokeh) {\n",
       "        (function() {\n",
       "          var fn = function() {\n",
       "            var docs_json = {\"7b159e13-9462-47ad-9937-361b6574f069\":{\"roots\":{\"references\":[{\"attributes\":{\"callback\":null,\"column_names\":[\"y\",\"x\"],\"data\":{\"x\":[0,140],\"y\":[0,140]}},\"id\":\"7e302e1f-8502-4bda-9518-7166639a7183\",\"type\":\"ColumnDataSource\"},{\"attributes\":{},\"id\":\"50f2b9ad-c67b-4e1c-96e3-b9538fd0e59e\",\"type\":\"ToolEvents\"},{\"attributes\":{\"plot\":{\"id\":\"38de74e1-3b7b-4b13-a4cf-5651dcdeac94\",\"subtype\":\"Figure\",\"type\":\"Plot\"}},\"id\":\"03604271-ab19-4991-84e7-5323dd95f2fd\",\"type\":\"PanTool\"},{\"attributes\":{\"plot\":null,\"text\":\"\"},\"id\":\"61c9c9a5-2209-46ff-91e5-5607f8f3b099\",\"type\":\"Title\"},{\"attributes\":{\"axis_label\":\"S298 GAV (cal/mol/K)\",\"axis_label_text_font_style\":\"normal\",\"formatter\":{\"id\":\"01fb7735-14bb-4bc1-9c30-11b3cea23e72\",\"type\":\"BasicTickFormatter\"},\"plot\":{\"id\":\"38de74e1-3b7b-4b13-a4cf-5651dcdeac94\",\"subtype\":\"Figure\",\"type\":\"Plot\"},\"ticker\":{\"id\":\"a7d60a37-cde3-423d-8d5f-b3782052a796\",\"type\":\"BasicTicker\"}},\"id\":\"0c0ba059-8f44-4dc9-8eeb-cdb4ac585b28\",\"type\":\"LinearAxis\"},{\"attributes\":{\"dimension\":1,\"plot\":{\"id\":\"38de74e1-3b7b-4b13-a4cf-5651dcdeac94\",\"subtype\":\"Figure\",\"type\":\"Plot\"},\"ticker\":{\"id\":\"34dfdc84-6fbb-4713-a6ab-7af2b3954be5\",\"type\":\"BasicTicker\"}},\"id\":\"3474799e-62df-483c-b810-31b437fd06ae\",\"type\":\"Grid\"},{\"attributes\":{\"below\":[{\"id\":\"0c0ba059-8f44-4dc9-8eeb-cdb4ac585b28\",\"type\":\"LinearAxis\"}],\"left\":[{\"id\":\"4fbd67e0-2706-461f-91db-618948735e52\",\"type\":\"LinearAxis\"}],\"plot_height\":400,\"plot_width\":500,\"renderers\":[{\"id\":\"0c0ba059-8f44-4dc9-8eeb-cdb4ac585b28\",\"type\":\"LinearAxis\"},{\"id\":\"b3cd774a-47ab-4351-993d-a1b1bf6808a8\",\"type\":\"Grid\"},{\"id\":\"4fbd67e0-2706-461f-91db-618948735e52\",\"type\":\"LinearAxis\"},{\"id\":\"3474799e-62df-483c-b810-31b437fd06ae\",\"type\":\"Grid\"},{\"id\":\"cb8460d5-25f7-4aa7-9609-c57122006674\",\"type\":\"BoxAnnotation\"},{\"id\":\"b5abf87d-3bde-4439-bcaf-a8db0b251035\",\"type\":\"GlyphRenderer\"},{\"id\":\"4bac2c81-d272-4c93-a8a4-a7264554c0ec\",\"type\":\"GlyphRenderer\"}],\"title\":{\"id\":\"61c9c9a5-2209-46ff-91e5-5607f8f3b099\",\"type\":\"Title\"},\"tool_events\":{\"id\":\"50f2b9ad-c67b-4e1c-96e3-b9538fd0e59e\",\"type\":\"ToolEvents\"},\"toolbar\":{\"id\":\"f9b0aeba-ad76-4260-b8a3-b181c624475e\",\"type\":\"Toolbar\"},\"x_range\":{\"id\":\"cc62cda4-be91-40d3-8fc3-f9d1d7cafdba\",\"type\":\"DataRange1d\"},\"y_range\":{\"id\":\"7c3dc296-70ed-445c-b2c1-ae1e2c47e8f7\",\"type\":\"DataRange1d\"}},\"id\":\"38de74e1-3b7b-4b13-a4cf-5651dcdeac94\",\"subtype\":\"Figure\",\"type\":\"Plot\"},{\"attributes\":{\"data_source\":{\"id\":\"7e302e1f-8502-4bda-9518-7166639a7183\",\"type\":\"ColumnDataSource\"},\"glyph\":{\"id\":\"fe679f88-ed6c-45fb-8fdd-b14b71235702\",\"type\":\"Line\"},\"hover_glyph\":null,\"muted_glyph\":null,\"nonselection_glyph\":{\"id\":\"2dad1a6c-1a4c-4121-991b-c3c69f674f2e\",\"type\":\"Line\"},\"selection_glyph\":null},\"id\":\"4bac2c81-d272-4c93-a8a4-a7264554c0ec\",\"type\":\"GlyphRenderer\"},{\"attributes\":{\"data_source\":{\"id\":\"dd6a633f-b957-4e23-9b07-ab0bc0bdd5be\",\"type\":\"ColumnDataSource\"},\"glyph\":{\"id\":\"a1b1e3ca-93d7-4180-8194-cd543b730f03\",\"type\":\"Circle\"},\"hover_glyph\":null,\"muted_glyph\":null,\"nonselection_glyph\":{\"id\":\"5631f454-3aa3-4b9e-823d-149420a53628\",\"type\":\"Circle\"},\"selection_glyph\":null},\"id\":\"b5abf87d-3bde-4439-bcaf-a8db0b251035\",\"type\":\"GlyphRenderer\"},{\"attributes\":{},\"id\":\"01fb7735-14bb-4bc1-9c30-11b3cea23e72\",\"type\":\"BasicTickFormatter\"},{\"attributes\":{\"callback\":null},\"id\":\"7c3dc296-70ed-445c-b2c1-ae1e2c47e8f7\",\"type\":\"DataRange1d\"},{\"attributes\":{\"bottom_units\":\"screen\",\"fill_alpha\":{\"value\":0.5},\"fill_color\":{\"value\":\"lightgrey\"},\"left_units\":\"screen\",\"level\":\"overlay\",\"line_alpha\":{\"value\":1.0},\"line_color\":{\"value\":\"black\"},\"line_dash\":[4,4],\"line_width\":{\"value\":2},\"plot\":null,\"render_mode\":\"css\",\"right_units\":\"screen\",\"top_units\":\"screen\"},\"id\":\"cb8460d5-25f7-4aa7-9609-c57122006674\",\"type\":\"BoxAnnotation\"},{\"attributes\":{\"fill_alpha\":{\"value\":0.1},\"fill_color\":{\"value\":\"#1f77b4\"},\"line_alpha\":{\"value\":0.1},\"line_color\":{\"value\":\"#1f77b4\"},\"size\":{\"units\":\"screen\",\"value\":10},\"x\":{\"field\":\"x\"},\"y\":{\"field\":\"y\"}},\"id\":\"5631f454-3aa3-4b9e-823d-149420a53628\",\"type\":\"Circle\"},{\"attributes\":{\"plot\":{\"id\":\"38de74e1-3b7b-4b13-a4cf-5651dcdeac94\",\"subtype\":\"Figure\",\"type\":\"Plot\"}},\"id\":\"5667da7b-abde-440b-b470-8c21658ece45\",\"type\":\"ResetTool\"},{\"attributes\":{\"callback\":null},\"id\":\"cc62cda4-be91-40d3-8fc3-f9d1d7cafdba\",\"type\":\"DataRange1d\"},{\"attributes\":{\"callback\":null,\"column_names\":[\"y\",\"x\"],\"data\":{\"x\":[42.32999999999997,61.61999999999998,42.32999999999997,82.46000000000001,82.46000000000001,82.46000000000001,29.56999999999997,71.00999999999998,80.98,77.19000000000001,91.28999999999999,91.28999999999999,64.24197735127242,30.27999999999997,79.48999999999998,9.612573416671903,70.66,65.39,68.25,74.23999999999998,96.64257341667191,85.64999999999999,48.85999999999999,69.64,80.2,80.2,90.3,58.95999999999999,39.78000000000001,91.40257341667194,95.53999999999999,94.14999999999999,60.90999999999999,99.49999999999999,90.3,85.23,53.59,103.09,29.56999999999997,83.84,-1.7700000000000313,39.66999999999997,60.90999999999999,85.32],\"y\":[109.06880856065581,97.6326019774589,107.10018526248615,79.9755288527544,81.42340161287999,81.57786593155035,96.27469061595325,108.50373952677516,78.80876760487979,108.62513777473666,93.42264367422709,93.66762511447834,64.49892312916619,102.07040115023162,80.1186772601912,112.10036306379521,69.26289816949516,97.99405890138641,101.42512334567762,108.93498152170542,93.60478531224176,83.64442962140843,88.58036978663958,102.5395763281397,84.13031569204419,84.18710465700703,95.20811037876005,99.49335728906642,100.30475379856055,89.53492802072151,98.07068017966311,96.9846875953859,95.21585813694054,95.83275925692982,94.83974561042899,83.6668726832522,86.00545214190821,104.01850316059914,100.82421232834128,82.59981276019523,103.46935157018942,111.58328252242829,93.58946264985602,85.32946369845095]}},\"id\":\"dd6a633f-b957-4e23-9b07-ab0bc0bdd5be\",\"type\":\"ColumnDataSource\"},{\"attributes\":{\"line_alpha\":{\"value\":0.1},\"line_color\":{\"value\":\"#1f77b4\"},\"line_width\":{\"value\":2},\"x\":{\"field\":\"x\"},\"y\":{\"field\":\"y\"}},\"id\":\"2dad1a6c-1a4c-4121-991b-c3c69f674f2e\",\"type\":\"Line\"},{\"attributes\":{\"plot\":{\"id\":\"38de74e1-3b7b-4b13-a4cf-5651dcdeac94\",\"subtype\":\"Figure\",\"type\":\"Plot\"}},\"id\":\"925422e2-9cdd-4567-ba75-4a9b37e92ab8\",\"type\":\"SaveTool\"},{\"attributes\":{\"fill_alpha\":{\"value\":0.5},\"fill_color\":{\"value\":\"green\"},\"line_alpha\":{\"value\":0.5},\"line_color\":{\"value\":\"green\"},\"size\":{\"units\":\"screen\",\"value\":10},\"x\":{\"field\":\"x\"},\"y\":{\"field\":\"y\"}},\"id\":\"a1b1e3ca-93d7-4180-8194-cd543b730f03\",\"type\":\"Circle\"},{\"attributes\":{\"plot\":{\"id\":\"38de74e1-3b7b-4b13-a4cf-5651dcdeac94\",\"subtype\":\"Figure\",\"type\":\"Plot\"}},\"id\":\"1f16fa95-98a1-4e9e-b68c-61a72a09a58e\",\"type\":\"WheelZoomTool\"},{\"attributes\":{\"axis_label\":\"S298 G3(MP2)//B3 (cal/mol/K)\",\"axis_label_text_font_style\":\"normal\",\"formatter\":{\"id\":\"2d61b4df-648b-4b16-b510-96f09b2e2a8b\",\"type\":\"BasicTickFormatter\"},\"plot\":{\"id\":\"38de74e1-3b7b-4b13-a4cf-5651dcdeac94\",\"subtype\":\"Figure\",\"type\":\"Plot\"},\"ticker\":{\"id\":\"34dfdc84-6fbb-4713-a6ab-7af2b3954be5\",\"type\":\"BasicTicker\"}},\"id\":\"4fbd67e0-2706-461f-91db-618948735e52\",\"type\":\"LinearAxis\"},{\"attributes\":{},\"id\":\"2d61b4df-648b-4b16-b510-96f09b2e2a8b\",\"type\":\"BasicTickFormatter\"},{\"attributes\":{},\"id\":\"a7d60a37-cde3-423d-8d5f-b3782052a796\",\"type\":\"BasicTicker\"},{\"attributes\":{\"line_color\":{\"value\":\"#636363\"},\"line_width\":{\"value\":2},\"x\":{\"field\":\"x\"},\"y\":{\"field\":\"y\"}},\"id\":\"fe679f88-ed6c-45fb-8fdd-b14b71235702\",\"type\":\"Line\"},{\"attributes\":{\"overlay\":{\"id\":\"cb8460d5-25f7-4aa7-9609-c57122006674\",\"type\":\"BoxAnnotation\"},\"plot\":{\"id\":\"38de74e1-3b7b-4b13-a4cf-5651dcdeac94\",\"subtype\":\"Figure\",\"type\":\"Plot\"}},\"id\":\"8e4cb2a6-d712-444c-b615-210b2f97b50f\",\"type\":\"BoxZoomTool\"},{\"attributes\":{\"plot\":{\"id\":\"38de74e1-3b7b-4b13-a4cf-5651dcdeac94\",\"subtype\":\"Figure\",\"type\":\"Plot\"},\"ticker\":{\"id\":\"a7d60a37-cde3-423d-8d5f-b3782052a796\",\"type\":\"BasicTicker\"}},\"id\":\"b3cd774a-47ab-4351-993d-a1b1bf6808a8\",\"type\":\"Grid\"},{\"attributes\":{},\"id\":\"34dfdc84-6fbb-4713-a6ab-7af2b3954be5\",\"type\":\"BasicTicker\"},{\"attributes\":{\"plot\":{\"id\":\"38de74e1-3b7b-4b13-a4cf-5651dcdeac94\",\"subtype\":\"Figure\",\"type\":\"Plot\"}},\"id\":\"794fd90b-dc5d-40a0-8762-c4950a071d2e\",\"type\":\"HelpTool\"},{\"attributes\":{\"active_drag\":\"auto\",\"active_scroll\":\"auto\",\"active_tap\":\"auto\",\"tools\":[{\"id\":\"03604271-ab19-4991-84e7-5323dd95f2fd\",\"type\":\"PanTool\"},{\"id\":\"1f16fa95-98a1-4e9e-b68c-61a72a09a58e\",\"type\":\"WheelZoomTool\"},{\"id\":\"8e4cb2a6-d712-444c-b615-210b2f97b50f\",\"type\":\"BoxZoomTool\"},{\"id\":\"925422e2-9cdd-4567-ba75-4a9b37e92ab8\",\"type\":\"SaveTool\"},{\"id\":\"5667da7b-abde-440b-b470-8c21658ece45\",\"type\":\"ResetTool\"},{\"id\":\"794fd90b-dc5d-40a0-8762-c4950a071d2e\",\"type\":\"HelpTool\"}]},\"id\":\"f9b0aeba-ad76-4260-b8a3-b181c624475e\",\"type\":\"Toolbar\"}],\"root_ids\":[\"38de74e1-3b7b-4b13-a4cf-5651dcdeac94\"]},\"title\":\"Bokeh Application\",\"version\":\"0.12.5\"}};\n",
       "            var render_items = [{\"docid\":\"7b159e13-9462-47ad-9937-361b6574f069\",\"elementid\":\"61670840-b3e1-4810-929b-4b2c6e7ae965\",\"modelid\":\"38de74e1-3b7b-4b13-a4cf-5651dcdeac94\"}];\n",
       "            \n",
       "            Bokeh.embed.embed_items(docs_json, render_items);\n",
       "          };\n",
       "          if (document.readyState != \"loading\") fn();\n",
       "          else document.addEventListener(\"DOMContentLoaded\", fn);\n",
       "        })();\n",
       "      },\n",
       "      function(Bokeh) {\n",
       "      }\n",
       "    ];\n",
       "  \n",
       "    function run_inline_js() {\n",
       "      \n",
       "      if ((window.Bokeh !== undefined) || (force === true)) {\n",
       "        for (var i = 0; i < inline_js.length; i++) {\n",
       "          inline_js[i](window.Bokeh);\n",
       "        }if (force === true) {\n",
       "          display_loaded();\n",
       "        }} else if (Date.now() < window._bokeh_timeout) {\n",
       "        setTimeout(run_inline_js, 100);\n",
       "      } else if (!window._bokeh_failed_load) {\n",
       "        console.log(\"Bokeh: BokehJS failed to load within specified timeout.\");\n",
       "        window._bokeh_failed_load = true;\n",
       "      } else if (force !== true) {\n",
       "        var cell = $(document.getElementById(\"61670840-b3e1-4810-929b-4b2c6e7ae965\")).parents('.cell').data().cell;\n",
       "        cell.output_area.append_execute_result(NB_LOAD_WARNING)\n",
       "      }\n",
       "  \n",
       "    }\n",
       "  \n",
       "    if (window._bokeh_is_loading === 0) {\n",
       "      console.log(\"Bokeh: BokehJS loaded, going straight to plotting\");\n",
       "      run_inline_js();\n",
       "    } else {\n",
       "      load_libs(js_urls, function() {\n",
       "        console.log(\"Bokeh: BokehJS plotting callback run at\", now());\n",
       "        run_inline_js();\n",
       "      });\n",
       "    }\n",
       "  }(this));\n",
       "</script>"
      ]
     },
     "metadata": {},
     "output_type": "display_data"
    }
   ],
   "source": [
    "p = figure(plot_width=500, plot_height=400)\n",
    "\n",
    "# add a square renderer with a size, color, and alpha\n",
    "p.circle(gavEntropy, calcEntropy, size=10, color=\"green\", alpha=0.5)\n",
    "\n",
    "x = np.array([0, 140])\n",
    "y = x\n",
    "p.line(x=x, y=y, line_width=2, color='#636363')\n",
    "#p.line(x=x, y=y+2, line_width=2,line_dash=\"dashed\", color='#bdbdbd')\n",
    "#p.line(x=x, y=y-2, line_width=2, line_dash=\"dashed\", color='#bdbdbd')\n",
    "\n",
    "p.xaxis.axis_label = \"S298 GAV (cal/mol/K)\"\n",
    "p.yaxis.axis_label = \"S298 G3(MP2)//B3 (cal/mol/K)\"\n",
    "p.xaxis.axis_label_text_font_style = \"normal\"\n",
    "p.yaxis.axis_label_text_font_style = \"normal\"\n",
    "\n",
    "show(p)"
   ]
  },
  {
   "cell_type": "code",
   "execution_count": null,
   "metadata": {
    "collapsed": false
   },
   "outputs": [],
   "source": [
    "hDiff = np.subtract(calcEnthalpy,gavEnthalpy)\n",
    "plt.plot(np.sort(hDiff),'bo')\n",
    "plt.show()"
   ]
  },
  {
   "cell_type": "code",
   "execution_count": null,
   "metadata": {
    "collapsed": false
   },
   "outputs": [],
   "source": [
    "print np.mean(np.absolute(np.subtract(calcEnthalpy,gavEnthalpy)))\n",
    "print np.mean(np.absolute(np.subtract(calcEntropy,gavEntropy)))"
   ]
  },
  {
   "cell_type": "code",
   "execution_count": 12,
   "metadata": {
    "collapsed": false
   },
   "outputs": [
    {
     "data": {
      "image/png": "[encoded data removed]",
      "text/plain": [
       "<matplotlib.figure.Figure at 0x7fd757ce4210>"
      ]
     },
     "metadata": {},
     "output_type": "display_data"
    }
   ],
   "source": [
    "sDiff = np.subtract(calcEntropy,gavEntropy)\n",
    "plt.plot(np.sort(sDiff),'bo')\n",
    "plt.show()"
   ]
  },
  {
   "cell_type": "code",
   "execution_count": null,
   "metadata": {
    "collapsed": false
   },
   "outputs": [],
   "source": [
    "plt.plot(hDiff, sDiff, 'bo')\n",
    "plt.xlabel('Enthalpy Error')\n",
    "plt.ylabel('Entropy Error')\n",
    "plt.show()"
   ]
  },
  {
   "cell_type": "code",
   "execution_count": 13,
   "metadata": {
    "collapsed": false
   },
   "outputs": [
    {
     "name": "stdout",
     "output_type": "stream",
     "text": [
      "A5\n"
     ]
    }
   ],
   "source": [
    "indices = np.where(sDiff>120)[0]\n",
    "for index in indices:\n",
    "    print labels[index]\n",
    "    #print speciesList1[labels[index]].thermo.comment"
   ]
  },
  {
   "cell_type": "code",
   "execution_count": null,
   "metadata": {
    "collapsed": false
   },
   "outputs": [],
   "source": [
    "indices = np.where(np.logical_and(sDiff<40,sDiff>20))[0]\n",
    "for index in indices:\n",
    "    print labels[index]\n",
    "    #print speciesList1[labels[index]].thermo.comment"
   ]
  },
  {
   "cell_type": "code",
   "execution_count": null,
   "metadata": {
    "collapsed": false
   },
   "outputs": [],
   "source": [
    "indices = np.where(np.logical_and(sDiff<20,sDiff>-20))[0]\n",
    "for index in indices:\n",
    "    print labels[index]\n",
    "    #print speciesList1[labels[index]].thermo.comment"
   ]
  },
  {
   "cell_type": "code",
   "execution_count": null,
   "metadata": {
    "collapsed": false
   },
   "outputs": [],
   "source": [
    "indices = np.where(sDiff<-20)[0]\n",
    "for index in indices:\n",
    "    print labels[index]\n",
    "    #print speciesList1[labels[index]].thermo.comment"
   ]
  },
  {
   "cell_type": "code",
   "execution_count": null,
   "metadata": {
    "collapsed": true
   },
   "outputs": [],
   "source": []
  }
 ],
 "metadata": {
  "anaconda-cloud": {},
  "kernelspec": {
   "display_name": "Python [default]",
   "language": "python",
   "name": "python2"
  },
  "language_info": {
   "codemirror_mode": {
    "name": "ipython",
    "version": 2
   },
   "file_extension": ".py",
   "mimetype": "text/x-python",
   "name": "python",
   "nbconvert_exporter": "python",
   "pygments_lexer": "ipython2",
   "version": "2.7.12"
  }
 },
 "nbformat": 4,
 "nbformat_minor": 0
}
