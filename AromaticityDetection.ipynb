{
 "cells": [
  {
   "cell_type": "markdown",
   "metadata": {},
   "source": [
    "# Aromaticity Detection\n",
    "\n",
    "RMG relies solely on RDKit for aromaticity detection. After creating a molecule, we will convert it to an RDKit molecule, then query each of the bonds to determine if RDKit considers them aromatic. If a molecule has a six-membered ring (RMG constraint) and each of the six bonds are considered by RDKit to be aromatic, then RMG considers the ring to be aromatic.\n",
    "\n",
    "Essentially, we assume that RDKit is always correct, which is not true. A notable example is when rings have double bonded substituents. Because RDKit uses an atom-centered counting method to perform a Huckel rule check, such molecules are considered aromatic. However, we don't think they should be. This notebook tests aromaticity perception by RDKit and Open Babel for such cases.\n",
    "\n",
    "Interesting link: http://blueobelisk.shapado.com/questions/aromaticity-perception-differences"
   ]
  },
  {
   "cell_type": "markdown",
   "metadata": {},
   "source": [
    "## RDKit"
   ]
  },
  {
   "cell_type": "code",
   "execution_count": null,
   "metadata": {
    "collapsed": false
   },
   "outputs": [],
   "source": [
    "from rdkit import Chem\n",
    "from rdkit.Chem import Draw\n",
    "\n",
    "m = Chem.MolFromSmiles('c1ccccc1CCN=[N+]=[N-]')\n",
    "Draw.MolToImage(m)"
   ]
  },
  {
   "cell_type": "code",
   "execution_count": null,
   "metadata": {
    "collapsed": false
   },
   "outputs": [],
   "source": [
    "print 'Atoms\\n====='\n",
    "for atom in m.GetAtoms():\n",
    "    print atom.GetIdx(), atom.GetSymbol(), atom.IsInRing(), atom.GetIsAromatic()\n",
    "\n",
    "print 'Bonds\\n====='\n",
    "for bond in m.GetBonds():\n",
    "    print bond.GetIdx(), bond.GetBondTypeAsDouble(), bond.GetIsAromatic()"
   ]
  },
  {
   "cell_type": "markdown",
   "metadata": {},
   "source": [
    "## OpenBabel\n",
    "\n",
    "http://python.zirael.org/e-openbabel8.html"
   ]
  },
  {
   "cell_type": "code",
   "execution_count": null,
   "metadata": {
    "collapsed": true
   },
   "outputs": [],
   "source": [
    "import pybel"
   ]
  },
  {
   "cell_type": "code",
   "execution_count": null,
   "metadata": {
    "collapsed": false
   },
   "outputs": [],
   "source": [
    "m2 = pybel.readstring('smi', 'C1(=C)C=CC=CC1=C')\n",
    "\n",
    "print 'Atoms\\n====='\n",
    "for atom in m2.atoms:\n",
    "    print atom.OBAtom.IsAromatic()\n",
    "\n",
    "print 'Rings\\n====='\n",
    "for ring in m2.sssr:\n",
    "    print ring.IsAromatic()"
   ]
  },
  {
   "cell_type": "code",
   "execution_count": null,
   "metadata": {
    "collapsed": false
   },
   "outputs": [],
   "source": [
    "import rmgpy.molecule.generator as generator\n",
    "from rmgpy.molecule import Molecule\n",
    "from IPython.display import display\n",
    "\n",
    "mol = Molecule().fromAdjacencyList(\"\"\"\n",
    "1  C u0 p0 c0 {2,D} {6,S} {7,S}\n",
    "2  C u0 p0 c0 {1,D} {3,S} {8,S}\n",
    "3  C u0 p0 c0 {2,S} {4,D} {9,S}\n",
    "4  C u0 p0 c0 {3,D} {5,S} {10,S}\n",
    "5  C u0 p0 c0 {4,S} {6,D} {11,S}\n",
    "6  C u0 p0 c0 {1,S} {5,D} {12,S}\n",
    "7  O u1 p2 c0 {1,S}\n",
    "8  H u0 p0 c0 {2,S}\n",
    "9  H u0 p0 c0 {3,S}\n",
    "10 H u0 p0 c0 {4,S}\n",
    "11 H u0 p0 c0 {5,S}\n",
    "12 H u0 p0 c0 {6,S}\n",
    "\"\"\")\n",
    "display(mol)\n",
    "mol.getBond(mol.atoms[0], mol.atoms[6]).order = 2\n",
    "mol.atoms[6].radicalElectrons = 0\n",
    "print mol.toAdjacencyList()"
   ]
  },
  {
   "cell_type": "code",
   "execution_count": null,
   "metadata": {
    "collapsed": false
   },
   "outputs": [],
   "source": [
    "obmol, obAtomIndices = generator.toOBMol(mol, returnMapping=True)"
   ]
  },
  {
   "cell_type": "code",
   "execution_count": null,
   "metadata": {
    "collapsed": false
   },
   "outputs": [],
   "source": [
    "obAtomIndices"
   ]
  },
  {
   "cell_type": "code",
   "execution_count": null,
   "metadata": {
    "collapsed": false
   },
   "outputs": [],
   "source": [
    "dir(obmol)"
   ]
  },
  {
   "cell_type": "code",
   "execution_count": null,
   "metadata": {
    "collapsed": true
   },
   "outputs": [],
   "source": []
  }
 ],
 "metadata": {
  "anaconda-cloud": {},
  "kernelspec": {
   "display_name": "Python [conda env:rmg_env]",
   "language": "python",
   "name": "conda-env-rmg_env-py"
  },
  "language_info": {
   "codemirror_mode": {
    "name": "ipython",
    "version": 2
   },
   "file_extension": ".py",
   "mimetype": "text/x-python",
   "name": "python",
   "nbconvert_exporter": "python",
   "pygments_lexer": "ipython2",
   "version": "2.7.12"
  }
 },
 "nbformat": 4,
 "nbformat_minor": 1
}
