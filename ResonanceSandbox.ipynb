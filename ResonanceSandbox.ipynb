{
 "cells": [
  {
   "cell_type": "code",
   "execution_count": 1,
   "metadata": {
    "collapsed": true
   },
   "outputs": [],
   "source": [
    "from rmgpy.molecule.molecule import Molecule\n",
    "from rmgpy.molecule.resonance import *\n",
    "\n",
    "import time"
   ]
  },
  {
   "cell_type": "code",
   "execution_count": 2,
   "metadata": {
    "collapsed": false
   },
   "outputs": [
    {
     "name": "stdout",
     "output_type": "stream",
     "text": [
      "AtomTypeError: 1\n",
      "AtomTypeError: 2\n",
      "AtomTypeError: 3\n",
      "AtomTypeError: 4\n",
      "AtomTypeError: 5\n",
      "AtomTypeError: 6\n",
      "AtomTypeError: 7\n",
      "AtomTypeError: 8\n",
      "AtomTypeError: 9\n",
      "AtomTypeError: 10\n",
      "AtomTypeError: 11\n",
      "AtomTypeError: 12\n",
      "AtomTypeError: 13\n",
      "AtomTypeError: 14\n",
      "AtomTypeError: 15\n",
      "AtomTypeError: 16\n",
      "AtomTypeError: 17\n",
      "AtomTypeError: 18\n",
      "AtomTypeError: 19\n",
      "AtomTypeError: 20\n",
      "AtomTypeError: 21\n",
      "0.312134027481\n"
     ]
    }
   ],
   "source": [
    "mol1 = Molecule(SMILES=\"C1=C([CH2])C2=CC=C3C=CC=C4C=CC(=C1)C2=C43\")\n",
    "\n",
    "t0 = time.time()\n",
    "out1 = generateResonanceIsomers(mol1)\n",
    "t1 = time.time()\n",
    "\n",
    "print t1 - t0"
   ]
  },
  {
   "cell_type": "code",
   "execution_count": 3,
   "metadata": {
    "collapsed": false
   },
   "outputs": [
    {
     "data": {
      "text/plain": [
       "18"
      ]
     },
     "execution_count": 3,
     "metadata": {},
     "output_type": "execute_result"
    }
   ],
   "source": [
    "len(out1)"
   ]
  },
  {
   "cell_type": "code",
   "execution_count": 34,
   "metadata": {
    "collapsed": false
   },
   "outputs": [
    {
     "name": "stdout",
     "output_type": "stream",
     "text": [
      "multiplicity 2\n",
      "1  C u0 p0 c0 {2,S} {3,B} {6,B}\n",
      "2  C u0 p0 c0 {1,S} {4,B} {5,B}\n",
      "3  C u0 p0 c0 {1,B} {7,B} {9,S}\n",
      "4  C u0 p0 c0 {2,B} {10,S} {11,B}\n",
      "5  C u0 p0 c0 {2,B} {12,B} {13,S}\n",
      "6  C u0 p0 c0 {1,B} {14,S} {15,B}\n",
      "7  C u0 p0 c0 {3,B} {8,B} {17,S}\n",
      "8  C u0 p0 c0 {7,B} {15,B} {18,S}\n",
      "9  C u0 p0 c0 {3,S} {10,S} {19,S}\n",
      "10 C u1 p0 c0 {4,S} {9,S} {20,S}\n",
      "11 C u0 p0 c0 {4,B} {16,B} {21,S}\n",
      "12 C u0 p0 c0 {5,B} {16,B} {22,S}\n",
      "13 C u0 p0 c0 {5,S} {14,D} {23,S}\n",
      "14 C u0 p0 c0 {6,S} {13,D} {24,S}\n",
      "15 C u0 p0 c0 {6,B} {8,B} {25,S}\n",
      "16 C u0 p0 c0 {11,B} {12,B} {26,S}\n",
      "17 C u0 p0 c0 {7,S} {27,S} {28,S}\n",
      "18 H u0 p0 c0 {8,S}\n",
      "19 H u0 p0 c0 {9,S}\n",
      "20 H u0 p0 c0 {10,S}\n",
      "21 H u0 p0 c0 {11,S}\n",
      "22 H u0 p0 c0 {12,S}\n",
      "23 H u0 p0 c0 {13,S}\n",
      "24 H u0 p0 c0 {14,S}\n",
      "25 H u0 p0 c0 {15,S}\n",
      "26 H u0 p0 c0 {16,S}\n",
      "27 H u0 p0 c0 {17,S}\n",
      "28 H u0 p0 c0 {17,S}\n",
      "\n"
     ]
    },
    {
     "data": {
      "image/png": "[encoded data removed]",
      "text/plain": [
       "Molecule(SMILES=\"Cc1ccc2C=Cc3cccc4[CH]Cc1c2-c43\")"
      ]
     },
     "execution_count": 34,
     "metadata": {},
     "output_type": "execute_result"
    }
   ],
   "source": [
    "n = 4\n",
    "print out1[n].toAdjacencyList()\n",
    "out1[n]"
   ]
  },
  {
   "cell_type": "code",
   "execution_count": 37,
   "metadata": {
    "collapsed": true
   },
   "outputs": [],
   "source": [
    "mol2 = Molecule(SMILES=\"C=C1C=CC2=C3C1=C[CH]C4=C3C(C=C2)=CC=C4\")"
   ]
  },
  {
   "cell_type": "code",
   "execution_count": 39,
   "metadata": {
    "collapsed": false
   },
   "outputs": [
    {
     "data": {
      "text/plain": [
       "[[<Atom 'C'>, <Atom 'C'>, <Atom 'C'>, <Atom 'C'>, <Atom 'C'>, <Atom 'C'>],\n",
       " [<Atom 'C'>, <Atom 'C'>, <Atom 'C'>, <Atom 'C'>, <Atom 'C'>, <Atom 'C'>],\n",
       " [<Atom 'C'>, <Atom 'C'>, <Atom 'C'>, <Atom 'C'>, <Atom 'C'>, <Atom 'C'>]]"
      ]
     },
     "execution_count": 39,
     "metadata": {},
     "output_type": "execute_result"
    }
   ],
   "source": [
    "mol2.getAromaticSSSR()"
   ]
  },
  {
   "cell_type": "code",
   "execution_count": 40,
   "metadata": {
    "collapsed": true
   },
   "outputs": [],
   "source": [
    "mol3 = Molecule(SMILES=\"C=C1C=CC=CC1=C\")"
   ]
  },
  {
   "cell_type": "code",
   "execution_count": 42,
   "metadata": {
    "collapsed": false
   },
   "outputs": [
    {
     "data": {
      "text/plain": [
       "[[<Atom 'C'>, <Atom 'C'>, <Atom 'C'>, <Atom 'C'>, <Atom 'C'>, <Atom 'C'>]]"
      ]
     },
     "execution_count": 42,
     "metadata": {},
     "output_type": "execute_result"
    }
   ],
   "source": [
    "mol3.getAromaticSSSR()"
   ]
  },
  {
   "cell_type": "code",
   "execution_count": 1,
   "metadata": {
    "collapsed": false
   },
   "outputs": [
    {
     "name": "stdout",
     "output_type": "stream",
     "text": [
      "testClarTransformation (rmgpy.molecule.resonanceTest.ClarTest)\n",
      "Test that clarTransformation generates an aromatic ring. ... ok\n",
      "testCorannulene (rmgpy.molecule.resonanceTest.ClarTest)\n",
      "Test that we generate 5 Clar structures for corannulene ... ok\n",
      "testPhenalene (rmgpy.molecule.resonanceTest.ClarTest)\n",
      "Test that we generate 2 Clar structures for phenalene. ... ok\n",
      "testPhenanthrene (rmgpy.molecule.resonanceTest.ClarTest)\n",
      "Test that we generate 1 Clar structure for phenanthrene. ... ok\n",
      "testAllylShift (rmgpy.molecule.resonanceTest.ResonanceTest)\n",
      "Test allyl shift for hexadienyl radical ... ok\n",
      "testAzide (rmgpy.molecule.resonanceTest.ResonanceTest)\n",
      "Test resonance structure generation for ethyl azide ... ok\n",
      "testFusedAromatic1 (rmgpy.molecule.resonanceTest.ResonanceTest)\n",
      "Test we can make aromatic perylene from both adjlist and SMILES ... ok\n",
      "testFusedAromatic2 (rmgpy.molecule.resonanceTest.ResonanceTest)\n",
      "Test we can make aromatic naphthalene from both adjlist and SMILES ... ok\n",
      "testFusedAromatic3 (rmgpy.molecule.resonanceTest.ResonanceTest)\n",
      "Test we can make aromatic pyrene_rad from both adjlist and SMILES ... skipped 'WIP test failed: Unable to determine atom type for atom C, which has 2 double bonds to C, 0 double bonds to O, 0 double bonds to S, 0 triple bonds, and 0 benzene bonds.'\n",
      "testKekulizeResonanceIsomer (rmgpy.molecule.resonanceTest.ResonanceTest) ... ok\n",
      "testKekulizedResonanceIsomersFused (rmgpy.molecule.resonanceTest.ResonanceTest)\n",
      "Test we can make aromatic and Kekulized resonance isomers of 2-methylanthracen-1-ol ... skipped 'WIP test failed: Expected a resonance form Molecule(SMILES=\"CC1C=CC2=CC3=CC=CC=C3C=C2C=1O\") that was not generated.\\nOnly generated these:\\nMolecule(SMILES=\"CC1=CC=C2C=C3C=CC=CC3=CC2=C1O\")\\nMolecule(SMILES=\"Cc1ccc2cc3ccccc3cc2c1O\")\\nMolecule(SMILES=\"Cc1ccc2C=C3C=CC=CC3=Cc2c1O\")\\nMolecule(SMILES=\"C=C1C=CC2=Cc3ccccc3C=C2C1=O\")\\nMolecule(SMILES=\"C=C1C=Cc2cc3C=CC=Cc3cc2C1=O\")\\nMolecule(SMILES=\"CC1C=CC2=CC3C=CC=CC=3C=C2C=1O\")\\nMolecule(SMILES=\"CC1C=CC2C=C3C=CC=CC3=CC=2C=1O\")'\n",
      "testMultipleKekulizedResonanceIsomers (rmgpy.molecule.resonanceTest.ResonanceTest)\n",
      "Test we can make both Kekulized resonance isomers of 2-Hydroxy-1-methylbenzene ... skipped \"WIP test failed: Didn't generate 3 resonance isomers\"\n",
      "testNaphthyl (rmgpy.molecule.resonanceTest.ResonanceTest)\n",
      "Test resonance structure generation for naphthyl radical ... skipped 'WIP test failed: 3 != 1'\n",
      "testOxime (rmgpy.molecule.resonanceTest.ResonanceTest)\n",
      "Test resonance structure generation for CC=N[O] radical ... ok\n",
      "testStyryl (rmgpy.molecule.resonanceTest.ResonanceTest)\n",
      "Test resonance structure generation for styryl radical ... ok\n",
      "test_Benzene_aro (rmgpy.molecule.resonanceTest.ResonanceTest)\n",
      "Test benzene, aromatic SMILES ... ok\n",
      "test_Benzene_kek (rmgpy.molecule.resonanceTest.ResonanceTest)\n",
      "Test benzene, kekulized SMILES ... ok\n",
      "test_C10H11_aro (rmgpy.molecule.resonanceTest.ResonanceTest)\n",
      "Test cyclobutylbenzene radical, aromatic SMILES ... ok\n",
      "test_C10H12_aro (rmgpy.molecule.resonanceTest.ResonanceTest)\n",
      "Test cyclopropylmethyl benzene, aromatic SMILES ... ok\n",
      "test_C9H10_aro (rmgpy.molecule.resonanceTest.ResonanceTest)\n",
      "Test cyclopropylbenzene, aromatic SMILES ... ok\n",
      "test_C9H10_aro_2 (rmgpy.molecule.resonanceTest.ResonanceTest)\n",
      "Test cyclopropyl benzene, generate aromatic resonance isomers ... ok\n",
      "test_C9H11_aro (rmgpy.molecule.resonanceTest.ResonanceTest)\n",
      "Test propylbenzene radical, aromatic SMILES ... ok\n",
      "test_C9H9_aro (rmgpy.molecule.resonanceTest.ResonanceTest)\n",
      "Test cyclopropyl benzene radical, aromatic SMILES ... ok\n",
      "test_C9H9_kek (rmgpy.molecule.resonanceTest.ResonanceTest)\n",
      "Test cyclopropyl benzene radical, kekulized SMILES ... ok\n",
      "\n",
      "----------------------------------------------------------------------\n",
      "Ran 24 tests in 0.448s\n",
      "\n",
      "OK (skipped=4)\n"
     ]
    },
    {
     "data": {
      "text/plain": [
       "<unittest.runner.TextTestResult run=24 errors=0 failures=0>"
      ]
     },
     "execution_count": 1,
     "metadata": {},
     "output_type": "execute_result"
    }
   ],
   "source": [
    "from unittest import *\n",
    "import sys\n",
    "import rmgpy.molecule.resonanceTest\n",
    "tests = TestLoader().loadTestsFromModule(rmgpy.molecule.resonanceTest)\n",
    "TextTestRunner(verbosity=2, stream=sys.stdout).run(tests)"
   ]
  },
  {
   "cell_type": "code",
   "execution_count": null,
   "metadata": {
    "collapsed": true
   },
   "outputs": [],
   "source": []
  }
 ],
 "metadata": {
  "anaconda-cloud": {},
  "kernelspec": {
   "display_name": "Python [conda env:rmg_env]",
   "language": "python",
   "name": "conda-env-rmg_env-py"
  },
  "language_info": {
   "codemirror_mode": {
    "name": "ipython",
    "version": 2
   },
   "file_extension": ".py",
   "mimetype": "text/x-python",
   "name": "python",
   "nbconvert_exporter": "python",
   "pygments_lexer": "ipython2",
   "version": "2.7.12"
  }
 },
 "nbformat": 4,
 "nbformat_minor": 1
}
