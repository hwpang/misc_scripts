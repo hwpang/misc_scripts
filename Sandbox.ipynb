{
 "cells": [
  {
   "cell_type": "code",
   "execution_count": 1,
   "metadata": {
    "collapsed": true
   },
   "outputs": [],
   "source": [
    "from rmgpy.molecule.molecule import Molecule\n",
    "\n",
    "import timeit\n",
    "import numpy as np"
   ]
  },
  {
   "cell_type": "code",
   "execution_count": 2,
   "metadata": {
    "collapsed": false
   },
   "outputs": [
    {
     "name": "stdout",
     "output_type": "stream",
     "text": [
      "[<Atom 'C'>, <Atom 'C'>]\n"
     ]
    }
   ],
   "source": [
    "mol = Molecule(SMILES=\"c1c(C)cc(CC)cc1O\")\n",
    "ignoreList = []\n",
    "neighbors = []\n",
    "startingAtoms = [mol.atoms[0]]\n",
    "\n",
    "for atom in startingAtoms:\n",
    "    neighbors.extend(mol.getBonds(atom).keys())\n",
    "neighbors = list(set(neighbors)-set(ignoreList))\n",
    "neighbors = [neighbor for neighbor in neighbors if neighbor.isNonHydrogen()]\n",
    "print neighbors"
   ]
  },
  {
   "cell_type": "code",
   "execution_count": 3,
   "metadata": {
    "collapsed": false
   },
   "outputs": [
    {
     "data": {
      "text/plain": [
       "0.15684132575988768"
      ]
     },
     "execution_count": 3,
     "metadata": {},
     "output_type": "execute_result"
    }
   ],
   "source": [
    "setup = \"\"\"\\\n",
    "from rmgpy.molecule.molecule import Molecule\n",
    "mol = Molecule(SMILES=\"c1c(C)cc(CC)cc1O\")\n",
    "ignoreList = []\n",
    "neighbors = []\n",
    "startingAtoms = [mol.atoms[0]]\n",
    "\"\"\"\n",
    "test = \"\"\"\\\n",
    "for atom in startingAtoms:\n",
    "    neighbors.extend(mol.getBonds(atom).keys())\n",
    "neighbors = list(set(neighbors)-set(ignoreList))\n",
    "neighbors = [neighbor for neighbor in neighbors if neighbor.isNonHydrogen()]\n",
    "\"\"\"\n",
    "np.mean(timeit.repeat(test, setup, repeat=5, number=100000))"
   ]
  },
  {
   "cell_type": "code",
   "execution_count": 4,
   "metadata": {
    "collapsed": false
   },
   "outputs": [
    {
     "data": {
      "text/plain": [
       "0.13632574081420898"
      ]
     },
     "execution_count": 4,
     "metadata": {},
     "output_type": "execute_result"
    }
   ],
   "source": [
    "setup = \"\"\"\\\n",
    "from rmgpy.molecule.molecule import Molecule\n",
    "mol = Molecule(SMILES=\"c1c(C)cc(CC)cc1O\")\n",
    "ignoreList = []\n",
    "neighbors = []\n",
    "startingAtoms = [mol.atoms[0]]\n",
    "\"\"\"\n",
    "test = \"\"\"\\\n",
    "for atom in startingAtoms:\n",
    "    newNeighbors = [neighbor for neighbor in mol.getBonds(atom) if neighbor.isNonHydrogen()]\n",
    "    neighbors.extend(newNeighbors)\n",
    "neighbors = list(set(neighbors)-set(ignoreList))\n",
    "\"\"\"\n",
    "np.mean(timeit.repeat(test, setup, repeat=5, number=100000))"
   ]
  },
  {
   "cell_type": "code",
   "execution_count": 5,
   "metadata": {
    "collapsed": false
   },
   "outputs": [
    {
     "data": {
      "text/plain": [
       "0.13701438903808594"
      ]
     },
     "execution_count": 5,
     "metadata": {},
     "output_type": "execute_result"
    }
   ],
   "source": [
    "setup = \"\"\"\\\n",
    "from rmgpy.molecule.molecule import Molecule\n",
    "mol = Molecule(SMILES=\"c1c(C)cc(CC)cc1O\")\n",
    "ignoreList = []\n",
    "neighbors = []\n",
    "startingAtoms = [mol.atoms[0]]\n",
    "\"\"\"\n",
    "test = \"\"\"\\\n",
    "for atom in startingAtoms:\n",
    "    for neighbor in mol.getBonds(atom):\n",
    "        if neighbor.isNonHydrogen():\n",
    "            neighbors.append(neighbor)\n",
    "neighbors = list(set(neighbors)-set(ignoreList))\n",
    "\"\"\"\n",
    "np.mean(timeit.repeat(test, setup, repeat=5, number=100000))"
   ]
  },
  {
   "cell_type": "code",
   "execution_count": null,
   "metadata": {
    "collapsed": true
   },
   "outputs": [],
   "source": []
  }
 ],
 "metadata": {
  "kernelspec": {
   "display_name": "Python [conda env:rmg_env]",
   "language": "python",
   "name": "conda-env-rmg_env-py"
  },
  "language_info": {
   "codemirror_mode": {
    "name": "ipython",
    "version": 2
   },
   "file_extension": ".py",
   "mimetype": "text/x-python",
   "name": "python",
   "nbconvert_exporter": "python",
   "pygments_lexer": "ipython2",
   "version": "2.7.12"
  }
 },
 "nbformat": 4,
 "nbformat_minor": 1
}
