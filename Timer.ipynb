{
 "cells": [
  {
   "cell_type": "code",
   "execution_count": 1,
   "metadata": {
    "collapsed": true
   },
   "outputs": [],
   "source": [
    "import timeit"
   ]
  },
  {
   "cell_type": "code",
   "execution_count": 2,
   "metadata": {
    "collapsed": true
   },
   "outputs": [],
   "source": [
    "setup = \"\"\"\\\n",
    "from rmgpy.molecule.molecule import Molecule\n",
    "mol = Molecule(SMILES='c1ccccc1C')\n",
    "SSSR = mol.getSmallestSetOfSmallestRings()\n",
    "ring = SSSR[0]\n",
    "\"\"\"\n",
    "\n",
    "test1 = \"\"\"\\\n",
    "for i, atom1 in enumerate(ring):\n",
    "    for atom2 in ring[i + 1:]:\n",
    "        if mol.hasBond(atom1, atom2):\n",
    "            mol.getBond(atom1, atom2)\n",
    "\"\"\"\n",
    "\n",
    "test2 = \"\"\"\\\n",
    "for i, atom1 in enumerate(ring):\n",
    "    for atom2 in ring[i + 1:]:\n",
    "        try:\n",
    "            mol.getBond(atom1, atom2)\n",
    "        except ValueError:\n",
    "            pass\n",
    "\"\"\""
   ]
  },
  {
   "cell_type": "code",
   "execution_count": 3,
   "metadata": {
    "collapsed": false
   },
   "outputs": [
    {
     "data": {
      "text/plain": [
       "[0.0466158390045166, 0.05526995658874512, 0.04907703399658203]"
      ]
     },
     "execution_count": 3,
     "metadata": {},
     "output_type": "execute_result"
    }
   ],
   "source": [
    "timeit.repeat(test1, setup, repeat=3, number=10000)"
   ]
  },
  {
   "cell_type": "code",
   "execution_count": 4,
   "metadata": {
    "collapsed": false
   },
   "outputs": [
    {
     "data": {
      "text/plain": [
       "[0.16834497451782227, 0.17043709754943848, 0.15268921852111816]"
      ]
     },
     "execution_count": 4,
     "metadata": {},
     "output_type": "execute_result"
    }
   ],
   "source": [
    "timeit.repeat(test2, setup, repeat=3, number=10000)"
   ]
  },
  {
   "cell_type": "code",
   "execution_count": null,
   "metadata": {
    "collapsed": true
   },
   "outputs": [],
   "source": []
  }
 ],
 "metadata": {
  "anaconda-cloud": {},
  "kernelspec": {
   "display_name": "Python [conda env:rmg_env]",
   "language": "python",
   "name": "conda-env-rmg_env-py"
  },
  "language_info": {
   "codemirror_mode": {
    "name": "ipython",
    "version": 2
   },
   "file_extension": ".py",
   "mimetype": "text/x-python",
   "name": "python",
   "nbconvert_exporter": "python",
   "pygments_lexer": "ipython2",
   "version": "2.7.12"
  }
 },
 "nbformat": 4,
 "nbformat_minor": 1
}
