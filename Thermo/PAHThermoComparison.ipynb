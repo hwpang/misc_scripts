{
 "cells": [
  {
   "cell_type": "code",
   "execution_count": null,
   "metadata": {
    "collapsed": false
   },
   "outputs": [],
   "source": [
    "import os.path\n",
    "import rmgpy\n",
    "from rmgpy.data.thermo import ThermoDatabase\n",
    "from rmgpy.chemkin import loadSpeciesDictionary\n",
    "#from rmgpy.molecule.resonance import generateAromaticResonanceStructures"
   ]
  },
  {
   "cell_type": "code",
   "execution_count": null,
   "metadata": {
    "collapsed": true
   },
   "outputs": [],
   "source": [
    "temperature = 298"
   ]
  },
  {
   "cell_type": "code",
   "execution_count": null,
   "metadata": {
    "collapsed": false
   },
   "outputs": [],
   "source": [
    "databasePath = os.path.join(rmgpy.settings['database.directory'], 'thermo')\n",
    "\n",
    "database = ThermoDatabase()\n",
    "database.load(\n",
    "    path = databasePath,\n",
    "    libraries = ['PAHLibrary'],\n",
    "    )"
   ]
  },
  {
   "cell_type": "code",
   "execution_count": null,
   "metadata": {
    "collapsed": false
   },
   "outputs": [],
   "source": [
    "speciesList1 = loadSpeciesDictionary('/home/mjliu/Documents/PAHThermo/species_dictionary.txt')\n",
    "speciesList2 = loadSpeciesDictionary('/home/mjliu/Documents/PAHThermo/species_dictionary.txt')"
   ]
  },
  {
   "cell_type": "code",
   "execution_count": null,
   "metadata": {
    "collapsed": false,
    "scrolled": true
   },
   "outputs": [],
   "source": [
    "for label, spec in speciesList1.iteritems():\n",
    "    #amol = generateAromaticResonanceIsomers(spec.molecule[0])\n",
    "    #spec.thermo = database1.estimateThermoViaGroupAdditivity(amol[0])\n",
    "    spec.thermo = database.getThermoDataFromGroups(spec)\n",
    "    spec.h = spec.thermo.getEnthalpy(temperature) / 4184\n",
    "    spec.s = spec.thermo.getEntropy(temperature) / 4.184"
   ]
  },
  {
   "cell_type": "code",
   "execution_count": null,
   "metadata": {
    "collapsed": false
   },
   "outputs": [],
   "source": [
    "for label, spec in speciesList2.iteritems():\n",
    "    spec.thermo = database.getThermoData(spec)\n",
    "    spec.h = spec.thermo.getEnthalpy(temperature) / 4184\n",
    "    spec.s = spec.thermo.getEntropy(temperature) / 4.184"
   ]
  },
  {
   "cell_type": "code",
   "execution_count": null,
   "metadata": {
    "collapsed": true
   },
   "outputs": [],
   "source": [
    "labels = []\n",
    "gavEnthalpy = []\n",
    "gavEntropy = []\n",
    "calcEnthalpy = []\n",
    "calcEntropy = []\n",
    "\n",
    "for label in speciesList1.keys():\n",
    "    labels.append(label)\n",
    "    \n",
    "    gavEnthalpy.append(speciesList1[label].h)\n",
    "    gavEntropy.append(speciesList1[label].s)\n",
    "\n",
    "    calcEnthalpy.append(speciesList2[label].h)\n",
    "    calcEntropy.append(speciesList2[label].s)"
   ]
  },
  {
   "cell_type": "code",
   "execution_count": null,
   "metadata": {
    "collapsed": false
   },
   "outputs": [],
   "source": [
    "%matplotlib inline\n",
    "import numpy as np\n",
    "import matplotlib.pyplot as plt\n",
    "\n",
    "from bokeh.plotting import figure, show\n",
    "from bokeh.io import output_notebook\n",
    "output_notebook()"
   ]
  },
  {
   "cell_type": "code",
   "execution_count": null,
   "metadata": {
    "collapsed": false
   },
   "outputs": [],
   "source": [
    "p = figure(plot_width=500, plot_height=400)\n",
    "\n",
    "# add a square renderer with a size, color, and alpha\n",
    "p.circle(gavEnthalpy, calcEnthalpy, size=10, color=\"green\", alpha=0.5)\n",
    "\n",
    "x = np.array([0, 200])\n",
    "y = x\n",
    "p.line(x=x, y=y, line_width=2, color='#636363')\n",
    "p.line(x=x, y=y+10, line_width=2,line_dash=\"dashed\", color='#bdbdbd')\n",
    "p.line(x=x, y=y-10, line_width=2, line_dash=\"dashed\", color='#bdbdbd')\n",
    "\n",
    "p.xaxis.axis_label = \"H298 GAV (kcal/mol/K)\"\n",
    "p.yaxis.axis_label = \"H298 G3(MP2)//B3 (kcal/mol/K)\"\n",
    "p.xaxis.axis_label_text_font_style = \"normal\"\n",
    "p.yaxis.axis_label_text_font_style = \"normal\"\n",
    "p.xaxis.axis_label_text_font_size = \"16pt\"\n",
    "p.yaxis.axis_label_text_font_size = \"16pt\"\n",
    "p.xaxis.major_label_text_font_size = \"12pt\"\n",
    "p.yaxis.major_label_text_font_size = \"12pt\"\n",
    "\n",
    "show(p)"
   ]
  },
  {
   "cell_type": "code",
   "execution_count": null,
   "metadata": {
    "collapsed": false
   },
   "outputs": [],
   "source": [
    "p = figure(plot_width=500, plot_height=400)\n",
    "\n",
    "# add a square renderer with a size, color, and alpha\n",
    "p.circle(gavEntropy, calcEntropy, size=10, color=\"green\", alpha=0.5)\n",
    "\n",
    "x = np.array([0, 140])\n",
    "y = x\n",
    "p.line(x=x, y=y, line_width=2, color='#636363')\n",
    "p.line(x=x, y=y+10, line_width=2,line_dash=\"dashed\", color='#bdbdbd')\n",
    "p.line(x=x, y=y-10, line_width=2, line_dash=\"dashed\", color='#bdbdbd')\n",
    "\n",
    "p.xaxis.axis_label = \"S298 GAV (cal/mol/K)\"\n",
    "p.yaxis.axis_label = \"S298 G3(MP2)//B3 (cal/mol/K)\"\n",
    "p.xaxis.axis_label_text_font_style = \"normal\"\n",
    "p.yaxis.axis_label_text_font_style = \"normal\"\n",
    "p.xaxis.axis_label_text_font_size = \"16pt\"\n",
    "p.yaxis.axis_label_text_font_size = \"16pt\"\n",
    "p.xaxis.major_label_text_font_size = \"12pt\"\n",
    "p.yaxis.major_label_text_font_size = \"12pt\"\n",
    "\n",
    "show(p)"
   ]
  },
  {
   "cell_type": "code",
   "execution_count": null,
   "metadata": {
    "collapsed": false
   },
   "outputs": [],
   "source": [
    "hDiff = np.subtract(calcEnthalpy,gavEnthalpy)\n",
    "plt.plot(np.sort(hDiff),'bo')\n",
    "plt.show()"
   ]
  },
  {
   "cell_type": "code",
   "execution_count": null,
   "metadata": {
    "collapsed": false
   },
   "outputs": [],
   "source": [
    "print np.mean(np.absolute(np.subtract(calcEnthalpy,gavEnthalpy)))\n",
    "print np.mean(np.absolute(np.subtract(calcEntropy,gavEntropy)))"
   ]
  },
  {
   "cell_type": "code",
   "execution_count": null,
   "metadata": {
    "collapsed": false
   },
   "outputs": [],
   "source": [
    "sDiff = np.subtract(calcEntropy,gavEntropy)\n",
    "plt.plot(np.sort(sDiff),'bo')\n",
    "plt.show()"
   ]
  },
  {
   "cell_type": "code",
   "execution_count": null,
   "metadata": {
    "collapsed": false
   },
   "outputs": [],
   "source": [
    "plt.plot(hDiff, sDiff, 'bo')\n",
    "plt.xlabel('Enthalpy Error')\n",
    "plt.ylabel('Entropy Error')\n",
    "plt.show()"
   ]
  },
  {
   "cell_type": "code",
   "execution_count": null,
   "metadata": {
    "collapsed": false
   },
   "outputs": [],
   "source": [
    "indices = np.where(sDiff>120)[0]\n",
    "for index in indices:\n",
    "    print labels[index]\n",
    "    #print speciesList1[labels[index]].thermo.comment"
   ]
  },
  {
   "cell_type": "code",
   "execution_count": null,
   "metadata": {
    "collapsed": false
   },
   "outputs": [],
   "source": [
    "indices = np.where(np.logical_and(sDiff<40,sDiff>20))[0]\n",
    "for index in indices:\n",
    "    print labels[index]\n",
    "    #print speciesList1[labels[index]].thermo.comment"
   ]
  },
  {
   "cell_type": "code",
   "execution_count": null,
   "metadata": {
    "collapsed": false
   },
   "outputs": [],
   "source": [
    "indices = np.where(np.logical_and(sDiff<20,sDiff>-20))[0]\n",
    "for index in indices:\n",
    "    print labels[index]\n",
    "    #print speciesList1[labels[index]].thermo.comment"
   ]
  },
  {
   "cell_type": "code",
   "execution_count": null,
   "metadata": {
    "collapsed": false
   },
   "outputs": [],
   "source": [
    "indices = np.where(sDiff<-20)[0]\n",
    "for index in indices:\n",
    "    print labels[index]\n",
    "    #print speciesList1[labels[index]].thermo.comment"
   ]
  },
  {
   "cell_type": "code",
   "execution_count": null,
   "metadata": {
    "collapsed": true
   },
   "outputs": [],
   "source": []
  }
 ],
 "metadata": {
  "anaconda-cloud": {},
  "kernelspec": {
   "display_name": "Python [default]",
   "language": "python",
   "name": "python2"
  },
  "language_info": {
   "codemirror_mode": {
    "name": "ipython",
    "version": 2
   },
   "file_extension": ".py",
   "mimetype": "text/x-python",
   "name": "python",
   "nbconvert_exporter": "python",
   "pygments_lexer": "ipython2",
   "version": "2.7.12"
  }
 },
 "nbformat": 4,
 "nbformat_minor": 0
}
