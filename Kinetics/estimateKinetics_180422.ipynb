{
 "cells": [
  {
   "cell_type": "code",
   "execution_count": null,
   "metadata": {},
   "outputs": [],
   "source": [
    "import rmgpy\n",
    "from rmgpy.rmg.model import CoreEdgeReactionModel\n",
    "from rmgpy.data.rmg import RMGDatabase\n",
    "from rmgpy.rmg.react import *\n",
    "from rmgpy.reaction import Reaction\n",
    "from rmgpy.molecule.molecule import Molecule\n",
    "from rmgpy.molecule.resonance import *\n",
    "from rmgpy.species import Species\n",
    "from rmgpy.thermo.thermoengine import submit\n",
    "from rmgpy.kinetics.kineticsdata import KineticsData\n",
    "from rmgpy.data.kinetics.family import TemplateReaction\n",
    "from rmgpy.data.kinetics.depository import DepositoryReaction\n",
    "\n",
    "from IPython.display import display"
   ]
  },
  {
   "cell_type": "code",
   "execution_count": null,
   "metadata": {},
   "outputs": [],
   "source": [
    "%matplotlib inline\n",
    "import matplotlib as mpl\n",
    "import matplotlib.pyplot as plt\n",
    "import numpy as np"
   ]
  },
  {
   "cell_type": "code",
   "execution_count": null,
   "metadata": {},
   "outputs": [],
   "source": [
    "families = ['Intra_R_Add_Endocyclic_New', 'Intra_R_Add_Endocyclic']\n",
    "# families = ['R_Addition_MultipleBond']"
   ]
  },
  {
   "cell_type": "code",
   "execution_count": null,
   "metadata": {},
   "outputs": [],
   "source": [
    "databasePath = rmgpy.settings['database.directory']\n",
    "\n",
    "database = RMGDatabase()\n",
    "database.load(\n",
    "    path = databasePath,\n",
    "    thermoLibraries = ['primaryThermoLibrary', 'C10H11'],\n",
    "    reactionLibraries = [],\n",
    "    seedMechanisms = [],\n",
    "    kineticsFamilies = families,\n",
    ")\n",
    "\n",
    "for family in database.kinetics.families.itervalues():\n",
    "    family.addKineticsRulesFromTrainingSet(thermoDatabase=database.thermo)\n",
    "    family.fillKineticsRulesByAveragingUp(verbose=True)"
   ]
  },
  {
   "cell_type": "code",
   "execution_count": null,
   "metadata": {},
   "outputs": [],
   "source": [
    "combos = [\n",
    "    (Species().fromSMILES('c1ccccc1'), Species().fromSMILES('[CH2]C')),\n",
    "    (Species().fromSMILES('c1ccccc1'), Species().fromSMILES('[CH2]C=C')),\n",
    "    (Species().fromSMILES('c1ccccc1'), Species().fromSMILES('[CH]=C')),\n",
    "    (Species().fromSMILES('c1ccccc1'), Species().fromSMILES('[OH]')),\n",
    "    (Species().fromSMILES('c1ccccc1'), Species().fromSMILES('[c]1ccccc1')),\n",
    "    (Species().fromSMILES('c1ccccc1'), Species().fromSMILES('[CH2]c1ccccc1')),\n",
    "]\n",
    "\n",
    "for c in combos:\n",
    "    for r in c:\n",
    "        submit(r)"
   ]
  },
  {
   "cell_type": "code",
   "execution_count": null,
   "metadata": {},
   "outputs": [],
   "source": [
    "combos = [\n",
    "    (Species().fromSMILES('C1=CCCC1C[CH2]'),),\n",
    "    (Species().fromSMILES('C1=CCCCC1CC[CH2]'),),\n",
    "    (Species().fromSMILES('c1ccccc1CC[CH2]'),),\n",
    "]\n",
    "\n",
    "for c in combos:\n",
    "    for r in c:\n",
    "        submit(r)"
   ]
  },
  {
   "cell_type": "code",
   "execution_count": null,
   "metadata": {},
   "outputs": [],
   "source": [
    "for c in combos:\n",
    "    for r in c:\n",
    "        for m in r.molecule:\n",
    "            display(m)"
   ]
  },
  {
   "cell_type": "code",
   "execution_count": null,
   "metadata": {},
   "outputs": [],
   "source": []
  },
  {
   "cell_type": "code",
   "execution_count": null,
   "metadata": {},
   "outputs": [],
   "source": [
    "cerm = CoreEdgeReactionModel()\n",
    "\n",
    "for reactants in combos:\n",
    "    result = reactSpecies(reactants)\n",
    "\n",
    "    for rxn0 in result:\n",
    "        rxn1 = cerm.makeNewReaction(rxn0)\n",
    "    for rxn0 in cerm.newReactionList:\n",
    "        cerm.applyKineticsToReaction(rxn0)\n",
    "        if isinstance(rxn0.kinetics, KineticsData):\n",
    "            rxn0.kinetics = reaction.kinetics.toArrhenius()\n",
    "        if isinstance(rxn0,TemplateReaction) or isinstance(rxn0,DepositoryReaction):\n",
    "            rxn0.fixBarrierHeight()"
   ]
  },
  {
   "cell_type": "code",
   "execution_count": null,
   "metadata": {
    "scrolled": false
   },
   "outputs": [],
   "source": [
    "for rxn0 in cerm.newReactionList:\n",
    "    display(rxn0)\n",
    "    print rxn0.template\n",
    "    print rxn0.kinetics"
   ]
  },
  {
   "cell_type": "code",
   "execution_count": null,
   "metadata": {
    "scrolled": false
   },
   "outputs": [],
   "source": [
    "for rxns in selected:\n",
    "    for rxn in rxns:\n",
    "        rxn0 = cerm.newReactionList[rxn]\n",
    "        display(rxn0)\n",
    "        print rxn0.template\n",
    "        print rxn0.kinetics"
   ]
  },
  {
   "cell_type": "code",
   "execution_count": null,
   "metadata": {},
   "outputs": [],
   "source": [
    "plt.rcParams['font.sans-serif'] = ['Source Sans Pro']\n",
    "\n",
    "fs = 16  # font size\n",
    "\n",
    "pressure = 1e5 # Pa\n",
    "temperature = np.linspace(298, 2000, 20)\n",
    "\n",
    "plt.style.use('seaborn-talk')\n",
    "\n",
    "fig, axarr = plt.subplots(1, 3, figsize=(12,3), squeeze=False)\n",
    "\n",
    "# selected = [\n",
    "#     [0, 1],\n",
    "#     [2, 3],\n",
    "#     [4, 5],\n",
    "#     [6, 7],\n",
    "#     [8, 11],\n",
    "#     [12, 18],\n",
    "# ]\n",
    "\n",
    "selected = [\n",
    "    [1, 2],\n",
    "    [5, 6],\n",
    "    [11, 15],\n",
    "]\n",
    "\n",
    "# labels = [\n",
    "#     'Aromatic',\n",
    "#     'Double',\n",
    "# ]\n",
    "\n",
    "labels = [\n",
    "    'Ring',\n",
    "    'No Ring',\n",
    "]\n",
    "\n",
    "colormap = mpl.cm.Set1\n",
    "\n",
    "for i, indices in enumerate(selected):\n",
    "    if i < 3:\n",
    "        ax = axarr[0, i]\n",
    "    else:\n",
    "        ax = axarr[1, i - 3]\n",
    "    \n",
    "    for j, index in enumerate(indices):\n",
    "        rate = cerm.newReactionList[index].kinetics\n",
    "        kunits = rate.A.units\n",
    "        print kunits\n",
    "        # Evaluate kinetics\n",
    "        k = []\n",
    "        for t in temperature:\n",
    "            if 'm^3' in kunits:\n",
    "                k.append(1e6 * rate.getRateCoefficient(t, pressure))\n",
    "            else:\n",
    "                k.append(rate.getRateCoefficient(t, pressure))\n",
    "\n",
    "        x = 1000 / temperature\n",
    "\n",
    "        ax.semilogy(x, k, color=colormap(j))\n",
    "    \n",
    "    ax.set_xlabel('1000/T (K)', fontsize=fs)\n",
    "    ax.set_ylabel('k (' + kunits + ')', fontsize=fs)\n",
    "    ax.legend(labels, loc=3)\n",
    "\n",
    "fig.tight_layout()\n",
    "# plt.savefig('aromatic_bonds.png', dpi=300)\n",
    "plt.savefig('ring_attribute.png', dpi=300)"
   ]
  },
  {
   "cell_type": "code",
   "execution_count": null,
   "metadata": {},
   "outputs": [],
   "source": []
  }
 ],
 "metadata": {
  "anaconda-cloud": {},
  "kernelspec": {
   "display_name": "Python 2",
   "language": "python",
   "name": "python2"
  },
  "language_info": {
   "codemirror_mode": {
    "name": "ipython",
    "version": 2
   },
   "file_extension": ".py",
   "mimetype": "text/x-python",
   "name": "python",
   "nbconvert_exporter": "python",
   "pygments_lexer": "ipython2",
   "version": "2.7.15"
  }
 },
 "nbformat": 4,
 "nbformat_minor": 1
}
