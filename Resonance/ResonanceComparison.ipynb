{
 "cells": [
  {
   "cell_type": "code",
   "execution_count": null,
   "metadata": {
    "collapsed": false
   },
   "outputs": [],
   "source": [
    "from rmgpy.molecule.resonance import *\n",
    "from rmgpy.molecule.molecule import Molecule\n",
    "\n",
    "from IPython.display import display, HTML, Image, display_html\n",
    "import sys, time"
   ]
  },
  {
   "cell_type": "code",
   "execution_count": null,
   "metadata": {
    "collapsed": true
   },
   "outputs": [],
   "source": [
    "molList = [\n",
    "    'CC', 'CCC', 'CCCC',\n",
    "    'C=C[CH2]', 'CC=C[CH2]', 'C=CC=C[CH2]', 'C=C[CH]C=CC',\n",
    "    'CC=N[O]', 'CCN=N=[N-]',\n",
    "    'c1ccccc1', 'c1ccccc1C', \n",
    "    'c1ccccc1[CH2]', 'c1ccccc1[C]=C', 'c1ccccc1[CH]C', 'c1ccccc1[CH]C=C',\n",
    "    'C1=CC=C(C=C1)C1C=CC=CC=1',\n",
    "    'C1=CC=C2C=CC=CC2=C1C',\n",
    "    'C1=CC2=CC=CC3C=CC(=C1)C=32',\n",
    "    'C1=CC=C2C=C3C=CC=CC3=CC2=C1',\n",
    "    'C1=CC=C2C(C=CC3=CC=CC=C32)=C1',\n",
    "    'C1=CC=C2C(C=CC3=CC=CC=C32)=[C]1',\n",
    "    'C1=CC=C2C(C=CC3=CC=CC=C32)=C1[CH2]',\n",
    "    'C1=CC2=CC=CC3CC=CC(=C1)C=32',\n",
    "    'C1=CC=C2C=C3C=C4C=CC=CC4=CC3=CC2=C1',\n",
    "    'C1=CC=C2C(C=CC3C2=CC=C2C=CC=CC=32)=C1',\n",
    "    'C1=CC=C2C(=C1)C1=CC=CC=C1C1=CC=CC=C21',\n",
    "    'C1=CC2=CC=C3C=CC=C4C=CC(=C1)C2=C43',\n",
    "    'C1=CC=C2C=C3C(C=CC4=CC=CC=C43)=CC2=C1',\n",
    "    'C1=CC=C2C=C3C=C4C=C5C=CC=CC5=CC4=CC3=CC2=C1',\n",
    "    'C1=CC=C2C(=C1)C=C1C=CC3=CC=CC4=CC=C2C1=C34',\n",
    "    'C1=CC2=CC=C3C=CC4=C5C6=C(C2=C35)C1=CC=C6C=C4',\n",
    "    'C1=CC2=CC=CC3C4=CC=CC5=CC=CC(C(=C1)C=32)=C54',\n",
    "    'C1=CC2=CC=C3C=C4C=CC=C5C=CC6=CC(=C1)C2=C3C6=C54',\n",
    "    'C1=CC2=CC=C3C=CC4=CC=C5C=CC=C6C(=C1)C2=C3C4=C56',\n",
    "    'C1=CC=C2C(=C1)C=C1C3=CC=CC=C3C3=CC=CC4=CC=C2C1=C43',\n",
    "    'C1=CC2=CC=C3C=CC4=CC=C5C=CC6=CC=C1C1=C2C3=C4C5=C61',\n",
    "    'C1=CC2=CC=C3C=C4C=CC5=CC=C6C=CC7=CC8=CC=C1C1=C2C3=C2C4=C5C6=C7C2=C81',\n",
    "]"
   ]
  },
  {
   "cell_type": "code",
   "execution_count": null,
   "metadata": {
    "collapsed": false
   },
   "outputs": [],
   "source": [
    "i = 20\n",
    "mol = Molecule().fromSMILES('CC=C[CH2]')\n",
    "mol.update()\n",
    "print mol.toAdjacencyList()\n",
    "mol.assignAtomIndices()\n",
    "print [atom.index for atom in mol.atoms]\n",
    "print '===================='\n",
    "print 'Original molecule'\n",
    "display(mol)\n",
    "print '===================='\n",
    "print 'Resonance structures'\n",
    "out = mol.generateResonanceIsomers()\n",
    "for m in out:\n",
    "    display(m)\n",
    "print '===================='\n",
    "for m in out:\n",
    "    m.update()"
   ]
  },
  {
   "cell_type": "code",
   "execution_count": null,
   "metadata": {
    "collapsed": false
   },
   "outputs": [],
   "source": [
    "[atom.index for atom in out[0].atoms]"
   ]
  },
  {
   "cell_type": "code",
   "execution_count": null,
   "metadata": {
    "collapsed": false
   },
   "outputs": [],
   "source": [
    "[atom.index for atom in out[1].atoms]"
   ]
  },
  {
   "cell_type": "code",
   "execution_count": null,
   "metadata": {
    "collapsed": false
   },
   "outputs": [],
   "source": [
    "out[0].isIdentical(out[1])"
   ]
  },
  {
   "cell_type": "code",
   "execution_count": null,
   "metadata": {
    "collapsed": false
   },
   "outputs": [],
   "source": [
    "from base64 import b64encode\n",
    "html = '<img src=\"data:image/png;base64,{}\">'.format(b64encode(mol._repr_png_()))\n",
    "\n",
    "display(HTML(html))"
   ]
  },
  {
   "cell_type": "code",
   "execution_count": null,
   "metadata": {
    "collapsed": false
   },
   "outputs": [],
   "source": [
    "i = 20\n",
    "mol = Molecule().fromSMILES(molList[i])\n",
    "print '===================='\n",
    "print 'Original molecule'\n",
    "display(mol)\n",
    "print '===================='\n",
    "print 'Resonance structures'\n",
    "out = mol.generateResonanceIsomers()\n",
    "for m in out:\n",
    "    display(m)\n",
    "print '===================='"
   ]
  },
  {
   "cell_type": "code",
   "execution_count": null,
   "metadata": {
    "collapsed": false
   },
   "outputs": [],
   "source": [
    "i = 21\n",
    "mol = Molecule().fromSMILES(molList[i])\n",
    "print '===================='\n",
    "print 'Original molecule'\n",
    "display(mol)\n",
    "print '===================='\n",
    "print 'Resonance structures'\n",
    "out = mol.generateResonanceIsomers()\n",
    "for m in out:\n",
    "    display(m)\n",
    "print '===================='"
   ]
  },
  {
   "cell_type": "code",
   "execution_count": null,
   "metadata": {
    "collapsed": true
   },
   "outputs": [],
   "source": []
  }
 ],
 "metadata": {
  "anaconda-cloud": {},
  "kernelspec": {
   "display_name": "Python [conda env:rmg_env]",
   "language": "python",
   "name": "conda-env-rmg_env-py"
  },
  "language_info": {
   "codemirror_mode": {
    "name": "ipython",
    "version": 2
   },
   "file_extension": ".py",
   "mimetype": "text/x-python",
   "name": "python",
   "nbconvert_exporter": "python",
   "pygments_lexer": "ipython2",
   "version": "2.7.12"
  }
 },
 "nbformat": 4,
 "nbformat_minor": 0
}
