{
 "cells": [
  {
   "cell_type": "code",
   "execution_count": 20,
   "metadata": {
    "collapsed": true
   },
   "outputs": [],
   "source": [
    "import os.path\n",
    "import rmgpy\n",
    "from rmgpy.data.rmg import RMGDatabase\n",
    "from rmgpy.chemkin import loadSpeciesDictionary\n",
    "from rmgpy.molecule.resonance import generateAromaticResonanceIsomers\n",
    "from rmgpy.molecule.molecule import Molecule"
   ]
  },
  {
   "cell_type": "code",
   "execution_count": 2,
   "metadata": {
    "collapsed": true
   },
   "outputs": [],
   "source": [
    "temperature = 298"
   ]
  },
  {
   "cell_type": "code",
   "execution_count": 3,
   "metadata": {
    "collapsed": false
   },
   "outputs": [],
   "source": [
    "databasePath = rmgpy.settings['database.directory']\n",
    "\n",
    "database1 = RMGDatabase()\n",
    "database1.load(\n",
    "    path = databasePath,\n",
    "    thermoLibraries = [],\n",
    "    reactionLibraries = [],\n",
    "    seedMechanisms = [],\n",
    "    kineticsFamilies = 'none'\n",
    "    )\n",
    "\n",
    "database2 = RMGDatabase()\n",
    "database2.load(\n",
    "    path = databasePath,\n",
    "    thermoLibraries = ['PAHLibrary'],\n",
    "    reactionLibraries = [],\n",
    "    seedMechanisms = [],\n",
    "    kineticsFamilies = 'none'\n",
    "    )"
   ]
  },
  {
   "cell_type": "code",
   "execution_count": 4,
   "metadata": {
    "collapsed": false
   },
   "outputs": [],
   "source": [
    "speciesList1 = loadSpeciesDictionary('/home/mjliu/Documents/PAHThermo/species_dictionary.txt')\n",
    "speciesList2 = loadSpeciesDictionary('/home/mjliu/Documents/PAHThermo/species_dictionary.txt')"
   ]
  },
  {
   "cell_type": "code",
   "execution_count": 5,
   "metadata": {
    "collapsed": false,
    "scrolled": true
   },
   "outputs": [
    {
     "name": "stdout",
     "output_type": "stream",
     "text": [
      "<Molecule \"C1=CC=C2C(C=CC3C2=CC=C2C=CC=CC=32)=C1\">\n",
      "<Molecule \"[C]1C=CC=C2C=CC3=CC=CC=C3C=12\">\n",
      "<Molecule \"C1=CC=C2C=C3C=C4C=CC=CC4=CC3=CC2=C1\">\n",
      "<Molecule \"C#CC1C=C[C]=CC=1\">\n",
      "<Molecule \"C#CC1C=CC=[C]C=1\">\n",
      "<Molecule \"C#CC1=[C]C=CC=C1\">\n",
      "<Molecule \"C1=CC2=CC=C3C=CC=C4C=CC(=C1)C2=C43\">\n",
      "<Molecule \"C#CC1=CC=CC2=CC=C3C=CC=CC3=C12\">\n",
      "<Molecule \"C#CC1C=CC=CC=1\">\n",
      "<Molecule \"C#CC1=CC2C=CC3=CC=CC(=C1C#C)C=23\">\n",
      "<Molecule \"C#CC1=CC=CC2=CC=CC=C12\">\n",
      "<Molecule \"C#CC1=CC=C2C=CC=CC2=C1\">\n",
      "<Molecule \"C1=CC=CC=C1\">\n",
      "<Molecule \"[C]1=CC=C2C=CC3=CC4=CC=CC=C4C1=C23\">\n",
      "<Molecule \"C1=CC=C2C=CC=CC2=C1\">\n",
      "<Molecule \"C1=CC2=CC=CC3C4=CC=CC5=CC=CC(C(=C1)C=32)=C54\">\n",
      "<Molecule \"[C]1=CC=CC=C1\">\n",
      "<Molecule \"C#CC1=CC=C2C=CC3=CC=CC1=C32\">\n",
      "<Molecule \"C=CC1=CC=C2C=CC3=CC=CC1=C32\">\n",
      "<Molecule \"[CH]=CC1=CC=CC2=CC=C3C=CC=CC3=C12\">\n",
      "<Molecule \"C1=CC=C(C=C1)C1C=CC=CC=1\">\n",
      "<Molecule \"C=[C]C1C=CC=CC=1\">\n",
      "<Molecule \"[C]1=CC=C2C=CC3C=CC=C1C=32\">\n",
      "<Molecule \"[CH]=CC1=CC=C2C=CC3=CC=CC1=C32\">\n",
      "<Molecule \"[C]1=CC=C2C=CC=CC2=C1\">\n",
      "<Molecule \"[C]1C=CC=C2C=CC=CC=12\">\n",
      "<Molecule \"C#CC1[C]=C2C=CC=CC2=CC=1\">\n",
      "<Molecule \"C#CC1=[C]C=C2C=CC3=CC=CC1=C23\">\n",
      "<Molecule \"[C]1C=C2C=CC=C3C=CC4=CC=CC=1C4=C23\">\n",
      "<Molecule \"C#CC1=CC=CC=C1C#C\">\n",
      "<Molecule \"[CH]=CC1=CC=CC2=CC=CC=C12\">\n",
      "<Molecule \"C=CC1=CC=CC2=CC=CC=C12\">\n",
      "<Molecule \"C1=CC=C2C(C=CC3=CC=CC=C32)=C1\">\n",
      "<Molecule \"[C]1C=CC=CC=1C1C=CC=CC=1\">\n",
      "<Molecule \"C#CC1=[C]C=CC2=CC=CC=C12\">\n",
      "<Molecule \"[CH]=CC1C=CC=CC=1\">\n",
      "<Molecule \"C1=CC2=CC=CC3C=CC(=C1)C=32\">\n",
      "<Molecule \"C#CC1=CC=C2C=CC=CC2=C1C#C\">\n",
      "<Molecule \"C1=CC=C2C(=C1)C=C1C=CC3=CC=CC2=C31\">\n",
      "<Molecule \"C=CC1C=CC=CC=1\">\n",
      "<Molecule \"C1=CC2=CC=C3C=CC4C=CC5=CC(=C1)C2=C3C=45\">\n",
      "<Molecule \"C#CC1=CC=C2C=CC3=CC4=CC=CC=C4C1=C23\">\n",
      "<Molecule \"C1=CC=C2C=C3C=CC=CC3=CC2=C1\">\n",
      "<Molecule \"C=CC1=[C]C=CC=C1\">\n"
     ]
    }
   ],
   "source": [
    "for label, spec in speciesList1.iteritems():\n",
    "    #amol = generateAromaticResonanceIsomers(spec.molecule[0])\n",
    "    print spec.molecule[0]\n",
    "    spec.thermo = database1.thermo.estimateThermoViaGroupAdditivity(spec.molecule[0])\n",
    "    #spec.thermo = database1.thermo.getThermoData(spec)\n",
    "    spec.h = spec.thermo.getEnthalpy(temperature) / 1000\n",
    "    spec.s = spec.thermo.getEntropy(temperature)"
   ]
  },
  {
   "cell_type": "code",
   "execution_count": 6,
   "metadata": {
    "collapsed": false
   },
   "outputs": [],
   "source": [
    "#for label, spec in speciesList1.iteritems():\n",
    "#    print label + ' : ' + str(len(spec.molecule))"
   ]
  },
  {
   "cell_type": "code",
   "execution_count": 7,
   "metadata": {
    "collapsed": false
   },
   "outputs": [],
   "source": [
    "for label, spec in speciesList2.iteritems():\n",
    "    spec.thermo = database2.thermo.getThermoData(spec)\n",
    "    spec.h = spec.thermo.getEnthalpy(temperature) / 1000\n",
    "    spec.s = spec.thermo.getEntropy(temperature)"
   ]
  },
  {
   "cell_type": "code",
   "execution_count": 8,
   "metadata": {
    "collapsed": true
   },
   "outputs": [],
   "source": [
    "labels = []\n",
    "gavEnthalpy = []\n",
    "gavEntropy = []\n",
    "calcEnthalpy = []\n",
    "calcEntropy = []\n",
    "\n",
    "for label in speciesList1.keys():\n",
    "    labels.append(label)\n",
    "    \n",
    "    gavEnthalpy.append(speciesList1[label].h)\n",
    "    gavEntropy.append(speciesList1[label].s)\n",
    "\n",
    "    calcEnthalpy.append(speciesList2[label].h)\n",
    "    calcEntropy.append(speciesList2[label].s)"
   ]
  },
  {
   "cell_type": "code",
   "execution_count": 9,
   "metadata": {
    "collapsed": true
   },
   "outputs": [],
   "source": [
    "%matplotlib inline\n",
    "import numpy as np\n",
    "import matplotlib.pyplot as plt"
   ]
  },
  {
   "cell_type": "code",
   "execution_count": 10,
   "metadata": {
    "collapsed": false
   },
   "outputs": [
    {
     "data": {
      "image/png": "[encoded data removed]",
      "text/plain": [
       "<matplotlib.figure.Figure at 0x7f87492d0690>"
      ]
     },
     "metadata": {},
     "output_type": "display_data"
    }
   ],
   "source": [
    "plt.plot(gavEnthalpy, calcEnthalpy, 'bo')\n",
    "plt.plot([0, 800], [0, 800], 'k--')\n",
    "plt.xlabel('Group Additivity')\n",
    "plt.ylabel('Calculated G3(MP2)//B3')\n",
    "plt.show()"
   ]
  },
  {
   "cell_type": "code",
   "execution_count": 11,
   "metadata": {
    "collapsed": false
   },
   "outputs": [
    {
     "data": {
      "image/png": "[encoded data removed]",
      "text/plain": [
       "<matplotlib.figure.Figure at 0x7f87327de850>"
      ]
     },
     "metadata": {},
     "output_type": "display_data"
    }
   ],
   "source": [
    "plt.plot(gavEntropy, calcEntropy, 'bo')\n",
    "plt.plot([0, 500], [0, 500], 'k--')\n",
    "plt.xlabel('Group Additivity')\n",
    "plt.ylabel('Calculated G3(MP2)//B3')\n",
    "plt.show()"
   ]
  },
  {
   "cell_type": "code",
   "execution_count": 12,
   "metadata": {
    "collapsed": false
   },
   "outputs": [
    {
     "data": {
      "image/png": "[encoded data removed]",
      "text/plain": [
       "<matplotlib.figure.Figure at 0x7f872fec0890>"
      ]
     },
     "metadata": {},
     "output_type": "display_data"
    }
   ],
   "source": [
    "hDiff = np.subtract(calcEnthalpy,gavEnthalpy)\n",
    "plt.plot(np.sort(hDiff),'bo')\n",
    "plt.show()"
   ]
  },
  {
   "cell_type": "code",
   "execution_count": 24,
   "metadata": {
    "collapsed": false
   },
   "outputs": [
    {
     "name": "stdout",
     "output_type": "stream",
     "text": [
      "[('A4c', 4), ('A3p-', 3), ('A4t', 4), ('A1C2H-4', 1), ('A1C2H-3', 1), ('A1C2H-2', 1), ('A4p', 4), ('A3pC2H', 3), ('A1C2H', 1), ('A2R5(C2H)2', 3), ('A2C2HA', 2), ('A2C2HB', 2), ('A1', 1), ('A3R5-', 4), ('A2', 2), ('A5', 5), ('A1-', 1), ('A2R5C2H', 3), ('A2R5C2H3', 3), ('A3pC2H2', 3), ('P2', 2), ('i-A1C2H2', 1), ('A2R5-', 3), ('A2R5C2H2', 3), ('A2-2', 2), ('A2-1', 2), ('A2C2HB-', 2), ('A2R5C2H-', 3), ('A4p-', 4), ('A1(C2H)2', 1), ('A2C2H2', 2), ('A2C2H3', 2), ('A3p', 3), ('P2-', 2), ('A2C2HA-', 2), ('n-A1C2H2', 1), ('A2R5', 3), ('A2(C2H)2', 2), ('A3R5', 4), ('A1C2H3', 1), ('A4R5', 5), ('A3R5C2H', 4), ('A3a', 3), ('A1C2H3-2', 1)]\n"
     ]
    }
   ],
   "source": [
    "rings = []\n",
    "for label in labels:\n",
    "    SSSR = speciesList1[label].molecule[0].getSmallestSetOfSmallestRings()\n",
    "    rings.append(len(SSSR))\n",
    "print zip(labels, rings)"
   ]
  },
  {
   "cell_type": "code",
   "execution_count": 46,
   "metadata": {
    "collapsed": false
   },
   "outputs": [
    {
     "name": "stdout",
     "output_type": "stream",
     "text": [
      "['A4c', 'A3p-', 'A4t', 'A1C2H-4', 'A1C2H-3', 'A1C2H-2', 'A4p', 'A3pC2H', 'A1C2H', 'A2R5(C2H)2', 'A2C2HA', 'A2C2HB', 'A1', 'A3R5-', 'A2', 'A5', 'A1-', 'A2R5C2H', 'A2R5C2H3', 'A3pC2H2', 'P2', 'i-A1C2H2', 'A2R5-', 'A2R5C2H2', 'A2-2', 'A2-1', 'A2C2HB-', 'A2R5C2H-', 'A4p-', 'A1(C2H)2', 'A2C2H2', 'A2C2H3', 'A3p', 'P2-', 'A2C2HA-', 'n-A1C2H2', 'A2R5', 'A2(C2H)2', 'A3R5', 'A1C2H3', 'A4R5', 'A3R5C2H', 'A3a', 'A1C2H3-2']\n"
     ]
    }
   ],
   "source": [
    "print labels"
   ]
  },
  {
   "cell_type": "code",
   "execution_count": 47,
   "metadata": {
    "collapsed": true
   },
   "outputs": [],
   "source": [
    "sextets = [2,2,1,1,1,1,2,2,1,1,1,1,1,2,1,2,1,1,1,2,2,1,1,1,1,1,1,1,2,1,1,1,2,2,1,1,1,1,2,1,2,2,1,1]\n",
    "dbonds = [3,1,6,0,0,0,2,1,0,2,2,2,0,1,2,4,0,2,2,1,0,0,2,2,2,2,2,2,2,0,2,2,1,0,2,0,2,2,1,0,2,1,4,0]"
   ]
  },
  {
   "cell_type": "code",
   "execution_count": 68,
   "metadata": {
    "collapsed": false
   },
   "outputs": [
    {
     "data": {
      "image/png": "[encoded data removed]",
      "text/plain": [
       "<matplotlib.figure.Figure at 0x7f872ec63990>"
      ]
     },
     "metadata": {},
     "output_type": "display_data"
    }
   ],
   "source": [
    "plt.plot(np.multiply(benzsextet,6.)+np.multiply(benzdbonds,2.),benz,'bo')\n",
    "plt.plot(np.multiply(cpdlsextet,6.)+np.multiply(cpdldbonds,2.),cpdl,'ro')\n",
    "plt.show()"
   ]
  },
  {
   "cell_type": "code",
   "execution_count": 40,
   "metadata": {
    "collapsed": false
   },
   "outputs": [
    {
     "data": {
      "image/png": "[encoded data removed]",
      "text/plain": [
       "<matplotlib.figure.Figure at 0x7f872fd6a6d0>"
      ]
     },
     "metadata": {},
     "output_type": "display_data"
    }
   ],
   "source": [
    "plt.plot(rings,hDiff,'bo')\n",
    "plt.show()"
   ]
  },
  {
   "cell_type": "code",
   "execution_count": 57,
   "metadata": {
    "collapsed": false
   },
   "outputs": [],
   "source": [
    "benz = []\n",
    "benzring = []\n",
    "benzsextet = []\n",
    "benzdbonds = []\n",
    "cpdl = []\n",
    "cpdlring = []\n",
    "cpdlsextet = []\n",
    "cpdldbonds = []\n",
    "rbenz = []\n",
    "rbenzring = []\n",
    "rbenzsextet = []\n",
    "rbenzdbonds = []\n",
    "rcpdl = []\n",
    "rcpdlring = []\n",
    "rcpdlsextet = []\n",
    "rcpdldbonds = []\n",
    "\n",
    "for index, label in enumerate(labels):\n",
    "    if 'R5' in label:\n",
    "        if '-' in label:\n",
    "            rcpdl.append(hDiff[index])\n",
    "            rcpdlring.append(rings[index])\n",
    "            rcpdlsextet.append(sextets[index])\n",
    "            rcpdldbonds.append(dbonds[index])\n",
    "        else:\n",
    "            cpdl.append(hDiff[index])\n",
    "            cpdlring.append(rings[index])\n",
    "            cpdlsextet.append(sextets[index])\n",
    "            cpdldbonds.append(dbonds[index])\n",
    "    elif '-' in label:\n",
    "        rbenz.append(hDiff[index])\n",
    "        rbenzring.append(rings[index])\n",
    "        rbenzsextet.append(sextets[index])\n",
    "        rbenzdbonds.append(dbonds[index])\n",
    "    else:\n",
    "        benz.append(hDiff[index])\n",
    "        benzring.append(rings[index])\n",
    "        benzsextet.append(sextets[index])\n",
    "        benzdbonds.append(dbonds[index])"
   ]
  },
  {
   "cell_type": "code",
   "execution_count": 56,
   "metadata": {
    "collapsed": false
   },
   "outputs": [
    {
     "data": {
      "image/png": "[encoded data removed]",
      "text/plain": [
       "<matplotlib.figure.Figure at 0x7f872f2530d0>"
      ]
     },
     "metadata": {},
     "output_type": "display_data"
    }
   ],
   "source": [
    "plt.plot(benzring,benz,'bo')\n",
    "plt.plot(cpdlring,cpdl,'ro')\n",
    "plt.plot(rbenzring,rbenz,'bs')\n",
    "plt.plot(rcpdlring,rcpdl,'rs')\n",
    "plt.show()"
   ]
  },
  {
   "cell_type": "code",
   "execution_count": 14,
   "metadata": {
    "collapsed": false
   },
   "outputs": [
    {
     "data": {
      "text/plain": [
       "170.30696961487376"
      ]
     },
     "execution_count": 14,
     "metadata": {},
     "output_type": "execute_result"
    }
   ],
   "source": [
    "np.mean(np.absolute(np.subtract(calcEnthalpy,gavEnthalpy)))"
   ]
  },
  {
   "cell_type": "code",
   "execution_count": 15,
   "metadata": {
    "collapsed": false,
    "scrolled": true
   },
   "outputs": [
    {
     "data": {
      "image/png": "[encoded data removed]",
      "text/plain": [
       "<matplotlib.figure.Figure at 0x7f87327de890>"
      ]
     },
     "metadata": {},
     "output_type": "display_data"
    }
   ],
   "source": [
    "sDiff = np.subtract(calcEntropy,gavEntropy)\n",
    "plt.plot(np.sort(sDiff),'bo')\n",
    "plt.show()"
   ]
  },
  {
   "cell_type": "code",
   "execution_count": 37,
   "metadata": {
    "collapsed": false
   },
   "outputs": [],
   "source": [
    "benzs = []\n",
    "cpdls = []\n",
    "rbenzs = []\n",
    "rcpdls = []\n",
    "\n",
    "for index, label in enumerate(labels):\n",
    "    if 'R5' in label:\n",
    "        if '-' in label:\n",
    "            rcpdls.append(sDiff[index])\n",
    "        else:\n",
    "            cpdls.append(sDiff[index])\n",
    "    elif '-' in label:\n",
    "        rbenzs.append(sDiff[index])\n",
    "    else:\n",
    "        benzs.append(sDiff[index])"
   ]
  },
  {
   "cell_type": "code",
   "execution_count": 41,
   "metadata": {
    "collapsed": false
   },
   "outputs": [
    {
     "data": {
      "image/png": "[encoded data removed]",
      "text/plain": [
       "<matplotlib.figure.Figure at 0x7f872f8b3ed0>"
      ]
     },
     "metadata": {},
     "output_type": "display_data"
    }
   ],
   "source": [
    "plt.plot(benzring,benzs,'bo')\n",
    "plt.plot(cpdlring,cpdls,'ro')\n",
    "#plt.plot(rbenzring,rbenz,'bs')\n",
    "#plt.plot(rcpdlring,rcpdl,'rs')\n",
    "plt.show()"
   ]
  },
  {
   "cell_type": "code",
   "execution_count": null,
   "metadata": {
    "collapsed": true
   },
   "outputs": [],
   "source": []
  }
 ],
 "metadata": {
  "kernelspec": {
   "display_name": "Python 2",
   "language": "python",
   "name": "python2"
  },
  "language_info": {
   "codemirror_mode": {
    "name": "ipython",
    "version": 2
   },
   "file_extension": ".py",
   "mimetype": "text/x-python",
   "name": "python",
   "nbconvert_exporter": "python",
   "pygments_lexer": "ipython2",
   "version": "2.7.12"
  }
 },
 "nbformat": 4,
 "nbformat_minor": 0
}
