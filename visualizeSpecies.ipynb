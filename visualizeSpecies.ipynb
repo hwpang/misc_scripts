{
 "cells": [
  {
   "cell_type": "code",
   "execution_count": null,
   "metadata": {
    "collapsed": false
   },
   "outputs": [],
   "source": [
    "from collections import OrderedDict\n",
    "from IPython.display import display, HTML, Image\n",
    "from base64 import b64encode\n",
    "\n",
    "from rmgpy.species import Species"
   ]
  },
  {
   "cell_type": "code",
   "execution_count": null,
   "metadata": {
    "collapsed": false
   },
   "outputs": [],
   "source": [
    "def loadSpeciesDictionary(path):\n",
    "    speciesDict = OrderedDict()\n",
    "    with open(path, 'r') as f:\n",
    "        adjlist = ''\n",
    "        for line in f:\n",
    "            if line.strip() == '' and adjlist.strip() != '':\n",
    "                # Finish this adjacency list\n",
    "                species = Species().fromAdjacencyList(adjlist)\n",
    "                #species.generateResonanceIsomers()\n",
    "                label = species.label\n",
    "                speciesDict[label] = species\n",
    "                adjlist = ''\n",
    "            else:\n",
    "                if \"InChI\" in line:\n",
    "                    line = line.split()[0] + '\\n'\n",
    "                if '//' in line:\n",
    "                    index = line.index('//')\n",
    "                    line = line[0:index]\n",
    "                adjlist += line\n",
    "        else: #reach end of file\n",
    "            if adjlist.strip() != '':\n",
    "                species = Species().fromAdjacencyList(adjlist)\n",
    "                #species.generateResonanceIsomers()\n",
    "                label = species.label\n",
    "                speciesDict[label] = species\n",
    "\n",
    "    return speciesDict"
   ]
  },
  {
   "cell_type": "code",
   "execution_count": null,
   "metadata": {
    "collapsed": false
   },
   "outputs": [],
   "source": [
    "path = '/home/mjliu/Documents/Models/Tetralin/acetylene/run1/species_dictionary.txt'\n",
    "\n",
    "speciesDict = loadSpeciesDictionary(path)"
   ]
  },
  {
   "cell_type": "code",
   "execution_count": null,
   "metadata": {
    "collapsed": false
   },
   "outputs": [],
   "source": [
    "html = ['<table style=\"width:100%;table-layout:fixed;\">']\n",
    "html += ['<tr><th colspan=\"{0}\">Total {1} Species</th></tr>'.format(2, len(speciesDict))]\n",
    "for label, species in speciesDict.iteritems():\n",
    "    html += ['<tr><td colspan=\"{0}\">{1}</td>'.format(1, label)]\n",
    "    html += ['<td colspan=\"{0}\"><img src=\"data:image/png;base64,{1}\"></td></tr>'.format(1, b64encode(species._repr_png_()))]\n",
    "html += ['</table>']\n",
    "\n",
    "display(HTML(''.join(html)))"
   ]
  },
  {
   "cell_type": "code",
   "execution_count": null,
   "metadata": {
    "collapsed": true
   },
   "outputs": [],
   "source": []
  }
 ],
 "metadata": {
  "anaconda-cloud": {},
  "kernelspec": {
   "display_name": "Python [conda env:rmg_env]",
   "language": "python",
   "name": "conda-env-rmg_env-py"
  },
  "language_info": {
   "codemirror_mode": {
    "name": "ipython",
    "version": 2
   },
   "file_extension": ".py",
   "mimetype": "text/x-python",
   "name": "python",
   "nbconvert_exporter": "python",
   "pygments_lexer": "ipython2",
   "version": "2.7.12"
  }
 },
 "nbformat": 4,
 "nbformat_minor": 1
}
