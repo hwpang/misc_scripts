{
 "cells": [
  {
   "cell_type": "markdown",
   "metadata": {},
   "source": [
    "# Kinetic Mechanism Pathway Analyzer\n",
    "\n",
    "This analyzer is designed to provide a better user experience and improved analyzing capacity (e.g., large mechanisms) compared with Chemkin mechanism analyzer. This analyzer takes reaction ROP file (e.g. Chemkin ckcsv file), builds a reaction network, helps answer\n",
    "\n",
    "- if the mechanism has certain pathway (from start species to end species)\n",
    "\n",
    "- what is the biggest flux from/towards a certain species\n",
    "\n",
    "When using this script, please pay attention to the sections marked with **[user input]** which require user to specify certain input parameters."
   ]
  },
  {
   "cell_type": "code",
   "execution_count": 1,
   "metadata": {
    "collapsed": true
   },
   "outputs": [],
   "source": [
    "from rmgpy.rmg.model import CoreEdgeReactionModel\n",
    "from rmgpy.chemkin import loadChemkinFile\n",
    "import os"
   ]
  },
  {
   "cell_type": "markdown",
   "metadata": {},
   "source": [
    "## [user input] Prepare files\n",
    "\n",
    "Please add \n",
    "\n",
    "- annotated chemkin files (mechanism and species dictionary) and \n",
    "\n",
    "- chemkin simulation ckcsv file \n",
    "\n",
    "to a folder with name stored in `mech` variable in the next cell."
   ]
  },
  {
   "cell_type": "code",
   "execution_count": 2,
   "metadata": {
    "collapsed": false
   },
   "outputs": [],
   "source": [
    "mechPath = '/home/mjliu/Documents/Models/Tetralin/acetylene/run1'\n",
    "chemkinPath= os.path.join(mechPath, 'chem_annotated.inp')\n",
    "dictionaryPath = os.path.join(mechPath, 'species_dictionary.txt')\n",
    "ckcsvPath= os.path.join(mechPath, 'CKSoln.ckcsv')\n",
    "\n",
    "model = CoreEdgeReactionModel()\n",
    "model.core.species, model.core.reactions = loadChemkinFile(chemkinPath,dictionaryPath)"
   ]
  },
  {
   "cell_type": "code",
   "execution_count": 3,
   "metadata": {
    "collapsed": true
   },
   "outputs": [],
   "source": [
    "# generate paris for reactions that don't have flux pairs\n",
    "for rxn in model.core.reactions:\n",
    "    if not rxn.pairs: rxn.generatePairs()"
   ]
  },
  {
   "cell_type": "markdown",
   "metadata": {},
   "source": [
    "## Create reaction network"
   ]
  },
  {
   "cell_type": "code",
   "execution_count": 4,
   "metadata": {
    "collapsed": false
   },
   "outputs": [],
   "source": [
    "import networkx as nx\n",
    "import matplotlib.pyplot as plt\n",
    "from rmgpy.tools.extractInfoFromckcsv import getConcentrationDictFromCKCSV, getROPFromCKCSV, getFluxGraphEdgesDict\n",
    "from rmgpy.chemkin import getSpeciesIdentifier\n",
    "from IPython.display import display\n",
    "import numpy as np\n",
    "from rmgpy.rmg.pdep import PDepReaction\n",
    "%matplotlib inline"
   ]
  },
  {
   "cell_type": "markdown",
   "metadata": {},
   "source": [
    "### step1: prepare a dict for graph edges"
   ]
  },
  {
   "cell_type": "code",
   "execution_count": 5,
   "metadata": {
    "collapsed": false
   },
   "outputs": [],
   "source": [
    "firstColDict, spc_mf_dict = getConcentrationDictFromCKCSV(ckcsvPath)\n",
    "first_col_dict, spc_total_rop_dict, spc_rop_dict = getROPFromCKCSV(ckcsvPath)\n",
    "\n",
    "graph_edges_dict = getFluxGraphEdgesDict(spc_rop_dict, model.core.reactions)\n",
    "\n",
    "graph_edges_dict_simple = {}\n",
    "for pair in graph_edges_dict:\n",
    "    node1 = getSpeciesIdentifier(pair[0])\n",
    "    node2 = getSpeciesIdentifier(pair[1])\n",
    "    graph_edges_dict_simple[(node1, node2)] = graph_edges_dict[pair]"
   ]
  },
  {
   "cell_type": "markdown",
   "metadata": {},
   "source": [
    "### [user input] step2: pick a time to analyze pathways\n",
    "\n",
    "Please specify \n",
    "\n",
    "- the time point you want to investigate\n",
    "\n",
    "- the chemkin name of your initial species/reactant\n",
    "\n",
    "- the reaction temperature in K\n",
    "\n",
    "- the reaction pressure in Pa if the mechanism includes pressure-dependent reactions\n",
    "\n",
    "- showIntegratedFlux: True if users want to use time-integrated fluxes (integrated up to the investigated time point) in mole for analysis. Flase if users want to use instantaneous fluxes in mole/cm3/s at the investigated time point for analysis"
   ]
  },
  {
   "cell_type": "code",
   "execution_count": 6,
   "metadata": {
    "collapsed": false
   },
   "outputs": [
    {
     "name": "stdout",
     "output_type": "stream",
     "text": [
      "Investigated time point is 1.0 secs\n",
      "At this moment, the reactant's mole fraction is 1.710172e-09.\n",
      "At this moment, the reactant's total molar consumption is 8.130E-05 mole.\n"
     ]
    }
   ],
   "source": [
    "########## User Input ####################\n",
    "time_investigated = 1.0/3600 # hour\n",
    "reactant_name = 'C10H12(1)'\n",
    "T = 1200 # K\n",
    "P = 16*101325 # Pa\n",
    "showIntegratedFlux = True \n",
    "##########################################\n",
    "\n",
    "\n",
    "timepoint_index = (np.abs(firstColDict['Time_(sec)']-time_investigated*3600)).argmin()\n",
    "timeList = firstColDict['Time_(sec)']\n",
    "Plist = firstColDict['Pressure_(atm)']\n",
    "Tlist = firstColDict['Temperature_(k)']\n",
    "Vlist = firstColDict['Volume_(cm3)']\n",
    "\n",
    "print \"Investigated time point is {0} secs\".format(timeList[timepoint_index])\n",
    "print \"At this moment, the reactant's mole fraction is {}.\".format(spc_mf_dict[reactant_name][timepoint_index])\n",
    "\n",
    "# Create moleFraction_dict at the investigated time point\n",
    "moleFraction_dict = {}\n",
    "for i, v in spc_mf_dict.items():\n",
    "    moleFraction_dict.update({i:v[timepoint_index]})\n",
    "\n",
    "# Create species_identifier_didct for the core species    \n",
    "species_identifier_dict = {}\n",
    "for i, s in enumerate(model.core.species):\n",
    "    species_identifier_dict.update({getSpeciesIdentifier(model.core.species[i]): s})\n",
    "\n",
    "# find the total consumption of the reactant in mol (positive value means consumption)\n",
    "reactantConsumption = 0 # \n",
    "for t in range(timepoint_index):\n",
    "    reactantROP0 = spc_total_rop_dict[reactant_name][1][t] # in mole/cm3*s\n",
    "    reactantROP1 = spc_total_rop_dict[reactant_name][1][t+1] # in mole/cm3*s\n",
    "    #integrate the flux using a trapezoidal rule\n",
    "    reactantConsumption += 0.5 * (reactantROP1 * Vlist[t+1] + reactantROP0 * Vlist[t]) * (timeList[t+1] - timeList[t])\n",
    "reactantConsumption = reactantConsumption * -1.0 # in mole\n",
    "\n",
    "if showIntegratedFlux:\n",
    "    print \"At this moment, the reactant's total molar consumption is {0:.3E} mole.\".format(reactantConsumption)\n",
    "\n",
    "# create DiGraph for this moment\n",
    "G = nx.DiGraph()\n",
    "for pair in graph_edges_dict:\n",
    "    node1 = getSpeciesIdentifier(pair[0])\n",
    "    node2 = getSpeciesIdentifier(pair[1])\n",
    "    e_rawdata = graph_edges_dict[pair]\n",
    "    total_flux = 0\n",
    "    for rxn in e_rawdata:\n",
    "        if showIntegratedFlux:\n",
    "            for t in range(timepoint_index):\n",
    "                rxnROP0 = e_rawdata[rxn][t] # in mole/cm3\n",
    "                rxnROP1 = e_rawdata[rxn][t+1] # in mole/cm3\n",
    "                #integrate the flux using a trapezoidal rule\n",
    "                total_flux += 0.5 * (rxnROP1 * Vlist[t+1] + rxnROP0 * Vlist[t]) * (timeList[t+1] - timeList[t]) # in mole\n",
    "        else:\n",
    "            total_flux += e_rawdata[rxn][timepoint_index] # in mole/cm3*s\n",
    "    if total_flux >= 0:\n",
    "        G.add_edge(node2, node1, {\"total_flux\":total_flux}) # in G, positive means production of node1\n",
    "    else: \n",
    "        G.add_edge(node1, node2, {\"total_flux\":-total_flux}) # in G, negative means consumption of node1   "
   ]
  },
  {
   "cell_type": "markdown",
   "metadata": {},
   "source": [
    "## [user input] Functionality 1: find most dominant species at the investigated time point\n",
    "\n",
    "Pleae specify\n",
    "\n",
    "- dominant_list: If you want to visualize the first top 10 dominant species, specify the list as [0, 9]. If you want to visualize from the 5th most dominant species to the 10th most dominant species, specify the list as [4, 9].\n"
   ]
  },
  {
   "cell_type": "code",
   "execution_count": 7,
   "metadata": {
    "collapsed": false
   },
   "outputs": [
    {
     "name": "stdout",
     "output_type": "stream",
     "text": [
      "==============================================================\n",
      "Order \t Species \t Mole Frac. \t MW (g/mol)\n",
      "==============================================================\n",
      "0 \t C(8044) \t 0.335172 \t 16\n"
     ]
    },
    {
     "data": {
      "image/png": "[encoded data removed]",
      "text/plain": [
       "Species(index=8044, label=\"C\", thermo=NASA(polynomials=[NASAPolynomial(coeffs=[5.14911,-0.0136622,4.91454e-05,-4.84247e-08,1.66603e-11,-10246.6,-4.63849], Tmin=(200,'K'), Tmax=(1000,'K')), NASAPolynomial(coeffs=[1.65326,0.0100263,-3.31661e-06,5.36483e-10,-3.14697e-14,-10009.6,9.90506], Tmin=(1000,'K'), Tmax=(6000,'K'))], Tmin=(200,'K'), Tmax=(6000,'K'), comment=\"\"\"Thermo library: FFCM1(-)\"\"\"), molecule=[Molecule(SMILES=\"C\")])"
      ]
     },
     "metadata": {},
     "output_type": "display_data"
    },
    {
     "name": "stdout",
     "output_type": "stream",
     "text": [
      "--------------------------------------------------------------\n",
      "1 \t S(15595) \t 0.2722374 \t 128\n"
     ]
    },
    {
     "data": {
      "image/png": "[encoded data removed]",
      "text/plain": [
       "Species(index=15595, label=\"C1=CC=C2C=CC=CC2=C1\", thermo=NASA(polynomials=[NASAPolynomial(coeffs=[1.19996,0.0371544,7.34729e-05,-1.20684e-07,4.81953e-11,15675.7,19.7998], Tmin=(100,'K'), Tmax=(969.31,'K')), NASAPolynomial(coeffs=[17.443,0.0309168,-1.09497e-05,2.08275e-09,-1.56072e-13,9670.94,-72.7888], Tmin=(969.31,'K'), Tmax=(5000,'K'))], Tmin=(100,'K'), Tmax=(5000,'K'), comment=\"\"\"Thermo group additivity estimation: group(Cbf-CbCbCbf) + other(R) + group(Cbf-CbCbCbf) + other(R) + group(Cb-H) + other(R) + group(Cb-H) + other(R) +\n",
       "group(Cb-H) + other(R) + group(Cb-H) + other(R) + group(Cb-H) + other(R) + group(Cb-H) + other(R) + group(Cb-H) + other(R) + group(Cb-H) + other(R) +\n",
       "polycyclic(s2_6_6_naphthalene)\"\"\"), molecule=[Molecule(SMILES=\"c1ccc2ccccc2c1\"), Molecule(SMILES=\"C1C=Cc2ccccc2C=1\")])"
      ]
     },
     "metadata": {},
     "output_type": "display_data"
    },
    {
     "name": "stdout",
     "output_type": "stream",
     "text": [
      "--------------------------------------------------------------\n",
      "2 \t H2(17) \t 0.1869485 \t 2\n"
     ]
    },
    {
     "data": {
      "image/png": "[encoded data removed]",
      "text/plain": [
       "Species(index=17, label=\"H2\", thermo=NASA(polynomials=[NASAPolynomial(coeffs=[3.42254,0.00028665,-4.14671e-07,4.27548e-10,-9.38119e-14,-1029.78,-3.86365], Tmin=(100,'K'), Tmax=(1962.85,'K')), NASAPolynomial(coeffs=[2.74219,0.000579539,1.97203e-07,-6.41095e-11,4.96003e-15,-552.038,0.414096], Tmin=(1962.85,'K'), Tmax=(5000,'K'))], Tmin=(100,'K'), Tmax=(5000,'K'), comment=\"\"\"Thermo library: BurkeH2O2\"\"\"), molecule=[Molecule(SMILES=\"[H][H]\")])"
      ]
     },
     "metadata": {},
     "output_type": "display_data"
    },
    {
     "name": "stdout",
     "output_type": "stream",
     "text": [
      "--------------------------------------------------------------\n",
      "3 \t S(21309) \t 0.05494496 \t 154\n"
     ]
    },
    {
     "data": {
      "image/png": "[encoded data removed]",
      "text/plain": [
       "Species(index=21309, label=\"CC1=CC2C=CC3C=CC=C1C=32\", thermo=NASA(polynomials=[NASAPolynomial(coeffs=[0.162854,0.0627597,2.97559e-05,-7.25902e-08,2.8166e-11,25717.9,31.7237], Tmin=(100,'K'), Tmax=(1067.7,'K')), NASAPolynomial(coeffs=[17.5859,0.0484703,-2.17965e-05,4.32298e-09,-3.15263e-13,19091.4,-67.0828], Tmin=(1067.7,'K'), Tmax=(5000,'K'))], Tmin=(100,'K'), Tmax=(5000,'K'), comment=\"\"\"Thermo group additivity estimation: group(Cs-(Cds-Cds)(Cds-Cds)CbH) + other(R) + group(Cs-(Cds-Cds)HHH) + other(R) + group(Cb-Cs) + other(R) + group\n",
       "(Cds-CdsCbCs) + other(R) + group(Cb-(Cds-Cds)) + other(R) + group(Cb-(Cds-Cds)) + other(R) + group(Cds-CdsCsH) + other(R) + group(Cds-CdsCsH) +\n",
       "other(R) + group(Cds-CdsCbH) + other(R) + group(Cb-H) + other(R) + group(Cb-H) + other(R) + group(Cb-H) + other(R) + polycyclic(s2_5_6_indene) +\n",
       "polycyclic(s2_5_6_indene) + polycyclic(s2_5_5_diene_1_6) - ring(Benzene) - ring(Cyclopentene) - ring(Cyclopentene)\"\"\"), molecule=[Molecule(SMILES=\"CC1=CC2C=Cc3cccc1c32\"), Molecule(SMILES=\"CC1=CC2C=CC3=CC=CC1=C32\"), Molecule(SMILES=\"CC1=CC2C=CC3C=CC=C1C=32\")])"
      ]
     },
     "metadata": {},
     "output_type": "display_data"
    },
    {
     "name": "stdout",
     "output_type": "stream",
     "text": [
      "--------------------------------------------------------------\n",
      "4 \t C2H4(34) \t 0.04425902 \t 28\n"
     ]
    },
    {
     "data": {
      "image/png": "[encoded data removed]",
      "text/plain": [
       "Species(index=34, label=\"C2H4\", thermo=NASA(polynomials=[NASAPolynomial(coeffs=[3.9592,-0.00757051,5.7099e-05,-6.91588e-08,2.69884e-11,5089.78,4.0973], Tmin=(200,'K'), Tmax=(1000,'K')), NASAPolynomial(coeffs=[3.99183,0.0104834,-3.71721e-06,5.94628e-10,-3.5363e-14,4268.66,-0.269082], Tmin=(1000,'K'), Tmax=(6000,'K'))], Tmin=(200,'K'), Tmax=(6000,'K'), comment=\"\"\"Thermo library: FFCM1(-)\"\"\"), molecule=[Molecule(SMILES=\"C=C\")])"
      ]
     },
     "metadata": {},
     "output_type": "display_data"
    },
    {
     "name": "stdout",
     "output_type": "stream",
     "text": [
      "--------------------------------------------------------------\n",
      "5 \t S(5714) \t 0.04163676 \t 128\n"
     ]
    },
    {
     "data": {
      "image/png": "[encoded data removed]",
      "text/plain": [
       "Species(index=5714, label=\"C=C1C=Cc2ccccc21\", thermo=NASA(polynomials=[NASAPolynomial(coeffs=[0.616655,0.0504445,4.44078e-05,-9.6256e-08,4.05399e-11,24368.2,23.5752], Tmin=(100,'K'), Tmax=(978.79,'K')), NASAPolynomial(coeffs=[20.5283,0.027572,-1.01914e-05,1.99497e-09,-1.51604e-13,17668.1,-86.375], Tmin=(978.79,'K'), Tmax=(5000,'K'))], Tmin=(100,'K'), Tmax=(5000,'K'), comment=\"\"\"Thermo group additivity estimation: group(Cb-(Cds-Cds)) + other(R) + group(Cb-(Cds-Cds)) + other(R) + group(Cds-Cds(Cds-Cds)Cb) + other(R) +\n",
       "group(Cb-H) + other(R) + group(Cb-H) + other(R) + group(Cds-CdsCbH) + other(R) + group(Cds-Cds(Cds-Cds)H) + other(R) + group(Cb-H) + other(R) +\n",
       "group(Cb-H) + other(R) + group(Cds-CdsHH) + other(R) + polycyclic(s2_5_6_indene)\"\"\"), molecule=[Molecule(SMILES=\"C=C1C=Cc2ccccc21\"), Molecule(SMILES=\"C=C1C=CC2=CC=CC=C12\"), Molecule(SMILES=\"C=C1C=CC2C=CC=CC=21\")])"
      ]
     },
     "metadata": {},
     "output_type": "display_data"
    },
    {
     "name": "stdout",
     "output_type": "stream",
     "text": [
      "--------------------------------------------------------------\n",
      "6 \t C2H2(2) \t 0.03271985 \t 26\n"
     ]
    },
    {
     "data": {
      "image/png": "[encoded data removed]",
      "text/plain": [
       "Species(index=2, label=\"C2H2\", thermo=NASA(polynomials=[NASAPolynomial(coeffs=[0.80868,0.0233616,-3.55172e-05,2.80153e-08,-8.50075e-12,26429,13.9397], Tmin=(200,'K'), Tmax=(1000,'K')), NASAPolynomial(coeffs=[4.65878,0.00488397,-1.60829e-06,2.46975e-10,-1.38606e-14,25759.4,-3.99838], Tmin=(1000,'K'), Tmax=(6000,'K'))], Tmin=(200,'K'), Tmax=(6000,'K'), comment=\"\"\"Thermo library: FFCM1(-)\"\"\"), molecule=[Molecule(SMILES=\"C#C\")])"
      ]
     },
     "metadata": {},
     "output_type": "display_data"
    },
    {
     "name": "stdout",
     "output_type": "stream",
     "text": [
      "--------------------------------------------------------------\n",
      "7 \t S(12974) \t 0.00958206 \t 66\n"
     ]
    },
    {
     "data": {
      "image/png": "[encoded data removed]",
      "text/plain": [
       "Species(index=12974, label=\"C1C=CCC=1\", thermo=NASA(polynomials=[NASAPolynomial(coeffs=[2.99606,0.00216963,9.45022e-05,-1.24718e-07,4.78987e-11,14755.2,12.7506], Tmin=(100,'K'), Tmax=(948.19,'K')), NASAPolynomial(coeffs=[12.3885,0.0133336,-3.50164e-06,6.76554e-10,-5.69774e-14,10691.1,-44.1013], Tmin=(948.19,'K'), Tmax=(5000,'K'))], Tmin=(100,'K'), Tmax=(5000,'K'), comment=\"\"\"Thermo group additivity estimation: group(Cs-(Cds-Cds)(Cds-Cds)HH) + other(R) + group(Cds-CdsCsH) + other(R) + group(Cds-CdsCsH) + other(R) + group\n",
       "(Cds-Cds(Cds-Cds)H) + other(R) + group(Cds-Cds(Cds-Cds)H) + other(R) + ring(Cyclopentadiene)\"\"\"), molecule=[Molecule(SMILES=\"C1C=CCC=1\")])"
      ]
     },
     "metadata": {},
     "output_type": "display_data"
    },
    {
     "name": "stdout",
     "output_type": "stream",
     "text": [
      "--------------------------------------------------------------\n",
      "8 \t C3H6(8424) \t 0.002972078 \t 42\n"
     ]
    },
    {
     "data": {
      "image/png": "[encoded data removed]",
      "text/plain": [
       "Species(index=8424, label=\"C=CC\", thermo=NASA(polynomials=[NASAPolynomial(coeffs=[3.31912,0.00817957,3.34737e-05,-4.36194e-08,1.58214e-11,749.325,9.54025], Tmin=(100,'K'), Tmax=(983.75,'K')), NASAPolynomial(coeffs=[5.36755,0.0170743,-6.35108e-06,1.1662e-09,-8.27621e-14,-487.136,-4.54465], Tmin=(983.75,'K'), Tmax=(5000,'K'))], Tmin=(100,'K'), Tmax=(5000,'K'), comment=\"\"\"Thermo library: DFT_QCI_thermo\"\"\"), molecule=[Molecule(SMILES=\"C=CC\")])"
      ]
     },
     "metadata": {},
     "output_type": "display_data"
    },
    {
     "name": "stdout",
     "output_type": "stream",
     "text": [
      "--------------------------------------------------------------\n",
      "9 \t C#CC(7679) \t 0.002838743 \t 40\n"
     ]
    },
    {
     "data": {
      "image/png": "[encoded data removed]",
      "text/plain": [
       "Species(index=7679, label=\"C#CC\", thermo=NASA(polynomials=[NASAPolynomial(coeffs=[3.30523,0.0109265,1.31986e-05,-2.25161e-08,8.87405e-12,20738.2,7.19164], Tmin=(100,'K'), Tmax=(969.99,'K')), NASAPolynomial(coeffs=[5.80056,0.0113536,-4.03489e-06,7.19059e-10,-5.02181e-14,19750,-7.36976], Tmin=(969.99,'K'), Tmax=(5000,'K'))], Tmin=(100,'K'), Tmax=(5000,'K'), comment=\"\"\"Thermo library: DFT_QCI_thermo\"\"\"), molecule=[Molecule(SMILES=\"C#CC\")])"
      ]
     },
     "metadata": {},
     "output_type": "display_data"
    },
    {
     "name": "stdout",
     "output_type": "stream",
     "text": [
      "--------------------------------------------------------------\n"
     ]
    }
   ],
   "source": [
    "########## User Input ####################\n",
    "dominant_list = [0, 9] \n",
    "##########################################\n",
    "\n",
    "\n",
    "# sort out the moleFraction_dict in the descending order\n",
    "v = list(moleFraction_dict.values())\n",
    "k = list(moleFraction_dict.keys())\n",
    "index_list = [i[0] for i in sorted(enumerate(v), key=lambda x:x[1], reverse=True)]\n",
    "print '=============================================================='\n",
    "print 'Order \\t Species \\t Mole Frac. \\t MW (g/mol)'\n",
    "print '=============================================================='\n",
    "\n",
    "for order in range(dominant_list[0], dominant_list[-1]+1):\n",
    "    index_number = index_list[order]\n",
    "    species_dominant = k[index_number]\n",
    "    molecule_dominant = species_identifier_dict.get(species_dominant)\n",
    "    mole_fraction = v[index_number]\n",
    "    molecular_weight = molecule_dominant.molecule[0].getMolecularWeight()*1000\n",
    "    if len(species_dominant) < 6: # if the species label is too short, put more space to allign it\n",
    "        print '{0} \\t {1} \\t\\t {2} \\t {3:.0f}'.format(order, species_dominant, mole_fraction, molecular_weight)\n",
    "    else:\n",
    "        print '{0} \\t {1} \\t {2} \\t {3:.0f}'.format(order, species_dominant, mole_fraction, molecular_weight)\n",
    "    display(molecule_dominant)\n",
    "    print '--------------------------------------------------------------'"
   ]
  },
  {
   "cell_type": "markdown",
   "metadata": {},
   "source": [
    "## [user input] Functionality 2: find paths between two species\n",
    "\n",
    "Pleae specify\n",
    "\n",
    "- source species\n",
    "\n",
    "- target species"
   ]
  },
  {
   "cell_type": "code",
   "execution_count": 8,
   "metadata": {
    "collapsed": true
   },
   "outputs": [],
   "source": [
    "########## User Input ####################\n",
    "src_species = 'C10H12(1)'\n",
    "tgt_species = 'C(8044)'\n",
    "##########################################"
   ]
  },
  {
   "cell_type": "markdown",
   "metadata": {},
   "source": [
    "## output1: sort out all the paths and most significant one"
   ]
  },
  {
   "cell_type": "code",
   "execution_count": 9,
   "metadata": {
    "collapsed": true
   },
   "outputs": [],
   "source": [
    "paths = list(nx.all_simple_paths(G, source=src_species, target=tgt_species, cutoff=5))"
   ]
  },
  {
   "cell_type": "code",
   "execution_count": 10,
   "metadata": {
    "collapsed": false
   },
   "outputs": [
    {
     "name": "stdout",
     "output_type": "stream",
     "text": [
      "========================================================================================================\n",
      "Path index \t Integrated Flux (mole)    Path steps\n",
      "\n",
      "Path #0: \t 0.000E+00 \t\t  ['C10H12(1)', 'H(5)', 'C3H5(1795)', 'C3H5(8050)', 'CH3(3)', 'C(8044)']\n",
      "Path #1: \t 0.000E+00 \t\t  ['C10H12(1)', 'H(5)', 'C3H5(1795)', 'C3H6(8424)', 'CH3(3)', 'C(8044)']\n",
      "Path #2: \t 0.000E+00 \t\t  ['C10H12(1)', 'H(5)', 'C4H7(501)', 'C4H8(8817)', 'CH3(3)', 'C(8044)']\n",
      "Path #3: \t 0.000E+00 \t\t  ['C10H12(1)', 'H(5)', 'S(5325)', 'C3H5(8050)', 'CH3(3)', 'C(8044)']\n",
      "Path #4: \t 0.000E+00 \t\t  ['C10H12(1)', 'H(5)', 'CH3(3)', 'C(8044)']\n",
      "Path #5: \t 0.000E+00 \t\t  ['C10H12(1)', 'H(5)', 'C2H5(4)', 'CH3(3)', 'C(8044)']\n",
      "Path #6: \t 0.000E+00 \t\t  ['C10H12(1)', 'H(5)', 'C3H5(8050)', 'CH3(3)', 'C(8044)']\n",
      "Path #7: \t 0.000E+00 \t\t  ['C10H12(1)', 'H(5)', 'S(18377)', 'C3H6(8424)', 'CH3(3)', 'C(8044)']\n",
      "Path #8: \t 0.000E+00 \t\t  ['C10H12(1)', 'S(105)', 'S(121)', 'H(5)', 'CH3(3)', 'C(8044)']\n",
      "Path #9: \t 0.000E+00 \t\t  ['C10H12(1)', 'S(105)', 'S(104)', 'H(5)', 'CH3(3)', 'C(8044)']\n",
      "Path #10: \t 0.000E+00 \t\t  ['C10H12(1)', 'S(104)', 'H(5)', 'CH3(3)', 'C(8044)']\n",
      "Path #11: \t 1.984E-06 \t\t  ['C10H12(1)', 'S(104)', 'H(5)', 'C2H5(4)', 'CH3(3)', 'C(8044)']\n",
      "Path #12: \t 1.237E-05 \t\t  ['C10H12(1)', 'S(104)', 'H(5)', 'C3H5(8050)', 'CH3(3)', 'C(8044)']\n",
      "Path #13: \t 0.000E+00 \t\t  ['C10H12(1)', 'S(104)', 'pdt38(77)', 'H(5)', 'CH3(3)', 'C(8044)']\n",
      "Path #14: \t 0.000E+00 \t\t  ['C10H12(1)', 'S(104)', 'pdt38(77)', 'C3H5(8050)', 'CH3(3)', 'C(8044)']\n",
      "Path #15: \t 0.000E+00 \t\t  ['C10H12(1)', 'S(104)', 'S(120)', 'H(5)', 'CH3(3)', 'C(8044)']\n",
      "Path #16: \t 0.000E+00 \t\t  ['C10H12(1)', 'S(104)', 'S(120)', 'C3H5(8050)', 'CH3(3)', 'C(8044)']\n",
      "Path #17: \t 0.000E+00 \t\t  ['C10H12(1)', 'S(167)', 'S(1453)', 'H(5)', 'CH3(3)', 'C(8044)']\n",
      "\n",
      "=======================================================\n",
      "\t Most Significant Path \n",
      "=======================================================\n",
      "Path index \t Integrated Flux (mole)\n",
      "Path #12: \t 1.237E-05\n"
     ]
    }
   ],
   "source": [
    "path_fluxes = []\n",
    "if showIntegratedFlux:\n",
    "    print '========================================================================================================'\n",
    "    print 'Path index \\t Integrated Flux (mole)    Path steps'\n",
    "else:\n",
    "    print '================================================'\n",
    "    print 'Path index \\t Flux (mole/cm3/s)    Path steps'\n",
    "print ''\n",
    "\n",
    "for i, path in enumerate(paths):\n",
    "    \n",
    "    path_steps = len(path) - 1\n",
    "    fluxes = [G[path[step]][path[step+1]]['total_flux'] for step in range(path_steps) ]\n",
    "    path_fluxes.append(min(fluxes))\n",
    "    if showIntegratedFlux:\n",
    "        print 'Path #{0}: \\t {1:.3E} \\t\\t  {2}'.format(i, min(fluxes), path)\n",
    "    else:\n",
    "        print 'Path #{0}: \\t {1:.3E} \\t {2}'.format(i, min(fluxes), path)\n",
    "sorted_path_fluxes = sorted(path_fluxes)\n",
    "\n",
    "print ''\n",
    "print '======================================================='\n",
    "print '\\t Most Significant Path '\n",
    "print '======================================================='\n",
    "if showIntegratedFlux:\n",
    "    print 'Path index \\t Integrated Flux (mole)'\n",
    "    print 'Path #{0}: \\t {1:.3E}'.format(path_fluxes.index(sorted_path_fluxes[-1]), sorted_path_fluxes[-1])\n",
    "else:\n",
    "    print 'Path index \\t Flux (mole/cm3/s)'\n",
    "    print 'Path #{0}: \\t {1:.3E} '.format(path_fluxes.index(sorted_path_fluxes[-1]), sorted_path_fluxes[-1])"
   ]
  },
  {
   "cell_type": "markdown",
   "metadata": {},
   "source": [
    "### [user input] output2: visualize the path of interest\n",
    "\n",
    "Please specify\n",
    "\n",
    "- the path index you want to visualize"
   ]
  },
  {
   "cell_type": "code",
   "execution_count": 11,
   "metadata": {
    "collapsed": false
   },
   "outputs": [
    {
     "name": "stdout",
     "output_type": "stream",
     "text": [
      "\n",
      "\t Pathway Report \n",
      "======================================\n",
      "The pathway you are intested in has 6 steps.\n",
      "\n",
      "Step1 \t\t\t\t Integrated Flux (mole)\n",
      "***********************************************************************\n",
      "C10H12(1) --> S(104) \t\t 4.288E-05\n",
      "***********************************************************************\n",
      "\n",
      "Example H_Abstraction: rxn#15 (1/5 H_Abs): \n",
      "\n",
      "C2H3(33) + tetralin(1) <=> C2H4(34) + [CH]1CCc2ccccc2C1(104)\n"
     ]
    },
    {
     "data": {
      "image/png": "[encoded data removed]",
      "text/plain": [
       "Reaction(index=15, reactants=[Species(index=33, label=\"C2H3\", thermo=NASA(polynomials=[NASAPolynomial(coeffs=[3.36378,0.000265766,2.79621e-05,-3.72987e-08,1.5159e-11,34475,7.9151], Tmin=(200,'K'), Tmax=(1000,'K')), NASAPolynomial(coeffs=[4.15027,0.00754021,-2.62998e-06,4.15974e-10,-2.45408e-14,33856.6,1.72812], Tmin=(1000,'K'), Tmax=(6000,'K'))], Tmin=(200,'K'), Tmax=(6000,'K'), comment=\"\"\"Thermo library: FFCM1(-)\"\"\"), molecule=[Molecule(SMILES=\"[CH]=C\")]), Species(index=1, label=\"tetralin\", thermo=NASA(polynomials=[NASAPolynomial(coeffs=[0.941246,0.0443664,7.03059e-05,-1.10293e-07,4.13303e-11,2619.64,23.0353], Tmin=(100,'K'), Tmax=(1015.26,'K')), NASAPolynomial(coeffs=[14.1091,0.0490005,-2.00383e-05,3.85942e-09,-2.8011e-13,-2966.71,-55.0357], Tmin=(1015.26,'K'), Tmax=(5000,'K'))], Tmin=(100,'K'), Tmax=(5000,'K'), comment=\"\"\"Thermo group additivity estimation: group(Cs-CsCsHH) + other(R) + group(Cs-CsCsHH) + other(R) + group(Cs-CbCsHH) + other(R) + group(Cs-CbCsHH) +\n",
       "other(R) + group(Cb-Cs) + other(R) + group(Cb-Cs) + other(R) + group(Cb-H) + other(R) + group(Cb-H) + other(R) + group(Cb-H) + other(R) + group(Cb-H)\n",
       "+ other(R) + polycyclic(s2_6_6_ben)\"\"\"), molecule=[Molecule(SMILES=\"c1ccc2CCCCc2c1\"), Molecule(SMILES=\"C1C=CC2CCCCC=2C=1\"), Molecule(SMILES=\"C1=CC=C2CCCCC2=C1\")])], products=[Species(index=34, label=\"C2H4\", thermo=NASA(polynomials=[NASAPolynomial(coeffs=[3.9592,-0.00757051,5.7099e-05,-6.91588e-08,2.69884e-11,5089.78,4.0973], Tmin=(200,'K'), Tmax=(1000,'K')), NASAPolynomial(coeffs=[3.99183,0.0104834,-3.71721e-06,5.94628e-10,-3.5363e-14,4268.66,-0.269082], Tmin=(1000,'K'), Tmax=(6000,'K'))], Tmin=(200,'K'), Tmax=(6000,'K'), comment=\"\"\"Thermo library: FFCM1(-)\"\"\"), molecule=[Molecule(SMILES=\"C=C\")]), Species(index=104, label=\"[CH]1CCc2ccccc2C1\", thermo=NASA(polynomials=[NASAPolynomial(coeffs=[1.20453,0.0446455,4.74966e-05,-7.63689e-08,2.7343e-11,25992.4,24.659], Tmin=(100,'K'), Tmax=(1062.51,'K')), NASAPolynomial(coeffs=[10.2157,0.0523625,-2.21846e-05,4.23746e-09,-3.01754e-13,21727,-30.4223], Tmin=(1062.51,'K'), Tmax=(5000,'K'))], Tmin=(100,'K'), Tmax=(5000,'K'), comment=\"\"\"Thermo group additivity estimation: group(Cs-CsCsHH) + other(R) + group(Cs-CsCsHH) + other(R) + group(Cs-CbCsHH) + other(R) + group(Cs-CbCsHH) +\n",
       "other(R) + group(Cb-Cs) + other(R) + group(Cb-Cs) + other(R) + group(Cb-H) + other(R) + group(Cb-H) + other(R) + group(Cb-H) + other(R) + group(Cb-H)\n",
       "+ other(R) + polycyclic(s2_6_6_ben) + radical(RCCJCC)\"\"\"), molecule=[Molecule(SMILES=\"[CH]1CCc2ccccc2C1\"), Molecule(SMILES=\"[CH]1CCC2C=CC=CC=2C1\"), Molecule(SMILES=\"[CH]1CCC2=CC=CC=C2C1\")])], kinetics=Arrhenius(A=(14.57,'cm^3/(mol*s)'), n=3.5, Ea=(4.84,'kcal/mol'), T0=(1,'K'), comment=\"\"\"Average of [Average of [Average of [C/H2/CsO;Cd_Cd\\H2_pri_rad]] + C/H2/NonDeC;Cd_pri_rad]\n",
       "Estimated using average of templates [C_sec;Cd_Cd\\H2_pri_rad] + [C/H2/NonDeC;Cd_pri_rad] for rate rule [C/H2/NonDeC;Cd_Cd\\H2_pri_rad]\n",
       "Multiplied by reaction path degeneracy 4\n",
       "Kinetics were estimated in this direction instead of the reverse because:\n",
       "Both directions are estimates, but this direction is exergonic.\n",
       "dHrxn(298 K) = -50.16 kJ/mol, dGrxn(298 K) = -52.00 kJ/mol\"\"\"), pairs=[(Species(index=1, label=\"tetralin\", thermo=NASA(polynomials=[NASAPolynomial(coeffs=[0.941246,0.0443664,7.03059e-05,-1.10293e-07,4.13303e-11,2619.64,23.0353], Tmin=(100,'K'), Tmax=(1015.26,'K')), NASAPolynomial(coeffs=[14.1091,0.0490005,-2.00383e-05,3.85942e-09,-2.8011e-13,-2966.71,-55.0357], Tmin=(1015.26,'K'), Tmax=(5000,'K'))], Tmin=(100,'K'), Tmax=(5000,'K'), comment=\"\"\"Thermo group additivity estimation: group(Cs-CsCsHH) + other(R) + group(Cs-CsCsHH) + other(R) + group(Cs-CbCsHH) + other(R) + group(Cs-CbCsHH) +\n",
       "other(R) + group(Cb-Cs) + other(R) + group(Cb-Cs) + other(R) + group(Cb-H) + other(R) + group(Cb-H) + other(R) + group(Cb-H) + other(R) + group(Cb-H)\n",
       "+ other(R) + polycyclic(s2_6_6_ben)\"\"\"), molecule=[Molecule(SMILES=\"c1ccc2CCCCc2c1\"), Molecule(SMILES=\"C1C=CC2CCCCC=2C=1\"), Molecule(SMILES=\"C1=CC=C2CCCCC2=C1\")]), Species(index=104, label=\"[CH]1CCc2ccccc2C1\", thermo=NASA(polynomials=[NASAPolynomial(coeffs=[1.20453,0.0446455,4.74966e-05,-7.63689e-08,2.7343e-11,25992.4,24.659], Tmin=(100,'K'), Tmax=(1062.51,'K')), NASAPolynomial(coeffs=[10.2157,0.0523625,-2.21846e-05,4.23746e-09,-3.01754e-13,21727,-30.4223], Tmin=(1062.51,'K'), Tmax=(5000,'K'))], Tmin=(100,'K'), Tmax=(5000,'K'), comment=\"\"\"Thermo group additivity estimation: group(Cs-CsCsHH) + other(R) + group(Cs-CsCsHH) + other(R) + group(Cs-CbCsHH) + other(R) + group(Cs-CbCsHH) +\n",
       "other(R) + group(Cb-Cs) + other(R) + group(Cb-Cs) + other(R) + group(Cb-H) + other(R) + group(Cb-H) + other(R) + group(Cb-H) + other(R) + group(Cb-H)\n",
       "+ other(R) + polycyclic(s2_6_6_ben) + radical(RCCJCC)\"\"\"), molecule=[Molecule(SMILES=\"[CH]1CCc2ccccc2C1\"), Molecule(SMILES=\"[CH]1CCC2C=CC=CC=2C1\"), Molecule(SMILES=\"[CH]1CCC2=CC=CC=C2C1\")])), (Species(index=33, label=\"C2H3\", thermo=NASA(polynomials=[NASAPolynomial(coeffs=[3.36378,0.000265766,2.79621e-05,-3.72987e-08,1.5159e-11,34475,7.9151], Tmin=(200,'K'), Tmax=(1000,'K')), NASAPolynomial(coeffs=[4.15027,0.00754021,-2.62998e-06,4.15974e-10,-2.45408e-14,33856.6,1.72812], Tmin=(1000,'K'), Tmax=(6000,'K'))], Tmin=(200,'K'), Tmax=(6000,'K'), comment=\"\"\"Thermo library: FFCM1(-)\"\"\"), molecule=[Molecule(SMILES=\"[CH]=C\")]), Species(index=34, label=\"C2H4\", thermo=NASA(polynomials=[NASAPolynomial(coeffs=[3.9592,-0.00757051,5.7099e-05,-6.91588e-08,2.69884e-11,5089.78,4.0973], Tmin=(200,'K'), Tmax=(1000,'K')), NASAPolynomial(coeffs=[3.99183,0.0104834,-3.71721e-06,5.94628e-10,-3.5363e-14,4268.66,-0.269082], Tmin=(1000,'K'), Tmax=(6000,'K'))], Tmin=(200,'K'), Tmax=(6000,'K'), comment=\"\"\"Thermo library: FFCM1(-)\"\"\"), molecule=[Molecule(SMILES=\"C=C\")]))])"
      ]
     },
     "metadata": {},
     "output_type": "display_data"
    },
    {
     "name": "stdout",
     "output_type": "stream",
     "text": [
      "Forward rate coefficient at 1200 K: 1.15E+05 [cm3, mole, s]\n",
      "Reverse rate coefficient at 1200 K: 6.74E+02 [cm3, mole, s]\n",
      "\n",
      "\n",
      "Step2 \t\t\t\t Integrated Flux (mole)\n",
      "***********************************************************************\n",
      "S(104) --> H(5) \t\t 1.237E-05\n",
      "***********************************************************************\n",
      "\n",
      "Example reaction: rxn#82\n",
      "\n",
      "H(5) + C1=Cc2ccccc2CC1(120) <=> [CH]1CCc2ccccc2C1(104)\n"
     ]
    },
    {
     "data": {
      "image/png": "[encoded data removed]",
      "text/plain": [
       "Reaction(index=82, reactants=[Species(index=5, label=\"H\", thermo=NASA(polynomials=[NASAPolynomial(coeffs=[2.5,-2.38914e-13,3.12709e-16,-1.33367e-19,1.7499e-23,25472.7,-0.459566], Tmin=(100,'K'), Tmax=(4383.16,'K')), NASAPolynomial(coeffs=[2.50003,-3.04997e-08,1.01101e-11,-1.48797e-15,8.20356e-20,25472.7,-0.459785], Tmin=(4383.16,'K'), Tmax=(5000,'K'))], Tmin=(100,'K'), Tmax=(5000,'K'), comment=\"\"\"Thermo library: BurkeH2O2\"\"\"), molecule=[Molecule(SMILES=\"[H]\")]), Species(index=120, label=\"C1=Cc2ccccc2CC1\", thermo=NASA(polynomials=[NASAPolynomial(coeffs=[1.04641,0.0420381,6.64033e-05,-1.08245e-07,4.16529e-11,14765,22.2122], Tmin=(100,'K'), Tmax=(1000.98,'K')), NASAPolynomial(coeffs=[15.4603,0.0408463,-1.63394e-05,3.16081e-09,-2.3194e-13,9053.5,-61.4564], Tmin=(1000.98,'K'), Tmax=(5000,'K'))], Tmin=(100,'K'), Tmax=(5000,'K'), comment=\"\"\"Thermo group additivity estimation: group(Cs-CbCsHH) + other(R) + group(Cs-(Cds-Cds)CsHH) + other(R) + group(Cb-Cs) + other(R) + group(Cb-(Cds-Cds)) +\n",
       "other(R) + group(Cds-CdsCsH) + other(R) + group(Cb-H) + other(R) + group(Cds-CdsCbH) + other(R) + group(Cb-H) + other(R) + group(Cb-H) + other(R) +\n",
       "group(Cb-H) + other(R) + polycyclic(s2_6_6_ben_ene_1)\"\"\"), molecule=[Molecule(SMILES=\"C1=Cc2ccccc2CC1\"), Molecule(SMILES=\"C1=CC=C2CCC=CC2=C1\"), Molecule(SMILES=\"C1C=CC2CCC=CC=2C=1\")])], products=[Species(index=104, label=\"[CH]1CCc2ccccc2C1\", thermo=NASA(polynomials=[NASAPolynomial(coeffs=[1.20453,0.0446455,4.74966e-05,-7.63689e-08,2.7343e-11,25992.4,24.659], Tmin=(100,'K'), Tmax=(1062.51,'K')), NASAPolynomial(coeffs=[10.2157,0.0523625,-2.21846e-05,4.23746e-09,-3.01754e-13,21727,-30.4223], Tmin=(1062.51,'K'), Tmax=(5000,'K'))], Tmin=(100,'K'), Tmax=(5000,'K'), comment=\"\"\"Thermo group additivity estimation: group(Cs-CsCsHH) + other(R) + group(Cs-CsCsHH) + other(R) + group(Cs-CbCsHH) + other(R) + group(Cs-CbCsHH) +\n",
       "other(R) + group(Cb-Cs) + other(R) + group(Cb-Cs) + other(R) + group(Cb-H) + other(R) + group(Cb-H) + other(R) + group(Cb-H) + other(R) + group(Cb-H)\n",
       "+ other(R) + polycyclic(s2_6_6_ben) + radical(RCCJCC)\"\"\"), molecule=[Molecule(SMILES=\"[CH]1CCc2ccccc2C1\"), Molecule(SMILES=\"[CH]1CCC2C=CC=CC=2C1\"), Molecule(SMILES=\"[CH]1CCC2=CC=CC=C2C1\")])], kinetics=Arrhenius(A=(2.514e+08,'cm^3/(mol*s)'), n=1.545, Ea=(3.073,'kcal/mol'), T0=(1,'K'), comment=\"\"\"Cds-CbH_Cds-CsH;HJ from training reaction 140\n",
       "Exact match found for rate rule [Cds-CbH_Cds-CsH;HJ]\"\"\"), pairs=[(Species(index=120, label=\"C1=Cc2ccccc2CC1\", thermo=NASA(polynomials=[NASAPolynomial(coeffs=[1.04641,0.0420381,6.64033e-05,-1.08245e-07,4.16529e-11,14765,22.2122], Tmin=(100,'K'), Tmax=(1000.98,'K')), NASAPolynomial(coeffs=[15.4603,0.0408463,-1.63394e-05,3.16081e-09,-2.3194e-13,9053.5,-61.4564], Tmin=(1000.98,'K'), Tmax=(5000,'K'))], Tmin=(100,'K'), Tmax=(5000,'K'), comment=\"\"\"Thermo group additivity estimation: group(Cs-CbCsHH) + other(R) + group(Cs-(Cds-Cds)CsHH) + other(R) + group(Cb-Cs) + other(R) + group(Cb-(Cds-Cds)) +\n",
       "other(R) + group(Cds-CdsCsH) + other(R) + group(Cb-H) + other(R) + group(Cds-CdsCbH) + other(R) + group(Cb-H) + other(R) + group(Cb-H) + other(R) +\n",
       "group(Cb-H) + other(R) + polycyclic(s2_6_6_ben_ene_1)\"\"\"), molecule=[Molecule(SMILES=\"C1=Cc2ccccc2CC1\"), Molecule(SMILES=\"C1=CC=C2CCC=CC2=C1\"), Molecule(SMILES=\"C1C=CC2CCC=CC=2C=1\")]), Species(index=104, label=\"[CH]1CCc2ccccc2C1\", thermo=NASA(polynomials=[NASAPolynomial(coeffs=[1.20453,0.0446455,4.74966e-05,-7.63689e-08,2.7343e-11,25992.4,24.659], Tmin=(100,'K'), Tmax=(1062.51,'K')), NASAPolynomial(coeffs=[10.2157,0.0523625,-2.21846e-05,4.23746e-09,-3.01754e-13,21727,-30.4223], Tmin=(1062.51,'K'), Tmax=(5000,'K'))], Tmin=(100,'K'), Tmax=(5000,'K'), comment=\"\"\"Thermo group additivity estimation: group(Cs-CsCsHH) + other(R) + group(Cs-CsCsHH) + other(R) + group(Cs-CbCsHH) + other(R) + group(Cs-CbCsHH) +\n",
       "other(R) + group(Cb-Cs) + other(R) + group(Cb-Cs) + other(R) + group(Cb-H) + other(R) + group(Cb-H) + other(R) + group(Cb-H) + other(R) + group(Cb-H)\n",
       "+ other(R) + polycyclic(s2_6_6_ben) + radical(RCCJCC)\"\"\"), molecule=[Molecule(SMILES=\"[CH]1CCc2ccccc2C1\"), Molecule(SMILES=\"[CH]1CCC2C=CC=CC=2C1\"), Molecule(SMILES=\"[CH]1CCC2=CC=CC=C2C1\")])), (Species(index=5, label=\"H\", thermo=NASA(polynomials=[NASAPolynomial(coeffs=[2.5,-2.38914e-13,3.12709e-16,-1.33367e-19,1.7499e-23,25472.7,-0.459566], Tmin=(100,'K'), Tmax=(4383.16,'K')), NASAPolynomial(coeffs=[2.50003,-3.04997e-08,1.01101e-11,-1.48797e-15,8.20356e-20,25472.7,-0.459785], Tmin=(4383.16,'K'), Tmax=(5000,'K'))], Tmin=(100,'K'), Tmax=(5000,'K'), comment=\"\"\"Thermo library: BurkeH2O2\"\"\"), molecule=[Molecule(SMILES=\"[H]\")]), Species(index=104, label=\"[CH]1CCc2ccccc2C1\", thermo=NASA(polynomials=[NASAPolynomial(coeffs=[1.20453,0.0446455,4.74966e-05,-7.63689e-08,2.7343e-11,25992.4,24.659], Tmin=(100,'K'), Tmax=(1062.51,'K')), NASAPolynomial(coeffs=[10.2157,0.0523625,-2.21846e-05,4.23746e-09,-3.01754e-13,21727,-30.4223], Tmin=(1062.51,'K'), Tmax=(5000,'K'))], Tmin=(100,'K'), Tmax=(5000,'K'), comment=\"\"\"Thermo group additivity estimation: group(Cs-CsCsHH) + other(R) + group(Cs-CsCsHH) + other(R) + group(Cs-CbCsHH) + other(R) + group(Cs-CbCsHH) +\n",
       "other(R) + group(Cb-Cs) + other(R) + group(Cb-Cs) + other(R) + group(Cb-H) + other(R) + group(Cb-H) + other(R) + group(Cb-H) + other(R) + group(Cb-H)\n",
       "+ other(R) + polycyclic(s2_6_6_ben) + radical(RCCJCC)\"\"\"), molecule=[Molecule(SMILES=\"[CH]1CCc2ccccc2C1\"), Molecule(SMILES=\"[CH]1CCC2C=CC=CC=2C1\"), Molecule(SMILES=\"[CH]1CCC2=CC=CC=C2C1\")]))])"
      ]
     },
     "metadata": {},
     "output_type": "display_data"
    },
    {
     "name": "stdout",
     "output_type": "stream",
     "text": [
      "Forward rate coefficient at 1200 K: 3.96E+06 [cm3, mole, s]\n",
      "Reverse rate coefficient at 1200 K: 1.94E+07 [cm3, mole, s]\n",
      "\n",
      "Example reaction: rxn#30\n",
      "\n",
      "H(5) + pdt38(77) <=> [CH]1CCc2ccccc2C1(104)\n"
     ]
    },
    {
     "data": {
      "image/png": "[encoded data removed]",
      "text/plain": [
       "Reaction(index=30, reactants=[Species(index=5, label=\"H\", thermo=NASA(polynomials=[NASAPolynomial(coeffs=[2.5,-2.38914e-13,3.12709e-16,-1.33367e-19,1.7499e-23,25472.7,-0.459566], Tmin=(100,'K'), Tmax=(4383.16,'K')), NASAPolynomial(coeffs=[2.50003,-3.04997e-08,1.01101e-11,-1.48797e-15,8.20356e-20,25472.7,-0.459785], Tmin=(4383.16,'K'), Tmax=(5000,'K'))], Tmin=(100,'K'), Tmax=(5000,'K'), comment=\"\"\"Thermo library: BurkeH2O2\"\"\"), molecule=[Molecule(SMILES=\"[H]\")]), Species(index=77, label=\"pdt38\", thermo=NASA(polynomials=[NASAPolynomial(coeffs=[1.00971,0.0386122,8.58889e-05,-1.3611e-07,5.3554e-11,15415,23.5963], Tmin=(100,'K'), Tmax=(975.36,'K')), NASAPolynomial(coeffs=[18.3158,0.0352477,-1.29118e-05,2.48863e-09,-1.86786e-13,8823.12,-75.9497], Tmin=(975.36,'K'), Tmax=(5000,'K'))], Tmin=(100,'K'), Tmax=(5000,'K'), comment=\"\"\"Thermo group additivity estimation: group(Cs-(Cds-Cds)CbHH) + other(R) + group(Cs-(Cds-Cds)CbHH) + other(R) + group(Cb-Cs) + other(R) + group(Cb-Cs) +\n",
       "other(R) + group(Cds-CdsCsH) + other(R) + group(Cds-CdsCsH) + other(R) + group(Cb-H) + other(R) + group(Cb-H) + other(R) + group(Cb-H) + other(R) +\n",
       "group(Cb-H) + other(R) + polycyclic(s2_6_6_ben_ene_2)\"\"\"), molecule=[Molecule(SMILES=\"C1=CCc2ccccc2C1\"), Molecule(SMILES=\"C1C=CC2CC=CCC=2C=1\"), Molecule(SMILES=\"C1=CC=C2CC=CCC2=C1\")])], products=[Species(index=104, label=\"[CH]1CCc2ccccc2C1\", thermo=NASA(polynomials=[NASAPolynomial(coeffs=[1.20453,0.0446455,4.74966e-05,-7.63689e-08,2.7343e-11,25992.4,24.659], Tmin=(100,'K'), Tmax=(1062.51,'K')), NASAPolynomial(coeffs=[10.2157,0.0523625,-2.21846e-05,4.23746e-09,-3.01754e-13,21727,-30.4223], Tmin=(1062.51,'K'), Tmax=(5000,'K'))], Tmin=(100,'K'), Tmax=(5000,'K'), comment=\"\"\"Thermo group additivity estimation: group(Cs-CsCsHH) + other(R) + group(Cs-CsCsHH) + other(R) + group(Cs-CbCsHH) + other(R) + group(Cs-CbCsHH) +\n",
       "other(R) + group(Cb-Cs) + other(R) + group(Cb-Cs) + other(R) + group(Cb-H) + other(R) + group(Cb-H) + other(R) + group(Cb-H) + other(R) + group(Cb-H)\n",
       "+ other(R) + polycyclic(s2_6_6_ben) + radical(RCCJCC)\"\"\"), molecule=[Molecule(SMILES=\"[CH]1CCc2ccccc2C1\"), Molecule(SMILES=\"[CH]1CCC2C=CC=CC=2C1\"), Molecule(SMILES=\"[CH]1CCC2=CC=CC=C2C1\")])], kinetics=Arrhenius(A=(2.92e+08,'cm^3/(mol*s)'), n=1.64, Ea=(1.37,'kcal/mol'), T0=(1,'K'), comment=\"\"\"Exact match found for rate rule [Cds-CsH_Cds-CsH;HJ]\n",
       "Multiplied by reaction path degeneracy 2\"\"\"), pairs=[(Species(index=77, label=\"pdt38\", thermo=NASA(polynomials=[NASAPolynomial(coeffs=[1.00971,0.0386122,8.58889e-05,-1.3611e-07,5.3554e-11,15415,23.5963], Tmin=(100,'K'), Tmax=(975.36,'K')), NASAPolynomial(coeffs=[18.3158,0.0352477,-1.29118e-05,2.48863e-09,-1.86786e-13,8823.12,-75.9497], Tmin=(975.36,'K'), Tmax=(5000,'K'))], Tmin=(100,'K'), Tmax=(5000,'K'), comment=\"\"\"Thermo group additivity estimation: group(Cs-(Cds-Cds)CbHH) + other(R) + group(Cs-(Cds-Cds)CbHH) + other(R) + group(Cb-Cs) + other(R) + group(Cb-Cs) +\n",
       "other(R) + group(Cds-CdsCsH) + other(R) + group(Cds-CdsCsH) + other(R) + group(Cb-H) + other(R) + group(Cb-H) + other(R) + group(Cb-H) + other(R) +\n",
       "group(Cb-H) + other(R) + polycyclic(s2_6_6_ben_ene_2)\"\"\"), molecule=[Molecule(SMILES=\"C1=CCc2ccccc2C1\"), Molecule(SMILES=\"C1C=CC2CC=CCC=2C=1\"), Molecule(SMILES=\"C1=CC=C2CC=CCC2=C1\")]), Species(index=104, label=\"[CH]1CCc2ccccc2C1\", thermo=NASA(polynomials=[NASAPolynomial(coeffs=[1.20453,0.0446455,4.74966e-05,-7.63689e-08,2.7343e-11,25992.4,24.659], Tmin=(100,'K'), Tmax=(1062.51,'K')), NASAPolynomial(coeffs=[10.2157,0.0523625,-2.21846e-05,4.23746e-09,-3.01754e-13,21727,-30.4223], Tmin=(1062.51,'K'), Tmax=(5000,'K'))], Tmin=(100,'K'), Tmax=(5000,'K'), comment=\"\"\"Thermo group additivity estimation: group(Cs-CsCsHH) + other(R) + group(Cs-CsCsHH) + other(R) + group(Cs-CbCsHH) + other(R) + group(Cs-CbCsHH) +\n",
       "other(R) + group(Cb-Cs) + other(R) + group(Cb-Cs) + other(R) + group(Cb-H) + other(R) + group(Cb-H) + other(R) + group(Cb-H) + other(R) + group(Cb-H)\n",
       "+ other(R) + polycyclic(s2_6_6_ben) + radical(RCCJCC)\"\"\"), molecule=[Molecule(SMILES=\"[CH]1CCc2ccccc2C1\"), Molecule(SMILES=\"[CH]1CCC2C=CC=CC=2C1\"), Molecule(SMILES=\"[CH]1CCC2=CC=CC=C2C1\")])), (Species(index=5, label=\"H\", thermo=NASA(polynomials=[NASAPolynomial(coeffs=[2.5,-2.38914e-13,3.12709e-16,-1.33367e-19,1.7499e-23,25472.7,-0.459566], Tmin=(100,'K'), Tmax=(4383.16,'K')), NASAPolynomial(coeffs=[2.50003,-3.04997e-08,1.01101e-11,-1.48797e-15,8.20356e-20,25472.7,-0.459785], Tmin=(4383.16,'K'), Tmax=(5000,'K'))], Tmin=(100,'K'), Tmax=(5000,'K'), comment=\"\"\"Thermo library: BurkeH2O2\"\"\"), molecule=[Molecule(SMILES=\"[H]\")]), Species(index=104, label=\"[CH]1CCc2ccccc2C1\", thermo=NASA(polynomials=[NASAPolynomial(coeffs=[1.20453,0.0446455,4.74966e-05,-7.63689e-08,2.7343e-11,25992.4,24.659], Tmin=(100,'K'), Tmax=(1062.51,'K')), NASAPolynomial(coeffs=[10.2157,0.0523625,-2.21846e-05,4.23746e-09,-3.01754e-13,21727,-30.4223], Tmin=(1062.51,'K'), Tmax=(5000,'K'))], Tmin=(100,'K'), Tmax=(5000,'K'), comment=\"\"\"Thermo group additivity estimation: group(Cs-CsCsHH) + other(R) + group(Cs-CsCsHH) + other(R) + group(Cs-CbCsHH) + other(R) + group(Cs-CbCsHH) +\n",
       "other(R) + group(Cb-Cs) + other(R) + group(Cb-Cs) + other(R) + group(Cb-H) + other(R) + group(Cb-H) + other(R) + group(Cb-H) + other(R) + group(Cb-H)\n",
       "+ other(R) + polycyclic(s2_6_6_ben) + radical(RCCJCC)\"\"\"), molecule=[Molecule(SMILES=\"[CH]1CCc2ccccc2C1\"), Molecule(SMILES=\"[CH]1CCC2C=CC=CC=2C1\"), Molecule(SMILES=\"[CH]1CCC2=CC=CC=C2C1\")]))])"
      ]
     },
     "metadata": {},
     "output_type": "display_data"
    },
    {
     "name": "stdout",
     "output_type": "stream",
     "text": [
      "Forward rate coefficient at 1200 K: 1.84E+07 [cm3, mole, s]\n",
      "Reverse rate coefficient at 1200 K: 1.41E+08 [cm3, mole, s]\n",
      "\n",
      "\n",
      "Step3 \t\t\t\t Integrated Flux (mole)\n",
      "***********************************************************************\n",
      "H(5) --> C3H5(8050) \t\t 2.337E-05\n",
      "***********************************************************************\n",
      "\n",
      "Example reaction: rxn#1619\n",
      "\n",
      "C#CC(7679) + H(5) <=> [CH]=CC(8050)\n"
     ]
    },
    {
     "data": {
      "image/png": "[encoded data removed]",
      "text/plain": [
       "Reaction(index=1619, reactants=[Species(index=7679, label=\"C#CC\", thermo=NASA(polynomials=[NASAPolynomial(coeffs=[3.30523,0.0109265,1.31986e-05,-2.25161e-08,8.87405e-12,20738.2,7.19164], Tmin=(100,'K'), Tmax=(969.99,'K')), NASAPolynomial(coeffs=[5.80056,0.0113536,-4.03489e-06,7.19059e-10,-5.02181e-14,19750,-7.36976], Tmin=(969.99,'K'), Tmax=(5000,'K'))], Tmin=(100,'K'), Tmax=(5000,'K'), comment=\"\"\"Thermo library: DFT_QCI_thermo\"\"\"), molecule=[Molecule(SMILES=\"C#CC\")]), Species(index=5, label=\"H\", thermo=NASA(polynomials=[NASAPolynomial(coeffs=[2.5,-2.38914e-13,3.12709e-16,-1.33367e-19,1.7499e-23,25472.7,-0.459566], Tmin=(100,'K'), Tmax=(4383.16,'K')), NASAPolynomial(coeffs=[2.50003,-3.04997e-08,1.01101e-11,-1.48797e-15,8.20356e-20,25472.7,-0.459785], Tmin=(4383.16,'K'), Tmax=(5000,'K'))], Tmin=(100,'K'), Tmax=(5000,'K'), comment=\"\"\"Thermo library: BurkeH2O2\"\"\"), molecule=[Molecule(SMILES=\"[H]\")])], products=[Species(index=8050, label=\"[CH]=CC\", thermo=NASA(polynomials=[NASAPolynomial(coeffs=[3.22799,0.0118524,1.72176e-05,-2.70805e-08,1.0284e-11,30640.6,10.1788], Tmin=(100,'K'), Tmax=(988.72,'K')), NASAPolynomial(coeffs=[5.8112,0.0140189,-5.21088e-06,9.48992e-10,-6.67714e-14,29513.1,-5.37312], Tmin=(988.72,'K'), Tmax=(5000,'K'))], Tmin=(100,'K'), Tmax=(5000,'K'), comment=\"\"\"Thermo library: DFT_QCI_thermo\"\"\"), molecule=[Molecule(SMILES=\"[CH]=CC\")])], kinetics=Arrhenius(A=(2.276e+10,'cm^3/(mol*s)'), n=1.103, Ea=(4.911,'kcal/mol'), T0=(1,'K'), comment=\"\"\"Ct-Cs_Ct-H;HJ from training reaction 148\n",
       "Exact match found for rate rule [Ct-Cs_Ct-H;HJ]\"\"\"), pairs=[(Species(index=7679, label=\"C#CC\", thermo=NASA(polynomials=[NASAPolynomial(coeffs=[3.30523,0.0109265,1.31986e-05,-2.25161e-08,8.87405e-12,20738.2,7.19164], Tmin=(100,'K'), Tmax=(969.99,'K')), NASAPolynomial(coeffs=[5.80056,0.0113536,-4.03489e-06,7.19059e-10,-5.02181e-14,19750,-7.36976], Tmin=(969.99,'K'), Tmax=(5000,'K'))], Tmin=(100,'K'), Tmax=(5000,'K'), comment=\"\"\"Thermo library: DFT_QCI_thermo\"\"\"), molecule=[Molecule(SMILES=\"C#CC\")]), Species(index=8050, label=\"[CH]=CC\", thermo=NASA(polynomials=[NASAPolynomial(coeffs=[3.22799,0.0118524,1.72176e-05,-2.70805e-08,1.0284e-11,30640.6,10.1788], Tmin=(100,'K'), Tmax=(988.72,'K')), NASAPolynomial(coeffs=[5.8112,0.0140189,-5.21088e-06,9.48992e-10,-6.67714e-14,29513.1,-5.37312], Tmin=(988.72,'K'), Tmax=(5000,'K'))], Tmin=(100,'K'), Tmax=(5000,'K'), comment=\"\"\"Thermo library: DFT_QCI_thermo\"\"\"), molecule=[Molecule(SMILES=\"[CH]=CC\")])), (Species(index=5, label=\"H\", thermo=NASA(polynomials=[NASAPolynomial(coeffs=[2.5,-2.38914e-13,3.12709e-16,-1.33367e-19,1.7499e-23,25472.7,-0.459566], Tmin=(100,'K'), Tmax=(4383.16,'K')), NASAPolynomial(coeffs=[2.50003,-3.04997e-08,1.01101e-11,-1.48797e-15,8.20356e-20,25472.7,-0.459785], Tmin=(4383.16,'K'), Tmax=(5000,'K'))], Tmin=(100,'K'), Tmax=(5000,'K'), comment=\"\"\"Thermo library: BurkeH2O2\"\"\"), molecule=[Molecule(SMILES=\"[H]\")]), Species(index=8050, label=\"[CH]=CC\", thermo=NASA(polynomials=[NASAPolynomial(coeffs=[3.22799,0.0118524,1.72176e-05,-2.70805e-08,1.0284e-11,30640.6,10.1788], Tmin=(100,'K'), Tmax=(988.72,'K')), NASAPolynomial(coeffs=[5.8112,0.0140189,-5.21088e-06,9.48992e-10,-6.67714e-14,29513.1,-5.37312], Tmin=(988.72,'K'), Tmax=(5000,'K'))], Tmin=(100,'K'), Tmax=(5000,'K'), comment=\"\"\"Thermo library: DFT_QCI_thermo\"\"\"), molecule=[Molecule(SMILES=\"[CH]=CC\")]))])"
      ]
     },
     "metadata": {},
     "output_type": "display_data"
    },
    {
     "name": "stdout",
     "output_type": "stream",
     "text": [
      "Forward rate coefficient at 1200 K: 7.23E+06 [cm3, mole, s]\n",
      "Reverse rate coefficient at 1200 K: 1.24E+07 [cm3, mole, s]\n",
      "\n",
      "\n",
      "Step4 \t\t\t\t Integrated Flux (mole)\n",
      "***********************************************************************\n",
      "C3H5(8050) --> CH3(3) \t\t 4.050E-05\n",
      "***********************************************************************\n",
      "\n",
      "Example reaction: rxn#498\n",
      "\n",
      "CH3(3) + C2H2(2) <=> [CH]=CC(8050)\n"
     ]
    },
    {
     "data": {
      "image/png": "[encoded data removed]",
      "text/plain": [
       "Reaction(index=498, reactants=[Species(index=3, label=\"CH3\", thermo=NASA(polynomials=[NASAPolynomial(coeffs=[3.65718,0.0021266,5.45839e-06,-6.6181e-09,2.46571e-12,16422.7,1.67354], Tmin=(200,'K'), Tmax=(1000,'K')), NASAPolynomial(coeffs=[2.97812,0.00579785,-1.97558e-06,3.07298e-10,-1.79174e-14,16509.5,4.72248], Tmin=(1000,'K'), Tmax=(6000,'K'))], Tmin=(200,'K'), Tmax=(6000,'K'), comment=\"\"\"Thermo library: FFCM1(-)\"\"\"), molecule=[Molecule(SMILES=\"[CH3]\")]), Species(index=2, label=\"C2H2\", thermo=NASA(polynomials=[NASAPolynomial(coeffs=[0.80868,0.0233616,-3.55172e-05,2.80153e-08,-8.50075e-12,26429,13.9397], Tmin=(200,'K'), Tmax=(1000,'K')), NASAPolynomial(coeffs=[4.65878,0.00488397,-1.60829e-06,2.46975e-10,-1.38606e-14,25759.4,-3.99838], Tmin=(1000,'K'), Tmax=(6000,'K'))], Tmin=(200,'K'), Tmax=(6000,'K'), comment=\"\"\"Thermo library: FFCM1(-)\"\"\"), molecule=[Molecule(SMILES=\"C#C\")])], products=[Species(index=8050, label=\"[CH]=CC\", thermo=NASA(polynomials=[NASAPolynomial(coeffs=[3.22799,0.0118524,1.72176e-05,-2.70805e-08,1.0284e-11,30640.6,10.1788], Tmin=(100,'K'), Tmax=(988.72,'K')), NASAPolynomial(coeffs=[5.8112,0.0140189,-5.21088e-06,9.48992e-10,-6.67714e-14,29513.1,-5.37312], Tmin=(988.72,'K'), Tmax=(5000,'K'))], Tmin=(100,'K'), Tmax=(5000,'K'), comment=\"\"\"Thermo library: DFT_QCI_thermo\"\"\"), molecule=[Molecule(SMILES=\"[CH]=CC\")])], kinetics=Arrhenius(A=(133800,'cm^3/(mol*s)'), n=2.41, Ea=(6.77,'kcal/mol'), T0=(1,'K'), comment=\"\"\"Exact match found for rate rule [Ct-H_Ct-H;CsJ-HHH]\n",
       "Multiplied by reaction path degeneracy 2\"\"\"), pairs=[(Species(index=2, label=\"C2H2\", thermo=NASA(polynomials=[NASAPolynomial(coeffs=[0.80868,0.0233616,-3.55172e-05,2.80153e-08,-8.50075e-12,26429,13.9397], Tmin=(200,'K'), Tmax=(1000,'K')), NASAPolynomial(coeffs=[4.65878,0.00488397,-1.60829e-06,2.46975e-10,-1.38606e-14,25759.4,-3.99838], Tmin=(1000,'K'), Tmax=(6000,'K'))], Tmin=(200,'K'), Tmax=(6000,'K'), comment=\"\"\"Thermo library: FFCM1(-)\"\"\"), molecule=[Molecule(SMILES=\"C#C\")]), Species(index=8050, label=\"[CH]=CC\", thermo=NASA(polynomials=[NASAPolynomial(coeffs=[3.22799,0.0118524,1.72176e-05,-2.70805e-08,1.0284e-11,30640.6,10.1788], Tmin=(100,'K'), Tmax=(988.72,'K')), NASAPolynomial(coeffs=[5.8112,0.0140189,-5.21088e-06,9.48992e-10,-6.67714e-14,29513.1,-5.37312], Tmin=(988.72,'K'), Tmax=(5000,'K'))], Tmin=(100,'K'), Tmax=(5000,'K'), comment=\"\"\"Thermo library: DFT_QCI_thermo\"\"\"), molecule=[Molecule(SMILES=\"[CH]=CC\")])), (Species(index=3, label=\"CH3\", thermo=NASA(polynomials=[NASAPolynomial(coeffs=[3.65718,0.0021266,5.45839e-06,-6.6181e-09,2.46571e-12,16422.7,1.67354], Tmin=(200,'K'), Tmax=(1000,'K')), NASAPolynomial(coeffs=[2.97812,0.00579785,-1.97558e-06,3.07298e-10,-1.79174e-14,16509.5,4.72248], Tmin=(1000,'K'), Tmax=(6000,'K'))], Tmin=(200,'K'), Tmax=(6000,'K'), comment=\"\"\"Thermo library: FFCM1(-)\"\"\"), molecule=[Molecule(SMILES=\"[CH3]\")]), Species(index=8050, label=\"[CH]=CC\", thermo=NASA(polynomials=[NASAPolynomial(coeffs=[3.22799,0.0118524,1.72176e-05,-2.70805e-08,1.0284e-11,30640.6,10.1788], Tmin=(100,'K'), Tmax=(988.72,'K')), NASAPolynomial(coeffs=[5.8112,0.0140189,-5.21088e-06,9.48992e-10,-6.67714e-14,29513.1,-5.37312], Tmin=(988.72,'K'), Tmax=(5000,'K'))], Tmin=(100,'K'), Tmax=(5000,'K'), comment=\"\"\"Thermo library: DFT_QCI_thermo\"\"\"), molecule=[Molecule(SMILES=\"[CH]=CC\")]))])"
      ]
     },
     "metadata": {},
     "output_type": "display_data"
    },
    {
     "name": "stdout",
     "output_type": "stream",
     "text": [
      "Forward rate coefficient at 1200 K: 2.06E+05 [cm3, mole, s]\n",
      "Reverse rate coefficient at 1200 K: 2.70E+08 [cm3, mole, s]\n",
      "\n",
      "\n",
      "Step5 \t\t\t\t Integrated Flux (mole)\n",
      "***********************************************************************\n",
      "CH3(3) --> C(8044) \t\t 6.808E-05\n",
      "***********************************************************************\n",
      "\n",
      "Example H_Abstraction: rxn#503 (1/10 H_Abs): \n",
      "\n",
      "C(8044) + [c]1cccc2CCCCc12(106) <=> CH3(3) + tetralin(1)\n"
     ]
    },
    {
     "data": {
      "image/png": "[encoded data removed]",
      "text/plain": [
       "Reaction(index=503, reactants=[Species(index=8044, label=\"C\", thermo=NASA(polynomials=[NASAPolynomial(coeffs=[5.14911,-0.0136622,4.91454e-05,-4.84247e-08,1.66603e-11,-10246.6,-4.63849], Tmin=(200,'K'), Tmax=(1000,'K')), NASAPolynomial(coeffs=[1.65326,0.0100263,-3.31661e-06,5.36483e-10,-3.14697e-14,-10009.6,9.90506], Tmin=(1000,'K'), Tmax=(6000,'K'))], Tmin=(200,'K'), Tmax=(6000,'K'), comment=\"\"\"Thermo library: FFCM1(-)\"\"\"), molecule=[Molecule(SMILES=\"C\")]), Species(index=106, label=\"[c]1cccc2CCCCc12\", thermo=NASA(polynomials=[NASAPolynomial(coeffs=[0.889986,0.0480255,5.08608e-05,-9.00154e-08,3.46469e-11,33251.7,23.6793], Tmin=(100,'K'), Tmax=(1014.06,'K')), NASAPolynomial(coeffs=[14.101,0.0453332,-1.82571e-05,3.48218e-09,-2.51258e-13,28031.4,-52.7689], Tmin=(1014.06,'K'), Tmax=(5000,'K'))], Tmin=(100,'K'), Tmax=(5000,'K'), comment=\"\"\"Thermo group additivity estimation: group(Cs-CsCsHH) + other(R) + group(Cs-CsCsHH) + other(R) + group(Cs-CbCsHH) + other(R) + group(Cs-CbCsHH) +\n",
       "other(R) + group(Cb-Cs) + other(R) + group(Cb-Cs) + other(R) + group(Cb-H) + other(R) + group(Cb-H) + other(R) + group(Cb-H) + other(R) + group(Cb-H)\n",
       "+ other(R) + polycyclic(s2_6_6_ben) + radical(CbJ)\"\"\"), molecule=[Molecule(SMILES=\"[c]1cccc2CCCCc12\"), Molecule(SMILES=\"[C]1=CC=CC2CCCCC=21\"), Molecule(SMILES=\"[C]1C=CC=C2CCCCC=12\")])], products=[Species(index=3, label=\"CH3\", thermo=NASA(polynomials=[NASAPolynomial(coeffs=[3.65718,0.0021266,5.45839e-06,-6.6181e-09,2.46571e-12,16422.7,1.67354], Tmin=(200,'K'), Tmax=(1000,'K')), NASAPolynomial(coeffs=[2.97812,0.00579785,-1.97558e-06,3.07298e-10,-1.79174e-14,16509.5,4.72248], Tmin=(1000,'K'), Tmax=(6000,'K'))], Tmin=(200,'K'), Tmax=(6000,'K'), comment=\"\"\"Thermo library: FFCM1(-)\"\"\"), molecule=[Molecule(SMILES=\"[CH3]\")]), Species(index=1, label=\"tetralin\", thermo=NASA(polynomials=[NASAPolynomial(coeffs=[0.941246,0.0443664,7.03059e-05,-1.10293e-07,4.13303e-11,2619.64,23.0353], Tmin=(100,'K'), Tmax=(1015.26,'K')), NASAPolynomial(coeffs=[14.1091,0.0490005,-2.00383e-05,3.85942e-09,-2.8011e-13,-2966.71,-55.0357], Tmin=(1015.26,'K'), Tmax=(5000,'K'))], Tmin=(100,'K'), Tmax=(5000,'K'), comment=\"\"\"Thermo group additivity estimation: group(Cs-CsCsHH) + other(R) + group(Cs-CsCsHH) + other(R) + group(Cs-CbCsHH) + other(R) + group(Cs-CbCsHH) +\n",
       "other(R) + group(Cb-Cs) + other(R) + group(Cb-Cs) + other(R) + group(Cb-H) + other(R) + group(Cb-H) + other(R) + group(Cb-H) + other(R) + group(Cb-H)\n",
       "+ other(R) + polycyclic(s2_6_6_ben)\"\"\"), molecule=[Molecule(SMILES=\"c1ccc2CCCCc2c1\"), Molecule(SMILES=\"C1C=CC2CCCCC=2C=1\"), Molecule(SMILES=\"C1=CC=C2CCCCC2=C1\")])], kinetics=Arrhenius(A=(2e+12,'cm^3/(mol*s)'), n=0, Ea=(8.6,'kcal/mol'), T0=(1,'K'), comment=\"\"\"Exact match found for rate rule [C_methane;Cb_rad]\n",
       "Multiplied by reaction path degeneracy 4\n",
       "Kinetics were estimated in this direction instead of the reverse because:\n",
       "Both directions matched explicit rate rules, but this direction has a rule with a lower rank.\n",
       "dHrxn(298 K) = -33.49 kJ/mol, dGrxn(298 K) = -33.92 kJ/mol\"\"\"), pairs=[(Species(index=106, label=\"[c]1cccc2CCCCc12\", thermo=NASA(polynomials=[NASAPolynomial(coeffs=[0.889986,0.0480255,5.08608e-05,-9.00154e-08,3.46469e-11,33251.7,23.6793], Tmin=(100,'K'), Tmax=(1014.06,'K')), NASAPolynomial(coeffs=[14.101,0.0453332,-1.82571e-05,3.48218e-09,-2.51258e-13,28031.4,-52.7689], Tmin=(1014.06,'K'), Tmax=(5000,'K'))], Tmin=(100,'K'), Tmax=(5000,'K'), comment=\"\"\"Thermo group additivity estimation: group(Cs-CsCsHH) + other(R) + group(Cs-CsCsHH) + other(R) + group(Cs-CbCsHH) + other(R) + group(Cs-CbCsHH) +\n",
       "other(R) + group(Cb-Cs) + other(R) + group(Cb-Cs) + other(R) + group(Cb-H) + other(R) + group(Cb-H) + other(R) + group(Cb-H) + other(R) + group(Cb-H)\n",
       "+ other(R) + polycyclic(s2_6_6_ben) + radical(CbJ)\"\"\"), molecule=[Molecule(SMILES=\"[c]1cccc2CCCCc12\"), Molecule(SMILES=\"[C]1=CC=CC2CCCCC=21\"), Molecule(SMILES=\"[C]1C=CC=C2CCCCC=12\")]), Species(index=1, label=\"tetralin\", thermo=NASA(polynomials=[NASAPolynomial(coeffs=[0.941246,0.0443664,7.03059e-05,-1.10293e-07,4.13303e-11,2619.64,23.0353], Tmin=(100,'K'), Tmax=(1015.26,'K')), NASAPolynomial(coeffs=[14.1091,0.0490005,-2.00383e-05,3.85942e-09,-2.8011e-13,-2966.71,-55.0357], Tmin=(1015.26,'K'), Tmax=(5000,'K'))], Tmin=(100,'K'), Tmax=(5000,'K'), comment=\"\"\"Thermo group additivity estimation: group(Cs-CsCsHH) + other(R) + group(Cs-CsCsHH) + other(R) + group(Cs-CbCsHH) + other(R) + group(Cs-CbCsHH) +\n",
       "other(R) + group(Cb-Cs) + other(R) + group(Cb-Cs) + other(R) + group(Cb-H) + other(R) + group(Cb-H) + other(R) + group(Cb-H) + other(R) + group(Cb-H)\n",
       "+ other(R) + polycyclic(s2_6_6_ben)\"\"\"), molecule=[Molecule(SMILES=\"c1ccc2CCCCc2c1\"), Molecule(SMILES=\"C1C=CC2CCCCC=2C=1\"), Molecule(SMILES=\"C1=CC=C2CCCCC2=C1\")])), (Species(index=8044, label=\"C\", thermo=NASA(polynomials=[NASAPolynomial(coeffs=[5.14911,-0.0136622,4.91454e-05,-4.84247e-08,1.66603e-11,-10246.6,-4.63849], Tmin=(200,'K'), Tmax=(1000,'K')), NASAPolynomial(coeffs=[1.65326,0.0100263,-3.31661e-06,5.36483e-10,-3.14697e-14,-10009.6,9.90506], Tmin=(1000,'K'), Tmax=(6000,'K'))], Tmin=(200,'K'), Tmax=(6000,'K'), comment=\"\"\"Thermo library: FFCM1(-)\"\"\"), molecule=[Molecule(SMILES=\"C\")]), Species(index=3, label=\"CH3\", thermo=NASA(polynomials=[NASAPolynomial(coeffs=[3.65718,0.0021266,5.45839e-06,-6.6181e-09,2.46571e-12,16422.7,1.67354], Tmin=(200,'K'), Tmax=(1000,'K')), NASAPolynomial(coeffs=[2.97812,0.00579785,-1.97558e-06,3.07298e-10,-1.79174e-14,16509.5,4.72248], Tmin=(1000,'K'), Tmax=(6000,'K'))], Tmin=(200,'K'), Tmax=(6000,'K'), comment=\"\"\"Thermo library: FFCM1(-)\"\"\"), molecule=[Molecule(SMILES=\"[CH3]\")]))])"
      ]
     },
     "metadata": {},
     "output_type": "display_data"
    },
    {
     "name": "stdout",
     "output_type": "stream",
     "text": [
      "Forward rate coefficient at 1200 K: 5.43E+04 [cm3, mole, s]\n",
      "Reverse rate coefficient at 1200 K: 1.04E+03 [cm3, mole, s]\n",
      "\n"
     ]
    }
   ],
   "source": [
    "########## User Input ####################\n",
    "path_index_investigate = 12\n",
    "##########################################\n",
    "\n",
    "path = paths[path_index_investigate]\n",
    "path_steps = len(path) - 1\n",
    "print ''\n",
    "print '\\t Pathway Report '\n",
    "print '======================================'\n",
    "print 'The pathway you are intested in has {0} steps.'.format(len(path))\n",
    "for step in range(path_steps):\n",
    "    step_pair = (path[step], path[step+1])\n",
    "    h_abs_rxns = []\n",
    "    disp_rxns = []\n",
    "    Pdep_rxns = []\n",
    "    \n",
    "    print \"\"\n",
    "    if showIntegratedFlux:\n",
    "        print \"Step{0} \\t\\t\\t\\t Integrated Flux (mole)\".format(step+1)\n",
    "        print '***********************************************************************'\n",
    "        print \"{1} --> {2} \\t\\t {3:.3E}\".\\\n",
    "        format(step+1, step_pair[0], step_pair[1], G[step_pair[0]][step_pair[1]]['total_flux'])\n",
    "        print '***********************************************************************'\n",
    "    else:\n",
    "        print \"Step{0} \\t\\t\\t\\t Flux (mole/cm3/s)\".format(step+1)\n",
    "        print '*****************************************************'\n",
    "        print \"{1} --> {2} \\t\\t {3:.3E}\".\\\n",
    "        format(step+1, step_pair[0], step_pair[1], G[step_pair[0]][step_pair[1]]['total_flux'])\n",
    "        print '*****************************************************'\n",
    "    \n",
    "    if step_pair not in graph_edges_dict_simple:\n",
    "        step_pair = (step_pair[1], step_pair[0])\n",
    "    \n",
    "    print ''\n",
    "    for rxn in graph_edges_dict_simple[step_pair]:\n",
    "        if isinstance(rxn, PDepReaction):\n",
    "            Pdep_rxns.append(rxn)\n",
    "        elif rxn.family == \"H_Abstraction\":\n",
    "            h_abs_rxns.append(rxn)\n",
    "        elif rxn.family == \"Disproportionation\":\n",
    "            disp_rxns.append(rxn)\n",
    "        else:\n",
    "            print \"Example reaction: rxn#{0}\".format(rxn.index)\n",
    "            print ''\n",
    "            print str(rxn)\n",
    "            display(rxn)\n",
    "            print 'Forward rate coefficient at {0} K: {1:.2E} [cm3, mole, s]'.format(T, rxn.getRateCoefficient(T))\n",
    "            reverseRate = rxn.generateReverseRateCoefficient()\n",
    "            print 'Reverse rate coefficient at {0} K: {1:.2E} [cm3, mole, s]'.format(T, reverseRate.getRateCoefficient(T))\n",
    "            print ''\n",
    "    if len(h_abs_rxns) > 0: \n",
    "        \n",
    "        print \"Example H_Abstraction: rxn#{0} (1/{1} H_Abs): \".format(h_abs_rxns[0].index, len(h_abs_rxns)) \n",
    "        print ''\n",
    "        print str(h_abs_rxns[0])\n",
    "        display(h_abs_rxns[0])\n",
    "        print 'Forward rate coefficient at {0} K: {1:.2E} [cm3, mole, s]'.format(T, h_abs_rxns[0].getRateCoefficient(T))\n",
    "        reverseRate = h_abs_rxns[0].generateReverseRateCoefficient()\n",
    "        print 'Reverse rate coefficient at {0} K: {1:.2E} [cm3, mole, s]'.format(T, reverseRate.getRateCoefficient(T))\n",
    "        print ''\n",
    "    if len(disp_rxns) > 0: \n",
    "        \n",
    "        print \"Example Disproportionation: rxn#{0} (1/{1} Disp): \".format(disp_rxns[0].index, len(disp_rxns)) \n",
    "        print ''\n",
    "        print str(disp_rxns[0])\n",
    "        display(disp_rxns[0])\n",
    "        print 'Forward rate coefficient at {0} K: {1:.2E} [cm3, mole, s]'.format(T, disp_rxns[0].getRateCoefficient(T))\n",
    "        reverseRate = disp_rxns[0].generateReverseRateCoefficient()\n",
    "        print 'Reverse rate coefficient at {0} K: {1:.2E} [cm3, mole, s]'.format(T, reverseRate.getRateCoefficient(T))\n",
    "        print ''\n",
    "    if len(Pdep_rxns) > 0: \n",
    "        \n",
    "        print \"Example Pressure-dependent Rxn: rxn#{0} (1/{1} Pdep_rxns): \".format(Pdep_rxns[0].index, len(Pdep_rxns)) \n",
    "        print ''\n",
    "        print str(Pdep_rxns[0])\n",
    "        display(Pdep_rxns[0])\n",
    "        print 'Forward rate coefficient at {0} K and {1} Pa: {2:.2E} [cm3, mole, s]'.format(T, P, Pdep_rxns[0].getRateCoefficient(T, P))\n",
    "        reverseRate = Pdep_rxns[0].generateReverseRateCoefficient()\n",
    "        print 'Reverse rate coefficient at {0} K and {1} Pa: {2:.2E} [cm3, mole, s]'.format(T, P, reverseRate.getRateCoefficient(T, P))\n",
    "        print ''"
   ]
  },
  {
   "cell_type": "markdown",
   "metadata": {},
   "source": [
    "## [user input] Functionality 3: find paths from a particular species\n",
    "\n",
    "Please specify\n",
    "\n",
    "- source species\n",
    "\n",
    "- depth of pathway you want search, e.g., depth = 2 means search pathways 2 steps down from source species\n",
    "\n",
    "- path_top_list, e.g., [0, 3] means 1st step of the pathway takes the most significant branch and 2nd step would be the third most siginificant branch"
   ]
  },
  {
   "cell_type": "code",
   "execution_count": 20,
   "metadata": {
    "collapsed": false
   },
   "outputs": [
    {
     "name": "stdout",
     "output_type": "stream",
     "text": [
      "\n",
      "\t Pathway Report \n",
      "======================================\n",
      "The pathway you are intested in has 2 steps.\n",
      "\n",
      "\n",
      "\n",
      "Step1 \t\t\t\t Integrated Flux (mole)\n",
      "************************************************************************\n",
      "S(16320) --> S(16189) \t\t 2.820E-07\n",
      "************************************************************************\n",
      "\n",
      "Example reaction: rxn#721\n",
      "\n",
      "C1=CC=C2C(C=Cc3ccccc32)=C1(16320) + H(5) <=> [CH]1C=C2C=CC=CC2=C2C=CC=CC12(16189): Integrated Flux = -2.820E-07 mole\n"
     ]
    },
    {
     "data": {
      "image/png": "[encoded data removed]",
      "text/plain": [
       "Reaction(index=721, reactants=[Species(index=16320, label=\"C1=CC=C2C(C=Cc3ccccc32)=C1\", thermo=NASA(polynomials=[NASAPolynomial(coeffs=[-0.498455,0.0710257,4.57112e-05,-1.08201e-07,4.54722e-11,21944.5,25.0051], Tmin=(100,'K'), Tmax=(987,'K')), NASAPolynomial(coeffs=[22.4758,0.0451468,-1.71296e-05,3.25532e-09,-2.38524e-13,14134.8,-102.12], Tmin=(987,'K'), Tmax=(5000,'K'))], Tmin=(100,'K'), Tmax=(5000,'K'), comment=\"\"\"Thermo group additivity estimation: group(Cbf-CbCbfCbf) + other(R) + group(Cbf-CbCbfCbf) + other(R) + group(Cbf-CbCbCbf) + other(R) + group(Cbf-\n",
       "CbCbCbf) + other(R) + group(Cb-H) + other(R) + group(Cb-H) + other(R) + group(Cb-H) + other(R) + group(Cb-H) + other(R) + group(Cb-H) + other(R) +\n",
       "group(Cb-H) + other(R) + group(Cb-H) + other(R) + group(Cb-H) + other(R) + group(Cb-H) + other(R) + group(Cb-H) + other(R) +\n",
       "polycyclic(s2_6_6_naphthalene) + polycyclic(s2_6_6_naphthalene) - ring(Benzene)\"\"\"), molecule=[Molecule(SMILES=\"c1ccc2c(c1)ccc1ccccc12\"), Molecule(SMILES=\"C1=Cc2ccccc2-c2ccccc21\")]), Species(index=5, label=\"H\", thermo=NASA(polynomials=[NASAPolynomial(coeffs=[2.5,-2.38914e-13,3.12709e-16,-1.33367e-19,1.7499e-23,25472.7,-0.459566], Tmin=(100,'K'), Tmax=(4383.16,'K')), NASAPolynomial(coeffs=[2.50003,-3.04997e-08,1.01101e-11,-1.48797e-15,8.20356e-20,25472.7,-0.459785], Tmin=(4383.16,'K'), Tmax=(5000,'K'))], Tmin=(100,'K'), Tmax=(5000,'K'), comment=\"\"\"Thermo library: BurkeH2O2\"\"\"), molecule=[Molecule(SMILES=\"[H]\")])], products=[Species(index=16189, label=\"[CH]1C=C2C=CC=CC2=C2C=CC=CC12\", thermo=NASA(polynomials=[NASAPolynomial(coeffs=[-0.911599,0.0815262,2.34315e-05,-8.61065e-08,3.74355e-11,51548.1,30.0481], Tmin=(100,'K'), Tmax=(1003.62,'K')), NASAPolynomial(coeffs=[23.1382,0.0477465,-1.88544e-05,3.60773e-09,-2.6289e-13,43594.6,-101.639], Tmin=(1003.62,'K'), Tmax=(5000,'K'))], Tmin=(100,'K'), Tmax=(5000,'K'), comment=\"\"\"Thermo group additivity estimation: group(Cs-(Cds-Cds)(Cds-Cds)CsH) + other(R) + group(Cs-(Cds-Cds)CsHH) + other(R) + group(Cds-CdsCbCs) + other(R) +\n",
       "group(Cb-(Cds-Cds)) + other(R) + group(Cb-(Cds-Cds)) + other(R) + group(Cds-CdsCsH) + other(R) + group(Cds-CdsCsH) + other(R) + group(Cds-CdsCbH) +\n",
       "other(R) + group(Cds-Cds(Cds-Cds)H) + other(R) + group(Cb-H) + other(R) + group(Cb-H) + other(R) + group(Cds-Cds(Cds-Cds)H) + other(R) + group(Cb-H) +\n",
       "other(R) + group(Cb-H) + other(R) + polycyclic(s2_6_6_triene_0_2_6) + polycyclic(s2_6_6_ben_ene_1) - ring(Cyclohexene) + radical(Allyl_S)\"\"\"), molecule=[Molecule(SMILES=\"[CH]1C=CC=C2c3ccccc3C=CC12\"), Molecule(SMILES=\"[CH]1C=CC2C=Cc3ccccc3C2=C1\"), Molecule(SMILES=\"C1C=CC2C=Cc3ccccc3[C]2C=1\"), Molecule(SMILES=\"C1=CC=C2[C]3C=CC=CC3C=CC2=C1\"), Molecule(SMILES=\"[CH]1C=CC2C=CC3C=CC=CC=3C2=C1\"), Molecule(SMILES=\"C1C=CC2[C](C=1)C=CC1C=CC=CC=21\"), Molecule(SMILES=\"[CH]1C=CC=C2C=CC3C=CC=CC3=C12\"), Molecule(SMILES=\"[CH]1C=CC=C2C3C=CC=CC=3C=CC12\"), Molecule(SMILES=\"[CH]1C=CC2C(C=CC3C=CC=CC=23)=C1\"), Molecule(SMILES=\"[CH]1C=C2C=CC=CC2=C2C=CC=CC12\")])], kinetics=Arrhenius(A=(2.68e+08,'cm^3/(mol*s)'), n=1.64, Ea=(8.182,'kcal/mol'), T0=(1,'K'), comment=\"\"\"Exact match found for rate rule [Cds-CdCd_Cds-CdH;HJ]\n",
       "Multiplied by reaction path degeneracy 2\n",
       "Ea raised from 29.7 to 34.2 kJ/mol to match endothermicity of reaction.\"\"\"), pairs=[(Species(index=16320, label=\"C1=CC=C2C(C=Cc3ccccc32)=C1\", thermo=NASA(polynomials=[NASAPolynomial(coeffs=[-0.498455,0.0710257,4.57112e-05,-1.08201e-07,4.54722e-11,21944.5,25.0051], Tmin=(100,'K'), Tmax=(987,'K')), NASAPolynomial(coeffs=[22.4758,0.0451468,-1.71296e-05,3.25532e-09,-2.38524e-13,14134.8,-102.12], Tmin=(987,'K'), Tmax=(5000,'K'))], Tmin=(100,'K'), Tmax=(5000,'K'), comment=\"\"\"Thermo group additivity estimation: group(Cbf-CbCbfCbf) + other(R) + group(Cbf-CbCbfCbf) + other(R) + group(Cbf-CbCbCbf) + other(R) + group(Cbf-\n",
       "CbCbCbf) + other(R) + group(Cb-H) + other(R) + group(Cb-H) + other(R) + group(Cb-H) + other(R) + group(Cb-H) + other(R) + group(Cb-H) + other(R) +\n",
       "group(Cb-H) + other(R) + group(Cb-H) + other(R) + group(Cb-H) + other(R) + group(Cb-H) + other(R) + group(Cb-H) + other(R) +\n",
       "polycyclic(s2_6_6_naphthalene) + polycyclic(s2_6_6_naphthalene) - ring(Benzene)\"\"\"), molecule=[Molecule(SMILES=\"c1ccc2c(c1)ccc1ccccc12\"), Molecule(SMILES=\"C1=Cc2ccccc2-c2ccccc21\")]), Species(index=16189, label=\"[CH]1C=C2C=CC=CC2=C2C=CC=CC12\", thermo=NASA(polynomials=[NASAPolynomial(coeffs=[-0.911599,0.0815262,2.34315e-05,-8.61065e-08,3.74355e-11,51548.1,30.0481], Tmin=(100,'K'), Tmax=(1003.62,'K')), NASAPolynomial(coeffs=[23.1382,0.0477465,-1.88544e-05,3.60773e-09,-2.6289e-13,43594.6,-101.639], Tmin=(1003.62,'K'), Tmax=(5000,'K'))], Tmin=(100,'K'), Tmax=(5000,'K'), comment=\"\"\"Thermo group additivity estimation: group(Cs-(Cds-Cds)(Cds-Cds)CsH) + other(R) + group(Cs-(Cds-Cds)CsHH) + other(R) + group(Cds-CdsCbCs) + other(R) +\n",
       "group(Cb-(Cds-Cds)) + other(R) + group(Cb-(Cds-Cds)) + other(R) + group(Cds-CdsCsH) + other(R) + group(Cds-CdsCsH) + other(R) + group(Cds-CdsCbH) +\n",
       "other(R) + group(Cds-Cds(Cds-Cds)H) + other(R) + group(Cb-H) + other(R) + group(Cb-H) + other(R) + group(Cds-Cds(Cds-Cds)H) + other(R) + group(Cb-H) +\n",
       "other(R) + group(Cb-H) + other(R) + polycyclic(s2_6_6_triene_0_2_6) + polycyclic(s2_6_6_ben_ene_1) - ring(Cyclohexene) + radical(Allyl_S)\"\"\"), molecule=[Molecule(SMILES=\"[CH]1C=CC=C2c3ccccc3C=CC12\"), Molecule(SMILES=\"[CH]1C=CC2C=Cc3ccccc3C2=C1\"), Molecule(SMILES=\"C1C=CC2C=Cc3ccccc3[C]2C=1\"), Molecule(SMILES=\"C1=CC=C2[C]3C=CC=CC3C=CC2=C1\"), Molecule(SMILES=\"[CH]1C=CC2C=CC3C=CC=CC=3C2=C1\"), Molecule(SMILES=\"C1C=CC2[C](C=1)C=CC1C=CC=CC=21\"), Molecule(SMILES=\"[CH]1C=CC=C2C=CC3C=CC=CC3=C12\"), Molecule(SMILES=\"[CH]1C=CC=C2C3C=CC=CC=3C=CC12\"), Molecule(SMILES=\"[CH]1C=CC2C(C=CC3C=CC=CC=23)=C1\"), Molecule(SMILES=\"[CH]1C=C2C=CC=CC2=C2C=CC=CC12\")])), (Species(index=5, label=\"H\", thermo=NASA(polynomials=[NASAPolynomial(coeffs=[2.5,-2.38914e-13,3.12709e-16,-1.33367e-19,1.7499e-23,25472.7,-0.459566], Tmin=(100,'K'), Tmax=(4383.16,'K')), NASAPolynomial(coeffs=[2.50003,-3.04997e-08,1.01101e-11,-1.48797e-15,8.20356e-20,25472.7,-0.459785], Tmin=(4383.16,'K'), Tmax=(5000,'K'))], Tmin=(100,'K'), Tmax=(5000,'K'), comment=\"\"\"Thermo library: BurkeH2O2\"\"\"), molecule=[Molecule(SMILES=\"[H]\")]), Species(index=16189, label=\"[CH]1C=C2C=CC=CC2=C2C=CC=CC12\", thermo=NASA(polynomials=[NASAPolynomial(coeffs=[-0.911599,0.0815262,2.34315e-05,-8.61065e-08,3.74355e-11,51548.1,30.0481], Tmin=(100,'K'), Tmax=(1003.62,'K')), NASAPolynomial(coeffs=[23.1382,0.0477465,-1.88544e-05,3.60773e-09,-2.6289e-13,43594.6,-101.639], Tmin=(1003.62,'K'), Tmax=(5000,'K'))], Tmin=(100,'K'), Tmax=(5000,'K'), comment=\"\"\"Thermo group additivity estimation: group(Cs-(Cds-Cds)(Cds-Cds)CsH) + other(R) + group(Cs-(Cds-Cds)CsHH) + other(R) + group(Cds-CdsCbCs) + other(R) +\n",
       "group(Cb-(Cds-Cds)) + other(R) + group(Cb-(Cds-Cds)) + other(R) + group(Cds-CdsCsH) + other(R) + group(Cds-CdsCsH) + other(R) + group(Cds-CdsCbH) +\n",
       "other(R) + group(Cds-Cds(Cds-Cds)H) + other(R) + group(Cb-H) + other(R) + group(Cb-H) + other(R) + group(Cds-Cds(Cds-Cds)H) + other(R) + group(Cb-H) +\n",
       "other(R) + group(Cb-H) + other(R) + polycyclic(s2_6_6_triene_0_2_6) + polycyclic(s2_6_6_ben_ene_1) - ring(Cyclohexene) + radical(Allyl_S)\"\"\"), molecule=[Molecule(SMILES=\"[CH]1C=CC=C2c3ccccc3C=CC12\"), Molecule(SMILES=\"[CH]1C=CC2C=Cc3ccccc3C2=C1\"), Molecule(SMILES=\"C1C=CC2C=Cc3ccccc3[C]2C=1\"), Molecule(SMILES=\"C1=CC=C2[C]3C=CC=CC3C=CC2=C1\"), Molecule(SMILES=\"[CH]1C=CC2C=CC3C=CC=CC=3C2=C1\"), Molecule(SMILES=\"C1C=CC2[C](C=1)C=CC1C=CC=CC=21\"), Molecule(SMILES=\"[CH]1C=CC=C2C=CC3C=CC=CC3=C12\"), Molecule(SMILES=\"[CH]1C=CC=C2C3C=CC=CC=3C=CC12\"), Molecule(SMILES=\"[CH]1C=CC2C(C=CC3C=CC=CC=23)=C1\"), Molecule(SMILES=\"[CH]1C=C2C=CC=CC2=C2C=CC=CC12\")]))])"
      ]
     },
     "metadata": {},
     "output_type": "display_data"
    },
    {
     "name": "stdout",
     "output_type": "stream",
     "text": [
      "Forward rate coefficient at 1200 K: 9.72E+05 [cm3, mole, s]\n",
      "Reverse rate coefficient at 1200 K: 2.30E+12 [cm3, mole, s]\n",
      "\n",
      "\n",
      "Example Disproportionation: rxn#725(1/4 Disp)\n",
      "\n",
      "C1=CC2=CC[C]1c1ccccc12(194) + [CH]1C=C2C=CC=CC2=C2C=CC=CC12(16189) <=> C1=CC=C2C(C=Cc3ccccc32)=C1(16320) + C1C=C2CCC=1c1ccccc12(193)\n"
     ]
    },
    {
     "data": {
      "image/png": "[encoded data removed]",
      "text/plain": [
       "Reaction(index=725, reactants=[Species(index=194, label=\"C1=CC2=CC[C]1c1ccccc12\", thermo=NASA(polynomials=[NASAPolynomial(coeffs=[0.825243,0.0368274,0.00011208,-1.78449e-07,7.31508e-11,40933.7,27.3481], Tmin=(100,'K'), Tmax=(938.26,'K')), NASAPolynomial(coeffs=[22.7952,0.0270749,-6.4756e-06,1.10394e-09,-8.75869e-14,33117.5,-96.9267], Tmin=(938.26,'K'), Tmax=(5000,'K'))], Tmin=(100,'K'), Tmax=(5000,'K'), comment=\"\"\"Thermo group additivity estimation: group(Cs-(Cds-Cds)(Cds-Cds)HH) + other(R) + group(Cs-(Cds-Cds)(Cds-Cds)HH) + other(R) + group(Cds-CdsCbCs) +\n",
       "other(R) + group(Cds-CdsCbCs) + other(R) + group(Cb-(Cds-Cds)) + other(R) + group(Cb-(Cds-Cds)) + other(R) + group(Cds-CdsCsH) + other(R) + group(Cds-\n",
       "CdsCsH) + other(R) + group(Cb-H) + other(R) + group(Cb-H) + other(R) + group(Cb-H) + other(R) + group(Cb-H) + other(R) + polycyclic(s2_6_6_ben_ene_1)\n",
       "+ Thermo group additivity estimation: polycyclic(s4_6_6_ane) - ring(Cyclohexane) - ring(Cyclohexane) + ring(Cyclohexene) + ring(1,4-Cyclohexadiene) -\n",
       "ring(Cyclohexene) + radical(C=CCJC=C)\"\"\"), molecule=[Molecule(SMILES=\"[CH]1C=C2CC=C1c1ccccc12\"), Molecule(SMILES=\"[CH]1CC2=CC=C1c1ccccc12\"), Molecule(SMILES=\"C1=CC2=CC[C]1c1ccccc12\"), Molecule(SMILES=\"[CH]1CC2=CC=C1C1=CC=CC=C21\"), Molecule(SMILES=\"C1=CC=C2C3C=C[C](CC=3)C2=C1\"), Molecule(SMILES=\"[CH]1C=CC=C2C3C=CC(CC=3)=C12\"), Molecule(SMILES=\"[CH]1C=CC2C(=C1)C1C=CC=2CC=1\"), Molecule(SMILES=\"C1C=CC2[C](C=1)C1C=CC=2CC=1\"), Molecule(SMILES=\"C1C=CC2C3C=C[C](CC=3)C=2C=1\"), Molecule(SMILES=\"[CH]1CC2C=CC1=C1C=CC=CC=21\"), Molecule(SMILES=\"[CH]1C=C2CC=C1C1C=CC=CC=12\"), Molecule(SMILES=\"[CH]1CC2=CC=C1C1C=CC=CC=12\")]), Species(index=16189, label=\"[CH]1C=C2C=CC=CC2=C2C=CC=CC12\", thermo=NASA(polynomials=[NASAPolynomial(coeffs=[-0.911599,0.0815262,2.34315e-05,-8.61065e-08,3.74355e-11,51548.1,30.0481], Tmin=(100,'K'), Tmax=(1003.62,'K')), NASAPolynomial(coeffs=[23.1382,0.0477465,-1.88544e-05,3.60773e-09,-2.6289e-13,43594.6,-101.639], Tmin=(1003.62,'K'), Tmax=(5000,'K'))], Tmin=(100,'K'), Tmax=(5000,'K'), comment=\"\"\"Thermo group additivity estimation: group(Cs-(Cds-Cds)(Cds-Cds)CsH) + other(R) + group(Cs-(Cds-Cds)CsHH) + other(R) + group(Cds-CdsCbCs) + other(R) +\n",
       "group(Cb-(Cds-Cds)) + other(R) + group(Cb-(Cds-Cds)) + other(R) + group(Cds-CdsCsH) + other(R) + group(Cds-CdsCsH) + other(R) + group(Cds-CdsCbH) +\n",
       "other(R) + group(Cds-Cds(Cds-Cds)H) + other(R) + group(Cb-H) + other(R) + group(Cb-H) + other(R) + group(Cds-Cds(Cds-Cds)H) + other(R) + group(Cb-H) +\n",
       "other(R) + group(Cb-H) + other(R) + polycyclic(s2_6_6_triene_0_2_6) + polycyclic(s2_6_6_ben_ene_1) - ring(Cyclohexene) + radical(Allyl_S)\"\"\"), molecule=[Molecule(SMILES=\"[CH]1C=CC=C2c3ccccc3C=CC12\"), Molecule(SMILES=\"[CH]1C=CC2C=Cc3ccccc3C2=C1\"), Molecule(SMILES=\"C1C=CC2C=Cc3ccccc3[C]2C=1\"), Molecule(SMILES=\"C1=CC=C2[C]3C=CC=CC3C=CC2=C1\"), Molecule(SMILES=\"[CH]1C=CC2C=CC3C=CC=CC=3C2=C1\"), Molecule(SMILES=\"C1C=CC2[C](C=1)C=CC1C=CC=CC=21\"), Molecule(SMILES=\"[CH]1C=CC=C2C=CC3C=CC=CC3=C12\"), Molecule(SMILES=\"[CH]1C=CC=C2C3C=CC=CC=3C=CC12\"), Molecule(SMILES=\"[CH]1C=CC2C(C=CC3C=CC=CC=23)=C1\"), Molecule(SMILES=\"[CH]1C=C2C=CC=CC2=C2C=CC=CC12\")])], products=[Species(index=16320, label=\"C1=CC=C2C(C=Cc3ccccc32)=C1\", thermo=NASA(polynomials=[NASAPolynomial(coeffs=[-0.498455,0.0710257,4.57112e-05,-1.08201e-07,4.54722e-11,21944.5,25.0051], Tmin=(100,'K'), Tmax=(987,'K')), NASAPolynomial(coeffs=[22.4758,0.0451468,-1.71296e-05,3.25532e-09,-2.38524e-13,14134.8,-102.12], Tmin=(987,'K'), Tmax=(5000,'K'))], Tmin=(100,'K'), Tmax=(5000,'K'), comment=\"\"\"Thermo group additivity estimation: group(Cbf-CbCbfCbf) + other(R) + group(Cbf-CbCbfCbf) + other(R) + group(Cbf-CbCbCbf) + other(R) + group(Cbf-\n",
       "CbCbCbf) + other(R) + group(Cb-H) + other(R) + group(Cb-H) + other(R) + group(Cb-H) + other(R) + group(Cb-H) + other(R) + group(Cb-H) + other(R) +\n",
       "group(Cb-H) + other(R) + group(Cb-H) + other(R) + group(Cb-H) + other(R) + group(Cb-H) + other(R) + group(Cb-H) + other(R) +\n",
       "polycyclic(s2_6_6_naphthalene) + polycyclic(s2_6_6_naphthalene) - ring(Benzene)\"\"\"), molecule=[Molecule(SMILES=\"c1ccc2c(c1)ccc1ccccc12\"), Molecule(SMILES=\"C1=Cc2ccccc2-c2ccccc21\")]), Species(index=193, label=\"C1C=C2CCC=1c1ccccc12\", thermo=NASA(polynomials=[NASAPolynomial(coeffs=[0.350814,0.0594674,3.2538e-05,-8.84446e-08,3.99776e-11,30586,27.3722], Tmin=(100,'K'), Tmax=(935.96,'K')), NASAPolynomial(coeffs=[18.8323,0.0330981,-9.52445e-06,1.57777e-09,-1.10848e-13,24821.9,-72.8783], Tmin=(935.96,'K'), Tmax=(5000,'K'))], Tmin=(100,'K'), Tmax=(5000,'K'), comment=\"\"\"Thermo group additivity estimation: group(Cs-(Cds-Cds)CsHH) + other(R) + group(Cs-(Cds-Cds)CsHH) + other(R) + group(Cds-CdsCbCs) + other(R) + group\n",
       "(Cds-CdsCbCs) + other(R) + group(Cb-(Cds-Cds)) + other(R) + group(Cb-(Cds-Cds)) + other(R) + group(Cds-Cds(Cds-Cds)H) + other(R) + group(Cds-Cds(Cds-\n",
       "Cds)H) + other(R) + group(Cb-H) + other(R) + group(Cb-H) + other(R) + group(Cb-H) + other(R) + group(Cb-H) + other(R) + Thermo group additivity\n",
       "estimation: polycyclic(s2_6_6_ben) - ring(Cyclohexane) - ring(Benzene) + ring(Benzene) + ring(1,3-Cyclohexadiene) + Thermo group additivity\n",
       "estimation: polycyclic(s4_6_6_ane) - ring(Cyclohexane) - ring(Cyclohexane) + ring(1,3-Cyclohexadiene) + ring(1,3-Cyclohexadiene) -\n",
       "ring(1,3-Cyclohexadiene)\"\"\"), molecule=[Molecule(SMILES=\"C1C=C2CCC=1c1ccccc12\")])], kinetics=Arrhenius(A=(2.11e+09,'cm^3/(mol*s)'), n=1.081, Ea=(2.011,'kcal/mol'), T0=(1,'K'), comment=\"\"\"Average of [H_rad;C/H/CdCd_Csrad/H/Cd from training reaction 2]\n",
       "Estimated using template [Y_rad;C/H/CdCd_Csrad/H/Cd] for rate rule [C_rad/H/OneDeC;C/H/CdCd_Csrad/H/Cd]\"\"\"), pairs=[(Species(index=194, label=\"C1=CC2=CC[C]1c1ccccc12\", thermo=NASA(polynomials=[NASAPolynomial(coeffs=[0.825243,0.0368274,0.00011208,-1.78449e-07,7.31508e-11,40933.7,27.3481], Tmin=(100,'K'), Tmax=(938.26,'K')), NASAPolynomial(coeffs=[22.7952,0.0270749,-6.4756e-06,1.10394e-09,-8.75869e-14,33117.5,-96.9267], Tmin=(938.26,'K'), Tmax=(5000,'K'))], Tmin=(100,'K'), Tmax=(5000,'K'), comment=\"\"\"Thermo group additivity estimation: group(Cs-(Cds-Cds)(Cds-Cds)HH) + other(R) + group(Cs-(Cds-Cds)(Cds-Cds)HH) + other(R) + group(Cds-CdsCbCs) +\n",
       "other(R) + group(Cds-CdsCbCs) + other(R) + group(Cb-(Cds-Cds)) + other(R) + group(Cb-(Cds-Cds)) + other(R) + group(Cds-CdsCsH) + other(R) + group(Cds-\n",
       "CdsCsH) + other(R) + group(Cb-H) + other(R) + group(Cb-H) + other(R) + group(Cb-H) + other(R) + group(Cb-H) + other(R) + polycyclic(s2_6_6_ben_ene_1)\n",
       "+ Thermo group additivity estimation: polycyclic(s4_6_6_ane) - ring(Cyclohexane) - ring(Cyclohexane) + ring(Cyclohexene) + ring(1,4-Cyclohexadiene) -\n",
       "ring(Cyclohexene) + radical(C=CCJC=C)\"\"\"), molecule=[Molecule(SMILES=\"[CH]1C=C2CC=C1c1ccccc12\"), Molecule(SMILES=\"[CH]1CC2=CC=C1c1ccccc12\"), Molecule(SMILES=\"C1=CC2=CC[C]1c1ccccc12\"), Molecule(SMILES=\"[CH]1CC2=CC=C1C1=CC=CC=C21\"), Molecule(SMILES=\"C1=CC=C2C3C=C[C](CC=3)C2=C1\"), Molecule(SMILES=\"[CH]1C=CC=C2C3C=CC(CC=3)=C12\"), Molecule(SMILES=\"[CH]1C=CC2C(=C1)C1C=CC=2CC=1\"), Molecule(SMILES=\"C1C=CC2[C](C=1)C1C=CC=2CC=1\"), Molecule(SMILES=\"C1C=CC2C3C=C[C](CC=3)C=2C=1\"), Molecule(SMILES=\"[CH]1CC2C=CC1=C1C=CC=CC=21\"), Molecule(SMILES=\"[CH]1C=C2CC=C1C1C=CC=CC=12\"), Molecule(SMILES=\"[CH]1CC2=CC=C1C1C=CC=CC=12\")]), Species(index=193, label=\"C1C=C2CCC=1c1ccccc12\", thermo=NASA(polynomials=[NASAPolynomial(coeffs=[0.350814,0.0594674,3.2538e-05,-8.84446e-08,3.99776e-11,30586,27.3722], Tmin=(100,'K'), Tmax=(935.96,'K')), NASAPolynomial(coeffs=[18.8323,0.0330981,-9.52445e-06,1.57777e-09,-1.10848e-13,24821.9,-72.8783], Tmin=(935.96,'K'), Tmax=(5000,'K'))], Tmin=(100,'K'), Tmax=(5000,'K'), comment=\"\"\"Thermo group additivity estimation: group(Cs-(Cds-Cds)CsHH) + other(R) + group(Cs-(Cds-Cds)CsHH) + other(R) + group(Cds-CdsCbCs) + other(R) + group\n",
       "(Cds-CdsCbCs) + other(R) + group(Cb-(Cds-Cds)) + other(R) + group(Cb-(Cds-Cds)) + other(R) + group(Cds-Cds(Cds-Cds)H) + other(R) + group(Cds-Cds(Cds-\n",
       "Cds)H) + other(R) + group(Cb-H) + other(R) + group(Cb-H) + other(R) + group(Cb-H) + other(R) + group(Cb-H) + other(R) + Thermo group additivity\n",
       "estimation: polycyclic(s2_6_6_ben) - ring(Cyclohexane) - ring(Benzene) + ring(Benzene) + ring(1,3-Cyclohexadiene) + Thermo group additivity\n",
       "estimation: polycyclic(s4_6_6_ane) - ring(Cyclohexane) - ring(Cyclohexane) + ring(1,3-Cyclohexadiene) + ring(1,3-Cyclohexadiene) -\n",
       "ring(1,3-Cyclohexadiene)\"\"\"), molecule=[Molecule(SMILES=\"C1C=C2CCC=1c1ccccc12\")])), (Species(index=16189, label=\"[CH]1C=C2C=CC=CC2=C2C=CC=CC12\", thermo=NASA(polynomials=[NASAPolynomial(coeffs=[-0.911599,0.0815262,2.34315e-05,-8.61065e-08,3.74355e-11,51548.1,30.0481], Tmin=(100,'K'), Tmax=(1003.62,'K')), NASAPolynomial(coeffs=[23.1382,0.0477465,-1.88544e-05,3.60773e-09,-2.6289e-13,43594.6,-101.639], Tmin=(1003.62,'K'), Tmax=(5000,'K'))], Tmin=(100,'K'), Tmax=(5000,'K'), comment=\"\"\"Thermo group additivity estimation: group(Cs-(Cds-Cds)(Cds-Cds)CsH) + other(R) + group(Cs-(Cds-Cds)CsHH) + other(R) + group(Cds-CdsCbCs) + other(R) +\n",
       "group(Cb-(Cds-Cds)) + other(R) + group(Cb-(Cds-Cds)) + other(R) + group(Cds-CdsCsH) + other(R) + group(Cds-CdsCsH) + other(R) + group(Cds-CdsCbH) +\n",
       "other(R) + group(Cds-Cds(Cds-Cds)H) + other(R) + group(Cb-H) + other(R) + group(Cb-H) + other(R) + group(Cds-Cds(Cds-Cds)H) + other(R) + group(Cb-H) +\n",
       "other(R) + group(Cb-H) + other(R) + polycyclic(s2_6_6_triene_0_2_6) + polycyclic(s2_6_6_ben_ene_1) - ring(Cyclohexene) + radical(Allyl_S)\"\"\"), molecule=[Molecule(SMILES=\"[CH]1C=CC=C2c3ccccc3C=CC12\"), Molecule(SMILES=\"[CH]1C=CC2C=Cc3ccccc3C2=C1\"), Molecule(SMILES=\"C1C=CC2C=Cc3ccccc3[C]2C=1\"), Molecule(SMILES=\"C1=CC=C2[C]3C=CC=CC3C=CC2=C1\"), Molecule(SMILES=\"[CH]1C=CC2C=CC3C=CC=CC=3C2=C1\"), Molecule(SMILES=\"C1C=CC2[C](C=1)C=CC1C=CC=CC=21\"), Molecule(SMILES=\"[CH]1C=CC=C2C=CC3C=CC=CC3=C12\"), Molecule(SMILES=\"[CH]1C=CC=C2C3C=CC=CC=3C=CC12\"), Molecule(SMILES=\"[CH]1C=CC2C(C=CC3C=CC=CC=23)=C1\"), Molecule(SMILES=\"[CH]1C=C2C=CC=CC2=C2C=CC=CC12\")]), Species(index=16320, label=\"C1=CC=C2C(C=Cc3ccccc32)=C1\", thermo=NASA(polynomials=[NASAPolynomial(coeffs=[-0.498455,0.0710257,4.57112e-05,-1.08201e-07,4.54722e-11,21944.5,25.0051], Tmin=(100,'K'), Tmax=(987,'K')), NASAPolynomial(coeffs=[22.4758,0.0451468,-1.71296e-05,3.25532e-09,-2.38524e-13,14134.8,-102.12], Tmin=(987,'K'), Tmax=(5000,'K'))], Tmin=(100,'K'), Tmax=(5000,'K'), comment=\"\"\"Thermo group additivity estimation: group(Cbf-CbCbfCbf) + other(R) + group(Cbf-CbCbfCbf) + other(R) + group(Cbf-CbCbCbf) + other(R) + group(Cbf-\n",
       "CbCbCbf) + other(R) + group(Cb-H) + other(R) + group(Cb-H) + other(R) + group(Cb-H) + other(R) + group(Cb-H) + other(R) + group(Cb-H) + other(R) +\n",
       "group(Cb-H) + other(R) + group(Cb-H) + other(R) + group(Cb-H) + other(R) + group(Cb-H) + other(R) + group(Cb-H) + other(R) +\n",
       "polycyclic(s2_6_6_naphthalene) + polycyclic(s2_6_6_naphthalene) - ring(Benzene)\"\"\"), molecule=[Molecule(SMILES=\"c1ccc2c(c1)ccc1ccccc12\"), Molecule(SMILES=\"C1=Cc2ccccc2-c2ccccc21\")]))])"
      ]
     },
     "metadata": {},
     "output_type": "display_data"
    },
    {
     "name": "stdout",
     "output_type": "stream",
     "text": [
      "Forward rate coefficient at 1200 K: 1.93E+06 [cm3, mole, s]\n",
      "Reverse rate coefficient at 1200 K: 7.32E-07 [cm3, mole, s]\n",
      "\n",
      "\n",
      "\n",
      "\n",
      "Step2 \t\t\t\t Integrated Flux (mole)\n",
      "************************************************************************\n",
      "S(16189) --> S(16310) \t\t 5.649E-07\n",
      "************************************************************************\n",
      "\n",
      "Example reaction: rxn#1323\n",
      "\n",
      "[CH]=Cc1ccccc1C1C=CC=CC=1(16310) <=> [CH]1C=C2C=CC=CC2=C2C=CC=CC12(16189): Integrated Flux = 5.649E-07 mole\n"
     ]
    },
    {
     "data": {
      "image/png": "[encoded data removed]",
      "text/plain": [
       "Reaction(index=1323, reactants=[Species(index=16310, label=\"[CH]=Cc1ccccc1C1C=CC=CC=1\", thermo=NASA(polynomials=[NASAPolynomial(coeffs=[-1.31745,0.0889186,1.2085e-05,-8.33298e-08,3.87519e-11,55585.5,38.5321], Tmin=(100,'K'), Tmax=(987.83,'K')), NASAPolynomial(coeffs=[26.8327,0.0409912,-1.54504e-05,2.95262e-09,-2.17942e-13,46800.9,-113.245], Tmin=(987.83,'K'), Tmax=(5000,'K'))], Tmin=(100,'K'), Tmax=(5000,'K'), comment=\"\"\"Thermo group additivity estimation: group(Cb-Cb) + other(R) + group(Cb-Cb) + other(R) + group(Cb-(Cds-Cds)) + other(R) + group(Cb-H) + other(R) +\n",
       "group(Cb-H) + other(R) + group(Cb-H) + other(R) + group(Cb-H) + other(R) + group(Cb-H) + other(R) + group(Cb-H) + other(R) + group(Cb-H) + other(R) +\n",
       "group(Cb-H) + other(R) + group(Cb-H) + other(R) + group(Cds-CdsCbH) + other(R) + group(Cds-CdsHH) + other(R) + ring(Benzene) + ring(Benzene) +\n",
       "radical(Cds_P)\"\"\"), molecule=[Molecule(SMILES=\"[CH]=Cc1ccccc1-c1ccccc1\")])], products=[Species(index=16189, label=\"[CH]1C=C2C=CC=CC2=C2C=CC=CC12\", thermo=NASA(polynomials=[NASAPolynomial(coeffs=[-0.911599,0.0815262,2.34315e-05,-8.61065e-08,3.74355e-11,51548.1,30.0481], Tmin=(100,'K'), Tmax=(1003.62,'K')), NASAPolynomial(coeffs=[23.1382,0.0477465,-1.88544e-05,3.60773e-09,-2.6289e-13,43594.6,-101.639], Tmin=(1003.62,'K'), Tmax=(5000,'K'))], Tmin=(100,'K'), Tmax=(5000,'K'), comment=\"\"\"Thermo group additivity estimation: group(Cs-(Cds-Cds)(Cds-Cds)CsH) + other(R) + group(Cs-(Cds-Cds)CsHH) + other(R) + group(Cds-CdsCbCs) + other(R) +\n",
       "group(Cb-(Cds-Cds)) + other(R) + group(Cb-(Cds-Cds)) + other(R) + group(Cds-CdsCsH) + other(R) + group(Cds-CdsCsH) + other(R) + group(Cds-CdsCbH) +\n",
       "other(R) + group(Cds-Cds(Cds-Cds)H) + other(R) + group(Cb-H) + other(R) + group(Cb-H) + other(R) + group(Cds-Cds(Cds-Cds)H) + other(R) + group(Cb-H) +\n",
       "other(R) + group(Cb-H) + other(R) + polycyclic(s2_6_6_triene_0_2_6) + polycyclic(s2_6_6_ben_ene_1) - ring(Cyclohexene) + radical(Allyl_S)\"\"\"), molecule=[Molecule(SMILES=\"[CH]1C=CC=C2c3ccccc3C=CC12\"), Molecule(SMILES=\"[CH]1C=CC2C=Cc3ccccc3C2=C1\"), Molecule(SMILES=\"C1C=CC2C=Cc3ccccc3[C]2C=1\"), Molecule(SMILES=\"C1=CC=C2[C]3C=CC=CC3C=CC2=C1\"), Molecule(SMILES=\"[CH]1C=CC2C=CC3C=CC=CC=3C2=C1\"), Molecule(SMILES=\"C1C=CC2[C](C=1)C=CC1C=CC=CC=21\"), Molecule(SMILES=\"[CH]1C=CC=C2C=CC3C=CC=CC3=C12\"), Molecule(SMILES=\"[CH]1C=CC=C2C3C=CC=CC=3C=CC12\"), Molecule(SMILES=\"[CH]1C=CC2C(C=CC3C=CC=CC=23)=C1\"), Molecule(SMILES=\"[CH]1C=C2C=CC=CC2=C2C=CC=CC12\")])], kinetics=Arrhenius(A=(8.608e+11,'s^-1'), n=0.238, Ea=(25.422,'kcal/mol'), T0=(1,'K'), comment=\"\"\"Average of [Average of [Average of [Rn4(SDSD)c6_alpha;doublebond_intra_HCd_pri;radadd_intra_cs2H from training reaction 3]] + Average of\n",
       "[Rn4(looped)c6_alpha;doublebond_intra_HCd_pri;radadd_intra_cs from training reaction 31] + Average of [Average of\n",
       "[Rn4(SDSD)c6_alpha;doublebond_intra_HCd_pri;radadd_intra_cs2H from training reaction 3] + Rn4(looped)c6_alpha;doublebond_intra_HCd_pri;radadd_intra_cs\n",
       "from training reaction 31 + Average of [Rn4(SDSD)c6_alpha;doublebond_intra_HCd_pri;radadd_intra_cs2H from training reaction 3]]]\n",
       "Estimated using template [Rn4c6_alpha;doublebond_intra_HCd_pri;radadd_intra] for rate rule\n",
       "[Rn4c6_alpha;doublebond_intra_HCd_pri;radadd_intra_cdsingleH]\n",
       "Multiplied by reaction path degeneracy 2\"\"\"), pairs=[(Species(index=16310, label=\"[CH]=Cc1ccccc1C1C=CC=CC=1\", thermo=NASA(polynomials=[NASAPolynomial(coeffs=[-1.31745,0.0889186,1.2085e-05,-8.33298e-08,3.87519e-11,55585.5,38.5321], Tmin=(100,'K'), Tmax=(987.83,'K')), NASAPolynomial(coeffs=[26.8327,0.0409912,-1.54504e-05,2.95262e-09,-2.17942e-13,46800.9,-113.245], Tmin=(987.83,'K'), Tmax=(5000,'K'))], Tmin=(100,'K'), Tmax=(5000,'K'), comment=\"\"\"Thermo group additivity estimation: group(Cb-Cb) + other(R) + group(Cb-Cb) + other(R) + group(Cb-(Cds-Cds)) + other(R) + group(Cb-H) + other(R) +\n",
       "group(Cb-H) + other(R) + group(Cb-H) + other(R) + group(Cb-H) + other(R) + group(Cb-H) + other(R) + group(Cb-H) + other(R) + group(Cb-H) + other(R) +\n",
       "group(Cb-H) + other(R) + group(Cb-H) + other(R) + group(Cds-CdsCbH) + other(R) + group(Cds-CdsHH) + other(R) + ring(Benzene) + ring(Benzene) +\n",
       "radical(Cds_P)\"\"\"), molecule=[Molecule(SMILES=\"[CH]=Cc1ccccc1-c1ccccc1\")]), Species(index=16189, label=\"[CH]1C=C2C=CC=CC2=C2C=CC=CC12\", thermo=NASA(polynomials=[NASAPolynomial(coeffs=[-0.911599,0.0815262,2.34315e-05,-8.61065e-08,3.74355e-11,51548.1,30.0481], Tmin=(100,'K'), Tmax=(1003.62,'K')), NASAPolynomial(coeffs=[23.1382,0.0477465,-1.88544e-05,3.60773e-09,-2.6289e-13,43594.6,-101.639], Tmin=(1003.62,'K'), Tmax=(5000,'K'))], Tmin=(100,'K'), Tmax=(5000,'K'), comment=\"\"\"Thermo group additivity estimation: group(Cs-(Cds-Cds)(Cds-Cds)CsH) + other(R) + group(Cs-(Cds-Cds)CsHH) + other(R) + group(Cds-CdsCbCs) + other(R) +\n",
       "group(Cb-(Cds-Cds)) + other(R) + group(Cb-(Cds-Cds)) + other(R) + group(Cds-CdsCsH) + other(R) + group(Cds-CdsCsH) + other(R) + group(Cds-CdsCbH) +\n",
       "other(R) + group(Cds-Cds(Cds-Cds)H) + other(R) + group(Cb-H) + other(R) + group(Cb-H) + other(R) + group(Cds-Cds(Cds-Cds)H) + other(R) + group(Cb-H) +\n",
       "other(R) + group(Cb-H) + other(R) + polycyclic(s2_6_6_triene_0_2_6) + polycyclic(s2_6_6_ben_ene_1) - ring(Cyclohexene) + radical(Allyl_S)\"\"\"), molecule=[Molecule(SMILES=\"[CH]1C=CC=C2c3ccccc3C=CC12\"), Molecule(SMILES=\"[CH]1C=CC2C=Cc3ccccc3C2=C1\"), Molecule(SMILES=\"C1C=CC2C=Cc3ccccc3[C]2C=1\"), Molecule(SMILES=\"C1=CC=C2[C]3C=CC=CC3C=CC2=C1\"), Molecule(SMILES=\"[CH]1C=CC2C=CC3C=CC=CC=3C2=C1\"), Molecule(SMILES=\"C1C=CC2[C](C=1)C=CC1C=CC=CC=21\"), Molecule(SMILES=\"[CH]1C=CC=C2C=CC3C=CC=CC3=C12\"), Molecule(SMILES=\"[CH]1C=CC=C2C3C=CC=CC=3C=CC12\"), Molecule(SMILES=\"[CH]1C=CC2C(C=CC3C=CC=CC=23)=C1\"), Molecule(SMILES=\"[CH]1C=C2C=CC=CC2=C2C=CC=CC12\")]))])"
      ]
     },
     "metadata": {},
     "output_type": "display_data"
    },
    {
     "name": "stdout",
     "output_type": "stream",
     "text": [
      "Forward rate coefficient at 1200 K: 1.09E+08 [cm3, mole, s]\n",
      "Reverse rate coefficient at 1200 K: 1.39E+10 [cm3, mole, s]\n",
      "\n"
     ]
    }
   ],
   "source": [
    "########## User Input ####################\n",
    "source = \"S(16320)\"\n",
    "depth = 2\n",
    "path_top_list = [0, 0]\n",
    "##########################################\n",
    "\n",
    "\n",
    "current_node = source\n",
    "\n",
    "print ''\n",
    "print '\\t Pathway Report '\n",
    "print '======================================'\n",
    "print 'The pathway you are intested in has {0} steps.'.format(depth)\n",
    "for step in range(depth):\n",
    "    print \"\\n\"    \n",
    "    nextNode_flux_list = [(next_node, G[current_node][next_node]['total_flux']) for next_node in G[current_node]]\n",
    "    sorted_nextNode_flux_list = sorted(nextNode_flux_list, key=lambda tup: -tup[1])\n",
    "    \n",
    "    # choose the top one as next node\n",
    "    tup = sorted_nextNode_flux_list[path_top_list[step]]\n",
    "    next_node = tup[0]\n",
    "    step_flux = tup[1]\n",
    "    \n",
    "    print \"\"\n",
    "    if showIntegratedFlux:\n",
    "        print \"Step{0} \\t\\t\\t\\t Integrated Flux (mole)\".format(step+1)\n",
    "        print '************************************************************************'\n",
    "        print \"{0} --> {1} \\t\\t {2:.3E}\".\\\n",
    "        format(current_node, next_node, step_flux)\n",
    "        print '************************************************************************'\n",
    "    else:\n",
    "        print \"Step{0} \\t\\t\\t\\t Flux (mole/cm3/s)\".format(step+1)\n",
    "        print '****************************************************'\n",
    "        print \"{0} --> {1} \\t\\t {2:.3E}\".\\\n",
    "        format(current_node, next_node, step_flux)\n",
    "        print '****************************************************'\n",
    "\n",
    "    \n",
    "    step_pair = (current_node, next_node)\n",
    "    if step_pair not in graph_edges_dict_simple:\n",
    "        step_pair = (next_node, current_node)\n",
    "    \n",
    "    h_abs_rxns = []\n",
    "    disp_rxns = []\n",
    "    Pdep_rxns = []\n",
    "    for rxn in graph_edges_dict_simple[step_pair]:\n",
    "        if isinstance(rxn, PDepReaction):\n",
    "            Pdep_rxns.append(rxn)\n",
    "        elif rxn.family == \"H_Abstraction\":\n",
    "            h_abs_rxns.append(rxn)\n",
    "        elif rxn.family == \"Disproportionation\":\n",
    "            disp_rxns.append(rxn)\n",
    "        else:\n",
    "            print ''\n",
    "            print \"Example reaction: rxn#{0}\".format(rxn.index)\n",
    "            print ''\n",
    "            if showIntegratedFlux:\n",
    "            #integrate the flux using a trapezoidal rule\n",
    "                integrated_flux = 0\n",
    "                for t in range(timepoint_index):\n",
    "                    rxnROP0 = graph_edges_dict_simple[step_pair][rxn][t]\n",
    "                    rxnROP1 = graph_edges_dict_simple[step_pair][rxn][t+1]\n",
    "                    integrated_flux += 0.5 * (rxnROP1 * Vlist[t+1] + rxnROP0 * Vlist[t]) * (timeList[t+1] - timeList[t]) # in mole\n",
    "                print \"{0}: Integrated Flux = {1:.3E} mole\".format(str(rxn), integrated_flux)\n",
    "            else:\n",
    "                print \"{0}: Flux = {1:.3E} mole/cm3/s\".format(str(rxn), graph_edges_dict_simple[step_pair][rxn][timepoint_index])\n",
    "            display(rxn)\n",
    "            print 'Forward rate coefficient at {0} K: {1:.2E} [cm3, mole, s]'.format(T, rxn.getRateCoefficient(T))\n",
    "            reverseRate = rxn.generateReverseRateCoefficient()\n",
    "            print 'Reverse rate coefficient at {0} K: {1:.2E} [cm3, mole, s]'.format(T, reverseRate.getRateCoefficient(T))\n",
    "            print ''\n",
    "    if len(h_abs_rxns) > 0:\n",
    "        print ''\n",
    "        print \"Example H_Abstraction: rxn#{0}(1/{1} H_Abs)\".format(h_abs_rxns[0].index, len(h_abs_rxns))\n",
    "        print ''\n",
    "        print str(h_abs_rxns[0])\n",
    "        display(h_abs_rxns[0])\n",
    "        print 'Forward rate coefficient at {0} K: {1:.2E} [cm3, mole, s]'.format(T, h_abs_rxns[0].getRateCoefficient(T))\n",
    "        reverseRate = h_abs_rxns[0].generateReverseRateCoefficient()\n",
    "        print 'Reverse rate coefficient at {0} K: {1:.2E} [cm3, mole, s]'.format(T, reverseRate.getRateCoefficient(T))\n",
    "        print ''\n",
    "    if len(disp_rxns) > 0: \n",
    "        print ''\n",
    "        print \"Example Disproportionation: rxn#{0}(1/{1} Disp)\".format(disp_rxns[0].index, len(disp_rxns))\n",
    "        print ''\n",
    "        print str(disp_rxns[0])\n",
    "        display(disp_rxns[0])\n",
    "        print 'Forward rate coefficient at {0} K: {1:.2E} [cm3, mole, s]'.format(T, disp_rxns[0].getRateCoefficient(T))\n",
    "        reverseRate = disp_rxns[0].generateReverseRateCoefficient()\n",
    "        print 'Reverse rate coefficient at {0} K: {1:.2E} [cm3, mole, s]'.format(T, reverseRate.getRateCoefficient(T))\n",
    "        print ''\n",
    "    if len(Pdep_rxns) > 0: \n",
    "        print ''\n",
    "        print \"Example Pressure-dependent Rxn: rxn#{0} (1/{1} Pdep_rxns): \".format(Pdep_rxns[0].index, len(Pdep_rxns)) \n",
    "        print ''\n",
    "        print str(Pdep_rxns[0])\n",
    "        display(Pdep_rxns[0])\n",
    "        print 'Forward rate coefficient at {0} K and {1} Pa: {2:.2E} [cm3, mole, s]'.format(T, P, Pdep_rxns[0].getRateCoefficient(T, P))\n",
    "        reverseRate = Pdep_rxns[0].generateReverseRateCoefficient()\n",
    "        print 'Reverse rate coefficient at {0} K and {1} Pa: {2:.2E} [cm3, mole, s]'.format(T, P, reverseRate.getRateCoefficient(T, P))\n",
    "        print ''\n",
    "    \n",
    "    current_node = next_node"
   ]
  },
  {
   "cell_type": "markdown",
   "metadata": {},
   "source": [
    "### More detail for the H_Abstration and Disproportionation in last step of the pathway"
   ]
  },
  {
   "cell_type": "code",
   "execution_count": null,
   "metadata": {
    "collapsed": false
   },
   "outputs": [],
   "source": [
    "print ''\n",
    "print 'The step you see currently is between the two species {0}'.format(step_pair)\n",
    "print ''\n",
    "print 'Positive flux in below means positive production of 1st node of the pair.'\n",
    "print ''\n",
    "print 'This step have {0} H_Abstration and Disproportionation in total.'.format(len(h_abs_rxns + disp_rxns))\n",
    "\n",
    "flux_threshold = 1e-9\n",
    "\n",
    "print ''\n",
    "print 'TO avoid too much printout, the reactions shown below have fluxes above {0}.'.format(flux_threshold)\n",
    "\n",
    "total_flux = 0\n",
    "rxn_flux_tups = []\n",
    "for rxn in h_abs_rxns + disp_rxns:\n",
    "    if showIntegratedFlux:\n",
    "    #integrate the flux using a trapezoidal rule\n",
    "        flux = 0\n",
    "        for t in range(timepoint_index):\n",
    "            rxnROP0 = graph_edges_dict_simple[step_pair][rxn][t]\n",
    "            rxnROP1 = graph_edges_dict_simple[step_pair][rxn][t+1]\n",
    "            flux += 0.5 * (rxnROP1 * Vlist[t+1] + rxnROP0 * Vlist[t]) * (timeList[t+1] - timeList[t]) # in mole\n",
    "    else:\n",
    "        flux = graph_edges_dict_simple[step_pair][rxn][timepoint_index]\n",
    "    rxn_flux_tups.append((rxn, flux))\n",
    "    \n",
    "\n",
    "rxn_flux_tups = sorted(rxn_flux_tups, key=lambda tup: tup[1], reverse=False)\n",
    "for tup in rxn_flux_tups:\n",
    "    rxn = tup[0]\n",
    "    flux = tup[1]\n",
    "    if flux > flux_threshold:\n",
    "        total_flux += flux\n",
    "        print ''\n",
    "        print \"**********************************************************************************\"\n",
    "        if showIntegratedFlux:\n",
    "            print \"rxn#{0}: {1}: Integrated Flux = {2:.3E} mole \".format(rxn.index, str(rxn), flux) \n",
    "        else:\n",
    "            print \"rxn#{0}: {1}: Flux = {2:.3E} mole/cm3/s\".format(rxn.index, str(rxn), flux)\n",
    "        display(rxn) \n",
    "print \"***************************************\"\n",
    "print ''\n",
    "if showIntegratedFlux:\n",
    "    print \"TOTAL integrated flux from h_abs and disp is {0:.3E} mole.\".format(total_flux)\n",
    "else:\n",
    "    print \"TOTAL flux from h_abs and disp is {0:.3E} mole/cm3/s.\".format(total_flux)"
   ]
  },
  {
   "cell_type": "markdown",
   "metadata": {},
   "source": [
    "## [user input] Functionality 4: find paths towards a particular species\n",
    "\n",
    "Similar to functionality 2, please specify\n",
    "\n",
    "Please specify\n",
    "\n",
    "- target species\n",
    "\n",
    "- depth of pathway you want search, e.g., depth = 2 means search pathways 2 steps up beyond target species\n",
    "\n",
    "- path_top_list, e.g., [0, 3] means 1st step of the pathway takes the most significant branch and 2nd step would be the third most siginificant branch"
   ]
  },
  {
   "cell_type": "code",
   "execution_count": 28,
   "metadata": {
    "collapsed": false
   },
   "outputs": [
    {
     "name": "stdout",
     "output_type": "stream",
     "text": [
      "\n",
      "\t Pathway Report \n",
      "======================================\n",
      "The pathway you are intested in has 2 steps.\n",
      "\n",
      "total integrated product flux for S(16320) is 2.975E-05 mole.\n",
      "\n",
      "\n",
      "\n",
      "Step1 \t\t\t\t Integrated Flux (mole)\n",
      "************************************************************************\n",
      "S(16320) <-- C12H9(808) \t\t 2.345E-05\n",
      "************************************************************************\n",
      "\n",
      "Example reaction: rxn#1379\n",
      "\n",
      "C1=CC=C2C(C=Cc3ccccc32)=C1(16320) + H(5) <=> [CH]1CC2C=CC=CC=2C2C=CC=CC=21(16463): Integrated Flux = -2.345E-05 mole\n"
     ]
    },
    {
     "data": {
      "image/png": "[encoded data removed]",
      "text/plain": [
       "Reaction(index=1379, reactants=[Species(index=16320, label=\"C1=CC=C2C(C=Cc3ccccc32)=C1\", thermo=NASA(polynomials=[NASAPolynomial(coeffs=[-0.498455,0.0710257,4.57112e-05,-1.08201e-07,4.54722e-11,21944.5,25.0051], Tmin=(100,'K'), Tmax=(987,'K')), NASAPolynomial(coeffs=[22.4758,0.0451468,-1.71296e-05,3.25532e-09,-2.38524e-13,14134.8,-102.12], Tmin=(987,'K'), Tmax=(5000,'K'))], Tmin=(100,'K'), Tmax=(5000,'K'), comment=\"\"\"Thermo group additivity estimation: group(Cbf-CbCbfCbf) + other(R) + group(Cbf-CbCbfCbf) + other(R) + group(Cbf-CbCbCbf) + other(R) + group(Cbf-\n",
       "CbCbCbf) + other(R) + group(Cb-H) + other(R) + group(Cb-H) + other(R) + group(Cb-H) + other(R) + group(Cb-H) + other(R) + group(Cb-H) + other(R) +\n",
       "group(Cb-H) + other(R) + group(Cb-H) + other(R) + group(Cb-H) + other(R) + group(Cb-H) + other(R) + group(Cb-H) + other(R) +\n",
       "polycyclic(s2_6_6_naphthalene) + polycyclic(s2_6_6_naphthalene) - ring(Benzene)\"\"\"), molecule=[Molecule(SMILES=\"c1ccc2c(c1)ccc1ccccc12\"), Molecule(SMILES=\"C1=Cc2ccccc2-c2ccccc21\")]), Species(index=5, label=\"H\", thermo=NASA(polynomials=[NASAPolynomial(coeffs=[2.5,-2.38914e-13,3.12709e-16,-1.33367e-19,1.7499e-23,25472.7,-0.459566], Tmin=(100,'K'), Tmax=(4383.16,'K')), NASAPolynomial(coeffs=[2.50003,-3.04997e-08,1.01101e-11,-1.48797e-15,8.20356e-20,25472.7,-0.459785], Tmin=(4383.16,'K'), Tmax=(5000,'K'))], Tmin=(100,'K'), Tmax=(5000,'K'), comment=\"\"\"Thermo library: BurkeH2O2\"\"\"), molecule=[Molecule(SMILES=\"[H]\")])], products=[Species(index=16463, label=\"[CH]1CC2C=CC=CC=2C2C=CC=CC=21\", thermo=NASA(polynomials=[NASAPolynomial(coeffs=[-0.589751,0.0790433,1.59607e-05,-7.29972e-08,3.25995e-11,38466.6,26.3982], Tmin=(100,'K'), Tmax=(985.5,'K')), NASAPolynomial(coeffs=[19.2524,0.0500701,-1.84224e-05,3.35329e-09,-2.3703e-13,32051.8,-81.7426], Tmin=(985.5,'K'), Tmax=(5000,'K'))], Tmin=(100,'K'), Tmax=(5000,'K'), comment=\"\"\"Thermo group additivity estimation: group(Cs-CbCsHH) + other(R) + group(Cs-CbCsHH) + other(R) + group(Cb-Cs) + other(R) + group(Cb-Cs) + other(R) +\n",
       "group(Cb-Cb) + other(R) + group(Cb-Cb) + other(R) + group(Cb-H) + other(R) + group(Cb-H) + other(R) + group(Cb-H) + other(R) + group(Cb-H) + other(R)\n",
       "+ group(Cb-H) + other(R) + group(Cb-H) + other(R) + group(Cb-H) + other(R) + group(Cb-H) + other(R) + polycyclic(s2_6_6_ben) + polycyclic(s2_6_6_ben)\n",
       "- ring(Cyclohexane) + radical(Benzyl_S)\"\"\"), molecule=[Molecule(SMILES=\"[CH]1Cc2ccccc2-c2ccccc21\"), Molecule(SMILES=\"[CH]1C=CC=C2C1=CCc1ccccc12\"), Molecule(SMILES=\"[CH]1C=CC2=CCc3ccccc3C2=C1\"), Molecule(SMILES=\"C1C=CC2=CCc3ccccc3[C]2C=1\")])], kinetics=Arrhenius(A=(1.762e+07,'cm^3/(mol*s)'), n=1.95, Ea=(5.9,'kcal/mol'), T0=(1,'K'), comment=\"\"\"Cb-R!H_Cb-R!H;HJ from training reaction 54\n",
       "Exact match found for rate rule [Cb-R!H_Cb-R!H;HJ]\n",
       "Multiplied by reaction path degeneracy 2\"\"\"), pairs=[(Species(index=5, label=\"H\", thermo=NASA(polynomials=[NASAPolynomial(coeffs=[2.5,-2.38914e-13,3.12709e-16,-1.33367e-19,1.7499e-23,25472.7,-0.459566], Tmin=(100,'K'), Tmax=(4383.16,'K')), NASAPolynomial(coeffs=[2.50003,-3.04997e-08,1.01101e-11,-1.48797e-15,8.20356e-20,25472.7,-0.459785], Tmin=(4383.16,'K'), Tmax=(5000,'K'))], Tmin=(100,'K'), Tmax=(5000,'K'), comment=\"\"\"Thermo library: BurkeH2O2\"\"\"), molecule=[Molecule(SMILES=\"[H]\")]), Species(index=16463, label=\"[CH]1CC2C=CC=CC=2C2C=CC=CC=21\", thermo=NASA(polynomials=[NASAPolynomial(coeffs=[-0.589751,0.0790433,1.59607e-05,-7.29972e-08,3.25995e-11,38466.6,26.3982], Tmin=(100,'K'), Tmax=(985.5,'K')), NASAPolynomial(coeffs=[19.2524,0.0500701,-1.84224e-05,3.35329e-09,-2.3703e-13,32051.8,-81.7426], Tmin=(985.5,'K'), Tmax=(5000,'K'))], Tmin=(100,'K'), Tmax=(5000,'K'), comment=\"\"\"Thermo group additivity estimation: group(Cs-CbCsHH) + other(R) + group(Cs-CbCsHH) + other(R) + group(Cb-Cs) + other(R) + group(Cb-Cs) + other(R) +\n",
       "group(Cb-Cb) + other(R) + group(Cb-Cb) + other(R) + group(Cb-H) + other(R) + group(Cb-H) + other(R) + group(Cb-H) + other(R) + group(Cb-H) + other(R)\n",
       "+ group(Cb-H) + other(R) + group(Cb-H) + other(R) + group(Cb-H) + other(R) + group(Cb-H) + other(R) + polycyclic(s2_6_6_ben) + polycyclic(s2_6_6_ben)\n",
       "- ring(Cyclohexane) + radical(Benzyl_S)\"\"\"), molecule=[Molecule(SMILES=\"[CH]1Cc2ccccc2-c2ccccc21\"), Molecule(SMILES=\"[CH]1C=CC=C2C1=CCc1ccccc12\"), Molecule(SMILES=\"[CH]1C=CC2=CCc3ccccc3C2=C1\"), Molecule(SMILES=\"C1C=CC2=CCc3ccccc3[C]2C=1\")])), (Species(index=16320, label=\"C1=CC=C2C(C=Cc3ccccc32)=C1\", thermo=NASA(polynomials=[NASAPolynomial(coeffs=[-0.498455,0.0710257,4.57112e-05,-1.08201e-07,4.54722e-11,21944.5,25.0051], Tmin=(100,'K'), Tmax=(987,'K')), NASAPolynomial(coeffs=[22.4758,0.0451468,-1.71296e-05,3.25532e-09,-2.38524e-13,14134.8,-102.12], Tmin=(987,'K'), Tmax=(5000,'K'))], Tmin=(100,'K'), Tmax=(5000,'K'), comment=\"\"\"Thermo group additivity estimation: group(Cbf-CbCbfCbf) + other(R) + group(Cbf-CbCbfCbf) + other(R) + group(Cbf-CbCbCbf) + other(R) + group(Cbf-\n",
       "CbCbCbf) + other(R) + group(Cb-H) + other(R) + group(Cb-H) + other(R) + group(Cb-H) + other(R) + group(Cb-H) + other(R) + group(Cb-H) + other(R) +\n",
       "group(Cb-H) + other(R) + group(Cb-H) + other(R) + group(Cb-H) + other(R) + group(Cb-H) + other(R) + group(Cb-H) + other(R) +\n",
       "polycyclic(s2_6_6_naphthalene) + polycyclic(s2_6_6_naphthalene) - ring(Benzene)\"\"\"), molecule=[Molecule(SMILES=\"c1ccc2c(c1)ccc1ccccc12\"), Molecule(SMILES=\"C1=Cc2ccccc2-c2ccccc21\")]), Species(index=16463, label=\"[CH]1CC2C=CC=CC=2C2C=CC=CC=21\", thermo=NASA(polynomials=[NASAPolynomial(coeffs=[-0.589751,0.0790433,1.59607e-05,-7.29972e-08,3.25995e-11,38466.6,26.3982], Tmin=(100,'K'), Tmax=(985.5,'K')), NASAPolynomial(coeffs=[19.2524,0.0500701,-1.84224e-05,3.35329e-09,-2.3703e-13,32051.8,-81.7426], Tmin=(985.5,'K'), Tmax=(5000,'K'))], Tmin=(100,'K'), Tmax=(5000,'K'), comment=\"\"\"Thermo group additivity estimation: group(Cs-CbCsHH) + other(R) + group(Cs-CbCsHH) + other(R) + group(Cb-Cs) + other(R) + group(Cb-Cs) + other(R) +\n",
       "group(Cb-Cb) + other(R) + group(Cb-Cb) + other(R) + group(Cb-H) + other(R) + group(Cb-H) + other(R) + group(Cb-H) + other(R) + group(Cb-H) + other(R)\n",
       "+ group(Cb-H) + other(R) + group(Cb-H) + other(R) + group(Cb-H) + other(R) + group(Cb-H) + other(R) + polycyclic(s2_6_6_ben) + polycyclic(s2_6_6_ben)\n",
       "- ring(Cyclohexane) + radical(Benzyl_S)\"\"\"), molecule=[Molecule(SMILES=\"[CH]1Cc2ccccc2-c2ccccc21\"), Molecule(SMILES=\"[CH]1C=CC=C2C1=CCc1ccccc12\"), Molecule(SMILES=\"[CH]1C=CC2=CCc3ccccc3C2=C1\"), Molecule(SMILES=\"C1C=CC2=CCc3ccccc3[C]2C=1\")]))])"
      ]
     },
     "metadata": {},
     "output_type": "display_data"
    },
    {
     "name": "stdout",
     "output_type": "stream",
     "text": [
      "Forward rate coefficient at 1200 K: 1.50E+06 [cm3, mole, s]\n",
      "Reverse rate coefficient at 1200 K: 2.28E+09 [cm3, mole, s]\n",
      "\n",
      "Example Disproportionation: rxn#1394(1/3 Disp)\n",
      "\n",
      "[CH]1CC2C=CC=CC=2C2C=CC=CC=21(16463) + CC1C2=CC=C3C=CC4[C]3C2C=CC=41(12339) <=> CC1C2=CC=C3C=CC4=C1C=CC2C34(12608) + C1=CC=C2C(C=Cc3ccccc32)=C1(16320)\n"
     ]
    },
    {
     "data": {
      "image/png": "[encoded data removed]",
      "text/plain": [
       "Reaction(index=1394, reactants=[Species(index=16463, label=\"[CH]1CC2C=CC=CC=2C2C=CC=CC=21\", thermo=NASA(polynomials=[NASAPolynomial(coeffs=[-0.589751,0.0790433,1.59607e-05,-7.29972e-08,3.25995e-11,38466.6,26.3982], Tmin=(100,'K'), Tmax=(985.5,'K')), NASAPolynomial(coeffs=[19.2524,0.0500701,-1.84224e-05,3.35329e-09,-2.3703e-13,32051.8,-81.7426], Tmin=(985.5,'K'), Tmax=(5000,'K'))], Tmin=(100,'K'), Tmax=(5000,'K'), comment=\"\"\"Thermo group additivity estimation: group(Cs-CbCsHH) + other(R) + group(Cs-CbCsHH) + other(R) + group(Cb-Cs) + other(R) + group(Cb-Cs) + other(R) +\n",
       "group(Cb-Cb) + other(R) + group(Cb-Cb) + other(R) + group(Cb-H) + other(R) + group(Cb-H) + other(R) + group(Cb-H) + other(R) + group(Cb-H) + other(R)\n",
       "+ group(Cb-H) + other(R) + group(Cb-H) + other(R) + group(Cb-H) + other(R) + group(Cb-H) + other(R) + polycyclic(s2_6_6_ben) + polycyclic(s2_6_6_ben)\n",
       "- ring(Cyclohexane) + radical(Benzyl_S)\"\"\"), molecule=[Molecule(SMILES=\"[CH]1Cc2ccccc2-c2ccccc21\"), Molecule(SMILES=\"[CH]1C=CC=C2C1=CCc1ccccc12\"), Molecule(SMILES=\"[CH]1C=CC2=CCc3ccccc3C2=C1\"), Molecule(SMILES=\"C1C=CC2=CCc3ccccc3[C]2C=1\")]), Species(index=12339, label=\"CC1C2=CC=C3C=CC4[C]3C2C=CC=41\", thermo=NASA(polynomials=[NASAPolynomial(coeffs=[-1.71874,0.103751,-3.79543e-05,-3.38112e-08,2.27814e-11,42209.4,40.2642], Tmin=(100,'K'), Tmax=(975.32,'K')), NASAPolynomial(coeffs=[27.0777,0.0364641,-1.262e-05,2.28971e-09,-1.64564e-13,34175.4,-110.332], Tmin=(975.32,'K'), Tmax=(5000,'K'))], Tmin=(100,'K'), Tmax=(5000,'K'), comment=\"\"\"Thermo group additivity estimation: group(Cs-(Cds-Cds)(Cds-Cds)CsH) + other(R) + group(Cs-(Cds-Cds)(Cds-Cds)CsH) + other(R) + group(Cs-(Cds-Cds)(Cds-\n",
       "Cds)CsH) + other(R) + group(Cs-CsHHH) + other(R) + group(Cds-CdsCsCs) + other(R) + group(Cds-Cds(Cds-Cds)Cs) + other(R) + group(Cds-Cds(Cds-Cds)Cs) +\n",
       "other(R) + group(Cds-Cds(Cds-Cds)Cs) + other(R) + group(Cds-CdsCsH) + other(R) + group(Cds-Cds(Cds-Cds)H) + other(R) + group(Cds-Cds(Cds-Cds)H) +\n",
       "other(R) + group(Cds-Cds(Cds-Cds)H) + other(R) + group(Cds-Cds(Cds-Cds)H) + other(R) + group(Cds-Cds(Cds-Cds)H) + other(R) +\n",
       "polycyclic(s2_5_6_triene_0_2_7) + polycyclic(s2_5_6_triene_0_2_7) + polycyclic(s2_6_6_tetraene_1_3_6_8) + polycyclic(s2_6_6_triene_0_2_6) + Thermo\n",
       "group additivity estimation: polycyclic(s4_6_6_ane) - ring(Cyclohexane) - ring(Cyclohexane) + ring(Cyclohexene) + ring(1,3-Cyclohexadiene) -\n",
       "ring(1,3-Cyclohexadiene) - ring(1,3-Cyclohexadiene) - ring(Cyclopentene) - ring(1,3-Cyclohexadiene) - ring(1,3-Cyclohexadiene) - ring(Cyclohexene) +\n",
       "radical(Tertalkyl)\"\"\"), molecule=[Molecule(SMILES=\"CC1C2=CC=C3C=CC4[C]3C2C=CC=41\"), Molecule(SMILES=\"CC1C2=C[CH]C3C=CC4=C1C=CC2C=34\"), Molecule(SMILES=\"CC1[C]2C=CC3C1=CC=C1C=CC2=C13\"), Molecule(SMILES=\"CC1[C]2C=CC3C=CC4=C1C=CC2C=34\"), Molecule(SMILES=\"CC1C2=C[CH]C3C1=CC=C1C=CC2=C13\")])], products=[Species(index=12608, label=\"CC1C2=CC=C3C=CC4=C1C=CC2C34\", thermo=NASA(polynomials=[NASAPolynomial(coeffs=[-1.79286,0.0961898,9.40811e-06,-9.64299e-08,4.80621e-11,19919.6,38.7022], Tmin=(100,'K'), Tmax=(950.98,'K')), NASAPolynomial(coeffs=[32.1592,0.0305204,-8.68291e-06,1.54815e-09,-1.17991e-13,9973.89,-141.73], Tmin=(950.98,'K'), Tmax=(5000,'K'))], Tmin=(100,'K'), Tmax=(5000,'K'), comment=\"\"\"Thermo group additivity estimation: group(Cs-(Cds-Cds)(Cds-Cds)CsH) + other(R) + group(Cs-(Cds-Cds)(Cds-Cds)CsH) + other(R) + group(Cs-(Cds-Cds)(Cds-\n",
       "Cds)CsH) + other(R) + group(Cs-CsHHH) + other(R) + group(Cds-CdsCsCs) + other(R) + group(Cds-Cds(Cds-Cds)Cs) + other(R) + group(Cds-Cds(Cds-Cds)Cs) +\n",
       "other(R) + group(Cds-Cds(Cds-Cds)Cs) + other(R) + group(Cds-CdsCsH) + other(R) + group(Cds-Cds(Cds-Cds)H) + other(R) + group(Cds-Cds(Cds-Cds)H) +\n",
       "other(R) + group(Cds-Cds(Cds-Cds)H) + other(R) + group(Cds-Cds(Cds-Cds)H) + other(R) + group(Cds-Cds(Cds-Cds)H) + other(R) +\n",
       "polycyclic(s2_5_6_triene_0_2_7) + polycyclic(s2_6_6_tetraene_1_3_6_8) + polycyclic(s2_6_6_triene_0_2_6) + polycyclic(s2_5_6_triene_0_2_7) + Thermo\n",
       "group additivity estimation: polycyclic(s4_6_6_ane) - ring(Cyclohexane) - ring(Cyclohexane) + ring(1,3-Cyclohexadiene) + ring(Cyclohexene) -\n",
       "ring(Cyclopentene) - ring(Cyclohexene) - ring(1,3-Cyclohexadiene) - ring(1,3-Cyclohexadiene) - ring(1,3-Cyclohexadiene) - ring(1,3-Cyclohexadiene)\"\"\"), molecule=[Molecule(SMILES=\"CC1C2=CC=C3C=CC4=C1C=CC2C34\")]), Species(index=16320, label=\"C1=CC=C2C(C=Cc3ccccc32)=C1\", thermo=NASA(polynomials=[NASAPolynomial(coeffs=[-0.498455,0.0710257,4.57112e-05,-1.08201e-07,4.54722e-11,21944.5,25.0051], Tmin=(100,'K'), Tmax=(987,'K')), NASAPolynomial(coeffs=[22.4758,0.0451468,-1.71296e-05,3.25532e-09,-2.38524e-13,14134.8,-102.12], Tmin=(987,'K'), Tmax=(5000,'K'))], Tmin=(100,'K'), Tmax=(5000,'K'), comment=\"\"\"Thermo group additivity estimation: group(Cbf-CbCbfCbf) + other(R) + group(Cbf-CbCbfCbf) + other(R) + group(Cbf-CbCbCbf) + other(R) + group(Cbf-\n",
       "CbCbCbf) + other(R) + group(Cb-H) + other(R) + group(Cb-H) + other(R) + group(Cb-H) + other(R) + group(Cb-H) + other(R) + group(Cb-H) + other(R) +\n",
       "group(Cb-H) + other(R) + group(Cb-H) + other(R) + group(Cb-H) + other(R) + group(Cb-H) + other(R) + group(Cb-H) + other(R) +\n",
       "polycyclic(s2_6_6_naphthalene) + polycyclic(s2_6_6_naphthalene) - ring(Benzene)\"\"\"), molecule=[Molecule(SMILES=\"c1ccc2c(c1)ccc1ccccc12\"), Molecule(SMILES=\"C1=Cc2ccccc2-c2ccccc21\")])], kinetics=Arrhenius(A=(4.32e+14,'cm^3/(mol*s)'), n=-0.75, Ea=(0,'kcal/mol'), T0=(1,'K'), comment=\"\"\"Average of [Average of [Average of [Average of [C_rad/Cs3;C/H2/Nd_Csrad]] + Average of [Average of [C_rad/Cs3;C/H2/Nd_Csrad] + Average of\n",
       "[C_rad/Cs3;C/H2/Nd_Csrad]]] + Average of [Average of [Average of [C_rad/Cs3;C/H2/Nd_Csrad] + Average of [C_rad/Cs3;C/H2/Nd_Csrad]] + Average of\n",
       "[Average of [C_rad/Cs3;C/H2/Nd_Csrad]]]]\n",
       "Estimated using template [C_ter_rad;Cpri_Rrad] for rate rule [C_rad/Cs;C/H2/De_Csrad]\n",
       "Multiplied by reaction path degeneracy 2\"\"\"), pairs=[(Species(index=12339, label=\"CC1C2=CC=C3C=CC4[C]3C2C=CC=41\", thermo=NASA(polynomials=[NASAPolynomial(coeffs=[-1.71874,0.103751,-3.79543e-05,-3.38112e-08,2.27814e-11,42209.4,40.2642], Tmin=(100,'K'), Tmax=(975.32,'K')), NASAPolynomial(coeffs=[27.0777,0.0364641,-1.262e-05,2.28971e-09,-1.64564e-13,34175.4,-110.332], Tmin=(975.32,'K'), Tmax=(5000,'K'))], Tmin=(100,'K'), Tmax=(5000,'K'), comment=\"\"\"Thermo group additivity estimation: group(Cs-(Cds-Cds)(Cds-Cds)CsH) + other(R) + group(Cs-(Cds-Cds)(Cds-Cds)CsH) + other(R) + group(Cs-(Cds-Cds)(Cds-\n",
       "Cds)CsH) + other(R) + group(Cs-CsHHH) + other(R) + group(Cds-CdsCsCs) + other(R) + group(Cds-Cds(Cds-Cds)Cs) + other(R) + group(Cds-Cds(Cds-Cds)Cs) +\n",
       "other(R) + group(Cds-Cds(Cds-Cds)Cs) + other(R) + group(Cds-CdsCsH) + other(R) + group(Cds-Cds(Cds-Cds)H) + other(R) + group(Cds-Cds(Cds-Cds)H) +\n",
       "other(R) + group(Cds-Cds(Cds-Cds)H) + other(R) + group(Cds-Cds(Cds-Cds)H) + other(R) + group(Cds-Cds(Cds-Cds)H) + other(R) +\n",
       "polycyclic(s2_5_6_triene_0_2_7) + polycyclic(s2_5_6_triene_0_2_7) + polycyclic(s2_6_6_tetraene_1_3_6_8) + polycyclic(s2_6_6_triene_0_2_6) + Thermo\n",
       "group additivity estimation: polycyclic(s4_6_6_ane) - ring(Cyclohexane) - ring(Cyclohexane) + ring(Cyclohexene) + ring(1,3-Cyclohexadiene) -\n",
       "ring(1,3-Cyclohexadiene) - ring(1,3-Cyclohexadiene) - ring(Cyclopentene) - ring(1,3-Cyclohexadiene) - ring(1,3-Cyclohexadiene) - ring(Cyclohexene) +\n",
       "radical(Tertalkyl)\"\"\"), molecule=[Molecule(SMILES=\"CC1C2=CC=C3C=CC4[C]3C2C=CC=41\"), Molecule(SMILES=\"CC1C2=C[CH]C3C=CC4=C1C=CC2C=34\"), Molecule(SMILES=\"CC1[C]2C=CC3C1=CC=C1C=CC2=C13\"), Molecule(SMILES=\"CC1[C]2C=CC3C=CC4=C1C=CC2C=34\"), Molecule(SMILES=\"CC1C2=C[CH]C3C1=CC=C1C=CC2=C13\")]), Species(index=12608, label=\"CC1C2=CC=C3C=CC4=C1C=CC2C34\", thermo=NASA(polynomials=[NASAPolynomial(coeffs=[-1.79286,0.0961898,9.40811e-06,-9.64299e-08,4.80621e-11,19919.6,38.7022], Tmin=(100,'K'), Tmax=(950.98,'K')), NASAPolynomial(coeffs=[32.1592,0.0305204,-8.68291e-06,1.54815e-09,-1.17991e-13,9973.89,-141.73], Tmin=(950.98,'K'), Tmax=(5000,'K'))], Tmin=(100,'K'), Tmax=(5000,'K'), comment=\"\"\"Thermo group additivity estimation: group(Cs-(Cds-Cds)(Cds-Cds)CsH) + other(R) + group(Cs-(Cds-Cds)(Cds-Cds)CsH) + other(R) + group(Cs-(Cds-Cds)(Cds-\n",
       "Cds)CsH) + other(R) + group(Cs-CsHHH) + other(R) + group(Cds-CdsCsCs) + other(R) + group(Cds-Cds(Cds-Cds)Cs) + other(R) + group(Cds-Cds(Cds-Cds)Cs) +\n",
       "other(R) + group(Cds-Cds(Cds-Cds)Cs) + other(R) + group(Cds-CdsCsH) + other(R) + group(Cds-Cds(Cds-Cds)H) + other(R) + group(Cds-Cds(Cds-Cds)H) +\n",
       "other(R) + group(Cds-Cds(Cds-Cds)H) + other(R) + group(Cds-Cds(Cds-Cds)H) + other(R) + group(Cds-Cds(Cds-Cds)H) + other(R) +\n",
       "polycyclic(s2_5_6_triene_0_2_7) + polycyclic(s2_6_6_tetraene_1_3_6_8) + polycyclic(s2_6_6_triene_0_2_6) + polycyclic(s2_5_6_triene_0_2_7) + Thermo\n",
       "group additivity estimation: polycyclic(s4_6_6_ane) - ring(Cyclohexane) - ring(Cyclohexane) + ring(1,3-Cyclohexadiene) + ring(Cyclohexene) -\n",
       "ring(Cyclopentene) - ring(Cyclohexene) - ring(1,3-Cyclohexadiene) - ring(1,3-Cyclohexadiene) - ring(1,3-Cyclohexadiene) - ring(1,3-Cyclohexadiene)\"\"\"), molecule=[Molecule(SMILES=\"CC1C2=CC=C3C=CC4=C1C=CC2C34\")])), (Species(index=16463, label=\"[CH]1CC2C=CC=CC=2C2C=CC=CC=21\", thermo=NASA(polynomials=[NASAPolynomial(coeffs=[-0.589751,0.0790433,1.59607e-05,-7.29972e-08,3.25995e-11,38466.6,26.3982], Tmin=(100,'K'), Tmax=(985.5,'K')), NASAPolynomial(coeffs=[19.2524,0.0500701,-1.84224e-05,3.35329e-09,-2.3703e-13,32051.8,-81.7426], Tmin=(985.5,'K'), Tmax=(5000,'K'))], Tmin=(100,'K'), Tmax=(5000,'K'), comment=\"\"\"Thermo group additivity estimation: group(Cs-CbCsHH) + other(R) + group(Cs-CbCsHH) + other(R) + group(Cb-Cs) + other(R) + group(Cb-Cs) + other(R) +\n",
       "group(Cb-Cb) + other(R) + group(Cb-Cb) + other(R) + group(Cb-H) + other(R) + group(Cb-H) + other(R) + group(Cb-H) + other(R) + group(Cb-H) + other(R)\n",
       "+ group(Cb-H) + other(R) + group(Cb-H) + other(R) + group(Cb-H) + other(R) + group(Cb-H) + other(R) + polycyclic(s2_6_6_ben) + polycyclic(s2_6_6_ben)\n",
       "- ring(Cyclohexane) + radical(Benzyl_S)\"\"\"), molecule=[Molecule(SMILES=\"[CH]1Cc2ccccc2-c2ccccc21\"), Molecule(SMILES=\"[CH]1C=CC=C2C1=CCc1ccccc12\"), Molecule(SMILES=\"[CH]1C=CC2=CCc3ccccc3C2=C1\"), Molecule(SMILES=\"C1C=CC2=CCc3ccccc3[C]2C=1\")]), Species(index=16320, label=\"C1=CC=C2C(C=Cc3ccccc32)=C1\", thermo=NASA(polynomials=[NASAPolynomial(coeffs=[-0.498455,0.0710257,4.57112e-05,-1.08201e-07,4.54722e-11,21944.5,25.0051], Tmin=(100,'K'), Tmax=(987,'K')), NASAPolynomial(coeffs=[22.4758,0.0451468,-1.71296e-05,3.25532e-09,-2.38524e-13,14134.8,-102.12], Tmin=(987,'K'), Tmax=(5000,'K'))], Tmin=(100,'K'), Tmax=(5000,'K'), comment=\"\"\"Thermo group additivity estimation: group(Cbf-CbCbfCbf) + other(R) + group(Cbf-CbCbfCbf) + other(R) + group(Cbf-CbCbCbf) + other(R) + group(Cbf-\n",
       "CbCbCbf) + other(R) + group(Cb-H) + other(R) + group(Cb-H) + other(R) + group(Cb-H) + other(R) + group(Cb-H) + other(R) + group(Cb-H) + other(R) +\n",
       "group(Cb-H) + other(R) + group(Cb-H) + other(R) + group(Cb-H) + other(R) + group(Cb-H) + other(R) + group(Cb-H) + other(R) +\n",
       "polycyclic(s2_6_6_naphthalene) + polycyclic(s2_6_6_naphthalene) - ring(Benzene)\"\"\"), molecule=[Molecule(SMILES=\"c1ccc2c(c1)ccc1ccccc12\"), Molecule(SMILES=\"C1=Cc2ccccc2-c2ccccc21\")]))])"
      ]
     },
     "metadata": {},
     "output_type": "display_data"
    },
    {
     "name": "stdout",
     "output_type": "stream",
     "text": [
      "Forward rate coefficient at 1200 K: 2.12E+06 [cm3, mole, s]\n",
      "Reverse rate coefficient at 1200 K: 8.91E-07 [cm3, mole, s]\n",
      "\n",
      "\n",
      "\n",
      "\n",
      "Step2 \t\t\t\t Integrated Flux (mole)\n",
      "************************************************************************\n",
      "S(16463) <-- C12H9(808) \t\t 2.290E-05\n",
      "************************************************************************\n",
      "\n",
      "Example reaction: rxn#1400\n",
      "\n",
      "C=Cc1ccccc1-c1[c]cccc1(23301) <=> [CH]1CC2C=CC=CC=2C2C=CC=CC=21(16463): Integrated Flux = -2.290E-05 mole\n"
     ]
    },
    {
     "data": {
      "image/png": "[encoded data removed]",
      "text/plain": [
       "Reaction(index=1400, reactants=[Species(index=23301, label=\"C=Cc1ccccc1-c1[c]cccc1\", thermo=NASA(polynomials=[NASAPolynomial(coeffs=[-1.28831,0.0889713,9.61702e-06,-8.08903e-08,3.81983e-11,56497.5,38.4849], Tmin=(100,'K'), Tmax=(981.79,'K')), NASAPolynomial(coeffs=[26.5742,0.0401754,-1.47148e-05,2.777e-09,-2.04202e-13,47907.2,-111.309], Tmin=(981.79,'K'), Tmax=(5000,'K'))], Tmin=(100,'K'), Tmax=(5000,'K'), comment=\"\"\"Thermo group additivity estimation: group(Cb-Cb) + other(R) + group(Cb-(Cds-Cds)) + other(R) + group(Cb-Cb) + other(R) + group(Cb-H) + other(R) +\n",
       "group(Cb-H) + other(R) + group(Cb-H) + other(R) + group(Cb-H) + other(R) + group(Cb-H) + other(R) + group(Cb-H) + other(R) + group(Cb-H) + other(R) +\n",
       "group(Cds-CdsCbH) + other(R) + group(Cb-H) + other(R) + group(Cb-H) + other(R) + group(Cds-CdsHH) + other(R) + ring(Benzene) + ring(Benzene) +\n",
       "radical(CbJ)\"\"\"), molecule=[Molecule(SMILES=\"C=Cc1ccccc1-c1[c]cccc1\")])], products=[Species(index=16463, label=\"[CH]1CC2C=CC=CC=2C2C=CC=CC=21\", thermo=NASA(polynomials=[NASAPolynomial(coeffs=[-0.589751,0.0790433,1.59607e-05,-7.29972e-08,3.25995e-11,38466.6,26.3982], Tmin=(100,'K'), Tmax=(985.5,'K')), NASAPolynomial(coeffs=[19.2524,0.0500701,-1.84224e-05,3.35329e-09,-2.3703e-13,32051.8,-81.7426], Tmin=(985.5,'K'), Tmax=(5000,'K'))], Tmin=(100,'K'), Tmax=(5000,'K'), comment=\"\"\"Thermo group additivity estimation: group(Cs-CbCsHH) + other(R) + group(Cs-CbCsHH) + other(R) + group(Cb-Cs) + other(R) + group(Cb-Cs) + other(R) +\n",
       "group(Cb-Cb) + other(R) + group(Cb-Cb) + other(R) + group(Cb-H) + other(R) + group(Cb-H) + other(R) + group(Cb-H) + other(R) + group(Cb-H) + other(R)\n",
       "+ group(Cb-H) + other(R) + group(Cb-H) + other(R) + group(Cb-H) + other(R) + group(Cb-H) + other(R) + polycyclic(s2_6_6_ben) + polycyclic(s2_6_6_ben)\n",
       "- ring(Cyclohexane) + radical(Benzyl_S)\"\"\"), molecule=[Molecule(SMILES=\"[CH]1Cc2ccccc2-c2ccccc21\"), Molecule(SMILES=\"[CH]1C=CC=C2C1=CCc1ccccc12\"), Molecule(SMILES=\"[CH]1C=CC2=CCc3ccccc3C2=C1\"), Molecule(SMILES=\"C1C=CC2=CCc3ccccc3[C]2C=1\")])], kinetics=Arrhenius(A=(2.983e+12,'s^-1'), n=-0.321, Ea=(5.655,'kcal/mol'), T0=(1,'K'), comment=\"\"\"Average of [R6_MSR_D;doublebond_intra_pri_2H;radadd_intra_Cb from training reaction 55]\n",
       "Estimated using an average for rate rule [R6_MSR;doublebond_intra_pri_2H;radadd_intra_Cb]\"\"\"), pairs=[(Species(index=23301, label=\"C=Cc1ccccc1-c1[c]cccc1\", thermo=NASA(polynomials=[NASAPolynomial(coeffs=[-1.28831,0.0889713,9.61702e-06,-8.08903e-08,3.81983e-11,56497.5,38.4849], Tmin=(100,'K'), Tmax=(981.79,'K')), NASAPolynomial(coeffs=[26.5742,0.0401754,-1.47148e-05,2.777e-09,-2.04202e-13,47907.2,-111.309], Tmin=(981.79,'K'), Tmax=(5000,'K'))], Tmin=(100,'K'), Tmax=(5000,'K'), comment=\"\"\"Thermo group additivity estimation: group(Cb-Cb) + other(R) + group(Cb-(Cds-Cds)) + other(R) + group(Cb-Cb) + other(R) + group(Cb-H) + other(R) +\n",
       "group(Cb-H) + other(R) + group(Cb-H) + other(R) + group(Cb-H) + other(R) + group(Cb-H) + other(R) + group(Cb-H) + other(R) + group(Cb-H) + other(R) +\n",
       "group(Cds-CdsCbH) + other(R) + group(Cb-H) + other(R) + group(Cb-H) + other(R) + group(Cds-CdsHH) + other(R) + ring(Benzene) + ring(Benzene) +\n",
       "radical(CbJ)\"\"\"), molecule=[Molecule(SMILES=\"C=Cc1ccccc1-c1[c]cccc1\")]), Species(index=16463, label=\"[CH]1CC2C=CC=CC=2C2C=CC=CC=21\", thermo=NASA(polynomials=[NASAPolynomial(coeffs=[-0.589751,0.0790433,1.59607e-05,-7.29972e-08,3.25995e-11,38466.6,26.3982], Tmin=(100,'K'), Tmax=(985.5,'K')), NASAPolynomial(coeffs=[19.2524,0.0500701,-1.84224e-05,3.35329e-09,-2.3703e-13,32051.8,-81.7426], Tmin=(985.5,'K'), Tmax=(5000,'K'))], Tmin=(100,'K'), Tmax=(5000,'K'), comment=\"\"\"Thermo group additivity estimation: group(Cs-CbCsHH) + other(R) + group(Cs-CbCsHH) + other(R) + group(Cb-Cs) + other(R) + group(Cb-Cs) + other(R) +\n",
       "group(Cb-Cb) + other(R) + group(Cb-Cb) + other(R) + group(Cb-H) + other(R) + group(Cb-H) + other(R) + group(Cb-H) + other(R) + group(Cb-H) + other(R)\n",
       "+ group(Cb-H) + other(R) + group(Cb-H) + other(R) + group(Cb-H) + other(R) + group(Cb-H) + other(R) + polycyclic(s2_6_6_ben) + polycyclic(s2_6_6_ben)\n",
       "- ring(Cyclohexane) + radical(Benzyl_S)\"\"\"), molecule=[Molecule(SMILES=\"[CH]1Cc2ccccc2-c2ccccc21\"), Molecule(SMILES=\"[CH]1C=CC=C2C1=CCc1ccccc12\"), Molecule(SMILES=\"[CH]1C=CC2=CCc3ccccc3C2=C1\"), Molecule(SMILES=\"C1C=CC2=CCc3ccccc3[C]2C=1\")]))])"
      ]
     },
     "metadata": {},
     "output_type": "display_data"
    },
    {
     "name": "stdout",
     "output_type": "stream",
     "text": [
      "Forward rate coefficient at 1200 K: 2.86E+10 [cm3, mole, s]\n",
      "Reverse rate coefficient at 1200 K: 9.55E+08 [cm3, mole, s]\n"
     ]
    }
   ],
   "source": [
    "########## User Input ####################\n",
    "target = \"S(16320)\"\n",
    "depth = 2\n",
    "path_top_list = [0, 0]\n",
    "##########################################\n",
    "\n",
    "\n",
    "current_node = target\n",
    "print ''\n",
    "print '\\t Pathway Report '\n",
    "print '======================================'\n",
    "print 'The pathway you are intested in has {0} steps.'.format(depth)\n",
    "print ''\n",
    "if showIntegratedFlux:\n",
    "    product_flux = 0\n",
    "    for t in range(timepoint_index):\n",
    "        productROP0 = spc_total_rop_dict[target][1][t]\n",
    "        productROP1 = spc_total_rop_dict[target][1][t+1]\n",
    "        product_flux += 0.5 * (productROP1 * Vlist[t+1] + productROP0 * Vlist[t]) * (timeList[t+1] - timeList[t]) # in mole\n",
    "    print \"total integrated product flux for {0} is {1:.3E} mole.\".format(target, product_flux)\n",
    "else:\n",
    "    print \"total product flux for {0} is {1:.3E} mole/cm3/s.\".format(target, spc_total_rop_dict[target][1][timepoint_index])\n",
    "for step in range(depth):\n",
    "    print \"\\n\"\n",
    "    prev_nodes = []\n",
    "    for node1 in G:\n",
    "        if current_node in G[node1]:\n",
    "            prev_nodes.append(node1)\n",
    "    prevNode_flux_list = [(prev_node, G[prev_node][current_node]['total_flux']) for prev_node in prev_nodes]\n",
    "    sorted_prevNode_flux_list = sorted(prevNode_flux_list, key=lambda tup: -tup[1])\n",
    "    \n",
    "    # choose the top one as next node\n",
    "    tup = sorted_prevNode_flux_list[path_top_list[step]]\n",
    "    prev_node = tup[0]\n",
    "    step_flux = tup[1]\n",
    "    \n",
    "    print \"\"\n",
    "    if showIntegratedFlux:\n",
    "        print \"Step{0} \\t\\t\\t\\t Integrated Flux (mole)\".format(step+1)\n",
    "        print '************************************************************************'\n",
    "        print \"{0} <-- {1} \\t\\t {2:.3E}\".\\\n",
    "        format(current_node, next_node, step_flux)\n",
    "        print '************************************************************************'\n",
    "    else:\n",
    "        print \"Step{0} \\t\\t\\t\\t Flux (mole/cm3/s)\".format(step+1)\n",
    "        print '****************************************************'\n",
    "        print \"{0} <-- {1} \\t\\t {2:.3E}\".\\\n",
    "        format(current_node, next_node, step_flux)\n",
    "        print '****************************************************'\n",
    "    \n",
    "    step_pair = (prev_node, current_node)\n",
    "    if step_pair not in graph_edges_dict_simple:\n",
    "        step_pair = (current_node, prev_node)\n",
    "    \n",
    "    h_abs_rxns = []\n",
    "    disp_rxns = []\n",
    "    Pdep_rxns = []\n",
    "    for rxn in graph_edges_dict_simple[step_pair]:\n",
    "        if isinstance(rxn, PDepReaction):\n",
    "            Pdep_rxns.append(rxn)\n",
    "        elif rxn.family == \"H_Abstraction\":\n",
    "            h_abs_rxns.append(rxn)\n",
    "        elif rxn.family == \"Disproportionation\":\n",
    "            disp_rxns.append(rxn)\n",
    "        else:\n",
    "            print ''\n",
    "            print \"Example reaction: rxn#{0}\".format(rxn.index)\n",
    "            print ''\n",
    "            if showIntegratedFlux:\n",
    "            #integrate the flux using a trapezoidal rule\n",
    "                integrated_flux = 0\n",
    "                for t in range(timepoint_index):\n",
    "                    rxnROP0 = graph_edges_dict_simple[step_pair][rxn][t]\n",
    "                    rxnROP1 = graph_edges_dict_simple[step_pair][rxn][t+1]\n",
    "                    integrated_flux += 0.5 * (rxnROP1 * Vlist[t+1] + rxnROP0 * Vlist[t]) * (timeList[t+1] - timeList[t]) # in mole\n",
    "                print \"{0}: Integrated Flux = {1:.3E} mole\".format(str(rxn), integrated_flux)\n",
    "            else:\n",
    "                print \"{0}: Flux = {1:.3E} mole/cm3/s\".format(str(rxn), graph_edges_dict_simple[step_pair][rxn][timepoint_index])\n",
    "            display(rxn)\n",
    "            print 'Forward rate coefficient at {0} K: {1:.2E} [cm3, mole, s]'.format(T, rxn.getRateCoefficient(T))\n",
    "            reverseRate = rxn.generateReverseRateCoefficient()\n",
    "            print 'Reverse rate coefficient at {0} K: {1:.2E} [cm3, mole, s]'.format(T, reverseRate.getRateCoefficient(T))\n",
    "            \n",
    "    if len(h_abs_rxns) > 0:\n",
    "        print ''\n",
    "        print \"Example H_Abstraction: rxn#{0}(1/{1} H_Abs)\".format(h_abs_rxns[0].index, len(h_abs_rxns))\n",
    "        print ''\n",
    "        print str(h_abs_rxns[0])\n",
    "        display(h_abs_rxns[0])\n",
    "        print 'Forward rate coefficient at {0} K: {1:.2E} [cm3, mole, s]'.format(T, h_abs_rxns[0].getRateCoefficient(T))\n",
    "        reverseRate = h_abs_rxns[0].generateReverseRateCoefficient()\n",
    "        print 'Reverse rate coefficient at {0} K: {1:.2E} [cm3, mole, s]'.format(T, reverseRate.getRateCoefficient(T))\n",
    "        print ''\n",
    "    if len(disp_rxns) > 0: \n",
    "        print ''\n",
    "        print \"Example Disproportionation: rxn#{0}(1/{1} Disp)\".format(disp_rxns[0].index, len(disp_rxns))\n",
    "        print ''\n",
    "        print str(disp_rxns[0])\n",
    "        display(disp_rxns[0])\n",
    "        print 'Forward rate coefficient at {0} K: {1:.2E} [cm3, mole, s]'.format(T, disp_rxns[0].getRateCoefficient(T))\n",
    "        reverseRate = disp_rxns[0].generateReverseRateCoefficient()\n",
    "        print 'Reverse rate coefficient at {0} K: {1:.2E} [cm3, mole, s]'.format(T, reverseRate.getRateCoefficient(T))\n",
    "        print ''\n",
    "    if len(Pdep_rxns) > 0: \n",
    "        print ''\n",
    "        print \"Example Pressure-dependent Rxn: rxn#{0} (1/{1} Pdep_rxns): \".format(Pdep_rxns[0].index, len(Pdep_rxns)) \n",
    "        print ''\n",
    "        print str(Pdep_rxns[0])\n",
    "        display(Pdep_rxns[0])\n",
    "        print 'Forward rate coefficient at {0} K and {1} Pa: {2:.2E} [cm3, mole, s]'.format(T, P, Pdep_rxns[0].getRateCoefficient(T, P))\n",
    "        reverseRate = Pdep_rxns[0].generateReverseRateCoefficient()\n",
    "        print 'Reverse rate coefficient at {0} K and {1} Pa: {2:.2E} [cm3, mole, s]'.format(T, P, reverseRate.getRateCoefficient(T, P))\n",
    "        print ''\n",
    "    \n",
    "    current_node = prev_node"
   ]
  },
  {
   "cell_type": "markdown",
   "metadata": {},
   "source": [
    "### More detail for the H_Abstration and Disproportionation in last step of the pathway"
   ]
  },
  {
   "cell_type": "code",
   "execution_count": null,
   "metadata": {
    "collapsed": false
   },
   "outputs": [],
   "source": [
    "print ''\n",
    "print 'The step you see currently is between the two species {0}'.format(step_pair)\n",
    "print ''\n",
    "print 'Positive flux in below means positive production of 1st node of the pair.'\n",
    "print ''\n",
    "print 'This step have {0} H_Abstration and Disproportionation in total.'.format(len(h_abs_rxns + disp_rxns))\n",
    "\n",
    "flux_threshold = 1e-9\n",
    "\n",
    "print ''\n",
    "print 'TO avoid too much printout, the reactions shown below have fluxes above {0}.'.format(flux_threshold)\n",
    "\n",
    "total_flux = 0\n",
    "rxn_flux_tups = []\n",
    "for rxn in h_abs_rxns + disp_rxns:\n",
    "    if showIntegratedFlux:\n",
    "    #integrate the flux using a trapezoidal rule\n",
    "        flux = 0\n",
    "        for t in range(timepoint_index):\n",
    "            rxnROP0 = graph_edges_dict_simple[step_pair][rxn][t]\n",
    "            rxnROP1 = graph_edges_dict_simple[step_pair][rxn][t+1]\n",
    "            flux += 0.5 * (rxnROP1 * Vlist[t+1] + rxnROP0 * Vlist[t]) * (timeList[t+1] - timeList[t]) # in mole\n",
    "    else:\n",
    "        flux = graph_edges_dict_simple[step_pair][rxn][timepoint_index]\n",
    "    rxn_flux_tups.append((rxn, flux))\n",
    "\n",
    "rxn_flux_tups = sorted(rxn_flux_tups, key=lambda tup: tup[1], reverse=False)\n",
    "for tup in rxn_flux_tups:\n",
    "    rxn = tup[0]\n",
    "    flux = tup[1]\n",
    "    if flux > flux_threshold:\n",
    "        total_flux += flux\n",
    "        print ''\n",
    "        print \"**********************************************************************************\"\n",
    "        if showIntegratedFlux:\n",
    "            print \"rxn#{0}: {1}: Integrated Flux = {2:.3E} mole \".format(rxn.index, str(rxn), flux) \n",
    "        else:\n",
    "            print \"rxn#{0}: {1}: Flux = {2:.3E} mole/cm3/s\".format(rxn.index, str(rxn), flux)\n",
    "        display(rxn) \n",
    "print \"***************************************\"\n",
    "print ''\n",
    "if showIntegratedFlux:\n",
    "    print \"TOTAL integrated flux from h_abs and disp is {0:.3E} mole.\".format(total_flux)\n",
    "else:\n",
    "    print \"TOTAL flux from h_abs and disp is {0:.3E} mole/cm3/s.\".format(total_flux)\n"
   ]
  },
  {
   "cell_type": "code",
   "execution_count": null,
   "metadata": {
    "collapsed": true
   },
   "outputs": [],
   "source": []
  }
 ],
 "metadata": {
  "anaconda-cloud": {},
  "kernelspec": {
   "display_name": "Python [default]",
   "language": "python",
   "name": "python2"
  },
  "language_info": {
   "codemirror_mode": {
    "name": "ipython",
    "version": 2
   },
   "file_extension": ".py",
   "mimetype": "text/x-python",
   "name": "python",
   "nbconvert_exporter": "python",
   "pygments_lexer": "ipython2",
   "version": "2.7.12"
  }
 },
 "nbformat": 4,
 "nbformat_minor": 0
}
