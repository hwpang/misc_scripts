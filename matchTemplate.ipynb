{
 "cells": [
  {
   "cell_type": "code",
   "execution_count": 2,
   "metadata": {
    "collapsed": true
   },
   "outputs": [],
   "source": [
    "from rmgpy.species import Species\n",
    "from rmgpy.molecule import Molecule, Group\n",
    "from rmgpy.molecule.resonance import *\n",
    "\n",
    "from IPython.display import display"
   ]
  },
  {
   "cell_type": "code",
   "execution_count": 3,
   "metadata": {
    "collapsed": false
   },
   "outputs": [],
   "source": [
    "grp = Group().fromAdjacencyList(\"\"\"\n",
    "1  C u0 p0 c0 {3,S} {6,S} {7,S} {8,S}\n",
    "2  C u0 p0 c0 {4,S} {5,D} {6,S}\n",
    "3  C u0 p0 c0 {1,S} {4,D} {9,S}\n",
    "4  C u0 p0 c0 {2,S} {3,D} {10,S}\n",
    "5  C u0 p0 c0 {2,D} {11,S} {12,S}\n",
    "6  C u0 p1 c0 {1,S} {2,S}\n",
    "7  H u0 p0 c0 {1,S}\n",
    "8  H u0 p0 c0 {1,S}\n",
    "9  H u0 p0 c0 {3,S}\n",
    "10 H u0 p0 c0 {4,S}\n",
    "11 H u0 p0 c0 {5,S}\n",
    "12 H u0 p0 c0 {5,S}\n",
    "\"\"\")\n",
    "\n",
    "template = Group().fromAdjacencyList(\"\"\"\n",
    "1 *4 [CS,CO,Cd] u0 {2,D} {4,S}\n",
    "2 *3 [CS,CO,Cd] u0 {1,D} {5,S}\n",
    "3 *1 C          u0 {4,S} {5,S}\n",
    "4 *5 Cs         u0 p[1,2,3,4] {1,S} {3,S}\n",
    "5 *2 C          u0 {2,S} {3,S}\n",
    "\"\"\")"
   ]
  },
  {
   "cell_type": "code",
   "execution_count": 4,
   "metadata": {
    "collapsed": false
   },
   "outputs": [
    {
     "data": {
      "text/plain": [
       "False"
      ]
     },
     "execution_count": 4,
     "metadata": {},
     "output_type": "execute_result"
    }
   ],
   "source": [
    "grp.isSubgraphIsomorphic(template)"
   ]
  },
  {
   "cell_type": "code",
   "execution_count": 5,
   "metadata": {
    "collapsed": false
   },
   "outputs": [
    {
     "data": {
      "text/plain": [
       "[]"
      ]
     },
     "execution_count": 5,
     "metadata": {},
     "output_type": "execute_result"
    }
   ],
   "source": [
    "grp.findSubgraphIsomorphisms(template)"
   ]
  },
  {
   "cell_type": "code",
   "execution_count": null,
   "metadata": {
    "collapsed": true
   },
   "outputs": [],
   "source": []
  }
 ],
 "metadata": {
  "anaconda-cloud": {},
  "kernelspec": {
   "display_name": "Python [conda env:rmg_env]",
   "language": "python",
   "name": "conda-env-rmg_env-py"
  },
  "language_info": {
   "codemirror_mode": {
    "name": "ipython",
    "version": 2
   },
   "file_extension": ".py",
   "mimetype": "text/x-python",
   "name": "python",
   "nbconvert_exporter": "python",
   "pygments_lexer": "ipython2",
   "version": "2.7.12"
  }
 },
 "nbformat": 4,
 "nbformat_minor": 1
}
