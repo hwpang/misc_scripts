{
 "cells": [
  {
   "cell_type": "code",
   "execution_count": 1,
   "metadata": {
    "collapsed": false
   },
   "outputs": [],
   "source": [
    "import rmgpy\n",
    "from rmgpy.molecule.resonance import generateClarStructures\n",
    "from rmgpy.molecule.molecule import Molecule\n",
    "\n",
    "import timeit"
   ]
  },
  {
   "cell_type": "code",
   "execution_count": 25,
   "metadata": {
    "collapsed": false
   },
   "outputs": [],
   "source": [
    "mol = Molecule().fromSMILES('C1=CC2=CC=CC3CC=CC(=C1)C=32')"
   ]
  },
  {
   "cell_type": "code",
   "execution_count": 26,
   "metadata": {
    "collapsed": false
   },
   "outputs": [
    {
     "data": {
      "image/png": "[encoded data removed]",
      "text/plain": [
       "Molecule(SMILES=\"C1=CC2=CC=CC3CC=CC(=C1)C=32\")"
      ]
     },
     "execution_count": 26,
     "metadata": {},
     "output_type": "execute_result"
    }
   ],
   "source": [
    "mol"
   ]
  },
  {
   "cell_type": "code",
   "execution_count": 27,
   "metadata": {
    "collapsed": false
   },
   "outputs": [
    {
     "data": {
      "text/plain": [
       "False"
      ]
     },
     "execution_count": 27,
     "metadata": {},
     "output_type": "execute_result"
    }
   ],
   "source": [
    "mol.isAromatic()"
   ]
  },
  {
   "cell_type": "code",
   "execution_count": 28,
   "metadata": {
    "collapsed": false
   },
   "outputs": [
    {
     "data": {
      "text/plain": [
       "[Molecule(SMILES=\"C1=Cc2cccc3C=CCC(=C1)c23\"),\n",
       " Molecule(SMILES=\"C1=Cc2cccc3CC=CC(=C1)c23\")]"
      ]
     },
     "execution_count": 28,
     "metadata": {},
     "output_type": "execute_result"
    }
   ],
   "source": [
    "out = generateClarStructures(mol)\n",
    "out"
   ]
  },
  {
   "cell_type": "code",
   "execution_count": 29,
   "metadata": {
    "collapsed": false
   },
   "outputs": [
    {
     "data": {
      "image/png": "[encoded data removed]",
      "text/plain": [
       "Molecule(SMILES=\"C1=Cc2cccc3C=CCC(=C1)c23\")"
      ]
     },
     "execution_count": 29,
     "metadata": {},
     "output_type": "execute_result"
    }
   ],
   "source": [
    "out[0]"
   ]
  },
  {
   "cell_type": "code",
   "execution_count": 30,
   "metadata": {
    "collapsed": false
   },
   "outputs": [
    {
     "data": {
      "image/png": "[encoded data removed]",
      "text/plain": [
       "Molecule(SMILES=\"C1=Cc2cccc3CC=CC(=C1)c23\")"
      ]
     },
     "execution_count": 30,
     "metadata": {},
     "output_type": "execute_result"
    }
   ],
   "source": [
    "out[1]"
   ]
  },
  {
   "cell_type": "code",
   "execution_count": 31,
   "metadata": {
    "collapsed": false
   },
   "outputs": [
    {
     "name": "stdout",
     "output_type": "stream",
     "text": [
      "1  C u0 p0 c0 {2,S} {6,S} {14,S} {15,S}\n",
      "2  C u0 p0 c0 {1,S} {3,B} {7,B}\n",
      "3  C u0 p0 c0 {2,B} {4,B} {5,S}\n",
      "4  C u0 p0 c0 {3,B} {9,S} {10,B}\n",
      "5  C u0 p0 c0 {3,S} {8,S} {11,D}\n",
      "6  C u0 p0 c0 {1,S} {8,D} {16,S}\n",
      "7  C u0 p0 c0 {2,B} {13,B} {21,S}\n",
      "8  C u0 p0 c0 {5,S} {6,D} {22,S}\n",
      "9  C u0 p0 c0 {4,S} {12,D} {18,S}\n",
      "10 C u0 p0 c0 {4,B} {13,B} {19,S}\n",
      "11 C u0 p0 c0 {5,D} {12,S} {23,S}\n",
      "12 C u0 p0 c0 {9,D} {11,S} {17,S}\n",
      "13 C u0 p0 c0 {7,B} {10,B} {20,S}\n",
      "14 H u0 p0 c0 {1,S}\n",
      "15 H u0 p0 c0 {1,S}\n",
      "16 H u0 p0 c0 {6,S}\n",
      "17 H u0 p0 c0 {12,S}\n",
      "18 H u0 p0 c0 {9,S}\n",
      "19 H u0 p0 c0 {10,S}\n",
      "20 H u0 p0 c0 {13,S}\n",
      "21 H u0 p0 c0 {7,S}\n",
      "22 H u0 p0 c0 {8,S}\n",
      "23 H u0 p0 c0 {11,S}\n",
      "\n"
     ]
    }
   ],
   "source": [
    "print out[1].toAdjacencyList()"
   ]
  },
  {
   "cell_type": "code",
   "execution_count": null,
   "metadata": {
    "collapsed": true
   },
   "outputs": [],
   "source": []
  }
 ],
 "metadata": {
  "anaconda-cloud": {},
  "kernelspec": {
   "display_name": "Python [conda env:rmg_env]",
   "language": "python",
   "name": "conda-env-rmg_env-py"
  },
  "language_info": {
   "codemirror_mode": {
    "name": "ipython",
    "version": 2
   },
   "file_extension": ".py",
   "mimetype": "text/x-python",
   "name": "python",
   "nbconvert_exporter": "python",
   "pygments_lexer": "ipython2",
   "version": "2.7.12"
  }
 },
 "nbformat": 4,
 "nbformat_minor": 0
}
