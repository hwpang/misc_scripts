{
 "cells": [
  {
   "cell_type": "code",
   "execution_count": null,
   "metadata": {
    "collapsed": true
   },
   "outputs": [],
   "source": [
    "from collections import OrderedDict\n",
    "from base64 import b64encode\n",
    "from IPython.display import display, HTML, Image\n",
    "\n",
    "from rmgpy.chemkin import loadChemkinFile"
   ]
  },
  {
   "cell_type": "code",
   "execution_count": null,
   "metadata": {
    "collapsed": true
   },
   "outputs": [],
   "source": [
    "chem_1 = \"/home/mjliu/Documents/Models/Naphthalene/acetylene/run7/chem0190.inp\"\n",
    "dict_1 = \"/home/mjliu/Documents/Models/Naphthalene/acetylene/run7/species_dictionary.txt\"\n",
    "\n",
    "chem_2 = \"/home/mjliu/Documents/Models/Naphthalene/acetylene/run7/chem0170.inp\"\n",
    "dict_2 = \"/home/mjliu/Documents/Models/Naphthalene/acetylene/run7/species_dictionary.txt\""
   ]
  },
  {
   "cell_type": "code",
   "execution_count": null,
   "metadata": {
    "collapsed": false
   },
   "outputs": [],
   "source": [
    "spcs_1, rxns_1 = loadChemkinFile(chem_1, dict_1)\n",
    "\n",
    "# Restore chemkin labels\n",
    "spcs_dict_1 = OrderedDict()\n",
    "for spc in spcs_1:\n",
    "    label = \"{0}({1})\".format(spc.label, spc.index) if spc.index != -1 else spc.label\n",
    "    spc.label = label\n",
    "    spcs_dict_1[label] = spc"
   ]
  },
  {
   "cell_type": "code",
   "execution_count": null,
   "metadata": {
    "collapsed": true
   },
   "outputs": [],
   "source": [
    "spcs_2, rxns_2 = loadChemkinFile(chem_2, dict_2)\n",
    "\n",
    "# Restore chemkin labels\n",
    "spcs_dict_2 = OrderedDict()\n",
    "for spc in spcs_2:\n",
    "    label = \"{0}({1})\".format(spc.label, spc.index) if spc.index != -1 else spc.label\n",
    "    spc.label = label\n",
    "    spcs_dict_2[label] = spc"
   ]
  },
  {
   "cell_type": "code",
   "execution_count": null,
   "metadata": {
    "collapsed": false
   },
   "outputs": [],
   "source": [
    "only_1 = OrderedDict()\n",
    "only_2 = OrderedDict()\n",
    "\n",
    "for label, spc in spcs_dict_1.iteritems():\n",
    "    if spc.label not in spcs_dict_2:\n",
    "        only_1[spc.label] = spc\n",
    "\n",
    "for label, spc in spcs_dict_2.iteritems():\n",
    "    if spc.label not in spcs_dict_1:\n",
    "        only_2[spc.label] = spc"
   ]
  },
  {
   "cell_type": "code",
   "execution_count": null,
   "metadata": {
    "collapsed": false
   },
   "outputs": [],
   "source": [
    "len(only_1), len(only_2)"
   ]
  },
  {
   "cell_type": "code",
   "execution_count": null,
   "metadata": {
    "collapsed": false
   },
   "outputs": [],
   "source": [
    "html = ['<table style=\"width:100%;table-layout:fixed;\">']\n",
    "html += ['<tr><th colspan=\"{0}\">Model 1 has {1} unique species</th></tr>'.format(2, len(only_1))]\n",
    "for label, species in only_1.iteritems():\n",
    "    html += ['<tr><td colspan=\"{0}\">{1}</td>'.format(1, label)]\n",
    "    html += ['<td colspan=\"{0}\"><img src=\"data:image/png;base64,{1}\"></td></tr>'.format(1, b64encode(species._repr_png_()))]\n",
    "html += ['</table>']\n",
    "\n",
    "display(HTML(''.join(html)))"
   ]
  },
  {
   "cell_type": "code",
   "execution_count": null,
   "metadata": {
    "collapsed": false
   },
   "outputs": [],
   "source": [
    "html = ['<table style=\"width:100%;table-layout:fixed;\">']\n",
    "html += ['<tr><th colspan=\"{0}\">Model 2 has {1} unique species</th></tr>'.format(2, len(only_2))]\n",
    "for label, species in only_2.iteritems():\n",
    "    html += ['<tr><td colspan=\"{0}\">{1}</td>'.format(1, label)]\n",
    "    html += ['<td colspan=\"{0}\"><img src=\"data:image/png;base64,{1}\"></td></tr>'.format(1, b64encode(species._repr_png_()))]\n",
    "html += ['</table>']\n",
    "\n",
    "display(HTML(''.join(html)))"
   ]
  },
  {
   "cell_type": "code",
   "execution_count": null,
   "metadata": {
    "collapsed": true
   },
   "outputs": [],
   "source": []
  }
 ],
 "metadata": {
  "kernelspec": {
   "display_name": "Python [conda env:rmg_env]",
   "language": "python",
   "name": "conda-env-rmg_env-py"
  },
  "language_info": {
   "codemirror_mode": {
    "name": "ipython",
    "version": 2
   },
   "file_extension": ".py",
   "mimetype": "text/x-python",
   "name": "python",
   "nbconvert_exporter": "python",
   "pygments_lexer": "ipython2",
   "version": "2.7.12"
  }
 },
 "nbformat": 4,
 "nbformat_minor": 1
}
