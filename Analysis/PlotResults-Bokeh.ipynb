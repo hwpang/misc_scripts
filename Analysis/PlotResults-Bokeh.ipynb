{
 "cells": [
  {
   "cell_type": "code",
   "execution_count": null,
   "metadata": {
    "collapsed": false
   },
   "outputs": [],
   "source": [
    "import numpy as np\n",
    "import pandas as pd\n",
    "import re\n",
    "\n",
    "%matplotlib inline\n",
    "import matplotlib.pyplot as plt\n",
    "\n",
    "from bokeh.plotting import figure, show\n",
    "from bokeh.io import output_notebook\n",
    "from bokeh import palettes\n",
    "from bokeh.models import Legend\n",
    "output_notebook()"
   ]
  },
  {
   "cell_type": "code",
   "execution_count": null,
   "metadata": {
    "collapsed": false
   },
   "outputs": [],
   "source": [
    "filepath = '/home/mjliu/Documents/Models/Tetralin/acetylene/run1/t_a_run1_3.csv'\n",
    "data = pd.read_csv(filepath)"
   ]
  },
  {
   "cell_type": "code",
   "execution_count": null,
   "metadata": {
    "collapsed": false
   },
   "outputs": [],
   "source": [
    "columns = []\n",
    "labels = []\n",
    "for column in data.columns[7:17]:\n",
    "    columns.append(column)\n",
    "    labels.append(re.sub('Mole_fraction_', '', column)[0:-3])"
   ]
  },
  {
   "cell_type": "code",
   "execution_count": null,
   "metadata": {
    "collapsed": false
   },
   "outputs": [],
   "source": [
    "p = figure(plot_width=1000, plot_height=600)\n",
    "\n",
    "colors = palettes.Category10[10]\n",
    "\n",
    "lines = []\n",
    "for column, color in zip(columns, colors):\n",
    "    lines.append([p.line(x=data['Time (sec)'], y=data[column], line_width=2, color=color)])\n",
    "\n",
    "p.xaxis.axis_label = \"Time (s)\"\n",
    "p.yaxis.axis_label = \"Mole Fraction\"\n",
    "p.xaxis.axis_label_text_font_style = \"normal\"\n",
    "p.yaxis.axis_label_text_font_style = \"normal\"\n",
    "p.xaxis.axis_label_text_font_size = \"16pt\"\n",
    "p.yaxis.axis_label_text_font_size = \"16pt\"\n",
    "p.xaxis.major_label_text_font_size = \"12pt\"\n",
    "p.yaxis.major_label_text_font_size = \"12pt\"\n",
    "\n",
    "legend = Legend(items=zip(labels, lines), location=(0, 200))\n",
    "\n",
    "p.add_layout(legend, 'right')\n",
    "\n",
    "show(p)"
   ]
  },
  {
   "cell_type": "code",
   "execution_count": null,
   "metadata": {
    "collapsed": true
   },
   "outputs": [],
   "source": []
  }
 ],
 "metadata": {
  "anaconda-cloud": {},
  "kernelspec": {
   "display_name": "Python [conda env:rmg_env]",
   "language": "python",
   "name": "conda-env-rmg_env-py"
  },
  "language_info": {
   "codemirror_mode": {
    "name": "ipython",
    "version": 2
   },
   "file_extension": ".py",
   "mimetype": "text/x-python",
   "name": "python",
   "nbconvert_exporter": "python",
   "pygments_lexer": "ipython2",
   "version": "2.7.12"
  }
 },
 "nbformat": 4,
 "nbformat_minor": 1
}
