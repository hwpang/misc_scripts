{
 "cells": [
  {
   "cell_type": "code",
   "execution_count": 2,
   "metadata": {
    "collapsed": true
   },
   "outputs": [],
   "source": [
    "from rmgpy.molecule.molecule import Molecule\n",
    "from rmgpy.molecule.resonance import *\n",
    "\n",
    "import timeit"
   ]
  },
  {
   "cell_type": "code",
   "execution_count": 2,
   "metadata": {
    "collapsed": false
   },
   "outputs": [],
   "source": [
    "mol1 = Molecule(SMILES=\"[CH]1CC1c1ccccc1\")\n",
    "out1 = generateResonanceIsomers(mol1)"
   ]
  },
  {
   "cell_type": "code",
   "execution_count": 5,
   "metadata": {
    "collapsed": false
   },
   "outputs": [
    {
     "data": {
      "image/png": "[encoded data removed]",
      "text/plain": [
       "Molecule(SMILES=\"[CH]1CC1C1C=CC=CC=1\")"
      ]
     },
     "execution_count": 5,
     "metadata": {},
     "output_type": "execute_result"
    }
   ],
   "source": [
    "out1[0]"
   ]
  },
  {
   "cell_type": "code",
   "execution_count": 13,
   "metadata": {
    "collapsed": false
   },
   "outputs": [],
   "source": [
    "out2 = generateResonanceIsomers(Molecule(SMILES=\"CCN=N=[N-]\"))"
   ]
  },
  {
   "cell_type": "code",
   "execution_count": 18,
   "metadata": {
    "collapsed": false
   },
   "outputs": [
    {
     "data": {
      "image/png": "[encoded data removed]",
      "text/plain": [
       "Molecule(SMILES=\"C(C)[N-][N+]#N\")"
      ]
     },
     "execution_count": 18,
     "metadata": {},
     "output_type": "execute_result"
    }
   ],
   "source": [
    "out2[2]"
   ]
  },
  {
   "cell_type": "code",
   "execution_count": 1,
   "metadata": {
    "collapsed": false
   },
   "outputs": [
    {
     "name": "stdout",
     "output_type": "stream",
     "text": [
      "testClarTransformation (rmgpy.molecule.resonanceTest.ClarTest)\n",
      "Test that clarTransformation generates an aromatic ring. ... ok\n",
      "testCorannulene (rmgpy.molecule.resonanceTest.ClarTest)\n",
      "Test that we generate 5 Clar structures for corannulene ... ok\n",
      "testPhenalene (rmgpy.molecule.resonanceTest.ClarTest)\n",
      "Test that we generate 2 Clar structures for phenalene. ... ok\n",
      "testPhenanthrene (rmgpy.molecule.resonanceTest.ClarTest)\n",
      "Test that we generate 1 Clar structure for phenanthrene. ... ok\n",
      "testAllylShift (rmgpy.molecule.resonanceTest.ResonanceTest)\n",
      "Test allyl shift for hexadienyl radical ... ok\n",
      "testAzide (rmgpy.molecule.resonanceTest.ResonanceTest)\n",
      "Test resonance structure generation for ethyl azide ... ok\n",
      "testFusedAromatic1 (rmgpy.molecule.resonanceTest.ResonanceTest)\n",
      "Test we can make aromatic perylene from both adjlist and SMILES ... ok\n",
      "testFusedAromatic2 (rmgpy.molecule.resonanceTest.ResonanceTest)\n",
      "Test we can make aromatic naphthalene from both adjlist and SMILES ... ok\n",
      "testFusedAromatic3 (rmgpy.molecule.resonanceTest.ResonanceTest)\n",
      "Test we can make aromatic pyrene_rad from both adjlist and SMILES ... skipped 'WIP test failed: Unable to determine atom type for atom C, which has 2 double bonds to C, 0 double bonds to O, 0 double bonds to S, 0 triple bonds, and 0 benzene bonds.'\n",
      "testKekulizeResonanceIsomer (rmgpy.molecule.resonanceTest.ResonanceTest) ... ok\n",
      "testKekulizedResonanceIsomersFused (rmgpy.molecule.resonanceTest.ResonanceTest)\n",
      "Test we can make aromatic and Kekulized resonance isomers of 2-methylanthracen-1-ol ... skipped 'WIP test failed: Expected a resonance form Molecule(SMILES=\"CC1C=CC2=CC3=CC=CC=C3C=C2C=1O\") that was not generated.\\nOnly generated these:\\nMolecule(SMILES=\"CC1=CC=C2C=C3C=CC=CC3=CC2=C1O\")\\nMolecule(SMILES=\"Cc1ccc2cc3ccccc3cc2c1O\")\\nMolecule(SMILES=\"Cc1ccc2C=C3C=CC=CC3=Cc2c1O\")\\nMolecule(SMILES=\"C=C1C=CC2=Cc3ccccc3C=C2C1=O\")\\nMolecule(SMILES=\"C=C1C=Cc2cc3C=CC=Cc3cc2C1=O\")\\nMolecule(SMILES=\"CC1C=CC2=CC3C=CC=CC=3C=C2C=1O\")\\nMolecule(SMILES=\"CC1C=CC2C=C3C=CC=CC3=CC=2C=1O\")'\n",
      "testMultipleKekulizedResonanceIsomers (rmgpy.molecule.resonanceTest.ResonanceTest)\n",
      "Test we can make both Kekulized resonance isomers of 2-Hydroxy-1-methylbenzene ... skipped \"WIP test failed: Didn't generate 3 resonance isomers\"\n",
      "testNaphthyl (rmgpy.molecule.resonanceTest.ResonanceTest)\n",
      "Test resonance structure generation for naphthyl radical ... skipped 'WIP test failed: 3 != 1'\n",
      "testOxime (rmgpy.molecule.resonanceTest.ResonanceTest)\n",
      "Test resonance structure generation for CC=N[O] radical ... ok\n",
      "testStyryl (rmgpy.molecule.resonanceTest.ResonanceTest)\n",
      "Test resonance structure generation for styryl radical ... ok\n",
      "test_Benzene_aro (rmgpy.molecule.resonanceTest.ResonanceTest)\n",
      "Test benzene, aromatic SMILES ... ok\n",
      "test_Benzene_kek (rmgpy.molecule.resonanceTest.ResonanceTest)\n",
      "Test benzene, kekulized SMILES ... ok\n",
      "test_C10H11_aro (rmgpy.molecule.resonanceTest.ResonanceTest)\n",
      "Test cyclobutylbenzene radical, aromatic SMILES ... ok\n",
      "test_C10H12_aro (rmgpy.molecule.resonanceTest.ResonanceTest)\n",
      "Test cyclopropylmethyl benzene, aromatic SMILES ... ok\n",
      "test_C9H10_aro (rmgpy.molecule.resonanceTest.ResonanceTest)\n",
      "Test cyclopropylbenzene, aromatic SMILES ... ok\n",
      "test_C9H10_aro_2 (rmgpy.molecule.resonanceTest.ResonanceTest)\n",
      "Test cyclopropyl benzene, generate aromatic resonance isomers ... ok\n",
      "test_C9H11_aro (rmgpy.molecule.resonanceTest.ResonanceTest)\n",
      "Test propylbenzene radical, aromatic SMILES ... ok\n",
      "test_C9H9_aro (rmgpy.molecule.resonanceTest.ResonanceTest)\n",
      "Test cyclopropyl benzene radical, aromatic SMILES ... ok\n",
      "test_C9H9_kek (rmgpy.molecule.resonanceTest.ResonanceTest)\n",
      "Test cyclopropyl benzene radical, kekulized SMILES ... ok\n",
      "\n",
      "----------------------------------------------------------------------\n",
      "Ran 24 tests in 0.448s\n",
      "\n",
      "OK (skipped=4)\n"
     ]
    },
    {
     "data": {
      "text/plain": [
       "<unittest.runner.TextTestResult run=24 errors=0 failures=0>"
      ]
     },
     "execution_count": 1,
     "metadata": {},
     "output_type": "execute_result"
    }
   ],
   "source": [
    "from unittest import *\n",
    "import sys\n",
    "import rmgpy.molecule.resonanceTest\n",
    "tests = TestLoader().loadTestsFromModule(rmgpy.molecule.resonanceTest)\n",
    "TextTestRunner(verbosity=2, stream=sys.stdout).run(tests)"
   ]
  },
  {
   "cell_type": "code",
   "execution_count": null,
   "metadata": {
    "collapsed": true
   },
   "outputs": [],
   "source": []
  }
 ],
 "metadata": {
  "anaconda-cloud": {},
  "kernelspec": {
   "display_name": "Python [conda env:rmg_env]",
   "language": "python",
   "name": "conda-env-rmg_env-py"
  },
  "language_info": {
   "codemirror_mode": {
    "name": "ipython",
    "version": 2
   },
   "file_extension": ".py",
   "mimetype": "text/x-python",
   "name": "python",
   "nbconvert_exporter": "python",
   "pygments_lexer": "ipython2",
   "version": "2.7.12"
  }
 },
 "nbformat": 4,
 "nbformat_minor": 1
}
