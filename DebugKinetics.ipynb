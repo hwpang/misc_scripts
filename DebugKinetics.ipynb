{
 "cells": [
  {
   "cell_type": "code",
   "execution_count": 1,
   "metadata": {
    "collapsed": false
   },
   "outputs": [],
   "source": [
    "import rmgpy\n",
    "from rmgpy.data.rmg import RMGDatabase\n",
    "from rmgpy.reaction import Reaction\n",
    "from rmgpy.molecule.molecule import Molecule"
   ]
  },
  {
   "cell_type": "code",
   "execution_count": 2,
   "metadata": {
    "collapsed": false
   },
   "outputs": [],
   "source": [
    "databasePath = rmgpy.settings['database.directory']\n",
    "\n",
    "database = RMGDatabase()\n",
    "database.load(\n",
    "    path = databasePath,\n",
    "    thermoLibraries = [],\n",
    "    reactionLibraries = [],\n",
    "    seedMechanisms = [],\n",
    "    kineticsFamilies = ['H_Abstraction'],\n",
    "    )"
   ]
  },
  {
   "cell_type": "code",
   "execution_count": 3,
   "metadata": {
    "collapsed": false
   },
   "outputs": [],
   "source": [
    "reactants = [\n",
    "    Molecule().fromAdjacencyList(\"\"\"multiplicity 3\n",
    "1 C u1 p0 c0 {2,S} {3,D}\n",
    "2 H u0 p0 c0 {1,S}\n",
    "3 N u0 p1 c0 {1,D} {4,S}\n",
    "4 N u0 p1 c0 {3,S} {5,D}\n",
    "5 C u0 p0 c0 {4,D} {6,D}\n",
    "6 C u1 p0 c0 {5,D} {7,S}\n",
    "7 H u0 p0 c0 {6,S}\n",
    "\"\"\"), \n",
    "    Molecule().fromAdjacencyList(\"\"\"multiplicity 3\n",
    "1 C u0 p0 c0 {2,D} {6,S} {7,S}\n",
    "2 N u0 p1 c0 {1,D} {3,S}\n",
    "3 N u1 p1 c0 {2,S} {4,S}\n",
    "4 C u0 p0 c0 {3,S} {5,T}\n",
    "5 C u1 p0 c0 {4,T}\n",
    "6 H u0 p0 c0 {1,S}\n",
    "7 H u0 p0 c0 {1,S}\n",
    "\"\"\")]"
   ]
  },
  {
   "cell_type": "code",
   "execution_count": 4,
   "metadata": {
    "collapsed": false
   },
   "outputs": [
    {
     "name": "stderr",
     "output_type": "stream",
     "text": [
      "ERROR:root:Expecting one matching reverse reaction, not 2 in reaction family H_Abstraction for forward reaction <Molecule \"N(=C=[CH])N=[CH]\"> + <Molecule \"C=N[N]C#[C]\"> <=> <Molecule \"C=N[N]C#C\"> + <Molecule \"N(=C=[C])N=[CH]\">.\n",
      "\n"
     ]
    },
    {
     "name": "stdout",
     "output_type": "stream",
     "text": [
      "Found the following reverse reactions\n",
      "<Molecule \"C=N[N]C#C\"> + <Molecule \"N(=C=[C])N=[CH]\"> <=> <Molecule \"C=NN=C=[C]\"> + <Molecule \"[N](N=[CH])C#C\">\n",
      "Reactant\n",
      "multiplicity 2\n",
      "1 C u0 p0 c0 {2,D} {6,S} {7,S}\n",
      "2 N u0 p1 c0 {1,D} {3,S}\n",
      "3 N u1 p1 c0 {2,S} {4,S}\n",
      "4 C u0 p0 c0 {3,S} {5,T}\n",
      "5 C u0 p0 c0 {4,T} {8,S}\n",
      "6 H u0 p0 c0 {1,S}\n",
      "7 H u0 p0 c0 {1,S}\n",
      "8 H u0 p0 c0 {5,S}\n",
      "\n",
      "Reactant\n",
      "multiplicity 4\n",
      "1 N u0 p1 c0 {2,S} {3,D}\n",
      "2 N u0 p1 c0 {1,S} {4,D}\n",
      "3 C u0 p0 c0 {1,D} {5,D}\n",
      "4 C u1 p0 c0 {2,D} {6,S}\n",
      "5 C u2 p0 c0 {3,D}\n",
      "6 H u0 p0 c0 {4,S}\n",
      "\n",
      "Product\n",
      "multiplicity 3\n",
      "1 *1 C u0 p0 c0 {2,D} {5,S} {6,S}\n",
      "2    N u0 p1 c0 {1,D} {3,S}\n",
      "3    N u0 p1 c0 {2,S} {4,D}\n",
      "4    C u0 p0 c0 {3,D} {7,D}\n",
      "5    H u0 p0 c0 {1,S}\n",
      "6 *2 H u0 p0 c0 {1,S}\n",
      "7    C u2 p0 c0 {4,D}\n",
      "\n",
      "Product\n",
      "multiplicity 3\n",
      "1    N u1 p1 c0 {2,S} {3,S}\n",
      "2    N u0 p1 c0 {1,S} {4,D}\n",
      "3    C u0 p0 c0 {1,S} {5,T}\n",
      "4 *3 C u1 p0 c0 {2,D} {6,S}\n",
      "5    C u0 p0 c0 {3,T} {7,S}\n",
      "6    H u0 p0 c0 {4,S}\n",
      "7    H u0 p0 c0 {5,S}\n",
      "\n",
      "<Molecule \"C=N[N]C#C\"> + <Molecule \"N(=C=[C])N=[CH]\"> <=> <Molecule \"N(=C=[CH])N=[CH]\"> + <Molecule \"C=N[N]C#[C]\">\n",
      "Reactant\n",
      "multiplicity 2\n",
      "1 C u0 p0 c0 {2,D} {6,S} {7,S}\n",
      "2 N u0 p1 c0 {1,D} {3,S}\n",
      "3 N u1 p1 c0 {2,S} {4,S}\n",
      "4 C u0 p0 c0 {3,S} {5,T}\n",
      "5 C u0 p0 c0 {4,T} {8,S}\n",
      "6 H u0 p0 c0 {1,S}\n",
      "7 H u0 p0 c0 {1,S}\n",
      "8 H u0 p0 c0 {5,S}\n",
      "\n",
      "Reactant\n",
      "multiplicity 4\n",
      "1 N u0 p1 c0 {2,S} {3,D}\n",
      "2 N u0 p1 c0 {1,S} {4,D}\n",
      "3 C u0 p0 c0 {1,D} {5,D}\n",
      "4 C u1 p0 c0 {2,D} {6,S}\n",
      "5 C u2 p0 c0 {3,D}\n",
      "6 H u0 p0 c0 {4,S}\n",
      "\n",
      "Product\n",
      "multiplicity 3\n",
      "1    N u0 p1 c0 {2,S} {3,D}\n",
      "2    N u0 p1 c0 {1,S} {4,D}\n",
      "3    C u0 p0 c0 {1,D} {5,D}\n",
      "4    C u1 p0 c0 {2,D} {6,S}\n",
      "5 *1 C u1 p0 c0 {3,D} {7,S}\n",
      "6    H u0 p0 c0 {4,S}\n",
      "7 *2 H u0 p0 c0 {5,S}\n",
      "\n",
      "Product\n",
      "multiplicity 3\n",
      "1    C u0 p0 c0 {2,D} {5,S} {6,S}\n",
      "2    N u0 p1 c0 {1,D} {3,S}\n",
      "3    N u1 p1 c0 {2,S} {4,S}\n",
      "4    C u0 p0 c0 {3,S} {7,T}\n",
      "5    H u0 p0 c0 {1,S}\n",
      "6    H u0 p0 c0 {1,S}\n",
      "7 *3 C u1 p0 c0 {4,T}\n",
      "\n"
     ]
    }
   ],
   "source": [
    "rxns = database.kinetics.families['H_Abstraction'].generateReactions(reactants)"
   ]
  },
  {
   "cell_type": "code",
   "execution_count": 12,
   "metadata": {
    "collapsed": false
   },
   "outputs": [
    {
     "data": {
      "image/png": "[encoded data removed]",
      "text/plain": [
       "Reaction(reactants=[Molecule(SMILES=\"N(=C=[CH])N=[CH]\"), Molecule(SMILES=\"C=N[N]C#[C]\")], products=[Molecule(SMILES=\"C=C=NN=[CH]\"), Molecule(SMILES=\"[N](N=[CH])C#[C]\")], degeneracy=2, pairs=[[Molecule(SMILES=\"N(=C=[CH])N=[CH]\"), Molecule(SMILES=\"C=C=NN=[CH]\")], [Molecule(SMILES=\"C=N[N]C#[C]\"), Molecule(SMILES=\"[N](N=[CH])C#[C]\")]])"
      ]
     },
     "execution_count": 12,
     "metadata": {},
     "output_type": "execute_result"
    }
   ],
   "source": [
    "rxns[3]"
   ]
  },
  {
   "cell_type": "code",
   "execution_count": 22,
   "metadata": {
    "collapsed": false
   },
   "outputs": [],
   "source": [
    "out1 = reactants[0].generateResonanceIsomers()"
   ]
  },
  {
   "cell_type": "code",
   "execution_count": 25,
   "metadata": {
    "collapsed": false
   },
   "outputs": [
    {
     "data": {
      "image/png": "[encoded data removed]",
      "text/plain": [
       "Molecule(SMILES=\"N(=N[CH])C#C\")"
      ]
     },
     "execution_count": 25,
     "metadata": {},
     "output_type": "execute_result"
    }
   ],
   "source": [
    "out1[2]"
   ]
  },
  {
   "cell_type": "code",
   "execution_count": 6,
   "metadata": {
    "collapsed": true
   },
   "outputs": [],
   "source": [
    "out2 = reactants[1].generateResonanceIsomers()"
   ]
  },
  {
   "cell_type": "code",
   "execution_count": 19,
   "metadata": {
    "collapsed": false
   },
   "outputs": [
    {
     "data": {
      "text/plain": [
       "[Molecule(SMILES=\"[CH2]N=NC#[C]\"),\n",
       " Molecule(SMILES=\"C=N[N]C#[C]\"),\n",
       " Molecule(SMILES=\"C=NN=C=[C]\")]"
      ]
     },
     "execution_count": 19,
     "metadata": {},
     "output_type": "execute_result"
    }
   ],
   "source": [
    "Molecule().fromAdjacencyList(out2[1].toAdjacencyList()).generateResonanceIsomers()"
   ]
  },
  {
   "cell_type": "code",
   "execution_count": 15,
   "metadata": {
    "collapsed": false
   },
   "outputs": [
    {
     "data": {
      "image/png": "[encoded data removed]",
      "text/plain": [
       "Molecule(SMILES=\"C=N[N]C#[C]\")"
      ]
     },
     "execution_count": 15,
     "metadata": {},
     "output_type": "execute_result"
    }
   ],
   "source": [
    "out2[0]"
   ]
  },
  {
   "cell_type": "code",
   "execution_count": 20,
   "metadata": {
    "collapsed": false
   },
   "outputs": [
    {
     "data": {
      "image/png": "[encoded data removed]",
      "text/plain": [
       "Molecule(SMILES=\"C=NN=C=[C]\")"
      ]
     },
     "execution_count": 20,
     "metadata": {},
     "output_type": "execute_result"
    }
   ],
   "source": [
    "out2[2]"
   ]
  },
  {
   "cell_type": "code",
   "execution_count": null,
   "metadata": {
    "collapsed": true
   },
   "outputs": [],
   "source": []
  },
  {
   "cell_type": "code",
   "execution_count": 35,
   "metadata": {
    "collapsed": false
   },
   "outputs": [],
   "source": [
    "reactants = [\n",
    "    Molecule().fromSMILES('C=[C]'), \n",
    "    Molecule().fromSMILES('C#C')]\n",
    "rxns = database.kinetics.families['H_Abstraction'].generateReactions(reactants)"
   ]
  },
  {
   "cell_type": "code",
   "execution_count": 36,
   "metadata": {
    "collapsed": false
   },
   "outputs": [
    {
     "data": {
      "text/plain": [
       "[Reaction(reactants=[Molecule(SMILES=\"[C]=C\"), Molecule(SMILES=\"C#C\")], products=[Molecule(SMILES=\"[CH]=C\"), Molecule(SMILES=\"[C]#C\")], degeneracy=2, pairs=[[Molecule(SMILES=\"[C]=C\"), Molecule(SMILES=\"[CH]=C\")], [Molecule(SMILES=\"C#C\"), Molecule(SMILES=\"[C]#C\")]])]"
      ]
     },
     "execution_count": 36,
     "metadata": {},
     "output_type": "execute_result"
    }
   ],
   "source": [
    "rxns"
   ]
  },
  {
   "cell_type": "code",
   "execution_count": 37,
   "metadata": {
    "collapsed": false
   },
   "outputs": [
    {
     "data": {
      "image/png": "[encoded data removed]",
      "text/plain": [
       "Reaction(reactants=[Molecule(SMILES=\"[C]=C\"), Molecule(SMILES=\"C#C\")], products=[Molecule(SMILES=\"[CH]=C\"), Molecule(SMILES=\"[C]#C\")], degeneracy=2, pairs=[[Molecule(SMILES=\"[C]=C\"), Molecule(SMILES=\"[CH]=C\")], [Molecule(SMILES=\"C#C\"), Molecule(SMILES=\"[C]#C\")]])"
      ]
     },
     "execution_count": 37,
     "metadata": {},
     "output_type": "execute_result"
    }
   ],
   "source": [
    "rxns[0]"
   ]
  },
  {
   "cell_type": "code",
   "execution_count": null,
   "metadata": {
    "collapsed": true
   },
   "outputs": [],
   "source": []
  }
 ],
 "metadata": {
  "anaconda-cloud": {},
  "kernelspec": {
   "display_name": "Python [conda env:rmg_env]",
   "language": "python",
   "name": "conda-env-rmg_env-py"
  },
  "language_info": {
   "codemirror_mode": {
    "name": "ipython",
    "version": 2
   },
   "file_extension": ".py",
   "mimetype": "text/x-python",
   "name": "python",
   "nbconvert_exporter": "python",
   "pygments_lexer": "ipython2",
   "version": "2.7.12"
  }
 },
 "nbformat": 4,
 "nbformat_minor": 1
}
