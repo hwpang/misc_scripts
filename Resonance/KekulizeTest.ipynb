{
 "cells": [
  {
   "cell_type": "code",
   "execution_count": 1,
   "metadata": {
    "collapsed": true
   },
   "outputs": [],
   "source": [
    "from rmgpy.molecule import Atom, Bond, Molecule\n",
    "from rmgpy.molecule.resonance import *\n",
    "from rmgpy.molecule.element import PeriodicSystem\n",
    "\n",
    "import numpy as np\n",
    "import itertools\n",
    "from IPython.display import display\n",
    "import pdb"
   ]
  },
  {
   "cell_type": "code",
   "execution_count": null,
   "metadata": {
    "collapsed": true
   },
   "outputs": [],
   "source": [
    "mol = Molecule().fromAdjacencyList(\"\"\"\n",
    "1  C u0 p0 c0 {2,B} {3,S} {6,B}\n",
    "2  C u0 p0 c0 {1,B} {3,B} {11,S}\n",
    "3  C u0 p0 c0 {1,S} {2,B} {4,B}\n",
    "4  C u0 p0 c0 {3,B} {5,B} {12,S}\n",
    "5  C u0 p0 c0 {4,B} {6,B} {10,B}\n",
    "6  C u0 p0 c0 {1,B} {5,B} {7,B}\n",
    "7  C u0 p0 c0 {6,B} {8,B} {13,S}\n",
    "8  C u0 p0 c0 {7,B} {9,B} {14,S}\n",
    "9  C u0 p0 c0 {8,B} {10,B} {15,S}\n",
    "10 C u0 p0 c0 {5,B} {9,B} {16,S}\n",
    "11 H u0 p0 c0 {2,S}\n",
    "12 H u0 p0 c0 {4,S}\n",
    "13 H u0 p0 c0 {7,S}\n",
    "14 H u0 p0 c0 {8,S}\n",
    "15 H u0 p0 c0 {9,S}\n",
    "16 H u0 p0 c0 {10,S}\n",
    "\"\"\")\n",
    "display(mol)\n",
    "mol.kekulize()\n",
    "display(mol)"
   ]
  },
  {
   "cell_type": "code",
   "execution_count": null,
   "metadata": {
    "collapsed": true
   },
   "outputs": [],
   "source": [
    "mol = Molecule().fromAdjacencyList(\"\"\"\n",
    "1  *5 C u0 p0 c0 {2,B} {4,B} {5,B}\n",
    "2  *2 C u0 p0 c0 {1,B} {3,B} {8,B}\n",
    "3  *3 C u0 p0 c0 {2,B} {6,B} {11,S}\n",
    "4     C u0 p0 c0 {1,B} {7,B} {14,S}\n",
    "5  *6 C u0 p0 c0 {1,B} {9,B} {15,S}\n",
    "6     C u0 p0 c0 {3,B} {7,B} {12,S}\n",
    "7     C u0 p0 c0 {4,B} {6,B} {13,S}\n",
    "8     C u0 p0 c0 {2,B} {10,B} {16,S}\n",
    "9  *4 C u0 p0 c0 {5,B} {10,B} {17,S}\n",
    "10 *1 C u1 p0 c0 {8,B} {9,B}\n",
    "11    H u0 p0 c0 {3,S}\n",
    "12    H u0 p0 c0 {6,S}\n",
    "13    H u0 p0 c0 {7,S}\n",
    "14    H u0 p0 c0 {4,S}\n",
    "15    H u0 p0 c0 {5,S}\n",
    "16    H u0 p0 c0 {8,S}\n",
    "17    H u0 p0 c0 {9,S}\n",
    "\"\"\")\n",
    "display(mol)\n",
    "labels = mol.getLabeledAtoms()\n",
    "mol.addBond(Bond(labels['*1'], labels['*2']))\n",
    "mol.getBond(labels['*2'], labels['*3']).decrementOrder()\n",
    "labels['*1'].decrementRadical()\n",
    "labels['*3'].incrementRadical()\n",
    "mol.kekulize()\n",
    "display(mol)"
   ]
  },
  {
   "cell_type": "code",
   "execution_count": null,
   "metadata": {
    "collapsed": true
   },
   "outputs": [],
   "source": [
    "atom = mol.atoms[3]\n",
    "occupied = 0\n",
    "uncertain = 0\n",
    "for bond in atom.bonds.itervalues():\n",
    "    if abs(round(bond.order) - bond.order) < 1e-9:\n",
    "        occupied += int(round(bond.order))\n",
    "    elif bond.isBenzene():\n",
    "        # The atom has a benzene bond, so at least one electron is occupied, but there is a second uncertain electron\n",
    "        occupied += 1\n",
    "        uncertain += 1\n",
    "    else:\n",
    "        ValueError('Unexpected bond order {0}.'.format(bond.order))\n",
    "occupied += atom.radicalElectrons\n",
    "occupied += 2 * atom.lonePairs\n",
    "available = PeriodicSystem.valences[atom.element.symbol] - occupied\n",
    "print available, uncertain"
   ]
  },
  {
   "cell_type": "code",
   "execution_count": null,
   "metadata": {
    "collapsed": true
   },
   "outputs": [],
   "source": [
    "mol = Molecule().fromAdjacencyList(\"\"\"\n",
    "1  *1 C u0 p0 c0 {2,B} {3,B} {6,B}\n",
    "2  *2 C u0 p0 c0 {1,B} {4,B} {9,B}\n",
    "3     C u0 p0 c0 {1,B} {5,B} {7,B}\n",
    "4     C u0 p0 c0 {2,B} {8,B} {10,B}\n",
    "5     C u0 p0 c0 {3,B} {11,B} {17,S}\n",
    "6     C u0 p0 c0 {1,B} {12,B} {18,S}\n",
    "7     C u0 p0 c0 {3,B} {8,B} {19,S}\n",
    "8     C u0 p0 c0 {4,B} {7,B} {20,S}\n",
    "9     C u0 p0 c0 {2,B} {13,B} {21,S}\n",
    "10    C u0 p0 c0 {4,B} {14,B} {23,S}\n",
    "11    C u0 p0 c0 {5,B} {12,B} {15,S}\n",
    "12    C u0 p0 c0 {6,B} {11,B} {16,S}\n",
    "13    C u0 p0 c0 {9,B} {14,B} {22,S}\n",
    "14    C u0 p0 c0 {10,B} {13,B} {24,S}\n",
    "15    H u0 p0 c0 {11,S}\n",
    "16    H u0 p0 c0 {12,S}\n",
    "17    H u0 p0 c0 {5,S}\n",
    "18    H u0 p0 c0 {6,S}\n",
    "19    H u0 p0 c0 {7,S}\n",
    "20    H u0 p0 c0 {8,S}\n",
    "21    H u0 p0 c0 {9,S}\n",
    "22    H u0 p0 c0 {13,S}\n",
    "23    H u0 p0 c0 {10,S}\n",
    "24    H u0 p0 c0 {14,S}\n",
    "25 *3 H u1 p0 c0\n",
    "\"\"\")\n",
    "\n",
    "labels = mol.getLabeledAtoms()\n",
    "mol.addBond(Bond(labels['*1'], labels['*3']))\n",
    "mol.getBond(labels['*1'], labels['*2']).decrementOrder()\n",
    "labels['*2'].incrementRadical()\n",
    "labels['*3'].decrementRadical()\n",
    "#mol.getBond(labels['*1'], labels['*2']).setOrderNum(1)\n",
    "\n",
    "mol.kekulize()\n",
    "\n",
    "display(mol)\n",
    "\n",
    "print mol.toAdjacencyList()"
   ]
  }
 ],
 "metadata": {
  "anaconda-cloud": {},
  "kernelspec": {
   "display_name": "Python [conda env:rmg_env]",
   "language": "python",
   "name": "conda-env-rmg_env-py"
  },
  "language_info": {
   "codemirror_mode": {
    "name": "ipython",
    "version": 2
   },
   "file_extension": ".py",
   "mimetype": "text/x-python",
   "name": "python",
   "nbconvert_exporter": "python",
   "pygments_lexer": "ipython2",
   "version": "2.7.12"
  }
 },
 "nbformat": 4,
 "nbformat_minor": 1
}
