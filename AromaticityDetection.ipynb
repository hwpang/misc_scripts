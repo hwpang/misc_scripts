{
 "cells": [
  {
   "cell_type": "markdown",
   "metadata": {},
   "source": [
    "# Aromaticity Detection\n",
    "\n",
    "RMG relies solely on RDKit for aromaticity detection. After creating a molecule, we will convert it to an RDKit molecule, then query each of the bonds to determine if RDKit considers them aromatic. If a molecule has a six-membered ring (RMG constraint) and each of the six bonds are considered by RDKit to be aromatic, then RMG considers the ring to be aromatic.\n",
    "\n",
    "Essentially, we assume that RDKit is always correct, which is not true. A notable example is when rings have double bonded substituents. Because RDKit uses an atom-centered counting method to perform a Huckel rule check, such molecules are considered aromatic. However, we don't think they should be. This notebook tests aromaticity perception by RDKit and Open Babel for such cases.\n",
    "\n",
    "Interesting link: http://blueobelisk.shapado.com/questions/aromaticity-perception-differences"
   ]
  },
  {
   "cell_type": "markdown",
   "metadata": {},
   "source": [
    "## RDKit"
   ]
  },
  {
   "cell_type": "code",
   "execution_count": 19,
   "metadata": {
    "collapsed": false
   },
   "outputs": [
    {
     "data": {
      "image/png": "[encoded data removed]",
      "text/plain": [
       "<PIL.Image.Image image mode=RGBA size=300x300 at 0x10D790950>"
      ]
     },
     "execution_count": 19,
     "metadata": {},
     "output_type": "execute_result"
    }
   ],
   "source": [
    "from rdkit import Chem\n",
    "from rdkit.Chem import Draw\n",
    "\n",
    "m = Chem.MolFromSmiles('C1(=C)C=CC=CC1=C')\n",
    "Draw.MolToImage(m)"
   ]
  },
  {
   "cell_type": "code",
   "execution_count": 20,
   "metadata": {
    "collapsed": false
   },
   "outputs": [
    {
     "name": "stdout",
     "output_type": "stream",
     "text": [
      "Atoms\n",
      "=====\n",
      "0 C True True\n",
      "1 C False False\n",
      "2 C True True\n",
      "3 C True True\n",
      "4 C True True\n",
      "5 C True True\n",
      "6 C True True\n",
      "7 C False False\n",
      "Bonds\n",
      "=====\n",
      "0 2.0 False\n",
      "1 1.5 True\n",
      "2 1.5 True\n",
      "3 1.5 True\n",
      "4 1.5 True\n",
      "5 1.5 True\n",
      "6 2.0 False\n",
      "7 1.5 True\n"
     ]
    }
   ],
   "source": [
    "print 'Atoms\\n====='\n",
    "for atom in m.GetAtoms():\n",
    "    print atom.GetIdx(), atom.GetSymbol(), atom.IsInRing(), atom.GetIsAromatic()\n",
    "\n",
    "print 'Bonds\\n====='\n",
    "for bond in m.GetBonds():\n",
    "    print bond.GetIdx(), bond.GetBondTypeAsDouble(), bond.GetIsAromatic()"
   ]
  },
  {
   "cell_type": "markdown",
   "metadata": {},
   "source": [
    "## OpenBabel\n",
    "\n",
    "http://python.zirael.org/e-openbabel8.html"
   ]
  },
  {
   "cell_type": "code",
   "execution_count": 21,
   "metadata": {
    "collapsed": true
   },
   "outputs": [],
   "source": [
    "import pybel"
   ]
  },
  {
   "cell_type": "code",
   "execution_count": 30,
   "metadata": {
    "collapsed": false
   },
   "outputs": [
    {
     "name": "stdout",
     "output_type": "stream",
     "text": [
      "Atoms\n",
      "=====\n",
      "True\n",
      "False\n",
      "True\n",
      "True\n",
      "True\n",
      "True\n",
      "True\n",
      "False\n",
      "Rings\n",
      "=====\n",
      "True\n"
     ]
    }
   ],
   "source": [
    "m2 = pybel.readstring('smi', 'C1(=C)C=CC=CC1=C')\n",
    "\n",
    "print 'Atoms\\n====='\n",
    "for atom in m2.atoms:\n",
    "    print atom.OBAtom.IsAromatic()\n",
    "\n",
    "print 'Rings\\n====='\n",
    "for ring in m2.sssr:\n",
    "    print ring.IsAromatic()"
   ]
  },
  {
   "cell_type": "code",
   "execution_count": null,
   "metadata": {
    "collapsed": true
   },
   "outputs": [],
   "source": []
  }
 ],
 "metadata": {
  "kernelspec": {
   "display_name": "Python [conda env:rmg_env]",
   "language": "python",
   "name": "conda-env-rmg_env-py"
  },
  "language_info": {
   "codemirror_mode": {
    "name": "ipython",
    "version": 2
   },
   "file_extension": ".py",
   "mimetype": "text/x-python",
   "name": "python",
   "nbconvert_exporter": "python",
   "pygments_lexer": "ipython2",
   "version": "2.7.12"
  }
 },
 "nbformat": 4,
 "nbformat_minor": 1
}
