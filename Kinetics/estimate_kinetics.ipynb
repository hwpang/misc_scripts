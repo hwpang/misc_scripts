{
 "cells": [
  {
   "cell_type": "markdown",
   "metadata": {},
   "source": [
    "# Kinetics Estimator"
   ]
  },
  {
   "cell_type": "code",
   "execution_count": null,
   "metadata": {},
   "outputs": [],
   "source": [
    "%matplotlib inline\n",
    "import matplotlib as mpl\n",
    "import matplotlib.pyplot as plt\n",
    "import numpy as np\n",
    "from IPython.display import display\n",
    "\n",
    "import rmgpy\n",
    "from rmgpy.data.kinetics.family import TemplateReaction\n",
    "from rmgpy.data.kinetics.depository import DepositoryReaction\n",
    "from rmgpy.data.rmg import RMGDatabase\n",
    "from rmgpy.kinetics.kineticsdata import KineticsData\n",
    "from rmgpy.molecule.molecule import Molecule\n",
    "from rmgpy.reaction import Reaction\n",
    "from rmgpy.rmg.model import CoreEdgeReactionModel\n",
    "from rmgpy.species import Species\n",
    "from rmgpy.thermo.thermoengine import submit"
   ]
  },
  {
   "cell_type": "markdown",
   "metadata": {},
   "source": [
    "## Set reaction families of interest"
   ]
  },
  {
   "cell_type": "code",
   "execution_count": null,
   "metadata": {},
   "outputs": [],
   "source": [
    "families = ['R_Addition_MultipleBond']"
   ]
  },
  {
   "cell_type": "markdown",
   "metadata": {},
   "source": [
    "## Load database"
   ]
  },
  {
   "cell_type": "code",
   "execution_count": null,
   "metadata": {},
   "outputs": [],
   "source": [
    "database_path = rmgpy.settings['database.directory']\n",
    "\n",
    "database = RMGDatabase()\n",
    "database.load(\n",
    "    path = database_path,\n",
    "    thermo_libraries = ['primaryThermoLibrary'],\n",
    "    reaction_libraries = [],\n",
    "    seed_mechanisms = [],\n",
    "    kinetics_families = families,\n",
    ")\n",
    "\n",
    "# Load training data\n",
    "for family in database.kinetics.families.values():\n",
    "    family.add_rules_from_training(thermo_database=database.thermo)\n",
    "    family.fill_rules_by_averaging_up(verbose=True)"
   ]
  },
  {
   "cell_type": "markdown",
   "metadata": {},
   "source": [
    "## Set reactants and products"
   ]
  },
  {
   "cell_type": "code",
   "execution_count": null,
   "metadata": {},
   "outputs": [],
   "source": [
    "# If you only want to specify reactants, just run this block\n",
    "reactants = [\n",
    "    Species(smiles='c1ccccc1C=C'),\n",
    "    Species(smiles='[CH3]')\n",
    "]\n",
    "products = None\n",
    "for r in reactants:\n",
    "    submit(r)\n",
    "    display(r)"
   ]
  },
  {
   "cell_type": "code",
   "execution_count": null,
   "metadata": {},
   "outputs": [],
   "source": [
    "# If you also want to specify products, run this block as well\n",
    "products = [\n",
    "    Species(smiles=\"c1ccccc1[CH]CC\"),\n",
    "]\n",
    "for p in products:\n",
    "    submit(p)\n",
    "    display(p)"
   ]
  },
  {
   "cell_type": "markdown",
   "metadata": {},
   "source": [
    "## Generate reactions"
   ]
  },
  {
   "cell_type": "code",
   "execution_count": null,
   "metadata": {},
   "outputs": [],
   "source": [
    "reaction_list = database.kinetics.generate_reactions_from_families(\n",
    "    reactants,\n",
    "    products=products,\n",
    "    only_families=None,\n",
    "    resonance=True,\n",
    ")"
   ]
  },
  {
   "cell_type": "markdown",
   "metadata": {},
   "source": [
    "## Process reactions and apply kinetics"
   ]
  },
  {
   "cell_type": "code",
   "execution_count": null,
   "metadata": {},
   "outputs": [],
   "source": [
    "cerm = CoreEdgeReactionModel()\n",
    "for rxn0 in reaction_list:\n",
    "    rxn1 = cerm.make_new_reaction(rxn0)\n",
    "for rxn0 in cerm.new_reaction_list:\n",
    "    cerm.apply_kinetics_to_reaction(rxn0)\n",
    "    if isinstance(rxn0.kinetics, KineticsData):\n",
    "        rxn0.kinetics = reaction.kinetics.to_arrhenius()\n",
    "    if isinstance(rxn0, (TemplateReaction, DepositoryReaction)):\n",
    "        rxn0.fix_barrier_height()"
   ]
  },
  {
   "cell_type": "markdown",
   "metadata": {},
   "source": [
    "## Display results"
   ]
  },
  {
   "cell_type": "code",
   "execution_count": null,
   "metadata": {},
   "outputs": [],
   "source": [
    "pressure = 1e5 # Pa\n",
    "temperature = np.linspace(298, 2000, 50)"
   ]
  },
  {
   "cell_type": "code",
   "execution_count": null,
   "metadata": {},
   "outputs": [],
   "source": [
    "def plot_kinetics(reaction):\n",
    "\n",
    "    fig = plt.figure()\n",
    "\n",
    "    kinetics = reaction.kinetics\n",
    "    conversion_factor = kinetics.A.get_conversion_factor_from_si_to_cm_mol_s()\n",
    "    if len(reaction.reactants) == 1:\n",
    "        kunits = 's^-1'\n",
    "    elif len(reaction.reactants) == 2:\n",
    "        kunits = 'cm^3/(mol*s)'\n",
    "    else:\n",
    "        kunits = '???'\n",
    "\n",
    "    k = []\n",
    "    for t in temperature:\n",
    "        # Rates are returned in SI units by default\n",
    "        k.append(conversion_factor * kinetics.get_rate_coefficient(t, pressure))\n",
    "\n",
    "    x = 1000 / temperature\n",
    "\n",
    "    plt.semilogy(x, k)\n",
    "\n",
    "    plt.xlabel('1000/T (K)')\n",
    "    plt.ylabel('k [{0}]'.format(kunits))\n",
    "    plt.legend([str(reaction)], loc=8, bbox_to_anchor=(0.5, 1.02))\n",
    "    \n",
    "    plt.show()"
   ]
  },
  {
   "cell_type": "code",
   "execution_count": null,
   "metadata": {},
   "outputs": [],
   "source": [
    "for rxn0 in cerm.new_reaction_list:\n",
    "    display(rxn0)\n",
    "    print(rxn0.kinetics)\n",
    "    plot_kinetics(rxn0)"
   ]
  },
  {
   "cell_type": "markdown",
   "metadata": {},
   "source": [
    "## Calculate equilibrium constants and reverse rate coefficients"
   ]
  },
  {
   "cell_type": "code",
   "execution_count": null,
   "metadata": {},
   "outputs": [],
   "source": [
    "# Pick a single reaction\n",
    "selected_rxn = cerm.new_reaction_list[0]\n",
    "display(selected_rxn)"
   ]
  },
  {
   "cell_type": "code",
   "execution_count": null,
   "metadata": {},
   "outputs": [],
   "source": [
    "keq = selected_rxn.get_equilibrium_constants(temperature)\n",
    "\n",
    "fig = plt.figure()\n",
    "plt.semilogy(temperature, keq)\n",
    "plt.semilogy([298, 2000], [1, 1], 'r--')\n",
    "plt.xlabel('Temperature (K)')\n",
    "plt.ylabel('Keq')\n",
    "plt.legend([str(selected_rxn)], loc=8, bbox_to_anchor=(0.5, 1.02))\n",
    "plt.show()"
   ]
  },
  {
   "cell_type": "code",
   "execution_count": null,
   "metadata": {},
   "outputs": [],
   "source": [
    "reverse_rxn = Reaction(\n",
    "    reactants=selected_rxn.products,\n",
    "    products=selected_rxn.reactants,\n",
    "    kinetics=selected_rxn.generate_reverse_rate_coefficient()\n",
    ")\n",
    "display(reverse_rxn)\n",
    "print(reverse_rxn.kinetics)\n",
    "plot_kinetics(reverse_rxn)"
   ]
  },
  {
   "cell_type": "code",
   "execution_count": null,
   "metadata": {},
   "outputs": [],
   "source": []
  }
 ],
 "metadata": {
  "anaconda-cloud": {},
  "kernelspec": {
   "display_name": "Python [conda env:rmg_env]",
   "language": "python",
   "name": "conda-env-rmg_env-py"
  },
  "language_info": {
   "codemirror_mode": {
    "name": "ipython",
    "version": 3
   },
   "file_extension": ".py",
   "mimetype": "text/x-python",
   "name": "python",
   "nbconvert_exporter": "python",
   "pygments_lexer": "ipython3",
   "version": "3.7.4"
  }
 },
 "nbformat": 4,
 "nbformat_minor": 1
}
