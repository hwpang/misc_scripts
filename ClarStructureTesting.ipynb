{
 "cells": [
  {
   "cell_type": "code",
   "execution_count": 1,
   "metadata": {
    "collapsed": true
   },
   "outputs": [],
   "source": [
    "import rmgpy\n",
    "from rmgpy.molecule import clar\n",
    "from rmgpy.molecule.molecule import Molecule\n",
    "\n",
    "import sys\n",
    "import time"
   ]
  },
  {
   "cell_type": "code",
   "execution_count": 2,
   "metadata": {
    "collapsed": true
   },
   "outputs": [],
   "source": [
    "specs = ['C1=CC=CC=C1',\n",
    "         'C1=CC=C2C=CC=CC2=C1',\n",
    "         'C1=CC2=CC=CC3C=CC(=C1)C=32',\n",
    "         'C1=CC=C2C=C3C=CC=CC3=CC2=C1',\n",
    "         'C1=CC=C2C(C=CC3=CC=CC=C32)=C1',\n",
    "         'C1=CC2=CC=CC3CC=CC(=C1)C=32',\n",
    "         'C1=CC=C2C=C3C=C4C=CC=CC4=CC3=CC2=C1',\n",
    "         'C1=CC=C2C(C=CC3C2=CC=C2C=CC=CC=32)=C1',\n",
    "         'C1=CC=C2C(=C1)C1=CC=CC=C1C1=CC=CC=C21',\n",
    "         'C1=CC2=CC=C3C=CC=C4C=CC(=C1)C2=C43',\n",
    "         'C1=CC=C2C=C3C(C=CC4=CC=CC=C43)=CC2=C1',\n",
    "         'C1=CC=C2C=C3C=C4C=C5C=CC=CC5=CC4=CC3=CC2=C1',\n",
    "         'C1=CC=C2C(=C1)C=C1C=CC3=CC=CC4=CC=C2C1=C34',\n",
    "         'C1=CC2=CC=C3C=CC4=C5C6=C(C2=C35)C1=CC=C6C=C4',\n",
    "         'C1=CC2=CC=CC3C4=CC=CC5=CC=CC(C(=C1)C=32)=C54',\n",
    "         'C1=CC2=CC=C3C=C4C=CC=C5C=CC6=CC(=C1)C2=C3C6=C54',\n",
    "         'C1=CC2=CC=C3C=CC4=CC=C5C=CC=C6C(=C1)C2=C3C4=C56',\n",
    "         'C1=CC=C2C(=C1)C=C1C3=CC=CC=C3C3=CC=CC4=CC=C2C1=C43',\n",
    "         'C1=CC2=CC=C3C=CC4=CC=C5C=CC6=CC=C1C1=C2C3=C4C5=C61',\n",
    "         'C1=CC2=CC=C3C=C4C=CC5=CC=C6C=CC7=CC8=CC=C1C1=C2C3=C2C4=C5C6=C7C2=C81']"
   ]
  },
  {
   "cell_type": "code",
   "execution_count": 5,
   "metadata": {
    "collapsed": false
   },
   "outputs": [],
   "source": [
    "times = []\n",
    "output = []\n",
    "\n",
    "for spec in specs:\n",
    "    mol = Molecule().fromSMILES(spec)\n",
    "    try:\n",
    "        t0 = time.time()\n",
    "        newmol = clar.generateClarStructures(mol)\n",
    "        t1 = time.time()\n",
    "        output.append(newmol)\n",
    "    except:\n",
    "        output.append(sys.exc_info()[0])\n",
    "    times.append(t1 - t0)"
   ]
  },
  {
   "cell_type": "code",
   "execution_count": 6,
   "metadata": {
    "collapsed": false
   },
   "outputs": [
    {
     "data": {
      "text/plain": [
       "[0.009769916534423828,\n",
       " 0.015519857406616211,\n",
       " 0.00958108901977539,\n",
       " 0.01468801498413086,\n",
       " 0.009189128875732422,\n",
       " 0.007640838623046875,\n",
       " 0.018886089324951172,\n",
       " 0.013692140579223633,\n",
       " 0.011887073516845703,\n",
       " 0.01848292350769043,\n",
       " 0.014246940612792969,\n",
       " 0.020406007766723633,\n",
       " 0.02922797203063965,\n",
       " 0.1326749324798584,\n",
       " 0.01530003547668457,\n",
       " 0.019773006439208984,\n",
       " 0.018370866775512695,\n",
       " 0.020213842391967773,\n",
       " 0.018297910690307617,\n",
       " 0.07248997688293457]"
      ]
     },
     "execution_count": 6,
     "metadata": {},
     "output_type": "execute_result"
    }
   ],
   "source": [
    "times"
   ]
  },
  {
   "cell_type": "code",
   "execution_count": 8,
   "metadata": {
    "collapsed": false
   },
   "outputs": [
    {
     "data": {
      "text/plain": [
       "[Molecule(SMILES=\"c1ccccc1\"),\n",
       " Molecule(SMILES=\"C1C=Cc2ccccc2C=1\"),\n",
       " Molecule(SMILES=\"C1=Cc2cccc3C=CC(=C1)c23\"),\n",
       " Molecule(SMILES=\"C1C=Cc2cc3C=CC=Cc3cc2C=1\"),\n",
       " Molecule(SMILES=\"C1=Cc2ccccc2-c2ccccc21\"),\n",
       " Molecule(SMILES=\"C1=Cc2cccc3CC=CC(=C1)c23\"),\n",
       " Molecule(SMILES=\"C1C=CC2=CC3=Cc4ccccc4C=C3C=C2C=1\"),\n",
       " Molecule(SMILES=\"C1C=Cc2c(C=1)ccc1-c3ccccc3C=Cc12\"),\n",
       " Molecule(SMILES=\"c1ccc2c(c1)-c1ccccc1-c1ccccc1-2\"),\n",
       " Molecule(SMILES=\"C1=Cc2cccc3C=Cc4cccc1c4-c23\"),\n",
       " Molecule(SMILES=\"C1=Cc2ccccc2C2=Cc3ccccc3C=C12\"),\n",
       " Molecule(SMILES=\"C1C=CC2=CC3=CC4=Cc5ccccc5C=C4C=C3C=C2C=1\"),\n",
       " Molecule(SMILES=\"C1C=Cc2c(C=1)cc1C=Cc3cccc4C=Cc2c1-c34\"),\n",
       " Molecule(SMILES=\"C1=Cc2ccc3C=Cc4ccc5C=CC1=C1c2c3-c4c51\"),\n",
       " Molecule(SMILES=\"C1=Cc2cccc3C4=CC=Cc5cccc(C(=C1)c23)c54\"),\n",
       " Molecule(SMILES=\"C1=Cc2cccc3C=C4C=Cc5cccc6C=C1C(=C4c56)c23\"),\n",
       " Molecule(SMILES=\"C1=Cc2ccc3C=Cc4cccc5-c6cccc1c6-c2c3-c45\"),\n",
       " Molecule(SMILES=\"C1=Cc2cccc3-c4ccccc4C4=Cc5ccccc5C1=C4c23\"),\n",
       " Molecule(SMILES=\"C1=Cc2ccc3C=Cc4ccc5C=Cc6ccc1c1c6-c5c4-c3c2-1\"),\n",
       " Molecule(SMILES=\"C1=Cc2cc3C=Cc4ccc5C=Cc6cc7C=Cc8ccc1c1c8-c7c7c6-c5c4-c3c-7c2-1\")]"
      ]
     },
     "execution_count": 8,
     "metadata": {},
     "output_type": "execute_result"
    }
   ],
   "source": [
    "output"
   ]
  },
  {
   "cell_type": "code",
   "execution_count": 4,
   "metadata": {
    "collapsed": false
   },
   "outputs": [
    {
     "data": {
      "image/png": "[encoded data removed]",
      "text/plain": [
       "Molecule(SMILES=\"C1=Cc2ccc3C=Cc4ccc5C=CC1=C1c2c3-c4c51\")"
      ]
     },
     "execution_count": 4,
     "metadata": {},
     "output_type": "execute_result"
    }
   ],
   "source": [
    "clar.generateClarStructures(Molecule().fromSMILES(specs[13]))"
   ]
  },
  {
   "cell_type": "code",
   "execution_count": null,
   "metadata": {
    "collapsed": false
   },
   "outputs": [],
   "source": [
    "print mol.toAdjacencyList()"
   ]
  },
  {
   "cell_type": "code",
   "execution_count": null,
   "metadata": {
    "collapsed": true
   },
   "outputs": [],
   "source": []
  }
 ],
 "metadata": {
  "anaconda-cloud": {},
  "kernelspec": {
   "display_name": "Python [conda env:rmg_env]",
   "language": "python",
   "name": "conda-env-rmg_env-py"
  },
  "language_info": {
   "codemirror_mode": {
    "name": "ipython",
    "version": 2
   },
   "file_extension": ".py",
   "mimetype": "text/x-python",
   "name": "python",
   "nbconvert_exporter": "python",
   "pygments_lexer": "ipython2",
   "version": "2.7.12"
  }
 },
 "nbformat": 4,
 "nbformat_minor": 1
}
