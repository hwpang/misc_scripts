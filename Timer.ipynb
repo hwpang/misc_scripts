{
 "cells": [
  {
   "cell_type": "code",
   "execution_count": null,
   "metadata": {
    "collapsed": true
   },
   "outputs": [],
   "source": [
    "import timeit\n",
    "import numpy as np"
   ]
  },
  {
   "cell_type": "code",
   "execution_count": null,
   "metadata": {
    "collapsed": false
   },
   "outputs": [],
   "source": [
    "from rmgpy.molecule import Molecule\n",
    "from rmgpy.molecule.resonance import generateAromaticResonanceStructures, generateKekuleStructure\n",
    "mol = Molecule(SMILES='C1=CC2=CC=C3C=CC4=CC=C5C=CC6=CC=C1C1=C2C3=C4C5=C61')\n",
    "arom = generateAromaticResonanceStructures(mol)[0]\n",
    "\n",
    "\n",
    "#out = generateKekuleStructure(arom)\n",
    "#out[0]\n",
    "\n",
    "arom.kekulize()\n",
    "arom"
   ]
  },
  {
   "cell_type": "code",
   "execution_count": null,
   "metadata": {
    "collapsed": true
   },
   "outputs": [],
   "source": []
  },
  {
   "cell_type": "code",
   "execution_count": null,
   "metadata": {
    "collapsed": true
   },
   "outputs": [],
   "source": [
    "setup = \"\"\"\\\n",
    "from rmgpy.molecule import Molecule\n",
    "from rmgpy.molecule.resonance import generateAromaticResonanceStructures, generateKekuleStructure\n",
    "mol = Molecule(SMILES='C1=CC2=CC=C3C=CC4=CC=C5C=CC6=CC=C1C1=C2C3=C4C5=C61')\n",
    "arom = generateAromaticResonanceStructures(mol)[0]\n",
    "\"\"\"\n",
    "\n",
    "test1 = \"\"\"\\\n",
    "out = generateKekuleStructure(arom)\n",
    "\"\"\"\n",
    "\n",
    "test2 = \"\"\"\\\n",
    "arom.kekulize()\n",
    "\"\"\"\n",
    "\n",
    "test3 = \"\"\"\\\n",
    "arom2 = arom.copy(deep=True)\n",
    "arom2.kekulize()\n",
    "\"\"\""
   ]
  },
  {
   "cell_type": "code",
   "execution_count": null,
   "metadata": {
    "collapsed": false
   },
   "outputs": [],
   "source": [
    "result = timeit.repeat(test1, setup, repeat=10, number=1000)\n",
    "result = np.array(result)\n",
    "print np.mean(result), np.std(result)\n",
    "\n",
    "result = timeit.repeat(test2, setup, repeat=10, number=1000)\n",
    "result = np.array(result)\n",
    "print np.mean(result), np.std(result)\n",
    "\n",
    "result = timeit.repeat(test3, setup, repeat=10, number=1000)\n",
    "result = np.array(result)\n",
    "print np.mean(result), np.std(result)"
   ]
  },
  {
   "cell_type": "code",
   "execution_count": null,
   "metadata": {
    "collapsed": true
   },
   "outputs": [],
   "source": []
  }
 ],
 "metadata": {
  "anaconda-cloud": {},
  "kernelspec": {
   "display_name": "Python [conda env:rmg_env]",
   "language": "python",
   "name": "conda-env-rmg_env-py"
  },
  "language_info": {
   "codemirror_mode": {
    "name": "ipython",
    "version": 2
   },
   "file_extension": ".py",
   "mimetype": "text/x-python",
   "name": "python",
   "nbconvert_exporter": "python",
   "pygments_lexer": "ipython2",
   "version": "2.7.12"
  }
 },
 "nbformat": 4,
 "nbformat_minor": 1
}
