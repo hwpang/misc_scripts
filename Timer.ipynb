{
 "cells": [
  {
   "cell_type": "code",
   "execution_count": 1,
   "metadata": {
    "collapsed": true
   },
   "outputs": [],
   "source": [
    "import timeit"
   ]
  },
  {
   "cell_type": "code",
   "execution_count": 2,
   "metadata": {
    "collapsed": true
   },
   "outputs": [],
   "source": [
    "setup = \"\"\"\\\n",
    "from rmgpy.molecule import Molecule\n",
    "from rmgpy.molecule.resonance import generateAromaticResonanceStructures\n",
    "mol = Molecule(SMILES='C1=CC=C2C(C=CC3=CC=CC=C32)=C1')\n",
    "res = generateAromaticResonanceStructures(mol)\n",
    "mol = res[0]\n",
    "\"\"\"\n",
    "\n",
    "test1 = \"\"\"\\\n",
    "answer = mol.getAromaticRings()\n",
    "\"\"\"\n",
    "\n",
    "test2 = \"\"\"\\\n",
    "answer = mol.getSmallestSetOfSmallestRings()\n",
    "\"\"\"\n",
    "\n",
    "test3 = \"\"\"\\\n",
    "answer = mol.getAromaticSSSR()\n",
    "\"\"\""
   ]
  },
  {
   "cell_type": "code",
   "execution_count": 3,
   "metadata": {
    "collapsed": false
   },
   "outputs": [
    {
     "data": {
      "text/plain": [
       "[1.1481220722198486, 1.147179126739502, 1.1462090015411377]"
      ]
     },
     "execution_count": 3,
     "metadata": {},
     "output_type": "execute_result"
    }
   ],
   "source": [
    "timeit.repeat(test1, setup, repeat=3, number=1000)"
   ]
  },
  {
   "cell_type": "code",
   "execution_count": 4,
   "metadata": {
    "collapsed": false
   },
   "outputs": [
    {
     "data": {
      "text/plain": [
       "[0.2255568504333496, 0.2150111198425293, 0.22168397903442383]"
      ]
     },
     "execution_count": 4,
     "metadata": {},
     "output_type": "execute_result"
    }
   ],
   "source": [
    "timeit.repeat(test2, setup, repeat=3, number=1000)"
   ]
  },
  {
   "cell_type": "code",
   "execution_count": 5,
   "metadata": {
    "collapsed": false
   },
   "outputs": [
    {
     "data": {
      "text/plain": [
       "[0.6793580055236816, 0.6600170135498047, 0.6646029949188232]"
      ]
     },
     "execution_count": 5,
     "metadata": {},
     "output_type": "execute_result"
    }
   ],
   "source": [
    "timeit.repeat(test3, setup, repeat=3, number=1000)"
   ]
  }
 ],
 "metadata": {
  "anaconda-cloud": {},
  "kernelspec": {
   "display_name": "Python [conda env:rmg_env]",
   "language": "python",
   "name": "conda-env-rmg_env-py"
  },
  "language_info": {
   "codemirror_mode": {
    "name": "ipython",
    "version": 2
   },
   "file_extension": ".py",
   "mimetype": "text/x-python",
   "name": "python",
   "nbconvert_exporter": "python",
   "pygments_lexer": "ipython2",
   "version": "2.7.12"
  }
 },
 "nbformat": 4,
 "nbformat_minor": 1
}
