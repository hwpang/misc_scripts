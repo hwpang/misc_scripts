{
 "cells": [
  {
   "cell_type": "code",
   "execution_count": 1,
   "metadata": {
    "collapsed": true
   },
   "outputs": [],
   "source": [
    "import rmgpy\n",
    "from rmgpy.data.rmg import RMGDatabase\n",
    "from rmgpy.reaction import Reaction\n",
    "from rmgpy.molecule.molecule import Molecule"
   ]
  },
  {
   "cell_type": "code",
   "execution_count": 2,
   "metadata": {
    "collapsed": false
   },
   "outputs": [],
   "source": [
    "databasePath = rmgpy.settings['database.directory']\n",
    "\n",
    "database = RMGDatabase()\n",
    "database.load(\n",
    "    path = databasePath,\n",
    "    thermoLibraries = [],\n",
    "    reactionLibraries = [],\n",
    "    seedMechanisms = [],\n",
    "    kineticsFamilies = ['R_Addition_MultipleBond'],\n",
    "    )"
   ]
  },
  {
   "cell_type": "code",
   "execution_count": 14,
   "metadata": {
    "collapsed": true
   },
   "outputs": [],
   "source": [
    "reactants = [\n",
    "    Molecule().fromAdjacencyList(\"\"\"1  C u0 p0 c0 {2,B} {6,B} {7,S}\n",
    "2  C u0 p0 c0 {1,B} {3,B} {8,S}\n",
    "3  C u0 p0 c0 {2,B} {4,B} {9,S}\n",
    "4  C u0 p0 c0 {3,B} {5,B} {10,S}\n",
    "5  C u0 p0 c0 {4,B} {6,B} {11,S}\n",
    "6  C u0 p0 c0 {1,B} {5,B} {12,S}\n",
    "7  H u0 p0 c0 {1,S}\n",
    "8  H u0 p0 c0 {2,S}\n",
    "9  H u0 p0 c0 {3,S}\n",
    "10 H u0 p0 c0 {4,S}\n",
    "11 H u0 p0 c0 {5,S}\n",
    "12 H u0 p0 c0 {6,S}\n",
    "\"\"\"), \n",
    "    Molecule(SMILES='[H]')\n",
    "]"
   ]
  },
  {
   "cell_type": "code",
   "execution_count": 15,
   "metadata": {
    "collapsed": false
   },
   "outputs": [],
   "source": [
    "rxns = database.kinetics.families['R_Addition_MultipleBond'].generateReactions(reactants)"
   ]
  },
  {
   "cell_type": "code",
   "execution_count": 18,
   "metadata": {
    "collapsed": false
   },
   "outputs": [
    {
     "data": {
      "text/plain": [
       "[Reaction(reactants=[Molecule(SMILES=\"c1ccccc1\"), Molecule(SMILES=\"[H]\")], products=[Molecule(SMILES=\"[CH]1C=CC=CC1\")], degeneracy=12, pairs=[[Molecule(SMILES=\"c1ccccc1\"), Molecule(SMILES=\"[CH]1C=CC=CC1\")], [Molecule(SMILES=\"[H]\"), Molecule(SMILES=\"[CH]1C=CC=CC1\")]])]"
      ]
     },
     "execution_count": 18,
     "metadata": {},
     "output_type": "execute_result"
    }
   ],
   "source": [
    "rxns"
   ]
  },
  {
   "cell_type": "code",
   "execution_count": 9,
   "metadata": {
    "collapsed": true
   },
   "outputs": [],
   "source": [
    "out = Molecule(SMILES='c1ccccc1').generateResonanceIsomers()"
   ]
  },
  {
   "cell_type": "code",
   "execution_count": 13,
   "metadata": {
    "collapsed": false
   },
   "outputs": [
    {
     "name": "stdout",
     "output_type": "stream",
     "text": [
      "1  C u0 p0 c0 {2,B} {6,B} {7,S}\n",
      "2  C u0 p0 c0 {1,B} {3,B} {8,S}\n",
      "3  C u0 p0 c0 {2,B} {4,B} {9,S}\n",
      "4  C u0 p0 c0 {3,B} {5,B} {10,S}\n",
      "5  C u0 p0 c0 {4,B} {6,B} {11,S}\n",
      "6  C u0 p0 c0 {1,B} {5,B} {12,S}\n",
      "7  H u0 p0 c0 {1,S}\n",
      "8  H u0 p0 c0 {2,S}\n",
      "9  H u0 p0 c0 {3,S}\n",
      "10 H u0 p0 c0 {4,S}\n",
      "11 H u0 p0 c0 {5,S}\n",
      "12 H u0 p0 c0 {6,S}\n",
      "\n"
     ]
    }
   ],
   "source": [
    "print out[0].toAdjacencyList()"
   ]
  },
  {
   "cell_type": "code",
   "execution_count": null,
   "metadata": {
    "collapsed": true
   },
   "outputs": [],
   "source": []
  }
 ],
 "metadata": {
  "anaconda-cloud": {},
  "kernelspec": {
   "display_name": "Python [conda env:rmg_env]",
   "language": "python",
   "name": "conda-env-rmg_env-py"
  },
  "language_info": {
   "codemirror_mode": {
    "name": "ipython",
    "version": 2
   },
   "file_extension": ".py",
   "mimetype": "text/x-python",
   "name": "python",
   "nbconvert_exporter": "python",
   "pygments_lexer": "ipython2",
   "version": "2.7.12"
  }
 },
 "nbformat": 4,
 "nbformat_minor": 1
}
