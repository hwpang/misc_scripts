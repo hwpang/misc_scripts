{
 "cells": [
  {
   "cell_type": "code",
   "execution_count": null,
   "metadata": {
    "collapsed": false
   },
   "outputs": [],
   "source": [
    "import os.path\n",
    "import numpy as np\n",
    "import matplotlib.pyplot as plt\n",
    "from IPython.display import display\n",
    "%matplotlib inline\n",
    "\n",
    "import rmgpy\n",
    "from rmgpy.data.rmg import RMGDatabase\n",
    "from rmgpy.species import Species\n",
    "from rmgpy.chemkin import readThermoEntry"
   ]
  },
  {
   "cell_type": "code",
   "execution_count": null,
   "metadata": {
    "collapsed": true
   },
   "outputs": [],
   "source": [
    "databasePath = rmgpy.settings['database.directory']\n",
    "\n",
    "database = RMGDatabase()\n",
    "database.load(\n",
    "    path = databasePath,\n",
    "    thermoLibraries = ['PAHLibrary2'],\n",
    "    reactionLibraries = [],\n",
    "    seedMechanisms = [],\n",
    "    kineticsFamilies = 'none'\n",
    "    )"
   ]
  },
  {
   "cell_type": "code",
   "execution_count": null,
   "metadata": {
    "collapsed": false
   },
   "outputs": [],
   "source": [
    "spec = Species().fromSMILES(\"C1=CC2=CC=CC3C=CC(=C1)C=32\")\n",
    "spec.generateResonanceIsomers()\n",
    "spec.thermo = database.thermo.getThermoData(spec)\n",
    "display(spec)\n",
    "print spec.thermo.comment"
   ]
  },
  {
   "cell_type": "code",
   "execution_count": null,
   "metadata": {
    "collapsed": true
   },
   "outputs": [],
   "source": [
    "# NASA polynomials\n",
    "\n",
    "data = [\n",
    "    \"\"\"S(16662)                H   8C  12          G   100.000  5000.000 1048.84      1\n",
    " 1.72305567E+01 4.27330689E-02-1.86066312E-05 3.65472188E-09-2.66190366E-13    2\n",
    " 1.74743699E+04-6.77110252E+01 3.34031214E-01 6.05669789E-02 2.25406696E-05    3\n",
    "-6.48654752E-08 2.61645367E-11 2.35821360E+04 2.68309196E+01                   4\n",
    "    \"\"\",\n",
    "]"
   ]
  },
  {
   "cell_type": "code",
   "execution_count": null,
   "metadata": {
    "collapsed": true
   },
   "outputs": [],
   "source": [
    "labels = [\n",
    "    'PAHLibrary',\n",
    "    'GAV',\n",
    "]"
   ]
  },
  {
   "cell_type": "code",
   "execution_count": null,
   "metadata": {
    "collapsed": false
   },
   "outputs": [],
   "source": [
    "thermo = [spec.thermo]\n",
    "for entry in data:\n",
    "    thermo.append(readThermoEntry(entry)[1])"
   ]
  },
  {
   "cell_type": "code",
   "execution_count": null,
   "metadata": {
    "collapsed": false
   },
   "outputs": [],
   "source": [
    "tlist = np.linspace(300, 3000, 100)\n",
    "Cpall = []\n",
    "Hall = []\n",
    "Sall = []\n",
    "Gall = []\n",
    "for entry in thermo:\n",
    "    Cplist = np.zeros_like(tlist)\n",
    "    Hlist = np.zeros_like(tlist)\n",
    "    Slist = np.zeros_like(tlist)\n",
    "    Glist = np.zeros_like(tlist)\n",
    "    for i, t in enumerate(tlist):\n",
    "        Cplist[i] = entry.getHeatCapacity(t) / 4.184\n",
    "        Hlist[i] = entry.getEnthalpy(t) / 4184\n",
    "        Slist[i] = entry.getEntropy(t) / 4.184\n",
    "        Glist[i] = entry.getFreeEnergy(t) / 4184\n",
    "    Cpall.append(Cplist)\n",
    "    Hall.append(Hlist)\n",
    "    Sall.append(Slist)\n",
    "    Gall.append(Glist)"
   ]
  },
  {
   "cell_type": "code",
   "execution_count": null,
   "metadata": {
    "collapsed": true
   },
   "outputs": [],
   "source": [
    "for item, label in zip(Cpall, labels):\n",
    "    plt.plot(tlist, item, label=label)\n",
    "plt.xlabel('Temperature (K)')\n",
    "plt.ylabel('Heat Capacity (cal/mol-K)')\n",
    "plt.legend(loc=4)\n",
    "plt.show()"
   ]
  },
  {
   "cell_type": "code",
   "execution_count": null,
   "metadata": {
    "collapsed": true
   },
   "outputs": [],
   "source": [
    "for item, label in zip(Hall, labels):\n",
    "    plt.plot(tlist, item, label=label)\n",
    "plt.xlabel('Temperature (K)')\n",
    "plt.ylabel('Enthalpy (kcal/mol-K)')\n",
    "plt.legend(loc=2)\n",
    "plt.show()"
   ]
  },
  {
   "cell_type": "code",
   "execution_count": null,
   "metadata": {
    "collapsed": true
   },
   "outputs": [],
   "source": [
    "for item, label in zip(Hall, labels):\n",
    "    plt.plot(tlist, item, label=label)\n",
    "plt.xlabel('Temperature (K)')\n",
    "plt.ylabel('Enthalpy (kcal/mol-K)')\n",
    "plt.legend(loc=2)\n",
    "plt.show()"
   ]
  },
  {
   "cell_type": "code",
   "execution_count": null,
   "metadata": {
    "collapsed": true
   },
   "outputs": [],
   "source": [
    "for item, label in zip(Gall, labels):\n",
    "    plt.plot(tlist, item, label=label)\n",
    "plt.xlabel('Temperature (K)')\n",
    "plt.ylabel('Free Energy (kcal/mol-K)')\n",
    "plt.legend(loc=3)\n",
    "plt.show()"
   ]
  }
 ],
 "metadata": {
  "anaconda-cloud": {},
  "kernelspec": {
   "display_name": "Python [conda env:rmg_env]",
   "language": "python",
   "name": "conda-env-rmg_env-py"
  },
  "language_info": {
   "codemirror_mode": {
    "name": "ipython",
    "version": 2
   },
   "file_extension": ".py",
   "mimetype": "text/x-python",
   "name": "python",
   "nbconvert_exporter": "python",
   "pygments_lexer": "ipython2",
   "version": "2.7.12"
  }
 },
 "nbformat": 4,
 "nbformat_minor": 1
}
