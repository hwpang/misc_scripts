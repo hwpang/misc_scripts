{
 "cells": [
  {
   "cell_type": "code",
   "execution_count": 1,
   "metadata": {
    "collapsed": false
   },
   "outputs": [],
   "source": [
    "import rmgpy\n",
    "from rmgpy.molecule.resonance import *\n",
    "from rmgpy.molecule.molecule import Molecule\n",
    "\n",
    "import numpy as np\n",
    "import sys\n",
    "import time\n",
    "import timeit"
   ]
  },
  {
   "cell_type": "code",
   "execution_count": 2,
   "metadata": {
    "collapsed": true
   },
   "outputs": [],
   "source": [
    "specs = ['C1=CC=CC=C1',\n",
    "         'C1=CC=C2C=CC=CC2=C1',\n",
    "         'C1=CC2=CC=CC3C=CC(=C1)C=32',\n",
    "         'C1=CC=C2C=C3C=CC=CC3=CC2=C1',\n",
    "         'C1=CC=C2C(C=CC3=CC=CC=C32)=C1',\n",
    "         'C1=CC2=CC=CC3CC=CC(=C1)C=32',\n",
    "         'C1=CC=C2C=C3C=C4C=CC=CC4=CC3=CC2=C1',\n",
    "         'C1=CC=C2C(C=CC3C2=CC=C2C=CC=CC=32)=C1',\n",
    "         'C1=CC=C2C(=C1)C1=CC=CC=C1C1=CC=CC=C21',\n",
    "         'C1=CC2=CC=C3C=CC=C4C=CC(=C1)C2=C43',\n",
    "         'C1=CC=C2C=C3C(C=CC4=CC=CC=C43)=CC2=C1',\n",
    "         'C1=CC=C2C=C3C=C4C=C5C=CC=CC5=CC4=CC3=CC2=C1',\n",
    "         'C1=CC=C2C(=C1)C=C1C=CC3=CC=CC4=CC=C2C1=C34',\n",
    "         'C1=CC2=CC=C3C=CC4=C5C6=C(C2=C35)C1=CC=C6C=C4',\n",
    "         'C1=CC2=CC=CC3C4=CC=CC5=CC=CC(C(=C1)C=32)=C54',\n",
    "         'C1=CC2=CC=C3C=C4C=CC=C5C=CC6=CC(=C1)C2=C3C6=C54',\n",
    "         'C1=CC2=CC=C3C=CC4=CC=C5C=CC=C6C(=C1)C2=C3C4=C56',\n",
    "         'C1=CC=C2C(=C1)C=C1C3=CC=CC=C3C3=CC=CC4=CC=C2C1=C43',\n",
    "         'C1=CC2=CC=C3C=CC4=CC=C5C=CC6=CC=C1C1=C2C3=C4C5=C61',\n",
    "         'C1=CC2=CC=C3C=C4C=CC5=CC=C6C=CC7=CC8=CC=C1C1=C2C3=C2C4=C5C6=C7C2=C81']"
   ]
  },
  {
   "cell_type": "code",
   "execution_count": 3,
   "metadata": {
    "collapsed": false
   },
   "outputs": [],
   "source": [
    "times = []\n",
    "output = []\n",
    "\n",
    "for spec in specs:\n",
    "    mol = Molecule().fromSMILES(spec)\n",
    "    try:\n",
    "        t0 = time.time()\n",
    "        newmol = generateClarStructures(mol)\n",
    "        t1 = time.time()\n",
    "        output.append(newmol)\n",
    "    except:\n",
    "        output.append(sys.exc_info()[0])\n",
    "    times.append(t1 - t0)"
   ]
  },
  {
   "cell_type": "code",
   "execution_count": 4,
   "metadata": {
    "collapsed": false
   },
   "outputs": [
    {
     "data": {
      "text/plain": [
       "[0.009886026382446289,\n",
       " 0.002534151077270508,\n",
       " 0.002811908721923828,\n",
       " 0.005320072174072266,\n",
       " 0.0037720203399658203,\n",
       " 0.003017902374267578,\n",
       " 0.008949041366577148,\n",
       " 0.007367134094238281,\n",
       " 0.0035059452056884766,\n",
       " 0.004808902740478516,\n",
       " 0.005788087844848633,\n",
       " 0.01829814910888672,\n",
       " 0.011092901229858398,\n",
       " 0.01881098747253418,\n",
       " 0.01234889030456543,\n",
       " 0.015477180480957031,\n",
       " 0.009952068328857422,\n",
       " 0.027382850646972656,\n",
       " 0.022614002227783203,\n",
       " 0.10640501976013184]"
      ]
     },
     "execution_count": 4,
     "metadata": {},
     "output_type": "execute_result"
    }
   ],
   "source": [
    "times"
   ]
  },
  {
   "cell_type": "code",
   "execution_count": 7,
   "metadata": {
    "collapsed": false
   },
   "outputs": [
    {
     "name": "stdout",
     "output_type": "stream",
     "text": [
      "0.0150071620941\n"
     ]
    }
   ],
   "source": [
    "print np.mean(times)"
   ]
  },
  {
   "cell_type": "code",
   "execution_count": 5,
   "metadata": {
    "collapsed": false
   },
   "outputs": [
    {
     "data": {
      "text/plain": [
       "[[Molecule(SMILES=\"c1ccccc1\")],\n",
       " [Molecule(SMILES=\"C1C=Cc2ccccc2C=1\"), Molecule(SMILES=\"C1C=Cc2ccccc2C=1\")],\n",
       " [Molecule(SMILES=\"C1=Cc2cccc3C=CC(=C1)c23\"),\n",
       "  Molecule(SMILES=\"C1=Cc2cccc3C=CC(=C1)c23\")],\n",
       " [Molecule(SMILES=\"C1C=CC2=Cc3ccccc3C=C2C=1\"),\n",
       "  Molecule(SMILES=\"C1C=CC2=Cc3ccccc3C=C2C=1\"),\n",
       "  Molecule(SMILES=\"C1C=Cc2cc3C=CC=Cc3cc2C=1\")],\n",
       " [Molecule(SMILES=\"C1=Cc2ccccc2-c2ccccc21\")],\n",
       " [Molecule(SMILES=\"C1=Cc2cccc3C=CCC(=C1)c23\"),\n",
       "  Molecule(SMILES=\"C1=Cc2cccc3CC=CC(=C1)c23\")],\n",
       " [Molecule(SMILES=\"C1C=CC2=CC3=Cc4ccccc4C=C3C=C2C=1\"),\n",
       "  Molecule(SMILES=\"C1C=CC2=Cc3cc4C=CC=Cc4cc3C=C2C=1\"),\n",
       "  Molecule(SMILES=\"C1C=CC2=CC3=Cc4ccccc4C=C3C=C2C=1\"),\n",
       "  Molecule(SMILES=\"C1C=CC2=Cc3cc4C=CC=Cc4cc3C=C2C=1\")],\n",
       " [Molecule(SMILES=\"C1=Cc2ccccc2C2C=Cc3ccccc3C=21\"),\n",
       "  Molecule(SMILES=\"C1C=Cc2c(C=1)ccc1-c3ccccc3C=Cc12\"),\n",
       "  Molecule(SMILES=\"C1C=Cc2c(C=1)ccc1-c3ccccc3C=Cc12\")],\n",
       " [Molecule(SMILES=\"c1ccc2c(c1)-c1ccccc1-c1ccccc1-2\")],\n",
       " [Molecule(SMILES=\"C1=Cc2cccc3C=Cc4cccc1c4-c23\")],\n",
       " [Molecule(SMILES=\"C1C=Cc2cc3c(C=Cc4ccccc4-3)cc2C=1\"),\n",
       "  Molecule(SMILES=\"C1=Cc2ccccc2C2=Cc3ccccc3C=C12\")],\n",
       " [Molecule(SMILES=\"C1C=CC2=CC3=CC4=Cc5ccccc5C=C4C=C3C=C2C=1\"),\n",
       "  Molecule(SMILES=\"C1C=CC2=CC3=CC4=Cc5ccccc5C=C4C=C3C=C2C=1\"),\n",
       "  Molecule(SMILES=\"C1C=CC2=Cc3cc4C=C5C=CC=CC5=Cc4cc3C=C2C=1\"),\n",
       "  Molecule(SMILES=\"C1C=CC2=CC3=Cc4cc5C=CC=Cc5cc4C=C3C=C2C=1\"),\n",
       "  Molecule(SMILES=\"C1C=CC2=CC3=Cc4cc5C=CC=Cc5cc4C=C3C=C2C=1\")],\n",
       " [Molecule(SMILES=\"C1=Cc2cccc3C=CC4=C(C1=Cc1ccccc14)c23\"),\n",
       "  Molecule(SMILES=\"C1C=Cc2c(C=1)cc1C=Cc3cccc4C=Cc2c1-c34\"),\n",
       "  Molecule(SMILES=\"C1=Cc2ccc3-c4ccccc4C=C4C=CC(=C1)c2c34\")],\n",
       " [Molecule(SMILES=\"C1=Cc2ccc3C=Cc4ccc5C=CC1=C1c2c3-c4c51\"),\n",
       "  Molecule(SMILES=\"C1=Cc2ccc3C=Cc4ccc5C=CC1=C1c2c3-c4c51\"),\n",
       "  Molecule(SMILES=\"C1=Cc2ccc3C=Cc4ccc5C=CC1=C1c2c3-c4c51\"),\n",
       "  Molecule(SMILES=\"C1=Cc2ccc3C=Cc4ccc5C=CC1=C1c2c3-c4c51\"),\n",
       "  Molecule(SMILES=\"C1=Cc2ccc3C=Cc4ccc5C=CC1=C1c2c3-c4c51\")],\n",
       " [Molecule(SMILES=\"C1=Cc2cccc3C4=CC=Cc5cccc(C(=C1)c23)c54\"),\n",
       "  Molecule(SMILES=\"C1=Cc2cccc3-c4cccc5C=CC=C(C(=C1)c23)c54\"),\n",
       "  Molecule(SMILES=\"C1=Cc2cccc3C4=CC=Cc5cccc(C(=C1)c23)c54\"),\n",
       "  Molecule(SMILES=\"C1=Cc2cccc3-c4cccc5C=CC=C(C(=C1)c23)c54\")],\n",
       " [Molecule(SMILES=\"C1=Cc2cc3C=Cc4cccc5C=C6C=CC(=C1)c2c6c3-c45\"),\n",
       "  Molecule(SMILES=\"C1=Cc2cccc3C=C4C=Cc5cccc6C=C1C(=C4c56)c23\"),\n",
       "  Molecule(SMILES=\"C1=Cc2cc3C=Cc4cccc5C=C6C=CC(=C1)c2c6c3-c45\")],\n",
       " [Molecule(SMILES=\"C1=Cc2ccc3C=Cc4cccc5-c6cccc1c6-c2c3-c45\")],\n",
       " [Molecule(SMILES=\"C1=Cc2cccc3-c4ccccc4C4=Cc5ccccc5C1=C4c23\"),\n",
       "  Molecule(SMILES=\"C1=Cc2ccc3-c4ccccc4C=C4c5ccccc5C(=C1)c2c34\"),\n",
       "  Molecule(SMILES=\"C1C=Cc2c(C=1)cc1-c3ccccc3-c3cccc4C=Cc2c1-c43\")],\n",
       " [Molecule(SMILES=\"C1=Cc2ccc3C=Cc4ccc5C=Cc6ccc1c1c6-c5c4-c3c2-1\"),\n",
       "  Molecule(SMILES=\"C1=Cc2ccc3C=Cc4ccc5C=Cc6ccc1c1c6-c5c4-c3c2-1\")],\n",
       " [Molecule(SMILES=\"C1=Cc2cc3C=Cc4ccc5C=Cc6cc7C=Cc8ccc1c1c8-c7c7c6-c5c4-c3c-7c2-1\")]]"
      ]
     },
     "execution_count": 5,
     "metadata": {},
     "output_type": "execute_result"
    }
   ],
   "source": [
    "output"
   ]
  },
  {
   "cell_type": "code",
   "execution_count": 7,
   "metadata": {
    "collapsed": false
   },
   "outputs": [],
   "source": [
    "test = generateResonanceIsomers(Molecule().fromSMILES('C1=CC=C2C(=C1)C=C1C=CC3=CC=CC4=CC=C2C1=C34'))"
   ]
  },
  {
   "cell_type": "code",
   "execution_count": 18,
   "metadata": {
    "collapsed": false
   },
   "outputs": [
    {
     "data": {
      "image/png": "[encoded data removed]",
      "text/plain": [
       "Molecule(SMILES=\"C1=CC=C2C(=C1)C=C1C=CC3=CC=CC4=CC=C2C1=C34\")"
      ]
     },
     "execution_count": 18,
     "metadata": {},
     "output_type": "execute_result"
    }
   ],
   "source": [
    "test[0]"
   ]
  },
  {
   "cell_type": "code",
   "execution_count": 17,
   "metadata": {
    "collapsed": false
   },
   "outputs": [
    {
     "data": {
      "image/png": "[encoded data removed]",
      "text/plain": [
       "Molecule(SMILES=\"C1C=CC2C(C=1)=CC1C=CC3=CC=CC4C=CC=2C=1C=43\")"
      ]
     },
     "execution_count": 17,
     "metadata": {},
     "output_type": "execute_result"
    }
   ],
   "source": [
    "test[5]"
   ]
  },
  {
   "cell_type": "code",
   "execution_count": 19,
   "metadata": {
    "collapsed": false
   },
   "outputs": [
    {
     "data": {
      "image/png": "[encoded data removed]",
      "text/plain": [
       "Molecule(SMILES=\"C1C=CC2C(C=1)=CC1C=CC3C=CC=C4C=CC=2C=1C=34\")"
      ]
     },
     "execution_count": 19,
     "metadata": {},
     "output_type": "execute_result"
    }
   ],
   "source": [
    "test[6]"
   ]
  },
  {
   "cell_type": "code",
   "execution_count": null,
   "metadata": {
    "collapsed": false
   },
   "outputs": [],
   "source": [
    "def simpleRecursion(a=None):\n",
    "    if a:\n",
    "        a += 1\n",
    "    else:\n",
    "        a = 1\n",
    "    print a\n",
    "    if a == 10:\n",
    "        return []\n",
    "    else:\n",
    "        inner = simpleRecursion(a)\n",
    "    print inner\n",
    "    return inner + [a]"
   ]
  },
  {
   "cell_type": "code",
   "execution_count": null,
   "metadata": {
    "collapsed": false
   },
   "outputs": [],
   "source": [
    "simpleRecursion()"
   ]
  },
  {
   "cell_type": "code",
   "execution_count": 4,
   "metadata": {
    "collapsed": false
   },
   "outputs": [
    {
     "data": {
      "text/plain": [
       "True"
      ]
     },
     "execution_count": 4,
     "metadata": {},
     "output_type": "execute_result"
    }
   ],
   "source": [
    "pyrene_rad2 = Molecule().fromSMILES('[C]1C=C2C=CC=C3C=CC4=CC=CC=1C4=C23')\n",
    "pyrene_rad2.isArylRadical()"
   ]
  },
  {
   "cell_type": "code",
   "execution_count": 5,
   "metadata": {
    "collapsed": false
   },
   "outputs": [
    {
     "data": {
      "text/plain": [
       "0.11185693740844727"
      ]
     },
     "execution_count": 5,
     "metadata": {},
     "output_type": "execute_result"
    }
   ],
   "source": [
    "setup = \"\"\"\\\n",
    "from rmgpy.molecule.molecule import Molecule\n",
    "pyrene_rad2 = Molecule().fromSMILES('[C]1C=C2C=CC=C3C=CC4=CC=CC=1C4=C23')\n",
    "\"\"\"\n",
    "\n",
    "timeit.timeit('pyrene_rad2.isArylRadical()', setup=setup, number=100)"
   ]
  },
  {
   "cell_type": "code",
   "execution_count": null,
   "metadata": {
    "collapsed": true
   },
   "outputs": [],
   "source": []
  }
 ],
 "metadata": {
  "anaconda-cloud": {},
  "kernelspec": {
   "display_name": "Python [conda env:rmg_env]",
   "language": "python",
   "name": "conda-env-rmg_env-py"
  },
  "language_info": {
   "codemirror_mode": {
    "name": "ipython",
    "version": 2
   },
   "file_extension": ".py",
   "mimetype": "text/x-python",
   "name": "python",
   "nbconvert_exporter": "python",
   "pygments_lexer": "ipython2",
   "version": "2.7.12"
  }
 },
 "nbformat": 4,
 "nbformat_minor": 1
}
