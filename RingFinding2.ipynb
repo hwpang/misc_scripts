{
 "cells": [
  {
   "cell_type": "code",
   "execution_count": null,
   "metadata": {
    "collapsed": true
   },
   "outputs": [],
   "source": [
    "import py_rdl\n",
    "from py_rdl.wrapper import DataInternal\n",
    "import timeit\n",
    "import numpy as np\n",
    "from IPython.display import display"
   ]
  },
  {
   "cell_type": "code",
   "execution_count": null,
   "metadata": {
    "collapsed": false
   },
   "outputs": [],
   "source": [
    "from rmgpy.molecule import Molecule\n",
    "from rmgpy.molecule.graph import Vertex, Edge, Graph"
   ]
  },
  {
   "cell_type": "code",
   "execution_count": null,
   "metadata": {
    "collapsed": false
   },
   "outputs": [],
   "source": [
    "m = Molecule(SMILES='c1ccccc1')\n",
    "display(m)\n",
    "print m.toAdjacencyList()"
   ]
  },
  {
   "cell_type": "code",
   "execution_count": null,
   "metadata": {
    "collapsed": false
   },
   "outputs": [],
   "source": [
    "sssr = m.getSmallestSetOfSmallestRings()\n",
    "[atom.label for atom in sssr[0]]"
   ]
  },
  {
   "cell_type": "code",
   "execution_count": null,
   "metadata": {
    "collapsed": true
   },
   "outputs": [],
   "source": [
    "m.atoms[0].label = '1'\n",
    "m.atoms[1].label = '2'\n",
    "m.atoms[2].label = '3'\n",
    "m.atoms[3].label = '4'\n",
    "m.atoms[4].label = '5'\n",
    "m.atoms[5].label = '6'"
   ]
  },
  {
   "cell_type": "code",
   "execution_count": null,
   "metadata": {
    "collapsed": false
   },
   "outputs": [],
   "source": [
    "m.getSmallestSetOfSmallestRings()"
   ]
  },
  {
   "cell_type": "code",
   "execution_count": null,
   "metadata": {
    "collapsed": true
   },
   "outputs": [],
   "source": []
  },
  {
   "cell_type": "code",
   "execution_count": null,
   "metadata": {
    "collapsed": true
   },
   "outputs": [],
   "source": [
    "setup = \"\"\"\n",
    "import py_rdl\n",
    "from py_rdl.wrapper import DataInternal\n",
    "from rmgpy.molecule import Molecule\n",
    "m = Molecule(SMILES='C12C3C4C1C1C2C3C41')\n",
    "\"\"\"\n",
    "\n",
    "test = \"\"\"\n",
    "graph = py_rdl.Graph.from_edges(\n",
    "    m.edges,\n",
    "    lambda x: x.vertex1,\n",
    "    lambda x: x.vertex2,\n",
    ")\n",
    "\n",
    "data = DataInternal(graph.get_nof_nodes(), graph.get_edges().iterkeys())\n",
    "data.calculate()\n",
    "rc = []\n",
    "for cycle in data.get_rcs():\n",
    "    rc.append([graph.get_node_for_index(i) for i in cycle.nodes])\n",
    "\"\"\""
   ]
  },
  {
   "cell_type": "code",
   "execution_count": null,
   "metadata": {
    "collapsed": false
   },
   "outputs": [],
   "source": [
    "result = timeit.repeat(test, setup, repeat=10, number=100)\n",
    "result = np.array(result)\n",
    "print np.mean(result), np.std(result)"
   ]
  },
  {
   "cell_type": "code",
   "execution_count": null,
   "metadata": {
    "collapsed": false
   },
   "outputs": [],
   "source": [
    "graph = py_rdl.Graph.from_edges(\n",
    "    m.edges,\n",
    "    lambda x: x.vertex1,\n",
    "    lambda x: x.vertex2,\n",
    ")\n",
    "\n",
    "data = DataInternal(graph.get_nof_nodes(), graph.get_edges().iterkeys())\n",
    "data.calculate()\n",
    "rc = []\n",
    "for cycle in data.get_rcs():\n",
    "    rc.append([graph.get_node_for_index(i) for i in cycle.nodes])\n",
    "sssr = []\n",
    "for cycle in data.get_sssr():\n",
    "    sssr.append([graph.get_node_for_index(i) for i in cycle.nodes])"
   ]
  },
  {
   "cell_type": "code",
   "execution_count": null,
   "metadata": {
    "collapsed": true
   },
   "outputs": [],
   "source": []
  }
 ],
 "metadata": {
  "anaconda-cloud": {},
  "kernelspec": {
   "display_name": "Python [conda env:rmg_env]",
   "language": "python",
   "name": "conda-env-rmg_env-py"
  },
  "language_info": {
   "codemirror_mode": {
    "name": "ipython",
    "version": 2
   },
   "file_extension": ".py",
   "mimetype": "text/x-python",
   "name": "python",
   "nbconvert_exporter": "python",
   "pygments_lexer": "ipython2",
   "version": "2.7.12"
  }
 },
 "nbformat": 4,
 "nbformat_minor": 1
}
