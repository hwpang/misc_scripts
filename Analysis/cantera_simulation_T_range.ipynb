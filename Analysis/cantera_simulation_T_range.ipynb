{
 "cells": [
  {
   "cell_type": "code",
   "execution_count": null,
   "metadata": {},
   "outputs": [],
   "source": [
    "import os\n",
    "\n",
    "from IPython.display import display\n",
    "from rmgpy.species import Species\n",
    "from collections import OrderedDict\n",
    "import cantera as ct\n",
    "import numpy as np\n",
    "import pandas as pd\n",
    "\n",
    "%matplotlib inline\n",
    "import matplotlib as mpl\n",
    "import matplotlib.pyplot as plt"
   ]
  },
  {
   "cell_type": "code",
   "execution_count": null,
   "metadata": {},
   "outputs": [],
   "source": [
    "def simulate(model, T, P, mol_frac, time):\n",
    "\n",
    "    model.TPX = T, P, mol_frac\n",
    "\n",
    "    reactor = ct.IdealGasReactor(model)\n",
    "    \n",
    "    simulation = ct.ReactorNet([reactor])\n",
    "\n",
    "    simulation.advance(time)\n",
    "\n",
    "    conditions = pd.Series()\n",
    "    conditions['time'] = simulation.time\n",
    "    conditions['temperature0'] = T\n",
    "    conditions['temperature'] = model.T\n",
    "    conditions['pressure0'] = P\n",
    "    conditions['pressure'] = model.P\n",
    "        \n",
    "    species = pd.Series()\n",
    "    for key, value in model.mole_fraction_dict().iteritems():\n",
    "        species[key] = value\n",
    "        \n",
    "    return conditions, species"
   ]
  },
  {
   "cell_type": "code",
   "execution_count": null,
   "metadata": {},
   "outputs": [],
   "source": [
    "# Convert chemkin to cantera\n",
    "from cantera import ck2cti\n",
    "directory = '/home/mjliu/Documents/models/faa_v2/pah/run4'\n",
    "filename = 'chem_annotated'\n",
    "chemkin_file = os.path.join(directory, filename + '.inp')\n",
    "cantera_file = os.path.join(directory, filename + '.cti')\n",
    "if os.path.exists(cantera_file):\n",
    "    raise Exception('File already exists')\n",
    "ck2cti.Parser().convertMech(chemkin_file, outName=cantera_file)"
   ]
  },
  {
   "cell_type": "code",
   "execution_count": null,
   "metadata": {},
   "outputs": [],
   "source": [
    "model = ct.Solution(cantera_file)"
   ]
  },
  {
   "cell_type": "code",
   "execution_count": null,
   "metadata": {},
   "outputs": [],
   "source": [
    "conditions = [800, 1000, 1200, 1400, 1600, 1800, 2000]"
   ]
  },
  {
   "cell_type": "code",
   "execution_count": null,
   "metadata": {},
   "outputs": [],
   "source": [
    "conditions_df = pd.DataFrame()\n",
    "species_df = pd.DataFrame()\n",
    "\n",
    "for T in conditions:\n",
    "    P = 2 * 101325\n",
    "    mol_frac = {\n",
    "        'A1(1)': 0.08,\n",
    "        'A1C(3)': .01,\n",
    "        'A2(2)': .01,\n",
    "        'C2H2(12)': 0.2,\n",
    "        'N2': 0.7,\n",
    "    }\n",
    "\n",
    "    conditions, species = simulate(model, T, P, mol_frac, 0.002)\n",
    "    \n",
    "    conditions_df = conditions_df.append(conditions, ignore_index=True)\n",
    "    species_df = species_df.append(species, ignore_index=True)\n",
    "    \n",
    "    print 'T = {0:4} Completed!'.format(T)\n",
    "\n",
    "data = pd.concat([conditions_df, species_df], axis=1)\n",
    "print 'Simulation Completed!'"
   ]
  },
  {
   "cell_type": "code",
   "execution_count": null,
   "metadata": {
    "scrolled": false
   },
   "outputs": [],
   "source": [
    "plt.style.use('seaborn-poster')\n",
    "\n",
    "fig = plt.figure()\n",
    "\n",
    "colormap = mpl.cm.tab20\n",
    "i = 0\n",
    "for label in species_df.columns:\n",
    "    x = data['temperature0']\n",
    "    y = data[label]\n",
    "    if any(y > 1e-4) and label not in ['N2', 'C2H2(12)']:\n",
    "        plt.plot(x, y, c=colormap(i), label=label)\n",
    "        i += 1\n",
    "\n",
    "plt.yscale('log')\n",
    "plt.xlabel('Temperature (K)')\n",
    "plt.ylabel('Mole Fraction')\n",
    "plt.legend(bbox_to_anchor=(1.02, 1), loc=2, borderaxespad=0.)"
   ]
  },
  {
   "cell_type": "code",
   "execution_count": null,
   "metadata": {},
   "outputs": [],
   "source": [
    "# slightly modified version of rmgpy.chemkin.loadSpeciesDictionary\n",
    "def loadSpeciesDictionary(path):\n",
    "    speciesDict = OrderedDict()\n",
    "    with open(path, 'r') as f:\n",
    "        adjlist = ''\n",
    "        for line in f:\n",
    "            if line.strip() == '' and adjlist.strip() != '':\n",
    "                # Finish this adjacency list\n",
    "                species = Species().fromAdjacencyList(adjlist)\n",
    "                label = species.label\n",
    "                speciesDict[label] = species\n",
    "                adjlist = ''\n",
    "            else:\n",
    "                if \"InChI\" in line:\n",
    "                    line = line.split()[0] + '\\n'\n",
    "                if '//' in line:\n",
    "                    index = line.index('//')\n",
    "                    line = line[0:index]\n",
    "                adjlist += line\n",
    "        else: #reach end of file\n",
    "            if adjlist.strip() != '':\n",
    "                species = Species().fromAdjacencyList(adjlist)\n",
    "                label = species.label\n",
    "                speciesDict[label] = species\n",
    "\n",
    "    return speciesDict"
   ]
  },
  {
   "cell_type": "code",
   "execution_count": null,
   "metadata": {},
   "outputs": [],
   "source": [
    "# set path here\n",
    "path = os.path.join(directory, 'species_dictionary.txt')\n",
    "\n",
    "# load\n",
    "species_dict = loadSpeciesDictionary(path)"
   ]
  },
  {
   "cell_type": "code",
   "execution_count": null,
   "metadata": {
    "scrolled": false
   },
   "outputs": [],
   "source": [
    "for label in species_df.columns:\n",
    "    y = data[label]\n",
    "    if any(y > 1e-4):\n",
    "        print label\n",
    "        display(species_dict[label])"
   ]
  },
  {
   "cell_type": "code",
   "execution_count": null,
   "metadata": {},
   "outputs": [],
   "source": [
    "for label in species_df.columns:\n",
    "    y = data[label]\n",
    "    if all(y < 1e-8) and any(y > 1e-10):\n",
    "        display(species_dict[label])"
   ]
  },
  {
   "cell_type": "code",
   "execution_count": null,
   "metadata": {},
   "outputs": [],
   "source": []
  }
 ],
 "metadata": {
  "anaconda-cloud": {},
  "kernelspec": {
   "display_name": "Python 2",
   "language": "python",
   "name": "python2"
  },
  "language_info": {
   "codemirror_mode": {
    "name": "ipython",
    "version": 2
   },
   "file_extension": ".py",
   "mimetype": "text/x-python",
   "name": "python",
   "nbconvert_exporter": "python",
   "pygments_lexer": "ipython2",
   "version": "2.7.15"
  }
 },
 "nbformat": 4,
 "nbformat_minor": 1
}
