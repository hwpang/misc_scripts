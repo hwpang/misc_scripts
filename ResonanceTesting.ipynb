{
 "cells": [
  {
   "cell_type": "code",
   "execution_count": 1,
   "metadata": {
    "collapsed": true
   },
   "outputs": [],
   "source": [
    "from rmgpy.molecule.resonance import *\n",
    "from rmgpy.molecule.molecule import Molecule\n",
    "\n",
    "import sys, time"
   ]
  },
  {
   "cell_type": "code",
   "execution_count": 2,
   "metadata": {
    "collapsed": true
   },
   "outputs": [],
   "source": [
    "molList = [\n",
    "    'CC', 'CCC', 'CCCC',\n",
    "    'C=C[CH2]', 'CC=C[CH2]', 'C=CC=C[CH2]', 'C=C[CH]C=CC',\n",
    "    'CC=N[O]', 'CCN=N=[N-]',\n",
    "    'c1ccccc1', 'c1ccccc1C', \n",
    "    'c1ccccc1[CH2]', 'c1ccccc1[C]=C', 'c1ccccc1[CH2]C', 'C1ccccc1[CH2]C=C',\n",
    "    'C1=CC=C(C=C1)C1C=CC=CC=1',\n",
    "    'C1=CC=C2C=CC=CC2=C1',\n",
    "    'C1=CC2=CC=CC3C=CC(=C1)C=32',\n",
    "    'C1=CC=C2C=C3C=CC=CC3=CC2=C1',\n",
    "    'C1=CC=C2C(C=CC3=CC=CC=C32)=C1',\n",
    "    'C1=CC2=CC=CC3CC=CC(=C1)C=32',\n",
    "    'C1=CC=C2C=C3C=C4C=CC=CC4=CC3=CC2=C1',\n",
    "    'C1=CC=C2C(C=CC3C2=CC=C2C=CC=CC=32)=C1',\n",
    "    'C1=CC=C2C(=C1)C1=CC=CC=C1C1=CC=CC=C21',\n",
    "    'C1=CC2=CC=C3C=CC=C4C=CC(=C1)C2=C43',\n",
    "    'C1=CC=C2C=C3C(C=CC4=CC=CC=C43)=CC2=C1',\n",
    "    'C1=CC=C2C=C3C=C4C=C5C=CC=CC5=CC4=CC3=CC2=C1',\n",
    "    'C1=CC=C2C(=C1)C=C1C=CC3=CC=CC4=CC=C2C1=C34',\n",
    "    'C1=CC2=CC=C3C=CC4=C5C6=C(C2=C35)C1=CC=C6C=C4',\n",
    "    'C1=CC2=CC=CC3C4=CC=CC5=CC=CC(C(=C1)C=32)=C54',\n",
    "    'C1=CC2=CC=C3C=C4C=CC=C5C=CC6=CC(=C1)C2=C3C6=C54',\n",
    "    'C1=CC2=CC=C3C=CC4=CC=C5C=CC=C6C(=C1)C2=C3C4=C56',\n",
    "    'C1=CC=C2C(=C1)C=C1C3=CC=CC=C3C3=CC=CC4=CC=C2C1=C43',\n",
    "    'C1=CC2=CC=C3C=CC4=CC=C5C=CC6=CC=C1C1=C2C3=C4C5=C61',\n",
    "    'C1=CC2=CC=C3C=C4C=CC5=CC=C6C=CC7=CC8=CC=C1C1=C2C3=C2C4=C5C6=C7C2=C81',\n",
    "]"
   ]
  },
  {
   "cell_type": "code",
   "execution_count": 6,
   "metadata": {
    "collapsed": false
   },
   "outputs": [],
   "source": [
    "times = []\n",
    "output = []\n",
    "\n",
    "for mol in molList:\n",
    "    molecule = Molecule().fromSMILES(mol)\n",
    "    try:\n",
    "        t0 = time.time()\n",
    "        newmol = generateResonanceIsomers(molecule)\n",
    "        t1 = time.time()\n",
    "        output.append(newmol)\n",
    "    except:\n",
    "        output.append(sys.exc_info()[0])\n",
    "    times.append(t1 - t0)"
   ]
  },
  {
   "cell_type": "code",
   "execution_count": 8,
   "metadata": {
    "collapsed": false
   },
   "outputs": [
    {
     "data": {
      "text/plain": [
       "[4.601478576660156e-05,\n",
       " 6.580352783203125e-05,\n",
       " 0.00010895729064941406,\n",
       " 0.0001270771026611328,\n",
       " 0.0002028942108154297,\n",
       " 0.00028896331787109375,\n",
       " 0.0005810260772705078,\n",
       " 0.000431060791015625,\n",
       " 0.0008540153503417969,\n",
       " 0.002064943313598633,\n",
       " 0.008332967758178711,\n",
       " 0.005709171295166016,\n",
       " 0.003459930419921875,\n",
       " 0.002560138702392578,\n",
       " 0.0004258155822753906,\n",
       " 0.008855104446411133,\n",
       " 0.014139175415039062,\n",
       " 0.021773099899291992,\n",
       " 0.0506129264831543,\n",
       " 0.015900135040283203,\n",
       " 0.03183913230895996,\n",
       " 0.08140301704406738,\n",
       " 0.07033681869506836,\n",
       " 0.035370826721191406,\n",
       " 0.023784160614013672,\n",
       " 0.05853700637817383,\n",
       " 0.18824100494384766,\n",
       " 0.11703801155090332,\n",
       " 0.06964993476867676,\n",
       " 0.06656002998352051,\n",
       " 0.09360218048095703,\n",
       " 0.04426693916320801,\n",
       " 0.17876005172729492,\n",
       " 0.07108187675476074,\n",
       " 0.4984438419342041]"
      ]
     },
     "execution_count": 8,
     "metadata": {},
     "output_type": "execute_result"
    }
   ],
   "source": [
    "times"
   ]
  },
  {
   "cell_type": "code",
   "execution_count": 10,
   "metadata": {
    "collapsed": false
   },
   "outputs": [
    {
     "name": "stdout",
     "output_type": "stream",
     "text": [
      "0.0504415443965 1.76545405388\n"
     ]
    }
   ],
   "source": [
    "import numpy as np\n",
    "print np.mean(times), np.sum(times)"
   ]
  },
  {
   "cell_type": "code",
   "execution_count": null,
   "metadata": {
    "collapsed": true
   },
   "outputs": [],
   "source": []
  }
 ],
 "metadata": {
  "kernelspec": {
   "display_name": "Python [default]",
   "language": "python",
   "name": "python2"
  },
  "language_info": {
   "codemirror_mode": {
    "name": "ipython",
    "version": 2
   },
   "file_extension": ".py",
   "mimetype": "text/x-python",
   "name": "python",
   "nbconvert_exporter": "python",
   "pygments_lexer": "ipython2",
   "version": "2.7.12"
  }
 },
 "nbformat": 4,
 "nbformat_minor": 0
}
