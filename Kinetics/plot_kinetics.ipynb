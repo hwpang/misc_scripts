{
 "cells": [
  {
   "cell_type": "code",
   "execution_count": null,
   "metadata": {},
   "outputs": [],
   "source": [
    "%matplotlib inline\n",
    "import matplotlib as mpl\n",
    "import matplotlib.pyplot as plt\n",
    "import numpy as np\n",
    "\n",
    "from rmgpy.kinetics import *"
   ]
  },
  {
   "cell_type": "code",
   "execution_count": null,
   "metadata": {},
   "outputs": [],
   "source": [
    "# Set global plot styles\n",
    "plt.style.use('seaborn-paper')\n",
    "plt.rcParams['axes.labelsize'] = 16\n",
    "plt.rcParams['xtick.labelsize'] = 12\n",
    "plt.rcParams['ytick.labelsize'] = 12"
   ]
  },
  {
   "cell_type": "code",
   "execution_count": null,
   "metadata": {},
   "outputs": [],
   "source": [
    "# Set temperature range and pressure\n",
    "pressure = 1e5 # Pa\n",
    "temperature = np.linspace(298, 2000, 50)"
   ]
  },
  {
   "cell_type": "code",
   "execution_count": null,
   "metadata": {},
   "outputs": [],
   "source": [
    "def plot_kinetics(kinetics, kunits, labels=None, styles=None, colors=None, filename=None):\n",
    "    # Set colormap here if desired\n",
    "    colormap = mpl.cm.Set1\n",
    "    if colors is None:\n",
    "        colors = range(len(kinetics))\n",
    "    if styles is None:\n",
    "        styles = ['-'] * len(kinetics)\n",
    "\n",
    "    fig = plt.figure()\n",
    "\n",
    "    for i, rate in enumerate(kinetics):\n",
    "        # Evaluate kinetics\n",
    "        k = []\n",
    "        for t in temperature:\n",
    "            # Rates are returned in SI units by default\n",
    "            # This hardcodes a conversion to cm\n",
    "            if kunits == 'cm^3/(mol*s)':\n",
    "                k.append(1e6 * rate.getRateCoefficient(t, pressure))\n",
    "            else:\n",
    "                k.append(rate.getRateCoefficient(t, pressure))\n",
    "\n",
    "        x = 1000 / temperature\n",
    "\n",
    "        plt.semilogy(x, k, styles[i], c=colormap(colors[i]))\n",
    "\n",
    "    plt.xlabel('1000/T (K)')\n",
    "    plt.ylabel('k [{0}]'.format(kunits))\n",
    "    if labels:\n",
    "        plt.legend(labels, fontsize=12, loc=8, bbox_to_anchor=(0.5, 1.02))\n",
    "    \n",
    "    if filename is not None:\n",
    "        plt.savefig(filename, bbox_inches=\"tight\", dpi=300)"
   ]
  },
  {
   "cell_type": "code",
   "execution_count": null,
   "metadata": {},
   "outputs": [],
   "source": [
    "kunits = 'cm^3/(mol*s)'\n",
    "\n",
    "# List of RMG kinetics objects\n",
    "# Entries from RMG-database can be copied as is\n",
    "# Can be any RMG kinetics type, not just Arrhenius\n",
    "kinetics = [\n",
    "    Arrhenius(\n",
    "        A = (261.959, 'cm^3/(mol*s)'),\n",
    "        n = 2.67861,\n",
    "        Ea = (148.685, 'kJ/mol'),\n",
    "        T0 = (1, 'K'),\n",
    "        Tmin = (303.03, 'K'),\n",
    "        Tmax = (2500, 'K'),\n",
    "        comment = 'Fitted to 59 data points; dA = *|/ 1.00756, dn = +|- 0.000987877, dEa = +|- 0.00543432 kJ/mol',\n",
    "    ),\n",
    "    Arrhenius(\n",
    "        A = (286.364, 'cm^3/(mol*s)'),\n",
    "        n = 2.61958,\n",
    "        Ea = (116.666, 'kJ/mol'),\n",
    "        T0 = (1, 'K'),\n",
    "        Tmin = (303.03, 'K'),\n",
    "        Tmax = (2500, 'K'),\n",
    "        comment = 'Fitted to 59 data points; dA = *|/ 1.01712, dn = +|- 0.00222816, dEa = +|- 0.0122571 kJ/mol',\n",
    "    ),\n",
    "    Arrhenius(\n",
    "        A = (232.129, 'cm^3/(mol*s)'),\n",
    "        n = 2.57899,\n",
    "        Ea = (86.4148, 'kJ/mol'),\n",
    "        T0 = (1, 'K'),\n",
    "        Tmin = (303.03, 'K'),\n",
    "        Tmax = (2500, 'K'),\n",
    "        comment = 'Fitted to 59 data points; dA = *|/ 1.02472, dn = +|- 0.00320486, dEa = +|- 0.0176299 kJ/mol',\n",
    "    ),\n",
    "]\n",
    "\n",
    "# Labels corresponding to each rate, can be empty list for no legend\n",
    "labels = [\n",
    "    'Rate A',\n",
    "    'Rate B',\n",
    "    'Rate C',\n",
    "]\n",
    "# Matplotlib style descriptors corresponding to each rate\n",
    "styles = ['-', '--', '-.']\n",
    "# Colormap indices corresponding to each rate\n",
    "colors = [0, 0, 1]\n",
    "\n",
    "plot_kinetics(kinetics, kunits, labels=labels, styles=styles, colors=colors)"
   ]
  },
  {
   "cell_type": "code",
   "execution_count": null,
   "metadata": {},
   "outputs": [],
   "source": []
  }
 ],
 "metadata": {
  "anaconda-cloud": {},
  "kernelspec": {
   "display_name": "Python 2",
   "language": "python",
   "name": "python2"
  },
  "language_info": {
   "codemirror_mode": {
    "name": "ipython",
    "version": 2
   },
   "file_extension": ".py",
   "mimetype": "text/x-python",
   "name": "python",
   "nbconvert_exporter": "python",
   "pygments_lexer": "ipython2",
   "version": "2.7.16"
  }
 },
 "nbformat": 4,
 "nbformat_minor": 1
}
