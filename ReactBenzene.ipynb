{
 "cells": [
  {
   "cell_type": "code",
   "execution_count": 1,
   "metadata": {
    "collapsed": false
   },
   "outputs": [],
   "source": [
    "import rmgpy\n",
    "from rmgpy.data.rmg import RMGDatabase\n",
    "from rmgpy.reaction import Reaction\n",
    "from rmgpy.molecule import Molecule, Bond, PeriodicSystem\n",
    "from rmgpy.molecule.resonance import *\n",
    "\n",
    "import numpy as np\n",
    "import time"
   ]
  },
  {
   "cell_type": "code",
   "execution_count": 2,
   "metadata": {
    "collapsed": false
   },
   "outputs": [],
   "source": [
    "databasePath = rmgpy.settings['database.directory']\n",
    "\n",
    "database = RMGDatabase()\n",
    "database.load(\n",
    "    path = databasePath,\n",
    "    thermoLibraries = [],\n",
    "    reactionLibraries = [],\n",
    "    seedMechanisms = [],\n",
    "    kineticsFamilies = ['R_Addition_MultipleBond'],\n",
    "    )"
   ]
  },
  {
   "cell_type": "code",
   "execution_count": 14,
   "metadata": {
    "collapsed": true
   },
   "outputs": [],
   "source": [
    "reactants = [\n",
    "    Molecule().fromAdjacencyList(\"\"\"1  C u0 p0 c0 {2,B} {6,B} {7,S}\n",
    "2  C u0 p0 c0 {1,B} {3,B} {8,S}\n",
    "3  C u0 p0 c0 {2,B} {4,B} {9,S}\n",
    "4  C u0 p0 c0 {3,B} {5,B} {10,S}\n",
    "5  C u0 p0 c0 {4,B} {6,B} {11,S}\n",
    "6  C u0 p0 c0 {1,B} {5,B} {12,S}\n",
    "7  H u0 p0 c0 {1,S}\n",
    "8  H u0 p0 c0 {2,S}\n",
    "9  H u0 p0 c0 {3,S}\n",
    "10 H u0 p0 c0 {4,S}\n",
    "11 H u0 p0 c0 {5,S}\n",
    "12 H u0 p0 c0 {6,S}\n",
    "\"\"\"), \n",
    "    Molecule(SMILES='[H]')\n",
    "]"
   ]
  },
  {
   "cell_type": "code",
   "execution_count": 15,
   "metadata": {
    "collapsed": false
   },
   "outputs": [],
   "source": [
    "rxns = database.kinetics.families['R_Addition_MultipleBond'].generateReactions(reactants)"
   ]
  },
  {
   "cell_type": "code",
   "execution_count": 18,
   "metadata": {
    "collapsed": false
   },
   "outputs": [
    {
     "data": {
      "text/plain": [
       "[Reaction(reactants=[Molecule(SMILES=\"c1ccccc1\"), Molecule(SMILES=\"[H]\")], products=[Molecule(SMILES=\"[CH]1C=CC=CC1\")], degeneracy=12, pairs=[[Molecule(SMILES=\"c1ccccc1\"), Molecule(SMILES=\"[CH]1C=CC=CC1\")], [Molecule(SMILES=\"[H]\"), Molecule(SMILES=\"[CH]1C=CC=CC1\")]])]"
      ]
     },
     "execution_count": 18,
     "metadata": {},
     "output_type": "execute_result"
    }
   ],
   "source": [
    "rxns"
   ]
  },
  {
   "cell_type": "code",
   "execution_count": 9,
   "metadata": {
    "collapsed": true
   },
   "outputs": [],
   "source": [
    "out = Molecule(SMILES='c1ccccc1').generateResonanceIsomers()"
   ]
  },
  {
   "cell_type": "code",
   "execution_count": 13,
   "metadata": {
    "collapsed": false
   },
   "outputs": [
    {
     "name": "stdout",
     "output_type": "stream",
     "text": [
      "1  C u0 p0 c0 {2,B} {6,B} {7,S}\n",
      "2  C u0 p0 c0 {1,B} {3,B} {8,S}\n",
      "3  C u0 p0 c0 {2,B} {4,B} {9,S}\n",
      "4  C u0 p0 c0 {3,B} {5,B} {10,S}\n",
      "5  C u0 p0 c0 {4,B} {6,B} {11,S}\n",
      "6  C u0 p0 c0 {1,B} {5,B} {12,S}\n",
      "7  H u0 p0 c0 {1,S}\n",
      "8  H u0 p0 c0 {2,S}\n",
      "9  H u0 p0 c0 {3,S}\n",
      "10 H u0 p0 c0 {4,S}\n",
      "11 H u0 p0 c0 {5,S}\n",
      "12 H u0 p0 c0 {6,S}\n",
      "\n"
     ]
    }
   ],
   "source": [
    "print out[0].toAdjacencyList()"
   ]
  },
  {
   "cell_type": "code",
   "execution_count": 9,
   "metadata": {
    "collapsed": false
   },
   "outputs": [
    {
     "name": "stdout",
     "output_type": "stream",
     "text": [
      "multiplicity 2\n",
      "1  C u0 p0 c0 {2,B-} {6,B} {7,S} {13,S}\n",
      "2  C u1 p0 c0 {1,B-} {3,B} {8,S}\n",
      "3  C u0 p0 c0 {2,B} {4,B} {9,S}\n",
      "4  C u0 p0 c0 {3,B} {5,B} {10,S}\n",
      "5  C u0 p0 c0 {4,B} {6,B} {11,S}\n",
      "6  C u0 p0 c0 {1,B} {5,B} {12,S}\n",
      "7  H u0 p0 c0 {1,S}\n",
      "8  H u0 p0 c0 {2,S}\n",
      "9  H u0 p0 c0 {3,S}\n",
      "10 H u0 p0 c0 {4,S}\n",
      "11 H u0 p0 c0 {5,S}\n",
      "12 H u0 p0 c0 {6,S}\n",
      "13 H u0 p0 c0 {1,S}\n",
      "\n",
      "0.000764846801758\n"
     ]
    },
    {
     "data": {
      "image/png": "[encoded data removed]",
      "text/plain": [
       "Molecule(SMILES=\"[CH]1C=CC=CC1\")"
      ]
     },
     "execution_count": 9,
     "metadata": {},
     "output_type": "execute_result"
    }
   ],
   "source": [
    "mol = Molecule().fromAdjacencyList(\"\"\"1  C u0 p0 c0 {2,B} {6,B} {7,S}\n",
    "2  C u0 p0 c0 {1,B} {3,B} {8,S}\n",
    "3  C u0 p0 c0 {2,B} {4,B} {9,S}\n",
    "4  C u0 p0 c0 {3,B} {5,B} {10,S}\n",
    "5  C u0 p0 c0 {4,B} {6,B} {11,S}\n",
    "6  C u0 p0 c0 {1,B} {5,B} {12,S}\n",
    "7  H u0 p0 c0 {1,S}\n",
    "8  H u0 p0 c0 {2,S}\n",
    "9  H u0 p0 c0 {3,S}\n",
    "10 H u0 p0 c0 {4,S}\n",
    "11 H u0 p0 c0 {5,S}\n",
    "12 H u0 p0 c0 {6,S}\n",
    "13 H u1 p0 c0\n",
    "\"\"\")\n",
    "mol.addBond(Bond(mol.atoms[0], mol.atoms[12], order='S'))\n",
    "bond = mol.getBond(mol.atoms[0], mol.atoms[1])\n",
    "bond.order = 'B-'\n",
    "mol.atoms[1].radicalElectrons = 1\n",
    "mol.atoms[12].radicalElectrons = 0\n",
    "print mol.toAdjacencyList()\n",
    "\n",
    "t0 = time.time()\n",
    "redistributeAromaticElectrons(mol)\n",
    "t1 = time.time()\n",
    "print t1 - t0\n",
    "\n",
    "mol"
   ]
  },
  {
   "cell_type": "code",
   "execution_count": 5,
   "metadata": {
    "collapsed": false
   },
   "outputs": [],
   "source": [
    "def redistributeAromaticElectrons(mol):\n",
    "    sssr = mol.getSmallestSetOfSmallestRings()\n",
    "    if sssr == []:\n",
    "        return\n",
    "    \n",
    "    rings = [ring for ring in sssr if len(ring) == 6]\n",
    "    \n",
    "    invalidRings = []\n",
    "    \n",
    "    for ring in rings:\n",
    "        endoBonds = set()\n",
    "        exoBonds = set()\n",
    "        valid = True\n",
    "        for atom1 in ring:\n",
    "            for atom2, bond in atom1.bonds.iteritems():\n",
    "                if atom2 in ring:\n",
    "                    endoBonds.add(bond)\n",
    "                    if bond.order == 'B+' or bond.order == 'B-':\n",
    "                        valid = False\n",
    "                else:\n",
    "                    exoBonds.add(bond)\n",
    "        if not valid:\n",
    "            invalidRings.append((ring, list(endoBonds), list(exoBonds)))\n",
    "    \n",
    "    bondOrders = {'S': 1, 'D': 2, 'T': 3, 'B': 1.5}\n",
    "    bondOrdersInv = {1: 'S', 2: 'D', 3: 'T'}\n",
    "    valences = PeriodicSystem.valences\n",
    "    \n",
    "    for ring, endo, exo in invalidRings:\n",
    "        a = []\n",
    "        b = []\n",
    "        for atom in ring:\n",
    "            a.append([1 if atom in [bond.atom1, bond.atom2] else 0 for bond in endo])\n",
    "            v = valences[atom.element.symbol]\n",
    "            for bond in atom.bonds.itervalues():\n",
    "                if bond in exo:\n",
    "                    v -= bondOrders[bond.order]\n",
    "            v -= atom.radicalElectrons\n",
    "            b.append(v)\n",
    "        for index, bond in enumerate(endo):\n",
    "            if bond.order == 'B-':\n",
    "                # Must become single bond\n",
    "                new_a = [0] * len(endo)\n",
    "                new_a[index] = 1\n",
    "                a.append(new_a)\n",
    "                b.append(1)\n",
    "            elif bond.order == 'B+':\n",
    "                # Must become double bond\n",
    "                new_a = [0] * len(endo)\n",
    "                new_a[index] = 1\n",
    "                a.append(new_a)\n",
    "                b.append(2)\n",
    "\n",
    "        a = np.array(a)\n",
    "        b = np.array(b)\n",
    "        \n",
    "        x = np.rint(np.dot(np.linalg.pinv(a), b)).tolist()\n",
    "        \n",
    "        for index, bond in enumerate(endo):\n",
    "            bond.order = bondOrdersInv[x[index]]\n"
   ]
  },
  {
   "cell_type": "code",
   "execution_count": 24,
   "metadata": {
    "collapsed": false
   },
   "outputs": [
    {
     "data": {
      "text/plain": [
       "array([2, 2, 3, 3, 3, 3])"
      ]
     },
     "execution_count": 24,
     "metadata": {},
     "output_type": "execute_result"
    }
   ],
   "source": [
    "valence - np.dot(b, y) - radicals"
   ]
  },
  {
   "cell_type": "code",
   "execution_count": 70,
   "metadata": {
    "collapsed": false
   },
   "outputs": [
    {
     "data": {
      "text/plain": [
       "array([[0, 1, 0, 0, 1, 0],\n",
       "       [0, 1, 1, 0, 0, 0],\n",
       "       [0, 0, 1, 1, 0, 0],\n",
       "       [0, 0, 0, 1, 0, 1],\n",
       "       [1, 0, 0, 0, 0, 1],\n",
       "       [1, 0, 0, 0, 1, 0]])"
      ]
     },
     "execution_count": 70,
     "metadata": {},
     "output_type": "execute_result"
    }
   ],
   "source": [
    "a"
   ]
  },
  {
   "cell_type": "code",
   "execution_count": 71,
   "metadata": {
    "collapsed": false
   },
   "outputs": [
    {
     "data": {
      "text/plain": [
       "array([2, 2, 3, 3, 3, 3])"
      ]
     },
     "execution_count": 71,
     "metadata": {},
     "output_type": "execute_result"
    }
   ],
   "source": [
    "b"
   ]
  },
  {
   "cell_type": "code",
   "execution_count": 69,
   "metadata": {
    "collapsed": false
   },
   "outputs": [
    {
     "data": {
      "text/plain": [
       "array([ 1.66666667,  0.66666667,  1.33333333,  1.66666667,  1.33333333,\n",
       "        1.33333333])"
      ]
     },
     "execution_count": 69,
     "metadata": {},
     "output_type": "execute_result"
    }
   ],
   "source": [
    "x"
   ]
  },
  {
   "cell_type": "code",
   "execution_count": 54,
   "metadata": {
    "collapsed": false
   },
   "outputs": [
    {
     "data": {
      "text/plain": [
       "array([ 2.,  1.,  1.,  2.,  1.,  1.])"
      ]
     },
     "execution_count": 54,
     "metadata": {},
     "output_type": "execute_result"
    }
   ],
   "source": [
    "np.dot(np.linalg.pinv(a), b)"
   ]
  },
  {
   "cell_type": "code",
   "execution_count": 70,
   "metadata": {
    "collapsed": false
   },
   "outputs": [],
   "source": [
    "u, s, v = np.linalg.svd(a)\n",
    "rank = (s > 1e-5*s[0]).sum()\n",
    "nullspace = v[rank:]/np.min(v[rank:])"
   ]
  },
  {
   "cell_type": "code",
   "execution_count": 57,
   "metadata": {
    "collapsed": false
   },
   "outputs": [
    {
     "data": {
      "text/plain": [
       "array([[-0., -0.,  1.,  1.,  0., -0.],\n",
       "       [ 0., -0.,  1., -0., -0.,  1.],\n",
       "       [ 0.,  1., -0., -0., -0.,  1.],\n",
       "       [ 1.,  1.,  0., -0., -0.,  0.],\n",
       "       [ 1., -0., -0.,  0.,  1.,  0.],\n",
       "       [-0., -0.,  0.,  1.,  1., -0.]])"
      ]
     },
     "execution_count": 57,
     "metadata": {},
     "output_type": "execute_result"
    }
   ],
   "source": [
    "np.round(np.dot(u, np.dot(np.diag(s), v)), 4)"
   ]
  },
  {
   "cell_type": "code",
   "execution_count": 67,
   "metadata": {
    "collapsed": false
   },
   "outputs": [
    {
     "data": {
      "text/plain": [
       "array([[ 1., -1., -1.,  1., -1.,  1.]])"
      ]
     },
     "execution_count": 67,
     "metadata": {},
     "output_type": "execute_result"
    }
   ],
   "source": [
    "v[rank:]/np.min(v[rank:])"
   ]
  },
  {
   "cell_type": "code",
   "execution_count": 76,
   "metadata": {
    "collapsed": false
   },
   "outputs": [
    {
     "data": {
      "text/plain": [
       "array([[ 1.,  2.,  1.,  1.,  2.,  1.]])"
      ]
     },
     "execution_count": 76,
     "metadata": {},
     "output_type": "execute_result"
    }
   ],
   "source": [
    "x - (1./3)*nullspace"
   ]
  },
  {
   "cell_type": "code",
   "execution_count": null,
   "metadata": {
    "collapsed": false
   },
   "outputs": [],
   "source": []
  },
  {
   "cell_type": "code",
   "execution_count": null,
   "metadata": {
    "collapsed": false
   },
   "outputs": [],
   "source": []
  },
  {
   "cell_type": "code",
   "execution_count": null,
   "metadata": {
    "collapsed": true
   },
   "outputs": [],
   "source": []
  }
 ],
 "metadata": {
  "anaconda-cloud": {},
  "kernelspec": {
   "display_name": "Python [conda env:rmg_env]",
   "language": "python",
   "name": "conda-env-rmg_env-py"
  },
  "language_info": {
   "codemirror_mode": {
    "name": "ipython",
    "version": 2
   },
   "file_extension": ".py",
   "mimetype": "text/x-python",
   "name": "python",
   "nbconvert_exporter": "python",
   "pygments_lexer": "ipython2",
   "version": "2.7.12"
  }
 },
 "nbformat": 4,
 "nbformat_minor": 1
}
