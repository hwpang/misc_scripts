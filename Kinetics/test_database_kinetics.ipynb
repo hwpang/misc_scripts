{
 "cells": [
  {
   "cell_type": "code",
   "execution_count": null,
   "metadata": {
    "collapsed": false
   },
   "outputs": [],
   "source": [
    "import os\n",
    "from IPython.display import display\n",
    "\n",
    "import rmgpy\n",
    "from rmgpy.data.rmg import RMGDatabase\n",
    "from rmgpy.reaction import Reaction\n",
    "from rmgpy.molecule.molecule import Molecule\n",
    "from rmgpy.species import Species\n",
    "from rmgpy.rmg.react import *"
   ]
  },
  {
   "cell_type": "code",
   "execution_count": null,
   "metadata": {
    "collapsed": false
   },
   "outputs": [],
   "source": [
    "databasePath = os.path.join(rmgpy.settings['test_data.directory'], 'testing_database')\n",
    "\n",
    "database = RMGDatabase()\n",
    "database.load(\n",
    "    path = databasePath,\n",
    "    thermoLibraries = ['primaryThermoLibrary'],\n",
    "    reactionLibraries = ['GRI-Mech3.0'],\n",
    "    seedMechanisms = [],\n",
    "    kineticsFamilies = 'default',\n",
    "    )\n",
    "\n",
    "for family in database.kinetics.families.itervalues():\n",
    "    family.addKineticsRulesFromTrainingSet(thermoDatabase=database.thermo)\n",
    "    family.fillKineticsRulesByAveragingUp(verbose=True)"
   ]
  },
  {
   "cell_type": "code",
   "execution_count": null,
   "metadata": {
    "collapsed": false
   },
   "outputs": [],
   "source": [
    "reactants = [\n",
    "    Species().fromSMILES('[OH]'),\n",
    "    Species().fromSMILES('O[CH2]'),\n",
    "]\n",
    "products = [\n",
    "    Species().fromSMILES('O'),\n",
    "    Species().fromSMILES('C=C'),\n",
    "]\n",
    "for r in reactants:\n",
    "    r.generateResonanceIsomers()\n",
    "for p in products:\n",
    "    p.generateResonanceIsomers()\n",
    "\n",
    "rxn = Reaction(reactants=reactants, products=products)"
   ]
  },
  {
   "cell_type": "code",
   "execution_count": null,
   "metadata": {
    "collapsed": false
   },
   "outputs": [],
   "source": [
    "result = reactSpecies(reactants)"
   ]
  },
  {
   "cell_type": "code",
   "execution_count": null,
   "metadata": {
    "collapsed": false
   },
   "outputs": [],
   "source": [
    "for res in result:\n",
    "    display(res)"
   ]
  },
  {
   "cell_type": "code",
   "execution_count": null,
   "metadata": {
    "collapsed": false
   },
   "outputs": [],
   "source": [
    "rxn0 = result[3]\n",
    "# for rxn in database.kinetics.libraries['GRI-Mech3.0'].getLibraryReactions():\n",
    "#     if rxn0.isIsomorphic(rxn):\n",
    "#         kinetics = rxn.kinetics\n",
    "#         break\n",
    "kinetics = database.kinetics.families[rxn0.family].getKinetics(rxn0, templateLabels=rxn0.template, degeneracy=rxn0.degeneracy, returnAllKinetics=False)"
   ]
  },
  {
   "cell_type": "code",
   "execution_count": null,
   "metadata": {
    "collapsed": false
   },
   "outputs": [],
   "source": [
    "kinetics"
   ]
  },
  {
   "cell_type": "code",
   "execution_count": null,
   "metadata": {
    "collapsed": false
   },
   "outputs": [],
   "source": [
    "print kinetics[0].comment"
   ]
  },
  {
   "cell_type": "code",
   "execution_count": null,
   "metadata": {
    "collapsed": true
   },
   "outputs": [],
   "source": []
  }
 ],
 "metadata": {
  "anaconda-cloud": {},
  "kernelspec": {
   "display_name": "Python [conda env:rmg_env]",
   "language": "python",
   "name": "conda-env-rmg_env-py"
  },
  "language_info": {
   "codemirror_mode": {
    "name": "ipython",
    "version": 2
   },
   "file_extension": ".py",
   "mimetype": "text/x-python",
   "name": "python",
   "nbconvert_exporter": "python",
   "pygments_lexer": "ipython2",
   "version": "2.7.12"
  }
 },
 "nbformat": 4,
 "nbformat_minor": 1
}
