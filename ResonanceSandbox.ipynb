{
 "cells": [
  {
   "cell_type": "code",
   "execution_count": 1,
   "metadata": {
    "collapsed": false
   },
   "outputs": [],
   "source": [
    "from rmgpy.molecule.molecule import Molecule\n",
    "from rmgpy.molecule.resonance import *\n",
    "\n",
    "import time"
   ]
  },
  {
   "cell_type": "code",
   "execution_count": 3,
   "metadata": {
    "collapsed": false
   },
   "outputs": [
    {
     "name": "stdout",
     "output_type": "stream",
     "text": [
      "0.289779901505 17\n"
     ]
    }
   ],
   "source": [
    "mol1 = Molecule(SMILES=\"C1=C([CH2])C2=CC=C3C=CC=C4C=CC(=C1)C2=C43\")\n",
    "\n",
    "t0 = time.time()\n",
    "out1 = generateResonanceIsomers(mol1)\n",
    "t1 = time.time()\n",
    "\n",
    "print t1 - t0, len(out1)"
   ]
  },
  {
   "cell_type": "code",
   "execution_count": 3,
   "metadata": {
    "collapsed": false
   },
   "outputs": [
    {
     "name": "stdout",
     "output_type": "stream",
     "text": [
      "multiplicity 2\n",
      "1  C u0 p0 c0 {2,D} {3,S} {6,S}\n",
      "2  C u0 p0 c0 {1,D} {4,S} {5,S}\n",
      "3  C u0 p0 c0 {1,S} {7,S} {9,D}\n",
      "4  C u0 p0 c0 {2,S} {10,D} {11,S}\n",
      "5  C u0 p0 c0 {2,S} {12,D} {13,S}\n",
      "6  C u0 p0 c0 {1,S} {14,S} {15,D}\n",
      "7  C u0 p0 c0 {3,S} {8,D} {17,S}\n",
      "8  C u0 p0 c0 {7,D} {15,S} {18,S}\n",
      "9  C u0 p0 c0 {3,D} {10,S} {19,S}\n",
      "10 C u0 p0 c0 {4,D} {9,S} {20,S}\n",
      "11 C u0 p0 c0 {4,S} {16,D} {21,S}\n",
      "12 C u0 p0 c0 {5,D} {16,S} {23,S}\n",
      "13 C u0 p0 c0 {5,S} {14,D} {24,S}\n",
      "14 C u0 p0 c0 {6,S} {13,D} {25,S}\n",
      "15 C u0 p0 c0 {6,D} {8,S} {26,S}\n",
      "16 C u0 p0 c0 {11,D} {12,S} {22,S}\n",
      "17 C u1 p0 c0 {7,S} {27,S} {28,S}\n",
      "18 H u0 p0 c0 {8,S}\n",
      "19 H u0 p0 c0 {9,S}\n",
      "20 H u0 p0 c0 {10,S}\n",
      "21 H u0 p0 c0 {11,S}\n",
      "22 H u0 p0 c0 {16,S}\n",
      "23 H u0 p0 c0 {12,S}\n",
      "24 H u0 p0 c0 {13,S}\n",
      "25 H u0 p0 c0 {14,S}\n",
      "26 H u0 p0 c0 {15,S}\n",
      "27 H u0 p0 c0 {17,S}\n",
      "28 H u0 p0 c0 {17,S}\n",
      "\n"
     ]
    },
    {
     "data": {
      "image/png": "[encoded data removed]",
      "text/plain": [
       "Molecule(SMILES=\"[CH2]C1=CC=C2C=CC3=CC=CC4=CC=C1C2=C34\")"
      ]
     },
     "execution_count": 3,
     "metadata": {},
     "output_type": "execute_result"
    }
   ],
   "source": [
    "n = 0\n",
    "print out1[n].toAdjacencyList()\n",
    "out1[n]"
   ]
  },
  {
   "cell_type": "code",
   "execution_count": 3,
   "metadata": {
    "collapsed": false
   },
   "outputs": [
    {
     "name": "stdout",
     "output_type": "stream",
     "text": [
      " 0.203773021698 26\n"
     ]
    }
   ],
   "source": [
    "mol2 = Molecule(SMILES=\"[CH2]C1=CC=CC2C3=CC=CC=C3C=CC=21\")\n",
    "\n",
    "t0 = time.time()\n",
    "out2 = generateResonanceIsomers(mol2)\n",
    "t1 = time.time()\n",
    "\n",
    "print t1 - t0, len(out2)"
   ]
  },
  {
   "cell_type": "code",
   "execution_count": 39,
   "metadata": {
    "collapsed": false
   },
   "outputs": [
    {
     "name": "stdout",
     "output_type": "stream",
     "text": [
      "multiplicity 2\n",
      "1  C u0 p0 c0 {2,S} {3,S} {7,D}\n",
      "2  C u0 p0 c0 {1,S} {4,S} {8,D}\n",
      "3  C u0 p0 c0 {1,S} {5,S} {11,D}\n",
      "4  C u0 p0 c0 {2,S} {9,S} {10,D}\n",
      "5  C u0 p0 c0 {3,S} {6,S} {15,D}\n",
      "6  C u0 p0 c0 {5,S} {12,D} {16,S}\n",
      "7  C u0 p0 c0 {1,D} {12,S} {17,S}\n",
      "8  C u0 p0 c0 {2,D} {13,S} {18,S}\n",
      "9  C u0 p0 c0 {4,S} {14,D} {19,S}\n",
      "10 C u0 p0 c0 {4,D} {11,S} {20,S}\n",
      "11 C u0 p0 c0 {3,D} {10,S} {21,S}\n",
      "12 C u0 p0 c0 {6,D} {7,S} {22,S}\n",
      "13 C u1 p0 c0 {8,S} {14,S} {23,S}\n",
      "14 C u0 p0 c0 {9,D} {13,S} {24,S}\n",
      "15 C u0 p0 c0 {5,D} {25,S} {26,S}\n",
      "16 H u0 p0 c0 {6,S}\n",
      "17 H u0 p0 c0 {7,S}\n",
      "18 H u0 p0 c0 {8,S}\n",
      "19 H u0 p0 c0 {9,S}\n",
      "20 H u0 p0 c0 {10,S}\n",
      "21 H u0 p0 c0 {11,S}\n",
      "22 H u0 p0 c0 {12,S}\n",
      "23 H u0 p0 c0 {13,S}\n",
      "24 H u0 p0 c0 {14,S}\n",
      "25 H u0 p0 c0 {15,S}\n",
      "26 H u0 p0 c0 {15,S}\n",
      "\n"
     ]
    },
    {
     "data": {
      "image/png": "[encoded data removed]",
      "text/plain": [
       "Molecule(SMILES=\"C=C1C=CC=C2C1=CC=C1C=C[CH]C=C12\")"
      ]
     },
     "execution_count": 39,
     "metadata": {},
     "output_type": "execute_result"
    }
   ],
   "source": [
    "n = 8\n",
    "print out2[n].toAdjacencyList()\n",
    "out2[n]"
   ]
  },
  {
   "cell_type": "code",
   "execution_count": 26,
   "metadata": {
    "collapsed": false
   },
   "outputs": [
    {
     "data": {
      "text/plain": [
       "[Molecule(SMILES=\"[CH2]C1=CC=CC2C3=CC=CC=C3C=CC=21\"),\n",
       " Molecule(SMILES=\"C=C1[CH]C=CC2C3=CC=CC=C3C=CC=21\"),\n",
       " Molecule(SMILES=\"C=C1C=C[CH]C2C3=CC=CC=C3C=CC=21\"),\n",
       " Molecule(SMILES=\"C=C1C=CC=C2[C]1C=CC1=CC=CC=C12\"),\n",
       " Molecule(SMILES=\"[CH2]C1C=CC=C2C3=CC=CC=C3C=CC=12\"),\n",
       " Molecule(SMILES=\"C=C1C=CC=C2C1=C[CH]C1=CC=CC=C12\"),\n",
       " Molecule(SMILES=\"C=C1C=CC=C2C1=CC=C1[CH]C=CC=C12\"),\n",
       " Molecule(SMILES=\"C=C1C=CC=C2C1=CC=C1C=C[CH]C=C12\"),\n",
       " Molecule(SMILES=\"C=C1C=CC=C2[C]3C=CC=CC3=CC=C12\"),\n",
       " Molecule(SMILES=\"C=C1C=C[CH]C2C1=CC=C1C=CC=CC=21\"),\n",
       " Molecule(SMILES=\"C=C1C=CC=C2C1=C[CH]C1C=CC=CC=12\"),\n",
       " Molecule(SMILES=\"C=C1[CH]C=CC2C1=CC=C1C=CC=CC=21\"),\n",
       " Molecule(SMILES=\"C=C1C=CC=C2[C]1C=CC1C=CC=CC=12\"),\n",
       " Molecule(SMILES=\"[CH2]C1=CC=CC2C1=CC=C1C=CC=CC=21\"),\n",
       " Molecule(SMILES=\"[CH2]C1C=CC=C2C=1C=CC1C=CC=CC=12\"),\n",
       " Molecule(SMILES=\"C=C1C=C[CH]C2C3C=CC=CC=3C=CC=21\"),\n",
       " Molecule(SMILES=\"C=C1[CH]C=CC2C3C=CC=CC=3C=CC=21\"),\n",
       " Molecule(SMILES=\"[CH2]C1=CC=CC2C3C=CC=CC=3C=CC=21\")]"
      ]
     },
     "execution_count": 26,
     "metadata": {},
     "output_type": "execute_result"
    }
   ],
   "source": [
    "from rmgpy.molecule.resonance import __generateResonanceStructures\n",
    "__generateResonanceStructures([mol2],[generateAdjacentResonanceIsomers])"
   ]
  },
  {
   "cell_type": "code",
   "execution_count": 2,
   "metadata": {
    "collapsed": false
   },
   "outputs": [],
   "source": [
    "mol3 = Molecule(SMILES=\"[CH](c1ccccc1)c1ccc(C)cc1\")"
   ]
  },
  {
   "cell_type": "code",
   "execution_count": 3,
   "metadata": {
    "collapsed": false
   },
   "outputs": [
    {
     "data": {
      "image/png": "[encoded data removed]",
      "text/plain": [
       "Molecule(SMILES=\"CC1C=CC([CH]C2C=CC=CC=2)=CC=1\")"
      ]
     },
     "execution_count": 3,
     "metadata": {},
     "output_type": "execute_result"
    }
   ],
   "source": [
    "mol3"
   ]
  },
  {
   "cell_type": "code",
   "execution_count": 4,
   "metadata": {
    "collapsed": false
   },
   "outputs": [
    {
     "data": {
      "text/plain": [
       "{'hasLonePairs': False,\n",
       " 'hasNitrogen': False,\n",
       " 'hasOxygen': False,\n",
       " 'isAromatic': True,\n",
       " 'isArylRadical': False,\n",
       " 'isCyclic': True,\n",
       " 'isPolycyclicAromatic': True,\n",
       " 'isRadical': True}"
      ]
     },
     "execution_count": 4,
     "metadata": {},
     "output_type": "execute_result"
    }
   ],
   "source": [
    "analyzeMolecule(mol3)"
   ]
  },
  {
   "cell_type": "code",
   "execution_count": 4,
   "metadata": {
    "collapsed": false
   },
   "outputs": [],
   "source": [
    "out3 = generateResonanceIsomers(mol3)"
   ]
  },
  {
   "cell_type": "code",
   "execution_count": 11,
   "metadata": {
    "collapsed": false
   },
   "outputs": [
    {
     "data": {
      "image/png": "[encoded data removed]",
      "text/plain": [
       "Molecule(SMILES=\"C[C]1C=CC(C=C1)=Cc1ccccc1\")"
      ]
     },
     "execution_count": 11,
     "metadata": {},
     "output_type": "execute_result"
    }
   ],
   "source": [
    "out3[6]"
   ]
  },
  {
   "cell_type": "code",
   "execution_count": 4,
   "metadata": {
    "collapsed": false
   },
   "outputs": [],
   "source": [
    "SSSR = mol3.getAromaticSSSR()\n",
    "\n",
    "atoms = set()\n",
    "for ring in SSSR:\n",
    "    atoms.update(ring)\n",
    "atoms = list(atoms)\n",
    "\n",
    "bonds = set()\n",
    "for atom in atoms:\n",
    "    bonds.update([atom.bonds[key] for key in atom.bonds.keys() if key.isNonHydrogen()])\n",
    "bonds = list(bonds)"
   ]
  },
  {
   "cell_type": "code",
   "execution_count": 5,
   "metadata": {
    "collapsed": false
   },
   "outputs": [
    {
     "data": {
      "text/plain": [
       "[<Atom 'C'>, <Atom 'C'>, <Atom 'C'>, <Atom 'C'>, <Atom 'C'>, <Atom 'C'>]"
      ]
     },
     "execution_count": 5,
     "metadata": {},
     "output_type": "execute_result"
    }
   ],
   "source": [
    "atoms"
   ]
  },
  {
   "cell_type": "code",
   "execution_count": 6,
   "metadata": {
    "collapsed": false
   },
   "outputs": [
    {
     "data": {
      "text/plain": [
       "[<Bond \"D\">,\n",
       " <Bond \"D\">,\n",
       " <Bond \"S\">,\n",
       " <Bond \"D\">,\n",
       " <Bond \"D\">,\n",
       " <Bond \"S\">,\n",
       " <Bond \"S\">,\n",
       " <Bond \"S\">]"
      ]
     },
     "execution_count": 6,
     "metadata": {},
     "output_type": "execute_result"
    }
   ],
   "source": [
    "bonds"
   ]
  },
  {
   "cell_type": "code",
   "execution_count": 7,
   "metadata": {
    "collapsed": false
   },
   "outputs": [
    {
     "name": "stdout",
     "output_type": "stream",
     "text": [
      "[1, 0, 0, 1, 0, 1, 0, 0, 0, 1, 1, 0, 1, 0, 0, 0, 0, 0, 1, 0, 1, 0, 0, 0, 1, 1, 0, 1, 1, 0, 0, 0, 0, 0, 0, 1, 1, 0, 0, 0, 0, 1, 1, 0, 0, 1, 0, 0, 0, 1, 0, 0, 1, 1]\n"
     ]
    }
   ],
   "source": [
    "a = []\n",
    "for atom in atoms:\n",
    "    inRing = [1 if atom in ring else 0 for ring in SSSR]\n",
    "    inBond = [1 if atom in [bond.atom1, bond.atom2] else 0 for bond in bonds]\n",
    "    a += (inRing + inBond) # Intentionally created as 1D list\n",
    "print a"
   ]
  },
  {
   "cell_type": "code",
   "execution_count": 10,
   "metadata": {
    "collapsed": false
   },
   "outputs": [
    {
     "data": {
      "text/plain": [
       "0"
      ]
     },
     "execution_count": 10,
     "metadata": {},
     "output_type": "execute_result"
    }
   ],
   "source": [
    "len([])"
   ]
  },
  {
   "cell_type": "code",
   "execution_count": 2,
   "metadata": {
    "collapsed": true
   },
   "outputs": [],
   "source": [
    "molList = generateResonanceIsomers(Molecule(SMILES=\"c1ccccc1[C]=C\"))"
   ]
  },
  {
   "cell_type": "code",
   "execution_count": 2,
   "metadata": {
    "collapsed": false
   },
   "outputs": [],
   "source": [
    "molList = generateResonanceIsomers(Molecule(SMILES=\"c12[c]cccc1cccc2\"))"
   ]
  },
  {
   "cell_type": "code",
   "execution_count": 10,
   "metadata": {
    "collapsed": false
   },
   "outputs": [
    {
     "data": {
      "text/plain": [
       "[Molecule(SMILES=\"[c]1cccc2ccccc12\"),\n",
       " Molecule(SMILES=\"[c]1cccc2C=CC=Cc12\"),\n",
       " Molecule(SMILES=\"[C]1=CC=Cc2ccccc21\")]"
      ]
     },
     "execution_count": 10,
     "metadata": {},
     "output_type": "execute_result"
    }
   ],
   "source": [
    "generateResonanceIsomers(Molecule().fromAdjacencyList(molList[1].toAdjacencyList()))"
   ]
  },
  {
   "cell_type": "code",
   "execution_count": 1,
   "metadata": {
    "collapsed": false
   },
   "outputs": [
    {
     "name": "stdout",
     "output_type": "stream",
     "text": [
      "testClarTransformation (rmgpy.molecule.resonanceTest.ClarTest)\n",
      "Test that clarTransformation generates an aromatic ring. ... ok\n",
      "testCorannulene (rmgpy.molecule.resonanceTest.ClarTest)\n",
      "Test that we generate 5 Clar structures for corannulene ... ok\n",
      "testPhenalene (rmgpy.molecule.resonanceTest.ClarTest)\n",
      "Test that we generate 2 Clar structures for phenalene. ... ok\n",
      "testPhenanthrene (rmgpy.molecule.resonanceTest.ClarTest)\n",
      "Test that we generate 1 Clar structure for phenanthrene. ... ok\n",
      "testAllylShift (rmgpy.molecule.resonanceTest.ResonanceTest)\n",
      "Test allyl shift for hexadienyl radical ... ok\n",
      "testAzide (rmgpy.molecule.resonanceTest.ResonanceTest)\n",
      "Test resonance structure generation for ethyl azide ... ok\n",
      "testFusedAromatic1 (rmgpy.molecule.resonanceTest.ResonanceTest)\n",
      "Test we can make aromatic perylene from both adjlist and SMILES ... ok\n",
      "testFusedAromatic2 (rmgpy.molecule.resonanceTest.ResonanceTest)\n",
      "Test we can make aromatic naphthalene from both adjlist and SMILES ... ok\n",
      "testFusedAromatic3 (rmgpy.molecule.resonanceTest.ResonanceTest)\n",
      "Test we can make aromatic pyrene_rad from both adjlist and SMILES ... skipped 'WIP test failed: Unable to determine atom type for atom C, which has 2 double bonds to C, 0 double bonds to O, 0 double bonds to S, 0 triple bonds, and 0 benzene bonds.'\n",
      "testKekulizeResonanceIsomer (rmgpy.molecule.resonanceTest.ResonanceTest) ... ok\n",
      "testKekulizedResonanceIsomersFused (rmgpy.molecule.resonanceTest.ResonanceTest)\n",
      "Test we can make aromatic and Kekulized resonance isomers of 2-methylanthracen-1-ol ... skipped 'WIP test failed: Expected a resonance form Molecule(SMILES=\"CC1C=CC2=CC3=CC=CC=C3C=C2C=1O\") that was not generated.\\nOnly generated these:\\nMolecule(SMILES=\"CC1=CC=C2C=C3C=CC=CC3=CC2=C1O\")\\nMolecule(SMILES=\"Cc1ccc2cc3ccccc3cc2c1O\")\\nMolecule(SMILES=\"Cc1ccc2C=C3C=CC=CC3=Cc2c1O\")\\nMolecule(SMILES=\"C=C1C=CC2=Cc3ccccc3C=C2C1=O\")\\nMolecule(SMILES=\"C=C1C=Cc2cc3C=CC=Cc3cc2C1=O\")\\nMolecule(SMILES=\"CC1C=CC2=CC3C=CC=CC=3C=C2C=1O\")\\nMolecule(SMILES=\"CC1C=CC2C=C3C=CC=CC3=CC=2C=1O\")'\n",
      "testMultipleKekulizedResonanceIsomers (rmgpy.molecule.resonanceTest.ResonanceTest)\n",
      "Test we can make both Kekulized resonance isomers of 2-Hydroxy-1-methylbenzene ... skipped \"WIP test failed: Didn't generate 3 resonance isomers\"\n",
      "testNaphthyl (rmgpy.molecule.resonanceTest.ResonanceTest)\n",
      "Test resonance structure generation for naphthyl radical ... skipped 'WIP test failed: 3 != 1'\n",
      "testOxime (rmgpy.molecule.resonanceTest.ResonanceTest)\n",
      "Test resonance structure generation for CC=N[O] radical ... ok\n",
      "testStyryl (rmgpy.molecule.resonanceTest.ResonanceTest)\n",
      "Test resonance structure generation for styryl radical ... ok\n",
      "test_Benzene_aro (rmgpy.molecule.resonanceTest.ResonanceTest)\n",
      "Test benzene, aromatic SMILES ... ok\n",
      "test_Benzene_kek (rmgpy.molecule.resonanceTest.ResonanceTest)\n",
      "Test benzene, kekulized SMILES ... ok\n",
      "test_C10H11_aro (rmgpy.molecule.resonanceTest.ResonanceTest)\n",
      "Test cyclobutylbenzene radical, aromatic SMILES ... ok\n",
      "test_C10H12_aro (rmgpy.molecule.resonanceTest.ResonanceTest)\n",
      "Test cyclopropylmethyl benzene, aromatic SMILES ... ok\n",
      "test_C9H10_aro (rmgpy.molecule.resonanceTest.ResonanceTest)\n",
      "Test cyclopropylbenzene, aromatic SMILES ... ok\n",
      "test_C9H10_aro_2 (rmgpy.molecule.resonanceTest.ResonanceTest)\n",
      "Test cyclopropyl benzene, generate aromatic resonance isomers ... ok\n",
      "test_C9H11_aro (rmgpy.molecule.resonanceTest.ResonanceTest)\n",
      "Test propylbenzene radical, aromatic SMILES ... ok\n",
      "test_C9H9_aro (rmgpy.molecule.resonanceTest.ResonanceTest)\n",
      "Test cyclopropyl benzene radical, aromatic SMILES ... ok\n",
      "test_C9H9_kek (rmgpy.molecule.resonanceTest.ResonanceTest)\n",
      "Test cyclopropyl benzene radical, kekulized SMILES ... ok\n",
      "\n",
      "----------------------------------------------------------------------\n",
      "Ran 24 tests in 0.448s\n",
      "\n",
      "OK (skipped=4)\n"
     ]
    },
    {
     "data": {
      "text/plain": [
       "<unittest.runner.TextTestResult run=24 errors=0 failures=0>"
      ]
     },
     "execution_count": 1,
     "metadata": {},
     "output_type": "execute_result"
    }
   ],
   "source": [
    "from unittest import *\n",
    "import sys\n",
    "import rmgpy.molecule.resonanceTest\n",
    "tests = TestLoader().loadTestsFromModule(rmgpy.molecule.resonanceTest)\n",
    "TextTestRunner(verbosity=2, stream=sys.stdout).run(tests)"
   ]
  },
  {
   "cell_type": "code",
   "execution_count": null,
   "metadata": {
    "collapsed": true
   },
   "outputs": [],
   "source": []
  }
 ],
 "metadata": {
  "anaconda-cloud": {},
  "kernelspec": {
   "display_name": "Python [conda env:rmg_env]",
   "language": "python",
   "name": "conda-env-rmg_env-py"
  },
  "language_info": {
   "codemirror_mode": {
    "name": "ipython",
    "version": 2
   },
   "file_extension": ".py",
   "mimetype": "text/x-python",
   "name": "python",
   "nbconvert_exporter": "python",
   "pygments_lexer": "ipython2",
   "version": "2.7.12"
  }
 },
 "nbformat": 4,
 "nbformat_minor": 1
}
