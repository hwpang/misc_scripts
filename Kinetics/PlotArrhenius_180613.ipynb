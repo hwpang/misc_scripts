{
 "cells": [
  {
   "cell_type": "code",
   "execution_count": null,
   "metadata": {},
   "outputs": [],
   "source": [
    "%matplotlib inline\n",
    "import matplotlib as mpl\n",
    "import matplotlib.pyplot as plt\n",
    "import numpy as np\n",
    "\n",
    "from rmgpy.kinetics.arrhenius import Arrhenius"
   ]
  },
  {
   "cell_type": "code",
   "execution_count": null,
   "metadata": {},
   "outputs": [],
   "source": [
    "kunits = 'cm^3/(mol*s)'\n",
    "\n",
    "kinetics = [\n",
    "    Arrhenius(A=(135.117,'cm^3/(mol*s)'), n=3.12105, Ea=(18.9195,'kJ/mol'), T0=(1,'K')),\n",
    "    Arrhenius(A=(0.002572,'m^3/(mol*s)'), n=2.8, Ea=(35.9824,'kJ/mol'), T0=(1,'K')),\n",
    "    Arrhenius(A=(0.24316,'m^3/(mol*s)'), n=1.88825, Ea=(38.3506,'kJ/mol'), T0=(1,'K')),\n",
    "    Arrhenius(A=(21.7459,'m^3/(mol*s)'), n=1.28863, Ea=(15.1011,'kJ/mol'), T0=(1,'K')),\n",
    "    Arrhenius(A=(183858,'m^3/(mol*s)'), n=-0.222744, Ea=(-5.78017,'kJ/mol'), T0=(1,'K'), Tmin=(303.03,'K'), Tmax=(2000,'K')),\n",
    "    Arrhenius(A=(0.002572,'m^3/(mol*s)'), n=2.8, Ea=(35.9824,'kJ/mol'), T0=(1,'K')),\n",
    "    Arrhenius(A=(18240,'cm^3/(mol*s)'), n=2.41, Ea=(-3.26352,'kJ/mol'), T0=(1,'K'), Tmin=(300,'K'), Tmax=(1500,'K')),\n",
    "    Arrhenius(A=(21.7459,'m^3/(mol*s)'), n=1.28863, Ea=(15.1011,'kJ/mol'), T0=(1,'K')),\n",
    "    Arrhenius(A=(0.00841114,'m^3/(mol*s)'), n=2.41, Ea=(6.25508,'kJ/mol'), T0=(1,'K')),\n",
    "    Arrhenius(A=(111400,'cm^3/(mol*s)'), n=2.41, Ea=(-14.9787,'kJ/mol'), T0=(1,'K'), Tmin=(300,'K'), Tmax=(1500,'K')),\n",
    "    Arrhenius(A=(32200,'cm^3/(mol*s)'), n=2.41, Ea=(-9.45584,'kJ/mol'), T0=(1,'K'), Tmin=(300,'K'), Tmax=(1500,'K')),\n",
    "    Arrhenius(A=(0.0513852,'m^3/(mol*s)'), n=2.41, Ea=(-5.41828,'kJ/mol'), T0=(1,'K')),\n",
    "    Arrhenius(A=(0.0148569,'m^3/(mol*s)'), n=2.41, Ea=(0.1046,'kJ/mol'), T0=(1,'K')),\n",
    "]\n",
    "\n",
    "labels = ['B3LYP/6-311+g(d,p)'] + ['RMG - ' + str(i+1) for i in range(12)]\n",
    "\n",
    "style = ['-'] + ['--'] * 12"
   ]
  },
  {
   "cell_type": "code",
   "execution_count": null,
   "metadata": {},
   "outputs": [],
   "source": [
    "kunits = 'cm^3/(mol*s)'\n",
    "\n",
    "kinetics = [\n",
    "    Arrhenius(A=(2e+12,'cm^3/(mol*s)'), n=0, Ea=(4.3,'kcal/mol'), T0=(1,'K')),\n",
    "    Arrhenius(A=(3.981e+11,'cm^3/(mol*s)'), n=0, Ea=(4,'kcal/mol'), T0=(1,'K')),\n",
    "    Arrhenius(A=(9.5499e+11,'cm^3/(mol*s)'), n=0, Ea=(4.308,'kcal/mol'), T0=(1,'K')),\n",
    "    Arrhenius(A=(446.77,'cm^3/(mol*s)'), n=3.12591, Ea=(18.3967,'kJ/mol'), T0=(1,'K')),\n",
    "    Arrhenius(A=(347.73,'cm^3/(mol*s)'), n=3.13236, Ea=(6.99686,'kJ/mol'), T0=(1,'K')),\n",
    "    Arrhenius(A=(0.364739,'m^3/(mol*s)'), n=1.88825, Ea=(38.3506,'kJ/mol'), T0=(1,'K')),\n",
    "]\n",
    "\n",
    "labels = [\n",
    "    'Ritter et al.',\n",
    "    'Fahr & Stein',\n",
    "    'Park et al.',\n",
    "    'uCCSD(T)/cc-pVDZ (Comandini)',\n",
    "    'CBS-QB3',\n",
    "    'RMG',\n",
    "]\n",
    "\n",
    "style = ['-'] * 6"
   ]
  },
  {
   "cell_type": "code",
   "execution_count": null,
   "metadata": {},
   "outputs": [],
   "source": [
    "kunits = 'cm^3/(mol*s)'\n",
    "\n",
    "kinetics = [\n",
    "#     Arrhenius(A=(446.77,'cm^3/(mol*s)'), n=3.12591, Ea=(18.3967,'kJ/mol'), T0=(1,'K')),\n",
    "    Arrhenius(A=(514.228,'cm^3/(mol*s)'), n=3.12328, Ea=(26.3572,'kJ/mol'), T0=(1,'K')),\n",
    "    Arrhenius(A=(135.117,'cm^3/(mol*s)'), n=3.12105, Ea=(18.9195,'kJ/mol'), T0=(1,'K')),\n",
    "]\n",
    "\n",
    "labels = [\n",
    "#     'Benzene, uCCSD(T)/cc-pVDZ',\n",
    "    'Benzene, uB3LYP/6-311+G(d,p)',\n",
    "    'Naphthalene, uB3LYP/6-311+G(d,p)'\n",
    "]\n",
    "\n",
    "style = ['-', '-']"
   ]
  },
  {
   "cell_type": "code",
   "execution_count": null,
   "metadata": {},
   "outputs": [],
   "source": [
    "kunits = 's^-1'\n",
    "\n",
    "kinetics = [\n",
    "    Arrhenius(A=(1.1e+13,'s^-1'), n=0, Ea=(23.55,'kcal/mol'), T0=(1,'K')),\n",
    "    Arrhenius(A=(5.36319e+08,'s^-1'), n=1.27702, Ea=(118.685,'kJ/mol'), T0=(1,'K')),\n",
    "    Arrhenius(A=(0.827841,'s^-1'), n=4.75159, Ea=(107.047,'kJ/mol'), T0=(1,'K')),\n",
    "    Arrhenius(A=(2.85359,'s^-1'), n=4.60216, Ea=(93.3951,'kJ/mol'), T0=(1,'K')),\n",
    "]\n",
    "\n",
    "labels = [\n",
    "    'Ritter et al.',\n",
    "    'uCCSD(T)/cc-pVDZ (Comandini)',\n",
    "    'RMG - 1',\n",
    "    'RMG - 2',\n",
    "]\n",
    "\n",
    "style = ['-', '-', '--', '--']"
   ]
  },
  {
   "cell_type": "code",
   "execution_count": null,
   "metadata": {},
   "outputs": [],
   "source": [
    "kunits = 'cm^3/(mol*s)'\n",
    "\n",
    "kinetics = [\n",
    "    Arrhenius(A=(4.1e+13,'cm^3/(mol*s)'), n=0, Ea=(36.733,'kJ/mol'), T0=(1,'K')),\n",
    "    Arrhenius(A=(2.0e+13,'cm^3/(mol*s)'), n=0, Ea=(4,'kcal/mol'), T0=(1,'K')),\n",
    "    Arrhenius(A=(6.11295e+07,'cm^3/(mol*s)'), n=1.80616, Ea=(47.505,'kJ/mol'), T0=(1,'K')),\n",
    "    Arrhenius(A=(6.44943e+07,'cm^3/(mol*s)'), n=1.79818, Ea=(30.4253,'kJ/mol'), T0=(1,'K')),\n",
    "    Arrhenius(A=(77.7482,'m^3/(mol*s)'), n=1.78943, Ea=(23.2749,'kJ/mol'), T0=(1,'K')),\n",
    "]\n",
    "\n",
    "labels = [\n",
    "    'Manion and Tsang',\n",
    "    'Ritter et al.',\n",
    "    'uCCSD(T)/cc-pVDZ (Comandini)',\n",
    "    'CBS-QB3',\n",
    "    'RMG',\n",
    "]\n",
    "\n",
    "\n",
    "style = ['-'] * 5"
   ]
  },
  {
   "cell_type": "code",
   "execution_count": null,
   "metadata": {},
   "outputs": [],
   "source": [
    "pressure = 1e5 # Pa\n",
    "temperature = np.linspace(298, 2000, 20)"
   ]
  },
  {
   "cell_type": "code",
   "execution_count": null,
   "metadata": {
    "scrolled": false
   },
   "outputs": [],
   "source": [
    "plt.style.use('seaborn-talk')\n",
    "\n",
    "fig = plt.figure()\n",
    "\n",
    "for i, rate in enumerate(kinetics):\n",
    "    # Evaluate kinetics\n",
    "    k = []\n",
    "    for t in temperature:\n",
    "        if kunits == 'cm^3/(mol*s)':\n",
    "            k.append(1e6 * rate.getRateCoefficient(t, pressure))\n",
    "        else:\n",
    "            k.append(rate.getRateCoefficient(t, pressure))\n",
    "\n",
    "    x = 1000 / temperature\n",
    "    \n",
    "    plt.semilogy(x, k, style[i])\n",
    "    \n",
    "plt.xlabel('1000/T (K)')\n",
    "plt.ylabel('k (' + kunits + ')')\n",
    "plt.legend(labels, loc=3)\n",
    "\n",
    "plt.savefig('arrhenius_plot.pdf', bbox_inches=\"tight\", pad_inches=0)"
   ]
  },
  {
   "cell_type": "code",
   "execution_count": null,
   "metadata": {},
   "outputs": [],
   "source": []
  }
 ],
 "metadata": {
  "anaconda-cloud": {},
  "kernelspec": {
   "display_name": "Python 2",
   "language": "python",
   "name": "python2"
  },
  "language_info": {
   "codemirror_mode": {
    "name": "ipython",
    "version": 2
   },
   "file_extension": ".py",
   "mimetype": "text/x-python",
   "name": "python",
   "nbconvert_exporter": "python",
   "pygments_lexer": "ipython2",
   "version": "2.7.15"
  }
 },
 "nbformat": 4,
 "nbformat_minor": 1
}
