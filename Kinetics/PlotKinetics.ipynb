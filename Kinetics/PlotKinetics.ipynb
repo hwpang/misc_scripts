{
 "cells": [
  {
   "cell_type": "code",
   "execution_count": null,
   "metadata": {
    "collapsed": false
   },
   "outputs": [],
   "source": [
    "%matplotlib inline\n",
    "import matplotlib as mpl\n",
    "import matplotlib.pyplot as plt\n",
    "import numpy as np\n",
    "\n",
    "from rmgpy.chemkin import loadChemkinFile"
   ]
  },
  {
   "cell_type": "code",
   "execution_count": null,
   "metadata": {
    "collapsed": false
   },
   "outputs": [],
   "source": [
    "chemkin = '/home/mjliu/Documents/1.inp'\n",
    "dictionary = '/home/mjliu/Documents/species_dictionary.txt'"
   ]
  },
  {
   "cell_type": "code",
   "execution_count": null,
   "metadata": {
    "collapsed": false
   },
   "outputs": [],
   "source": [
    "# Load chemkin file\n",
    "species, reactions = loadChemkinFile(chemkin, dictionary)"
   ]
  },
  {
   "cell_type": "code",
   "execution_count": null,
   "metadata": {
    "collapsed": true
   },
   "outputs": [],
   "source": [
    "pressure = 1e5 # Pa\n",
    "temperature = np.linspace(298, 2000, 20)"
   ]
  },
  {
   "cell_type": "code",
   "execution_count": null,
   "metadata": {
    "collapsed": false
   },
   "outputs": [],
   "source": [
    "plt.style.use('seaborn-talk')\n",
    "\n",
    "for reaction in reactions:\n",
    "    # Get kinetics\n",
    "    k = []\n",
    "    for t in temperature:\n",
    "        k.append(reaction.kinetics.getRateCoefficient(t, pressure))\n",
    "    \n",
    "    fig = plt.figure()\n",
    "\n",
    "    x = 1000 / temperature\n",
    "    y = np.log10(k)\n",
    "    plt.plot(x, y)\n",
    "\n",
    "    plt.xlabel('1000/T (K)')\n",
    "    plt.ylabel('log(k)')\n",
    "    plt.title(str(reaction))\n",
    "    \n",
    "    # Get reverse kinetics\n",
    "    reverse = reaction.generateReverseRateCoefficient()\n",
    "    krev = []\n",
    "    for t in temperature:\n",
    "        krev.append(reverse.getRateCoefficient(t, pressure))\n",
    "    \n",
    "    fig = plt.figure()\n",
    "\n",
    "    x = 1000 / temperature\n",
    "    y = np.log10(krev)\n",
    "    plt.plot(x, y)\n",
    "\n",
    "    plt.xlabel('1000/T (K)')\n",
    "    plt.ylabel('log(k)')\n",
    "    plt.title(str(reaction) + ' :: Reverse Rate')"
   ]
  },
  {
   "cell_type": "code",
   "execution_count": null,
   "metadata": {
    "collapsed": true
   },
   "outputs": [],
   "source": []
  }
 ],
 "metadata": {
  "anaconda-cloud": {},
  "kernelspec": {
   "display_name": "Python [conda env:rmg_env]",
   "language": "python",
   "name": "conda-env-rmg_env-py"
  },
  "language_info": {
   "codemirror_mode": {
    "name": "ipython",
    "version": 2
   },
   "file_extension": ".py",
   "mimetype": "text/x-python",
   "name": "python",
   "nbconvert_exporter": "python",
   "pygments_lexer": "ipython2",
   "version": "2.7.12"
  }
 },
 "nbformat": 4,
 "nbformat_minor": 1
}
