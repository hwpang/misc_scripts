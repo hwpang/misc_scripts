{
 "cells": [
  {
   "cell_type": "code",
   "execution_count": 1,
   "metadata": {
    "collapsed": true
   },
   "outputs": [],
   "source": [
    "import os\n",
    "from IPython.display import Image\n",
    "\n",
    "import rmgpy\n",
    "from rmgpy.data.kinetics import KineticsDatabase\n",
    "import pydot"
   ]
  },
  {
   "cell_type": "code",
   "execution_count": 2,
   "metadata": {
    "collapsed": false
   },
   "outputs": [],
   "source": [
    "label = 'Intra_R_Add_Endocyclic'\n",
    "databasePath = rmgpy.settings['database.directory']\n",
    "familyPath = os.path.join(databasePath, 'kinetics', 'families')\n",
    "\n",
    "kinetics = KineticsDatabase()\n",
    "kinetics.loadFamilies(familyPath, families=[label])\n"
   ]
  },
  {
   "cell_type": "code",
   "execution_count": 6,
   "metadata": {
    "collapsed": false
   },
   "outputs": [
    {
     "data": {
      "text/plain": [
       "<Entry index=9 label=\"R4\">"
      ]
     },
     "execution_count": 6,
     "metadata": {},
     "output_type": "execute_result"
    }
   ],
   "source": [
    "kinetics.families[label].groups.entries['R4_D'].parent"
   ]
  },
  {
   "cell_type": "code",
   "execution_count": 84,
   "metadata": {
    "collapsed": false
   },
   "outputs": [
    {
     "data": {
      "image/png": "[encoded data removed]",
      "text/plain": [
       "<IPython.core.display.Image object>"
      ]
     },
     "execution_count": 84,
     "metadata": {},
     "output_type": "execute_result"
    }
   ],
   "source": [
    "def drawGroup(group):\n",
    "    graph = pydot.Dot(graph_type='graph', dpi=\"52\")\n",
    "    for index, atom in enumerate(group.atoms):\n",
    "        atomType = '{0!s} '.format(atom.label if atom.label != '' else '')\n",
    "        atomType += ','.join([atomType.label for atomType in atom.atomType])\n",
    "        atomType = '\"' + atomType + '\"'\n",
    "        graph.add_node(pydot.Node(name=str(index+1), label=atomType, fontname='Helvetica', fontsize=\"16\"))\n",
    "    for atom1 in group.atoms:\n",
    "        for atom2, bond in atom1.bonds.iteritems():\n",
    "            index1 = group.atoms.index(atom1)\n",
    "            index2 = group.atoms.index(atom2)\n",
    "            if index1 < index2:\n",
    "                bondType = ','.join([order for order in bond.order])\n",
    "                bondType = '\"' + bondType + '\"'\n",
    "                graph.add_edge(pydot.Edge(\n",
    "                    src = str(index1+1),\n",
    "                    dst = str(index2+1),\n",
    "                    label = bondType,\n",
    "                    fontname='Helvetica', fontsize = \"16\",\n",
    "                ))\n",
    "\n",
    "png = graph.create_png(prog='neato')\n",
    "Image(png)"
   ]
  },
  {
   "cell_type": "code",
   "execution_count": null,
   "metadata": {
    "collapsed": true
   },
   "outputs": [],
   "source": [
    "groups = []\n",
    "graph2 = pydot.Dot(graph_type='graph', dpi='90')\n",
    "for label, entry in kinetics.families[label].groups.entries.iteritems():\n",
    "    groups.append((entry.level, label, ))"
   ]
  }
 ],
 "metadata": {
  "anaconda-cloud": {},
  "kernelspec": {
   "display_name": "Python [conda env:rmg_env]",
   "language": "python",
   "name": "conda-env-rmg_env-py"
  },
  "language_info": {
   "codemirror_mode": {
    "name": "ipython",
    "version": 2
   },
   "file_extension": ".py",
   "mimetype": "text/x-python",
   "name": "python",
   "nbconvert_exporter": "python",
   "pygments_lexer": "ipython2",
   "version": "2.7.12"
  }
 },
 "nbformat": 4,
 "nbformat_minor": 1
}
