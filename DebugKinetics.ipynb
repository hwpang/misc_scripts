{
 "cells": [
  {
   "cell_type": "code",
   "execution_count": 3,
   "metadata": {
    "collapsed": true
   },
   "outputs": [],
   "source": [
    "import rmgpy\n",
    "from rmgpy.data.rmg import RMGDatabase\n",
    "from rmgpy.reaction import Reaction\n",
    "from rmgpy.molecule.molecule import Molecule"
   ]
  },
  {
   "cell_type": "code",
   "execution_count": 1,
   "metadata": {
    "collapsed": false
   },
   "outputs": [],
   "source": [
    "databasePath = rmgpy.settings['database.directory']\n",
    "\n",
    "database = RMGDatabase()\n",
    "database.load(\n",
    "    path = databasePath,\n",
    "    thermoLibraries = [],\n",
    "    reactionLibraries = [],\n",
    "    seedMechanisms = [],\n",
    "    kineticsFamilies = ['H_Abstraction'],\n",
    "    )"
   ]
  },
  {
   "cell_type": "code",
   "execution_count": 8,
   "metadata": {
    "collapsed": false
   },
   "outputs": [],
   "source": [
    "reactants = [\n",
    "    Molecule().fromAdjacencyList(\"\"\"multiplicity 2\n",
    "1  C u0 p0 c0 {3,S} {4,D} {7,S}\n",
    "2  C u0 p0 c0 {5,S} {6,D} {8,S}\n",
    "3  C u0 p0 c0 {1,S} {5,D} {10,S}\n",
    "4  C u0 p0 c0 {1,D} {6,S} {12,S}\n",
    "5  C u0 p0 c0 {2,S} {3,D} {9,S}\n",
    "6  C u0 p0 c0 {2,D} {4,S} {11,S}\n",
    "7  C u0 p0 c0 {1,S} {13,D} {14,S}\n",
    "8  O u0 p2 c0 {2,S} {15,S}\n",
    "9  H u0 p0 c0 {5,S}\n",
    "10 H u0 p0 c0 {3,S}\n",
    "11 H u0 p0 c0 {6,S}\n",
    "12 O u1 p2 c0 {4,S}\n",
    "13 O u0 p2 c0 {7,D}\n",
    "14 H u0 p0 c0 {7,S}\n",
    "15 H u0 p0 c0 {8,S}\"\"\"), \n",
    "    Molecule().fromAdjacencyList(\"\"\"multiplicity 2\n",
    "1  C u0 p0 c0 {2,B} {3,B} {7,S}\n",
    "2  C u0 p0 c0 {1,B} {4,B} {8,S}\n",
    "3  C u0 p0 c0 {1,B} {6,B} {11,S}\n",
    "4  C u0 p0 c0 {2,B} {5,B} {12,S}\n",
    "5  C u0 p0 c0 {4,B} {6,B} {9,S}\n",
    "6  C u0 p0 c0 {3,B} {5,B} {10,S}\n",
    "7  C u0 p0 c0 {1,S} {13,D} {14,S}\n",
    "8  O u0 p2 c0 {2,S} {15,S}\n",
    "9  O u1 p2 c0 {5,S}\n",
    "10 H u0 p0 c0 {6,S}\n",
    "11 H u0 p0 c0 {3,S}\n",
    "12 H u0 p0 c0 {4,S}\n",
    "13 O u0 p2 c0 {7,D}\n",
    "14 H u0 p0 c0 {7,S}\n",
    "15 H u0 p0 c0 {8,S}\"\"\")]"
   ]
  },
  {
   "cell_type": "code",
   "execution_count": 10,
   "metadata": {
    "collapsed": false
   },
   "outputs": [],
   "source": [
    "reactions = database.kinetics.families['H_Abstraction'].generateReactions(reactants)"
   ]
  },
  {
   "cell_type": "code",
   "execution_count": 11,
   "metadata": {
    "collapsed": false
   },
   "outputs": [
    {
     "data": {
      "image/png": "[encoded data removed]",
      "text/plain": [
       "Reaction(reactants=[Molecule(SMILES=\"[O]C1C=C(O)C=CC=1C=O\"), Molecule(SMILES=\"[O]c1ccc(C=O)c(O)c1\")], products=[Molecule(SMILES=\"O=Cc1ccc(O)cc1O\"), Molecule(SMILES=\"[O]C1C=C(O)[C]=CC=1C=O\")], pairs=[[Molecule(SMILES=\"[O]C1C=C(O)C=CC=1C=O\"), Molecule(SMILES=\"[O]C1C=C(O)[C]=CC=1C=O\")], [Molecule(SMILES=\"[O]c1ccc(C=O)c(O)c1\"), Molecule(SMILES=\"O=Cc1ccc(O)cc1O\")]])"
      ]
     },
     "execution_count": 11,
     "metadata": {},
     "output_type": "execute_result"
    }
   ],
   "source": [
    "reactions[0]"
   ]
  },
  {
   "cell_type": "code",
   "execution_count": null,
   "metadata": {
    "collapsed": true
   },
   "outputs": [],
   "source": [
    "\"\"\"\n",
    "Error: Expecting one matching reverse reaction, not 2 in reaction family H_Abstraction for forward reaction \n",
    "    <Molecule \"[O]C1C=C(O)C=CC=1C=O\"> + <Molecule \"[O]c1ccc(C=O)c(O)c1\"> <=> \n",
    "    <Molecule \"O=Cc1ccc(O)cc1O\"> + <Molecule \"[O]C1C=CC(C=O)=C([O])C=1\">.\n",
    "\"\"\""
   ]
  }
 ],
 "metadata": {
  "anaconda-cloud": {},
  "kernelspec": {
   "display_name": "Python [conda env:rmg_env]",
   "language": "python",
   "name": "conda-env-rmg_env-py"
  },
  "language_info": {
   "codemirror_mode": {
    "name": "ipython",
    "version": 2
   },
   "file_extension": ".py",
   "mimetype": "text/x-python",
   "name": "python",
   "nbconvert_exporter": "python",
   "pygments_lexer": "ipython2",
   "version": "2.7.12"
  }
 },
 "nbformat": 4,
 "nbformat_minor": 1
}
