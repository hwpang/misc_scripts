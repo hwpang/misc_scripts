{
 "cells": [
  {
   "cell_type": "code",
   "execution_count": null,
   "metadata": {},
   "outputs": [],
   "source": [
    "from rmgpy.data.base import Database, Entry\n",
    "from rmgpy.species import Species\n",
    "from rmgpy.molecule import Molecule, Group\n",
    "\n",
    "from IPython.display import display"
   ]
  },
  {
   "cell_type": "code",
   "execution_count": null,
   "metadata": {},
   "outputs": [],
   "source": [
    "grp = Group().fromAdjacencyList(\"\"\"\n",
    "1  C u0 p0 c0 {3,S} {6,S} {7,S} {8,S}\n",
    "2  C u0 p0 c0 {4,S} {5,D} {6,S}\n",
    "3  C u0 p0 c0 {1,S} {4,D} {9,S}\n",
    "4  C u0 p0 c0 {2,S} {3,D} {10,S}\n",
    "5  C u0 p0 c0 {2,D} {11,S} {12,S}\n",
    "6  C u0 p1 c0 {1,S} {2,S}\n",
    "7  H u0 p0 c0 {1,S}\n",
    "8  H u0 p0 c0 {1,S}\n",
    "9  H u0 p0 c0 {3,S}\n",
    "10 H u0 p0 c0 {4,S}\n",
    "11 H u0 p0 c0 {5,S}\n",
    "12 H u0 p0 c0 {5,S}\n",
    "\"\"\")\n",
    "\n",
    "template = Group().fromAdjacencyList(\"\"\"\n",
    "1 *4 [CS,CO,Cd] u0 {2,D} {4,S}\n",
    "2 *3 [CS,CO,Cd] u0 {1,D} {5,S}\n",
    "3 *1 C          u0 {4,S} {5,S}\n",
    "4 *5 Cs         u0 p[1,2,3,4] {1,S} {3,S}\n",
    "5 *2 C          u0 {2,S} {3,S}\n",
    "\"\"\")"
   ]
  },
  {
   "cell_type": "code",
   "execution_count": null,
   "metadata": {},
   "outputs": [],
   "source": [
    "grp.isSubgraphIsomorphic(template)"
   ]
  },
  {
   "cell_type": "code",
   "execution_count": null,
   "metadata": {},
   "outputs": [],
   "source": [
    "parent = Group().fromAdjacencyList(\"\"\"\n",
    "1  *1  R!H u1 {2,[S,D,T,B]}\n",
    "2  *4  R!H ux {1,[S,D,T,B]} {3,[S,D,T,B]}\n",
    "3  *6  R!H ux {2,[S,D,T,B]} {4,[S,D,T,B]}\n",
    "4  *7  R!H ux {3,[S,D,T,B]} {5,[S,D,T,B]}\n",
    "5  *8  R!H ux {4,[S,D,T,B]} {6,[S,D,T,B]}\n",
    "6  *9  R!H ux {5,[S,D,T,B]} {7,[S,D,T,B]}\n",
    "7  *10 R!H ux {6,[S,D,T,B]} {8,[S,D,T,B]}\n",
    "8  *5  R!H ux {7,[S,D,T,B]} {9,[S,D,T,B]}\n",
    "9  *2  R!H u0 {8,[S,D,T,B]} {10,[D,T,B]}\n",
    "10 *3  R!H u0 c0 {9,[D,T,B]}\n",
    "\"\"\")\n",
    "\n",
    "child = Group().fromAdjacencyList(\"\"\"\n",
    "1  *3  R!H u0 c0 r1 {2,[D,T]} {8,[S,D,T,B]}\n",
    "2  *2  R!H u0 r1 {1,[D,T]} {3,[S,D,T,B]}\n",
    "3  *5  R!H ux r1 {2,[S,D,T,B]} {4,[S,D,T,B]}\n",
    "4  *10 R!H ux r1 {3,[S,D,T,B]} {5,[S,D,T,B]}\n",
    "5  *9  R!H ux r1 {4,[S,D,T,B]} {6,[S,D,T,B]}\n",
    "6  *8  R!H ux r1 {5,[S,D,T,B]} {7,[S,D,T,B]}\n",
    "7  *7  R!H ux r1 {6,[S,D,T,B]} {8,[S,D,T,B]}\n",
    "8  *6  R!H ux r1 {1,[S,D,T,B]} {7,[S,D,T,B]} {9,[S,D,T,B]}\n",
    "9  *4  R!H ux {8,[S,D,T,B]} {10,[S,D,T,B]}\n",
    "10 *1  R!H u1 r0 {9,[S,D,T,B]}\n",
    "\"\"\")\n",
    "\n",
    "print Database().matchNodeToStructure(Entry(item=parent), child, atoms=child.getLabeledAtoms(), strict=True)\n",
    "print Database().matchNodeToStructure(Entry(item=child), parent, atoms=child.getLabeledAtoms(), strict=True)"
   ]
  },
  {
   "cell_type": "code",
   "execution_count": null,
   "metadata": {},
   "outputs": [],
   "source": [
    "child.isSubgraphIsomorphic(parent)"
   ]
  },
  {
   "cell_type": "code",
   "execution_count": null,
   "metadata": {},
   "outputs": [],
   "source": []
  }
 ],
 "metadata": {
  "anaconda-cloud": {},
  "kernelspec": {
   "display_name": "Python 2",
   "language": "python",
   "name": "python2"
  },
  "language_info": {
   "codemirror_mode": {
    "name": "ipython",
    "version": 2
   },
   "file_extension": ".py",
   "mimetype": "text/x-python",
   "name": "python",
   "nbconvert_exporter": "python",
   "pygments_lexer": "ipython2",
   "version": "2.7.15"
  }
 },
 "nbformat": 4,
 "nbformat_minor": 1
}
