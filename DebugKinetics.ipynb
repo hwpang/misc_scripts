{
 "cells": [
  {
   "cell_type": "code",
   "execution_count": 1,
   "metadata": {
    "collapsed": true
   },
   "outputs": [],
   "source": [
    "import rmgpy\n",
    "from rmgpy.data.rmg import RMGDatabase\n",
    "from rmgpy.reaction import Reaction\n",
    "from rmgpy.molecule.molecule import Molecule"
   ]
  },
  {
   "cell_type": "code",
   "execution_count": 2,
   "metadata": {
    "collapsed": false
   },
   "outputs": [],
   "source": [
    "databasePath = rmgpy.settings['database.directory']\n",
    "\n",
    "database = RMGDatabase()\n",
    "database.load(\n",
    "    path = databasePath,\n",
    "    thermoLibraries = [],\n",
    "    reactionLibraries = [],\n",
    "    seedMechanisms = [],\n",
    "    kineticsFamilies = ['H_Abstraction'],\n",
    "    )"
   ]
  },
  {
   "cell_type": "code",
   "execution_count": 46,
   "metadata": {
    "collapsed": false
   },
   "outputs": [],
   "source": [
    "reactants = [\n",
    "    Molecule().fromAdjacencyList(\"\"\"multiplicity 2\n",
    "1  C u0 p0 c0 {3,S} {4,D} {7,S}\n",
    "2  C u0 p0 c0 {5,S} {6,D} {8,S}\n",
    "3  C u0 p0 c0 {1,S} {5,D} {10,S}\n",
    "4  C u0 p0 c0 {1,D} {6,S} {12,S}\n",
    "5  C u0 p0 c0 {2,S} {3,D} {9,S}\n",
    "6  C u0 p0 c0 {2,D} {4,S} {11,S}\n",
    "7  C u0 p0 c0 {1,S} {13,D} {14,S}\n",
    "8  O u0 p2 c0 {2,S} {15,S}\n",
    "9  H u0 p0 c0 {5,S}\n",
    "10 H u0 p0 c0 {3,S}\n",
    "11 H u0 p0 c0 {6,S}\n",
    "12 O u1 p2 c0 {4,S}\n",
    "13 O u0 p2 c0 {7,D}\n",
    "14 H u0 p0 c0 {7,S}\n",
    "15 H u0 p0 c0 {8,S}\n",
    "\"\"\"), \n",
    "    Molecule().fromAdjacencyList(\"\"\"multiplicity 2\n",
    "1  C u0 p0 c0 {2,B} {3,B} {7,S}\n",
    "2  C u0 p0 c0 {1,B} {4,B} {8,S}\n",
    "3  C u0 p0 c0 {1,B} {6,B} {11,S}\n",
    "4  C u0 p0 c0 {2,B} {5,B} {12,S}\n",
    "5  C u0 p0 c0 {4,B} {6,B} {9,S}\n",
    "6  C u0 p0 c0 {3,B} {5,B} {10,S}\n",
    "7  C u0 p0 c0 {1,S} {13,D} {14,S}\n",
    "8  O u0 p2 c0 {2,S} {15,S}\n",
    "9  O u1 p2 c0 {5,S}\n",
    "10 H u0 p0 c0 {6,S}\n",
    "11 H u0 p0 c0 {3,S}\n",
    "12 H u0 p0 c0 {4,S}\n",
    "13 O u0 p2 c0 {7,D}\n",
    "14 H u0 p0 c0 {7,S}\n",
    "15 H u0 p0 c0 {8,S}\n",
    "\"\"\")]"
   ]
  },
  {
   "cell_type": "code",
   "execution_count": 68,
   "metadata": {
    "collapsed": false
   },
   "outputs": [
    {
     "name": "stderr",
     "output_type": "stream",
     "text": [
      "ERROR:root:Expecting one matching reverse reaction, not 2 in reaction family H_Abstraction for forward reaction <Molecule \"[O]C1C=C(O)C=CC=1C=O\"> + <Molecule \"[O]c1ccc(C=O)c(O)c1\"> <=> <Molecule \"O=Cc1ccc(O)cc1O\"> + <Molecule \"[O]C1C=CC(C=O)=C([O])C=1\">.\n",
      "\n",
      "ERROR:root:There is likely a bug in the RMG-database kinetics reaction family involving a missing group, missing atomlabels, forbidden groups, etc.\n",
      "ERROR:root:Debugging why no reaction was found...\n",
      "ERROR:root:Checking whether the family's forbidden species have affected reaction generation...\n",
      "ERROR:root:Error was fixed, the product is a forbidden structure when used as a reactant in the reverse direction.\n",
      "ERROR:root:Expecting one matching reverse reaction, not 2 in reaction family H_Abstraction for forward reaction <Molecule \"[O]C1C=C(O)C=CC=1C=O\"> + <Molecule \"[O]c1ccc(C=O)c(O)c1\"> <=> <Molecule \"O=Cc1ccc(O)cc1O\"> + <Molecule \"[O]C1C=CC(C=O)=C([O])C=1\">.\n",
      "\n",
      "ERROR:root:There is likely a bug in the RMG-database kinetics reaction family involving a missing group, missing atomlabels, forbidden groups, etc.\n",
      "ERROR:root:Debugging why no reaction was found...\n",
      "ERROR:root:Checking whether the family's forbidden species have affected reaction generation...\n",
      "ERROR:root:Error was fixed, the product is a forbidden structure when used as a reactant in the reverse direction.\n",
      "ERROR:root:Expecting one matching reverse reaction, not 2 in reaction family H_Abstraction for forward reaction <Molecule \"[O]C1C=C(O)C=CC=1C=O\"> + <Molecule \"[O]c1ccc(C=O)c(O)c1\"> <=> <Molecule \"O=Cc1ccc(O)cc1O\"> + <Molecule \"[O]C1C=CC(C=O)=C([O])C=1\">.\n",
      "\n",
      "ERROR:root:There is likely a bug in the RMG-database kinetics reaction family involving a missing group, missing atomlabels, forbidden groups, etc.\n",
      "ERROR:root:Debugging why no reaction was found...\n",
      "ERROR:root:Checking whether the family's forbidden species have affected reaction generation...\n",
      "ERROR:root:Error was fixed, the product is a forbidden structure when used as a reactant in the reverse direction.\n",
      "ERROR:root:Expecting one matching reverse reaction, not 2 in reaction family H_Abstraction for forward reaction <Molecule \"[O]C1C=C(O)C=CC=1C=O\"> + <Molecule \"[O]c1ccc(C=O)c(O)c1\"> <=> <Molecule \"O=Cc1ccc(O)cc1O\"> + <Molecule \"[O]C1C=CC(C=O)=C([O])C=1\">.\n",
      "\n",
      "ERROR:root:There is likely a bug in the RMG-database kinetics reaction family involving a missing group, missing atomlabels, forbidden groups, etc.\n",
      "ERROR:root:Debugging why no reaction was found...\n",
      "ERROR:root:Checking whether the family's forbidden species have affected reaction generation...\n",
      "ERROR:root:Error was fixed, the product is a forbidden structure when used as a reactant in the reverse direction.\n",
      "ERROR:root:Expecting one matching reverse reaction, not 2 in reaction family H_Abstraction for forward reaction <Molecule \"[O]C1C=C(O)C=CC=1C=O\"> + <Molecule \"[O]c1ccc(C=O)c(O)c1\"> <=> <Molecule \"O=Cc1ccc(O)cc1O\"> + <Molecule \"[O]C1C=CC(C=O)=C([O])C=1\">.\n",
      "\n",
      "ERROR:root:There is likely a bug in the RMG-database kinetics reaction family involving a missing group, missing atomlabels, forbidden groups, etc.\n",
      "ERROR:root:Debugging why no reaction was found...\n",
      "ERROR:root:Checking whether the family's forbidden species have affected reaction generation...\n",
      "ERROR:root:Error was fixed, the product is a forbidden structure when used as a reactant in the reverse direction.\n",
      "ERROR:root:Expecting one matching reverse reaction, not 2 in reaction family H_Abstraction for forward reaction <Molecule \"[O]C1C=C(O)C=CC=1C=O\"> + <Molecule \"[O]c1ccc(C=O)c(O)c1\"> <=> <Molecule \"O=Cc1ccc(O)cc1O\"> + <Molecule \"[O]C1C=CC(C=O)=C([O])C=1\">.\n",
      "\n",
      "ERROR:root:There is likely a bug in the RMG-database kinetics reaction family involving a missing group, missing atomlabels, forbidden groups, etc.\n",
      "ERROR:root:Debugging why no reaction was found...\n",
      "ERROR:root:Checking whether the family's forbidden species have affected reaction generation...\n",
      "ERROR:root:Error was fixed, the product is a forbidden structure when used as a reactant in the reverse direction.\n",
      "ERROR:root:Expecting one matching reverse reaction, not 2 in reaction family H_Abstraction for forward reaction <Molecule \"[O]C1C=C(O)C=CC=1C=O\"> + <Molecule \"[O]c1ccc(C=O)c(O)c1\"> <=> <Molecule \"O=Cc1ccc(O)cc1O\"> + <Molecule \"[O]C1C=CC(C=O)=C([O])C=1\">.\n",
      "\n",
      "ERROR:root:There is likely a bug in the RMG-database kinetics reaction family involving a missing group, missing atomlabels, forbidden groups, etc.\n",
      "ERROR:root:Debugging why no reaction was found...\n",
      "ERROR:root:Checking whether the family's forbidden species have affected reaction generation...\n",
      "ERROR:root:Error was fixed, the product is a forbidden structure when used as a reactant in the reverse direction.\n",
      "ERROR:root:Expecting one matching reverse reaction, not 2 in reaction family H_Abstraction for forward reaction <Molecule \"[O]C1C=C(O)C=CC=1C=O\"> + <Molecule \"[O]c1ccc(C=O)c(O)c1\"> <=> <Molecule \"O=Cc1ccc(O)cc1O\"> + <Molecule \"[O]C1C=CC(C=O)=C([O])C=1\">.\n",
      "\n",
      "ERROR:root:There is likely a bug in the RMG-database kinetics reaction family involving a missing group, missing atomlabels, forbidden groups, etc.\n",
      "ERROR:root:Debugging why no reaction was found...\n",
      "ERROR:root:Checking whether the family's forbidden species have affected reaction generation...\n",
      "ERROR:root:Error was fixed, the product is a forbidden structure when used as a reactant in the reverse direction.\n",
      "ERROR:root:Expecting one matching reverse reaction, not 2 in reaction family H_Abstraction for forward reaction <Molecule \"[O]C1C=C(O)C=CC=1C=O\"> + <Molecule \"[O]c1ccc(C=O)c(O)c1\"> <=> <Molecule \"O=Cc1ccc(O)cc1O\"> + <Molecule \"[O]C1C=CC(C=O)=C([O])C=1\">.\n",
      "\n",
      "ERROR:root:There is likely a bug in the RMG-database kinetics reaction family involving a missing group, missing atomlabels, forbidden groups, etc.\n",
      "ERROR:root:Debugging why no reaction was found...\n",
      "ERROR:root:Checking whether the family's forbidden species have affected reaction generation...\n",
      "ERROR:root:Error was fixed, the product is a forbidden structure when used as a reactant in the reverse direction.\n",
      "ERROR:root:Expecting one matching reverse reaction, not 2 in reaction family H_Abstraction for forward reaction <Molecule \"[O]C1C=C(O)C=CC=1C=O\"> + <Molecule \"[O]c1ccc(C=O)c(O)c1\"> <=> <Molecule \"O=Cc1ccc(O)cc1O\"> + <Molecule \"[O]C1C=CC(C=O)=C([O])C=1\">.\n",
      "\n",
      "ERROR:root:There is likely a bug in the RMG-database kinetics reaction family involving a missing group, missing atomlabels, forbidden groups, etc.\n",
      "ERROR:root:Debugging why no reaction was found...\n",
      "ERROR:root:Checking whether the family's forbidden species have affected reaction generation...\n",
      "ERROR:root:Error was fixed, the product is a forbidden structure when used as a reactant in the reverse direction.\n",
      "ERROR:root:Expecting one matching reverse reaction, not 2 in reaction family H_Abstraction for forward reaction <Molecule \"[O]C1C=C(O)C=CC=1C=O\"> + <Molecule \"[O]c1ccc(C=O)c(O)c1\"> <=> <Molecule \"O=Cc1ccc(O)cc1O\"> + <Molecule \"[O]C1C=CC(C=O)=C([O])C=1\">.\n",
      "\n",
      "ERROR:root:There is likely a bug in the RMG-database kinetics reaction family involving a missing group, missing atomlabels, forbidden groups, etc.\n",
      "ERROR:root:Debugging why no reaction was found...\n",
      "ERROR:root:Checking whether the family's forbidden species have affected reaction generation...\n",
      "ERROR:root:Still experiencing error: Expecting one matching reverse reaction, not 2 in reaction family H_Abstraction for forward reaction <Molecule \"[O]C1C=C(O)C=CC=1C=O\"> + <Molecule \"[O]c1ccc(C=O)c(O)c1\"> <=> <Molecule \"O=Cc1ccc(O)cc1O\"> + <Molecule \"[O]C1C=CC(C=O)=C([O])C=1\">.\n",
      "\n"
     ]
    },
    {
     "ename": "KineticsError",
     "evalue": "Did not find reverse reaction in reaction family H_Abstraction for reaction <Molecule \"[O]C1C=C(O)C=CC=1C=O\"> + <Molecule \"[O]c1ccc(C=O)c(O)c1\"> <=> <Molecule \"O=Cc1ccc(O)cc1O\"> + <Molecule \"[O]C1C=CC(C=O)=C([O])C=1\">.",
     "output_type": "error",
     "traceback": [
      "\u001b[0;31m---------------------------------------------------------------------------\u001b[0m",
      "\u001b[0;31mKineticsError\u001b[0m                             Traceback (most recent call last)",
      "\u001b[0;32m<ipython-input-68-f468e1f81db0>\u001b[0m in \u001b[0;36m<module>\u001b[0;34m()\u001b[0m\n\u001b[1;32m      1\u001b[0m \u001b[0;32mwhile\u001b[0m \u001b[0mTrue\u001b[0m\u001b[0;34m:\u001b[0m\u001b[0;34m\u001b[0m\u001b[0m\n\u001b[0;32m----> 2\u001b[0;31m     \u001b[0mdatabase\u001b[0m\u001b[0;34m.\u001b[0m\u001b[0mkinetics\u001b[0m\u001b[0;34m.\u001b[0m\u001b[0mfamilies\u001b[0m\u001b[0;34m[\u001b[0m\u001b[0;34m'H_Abstraction'\u001b[0m\u001b[0;34m]\u001b[0m\u001b[0;34m.\u001b[0m\u001b[0mgenerateReactions\u001b[0m\u001b[0;34m(\u001b[0m\u001b[0mreactants\u001b[0m\u001b[0;34m)\u001b[0m\u001b[0;34m\u001b[0m\u001b[0m\n\u001b[0m",
      "\u001b[0;32m/home/mjliu/Code/RMG-Py/rmgpy/data/kinetics/family.pyc\u001b[0m in \u001b[0;36mgenerateReactions\u001b[0;34m(self, reactants)\u001b[0m\n\u001b[1;32m   1334\u001b[0m                     \u001b[0;32mif\u001b[0m \u001b[0mlen\u001b[0m\u001b[0;34m(\u001b[0m\u001b[0mreactions\u001b[0m\u001b[0;34m)\u001b[0m \u001b[0;34m!=\u001b[0m \u001b[0;36m1\u001b[0m\u001b[0;34m:\u001b[0m\u001b[0;34m\u001b[0m\u001b[0m\n\u001b[1;32m   1335\u001b[0m                         \u001b[0mlogging\u001b[0m\u001b[0;34m.\u001b[0m\u001b[0merror\u001b[0m\u001b[0;34m(\u001b[0m\u001b[0;34m\"Still experiencing error: Expecting one matching reverse reaction, not {0} in reaction family {1} for forward reaction {2}.\\n\"\u001b[0m\u001b[0;34m.\u001b[0m\u001b[0mformat\u001b[0m\u001b[0;34m(\u001b[0m\u001b[0mlen\u001b[0m\u001b[0;34m(\u001b[0m\u001b[0mreactions\u001b[0m\u001b[0;34m)\u001b[0m\u001b[0;34m,\u001b[0m \u001b[0mself\u001b[0m\u001b[0;34m.\u001b[0m\u001b[0mlabel\u001b[0m\u001b[0;34m,\u001b[0m \u001b[0mstr\u001b[0m\u001b[0;34m(\u001b[0m\u001b[0mrxn\u001b[0m\u001b[0;34m)\u001b[0m\u001b[0;34m)\u001b[0m\u001b[0;34m)\u001b[0m\u001b[0;34m\u001b[0m\u001b[0m\n\u001b[0;32m-> 1336\u001b[0;31m                         \u001b[0;32mraise\u001b[0m \u001b[0mKineticsError\u001b[0m\u001b[0;34m(\u001b[0m\u001b[0;34m\"Did not find reverse reaction in reaction family {0} for reaction {1}.\"\u001b[0m\u001b[0;34m.\u001b[0m\u001b[0mformat\u001b[0m\u001b[0;34m(\u001b[0m\u001b[0mself\u001b[0m\u001b[0;34m.\u001b[0m\u001b[0mlabel\u001b[0m\u001b[0;34m,\u001b[0m \u001b[0mstr\u001b[0m\u001b[0;34m(\u001b[0m\u001b[0mrxn\u001b[0m\u001b[0;34m)\u001b[0m\u001b[0;34m)\u001b[0m\u001b[0;34m)\u001b[0m\u001b[0;34m\u001b[0m\u001b[0m\n\u001b[0m\u001b[1;32m   1337\u001b[0m                     \u001b[0;32melse\u001b[0m\u001b[0;34m:\u001b[0m\u001b[0;34m\u001b[0m\u001b[0m\n\u001b[1;32m   1338\u001b[0m                         \u001b[0mlogging\u001b[0m\u001b[0;34m.\u001b[0m\u001b[0merror\u001b[0m\u001b[0;34m(\u001b[0m\u001b[0;34m\"Error was fixed, the product is a forbidden structure when used as a reactant in the reverse direction.\"\u001b[0m\u001b[0;34m)\u001b[0m\u001b[0;34m\u001b[0m\u001b[0m\n",
      "\u001b[0;31mKineticsError\u001b[0m: Did not find reverse reaction in reaction family H_Abstraction for reaction <Molecule \"[O]C1C=C(O)C=CC=1C=O\"> + <Molecule \"[O]c1ccc(C=O)c(O)c1\"> <=> <Molecule \"O=Cc1ccc(O)cc1O\"> + <Molecule \"[O]C1C=CC(C=O)=C([O])C=1\">."
     ]
    }
   ],
   "source": [
    "while True:\n",
    "    database.kinetics.families['H_Abstraction'].generateReactions(reactants)"
   ]
  },
  {
   "cell_type": "code",
   "execution_count": 84,
   "metadata": {
    "collapsed": false
   },
   "outputs": [],
   "source": [
    "out = reactants[1].generateResonanceIsomers()"
   ]
  },
  {
   "cell_type": "code",
   "execution_count": 90,
   "metadata": {
    "collapsed": false
   },
   "outputs": [
    {
     "data": {
      "image/png": "[encoded data removed]",
      "text/plain": [
       "Molecule(SMILES=\"[O]C1=CC=C(C=O)C(O)=C1\")"
      ]
     },
     "execution_count": 90,
     "metadata": {},
     "output_type": "execute_result"
    }
   ],
   "source": [
    "out[5]"
   ]
  },
  {
   "cell_type": "code",
   "execution_count": null,
   "metadata": {
    "collapsed": true
   },
   "outputs": [],
   "source": []
  }
 ],
 "metadata": {
  "anaconda-cloud": {},
  "kernelspec": {
   "display_name": "Python [conda env:rmg_env]",
   "language": "python",
   "name": "conda-env-rmg_env-py"
  },
  "language_info": {
   "codemirror_mode": {
    "name": "ipython",
    "version": 2
   },
   "file_extension": ".py",
   "mimetype": "text/x-python",
   "name": "python",
   "nbconvert_exporter": "python",
   "pygments_lexer": "ipython2",
   "version": "2.7.12"
  }
 },
 "nbformat": 4,
 "nbformat_minor": 1
}
