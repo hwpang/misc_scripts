{
 "cells": [
  {
   "cell_type": "code",
   "execution_count": null,
   "metadata": {
    "collapsed": false
   },
   "outputs": [],
   "source": [
    "import os.path\n",
    "import math\n",
    "import rmgpy\n",
    "import rmgpy.constants as constants\n",
    "from rmgpy.data.rmg import RMGDatabase\n",
    "from rmgpy.thermo.nasa import NASA, NASAPolynomial\n",
    "from rmgpy.species import Species"
   ]
  },
  {
   "cell_type": "code",
   "execution_count": null,
   "metadata": {
    "collapsed": true
   },
   "outputs": [],
   "source": [
    "databasePath = rmgpy.settings['database.directory']\n",
    "\n",
    "database = RMGDatabase()\n",
    "database.load(\n",
    "    path = databasePath,\n",
    "    thermoLibraries = [],\n",
    "    reactionLibraries = [],\n",
    "    seedMechanisms = [],\n",
    "    kineticsFamilies = 'none'\n",
    "    )"
   ]
  },
  {
   "cell_type": "code",
   "execution_count": null,
   "metadata": {
    "collapsed": false
   },
   "outputs": [],
   "source": [
    "species = Species().fromAdjacencyList(\"\"\"\n",
    "1  C u0 p0 c0 {2,S} {5,S} {6,S} {12,S}\n",
    "2  C u0 p0 c0 {1,S} {3,B} {4,B}\n",
    "3  C u0 p0 c0 {2,B} {8,S} {9,B}\n",
    "4  C u0 p0 c0 {2,B} {7,S} {10,B}\n",
    "5  C u0 p0 c0 {1,S} {7,D} {13,S}\n",
    "6  C u0 p0 c0 {1,S} {8,D} {14,S}\n",
    "7  C u0 p0 c0 {4,S} {5,D} {18,S}\n",
    "8  C u0 p0 c0 {3,S} {6,D} {19,S}\n",
    "9  C u0 p0 c0 {3,B} {11,B} {15,S}\n",
    "10 C u0 p0 c0 {4,B} {11,B} {17,S}\n",
    "11 C u0 p0 c0 {9,B} {10,B} {16,S}\n",
    "12 H u0 p0 c0 {1,S}\n",
    "13 H u0 p0 c0 {5,S}\n",
    "14 H u0 p0 c0 {6,S}\n",
    "15 H u0 p0 c0 {9,S}\n",
    "16 H u0 p0 c0 {11,S}\n",
    "17 H u0 p0 c0 {10,S}\n",
    "18 H u0 p0 c0 {7,S}\n",
    "19 H u0 p0 c0 {8,S}\n",
    "\"\"\")\n",
    "\n",
    "species.thermo = NASA(\n",
    "    polynomials = [\n",
    "        NASAPolynomial(\n",
    "            coeffs = [3.85367, 0.00828265, 0.000234702, -4.14957e-07, 2.24313e-10, 43623.5, 11.5197],\n",
    "            Tmin = (10, 'K'),\n",
    "            Tmax = (586.277, 'K'),\n",
    "        ),\n",
    "        NASAPolynomial(\n",
    "            coeffs = [-3.54321, 0.0918488, -6.37889e-05, 2.07596e-08, -2.54734e-12, 43922, 38.4044],\n",
    "            Tmin = (586.277, 'K'),\n",
    "            Tmax = (3000, 'K'),\n",
    "        ),\n",
    "    ],\n",
    "    Tmin = (10, 'K'),\n",
    "    Tmax = (3000, 'K'),\n",
    "    E0 = (362.64, 'kJ/mol'),\n",
    "    Cp0 = (33.2579, 'J/(mol*K)'),\n",
    "    CpInf = (457.296, 'J/(mol*K)'),\n",
    ")"
   ]
  },
  {
   "cell_type": "code",
   "execution_count": null,
   "metadata": {
    "collapsed": false
   },
   "outputs": [],
   "source": [
    "thermo = species.thermo.toThermoData()\n",
    "print thermo\n",
    "thermo = subtractThermoData(thermo, database.thermo.groups['group'].entries['Cds-CdsCbH'].data)\n",
    "thermo = addThermoData(thermo, database.thermo.groups['group'].entries['Cds-CdsCbCs'].data)\n",
    "thermo = addThermoData(thermo, database.thermo.groups['group'].entries['Cs-(Cds-Cds)HHH'].data)\n",
    "print thermo\n",
    "thermo.S298.value_si -= constants.R * math.log(3)\n",
    "print thermo"
   ]
  },
  {
   "cell_type": "code",
   "execution_count": null,
   "metadata": {
    "collapsed": true
   },
   "outputs": [],
   "source": [
    "def addThermoData(thermoData1, thermoData2):\n",
    "    \"\"\"\n",
    "    Add the thermodynamic data `thermoData2` to the data `thermoData1`,\n",
    "    and return `thermoData1`.\n",
    "    \"\"\"\n",
    "    for i in range(thermoData1.Tdata.value_si.shape[0]):\n",
    "        thermoData1.Cpdata.value_si[i] += thermoData2.Cpdata.value_si[i]\n",
    "    thermoData1.H298.value_si += thermoData2.H298.value_si\n",
    "    thermoData1.S298.value_si += thermoData2.S298.value_si\n",
    "\n",
    "    return thermoData1\n",
    "\n",
    "def subtractThermoData(thermoData1, thermoData2):\n",
    "    \"\"\"\n",
    "    Subtract the thermodynamic data `thermoData2` from the data `thermoData1`,\n",
    "    and return `thermoData1`.\n",
    "    \"\"\"\n",
    "    for i in range(thermoData1.Tdata.value_si.shape[0]):\n",
    "        thermoData1.Cpdata.value_si[i] -= thermoData2.Cpdata.value_si[i]\n",
    "    thermoData1.H298.value_si -= thermoData2.H298.value_si\n",
    "    thermoData1.S298.value_si -= thermoData2.S298.value_si\n",
    "\n",
    "    return thermoData1"
   ]
  },
  {
   "cell_type": "code",
   "execution_count": null,
   "metadata": {
    "collapsed": true
   },
   "outputs": [],
   "source": []
  }
 ],
 "metadata": {
  "anaconda-cloud": {},
  "kernelspec": {
   "display_name": "Python [conda env:rmg_env]",
   "language": "python",
   "name": "conda-env-rmg_env-py"
  },
  "language_info": {
   "codemirror_mode": {
    "name": "ipython",
    "version": 2
   },
   "file_extension": ".py",
   "mimetype": "text/x-python",
   "name": "python",
   "nbconvert_exporter": "python",
   "pygments_lexer": "ipython2",
   "version": "2.7.12"
  }
 },
 "nbformat": 4,
 "nbformat_minor": 1
}
